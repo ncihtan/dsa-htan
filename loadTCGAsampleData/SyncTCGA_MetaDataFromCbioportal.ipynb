{
 "cells": [
  {
   "cell_type": "code",
   "execution_count": null,
   "metadata": {},
   "outputs": [],
   "source": [
    "## I am going to use the swagger API client for cbioportal to generate some basic folders structure\n",
    "## for the data set\n",
    "import tqdm\n",
    "import re\n",
    "import girder_utils as gu\n",
    "import girder_client\n",
    "dccGC = girder_client.GirderClient(apiUrl=\"https://imaging.htan.dev/girder/api/v1\")\n",
    "from bravado.client import SwaggerClient\n",
    "cbioportal = SwaggerClient.from_url('https://www.cbioportal.org/api/api-docs',\n",
    "                                    config={\"validate_requests\":False,\"validate_responses\":False})\n",
    "#https://docs.cbioportal.org/6.-web-api-and-clients/api-and-api-clients\n",
    "\n",
    "tcga2OpenFolderId = '5fbc102f79c054aa9327869e'\n",
    "matchTCGAsvs = re.compile(r'(?P<tcgaID>TCGA-..-....).*(?P<ext>svs)')\n",
    "\n",
    "tcgaSubjFolderCache = {}\n",
    "dccGC.authenticate(interactive=True)"
   ]
  },
  {
   "cell_type": "code",
   "execution_count": null,
   "metadata": {},
   "outputs": [],
   "source": [
    "dir(cbioportal)"
   ]
  },
  {
   "cell_type": "code",
   "execution_count": null,
   "metadata": {},
   "outputs": [],
   "source": [
    "for a in dir(cbioportal):\n",
    "    cbioportal.__setattr__(a.replace(' ', '_').lower(), cbioportal.__getattr__(a))"
   ]
  },
  {
   "cell_type": "code",
   "execution_count": null,
   "metadata": {},
   "outputs": [],
   "source": [
    "for ct in cbioportal.Cancer_Types.getAllCancerTypesUsingGET().result():\n",
    "    print(ct)"
   ]
  },
  {
   "cell_type": "code",
   "execution_count": null,
   "metadata": {},
   "outputs": [],
   "source": [
    "## This will return all of the case sets , I hard coded the ones I am interested in below\n",
    "# tcgaStudyIdList = []\n",
    "# for sl in cbioportal.Sample_Lists.getAllSampleListsUsingGET().result():\n",
    "#     if sl.category == 'all_cases_in_study' and 'tcga' in sl.studyId:\n",
    "#         ### Going to do a subfilter as well... I want all the samples not just the ones used in the pub\n",
    "#         if 'pub' not in sl.studyId:  ## Other logic is to use ends_with \"all\"\n",
    "#             tcgaStudyIdList.append(sl.studyId)\n",
    "\n",
    "## These are the main tcga groups not subdivided based on publications and such\n",
    "tcgaRootCancerTypes = ['acc_tcga', 'cesc_tcga', 'chol_tcga','esca_tcga', 'gbm_tcga','hnsc_tcga',\n",
    " 'kirp_tcga', 'lusc_tcga', 'meso_tcga','thym_tcga', 'thca_tcga', 'ucs_tcga', 'uvm_tcga',\n",
    " 'skcm_tcga', 'paad_tcga', 'pcpg_tcga', 'prad_tcga', 'stad_tcga', 'tgct_tcga', 'kirc_tcga', 'dlbc_tcga', \n",
    " 'lihc_tcga', 'luad_tcga', 'ov_tcga', 'ucec_tcga', 'brca_tcga', 'kich_tcga']"
   ]
  },
  {
   "cell_type": "code",
   "execution_count": null,
   "metadata": {},
   "outputs": [],
   "source": []
  },
  {
   "cell_type": "code",
   "execution_count": null,
   "metadata": {},
   "outputs": [],
   "source": [
    "## I can add an offest if I want to this call\n",
    "import sys\n",
    "class LinePrinter():\n",
    "    \"\"\"\n",
    "    Print things to stdout on one line dynamically\n",
    "    \"\"\"\n",
    "    def __init__(self,data):\n",
    "        sys.stdout.write(\"\\r\\x1b[K\"+data.__str__())\n",
    "        sys.stdout.flush()\n",
    "        \n",
    "def getAllItems( client, folderOrCollectionId, parentType='folder', batchSize = 100, offset=0, debug=False ):\n",
    "    # client is the girder client Object\n",
    "    # I am making this more generic, so I can pass a folder or collection Id\n",
    "    # This now returns a generator so should be more efficient\n",
    "#     itemSet = []\n",
    "    limit = batchSize\n",
    "    batchesProcessed = 0\n",
    "    colId = folderOrCollectionId\n",
    "\n",
    "    getStr = \"resource/%s/items?limit=%d&offset=%d&type=%s\" % (colId,limit,offset,parentType) \n",
    "    #if debug: print(getStr)\n",
    "    gcImageList = client.get( getStr)\n",
    "\n",
    "    while gcImageList:\n",
    "        for i in gcImageList:\n",
    "            yield(i)\n",
    "        batchesProcessed +=1\n",
    "        getStr = \"resource/%s/items?limit=%d&offset=%d&type=%s\" % ( colId,batchSize,(int(batchSize)*int(batchesProcessed)),parentType) \n",
    "        if debug:\n",
    "            output = \"Processed %d items\" % (int(batchSize)*int(batchesProcessed))\n",
    "            LinePrinter(output)\n",
    "        gcImageList = client.get( getStr)"
   ]
  },
  {
   "cell_type": "code",
   "execution_count": null,
   "metadata": {},
   "outputs": [],
   "source": [
    "\n"
   ]
  },
  {
   "cell_type": "code",
   "execution_count": null,
   "metadata": {},
   "outputs": [],
   "source": [
    "tgtTCGARootFolder = '5fc2f483a852689f133b147d'\n",
    "#for i in getAltqdm.tqdm(dccGC.listResource('resource/%s/items?type=folder' % tcga2OpenFolderId)):\n",
    "for i in getAllItems(dccGC,tcga2OpenFolderId,offset=350000,debug=True):\n",
    "    m = matchTCGAsvs.search(i['name'])\n",
    "    if m:\n",
    "        tcgaID = m.groupdict()['tcgaID']\n",
    "        if tcgaID not in tcgaSubjFolderCache:\n",
    "            tcgaSubjFolder = dccGC.createFolder(tgtTCGARootFolder,tcgaID,reuseExisting=True)\n",
    "            tcgaSubjFolderCache[tcgaID] = tcgaSubjFolder\n",
    "        tcgaSubjFolder = tcgaSubjFolderCache[tcgaID]    \n",
    "        ### ADD A CHECK TO AVOID COPYING FILES THAT ARE ALREADY IN THERE\n",
    "\n",
    "        itemsInFolder = list( dccGC.listItem(tcgaSubjFolder['_id']))\n",
    "        if i['name'] not in [x['name'] for x in itemsInFolder]:\n",
    "            dccGC.post(f\"/item/{i['_id']}/copy?folderId={tcgaSubjFolder['_id']}\")"
   ]
  }
 ],
 "metadata": {
  "kernelspec": {
   "display_name": "Python 3",
   "language": "python",
   "name": "python3"
  },
  "language_info": {
   "codemirror_mode": {
    "name": "ipython",
    "version": 3
   },
   "file_extension": ".py",
   "mimetype": "text/x-python",
   "name": "python",
   "nbconvert_exporter": "python",
   "pygments_lexer": "ipython3",
   "version": "3.6.9"
  }
 },
 "nbformat": 4,
 "nbformat_minor": 2
}
