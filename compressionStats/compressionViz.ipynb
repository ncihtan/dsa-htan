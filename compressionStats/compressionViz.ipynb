{
 "cells": [
  {
   "cell_type": "code",
   "execution_count": 1,
   "metadata": {},
   "outputs": [],
   "source": [
    "import json, os\n",
    "import pandas as pd\n",
    "\n",
    "with open('./compressionStats/compressionMetrics.json', 'r') as f:\n",
    "    data = f.readline()\n",
    "\n",
    "compressData = json.loads(data)    \n",
    "compressData = json.loads(compressData)"
   ]
  },
  {
   "cell_type": "code",
   "execution_count": 2,
   "metadata": {},
   "outputs": [],
   "source": [
    "cmDF = pd.DataFrame(compressData)\n",
    "cmDF['compressionRatio']=cmDF.compressedFileSize/cmDF.origFileSize*100\n",
    "cmDF['mbytesPerSec'] = cmDF.origFileSize/cmDF.executionTime/1000000   ### This is 1,000,000 Bytes per second\n"
   ]
  },
  {
   "cell_type": "code",
   "execution_count": 3,
   "metadata": {},
   "outputs": [
    {
     "data": {
      "text/html": [
       "<div>\n",
       "<style scoped>\n",
       "    .dataframe tbody tr th:only-of-type {\n",
       "        vertical-align: middle;\n",
       "    }\n",
       "\n",
       "    .dataframe tbody tr th {\n",
       "        vertical-align: top;\n",
       "    }\n",
       "\n",
       "    .dataframe thead th {\n",
       "        text-align: right;\n",
       "    }\n",
       "</style>\n",
       "<table border=\"1\" class=\"dataframe\">\n",
       "  <thead>\n",
       "    <tr style=\"text-align: right;\">\n",
       "      <th></th>\n",
       "      <th>count</th>\n",
       "      <th>mean</th>\n",
       "      <th>std</th>\n",
       "      <th>min</th>\n",
       "      <th>25%</th>\n",
       "      <th>50%</th>\n",
       "      <th>75%</th>\n",
       "      <th>max</th>\n",
       "    </tr>\n",
       "    <tr>\n",
       "      <th>compressionMethod</th>\n",
       "      <th></th>\n",
       "      <th></th>\n",
       "      <th></th>\n",
       "      <th></th>\n",
       "      <th></th>\n",
       "      <th></th>\n",
       "      <th></th>\n",
       "      <th></th>\n",
       "    </tr>\n",
       "  </thead>\n",
       "  <tbody>\n",
       "    <tr>\n",
       "      <th>lzma</th>\n",
       "      <td>4.0</td>\n",
       "      <td>36.042885</td>\n",
       "      <td>8.638540</td>\n",
       "      <td>27.441213</td>\n",
       "      <td>29.201043</td>\n",
       "      <td>36.407965</td>\n",
       "      <td>43.249807</td>\n",
       "      <td>43.914398</td>\n",
       "    </tr>\n",
       "    <tr>\n",
       "      <th>lzw</th>\n",
       "      <td>54.0</td>\n",
       "      <td>55.339281</td>\n",
       "      <td>7.953594</td>\n",
       "      <td>41.558413</td>\n",
       "      <td>48.243895</td>\n",
       "      <td>59.579628</td>\n",
       "      <td>62.531220</td>\n",
       "      <td>66.071983</td>\n",
       "    </tr>\n",
       "    <tr>\n",
       "      <th>zip</th>\n",
       "      <td>29.0</td>\n",
       "      <td>42.812151</td>\n",
       "      <td>6.336408</td>\n",
       "      <td>33.589837</td>\n",
       "      <td>38.768187</td>\n",
       "      <td>40.852803</td>\n",
       "      <td>50.354889</td>\n",
       "      <td>51.974799</td>\n",
       "    </tr>\n",
       "    <tr>\n",
       "      <th>zip:2</th>\n",
       "      <td>39.0</td>\n",
       "      <td>42.523884</td>\n",
       "      <td>8.853907</td>\n",
       "      <td>28.951587</td>\n",
       "      <td>33.696471</td>\n",
       "      <td>49.179617</td>\n",
       "      <td>50.183866</td>\n",
       "      <td>52.044583</td>\n",
       "    </tr>\n",
       "  </tbody>\n",
       "</table>\n",
       "</div>"
      ],
      "text/plain": [
       "                   count       mean       std        min        25%  \\\n",
       "compressionMethod                                                     \n",
       "lzma                 4.0  36.042885  8.638540  27.441213  29.201043   \n",
       "lzw                 54.0  55.339281  7.953594  41.558413  48.243895   \n",
       "zip                 29.0  42.812151  6.336408  33.589837  38.768187   \n",
       "zip:2               39.0  42.523884  8.853907  28.951587  33.696471   \n",
       "\n",
       "                         50%        75%        max  \n",
       "compressionMethod                                   \n",
       "lzma               36.407965  43.249807  43.914398  \n",
       "lzw                59.579628  62.531220  66.071983  \n",
       "zip                40.852803  50.354889  51.974799  \n",
       "zip:2              49.179617  50.183866  52.044583  "
      ]
     },
     "execution_count": 3,
     "metadata": {},
     "output_type": "execute_result"
    }
   ],
   "source": [
    "cmDF.groupby(cmDF.compressionMethod).compressionRatio.describe()"
   ]
  },
  {
   "cell_type": "code",
   "execution_count": 4,
   "metadata": {},
   "outputs": [
    {
     "data": {
      "text/html": [
       "<div>\n",
       "<style scoped>\n",
       "    .dataframe tbody tr th:only-of-type {\n",
       "        vertical-align: middle;\n",
       "    }\n",
       "\n",
       "    .dataframe tbody tr th {\n",
       "        vertical-align: top;\n",
       "    }\n",
       "\n",
       "    .dataframe thead th {\n",
       "        text-align: right;\n",
       "    }\n",
       "</style>\n",
       "<table border=\"1\" class=\"dataframe\">\n",
       "  <thead>\n",
       "    <tr style=\"text-align: right;\">\n",
       "      <th></th>\n",
       "      <th>count</th>\n",
       "      <th>mean</th>\n",
       "      <th>std</th>\n",
       "      <th>min</th>\n",
       "      <th>25%</th>\n",
       "      <th>50%</th>\n",
       "      <th>75%</th>\n",
       "      <th>max</th>\n",
       "    </tr>\n",
       "    <tr>\n",
       "      <th>compressionMethod</th>\n",
       "      <th></th>\n",
       "      <th></th>\n",
       "      <th></th>\n",
       "      <th></th>\n",
       "      <th></th>\n",
       "      <th></th>\n",
       "      <th></th>\n",
       "      <th></th>\n",
       "    </tr>\n",
       "  </thead>\n",
       "  <tbody>\n",
       "    <tr>\n",
       "      <th>lzma</th>\n",
       "      <td>4.0</td>\n",
       "      <td>12493.691777</td>\n",
       "      <td>11410.267695</td>\n",
       "      <td>2544.670735</td>\n",
       "      <td>2695.142306</td>\n",
       "      <td>11976.573793</td>\n",
       "      <td>21775.123264</td>\n",
       "      <td>23476.948789</td>\n",
       "    </tr>\n",
       "    <tr>\n",
       "      <th>lzw</th>\n",
       "      <td>54.0</td>\n",
       "      <td>1862.623023</td>\n",
       "      <td>1616.127185</td>\n",
       "      <td>116.229990</td>\n",
       "      <td>358.940673</td>\n",
       "      <td>1287.596643</td>\n",
       "      <td>3420.810748</td>\n",
       "      <td>4680.371669</td>\n",
       "    </tr>\n",
       "    <tr>\n",
       "      <th>zip</th>\n",
       "      <td>29.0</td>\n",
       "      <td>2846.227847</td>\n",
       "      <td>3283.845048</td>\n",
       "      <td>341.290219</td>\n",
       "      <td>488.729947</td>\n",
       "      <td>656.969757</td>\n",
       "      <td>6224.081640</td>\n",
       "      <td>8137.981535</td>\n",
       "    </tr>\n",
       "    <tr>\n",
       "      <th>zip:2</th>\n",
       "      <td>39.0</td>\n",
       "      <td>4047.853678</td>\n",
       "      <td>3213.601843</td>\n",
       "      <td>339.099907</td>\n",
       "      <td>588.361742</td>\n",
       "      <td>5120.082881</td>\n",
       "      <td>6966.807036</td>\n",
       "      <td>8412.911331</td>\n",
       "    </tr>\n",
       "  </tbody>\n",
       "</table>\n",
       "</div>"
      ],
      "text/plain": [
       "                   count          mean           std          min  \\\n",
       "compressionMethod                                                   \n",
       "lzma                 4.0  12493.691777  11410.267695  2544.670735   \n",
       "lzw                 54.0   1862.623023   1616.127185   116.229990   \n",
       "zip                 29.0   2846.227847   3283.845048   341.290219   \n",
       "zip:2               39.0   4047.853678   3213.601843   339.099907   \n",
       "\n",
       "                           25%           50%           75%           max  \n",
       "compressionMethod                                                         \n",
       "lzma               2695.142306  11976.573793  21775.123264  23476.948789  \n",
       "lzw                 358.940673   1287.596643   3420.810748   4680.371669  \n",
       "zip                 488.729947    656.969757   6224.081640   8137.981535  \n",
       "zip:2               588.361742   5120.082881   6966.807036   8412.911331  "
      ]
     },
     "execution_count": 4,
     "metadata": {},
     "output_type": "execute_result"
    }
   ],
   "source": [
    "cmDF.groupby(cmDF.compressionMethod).executionTime.describe()"
   ]
  },
  {
   "cell_type": "code",
   "execution_count": 21,
   "metadata": {},
   "outputs": [
    {
     "data": {
      "application/vnd.plotly.v1+json": {
       "config": {
        "plotlyServerURL": "https://plot.ly"
       },
       "data": [
        {
         "alignmentgroup": "True",
         "bingroup": "x",
         "hovertemplate": "compressionMethod=lzw<br>compressionRatio=%{x}<br>count=%{y}<extra></extra>",
         "legendgroup": "lzw",
         "marker": {
          "color": "#636efa"
         },
         "name": "lzw",
         "nbinsx": 25,
         "offsetgroup": "lzw",
         "orientation": "v",
         "showlegend": true,
         "type": "histogram",
         "x": [
          42.04810773649965,
          42.04810773649965,
          45.434979937522094,
          63.410474919100004,
          62.99147582940252,
          44.801780740743666,
          41.55841325667055,
          61.11235792033026,
          59.564160763377004,
          59.564160763377004,
          44.801780740743666,
          41.55841325667055,
          61.11235792033026,
          59.564160763377004,
          49.94599746790936,
          48.051333264534804,
          61.66918645602091,
          61.11235792033026,
          48.821578388904626,
          62.964688626912846,
          47.66203215612741,
          52.48456797384016,
          60.36684360995528,
          62.072944402330485,
          47.52787618593836,
          63.38345764092538,
          50.34392754485225,
          48.94268103247474,
          42.65523450484156,
          45.71366361165848,
          51.433079653740776,
          62.70725391938336,
          62.677916131423075,
          59.59509563286778,
          44.07333236942721,
          63.067547432405476,
          53.00484320654479,
          61.34785267142965,
          63.213783823279314,
          60.36440479731161,
          49.72523657893877,
          60.461500636384876,
          62.09113244686869,
          44.801780740743666,
          63.744606892163304,
          50.515428015808205,
          50.88632405001338,
          63.59325772606631,
          63.17809684734586,
          61.79718861420024,
          62.9177743070443,
          62.8501198722762,
          66.0719829343414,
          60.91254238896278
         ],
         "xaxis": "x",
         "yaxis": "y"
        },
        {
         "alignmentgroup": "True",
         "boxpoints": "all",
         "customdata": [
          [
           "5ee7f7e7fbd052c3f9f75082",
           "/nvmen1Scratch/origData/htan-tnp-sardana-hms-prerelease-phase-1-data/WD-76845-001.ome.tif",
           13048699267,
           135.89906549453735,
           5486731126,
           "-8 -c lzw",
           "lzw",
           42.04810773649965,
           null,
           null,
           null,
           null,
           42.04810773649965,
           96.01757907249561
          ],
          [
           "5ee7f9c645d177623c9ad7e1",
           "/nvmen1Scratch/origData/htan-tnp-sardana-hms-prerelease-phase-1-data/WD-76845-001.ome.tif",
           13048699267,
           116.22998976707458,
           5486731126,
           "-8 -c lzw",
           "lzw",
           42.04810773649965,
           "/nvmen1Scratch/origData/htan-tnp-sardana-hms-prerelease-phase-1-data/recompressed/WD-76845-001.lzw.ome.tif",
           null,
           null,
           null,
           42.04810773649965,
           112.26619991234321
          ],
          [
           "5ee7f9c96e4be911499ad7e1",
           "/nvmen1Scratch/origData/htan-tnp-sardana-hms-prerelease-phase-1-data/WD-76845-006.ome.tif",
           11834429731,
           119.89434885978699,
           5376970774,
           "-8 -c lzw",
           "lzw",
           45.434979937522094,
           "/nvmen1Scratch/origData/htan-tnp-sardana-hms-prerelease-phase-1-data/recompressed/WD-76845-006.lzw.ome.tif",
           null,
           null,
           null,
           45.434979937522094,
           98.70715211807044
          ],
          [
           "5ee7fe44a0f28ea1959ad7e1",
           "/nvmen1Scratch/origData/htan-tnp-sardana-hms-prerelease-phase-1-data/WD-76845-007.ome.tif",
           86067983704,
           1266.774257183075,
           54576117220,
           "-8 -c lzw",
           "lzw",
           63.410474919100004,
           "/nvmen1Scratch/origData/htan-tnp-sardana-hms-prerelease-phase-1-data/recompressed/WD-76845-007.lzw.ome.tif",
           null,
           null,
           null,
           63.410474919100004,
           67.94263714782879
          ],
          [
           "5ee7fe58074d7d0e5a9ad7e1",
           "/nvmen1Scratch/origData/htan-tnp-sardana-hms-prerelease-phase-1-data/WD-76845-002.ome.tif",
           94540542424,
           1286.8319165706635,
           59552482930,
           "-8 -c lzw",
           "lzw",
           62.99147582940252,
           "/nvmen1Scratch/origData/htan-tnp-sardana-hms-prerelease-phase-1-data/recompressed/WD-76845-002.lzw.ome.tif",
           null,
           null,
           null,
           62.99147582940252,
           73.46766986938384
          ],
          [
           "5ee80dc7d34f8addb8feb1e6",
           "/nvmen1Scratch/origData/htan-tnp-sardana-hms-prerelease-phase-1-data/WD-76845-006.ome.tif",
           11834429731,
           123.52627038955688,
           5302035260,
           null,
           "lzw",
           44.801780740743666,
           "/nvmen1Scratch/origData/htan-tnp-sardana-hms-prerelease-phase-1-data/recompressed/WD-76845-006.lzw.ome.tif",
           "-t -w 256 -l 256 -L",
           null,
           null,
           44.801780740743666,
           95.80496273123536
          ],
          [
           "5ee80dcc4c65fc3a1afeb1e6",
           "/nvmen1Scratch/origData/htan-tnp-sardana-hms-prerelease-phase-1-data/WD-76845-001.ome.tif",
           13048699267,
           128.88972783088684,
           5422832366,
           null,
           "lzw",
           41.55841325667055,
           "/nvmen1Scratch/origData/htan-tnp-sardana-hms-prerelease-phase-1-data/recompressed/WD-76845-001.lzw.ome.tif",
           "-t -w 256 -l 256 -L",
           null,
           null,
           41.55841325667055,
           101.239249136447
          ],
          [
           "5ee811f6f2d1b0d29ffeb1e6",
           "/nvmen1Scratch/origData/htan-tnp-sardana-hms-prerelease-phase-1-data/WD-76845-007.ome.tif",
           86067983704,
           1193.9273571968079,
           52598174256,
           null,
           "lzw",
           61.11235792033026,
           "/nvmen1Scratch/origData/htan-tnp-sardana-hms-prerelease-phase-1-data/recompressed/WD-76845-007.lzw.ome.tif",
           "-t -w 256 -l 256 -L",
           null,
           null,
           61.11235792033026,
           72.08812427757486
          ],
          [
           "5ee81255fd0d94850bfeb1e6",
           "/nvmen1Scratch/origData/htan-tnp-sardana-hms-prerelease-phase-1-data/WD-76845-002.ome.tif",
           94540542424,
           1289.4169857501984,
           56312280676,
           null,
           "lzw",
           59.564160763377004,
           "/nvmen1Scratch/origData/htan-tnp-sardana-hms-prerelease-phase-1-data/recompressed/WD-76845-002.lzw.ome.tif",
           "-t -w 256 -l 256 -L",
           null,
           null,
           59.564160763377004,
           73.32037926349727
          ],
          [
           "5ee8ed91ecf21f6181ed4920",
           "WD-76845-002.ome.tif",
           94540542424,
           1288.3613696098328,
           56312280676,
           null,
           "lzw",
           59.564160763377004,
           null,
           [
            "-8",
            "-t",
            "-w",
            "256",
            "-l",
            "256",
            "-L"
           ],
           "/nvmen1Scratch/origData/htan-tnp-sardana-hms-prerelease-phase-1-data/recompressed/WD-76845-002.lzw.ome.tif",
           {
            "compressionMethod": "lzw",
            "filename": "WD-76845-002.ome.tif",
            "fullFilePath": "/nvmen1Scratch/origData/htan-tnp-sardana-hms-prerelease-phase-1-data/WD-76845-002.ome.tif",
            "outputFile": "WD-76845-002.lzw.ome.tif",
            "tileString": [
             "-8",
             "-t",
             "-w",
             "256",
             "-l",
             "256",
             "-L"
            ]
           },
           59.564160763377004,
           73.3804541598687
          ],
          [
           "5ee914db557b784b56fd998e",
           "WD-76845-006.ome.tif",
           11834429731,
           177.7355818748474,
           5302035260,
           null,
           "lzw",
           44.801780740743666,
           null,
           [
            "-8",
            "-t",
            "-w",
            "256",
            "-l",
            "256",
            "-L"
           ],
           "/nvmen1Scratch/origData/htan-tnp-sardana-hms-prerelease-phase-1-data/recompressed/WD-76845-006.lzw.ome.tif",
           {
            "compressionMethod": "lzw",
            "filename": "WD-76845-006.ome.tif",
            "fullFilePath": "/nvmen1Scratch/origData/htan-tnp-sardana-hms-prerelease-phase-1-data/WD-76845-006.ome.tif",
            "outputFile": "WD-76845-006.lzw.ome.tif",
            "tileString": [
             "-8",
             "-t",
             "-w",
             "256",
             "-l",
             "256",
             "-L"
            ]
           },
           44.801780740743666,
           66.58447119121719
          ],
          [
           "5ee91722557b784b56fd9990",
           "WD-76845-001.ome.tif",
           13048699267,
           185.36460089683533,
           5422832366,
           null,
           "lzw",
           41.55841325667055,
           null,
           [
            "-8",
            "-t",
            "-w",
            "256",
            "-l",
            "256",
            "-L"
           ],
           "/nvmen1Scratch/origData/htan-tnp-sardana-hms-prerelease-phase-1-data/recompressed/WD-76845-001.lzw.ome.tif",
           {
            "compressionMethod": "lzw",
            "filename": "WD-76845-001.ome.tif",
            "fullFilePath": "/nvmen1Scratch/origData/htan-tnp-sardana-hms-prerelease-phase-1-data/WD-76845-001.ome.tif",
            "outputFile": "WD-76845-001.lzw.ome.tif",
            "tileString": [
             "-8",
             "-t",
             "-w",
             "256",
             "-l",
             "256",
             "-L"
            ]
           },
           41.55841325667055,
           70.39477442762792
          ],
          [
           "5ee91af708b2d1a8fefd998e",
           "WD-76845-007.ome.tif",
           86067983704,
           1741.1346445083618,
           52598174256,
           null,
           "lzw",
           61.11235792033026,
           null,
           [
            "-8",
            "-t",
            "-w",
            "256",
            "-l",
            "256",
            "-L"
           ],
           "/nvmen1Scratch/origData/htan-tnp-sardana-hms-prerelease-phase-1-data/recompressed/WD-76845-007.lzw.ome.tif",
           {
            "compressionMethod": "lzw",
            "filename": "WD-76845-007.ome.tif",
            "fullFilePath": "/nvmen1Scratch/origData/htan-tnp-sardana-hms-prerelease-phase-1-data/WD-76845-007.ome.tif",
            "outputFile": "WD-76845-007.lzw.ome.tif",
            "tileString": [
             "-8",
             "-t",
             "-w",
             "256",
             "-l",
             "256",
             "-L"
            ]
           },
           61.11235792033026,
           49.43212403214383
          ],
          [
           "5ee93dac27c36180e3eadea9",
           "WD-76845-002.ome.tif",
           94540542424,
           2490.7977788448334,
           56312280676,
           null,
           "lzw",
           59.564160763377004,
           null,
           [
            "-8",
            "-t",
            "-w",
            "256",
            "-l",
            "256",
            "-L"
           ],
           "/nvmen1Scratch/origData/htan-tnp-sardana-hms-prerelease-phase-1-data/recompressed/WD-76845-002.lzw.ome.tif",
           {
            "compressionMethod": "lzw",
            "filename": "WD-76845-002.ome.tif",
            "fullFilePath": "/s3FuseMounts/dgutman-htan-s3-synapse/htan-tnp-sardana-hms-prerelease-phase-1-data/WD-76845-002.ome.tif",
            "outputFile": "WD-76845-002.lzw.ome.tif",
            "tileString": [
             "-8",
             "-t",
             "-w",
             "256",
             "-l",
             "256",
             "-L"
            ]
           },
           59.564160763377004,
           37.95592850891549
          ],
          [
           "5ee957df1a4aa37fe2038555",
           "WD-76845-085.ome.tif",
           11384583763,
           488.829843044281,
           5686143918,
           null,
           "lzw",
           49.94599746790936,
           null,
           [
            "-8",
            "-t",
            "-w",
            "256",
            "-l",
            "256",
            "-L"
           ],
           "/nvmen1Scratch/origData/htan-tnp-sardana-hms-prerelease-phase-1-data/recompressed/WD-76845-085.lzw.ome.tif",
           {
            "compressionMethod": "lzw",
            "filename": "WD-76845-085.ome.tif",
            "fullFilePath": "/s3FuseMounts/dgutman-htan-s3-synapse/htan-tnp-sardana-hms-prerelease-phase-1-data/WD-76845-085.ome.tif",
            "outputFile": "WD-76845-085.lzw.ome.tif",
            "tileString": [
             "-8",
             "-t",
             "-w",
             "256",
             "-l",
             "256",
             "-L"
            ]
           },
           49.94599746790936,
           23.289461404607245
          ],
          [
           "5ee95ec31a4aa37fe2038558",
           "WD-76845-043.ome.tif",
           11834429731,
           512.6782660484314,
           5686601270,
           null,
           "lzw",
           48.051333264534804,
           null,
           [
            "-8",
            "-t",
            "-w",
            "256",
            "-l",
            "256",
            "-L"
           ],
           "/nvmen1Scratch/origData/htan-tnp-sardana-hms-prerelease-phase-1-data/recompressed/WD-76845-043.lzw.ome.tif",
           {
            "compressionMethod": "lzw",
            "filename": "WD-76845-043.ome.tif",
            "fullFilePath": "/s3FuseMounts/dgutman-htan-s3-synapse/htan-tnp-sardana-hms-prerelease-phase-1-data/WD-76845-043.ome.tif",
            "outputFile": "WD-76845-043.lzw.ome.tif",
            "tileString": [
             "-8",
             "-t",
             "-w",
             "256",
             "-l",
             "256",
             "-L"
            ]
           },
           48.051333264534804,
           23.083540915857807
          ],
          [
           "5ee96213c8c1e225d3038554",
           "WD-76845-044.ome.tif",
           82209194584,
           3891.0175154209137,
           50697741492,
           null,
           "lzw",
           61.66918645602091,
           null,
           [
            "-8",
            "-t",
            "-w",
            "256",
            "-l",
            "256",
            "-L"
           ],
           "/nvmen1Scratch/origData/htan-tnp-sardana-hms-prerelease-phase-1-data/recompressed/WD-76845-044.lzw.ome.tif",
           {
            "compressionMethod": "lzw",
            "filename": "WD-76845-044.ome.tif",
            "fullFilePath": "/s3FuseMounts/dgutman-htan-s3-synapse/htan-tnp-sardana-hms-prerelease-phase-1-data/WD-76845-044.ome.tif",
            "outputFile": "WD-76845-044.lzw.ome.tif",
            "tileString": [
             "-8",
             "-t",
             "-w",
             "256",
             "-l",
             "256",
             "-L"
            ]
           },
           61.66918645602091,
           21.127942564685927
          ],
          [
           "5ee9631b1e0218235a038554",
           "WD-76845-007.ome.tif",
           86067983704,
           4155.21911907196,
           52598174256,
           null,
           "lzw",
           61.11235792033026,
           null,
           [
            "-8",
            "-t",
            "-w",
            "256",
            "-l",
            "256",
            "-L"
           ],
           "/nvmen1Scratch/origData/htan-tnp-sardana-hms-prerelease-phase-1-data/recompressed/WD-76845-007.lzw.ome.tif",
           {
            "compressionMethod": "lzw",
            "filename": "WD-76845-007.ome.tif",
            "fullFilePath": "/s3FuseMounts/dgutman-htan-s3-synapse/htan-tnp-sardana-hms-prerelease-phase-1-data/WD-76845-007.ome.tif",
            "outputFile": "WD-76845-007.lzw.ome.tif",
            "tileString": [
             "-8",
             "-t",
             "-w",
             "256",
             "-l",
             "256",
             "-L"
            ]
           },
           61.11235792033026,
           20.713223836730588
          ],
          [
           "5ee9639ec8c1e225d3038555",
           "WD-76845-024.ome.tif",
           11834429731,
           394.52978110313416,
           5777755388,
           null,
           "lzw",
           48.821578388904626,
           null,
           [
            "-8",
            "-t",
            "-w",
            "256",
            "-l",
            "256",
            "-L"
           ],
           "/nvmen1Scratch/origData/htan-tnp-sardana-hms-prerelease-phase-1-data/recompressed/WD-76845-024.lzw.ome.tif",
           {
            "compressionMethod": "lzw",
            "filename": "WD-76845-024.ome.tif",
            "fullFilePath": "/s3FuseMounts/dgutman-htan-s3-synapse/htan-tnp-sardana-hms-prerelease-phase-1-data/WD-76845-024.ome.tif",
            "outputFile": "WD-76845-024.lzw.ome.tif",
            "tileString": [
             "-8",
             "-t",
             "-w",
             "256",
             "-l",
             "256",
             "-L"
            ]
           },
           48.821578388904626,
           29.99629000860231
          ],
          [
           "5ee978f607c5a13130038555",
           "WD-76845-102.ome.tif",
           77763198424,
           2325.1199984550476,
           48963355754,
           null,
           "lzw",
           62.964688626912846,
           null,
           [
            "-8",
            "-t",
            "-w",
            "256",
            "-l",
            "256",
            "-L"
           ],
           "/nvmen1Scratch/origData/htan-tnp-sardana-hms-prerelease-phase-1-data/recompressed/WD-76845-102.lzw.ome.tif",
           {
            "compressionMethod": "lzw",
            "filename": "WD-76845-102.ome.tif",
            "fullFilePath": "/s3FuseMounts/dgutman-htan-s3-synapse/htan-tnp-sardana-hms-prerelease-phase-1-data/WD-76845-102.ome.tif",
            "outputFile": "WD-76845-102.lzw.ome.tif",
            "tileString": [
             "-8",
             "-t",
             "-w",
             "256",
             "-l",
             "256",
             "-L"
            ]
           },
           62.964688626912846,
           33.4448107950001
          ],
          [
           "5ee97a5e07c5a13130038556",
           "WD-76845-101.ome.tif",
           11221003432,
           359.250296831131,
           5348158264,
           null,
           "lzw",
           47.66203215612741,
           null,
           [
            "-8",
            "-t",
            "-w",
            "256",
            "-l",
            "256",
            "-L"
           ],
           "/nvmen1Scratch/origData/htan-tnp-sardana-hms-prerelease-phase-1-data/recompressed/WD-76845-101.lzw.ome.tif",
           {
            "compressionMethod": "lzw",
            "filename": "WD-76845-101.ome.tif",
            "fullFilePath": "/s3FuseMounts/dgutman-htan-s3-synapse/htan-tnp-sardana-hms-prerelease-phase-1-data/WD-76845-101.ome.tif",
            "outputFile": "WD-76845-101.lzw.ome.tif",
            "tileString": [
             "-8",
             "-t",
             "-w",
             "256",
             "-l",
             "256",
             "-L"
            ]
           },
           47.66203215612741,
           31.234500099173303
          ],
          [
           "5ee97bbe07c5a13130038557",
           "WD-76845-028.ome.tif",
           10812052531,
           352.34321117401123,
           5674659060,
           null,
           "lzw",
           52.48456797384016,
           null,
           [
            "-8",
            "-t",
            "-w",
            "256",
            "-l",
            "256",
            "-L"
           ],
           "/nvmen1Scratch/origData/htan-tnp-sardana-hms-prerelease-phase-1-data/recompressed/WD-76845-028.lzw.ome.tif",
           {
            "compressionMethod": "lzw",
            "filename": "WD-76845-028.ome.tif",
            "fullFilePath": "/s3FuseMounts/dgutman-htan-s3-synapse/htan-tnp-sardana-hms-prerelease-phase-1-data/WD-76845-028.ome.tif",
            "outputFile": "WD-76845-028.lzw.ome.tif",
            "tileString": [
             "-8",
             "-t",
             "-w",
             "256",
             "-l",
             "256",
             "-L"
            ]
           },
           52.48456797384016,
           30.686138367684535
          ],
          [
           "5ee97e7429adeff7e7038555",
           "WD-76845-025.ome.tif",
           89758999384,
           2779.661639213562,
           54184674784,
           null,
           "lzw",
           60.36684360995528,
           null,
           [
            "-8",
            "-t",
            "-w",
            "256",
            "-l",
            "256",
            "-L"
           ],
           "/nvmen1Scratch/origData/htan-tnp-sardana-hms-prerelease-phase-1-data/recompressed/WD-76845-025.lzw.ome.tif",
           {
            "compressionMethod": "lzw",
            "filename": "WD-76845-025.ome.tif",
            "fullFilePath": "/s3FuseMounts/dgutman-htan-s3-synapse/htan-tnp-sardana-hms-prerelease-phase-1-data/WD-76845-025.ome.tif",
            "outputFile": "WD-76845-025.lzw.ome.tif",
            "tileString": [
             "-8",
             "-t",
             "-w",
             "256",
             "-l",
             "256",
             "-L"
            ]
           },
           60.36684360995528,
           32.29134011051616
          ],
          [
           "5ee97f9b492ea78385038556",
           "WD-76845-054.ome.tif",
           80028139864,
           2629.0380370616913,
           49675822764,
           null,
           "lzw",
           62.072944402330485,
           null,
           [
            "-8",
            "-t",
            "-w",
            "256",
            "-l",
            "256",
            "-L"
           ],
           "/nvmen1Scratch/origData/htan-tnp-sardana-hms-prerelease-phase-1-data/recompressed/WD-76845-054.lzw.ome.tif",
           {
            "compressionMethod": "lzw",
            "filename": "WD-76845-054.ome.tif",
            "fullFilePath": "/s3FuseMounts/dgutman-htan-s3-synapse/htan-tnp-sardana-hms-prerelease-phase-1-data/WD-76845-054.ome.tif",
            "outputFile": "WD-76845-054.lzw.ome.tif",
            "tileString": [
             "-8",
             "-t",
             "-w",
             "256",
             "-l",
             "256",
             "-L"
            ]
           },
           62.072944402330485,
           30.440084447558
          ],
          [
           "5ee9815d29adeff7e7038557",
           "WD-76845-077.ome.tif",
           11221003411,
           249.91202235221863,
           5333104608,
           null,
           "lzw",
           47.52787618593836,
           null,
           [
            "-8",
            "-t",
            "-w",
            "256",
            "-l",
            "256",
            "-L"
           ],
           "/nvmen1Scratch/origData/htan-tnp-sardana-hms-prerelease-phase-1-data/recompressed/WD-76845-077.lzw.ome.tif",
           {
            "compressionMethod": "lzw",
            "filename": "WD-76845-077.ome.tif",
            "fullFilePath": "/s3FuseMounts/dgutman-htan-s3-synapse/htan-tnp-sardana-hms-prerelease-phase-1-data/WD-76845-077.ome.tif",
            "outputFile": "WD-76845-077.lzw.ome.tif",
            "tileString": [
             "-8",
             "-t",
             "-w",
             "256",
             "-l",
             "256",
             "-L"
            ]
           },
           47.52787618593836,
           44.899814364214336
          ],
          [
           "5ee982359d5df40196038557",
           "WD-76845-034.ome.tif",
           88249038424,
           2549.7107393741608,
           55935291888,
           null,
           "lzw",
           63.38345764092538,
           null,
           [
            "-8",
            "-t",
            "-w",
            "256",
            "-l",
            "256",
            "-L"
           ],
           "/nvmen1Scratch/origData/htan-tnp-sardana-hms-prerelease-phase-1-data/recompressed/WD-76845-034.lzw.ome.tif",
           {
            "compressionMethod": "lzw",
            "filename": "WD-76845-034.ome.tif",
            "fullFilePath": "/s3FuseMounts/dgutman-htan-s3-synapse/htan-tnp-sardana-hms-prerelease-phase-1-data/WD-76845-034.ome.tif",
            "outputFile": "WD-76845-034.lzw.ome.tif",
            "tileString": [
             "-8",
             "-t",
             "-w",
             "256",
             "-l",
             "256",
             "-L"
            ]
           },
           63.38345764092538,
           34.61139221057726
          ],
          [
           "5eea004a049ce574635fe9a3",
           "WD-76845-090.ome.tif",
           10657909507,
           311.8254120349884,
           5365610240,
           null,
           "lzw",
           50.34392754485225,
           null,
           [
            "-8",
            "-t",
            "-w",
            "256",
            "-l",
            "256",
            "-L"
           ],
           "/nvmen1Scratch/origData/htan-tnp-sardana-hms-prerelease-phase-1-data/recompressed/WD-76845-090.lzw.ome.tif",
           {
            "compressionMethod": "lzw",
            "filename": "WD-76845-090.ome.tif",
            "fullFilePath": "/s3FuseMounts/dgutman-htan-s3-synapse/htan-tnp-sardana-hms-prerelease-phase-1-data/WD-76845-090.ome.tif",
            "outputFile": "WD-76845-090.lzw.ome.tif",
            "tileString": [
             "-8",
             "-t",
             "-w",
             "256",
             "-l",
             "256",
             "-L"
            ]
           },
           50.34392754485225,
           34.17909219600143
          ],
          [
           "5eea0053bb2b0550615fe9a3",
           "WD-76845-096.ome.tif",
           11384583763,
           320.74815368652344,
           5571920518,
           null,
           "lzw",
           48.94268103247474,
           null,
           [
            "-8",
            "-t",
            "-w",
            "256",
            "-l",
            "256",
            "-L"
           ],
           "/nvmen1Scratch/origData/htan-tnp-sardana-hms-prerelease-phase-1-data/recompressed/WD-76845-096.lzw.ome.tif",
           {
            "compressionMethod": "lzw",
            "filename": "WD-76845-096.ome.tif",
            "fullFilePath": "/s3FuseMounts/dgutman-htan-s3-synapse/htan-tnp-sardana-hms-prerelease-phase-1-data/WD-76845-096.ome.tif",
            "outputFile": "WD-76845-096.lzw.ome.tif",
            "tileString": [
             "-8",
             "-t",
             "-w",
             "256",
             "-l",
             "256",
             "-L"
            ]
           },
           48.94268103247474,
           35.493840360891014
          ],
          [
           "5eea00abc617b77de35fe9a3",
           "WD-76845-019.ome.tif",
           13674708691,
           408.48705291748047,
           5832979060,
           null,
           "lzw",
           42.65523450484156,
           null,
           [
            "-8",
            "-t",
            "-w",
            "256",
            "-l",
            "256",
            "-L"
           ],
           "/nvmen1Scratch/origData/htan-tnp-sardana-hms-prerelease-phase-1-data/recompressed/WD-76845-019.lzw.ome.tif",
           {
            "compressionMethod": "lzw",
            "filename": "WD-76845-019.ome.tif",
            "fullFilePath": "/s3FuseMounts/dgutman-htan-s3-synapse/htan-tnp-sardana-hms-prerelease-phase-1-data/WD-76845-019.ome.tif",
            "outputFile": "WD-76845-019.lzw.ome.tif",
            "tileString": [
             "-8",
             "-t",
             "-w",
             "256",
             "-l",
             "256",
             "-L"
            ]
           },
           42.65523450484156,
           33.47648008261957
          ],
          [
           "5eea02cb692e2980bb5fe9a4",
           "WD-76845-033.ome.tif",
           12715247011,
           464.2224962711334,
           5812605246,
           null,
           "lzw",
           45.71366361165848,
           null,
           [
            "-8",
            "-t",
            "-w",
            "256",
            "-l",
            "256",
            "-L"
           ],
           "/nvmen1Scratch/origData/htan-tnp-sardana-hms-prerelease-phase-1-data/recompressed/WD-76845-033.lzw.ome.tif",
           {
            "compressionMethod": "lzw",
            "filename": "WD-76845-033.ome.tif",
            "fullFilePath": "/s3FuseMounts/dgutman-htan-s3-synapse/htan-tnp-sardana-hms-prerelease-phase-1-data/WD-76845-033.ome.tif",
            "outputFile": "WD-76845-033.lzw.ome.tif",
            "tileString": [
             "-8",
             "-t",
             "-w",
             "256",
             "-l",
             "256",
             "-L"
            ]
           },
           45.71366361165848,
           27.390415400234165
          ],
          [
           "5eea04cab5f447f61e5fe9a5",
           "WD-76845-105.ome.tif",
           10327603048,
           423.34035325050354,
           5311804302,
           null,
           "lzw",
           51.433079653740776,
           null,
           [
            "-8",
            "-t",
            "-w",
            "256",
            "-l",
            "256",
            "-L"
           ],
           "/nvmen1Scratch/origData/htan-tnp-sardana-hms-prerelease-phase-1-data/recompressed/WD-76845-105.lzw.ome.tif",
           {
            "compressionMethod": "lzw",
            "filename": "WD-76845-105.ome.tif",
            "fullFilePath": "/s3FuseMounts/dgutman-htan-s3-synapse/htan-tnp-sardana-hms-prerelease-phase-1-data/WD-76845-105.ome.tif",
            "outputFile": "WD-76845-105.lzw.ome.tif",
            "tileString": [
             "-8",
             "-t",
             "-w",
             "256",
             "-l",
             "256",
             "-L"
            ]
           },
           51.433079653740776,
           24.395508173747942
          ],
          [
           "5eea0dddbb2b0550615fe9a4",
           "WD-76845-106.ome.tif",
           74575503064,
           3466.1396527290344,
           46764250068,
           null,
           "lzw",
           62.70725391938336,
           null,
           [
            "-8",
            "-t",
            "-w",
            "256",
            "-l",
            "256",
            "-L"
           ],
           "/nvmen1Scratch/origData/htan-tnp-sardana-hms-prerelease-phase-1-data/recompressed/WD-76845-106.lzw.ome.tif",
           {
            "compressionMethod": "lzw",
            "filename": "WD-76845-106.ome.tif",
            "fullFilePath": "/s3FuseMounts/dgutman-htan-s3-synapse/htan-tnp-sardana-hms-prerelease-phase-1-data/WD-76845-106.ome.tif",
            "outputFile": "WD-76845-106.lzw.ome.tif",
            "tileString": [
             "-8",
             "-t",
             "-w",
             "256",
             "-l",
             "256",
             "-L"
            ]
           },
           62.70725391938336,
           21.515435191794317
          ],
          [
           "5eea0e497a359007b45fe9a3",
           "WD-76845-052.ome.tif",
           86067983704,
           3894.479730606079,
           53945618642,
           null,
           "lzw",
           62.677916131423075,
           null,
           [
            "-8",
            "-t",
            "-w",
            "256",
            "-l",
            "256",
            "-L"
           ],
           "/nvmen1Scratch/origData/htan-tnp-sardana-hms-prerelease-phase-1-data/recompressed/WD-76845-052.lzw.ome.tif",
           {
            "compressionMethod": "lzw",
            "filename": "WD-76845-052.ome.tif",
            "fullFilePath": "/s3FuseMounts/dgutman-htan-s3-synapse/htan-tnp-sardana-hms-prerelease-phase-1-data/WD-76845-052.ome.tif",
            "outputFile": "WD-76845-052.lzw.ome.tif",
            "tileString": [
             "-8",
             "-t",
             "-w",
             "256",
             "-l",
             "256",
             "-L"
            ]
           },
           62.677916131423075,
           22.099995290155395
          ],
          [
           "5eea0f2a5b022b5ffc5fe9a3",
           "WD-76845-020.ome.tif",
           89758999384,
           4119.786567926407,
           53491961522,
           null,
           "lzw",
           59.59509563286778,
           null,
           [
            "-8",
            "-t",
            "-w",
            "256",
            "-l",
            "256",
            "-L"
           ],
           "/nvmen1Scratch/origData/htan-tnp-sardana-hms-prerelease-phase-1-data/recompressed/WD-76845-020.lzw.ome.tif",
           {
            "compressionMethod": "lzw",
            "filename": "WD-76845-020.ome.tif",
            "fullFilePath": "/s3FuseMounts/dgutman-htan-s3-synapse/htan-tnp-sardana-hms-prerelease-phase-1-data/WD-76845-020.ome.tif",
            "outputFile": "WD-76845-020.lzw.ome.tif",
            "tileString": [
             "-8",
             "-t",
             "-w",
             "256",
             "-l",
             "256",
             "-L"
            ]
           },
           59.59509563286778,
           21.78729356583586
          ],
          [
           "5eea10257a359007b45fe9a4",
           "WD-76845-013.ome.tif",
           12727830115,
           476.0803105831146,
           5609578870,
           null,
           "lzw",
           44.07333236942721,
           null,
           [
            "-8",
            "-t",
            "-w",
            "256",
            "-l",
            "256",
            "-L"
           ],
           "/nvmen1Scratch/origData/htan-tnp-sardana-hms-prerelease-phase-1-data/recompressed/WD-76845-013.lzw.ome.tif",
           {
            "compressionMethod": "lzw",
            "filename": "WD-76845-013.ome.tif",
            "fullFilePath": "/s3FuseMounts/dgutman-htan-s3-synapse/htan-tnp-sardana-hms-prerelease-phase-1-data/WD-76845-013.ome.tif",
            "outputFile": "WD-76845-013.lzw.ome.tif",
            "tileString": [
             "-8",
             "-t",
             "-w",
             "256",
             "-l",
             "256",
             "-L"
            ]
           },
           44.07333236942721,
           26.734628238270655
          ],
          [
           "5eea110d692e2980bb5fe9a5",
           "WD-76845-097.ome.tif",
           80028139864,
           3650.1974382400513,
           50471785068,
           null,
           "lzw",
           63.067547432405476,
           null,
           [
            "-8",
            "-t",
            "-w",
            "256",
            "-l",
            "256",
            "-L"
           ],
           "/nvmen1Scratch/origData/htan-tnp-sardana-hms-prerelease-phase-1-data/recompressed/WD-76845-097.lzw.ome.tif",
           {
            "compressionMethod": "lzw",
            "filename": "WD-76845-097.ome.tif",
            "fullFilePath": "/s3FuseMounts/dgutman-htan-s3-synapse/htan-tnp-sardana-hms-prerelease-phase-1-data/WD-76845-097.ome.tif",
            "outputFile": "WD-76845-097.lzw.ome.tif",
            "tileString": [
             "-8",
             "-t",
             "-w",
             "256",
             "-l",
             "256",
             "-L"
            ]
           },
           63.067547432405476,
           21.924331825345234
          ],
          [
           "5eea12c4692e2980bb5fe9a6",
           "WD-76845-083.ome.tif",
           10270979059,
           438.32432436943054,
           5444116346,
           null,
           "lzw",
           53.00484320654479,
           null,
           [
            "-8",
            "-t",
            "-w",
            "256",
            "-l",
            "256",
            "-L"
           ],
           "/nvmen1Scratch/origData/htan-tnp-sardana-hms-prerelease-phase-1-data/recompressed/WD-76845-083.lzw.ome.tif",
           {
            "compressionMethod": "lzw",
            "filename": "WD-76845-083.ome.tif",
            "fullFilePath": "/s3FuseMounts/dgutman-htan-s3-synapse/htan-tnp-sardana-hms-prerelease-phase-1-data/WD-76845-083.ome.tif",
            "outputFile": "WD-76845-083.lzw.ome.tif",
            "tileString": [
             "-8",
             "-t",
             "-w",
             "256",
             "-l",
             "256",
             "-L"
            ]
           },
           53.00484320654479,
           23.432372989511222
          ],
          [
           "5eea1c04bb2b0550615fe9a5",
           "WD-76845-059.ome.tif",
           86067983704,
           3622.485520839691,
           52800859840,
           null,
           "lzw",
           61.34785267142965,
           null,
           [
            "-8",
            "-t",
            "-w",
            "256",
            "-l",
            "256",
            "-L"
           ],
           "/nvmen1Scratch/origData/htan-tnp-sardana-hms-prerelease-phase-1-data/recompressed/WD-76845-059.lzw.ome.tif",
           {
            "compressionMethod": "lzw",
            "filename": "WD-76845-059.ome.tif",
            "fullFilePath": "/s3FuseMounts/dgutman-htan-s3-synapse/htan-tnp-sardana-hms-prerelease-phase-1-data/WD-76845-059.ome.tif",
            "outputFile": "WD-76845-059.lzw.ome.tif",
            "tileString": [
             "-8",
             "-t",
             "-w",
             "256",
             "-l",
             "256",
             "-L"
            ]
           },
           61.34785267142965,
           23.759372731474567
          ],
          [
           "5eea1c2b7a359007b45fe9a5",
           "WD-76845-078.ome.tif",
           74575503064,
           3078.496503829956,
           47141997292,
           null,
           "lzw",
           63.213783823279314,
           null,
           [
            "-8",
            "-t",
            "-w",
            "256",
            "-l",
            "256",
            "-L"
           ],
           "/nvmen1Scratch/origData/htan-tnp-sardana-hms-prerelease-phase-1-data/recompressed/WD-76845-078.lzw.ome.tif",
           {
            "compressionMethod": "lzw",
            "filename": "WD-76845-078.ome.tif",
            "fullFilePath": "/s3FuseMounts/dgutman-htan-s3-synapse/htan-tnp-sardana-hms-prerelease-phase-1-data/WD-76845-078.ome.tif",
            "outputFile": "WD-76845-078.lzw.ome.tif",
            "tileString": [
             "-8",
             "-t",
             "-w",
             "256",
             "-l",
             "256",
             "-L"
            ]
           },
           63.213783823279314,
           24.224650887607197
          ],
          [
           "5eea1ee0692e2980bb5fe9a7",
           "WD-76845-091.ome.tif",
           77763198424,
           3100.2453513145447,
           46941291880,
           null,
           "lzw",
           60.36440479731161,
           null,
           [
            "-8",
            "-t",
            "-w",
            "256",
            "-l",
            "256",
            "-L"
           ],
           "/nvmen1Scratch/origData/htan-tnp-sardana-hms-prerelease-phase-1-data/recompressed/WD-76845-091.lzw.ome.tif",
           {
            "compressionMethod": "lzw",
            "filename": "WD-76845-091.ome.tif",
            "fullFilePath": "/s3FuseMounts/dgutman-htan-s3-synapse/htan-tnp-sardana-hms-prerelease-phase-1-data/WD-76845-091.ome.tif",
            "outputFile": "WD-76845-091.lzw.ome.tif",
            "tileString": [
             "-8",
             "-t",
             "-w",
             "256",
             "-l",
             "256",
             "-L"
            ]
           },
           60.36440479731161,
           25.08291751523065
          ],
          [
           "5eea2019692e2980bb5fe9a8",
           "WD-76845-058.ome.tif",
           11239878067,
           313.41111516952515,
           5589055960,
           null,
           "lzw",
           49.72523657893877,
           null,
           [
            "-8",
            "-t",
            "-w",
            "256",
            "-l",
            "256",
            "-L"
           ],
           "/nvmen1Scratch/origData/htan-tnp-sardana-hms-prerelease-phase-1-data/recompressed/WD-76845-058.lzw.ome.tif",
           {
            "compressionMethod": "lzw",
            "filename": "WD-76845-058.ome.tif",
            "fullFilePath": "/s3FuseMounts/dgutman-htan-s3-synapse/htan-tnp-sardana-hms-prerelease-phase-1-data/WD-76845-058.ome.tif",
            "outputFile": "WD-76845-058.lzw.ome.tif",
            "tileString": [
             "-8",
             "-t",
             "-w",
             "256",
             "-l",
             "256",
             "-L"
            ]
           },
           49.72523657893877,
           35.86304863795374
          ],
          [
           "5eea2ee9692e2980bb5fe9a9",
           "WD-76845-014.ome.tif",
           77763198424,
           3791.312817811966,
           47016796710,
           null,
           "lzw",
           60.461500636384876,
           null,
           [
            "-8",
            "-t",
            "-w",
            "256",
            "-l",
            "256",
            "-L"
           ],
           "/nvmen1Scratch/origData/htan-tnp-sardana-hms-prerelease-phase-1-data/recompressed/WD-76845-014.lzw.ome.tif",
           {
            "compressionMethod": "lzw",
            "filename": "WD-76845-014.ome.tif",
            "fullFilePath": "/s3FuseMounts/dgutman-htan-s3-synapse/htan-tnp-sardana-hms-prerelease-phase-1-data/WD-76845-014.ome.tif",
            "outputFile": "WD-76845-014.lzw.ome.tif",
            "tileString": [
             "-8",
             "-t",
             "-w",
             "256",
             "-l",
             "256",
             "-L"
            ]
           },
           60.461500636384876,
           20.51088954165447
          ],
          [
           "5eea3033049ce574635fe9a8",
           "WD-76845-039.ome.tif",
           86067983704,
           4233.785066604614,
           53440585756,
           null,
           "lzw",
           62.09113244686869,
           null,
           [
            "-8",
            "-t",
            "-w",
            "256",
            "-l",
            "256",
            "-L"
           ],
           "/nvmen1Scratch/origData/htan-tnp-sardana-hms-prerelease-phase-1-data/recompressed/WD-76845-039.lzw.ome.tif",
           {
            "compressionMethod": "lzw",
            "filename": "WD-76845-039.ome.tif",
            "fullFilePath": "/s3FuseMounts/dgutman-htan-s3-synapse/htan-tnp-sardana-hms-prerelease-phase-1-data/WD-76845-039.ome.tif",
            "outputFile": "WD-76845-039.lzw.ome.tif",
            "tileString": [
             "-8",
             "-t",
             "-w",
             "256",
             "-l",
             "256",
             "-L"
            ]
           },
           62.09113244686869,
           20.328850508470495
          ],
          [
           "5eea335b692e2980bb5fe9ab",
           "WD-76845-006.ome.tif",
           11834429731,
           358.8374652862549,
           5302035260,
           null,
           "lzw",
           44.801780740743666,
           null,
           [
            "-8",
            "-t",
            "-w",
            "256",
            "-l",
            "256",
            "-L"
           ],
           "/nvmen1Scratch/origData/htan-tnp-sardana-hms-prerelease-phase-1-data/recompressed/WD-76845-006.lzw.ome.tif",
           {
            "compressionMethod": "lzw",
            "filename": "WD-76845-006.ome.tif",
            "fullFilePath": "/s3FuseMounts/dgutman-htan-s3-synapse/htan-tnp-sardana-hms-prerelease-phase-1-data/WD-76845-006.ome.tif",
            "outputFile": "WD-76845-006.lzw.ome.tif",
            "tileString": [
             "-8",
             "-t",
             "-w",
             "256",
             "-l",
             "256",
             "-L"
            ]
           },
           44.801780740743666,
           32.979916747431425
          ],
          [
           "5eea3a55049ce574635fe9a9",
           "WD-76845-074.ome.tif",
           74575503064,
           2593.189691066742,
           47537861266,
           null,
           "lzw",
           63.744606892163304,
           null,
           [
            "-8",
            "-t",
            "-w",
            "256",
            "-l",
            "256",
            "-L"
           ],
           "/nvmen1Scratch/origData/htan-tnp-sardana-hms-prerelease-phase-1-data/recompressed/WD-76845-074.lzw.ome.tif",
           {
            "compressionMethod": "lzw",
            "filename": "WD-76845-074.ome.tif",
            "fullFilePath": "/s3FuseMounts/dgutman-htan-s3-synapse/htan-tnp-sardana-hms-prerelease-phase-1-data/WD-76845-074.ome.tif",
            "outputFile": "WD-76845-074.lzw.ome.tif",
            "tileString": [
             "-8",
             "-t",
             "-w",
             "256",
             "-l",
             "256",
             "-L"
            ]
           },
           63.744606892163304,
           28.758213608863457
          ],
          [
           "5eea3c11a6ab30e49fe00725",
           "WD-76845-063.ome.tif",
           11239878067,
           295.3778717517853,
           5677872514,
           null,
           "lzw",
           50.515428015808205,
           null,
           [
            "-8",
            "-t",
            "-w",
            "256",
            "-l",
            "256",
            "-L"
           ],
           "/nvmen1Scratch/origData/htan-tnp-sardana-hms-prerelease-phase-1-data/recompressed/WD-76845-063.lzw.ome.tif",
           {
            "compressionMethod": "lzw",
            "filename": "WD-76845-063.ome.tif",
            "fullFilePath": "/s3FuseMounts/dgutman-htan-s3-synapse/htan-tnp-sardana-hms-prerelease-phase-1-data/WD-76845-063.ome.tif",
            "outputFile": "WD-76845-063.lzw.ome.tif",
            "tileString": [
             "-8",
             "-t",
             "-w",
             "256",
             "-l",
             "256",
             "-L"
            ]
           },
           50.515428015808205,
           38.05253927906015
          ],
          [
           "5eea3e6928bc84a252e00726",
           "WD-76845-053.ome.tif",
           11239878067,
           553.3601450920105,
           5719560776,
           null,
           "lzw",
           50.88632405001338,
           null,
           [
            "-8",
            "-t",
            "-w",
            "256",
            "-l",
            "256",
            "-L"
           ],
           "/nvmen1Scratch/origData/htan-tnp-sardana-hms-prerelease-phase-1-data/recompressed/WD-76845-053.lzw.ome.tif",
           {
            "compressionMethod": "lzw",
            "filename": "WD-76845-053.ome.tif",
            "fullFilePath": "/s3FuseMounts/dgutman-htan-s3-synapse/htan-tnp-sardana-hms-prerelease-phase-1-data/WD-76845-053.ome.tif",
            "outputFile": "WD-76845-053.lzw.ome.tif",
            "tileString": [
             "-8",
             "-t",
             "-w",
             "256",
             "-l",
             "256",
             "-L"
            ]
           },
           50.88632405001338,
           20.31204843119137
          ],
          [
           "5eea4acd87f2d71db8e00725",
           "WD-76845-084.ome.tif",
           74575503064,
           4067.20813536644,
           47424991864,
           null,
           "lzw",
           63.59325772606631,
           null,
           [
            "-8",
            "-t",
            "-w",
            "256",
            "-l",
            "256",
            "-L"
           ],
           "/nvmen1Scratch/origData/htan-tnp-sardana-hms-prerelease-phase-1-data/recompressed/WD-76845-084.lzw.ome.tif",
           {
            "compressionMethod": "lzw",
            "filename": "WD-76845-084.ome.tif",
            "fullFilePath": "/s3FuseMounts/dgutman-htan-s3-synapse/htan-tnp-sardana-hms-prerelease-phase-1-data/WD-76845-084.ome.tif",
            "outputFile": "WD-76845-084.lzw.ome.tif",
            "tileString": [
             "-8",
             "-t",
             "-w",
             "256",
             "-l",
             "256",
             "-L"
            ]
           },
           63.59325772606631,
           18.335797082900218
          ],
          [
           "5eea4ba8f57863fbe4e00725",
           "WD-76845-064.ome.tif",
           79860366424,
           4285.834104776382,
           50454259642,
           null,
           "lzw",
           63.17809684734586,
           null,
           [
            "-8",
            "-t",
            "-w",
            "256",
            "-l",
            "256",
            "-L"
           ],
           "/nvmen1Scratch/origData/htan-tnp-sardana-hms-prerelease-phase-1-data/recompressed/WD-76845-064.lzw.ome.tif",
           {
            "compressionMethod": "lzw",
            "filename": "WD-76845-064.ome.tif",
            "fullFilePath": "/s3FuseMounts/dgutman-htan-s3-synapse/htan-tnp-sardana-hms-prerelease-phase-1-data/WD-76845-064.ome.tif",
            "outputFile": "WD-76845-064.lzw.ome.tif",
            "tileString": [
             "-8",
             "-t",
             "-w",
             "256",
             "-l",
             "256",
             "-L"
            ]
           },
           63.17809684734586,
           18.63356454581361
          ],
          [
           "5eea4d328d45a18a18e00725",
           "WD-76845-050.ome.tif",
           86067983704,
           4680.37166929245,
           53187594226,
           null,
           "lzw",
           61.79718861420024,
           null,
           [
            "-8",
            "-t",
            "-w",
            "256",
            "-l",
            "256",
            "-L"
           ],
           "/nvmen1Scratch/origData/htan-tnp-sardana-hms-prerelease-phase-1-data/recompressed/WD-76845-050.lzw.ome.tif",
           {
            "compressionMethod": "lzw",
            "filename": "WD-76845-050.ome.tif",
            "fullFilePath": "/s3FuseMounts/dgutman-htan-s3-synapse/htan-tnp-sardana-hms-prerelease-phase-1-data/WD-76845-050.ome.tif",
            "outputFile": "WD-76845-050.lzw.ome.tif",
            "tileString": [
             "-8",
             "-t",
             "-w",
             "256",
             "-l",
             "256",
             "-L"
            ]
           },
           61.79718861420024,
           18.38913440756965
          ],
          [
           "5eea4e3ca6ab30e49fe00726",
           "WD-76845-049.ome.tif",
           82209194584,
           4650.57892537117,
           51724195508,
           null,
           "lzw",
           62.9177743070443,
           null,
           [
            "-8",
            "-t",
            "-w",
            "256",
            "-l",
            "256",
            "-L"
           ],
           "/nvmen1Scratch/origData/htan-tnp-sardana-hms-prerelease-phase-1-data/recompressed/WD-76845-049.lzw.ome.tif",
           {
            "compressionMethod": "lzw",
            "filename": "WD-76845-049.ome.tif",
            "fullFilePath": "/s3FuseMounts/dgutman-htan-s3-synapse/htan-tnp-sardana-hms-prerelease-phase-1-data/WD-76845-049.ome.tif",
            "outputFile": "WD-76845-049.lzw.ome.tif",
            "tileString": [
             "-8",
             "-t",
             "-w",
             "256",
             "-l",
             "256",
             "-L"
            ]
           },
           62.9177743070443,
           17.67719587243404
          ],
          [
           "5eea4f8628bc84a252e00727",
           "WD-76845-086.ome.tif",
           77763198424,
           4380.983438014984,
           48874263426,
           null,
           "lzw",
           62.8501198722762,
           null,
           [
            "-8",
            "-t",
            "-w",
            "256",
            "-l",
            "256",
            "-L"
           ],
           "/nvmen1Scratch/origData/htan-tnp-sardana-hms-prerelease-phase-1-data/recompressed/WD-76845-086.lzw.ome.tif",
           {
            "compressionMethod": "lzw",
            "filename": "WD-76845-086.ome.tif",
            "fullFilePath": "/s3FuseMounts/dgutman-htan-s3-synapse/htan-tnp-sardana-hms-prerelease-phase-1-data/WD-76845-086.ome.tif",
            "outputFile": "WD-76845-086.lzw.ome.tif",
            "tileString": [
             "-8",
             "-t",
             "-w",
             "256",
             "-l",
             "256",
             "-L"
            ]
           },
           62.8501198722762,
           17.750169459493407
          ],
          [
           "5eea5a088d45a18a18e00726",
           "WD-76845-051.ome.tif",
           82209194584,
           3284.824033021927,
           54317245016,
           null,
           "lzw",
           66.0719829343414,
           null,
           [
            "-8",
            "-t",
            "-w",
            "256",
            "-l",
            "256",
            "-L"
           ],
           "/nvmen1Scratch/origData/htan-tnp-sardana-hms-prerelease-phase-1-data/recompressed/WD-76845-051.lzw.ome.tif",
           {
            "compressionMethod": "lzw",
            "filename": "WD-76845-051.ome.tif",
            "fullFilePath": "/s3FuseMounts/dgutman-htan-s3-synapse/htan-tnp-sardana-hms-prerelease-phase-1-data/WD-76845-051.ome.tif",
            "outputFile": "WD-76845-051.lzw.ome.tif",
            "tileString": [
             "-8",
             "-t",
             "-w",
             "256",
             "-l",
             "256",
             "-L"
            ]
           },
           66.0719829343414,
           25.02697062538547
          ],
          [
           "5eea5a4aa6ab30e49fe00727",
           "WD-76845-029.ome.tif",
           79860366424,
           3085.615531682968,
           48644979550,
           null,
           "lzw",
           60.91254238896278,
           null,
           [
            "-8",
            "-t",
            "-w",
            "256",
            "-l",
            "256",
            "-L"
           ],
           "/nvmen1Scratch/origData/htan-tnp-sardana-hms-prerelease-phase-1-data/recompressed/WD-76845-029.lzw.ome.tif",
           {
            "compressionMethod": "lzw",
            "filename": "WD-76845-029.ome.tif",
            "fullFilePath": "/s3FuseMounts/dgutman-htan-s3-synapse/htan-tnp-sardana-hms-prerelease-phase-1-data/WD-76845-029.ome.tif",
            "outputFile": "WD-76845-029.lzw.ome.tif",
            "tileString": [
             "-8",
             "-t",
             "-w",
             "256",
             "-l",
             "256",
             "-L"
            ]
           },
           60.91254238896278,
           25.88150260588112
          ]
         ],
         "fillcolor": "rgba(255,255,255,0)",
         "hoveron": "points",
         "hovertemplate": "compressionMethod=%{customdata[6]}<br>compressionRatio=%{customdata[12]}<br>_id=%{customdata[0]}<br>origFileName=%{customdata[1]}<br>origFileSize=%{customdata[2]}<br>executionTime=%{customdata[3]}<br>compressedFileSize=%{customdata[4]}<br>compressionOptions=%{customdata[5]}<br>compressionRate=%{customdata[7]}<br>outputFileName=%{customdata[8]}<br>tileInfo=%{customdata[9]}<br>outputFileNamewPath=%{customdata[10]}<br>origCompressionDict=%{customdata[11]}<br>mbytesPerSec=%{customdata[13]}<extra></extra>",
         "jitter": 0,
         "legendgroup": "lzw",
         "line": {
          "color": "rgba(255,255,255,0)"
         },
         "marker": {
          "color": "#636efa",
          "symbol": "line-ns-open"
         },
         "name": "lzw",
         "offsetgroup": "lzw",
         "showlegend": false,
         "type": "box",
         "x": [
          42.04810773649965,
          42.04810773649965,
          45.434979937522094,
          63.410474919100004,
          62.99147582940252,
          44.801780740743666,
          41.55841325667055,
          61.11235792033026,
          59.564160763377004,
          59.564160763377004,
          44.801780740743666,
          41.55841325667055,
          61.11235792033026,
          59.564160763377004,
          49.94599746790936,
          48.051333264534804,
          61.66918645602091,
          61.11235792033026,
          48.821578388904626,
          62.964688626912846,
          47.66203215612741,
          52.48456797384016,
          60.36684360995528,
          62.072944402330485,
          47.52787618593836,
          63.38345764092538,
          50.34392754485225,
          48.94268103247474,
          42.65523450484156,
          45.71366361165848,
          51.433079653740776,
          62.70725391938336,
          62.677916131423075,
          59.59509563286778,
          44.07333236942721,
          63.067547432405476,
          53.00484320654479,
          61.34785267142965,
          63.213783823279314,
          60.36440479731161,
          49.72523657893877,
          60.461500636384876,
          62.09113244686869,
          44.801780740743666,
          63.744606892163304,
          50.515428015808205,
          50.88632405001338,
          63.59325772606631,
          63.17809684734586,
          61.79718861420024,
          62.9177743070443,
          62.8501198722762,
          66.0719829343414,
          60.91254238896278
         ],
         "xaxis": "x2",
         "yaxis": "y2"
        },
        {
         "alignmentgroup": "True",
         "bingroup": "x",
         "hovertemplate": "compressionMethod=zip<br>compressionRatio=%{x}<br>count=%{y}<extra></extra>",
         "legendgroup": "zip",
         "marker": {
          "color": "#EF553B"
         },
         "name": "zip",
         "nbinsx": 25,
         "offsetgroup": "zip",
         "orientation": "v",
         "showlegend": true,
         "type": "histogram",
         "x": [
          49.315788088988384,
          36.61950581909286,
          33.58983727278202,
          50.503047339285914,
          36.61950581909286,
          39.55224688132807,
          41.51413014995118,
          51.222433070225435,
          40.45264874669214,
          36.33974094727301,
          51.4742538700094,
          51.001945294945806,
          50.86888010595425,
          51.97479864610746,
          34.8560137674965,
          38.76818687706823,
          51.71288535798724,
          33.58983727278202,
          38.847058918282976,
          41.39344829424652,
          40.03597884897526,
          38.983320900801395,
          43.32215509777528,
          49.86592597512319,
          50.354889190584565,
          41.48401582477772,
          37.59068991632663,
          40.85280255142517,
          38.846420068111826
         ],
         "xaxis": "x",
         "yaxis": "y"
        },
        {
         "alignmentgroup": "True",
         "boxpoints": "all",
         "customdata": [
          [
           "5ee8ffa2141a70165aed4920",
           "WD-76845-002.ome.tif",
           94540542424,
           5913.4547290802,
           46623413560,
           null,
           "zip",
           49.315788088988384,
           null,
           [
            "-8",
            "-t",
            "-w",
            "256",
            "-l",
            "256",
            "-L"
           ],
           "/nvmen1Scratch/origData/htan-tnp-sardana-hms-prerelease-phase-1-data/recompressed/WD-76845-002.zip.ome.tif",
           {
            "compressionMethod": "zip",
            "filename": "WD-76845-002.ome.tif",
            "fullFilePath": "/nvmen1Scratch/origData/htan-tnp-sardana-hms-prerelease-phase-1-data/WD-76845-002.ome.tif",
            "outputFile": "WD-76845-002.zip.ome.tif",
            "tileString": [
             "-8",
             "-t",
             "-w",
             "256",
             "-l",
             "256",
             "-L"
            ]
           },
           49.315788088988384,
           15.987362169035354
          ],
          [
           "5ee9159f472cad3ec2fd998e",
           "WD-76845-006.ome.tif",
           11834429731,
           373.9866123199463,
           4333709684,
           null,
           "zip",
           36.61950581909286,
           null,
           [
            "-8",
            "-t",
            "-w",
            "256",
            "-l",
            "256",
            "-L"
           ],
           "/nvmen1Scratch/origData/htan-tnp-sardana-hms-prerelease-phase-1-data/recompressed/WD-76845-006.zip.ome.tif",
           {
            "compressionMethod": "zip",
            "filename": "WD-76845-006.ome.tif",
            "fullFilePath": "/nvmen1Scratch/origData/htan-tnp-sardana-hms-prerelease-phase-1-data/WD-76845-006.ome.tif",
            "outputFile": "WD-76845-006.zip.ome.tif",
            "tileString": [
             "-8",
             "-t",
             "-w",
             "256",
             "-l",
             "256",
             "-L"
            ]
           },
           36.61950581909286,
           31.643992969661763
          ],
          [
           "5ee91890557b784b56fd9991",
           "WD-76845-001.ome.tif",
           13048699267,
           366.1013991832733,
           4383036850,
           null,
           "zip",
           33.58983727278202,
           null,
           [
            "-8",
            "-t",
            "-w",
            "256",
            "-l",
            "256",
            "-L"
           ],
           "/nvmen1Scratch/origData/htan-tnp-sardana-hms-prerelease-phase-1-data/recompressed/WD-76845-001.zip.ome.tif",
           {
            "compressionMethod": "zip",
            "filename": "WD-76845-001.ome.tif",
            "fullFilePath": "/nvmen1Scratch/origData/htan-tnp-sardana-hms-prerelease-phase-1-data/WD-76845-001.ome.tif",
            "outputFile": "WD-76845-001.zip.ome.tif",
            "tileString": [
             "-8",
             "-t",
             "-w",
             "256",
             "-l",
             "256",
             "-L"
            ]
           },
           33.58983727278202,
           35.64230919660516
          ],
          [
           "5ee92c7a31a89af274fd998e",
           "WD-76845-007.ome.tif",
           86067983704,
           6224.081640005112,
           43466954554,
           null,
           "zip",
           50.503047339285914,
           null,
           [
            "-8",
            "-t",
            "-w",
            "256",
            "-l",
            "256",
            "-L"
           ],
           "/nvmen1Scratch/origData/htan-tnp-sardana-hms-prerelease-phase-1-data/recompressed/WD-76845-007.zip.ome.tif",
           {
            "compressionMethod": "zip",
            "filename": "WD-76845-007.ome.tif",
            "fullFilePath": "/nvmen1Scratch/origData/htan-tnp-sardana-hms-prerelease-phase-1-data/WD-76845-007.ome.tif",
            "outputFile": "WD-76845-007.zip.ome.tif",
            "tileString": [
             "-8",
             "-t",
             "-w",
             "256",
             "-l",
             "256",
             "-L"
            ]
           },
           50.503047339285914,
           13.828222167074484
          ],
          [
           "5ee93f5727c36180e3eadeaa",
           "WD-76845-006.ome.tif",
           11834429731,
           426.4925584793091,
           4333709684,
           null,
           "zip",
           36.61950581909286,
           null,
           [
            "-8",
            "-t",
            "-w",
            "256",
            "-l",
            "256",
            "-L"
           ],
           "/nvmen1Scratch/origData/htan-tnp-sardana-hms-prerelease-phase-1-data/recompressed/WD-76845-006.zip.ome.tif",
           {
            "compressionMethod": "zip",
            "filename": "WD-76845-006.ome.tif",
            "fullFilePath": "/s3FuseMounts/dgutman-htan-s3-synapse/htan-tnp-sardana-hms-prerelease-phase-1-data/WD-76845-006.ome.tif",
            "outputFile": "WD-76845-006.zip.ome.tif",
            "tileString": [
             "-8",
             "-t",
             "-w",
             "256",
             "-l",
             "256",
             "-L"
            ]
           },
           36.61950581909286,
           27.74826780846198
          ],
          [
           "5ee955719d5df40196038554",
           "WD-76845-068.ome.tif",
           10812052531,
           656.9697570800781,
           4276409710,
           null,
           "zip",
           39.55224688132807,
           null,
           [
            "-8",
            "-t",
            "-w",
            "256",
            "-l",
            "256",
            "-L"
           ],
           "/nvmen1Scratch/origData/htan-tnp-sardana-hms-prerelease-phase-1-data/recompressed/WD-76845-068.zip.ome.tif",
           {
            "compressionMethod": "zip",
            "filename": "WD-76845-068.ome.tif",
            "fullFilePath": "/s3FuseMounts/dgutman-htan-s3-synapse/htan-tnp-sardana-hms-prerelease-phase-1-data/WD-76845-068.ome.tif",
            "outputFile": "WD-76845-068.zip.ome.tif",
            "tileString": [
             "-8",
             "-t",
             "-w",
             "256",
             "-l",
             "256",
             "-L"
            ]
           },
           39.55224688132807,
           16.457458527550024
          ],
          [
           "5ee95cc11a4aa37fe2038557",
           "WD-76845-090.ome.tif",
           10657909507,
           684.5972726345062,
           4424538424,
           null,
           "zip",
           41.51413014995118,
           null,
           [
            "-8",
            "-t",
            "-w",
            "256",
            "-l",
            "256",
            "-L"
           ],
           "/nvmen1Scratch/origData/htan-tnp-sardana-hms-prerelease-phase-1-data/recompressed/WD-76845-090.zip.ome.tif",
           {
            "compressionMethod": "zip",
            "filename": "WD-76845-090.ome.tif",
            "fullFilePath": "/s3FuseMounts/dgutman-htan-s3-synapse/htan-tnp-sardana-hms-prerelease-phase-1-data/WD-76845-090.ome.tif",
            "outputFile": "WD-76845-090.zip.ome.tif",
            "tileString": [
             "-8",
             "-t",
             "-w",
             "256",
             "-l",
             "256",
             "-L"
            ]
           },
           41.51413014995118,
           15.568144853960089
          ],
          [
           "5ee973eb07c5288327038555",
           "WD-76845-102.ome.tif",
           77763198424,
           7647.646546363831,
           39832202266,
           null,
           "zip",
           51.222433070225435,
           null,
           [
            "-8",
            "-t",
            "-w",
            "256",
            "-l",
            "256",
            "-L"
           ],
           "/nvmen1Scratch/origData/htan-tnp-sardana-hms-prerelease-phase-1-data/recompressed/WD-76845-102.zip.ome.tif",
           {
            "compressionMethod": "zip",
            "filename": "WD-76845-102.ome.tif",
            "fullFilePath": "/s3FuseMounts/dgutman-htan-s3-synapse/htan-tnp-sardana-hms-prerelease-phase-1-data/WD-76845-102.ome.tif",
            "outputFile": "WD-76845-102.zip.ome.tif",
            "tileString": [
             "-8",
             "-t",
             "-w",
             "256",
             "-l",
             "256",
             "-L"
            ]
           },
           51.222433070225435,
           10.168252148234217
          ],
          [
           "5ee975c907c5288327038556",
           "WD-76845-058.ome.tif",
           11239878067,
           477.77342534065247,
           4546828394,
           null,
           "zip",
           40.45264874669214,
           null,
           [
            "-8",
            "-t",
            "-w",
            "256",
            "-l",
            "256",
            "-L"
           ],
           "/nvmen1Scratch/origData/htan-tnp-sardana-hms-prerelease-phase-1-data/recompressed/WD-76845-058.zip.ome.tif",
           {
            "compressionMethod": "zip",
            "filename": "WD-76845-058.ome.tif",
            "fullFilePath": "/s3FuseMounts/dgutman-htan-s3-synapse/htan-tnp-sardana-hms-prerelease-phase-1-data/WD-76845-058.ome.tif",
            "outputFile": "WD-76845-058.zip.ome.tif",
            "tileString": [
             "-8",
             "-t",
             "-w",
             "256",
             "-l",
             "256",
             "-L"
            ]
           },
           40.45264874669214,
           23.525540498586683
          ],
          [
           "5ee9783f9d5df40196038556",
           "WD-76845-013.ome.tif",
           12727830115,
           496.34153175354004,
           4625260492,
           null,
           "zip",
           36.33974094727301,
           null,
           [
            "-8",
            "-t",
            "-w",
            "256",
            "-l",
            "256",
            "-L"
           ],
           "/nvmen1Scratch/origData/htan-tnp-sardana-hms-prerelease-phase-1-data/recompressed/WD-76845-013.zip.ome.tif",
           {
            "compressionMethod": "zip",
            "filename": "WD-76845-013.ome.tif",
            "fullFilePath": "/s3FuseMounts/dgutman-htan-s3-synapse/htan-tnp-sardana-hms-prerelease-phase-1-data/WD-76845-013.ome.tif",
            "outputFile": "WD-76845-013.zip.ome.tif",
            "tileString": [
             "-8",
             "-t",
             "-w",
             "256",
             "-l",
             "256",
             "-L"
            ]
           },
           36.33974094727301,
           25.643290558485937
          ],
          [
           "5ee97a8c1a4aa37fe2038559",
           "WD-76845-078.ome.tif",
           74575503064,
           7113.485237121582,
           38387183772,
           null,
           "zip",
           51.4742538700094,
           null,
           [
            "-8",
            "-t",
            "-w",
            "256",
            "-l",
            "256",
            "-L"
           ],
           "/nvmen1Scratch/origData/htan-tnp-sardana-hms-prerelease-phase-1-data/recompressed/WD-76845-078.zip.ome.tif",
           {
            "compressionMethod": "zip",
            "filename": "WD-76845-078.ome.tif",
            "fullFilePath": "/s3FuseMounts/dgutman-htan-s3-synapse/htan-tnp-sardana-hms-prerelease-phase-1-data/WD-76845-078.ome.tif",
            "outputFile": "WD-76845-078.zip.ome.tif",
            "tileString": [
             "-8",
             "-t",
             "-w",
             "256",
             "-l",
             "256",
             "-L"
            ]
           },
           51.4742538700094,
           10.483680021549663
          ],
          [
           "5ee980c01e0218235a038555",
           "WD-76845-054.ome.tif",
           80028139864,
           7589.115649223328,
           40815908114,
           null,
           "zip",
           51.001945294945806,
           null,
           [
            "-8",
            "-t",
            "-w",
            "256",
            "-l",
            "256",
            "-L"
           ],
           "/nvmen1Scratch/origData/htan-tnp-sardana-hms-prerelease-phase-1-data/recompressed/WD-76845-054.zip.ome.tif",
           {
            "compressionMethod": "zip",
            "filename": "WD-76845-054.ome.tif",
            "fullFilePath": "/s3FuseMounts/dgutman-htan-s3-synapse/htan-tnp-sardana-hms-prerelease-phase-1-data/WD-76845-054.ome.tif",
            "outputFile": "WD-76845-054.zip.ome.tif",
            "tileString": [
             "-8",
             "-t",
             "-w",
             "256",
             "-l",
             "256",
             "-L"
            ]
           },
           51.001945294945806,
           10.545120612596028
          ],
          [
           "5ee9834bc8c1e225d3038556",
           "WD-76845-050.ome.tif",
           86067983704,
           8109.37854886055,
           43781819440,
           null,
           "zip",
           50.86888010595425,
           null,
           [
            "-8",
            "-t",
            "-w",
            "256",
            "-l",
            "256",
            "-L"
           ],
           "/nvmen1Scratch/origData/htan-tnp-sardana-hms-prerelease-phase-1-data/recompressed/WD-76845-050.zip.ome.tif",
           {
            "compressionMethod": "zip",
            "filename": "WD-76845-050.ome.tif",
            "fullFilePath": "/s3FuseMounts/dgutman-htan-s3-synapse/htan-tnp-sardana-hms-prerelease-phase-1-data/WD-76845-050.ome.tif",
            "outputFile": "WD-76845-050.zip.ome.tif",
            "tileString": [
             "-8",
             "-t",
             "-w",
             "256",
             "-l",
             "256",
             "-L"
            ]
           },
           50.86888010595425,
           10.613388336162137
          ],
          [
           "5ee9a5cf1a4aa37fe203855b",
           "WD-76845-034.ome.tif",
           88249038424,
           5954.852608203888,
           45867260028,
           null,
           "zip",
           51.97479864610746,
           null,
           [
            "-8",
            "-t",
            "-w",
            "256",
            "-l",
            "256",
            "-L"
           ],
           "/nvmen1Scratch/origData/htan-tnp-sardana-hms-prerelease-phase-1-data/recompressed/WD-76845-034.zip.ome.tif",
           {
            "compressionMethod": "zip",
            "filename": "WD-76845-034.ome.tif",
            "fullFilePath": "/s3FuseMounts/dgutman-htan-s3-synapse/htan-tnp-sardana-hms-prerelease-phase-1-data/WD-76845-034.ome.tif",
            "outputFile": "WD-76845-034.zip.ome.tif",
            "tileString": [
             "-8",
             "-t",
             "-w",
             "256",
             "-l",
             "256",
             "-L"
            ]
           },
           51.97479864610746,
           14.819684756331494
          ],
          [
           "5eea00e3b5f447f61e5fe9a3",
           "WD-76845-019.ome.tif",
           13674708691,
           464.418737411499,
           4766458344,
           null,
           "zip",
           34.8560137674965,
           null,
           [
            "-8",
            "-t",
            "-w",
            "256",
            "-l",
            "256",
            "-L"
           ],
           "/nvmen1Scratch/origData/htan-tnp-sardana-hms-prerelease-phase-1-data/recompressed/WD-76845-019.zip.ome.tif",
           {
            "compressionMethod": "zip",
            "filename": "WD-76845-019.ome.tif",
            "fullFilePath": "/s3FuseMounts/dgutman-htan-s3-synapse/htan-tnp-sardana-hms-prerelease-phase-1-data/WD-76845-019.ome.tif",
            "outputFile": "WD-76845-019.zip.ome.tif",
            "tileString": [
             "-8",
             "-t",
             "-w",
             "256",
             "-l",
             "256",
             "-L"
            ]
           },
           34.8560137674965,
           29.444782454768834
          ],
          [
           "5eea00fb692e2980bb5fe9a3",
           "WD-76845-101.ome.tif",
           11221003432,
           488.72994661331177,
           4350179580,
           null,
           "zip",
           38.76818687706823,
           null,
           [
            "-8",
            "-t",
            "-w",
            "256",
            "-l",
            "256",
            "-L"
           ],
           "/nvmen1Scratch/origData/htan-tnp-sardana-hms-prerelease-phase-1-data/recompressed/WD-76845-101.zip.ome.tif",
           {
            "compressionMethod": "zip",
            "filename": "WD-76845-101.ome.tif",
            "fullFilePath": "/s3FuseMounts/dgutman-htan-s3-synapse/htan-tnp-sardana-hms-prerelease-phase-1-data/WD-76845-101.ome.tif",
            "outputFile": "WD-76845-101.zip.ome.tif",
            "tileString": [
             "-8",
             "-t",
             "-w",
             "256",
             "-l",
             "256",
             "-L"
            ]
           },
           38.76818687706823,
           22.95951682469373
          ],
          [
           "5eea22fbb5f447f61e5fe9a6",
           "WD-76845-097.ome.tif",
           80028139864,
           7728.564301967621,
           41384860222,
           null,
           "zip",
           51.71288535798724,
           null,
           [
            "-8",
            "-t",
            "-w",
            "256",
            "-l",
            "256",
            "-L"
           ],
           "/nvmen1Scratch/origData/htan-tnp-sardana-hms-prerelease-phase-1-data/recompressed/WD-76845-097.zip.ome.tif",
           {
            "compressionMethod": "zip",
            "filename": "WD-76845-097.ome.tif",
            "fullFilePath": "/s3FuseMounts/dgutman-htan-s3-synapse/htan-tnp-sardana-hms-prerelease-phase-1-data/WD-76845-097.ome.tif",
            "outputFile": "WD-76845-097.zip.ome.tif",
            "tileString": [
             "-8",
             "-t",
             "-w",
             "256",
             "-l",
             "256",
             "-L"
            ]
           },
           51.71288535798724,
           10.354852044593272
          ],
          [
           "5eea31f4692e2980bb5fe9aa",
           "WD-76845-001.ome.tif",
           13048699267,
           778.0672495365143,
           4383036850,
           null,
           "zip",
           33.58983727278202,
           null,
           [
            "-8",
            "-t",
            "-w",
            "256",
            "-l",
            "256",
            "-L"
           ],
           "/nvmen1Scratch/origData/htan-tnp-sardana-hms-prerelease-phase-1-data/recompressed/WD-76845-001.zip.ome.tif",
           {
            "compressionMethod": "zip",
            "filename": "WD-76845-001.ome.tif",
            "fullFilePath": "/s3FuseMounts/dgutman-htan-s3-synapse/htan-tnp-sardana-hms-prerelease-phase-1-data/WD-76845-001.ome.tif",
            "outputFile": "WD-76845-001.zip.ome.tif",
            "tileString": [
             "-8",
             "-t",
             "-w",
             "256",
             "-l",
             "256",
             "-L"
            ]
           },
           33.58983727278202,
           16.770657388256556
          ],
          [
           "5eea37fc7a359007b45fe9a7",
           "WD-76845-048.ome.tif",
           12067217155,
           509.8421034812927,
           4687758958,
           null,
           "zip",
           38.847058918282976,
           null,
           [
            "-8",
            "-t",
            "-w",
            "256",
            "-l",
            "256",
            "-L"
           ],
           "/nvmen1Scratch/origData/htan-tnp-sardana-hms-prerelease-phase-1-data/recompressed/WD-76845-048.zip.ome.tif",
           {
            "compressionMethod": "zip",
            "filename": "WD-76845-048.ome.tif",
            "fullFilePath": "/s3FuseMounts/dgutman-htan-s3-synapse/htan-tnp-sardana-hms-prerelease-phase-1-data/WD-76845-048.ome.tif",
            "outputFile": "WD-76845-048.zip.ome.tif",
            "tileString": [
             "-8",
             "-t",
             "-w",
             "256",
             "-l",
             "256",
             "-L"
            ]
           },
           38.847058918282976,
           23.668537911253093
          ],
          [
           "5eea3c3f28bc84a252e00725",
           "WD-76845-063.ome.tif",
           11239878067,
           341.2902190685272,
           4652573116,
           null,
           "zip",
           41.39344829424652,
           null,
           [
            "-8",
            "-t",
            "-w",
            "256",
            "-l",
            "256",
            "-L"
           ],
           "/nvmen1Scratch/origData/htan-tnp-sardana-hms-prerelease-phase-1-data/recompressed/WD-76845-063.zip.ome.tif",
           {
            "compressionMethod": "zip",
            "filename": "WD-76845-063.ome.tif",
            "fullFilePath": "/s3FuseMounts/dgutman-htan-s3-synapse/htan-tnp-sardana-hms-prerelease-phase-1-data/WD-76845-063.ome.tif",
            "outputFile": "WD-76845-063.zip.ome.tif",
            "tileString": [
             "-8",
             "-t",
             "-w",
             "256",
             "-l",
             "256",
             "-L"
            ]
           },
           41.39344829424652,
           32.933490147114824
          ],
          [
           "5eea3ce807b8d638b9e00725",
           "WD-76845-024.ome.tif",
           11834429731,
           510.6742694377899,
           4738029784,
           null,
           "zip",
           40.03597884897526,
           null,
           [
            "-8",
            "-t",
            "-w",
            "256",
            "-l",
            "256",
            "-L"
           ],
           "/nvmen1Scratch/origData/htan-tnp-sardana-hms-prerelease-phase-1-data/recompressed/WD-76845-024.zip.ome.tif",
           {
            "compressionMethod": "zip",
            "filename": "WD-76845-024.ome.tif",
            "fullFilePath": "/s3FuseMounts/dgutman-htan-s3-synapse/htan-tnp-sardana-hms-prerelease-phase-1-data/WD-76845-024.ome.tif",
            "outputFile": "WD-76845-024.zip.ome.tif",
            "tileString": [
             "-8",
             "-t",
             "-w",
             "256",
             "-l",
             "256",
             "-L"
            ]
           },
           40.03597884897526,
           23.17412573777944
          ],
          [
           "5eea3fc907b8d638b9e00726",
           "WD-76845-077.ome.tif",
           11221003411,
           736.1407277584076,
           4374319768,
           null,
           "zip",
           38.983320900801395,
           null,
           [
            "-8",
            "-t",
            "-w",
            "256",
            "-l",
            "256",
            "-L"
           ],
           "/nvmen1Scratch/origData/htan-tnp-sardana-hms-prerelease-phase-1-data/recompressed/WD-76845-077.zip.ome.tif",
           {
            "compressionMethod": "zip",
            "filename": "WD-76845-077.ome.tif",
            "fullFilePath": "/s3FuseMounts/dgutman-htan-s3-synapse/htan-tnp-sardana-hms-prerelease-phase-1-data/WD-76845-077.ome.tif",
            "outputFile": "WD-76845-077.zip.ome.tif",
            "tileString": [
             "-8",
             "-t",
             "-w",
             "256",
             "-l",
             "256",
             "-L"
            ]
           },
           38.983320900801395,
           15.243013988872242
          ],
          [
           "5eea4d9b87f2d71db8e00726",
           "WD-76845-083.ome.tif",
           10270979059,
           717.2146389484406,
           4449609478,
           null,
           "zip",
           43.32215509777528,
           null,
           [
            "-8",
            "-t",
            "-w",
            "256",
            "-l",
            "256",
            "-L"
           ],
           "/nvmen1Scratch/origData/htan-tnp-sardana-hms-prerelease-phase-1-data/recompressed/WD-76845-083.zip.ome.tif",
           {
            "compressionMethod": "zip",
            "filename": "WD-76845-083.ome.tif",
            "fullFilePath": "/s3FuseMounts/dgutman-htan-s3-synapse/htan-tnp-sardana-hms-prerelease-phase-1-data/WD-76845-083.ome.tif",
            "outputFile": "WD-76845-083.zip.ome.tif",
            "tileString": [
             "-8",
             "-t",
             "-w",
             "256",
             "-l",
             "256",
             "-L"
            ]
           },
           43.32215509777528,
           14.3206489399868
          ],
          [
           "5eea5a10c437a94ce9e00725",
           "WD-76845-014.ome.tif",
           77763198424,
           7973.798753499985,
           38777338962,
           null,
           "zip",
           49.86592597512319,
           null,
           [
            "-8",
            "-t",
            "-w",
            "256",
            "-l",
            "256",
            "-L"
           ],
           "/nvmen1Scratch/origData/htan-tnp-sardana-hms-prerelease-phase-1-data/recompressed/WD-76845-014.zip.ome.tif",
           {
            "compressionMethod": "zip",
            "filename": "WD-76845-014.ome.tif",
            "fullFilePath": "/s3FuseMounts/dgutman-htan-s3-synapse/htan-tnp-sardana-hms-prerelease-phase-1-data/WD-76845-014.ome.tif",
            "outputFile": "WD-76845-014.zip.ome.tif",
            "tileString": [
             "-8",
             "-t",
             "-w",
             "256",
             "-l",
             "256",
             "-L"
            ]
           },
           49.86592597512319,
           9.75234023681209
          ],
          [
           "5eea5ab4485aac8111e00725",
           "WD-76845-029.ome.tif",
           79860366424,
           8137.981534957886,
           40213599020,
           null,
           "zip",
           50.354889190584565,
           null,
           [
            "-8",
            "-t",
            "-w",
            "256",
            "-l",
            "256",
            "-L"
           ],
           "/nvmen1Scratch/origData/htan-tnp-sardana-hms-prerelease-phase-1-data/recompressed/WD-76845-029.zip.ome.tif",
           {
            "compressionMethod": "zip",
            "filename": "WD-76845-029.ome.tif",
            "fullFilePath": "/s3FuseMounts/dgutman-htan-s3-synapse/htan-tnp-sardana-hms-prerelease-phase-1-data/WD-76845-029.ome.tif",
            "outputFile": "WD-76845-029.zip.ome.tif",
            "tileString": [
             "-8",
             "-t",
             "-w",
             "256",
             "-l",
             "256",
             "-L"
            ]
           },
           50.354889190584565,
           9.813289214401403
          ],
          [
           "5eea5c90a6ab30e49fe00728",
           "WD-76845-053.ome.tif",
           11239878067,
           579.8602466583252,
           4662752796,
           null,
           "zip",
           41.48401582477772,
           null,
           [
            "-8",
            "-t",
            "-w",
            "256",
            "-l",
            "256",
            "-L"
           ],
           "/nvmen1Scratch/origData/htan-tnp-sardana-hms-prerelease-phase-1-data/recompressed/WD-76845-053.zip.ome.tif",
           {
            "compressionMethod": "zip",
            "filename": "WD-76845-053.ome.tif",
            "fullFilePath": "/s3FuseMounts/dgutman-htan-s3-synapse/htan-tnp-sardana-hms-prerelease-phase-1-data/WD-76845-053.ome.tif",
            "outputFile": "WD-76845-053.zip.ome.tif",
            "tileString": [
             "-8",
             "-t",
             "-w",
             "256",
             "-l",
             "256",
             "-L"
            ]
           },
           41.48401582477772,
           19.38377071333008
          ],
          [
           "5eea5cd507b8d638b9e00728",
           "WD-76845-033.ome.tif",
           12715247011,
           563.4451377391815,
           4779749076,
           null,
           "zip",
           37.59068991632663,
           null,
           [
            "-8",
            "-t",
            "-w",
            "256",
            "-l",
            "256",
            "-L"
           ],
           "/nvmen1Scratch/origData/htan-tnp-sardana-hms-prerelease-phase-1-data/recompressed/WD-76845-033.zip.ome.tif",
           {
            "compressionMethod": "zip",
            "filename": "WD-76845-033.ome.tif",
            "fullFilePath": "/s3FuseMounts/dgutman-htan-s3-synapse/htan-tnp-sardana-hms-prerelease-phase-1-data/WD-76845-033.ome.tif",
            "outputFile": "WD-76845-033.zip.ome.tif",
            "tileString": [
             "-8",
             "-t",
             "-w",
             "256",
             "-l",
             "256",
             "-L"
            ]
           },
           37.59068991632663,
           22.566965547027014
          ],
          [
           "5eea5e8e07b8d638b9e00729",
           "WD-76845-085.ome.tif",
           11384583763,
           440.0287048816681,
           4650921526,
           null,
           "zip",
           40.85280255142517,
           null,
           [
            "-8",
            "-t",
            "-w",
            "256",
            "-l",
            "256",
            "-L"
           ],
           "/nvmen1Scratch/origData/htan-tnp-sardana-hms-prerelease-phase-1-data/recompressed/WD-76845-085.zip.ome.tif",
           {
            "compressionMethod": "zip",
            "filename": "WD-76845-085.ome.tif",
            "fullFilePath": "/s3FuseMounts/dgutman-htan-s3-synapse/htan-tnp-sardana-hms-prerelease-phase-1-data/WD-76845-085.ome.tif",
            "outputFile": "WD-76845-085.zip.ome.tif",
            "tileString": [
             "-8",
             "-t",
             "-w",
             "256",
             "-l",
             "256",
             "-L"
            ]
           },
           40.85280255142517,
           25.87236613588999
          ],
          [
           "5eea6f7528bc84a252e0072a",
           "WD-76845-038.ome.tif",
           12079800259,
           536.2734694480896,
           4692569952,
           null,
           "zip",
           38.846420068111826,
           null,
           [
            "-8",
            "-t",
            "-w",
            "256",
            "-l",
            "256",
            "-L"
           ],
           "/nvmen1Scratch/origData/htan-tnp-sardana-hms-prerelease-phase-1-data/recompressed/WD-76845-038.zip.ome.tif",
           {
            "compressionMethod": "zip",
            "filename": "WD-76845-038.ome.tif",
            "fullFilePath": "/s3FuseMounts/dgutman-htan-s3-synapse/htan-tnp-sardana-hms-prerelease-phase-1-data/WD-76845-038.ome.tif",
            "outputFile": "WD-76845-038.zip.ome.tif",
            "tileString": [
             "-8",
             "-t",
             "-w",
             "256",
             "-l",
             "256",
             "-L"
            ]
           },
           38.846420068111826,
           22.52544820356679
          ]
         ],
         "fillcolor": "rgba(255,255,255,0)",
         "hoveron": "points",
         "hovertemplate": "compressionMethod=%{customdata[6]}<br>compressionRatio=%{customdata[12]}<br>_id=%{customdata[0]}<br>origFileName=%{customdata[1]}<br>origFileSize=%{customdata[2]}<br>executionTime=%{customdata[3]}<br>compressedFileSize=%{customdata[4]}<br>compressionOptions=%{customdata[5]}<br>compressionRate=%{customdata[7]}<br>outputFileName=%{customdata[8]}<br>tileInfo=%{customdata[9]}<br>outputFileNamewPath=%{customdata[10]}<br>origCompressionDict=%{customdata[11]}<br>mbytesPerSec=%{customdata[13]}<extra></extra>",
         "jitter": 0,
         "legendgroup": "zip",
         "line": {
          "color": "rgba(255,255,255,0)"
         },
         "marker": {
          "color": "#EF553B",
          "symbol": "line-ns-open"
         },
         "name": "zip",
         "offsetgroup": "zip",
         "showlegend": false,
         "type": "box",
         "x": [
          49.315788088988384,
          36.61950581909286,
          33.58983727278202,
          50.503047339285914,
          36.61950581909286,
          39.55224688132807,
          41.51413014995118,
          51.222433070225435,
          40.45264874669214,
          36.33974094727301,
          51.4742538700094,
          51.001945294945806,
          50.86888010595425,
          51.97479864610746,
          34.8560137674965,
          38.76818687706823,
          51.71288535798724,
          33.58983727278202,
          38.847058918282976,
          41.39344829424652,
          40.03597884897526,
          38.983320900801395,
          43.32215509777528,
          49.86592597512319,
          50.354889190584565,
          41.48401582477772,
          37.59068991632663,
          40.85280255142517,
          38.846420068111826
         ],
         "xaxis": "x2",
         "yaxis": "y2"
        },
        {
         "alignmentgroup": "True",
         "bingroup": "x",
         "hovertemplate": "compressionMethod=zip:2<br>compressionRatio=%{x}<br>count=%{y}<extra></extra>",
         "legendgroup": "zip:2",
         "marker": {
          "color": "#00cc96"
         },
         "name": "zip:2",
         "nbinsx": 25,
         "offsetgroup": "zip:2",
         "orientation": "v",
         "showlegend": true,
         "type": "histogram",
         "x": [
          31.504508326527997,
          28.951587393496176,
          49.96832523218651,
          49.01867894956727,
          49.01867894956727,
          49.96832523218651,
          35.72398626140535,
          33.17488563798168,
          32.95387664712992,
          33.56443567022943,
          49.255709091536836,
          50.13233975410848,
          50.40815312835506,
          49.36939489089169,
          31.450543025553813,
          33.82850679632704,
          50.318648095201,
          34.37898285876485,
          49.68739215060128,
          49.9582354755743,
          34.39619386636332,
          50.44165348199843,
          49.179616912718046,
          30.51883960504921,
          34.85572287473542,
          50.235391288701216,
          34.8750110111459,
          50.435650401165354,
          35.07842936104335,
          50.66919276102196,
          52.04458250017587,
          32.823907870876,
          50.09955265060202,
          28.951587393496176,
          29.420981089329445,
          49.61473996393503,
          50.598472370134154,
          50.38104818901575,
          51.17570173967791
         ],
         "xaxis": "x",
         "yaxis": "y"
        },
        {
         "alignmentgroup": "True",
         "boxpoints": "all",
         "customdata": [
          [
           "5ee91669557b784b56fd998f",
           "WD-76845-006.ome.tif",
           11834429731,
           397.7636926174164,
           3728378900,
           null,
           "zip:2",
           31.504508326527997,
           null,
           [
            "-8",
            "-t",
            "-w",
            "256",
            "-l",
            "256",
            "-L"
           ],
           "/nvmen1Scratch/origData/htan-tnp-sardana-hms-prerelease-phase-1-data/recompressed/WD-76845-006.zip:2.ome.tif",
           {
            "compressionMethod": "zip:2",
            "filename": "WD-76845-006.ome.tif",
            "fullFilePath": "/nvmen1Scratch/origData/htan-tnp-sardana-hms-prerelease-phase-1-data/WD-76845-006.ome.tif",
            "outputFile": "WD-76845-006.zip:2.ome.tif",
            "tileString": [
             "-8",
             "-t",
             "-w",
             "256",
             "-l",
             "256",
             "-L"
            ]
           },
           31.504508326527997,
           29.75241318061371
          ],
          [
           "5ee91a15557b784b56fd9992",
           "WD-76845-001.ome.tif",
           13048699267,
           388.8447744846344,
           3777805572,
           null,
           "zip:2",
           28.951587393496176,
           null,
           [
            "-8",
            "-t",
            "-w",
            "256",
            "-l",
            "256",
            "-L"
           ],
           "/nvmen1Scratch/origData/htan-tnp-sardana-hms-prerelease-phase-1-data/recompressed/WD-76845-001.zip:2.ome.tif",
           {
            "compressionMethod": "zip:2",
            "filename": "WD-76845-001.ome.tif",
            "fullFilePath": "/nvmen1Scratch/origData/htan-tnp-sardana-hms-prerelease-phase-1-data/WD-76845-001.ome.tif",
            "outputFile": "WD-76845-001.zip:2.ome.tif",
            "tileString": [
             "-8",
             "-t",
             "-w",
             "256",
             "-l",
             "256",
             "-L"
            ]
           },
           28.951587393496176,
           33.55760479048339
          ],
          [
           "5ee92a003665612659fd998e",
           "WD-76845-007.ome.tif",
           86067983704,
           5590.432553291321,
           43006730018,
           null,
           "zip:2",
           49.96832523218651,
           null,
           [
            "-8",
            "-t",
            "-w",
            "256",
            "-l",
            "256",
            "-L"
           ],
           "/nvmen1Scratch/origData/htan-tnp-sardana-hms-prerelease-phase-1-data/recompressed/WD-76845-007.zip:2.ome.tif",
           {
            "compressionMethod": "zip:2",
            "filename": "WD-76845-007.ome.tif",
            "fullFilePath": "/nvmen1Scratch/origData/htan-tnp-sardana-hms-prerelease-phase-1-data/WD-76845-007.ome.tif",
            "outputFile": "WD-76845-007.zip:2.ome.tif",
            "tileString": [
             "-8",
             "-t",
             "-w",
             "256",
             "-l",
             "256",
             "-L"
            ]
           },
           49.96832523218651,
           15.395585741094076
          ],
          [
           "5ee92bef715184fcc2fd998e",
           "WD-76845-002.ome.tif",
           94540542424,
           6085.464375734329,
           46342524968,
           null,
           "zip:2",
           49.01867894956727,
           null,
           [
            "-8",
            "-t",
            "-w",
            "256",
            "-l",
            "256",
            "-L"
           ],
           "/nvmen1Scratch/origData/htan-tnp-sardana-hms-prerelease-phase-1-data/recompressed/WD-76845-002.zip:2.ome.tif",
           {
            "compressionMethod": "zip:2",
            "filename": "WD-76845-002.ome.tif",
            "fullFilePath": "/nvmen1Scratch/origData/htan-tnp-sardana-hms-prerelease-phase-1-data/WD-76845-002.ome.tif",
            "outputFile": "WD-76845-002.zip:2.ome.tif",
            "tileString": [
             "-8",
             "-t",
             "-w",
             "256",
             "-l",
             "256",
             "-L"
            ]
           },
           49.01867894956727,
           15.53546887908482
          ],
          [
           "5ee949e04e7ed2ebe2eadea9",
           "WD-76845-002.ome.tif",
           94540542424,
           5614.211896657944,
           46342524968,
           null,
           "zip:2",
           49.01867894956727,
           null,
           [
            "-8",
            "-t",
            "-w",
            "256",
            "-l",
            "256",
            "-L"
           ],
           "/nvmen1Scratch/origData/htan-tnp-sardana-hms-prerelease-phase-1-data/recompressed/WD-76845-002.zip:2.ome.tif",
           {
            "compressionMethod": "zip:2",
            "filename": "WD-76845-002.ome.tif",
            "fullFilePath": "/s3FuseMounts/dgutman-htan-s3-synapse/htan-tnp-sardana-hms-prerelease-phase-1-data/WD-76845-002.ome.tif",
            "outputFile": "WD-76845-002.zip:2.ome.tif",
            "tileString": [
             "-8",
             "-t",
             "-w",
             "256",
             "-l",
             "256",
             "-L"
            ]
           },
           49.01867894956727,
           16.83950377439059
          ],
          [
           "5ee94a4c84b2483271eadea9",
           "WD-76845-007.ome.tif",
           86067983704,
           5722.054629325867,
           43006730018,
           null,
           "zip:2",
           49.96832523218651,
           null,
           [
            "-8",
            "-t",
            "-w",
            "256",
            "-l",
            "256",
            "-L"
           ],
           "/nvmen1Scratch/origData/htan-tnp-sardana-hms-prerelease-phase-1-data/recompressed/WD-76845-007.zip:2.ome.tif",
           {
            "compressionMethod": "zip:2",
            "filename": "WD-76845-007.ome.tif",
            "fullFilePath": "/s3FuseMounts/dgutman-htan-s3-synapse/htan-tnp-sardana-hms-prerelease-phase-1-data/WD-76845-007.ome.tif",
            "outputFile": "WD-76845-007.zip:2.ome.tif",
            "tileString": [
             "-8",
             "-t",
             "-w",
             "256",
             "-l",
             "256",
             "-L"
            ]
           },
           49.96832523218651,
           15.041447395992432
          ],
          [
           "5ee955db492ea78385038554",
           "WD-76845-105.ome.tif",
           10327603048,
           763.3601269721985,
           3689431494,
           null,
           "zip:2",
           35.72398626140535,
           null,
           [
            "-8",
            "-t",
            "-w",
            "256",
            "-l",
            "256",
            "-L"
           ],
           "/nvmen1Scratch/origData/htan-tnp-sardana-hms-prerelease-phase-1-data/recompressed/WD-76845-105.zip:2.ome.tif",
           {
            "compressionMethod": "zip:2",
            "filename": "WD-76845-105.ome.tif",
            "fullFilePath": "/s3FuseMounts/dgutman-htan-s3-synapse/htan-tnp-sardana-hms-prerelease-phase-1-data/WD-76845-105.ome.tif",
            "outputFile": "WD-76845-105.zip:2.ome.tif",
            "tileString": [
             "-8",
             "-t",
             "-w",
             "256",
             "-l",
             "256",
             "-L"
            ]
           },
           35.72398626140535,
           13.529136095912605
          ],
          [
           "5ee955f61a4aa37fe2038554",
           "WD-76845-101.ome.tif",
           11221003432,
           790.2897870540619,
           3722555056,
           null,
           "zip:2",
           33.17488563798168,
           null,
           [
            "-8",
            "-t",
            "-w",
            "256",
            "-l",
            "256",
            "-L"
           ],
           "/nvmen1Scratch/origData/htan-tnp-sardana-hms-prerelease-phase-1-data/recompressed/WD-76845-101.zip:2.ome.tif",
           {
            "compressionMethod": "zip:2",
            "filename": "WD-76845-101.ome.tif",
            "fullFilePath": "/s3FuseMounts/dgutman-htan-s3-synapse/htan-tnp-sardana-hms-prerelease-phase-1-data/WD-76845-101.ome.tif",
            "outputFile": "WD-76845-101.zip:2.ome.tif",
            "tileString": [
             "-8",
             "-t",
             "-w",
             "256",
             "-l",
             "256",
             "-L"
            ]
           },
           33.17488563798168,
           14.198593497997965
          ],
          [
           "5ee9560c07c5288327038554",
           "WD-76845-048.ome.tif",
           12067217155,
           811.483594417572,
           3976615856,
           null,
           "zip:2",
           32.95387664712992,
           null,
           [
            "-8",
            "-t",
            "-w",
            "256",
            "-l",
            "256",
            "-L"
           ],
           "/nvmen1Scratch/origData/htan-tnp-sardana-hms-prerelease-phase-1-data/recompressed/WD-76845-048.zip:2.ome.tif",
           {
            "compressionMethod": "zip:2",
            "filename": "WD-76845-048.ome.tif",
            "fullFilePath": "/s3FuseMounts/dgutman-htan-s3-synapse/htan-tnp-sardana-hms-prerelease-phase-1-data/WD-76845-048.ome.tif",
            "outputFile": "WD-76845-048.zip:2.ome.tif",
            "tileString": [
             "-8",
             "-t",
             "-w",
             "256",
             "-l",
             "256",
             "-L"
            ]
           },
           32.95387664712992,
           14.870562064364384
          ],
          [
           "5ee95a141a4aa37fe2038556",
           "WD-76845-024.ome.tif",
           11834429731,
           565.2832190990448,
           3972159554,
           null,
           "zip:2",
           33.56443567022943,
           null,
           [
            "-8",
            "-t",
            "-w",
            "256",
            "-l",
            "256",
            "-L"
           ],
           "/nvmen1Scratch/origData/htan-tnp-sardana-hms-prerelease-phase-1-data/recompressed/WD-76845-024.zip:2.ome.tif",
           {
            "compressionMethod": "zip:2",
            "filename": "WD-76845-024.ome.tif",
            "fullFilePath": "/s3FuseMounts/dgutman-htan-s3-synapse/htan-tnp-sardana-hms-prerelease-phase-1-data/WD-76845-024.ome.tif",
            "outputFile": "WD-76845-024.zip:2.ome.tif",
            "tileString": [
             "-8",
             "-t",
             "-w",
             "256",
             "-l",
             "256",
             "-L"
            ]
           },
           33.56443567022943,
           20.93539898435665
          ],
          [
           "5ee96fe107c5a13130038554",
           "WD-76845-014.ome.tif",
           77763198424,
           7424.825670003891,
           38302814796,
           null,
           "zip:2",
           49.255709091536836,
           null,
           [
            "-8",
            "-t",
            "-w",
            "256",
            "-l",
            "256",
            "-L"
           ],
           "/nvmen1Scratch/origData/htan-tnp-sardana-hms-prerelease-phase-1-data/recompressed/WD-76845-014.zip:2.ome.tif",
           {
            "compressionMethod": "zip:2",
            "filename": "WD-76845-014.ome.tif",
            "fullFilePath": "/s3FuseMounts/dgutman-htan-s3-synapse/htan-tnp-sardana-hms-prerelease-phase-1-data/WD-76845-014.ome.tif",
            "outputFile": "WD-76845-014.zip:2.ome.tif",
            "tileString": [
             "-8",
             "-t",
             "-w",
             "256",
             "-l",
             "256",
             "-L"
            ]
           },
           49.255709091536836,
           10.473403939726337
          ],
          [
           "5ee9739829adeff7e7038554",
           "WD-76845-059.ome.tif",
           86067983704,
           8375.954835414886,
           43147894010,
           null,
           "zip:2",
           50.13233975410848,
           null,
           [
            "-8",
            "-t",
            "-w",
            "256",
            "-l",
            "256",
            "-L"
           ],
           "/nvmen1Scratch/origData/htan-tnp-sardana-hms-prerelease-phase-1-data/recompressed/WD-76845-059.zip:2.ome.tif",
           {
            "compressionMethod": "zip:2",
            "filename": "WD-76845-059.ome.tif",
            "fullFilePath": "/s3FuseMounts/dgutman-htan-s3-synapse/htan-tnp-sardana-hms-prerelease-phase-1-data/WD-76845-059.ome.tif",
            "outputFile": "WD-76845-059.zip:2.ome.tif",
            "tileString": [
             "-8",
             "-t",
             "-w",
             "256",
             "-l",
             "256",
             "-L"
            ]
           },
           50.13233975410848,
           10.275602650111088
          ],
          [
           "5ee97556492ea78385038555",
           "WD-76845-039.ome.tif",
           86067983704,
           8058.399178743362,
           43385281020,
           null,
           "zip:2",
           50.40815312835506,
           null,
           [
            "-8",
            "-t",
            "-w",
            "256",
            "-l",
            "256",
            "-L"
           ],
           "/nvmen1Scratch/origData/htan-tnp-sardana-hms-prerelease-phase-1-data/recompressed/WD-76845-039.zip:2.ome.tif",
           {
            "compressionMethod": "zip:2",
            "filename": "WD-76845-039.ome.tif",
            "fullFilePath": "/s3FuseMounts/dgutman-htan-s3-synapse/htan-tnp-sardana-hms-prerelease-phase-1-data/WD-76845-039.ome.tif",
            "outputFile": "WD-76845-039.zip:2.ome.tif",
            "tileString": [
             "-8",
             "-t",
             "-w",
             "256",
             "-l",
             "256",
             "-L"
            ]
           },
           50.40815312835506,
           10.680531181804964
          ],
          [
           "5ee9764f9d5df40196038555",
           "WD-76845-020.ome.tif",
           89758999384,
           8412.91133093834,
           44313474856,
           null,
           "zip:2",
           49.36939489089169,
           null,
           [
            "-8",
            "-t",
            "-w",
            "256",
            "-l",
            "256",
            "-L"
           ],
           "/nvmen1Scratch/origData/htan-tnp-sardana-hms-prerelease-phase-1-data/recompressed/WD-76845-020.zip:2.ome.tif",
           {
            "compressionMethod": "zip:2",
            "filename": "WD-76845-020.ome.tif",
            "fullFilePath": "/s3FuseMounts/dgutman-htan-s3-synapse/htan-tnp-sardana-hms-prerelease-phase-1-data/WD-76845-020.ome.tif",
            "outputFile": "WD-76845-020.zip:2.ome.tif",
            "tileString": [
             "-8",
             "-t",
             "-w",
             "256",
             "-l",
             "256",
             "-L"
            ]
           },
           49.36939489089169,
           10.669195936240621
          ],
          [
           "5ee97de807c5a13130038558",
           "WD-76845-033.ome.tif",
           12715247011,
           554.1263117790222,
           3999014232,
           null,
           "zip:2",
           31.450543025553813,
           null,
           [
            "-8",
            "-t",
            "-w",
            "256",
            "-l",
            "256",
            "-L"
           ],
           "/nvmen1Scratch/origData/htan-tnp-sardana-hms-prerelease-phase-1-data/recompressed/WD-76845-033.zip:2.ome.tif",
           {
            "compressionMethod": "zip:2",
            "filename": "WD-76845-033.ome.tif",
            "fullFilePath": "/s3FuseMounts/dgutman-htan-s3-synapse/htan-tnp-sardana-hms-prerelease-phase-1-data/WD-76845-033.ome.tif",
            "outputFile": "WD-76845-033.zip:2.ome.tif",
            "tileString": [
             "-8",
             "-t",
             "-w",
             "256",
             "-l",
             "256",
             "-L"
            ]
           },
           31.450543025553813,
           22.94647761839301
          ],
          [
           "5ee9806329adeff7e7038556",
           "WD-76845-096.ome.tif",
           11384583763,
           495.68961358070374,
           3851234692,
           null,
           "zip:2",
           33.82850679632704,
           null,
           [
            "-8",
            "-t",
            "-w",
            "256",
            "-l",
            "256",
            "-L"
           ],
           "/nvmen1Scratch/origData/htan-tnp-sardana-hms-prerelease-phase-1-data/recompressed/WD-76845-096.zip:2.ome.tif",
           {
            "compressionMethod": "zip:2",
            "filename": "WD-76845-096.ome.tif",
            "fullFilePath": "/s3FuseMounts/dgutman-htan-s3-synapse/htan-tnp-sardana-hms-prerelease-phase-1-data/WD-76845-096.ome.tif",
            "outputFile": "WD-76845-096.zip:2.ome.tif",
            "tileString": [
             "-8",
             "-t",
             "-w",
             "256",
             "-l",
             "256",
             "-L"
            ]
           },
           33.82850679632704,
           22.96716221419569
          ],
          [
           "5ee987ae07c5288327038557",
           "WD-76845-078.ome.tif",
           74575503064,
           4580.758396863937,
           37525384952,
           null,
           "zip:2",
           50.318648095201,
           null,
           [
            "-8",
            "-t",
            "-w",
            "256",
            "-l",
            "256",
            "-L"
           ],
           "/nvmen1Scratch/origData/htan-tnp-sardana-hms-prerelease-phase-1-data/recompressed/WD-76845-078.zip:2.ome.tif",
           {
            "compressionMethod": "zip:2",
            "filename": "WD-76845-078.ome.tif",
            "fullFilePath": "/s3FuseMounts/dgutman-htan-s3-synapse/htan-tnp-sardana-hms-prerelease-phase-1-data/WD-76845-078.ome.tif",
            "outputFile": "WD-76845-078.zip:2.ome.tif",
            "tileString": [
             "-8",
             "-t",
             "-w",
             "256",
             "-l",
             "256",
             "-L"
            ]
           },
           50.318648095201,
           16.280165117430254
          ],
          [
           "5ee9890107c5288327038558",
           "WD-76845-058.ome.tif",
           11239878067,
           339.0999071598053,
           3864155754,
           null,
           "zip:2",
           34.37898285876485,
           null,
           [
            "-8",
            "-t",
            "-w",
            "256",
            "-l",
            "256",
            "-L"
           ],
           "/nvmen1Scratch/origData/htan-tnp-sardana-hms-prerelease-phase-1-data/recompressed/WD-76845-058.zip:2.ome.tif",
           {
            "compressionMethod": "zip:2",
            "filename": "WD-76845-058.ome.tif",
            "fullFilePath": "/s3FuseMounts/dgutman-htan-s3-synapse/htan-tnp-sardana-hms-prerelease-phase-1-data/WD-76845-058.ome.tif",
            "outputFile": "WD-76845-058.zip:2.ome.tif",
            "tileString": [
             "-8",
             "-t",
             "-w",
             "256",
             "-l",
             "256",
             "-L"
            ]
           },
           34.37898285876485,
           33.14621393188132
          ],
          [
           "5ee98e8c1a4aa37fe203855a",
           "WD-76845-029.ome.tif",
           79860366424,
           5120.082880973816,
           39680533438,
           null,
           "zip:2",
           49.68739215060128,
           null,
           [
            "-8",
            "-t",
            "-w",
            "256",
            "-l",
            "256",
            "-L"
           ],
           "/nvmen1Scratch/origData/htan-tnp-sardana-hms-prerelease-phase-1-data/recompressed/WD-76845-029.zip:2.ome.tif",
           {
            "compressionMethod": "zip:2",
            "filename": "WD-76845-029.ome.tif",
            "fullFilePath": "/s3FuseMounts/dgutman-htan-s3-synapse/htan-tnp-sardana-hms-prerelease-phase-1-data/WD-76845-029.ome.tif",
            "outputFile": "WD-76845-029.zip:2.ome.tif",
            "tileString": [
             "-8",
             "-t",
             "-w",
             "256",
             "-l",
             "256",
             "-L"
            ]
           },
           49.68739215060128,
           15.59747533008898
          ],
          [
           "5ee99420c8c1e225d3038557",
           "WD-76845-086.ome.tif",
           77763198424,
           4308.936995506287,
           38849121782,
           null,
           "zip:2",
           49.9582354755743,
           null,
           [
            "-8",
            "-t",
            "-w",
            "256",
            "-l",
            "256",
            "-L"
           ],
           "/nvmen1Scratch/origData/htan-tnp-sardana-hms-prerelease-phase-1-data/recompressed/WD-76845-086.zip:2.ome.tif",
           {
            "compressionMethod": "zip:2",
            "filename": "WD-76845-086.ome.tif",
            "fullFilePath": "/s3FuseMounts/dgutman-htan-s3-synapse/htan-tnp-sardana-hms-prerelease-phase-1-data/WD-76845-086.ome.tif",
            "outputFile": "WD-76845-086.zip:2.ome.tif",
            "tileString": [
             "-8",
             "-t",
             "-w",
             "256",
             "-l",
             "256",
             "-L"
            ]
           },
           49.9582354755743,
           18.046956477919693
          ],
          [
           "5eea0323b5f447f61e5fe9a4",
           "WD-76845-085.ome.tif",
           11384583763,
           576.1871275901794,
           3915863502,
           null,
           "zip:2",
           34.39619386636332,
           null,
           [
            "-8",
            "-t",
            "-w",
            "256",
            "-l",
            "256",
            "-L"
           ],
           "/nvmen1Scratch/origData/htan-tnp-sardana-hms-prerelease-phase-1-data/recompressed/WD-76845-085.zip:2.ome.tif",
           {
            "compressionMethod": "zip:2",
            "filename": "WD-76845-085.ome.tif",
            "fullFilePath": "/s3FuseMounts/dgutman-htan-s3-synapse/htan-tnp-sardana-hms-prerelease-phase-1-data/WD-76845-085.ome.tif",
            "outputFile": "WD-76845-085.zip:2.ome.tif",
            "tileString": [
             "-8",
             "-t",
             "-w",
             "256",
             "-l",
             "256",
             "-L"
            ]
           },
           34.39619386636332,
           19.758483343101396
          ],
          [
           "5eea1915049ce574635fe9a4",
           "WD-76845-084.ome.tif",
           74575503064,
           6347.110875368118,
           37617116838,
           null,
           "zip:2",
           50.44165348199843,
           null,
           [
            "-8",
            "-t",
            "-w",
            "256",
            "-l",
            "256",
            "-L"
           ],
           "/nvmen1Scratch/origData/htan-tnp-sardana-hms-prerelease-phase-1-data/recompressed/WD-76845-084.zip:2.ome.tif",
           {
            "compressionMethod": "zip:2",
            "filename": "WD-76845-084.ome.tif",
            "fullFilePath": "/s3FuseMounts/dgutman-htan-s3-synapse/htan-tnp-sardana-hms-prerelease-phase-1-data/WD-76845-084.ome.tif",
            "outputFile": "WD-76845-084.zip:2.ome.tif",
            "tileString": [
             "-8",
             "-t",
             "-w",
             "256",
             "-l",
             "256",
             "-L"
            ]
           },
           50.44165348199843,
           11.749519510272426
          ],
          [
           "5eea1b26c617b77de35fe9a4",
           "WD-76845-091.ome.tif",
           77763198424,
           6778.826405286789,
           38243643084,
           null,
           "zip:2",
           49.179616912718046,
           null,
           [
            "-8",
            "-t",
            "-w",
            "256",
            "-l",
            "256",
            "-L"
           ],
           "/nvmen1Scratch/origData/htan-tnp-sardana-hms-prerelease-phase-1-data/recompressed/WD-76845-091.zip:2.ome.tif",
           {
            "compressionMethod": "zip:2",
            "filename": "WD-76845-091.ome.tif",
            "fullFilePath": "/s3FuseMounts/dgutman-htan-s3-synapse/htan-tnp-sardana-hms-prerelease-phase-1-data/WD-76845-091.ome.tif",
            "outputFile": "WD-76845-091.zip:2.ome.tif",
            "tileString": [
             "-8",
             "-t",
             "-w",
             "256",
             "-l",
             "256",
             "-L"
            ]
           },
           49.179616912718046,
           11.471483967099775
          ],
          [
           "5eea1b7c049ce574635fe9a5",
           "WD-76845-013.ome.tif",
           12727830115,
           614.36305975914,
           3884386058,
           null,
           "zip:2",
           30.51883960504921,
           null,
           [
            "-8",
            "-t",
            "-w",
            "256",
            "-l",
            "256",
            "-L"
           ],
           "/nvmen1Scratch/origData/htan-tnp-sardana-hms-prerelease-phase-1-data/recompressed/WD-76845-013.zip:2.ome.tif",
           {
            "compressionMethod": "zip:2",
            "filename": "WD-76845-013.ome.tif",
            "fullFilePath": "/s3FuseMounts/dgutman-htan-s3-synapse/htan-tnp-sardana-hms-prerelease-phase-1-data/WD-76845-013.ome.tif",
            "outputFile": "WD-76845-013.zip:2.ome.tif",
            "tileString": [
             "-8",
             "-t",
             "-w",
             "256",
             "-l",
             "256",
             "-L"
            ]
           },
           30.51883960504921,
           20.717114925480587
          ],
          [
           "5eea1dd5049ce574635fe9a6",
           "WD-76845-090.ome.tif",
           10657909507,
           600.5363554954529,
           3714891402,
           null,
           "zip:2",
           34.85572287473542,
           null,
           [
            "-8",
            "-t",
            "-w",
            "256",
            "-l",
            "256",
            "-L"
           ],
           "/nvmen1Scratch/origData/htan-tnp-sardana-hms-prerelease-phase-1-data/recompressed/WD-76845-090.zip:2.ome.tif",
           {
            "compressionMethod": "zip:2",
            "filename": "WD-76845-090.ome.tif",
            "fullFilePath": "/s3FuseMounts/dgutman-htan-s3-synapse/htan-tnp-sardana-hms-prerelease-phase-1-data/WD-76845-090.ome.tif",
            "outputFile": "WD-76845-090.zip:2.ome.tif",
            "tileString": [
             "-8",
             "-t",
             "-w",
             "256",
             "-l",
             "256",
             "-L"
            ]
           },
           34.85572287473542,
           17.747317726013506
          ],
          [
           "5eea1e6cc100c647d85fe9a3",
           "WD-76845-050.ome.tif",
           86067983704,
           8026.086015224457,
           43236588388,
           null,
           "zip:2",
           50.235391288701216,
           null,
           [
            "-8",
            "-t",
            "-w",
            "256",
            "-l",
            "256",
            "-L"
           ],
           "/nvmen1Scratch/origData/htan-tnp-sardana-hms-prerelease-phase-1-data/recompressed/WD-76845-050.zip:2.ome.tif",
           {
            "compressionMethod": "zip:2",
            "filename": "WD-76845-050.ome.tif",
            "fullFilePath": "/s3FuseMounts/dgutman-htan-s3-synapse/htan-tnp-sardana-hms-prerelease-phase-1-data/WD-76845-050.ome.tif",
            "outputFile": "WD-76845-050.zip:2.ome.tif",
            "tileString": [
             "-8",
             "-t",
             "-w",
             "256",
             "-l",
             "256",
             "-L"
            ]
           },
           50.235391288701216,
           10.723531188270355
          ],
          [
           "5eea1fa9049ce574635fe9a7",
           "WD-76845-073.ome.tif",
           9808549987,
           468.4046103954315,
           3420732888,
           null,
           "zip:2",
           34.8750110111459,
           null,
           [
            "-8",
            "-t",
            "-w",
            "256",
            "-l",
            "256",
            "-L"
           ],
           "/nvmen1Scratch/origData/htan-tnp-sardana-hms-prerelease-phase-1-data/recompressed/WD-76845-073.zip:2.ome.tif",
           {
            "compressionMethod": "zip:2",
            "filename": "WD-76845-073.ome.tif",
            "fullFilePath": "/s3FuseMounts/dgutman-htan-s3-synapse/htan-tnp-sardana-hms-prerelease-phase-1-data/WD-76845-073.ome.tif",
            "outputFile": "WD-76845-073.zip:2.ome.tif",
            "tileString": [
             "-8",
             "-t",
             "-w",
             "256",
             "-l",
             "256",
             "-L"
            ]
           },
           34.8750110111459,
           20.940336131020427
          ],
          [
           "5eea2d9c5b022b5ffc5fe9a4",
           "WD-76845-044.ome.tif",
           82209194584,
           7793.740849494934,
           41462741978,
           null,
           "zip:2",
           50.435650401165354,
           null,
           [
            "-8",
            "-t",
            "-w",
            "256",
            "-l",
            "256",
            "-L"
           ],
           "/nvmen1Scratch/origData/htan-tnp-sardana-hms-prerelease-phase-1-data/recompressed/WD-76845-044.zip:2.ome.tif",
           {
            "compressionMethod": "zip:2",
            "filename": "WD-76845-044.ome.tif",
            "fullFilePath": "/s3FuseMounts/dgutman-htan-s3-synapse/htan-tnp-sardana-hms-prerelease-phase-1-data/WD-76845-044.ome.tif",
            "outputFile": "WD-76845-044.zip:2.ome.tif",
            "tileString": [
             "-8",
             "-t",
             "-w",
             "256",
             "-l",
             "256",
             "-L"
            ]
           },
           50.435650401165354,
           10.548104712684601
          ],
          [
           "5eea3595692e2980bb5fe9ac",
           "WD-76845-053.ome.tif",
           11239878067,
           570.1165504455566,
           3942772688,
           null,
           "zip:2",
           35.07842936104335,
           null,
           [
            "-8",
            "-t",
            "-w",
            "256",
            "-l",
            "256",
            "-L"
           ],
           "/nvmen1Scratch/origData/htan-tnp-sardana-hms-prerelease-phase-1-data/recompressed/WD-76845-053.zip:2.ome.tif",
           {
            "compressionMethod": "zip:2",
            "filename": "WD-76845-053.ome.tif",
            "fullFilePath": "/s3FuseMounts/dgutman-htan-s3-synapse/htan-tnp-sardana-hms-prerelease-phase-1-data/WD-76845-053.ome.tif",
            "outputFile": "WD-76845-053.zip:2.ome.tif",
            "tileString": [
             "-8",
             "-t",
             "-w",
             "256",
             "-l",
             "256",
             "-L"
            ]
           },
           35.07842936104335,
           19.715053103116944
          ],
          [
           "5eea35fe7a359007b45fe9a6",
           "WD-76845-074.ome.tif",
           74575503064,
           6609.197779893875,
           37786805400,
           null,
           "zip:2",
           50.66919276102196,
           null,
           [
            "-8",
            "-t",
            "-w",
            "256",
            "-l",
            "256",
            "-L"
           ],
           "/nvmen1Scratch/origData/htan-tnp-sardana-hms-prerelease-phase-1-data/recompressed/WD-76845-074.zip:2.ome.tif",
           {
            "compressionMethod": "zip:2",
            "filename": "WD-76845-074.ome.tif",
            "fullFilePath": "/s3FuseMounts/dgutman-htan-s3-synapse/htan-tnp-sardana-hms-prerelease-phase-1-data/WD-76845-074.ome.tif",
            "outputFile": "WD-76845-074.zip:2.ome.tif",
            "tileString": [
             "-8",
             "-t",
             "-w",
             "256",
             "-l",
             "256",
             "-L"
            ]
           },
           50.66919276102196,
           11.283593795735596
          ],
          [
           "5eea38febb2b0550615fe9a6",
           "WD-76845-051.ome.tif",
           82209194584,
           7417.316708564758,
           42785432098,
           null,
           "zip:2",
           52.04458250017587,
           null,
           [
            "-8",
            "-t",
            "-w",
            "256",
            "-l",
            "256",
            "-L"
           ],
           "/nvmen1Scratch/origData/htan-tnp-sardana-hms-prerelease-phase-1-data/recompressed/WD-76845-051.zip:2.ome.tif",
           {
            "compressionMethod": "zip:2",
            "filename": "WD-76845-051.ome.tif",
            "fullFilePath": "/s3FuseMounts/dgutman-htan-s3-synapse/htan-tnp-sardana-hms-prerelease-phase-1-data/WD-76845-051.ome.tif",
            "outputFile": "WD-76845-051.zip:2.ome.tif",
            "tileString": [
             "-8",
             "-t",
             "-w",
             "256",
             "-l",
             "256",
             "-L"
            ]
           },
           52.04458250017587,
           11.083414368577957
          ],
          [
           "5eea51c728bc84a252e00728",
           "WD-76845-038.ome.tif",
           12079800259,
           575.7592494487762,
           3965062508,
           null,
           "zip:2",
           32.823907870876,
           null,
           [
            "-8",
            "-t",
            "-w",
            "256",
            "-l",
            "256",
            "-L"
           ],
           "/nvmen1Scratch/origData/htan-tnp-sardana-hms-prerelease-phase-1-data/recompressed/WD-76845-038.zip:2.ome.tif",
           {
            "compressionMethod": "zip:2",
            "filename": "WD-76845-038.ome.tif",
            "fullFilePath": "/s3FuseMounts/dgutman-htan-s3-synapse/htan-tnp-sardana-hms-prerelease-phase-1-data/WD-76845-038.ome.tif",
            "outputFile": "WD-76845-038.zip:2.ome.tif",
            "tileString": [
             "-8",
             "-t",
             "-w",
             "256",
             "-l",
             "256",
             "-L"
            ]
           },
           32.823907870876,
           20.980644723580262
          ],
          [
           "5eea5aa107b8d638b9e00727",
           "WD-76845-106.ome.tif",
           74575503064,
           6872.255130529404,
           37361993422,
           null,
           "zip:2",
           50.09955265060202,
           null,
           [
            "-8",
            "-t",
            "-w",
            "256",
            "-l",
            "256",
            "-L"
           ],
           "/nvmen1Scratch/origData/htan-tnp-sardana-hms-prerelease-phase-1-data/recompressed/WD-76845-106.zip:2.ome.tif",
           {
            "compressionMethod": "zip:2",
            "filename": "WD-76845-106.ome.tif",
            "fullFilePath": "/s3FuseMounts/dgutman-htan-s3-synapse/htan-tnp-sardana-hms-prerelease-phase-1-data/WD-76845-106.ome.tif",
            "outputFile": "WD-76845-106.zip:2.ome.tif",
            "tileString": [
             "-8",
             "-t",
             "-w",
             "256",
             "-l",
             "256",
             "-L"
            ]
           },
           50.09955265060202,
           10.851678473446762
          ],
          [
           "5eea5cc28d45a18a18e00727",
           "WD-76845-001.ome.tif",
           13048699267,
           696.7093639373779,
           3777805572,
           null,
           "zip:2",
           28.951587393496176,
           null,
           [
            "-8",
            "-t",
            "-w",
            "256",
            "-l",
            "256",
            "-L"
           ],
           "/nvmen1Scratch/origData/htan-tnp-sardana-hms-prerelease-phase-1-data/recompressed/WD-76845-001.zip:2.ome.tif",
           {
            "compressionMethod": "zip:2",
            "filename": "WD-76845-001.ome.tif",
            "fullFilePath": "/s3FuseMounts/dgutman-htan-s3-synapse/htan-tnp-sardana-hms-prerelease-phase-1-data/WD-76845-001.ome.tif",
            "outputFile": "WD-76845-001.zip:2.ome.tif",
            "tileString": [
             "-8",
             "-t",
             "-w",
             "256",
             "-l",
             "256",
             "-L"
            ]
           },
           28.951587393496176,
           18.729042470818364
          ],
          [
           "5eea5ce6c437a94ce9e00726",
           "WD-76845-019.ome.tif",
           13674708691,
           726.452522277832,
           4023233458,
           null,
           "zip:2",
           29.420981089329445,
           null,
           [
            "-8",
            "-t",
            "-w",
            "256",
            "-l",
            "256",
            "-L"
           ],
           "/nvmen1Scratch/origData/htan-tnp-sardana-hms-prerelease-phase-1-data/recompressed/WD-76845-019.zip:2.ome.tif",
           {
            "compressionMethod": "zip:2",
            "filename": "WD-76845-019.ome.tif",
            "fullFilePath": "/s3FuseMounts/dgutman-htan-s3-synapse/htan-tnp-sardana-hms-prerelease-phase-1-data/WD-76845-019.ome.tif",
            "outputFile": "WD-76845-019.zip:2.ome.tif",
            "tileString": [
             "-8",
             "-t",
             "-w",
             "256",
             "-l",
             "256",
             "-L"
            ]
           },
           29.420981089329445,
           18.823953763863596
          ],
          [
           "5eea643bf57863fbe4e00726",
           "WD-76845-069.ome.tif",
           74575503064,
           6291.181425333023,
           37000441922,
           null,
           "zip:2",
           49.61473996393503,
           null,
           [
            "-8",
            "-t",
            "-w",
            "256",
            "-l",
            "256",
            "-L"
           ],
           "/nvmen1Scratch/origData/htan-tnp-sardana-hms-prerelease-phase-1-data/recompressed/WD-76845-069.zip:2.ome.tif",
           {
            "compressionMethod": "zip:2",
            "filename": "WD-76845-069.ome.tif",
            "fullFilePath": "/s3FuseMounts/dgutman-htan-s3-synapse/htan-tnp-sardana-hms-prerelease-phase-1-data/WD-76845-069.ome.tif",
            "outputFile": "WD-76845-069.zip:2.ome.tif",
            "tileString": [
             "-8",
             "-t",
             "-w",
             "256",
             "-l",
             "256",
             "-L"
            ]
           },
           49.61473996393503,
           11.853974320896707
          ],
          [
           "5eea6b2b87f2d71db8e00727",
           "WD-76845-052.ome.tif",
           86067983704,
           7567.881829738617,
           43549084954,
           null,
           "zip:2",
           50.598472370134154,
           null,
           [
            "-8",
            "-t",
            "-w",
            "256",
            "-l",
            "256",
            "-L"
           ],
           "/nvmen1Scratch/origData/htan-tnp-sardana-hms-prerelease-phase-1-data/recompressed/WD-76845-052.zip:2.ome.tif",
           {
            "compressionMethod": "zip:2",
            "filename": "WD-76845-052.ome.tif",
            "fullFilePath": "/s3FuseMounts/dgutman-htan-s3-synapse/htan-tnp-sardana-hms-prerelease-phase-1-data/WD-76845-052.ome.tif",
            "outputFile": "WD-76845-052.zip:2.ome.tif",
            "tileString": [
             "-8",
             "-t",
             "-w",
             "256",
             "-l",
             "256",
             "-L"
            ]
           },
           50.598472370134154,
           11.372796991331015
          ],
          [
           "5eea6d5c28bc84a252e00729",
           "WD-76845-064.ome.tif",
           79860366424,
           7061.358941555023,
           40234489692,
           null,
           "zip:2",
           50.38104818901575,
           null,
           [
            "-8",
            "-t",
            "-w",
            "256",
            "-l",
            "256",
            "-L"
           ],
           "/nvmen1Scratch/origData/htan-tnp-sardana-hms-prerelease-phase-1-data/recompressed/WD-76845-064.zip:2.ome.tif",
           {
            "compressionMethod": "zip:2",
            "filename": "WD-76845-064.ome.tif",
            "fullFilePath": "/s3FuseMounts/dgutman-htan-s3-synapse/htan-tnp-sardana-hms-prerelease-phase-1-data/WD-76845-064.ome.tif",
            "outputFile": "WD-76845-064.zip:2.ome.tif",
            "tileString": [
             "-8",
             "-t",
             "-w",
             "256",
             "-l",
             "256",
             "-L"
            ]
           },
           50.38104818901575,
           11.30948972924091
          ],
          [
           "5eea7975485aac8111e00726",
           "WD-76845-034.ome.tif",
           88249038424,
           7872.834859371185,
           45162064692,
           null,
           "zip:2",
           51.17570173967791,
           null,
           [
            "-8",
            "-t",
            "-w",
            "256",
            "-l",
            "256",
            "-L"
           ],
           "/nvmen1Scratch/origData/htan-tnp-sardana-hms-prerelease-phase-1-data/recompressed/WD-76845-034.zip:2.ome.tif",
           {
            "compressionMethod": "zip:2",
            "filename": "WD-76845-034.ome.tif",
            "fullFilePath": "/s3FuseMounts/dgutman-htan-s3-synapse/htan-tnp-sardana-hms-prerelease-phase-1-data/WD-76845-034.ome.tif",
            "outputFile": "WD-76845-034.zip:2.ome.tif",
            "tileString": [
             "-8",
             "-t",
             "-w",
             "256",
             "-l",
             "256",
             "-L"
            ]
           },
           51.17570173967791,
           11.209308971971575
          ]
         ],
         "fillcolor": "rgba(255,255,255,0)",
         "hoveron": "points",
         "hovertemplate": "compressionMethod=%{customdata[6]}<br>compressionRatio=%{customdata[12]}<br>_id=%{customdata[0]}<br>origFileName=%{customdata[1]}<br>origFileSize=%{customdata[2]}<br>executionTime=%{customdata[3]}<br>compressedFileSize=%{customdata[4]}<br>compressionOptions=%{customdata[5]}<br>compressionRate=%{customdata[7]}<br>outputFileName=%{customdata[8]}<br>tileInfo=%{customdata[9]}<br>outputFileNamewPath=%{customdata[10]}<br>origCompressionDict=%{customdata[11]}<br>mbytesPerSec=%{customdata[13]}<extra></extra>",
         "jitter": 0,
         "legendgroup": "zip:2",
         "line": {
          "color": "rgba(255,255,255,0)"
         },
         "marker": {
          "color": "#00cc96",
          "symbol": "line-ns-open"
         },
         "name": "zip:2",
         "offsetgroup": "zip:2",
         "showlegend": false,
         "type": "box",
         "x": [
          31.504508326527997,
          28.951587393496176,
          49.96832523218651,
          49.01867894956727,
          49.01867894956727,
          49.96832523218651,
          35.72398626140535,
          33.17488563798168,
          32.95387664712992,
          33.56443567022943,
          49.255709091536836,
          50.13233975410848,
          50.40815312835506,
          49.36939489089169,
          31.450543025553813,
          33.82850679632704,
          50.318648095201,
          34.37898285876485,
          49.68739215060128,
          49.9582354755743,
          34.39619386636332,
          50.44165348199843,
          49.179616912718046,
          30.51883960504921,
          34.85572287473542,
          50.235391288701216,
          34.8750110111459,
          50.435650401165354,
          35.07842936104335,
          50.66919276102196,
          52.04458250017587,
          32.823907870876,
          50.09955265060202,
          28.951587393496176,
          29.420981089329445,
          49.61473996393503,
          50.598472370134154,
          50.38104818901575,
          51.17570173967791
         ],
         "xaxis": "x2",
         "yaxis": "y2"
        },
        {
         "alignmentgroup": "True",
         "bingroup": "x",
         "hovertemplate": "compressionMethod=lzma<br>compressionRatio=%{x}<br>count=%{y}<extra></extra>",
         "legendgroup": "lzma",
         "marker": {
          "color": "#ab63fa"
         },
         "name": "lzma",
         "nbinsx": 25,
         "offsetgroup": "lzma",
         "orientation": "v",
         "showlegend": true,
         "type": "histogram",
         "x": [
          29.787653331244407,
          27.441213018492967,
          43.91439789037771,
          43.028276932831744
         ],
         "xaxis": "x",
         "yaxis": "y"
        },
        {
         "alignmentgroup": "True",
         "boxpoints": "all",
         "customdata": [
          [
           "5ee92059472cad3ec2fd998f",
           "WD-76845-006.ome.tif",
           11834429731,
           2745.2994956970215,
           3525198902,
           null,
           "lzma",
           29.787653331244407,
           null,
           [
            "-8",
            "-t",
            "-w",
            "256",
            "-l",
            "256",
            "-L"
           ],
           "/nvmen1Scratch/origData/htan-tnp-sardana-hms-prerelease-phase-1-data/recompressed/WD-76845-006.lzma.ome.tif",
           {
            "compressionMethod": "lzma",
            "filename": "WD-76845-006.ome.tif",
            "fullFilePath": "/nvmen1Scratch/origData/htan-tnp-sardana-hms-prerelease-phase-1-data/WD-76845-006.ome.tif",
            "outputFile": "WD-76845-006.lzma.ome.tif",
            "tileString": [
             "-8",
             "-t",
             "-w",
             "256",
             "-l",
             "256",
             "-L"
            ]
           },
           29.787653331244407,
           4.3107973281418905
          ],
          [
           "5ee92406557b784b56fd9993",
           "WD-76845-001.ome.tif",
           13048699267,
           2544.670735359192,
           3580721362,
           null,
           "lzma",
           27.441213018492967,
           null,
           [
            "-8",
            "-t",
            "-w",
            "256",
            "-l",
            "256",
            "-L"
           ],
           "/nvmen1Scratch/origData/htan-tnp-sardana-hms-prerelease-phase-1-data/recompressed/WD-76845-001.lzma.ome.tif",
           {
            "compressionMethod": "lzma",
            "filename": "WD-76845-001.ome.tif",
            "fullFilePath": "/nvmen1Scratch/origData/htan-tnp-sardana-hms-prerelease-phase-1-data/WD-76845-001.ome.tif",
            "outputFile": "WD-76845-001.lzma.ome.tif",
            "tileString": [
             "-8",
             "-t",
             "-w",
             "256",
             "-l",
             "256",
             "-L"
            ]
           },
           27.441213018492967,
           5.127853708412345
          ],
          [
           "5ee96701b4a211c4a5fd998e",
           "WD-76845-007.ome.tif",
           86067983704,
           21207.84808945656,
           37796236820,
           null,
           "lzma",
           43.91439789037771,
           null,
           [
            "-8",
            "-t",
            "-w",
            "256",
            "-l",
            "256",
            "-L"
           ],
           "/nvmen1Scratch/origData/htan-tnp-sardana-hms-prerelease-phase-1-data/recompressed/WD-76845-007.lzma.ome.tif",
           {
            "compressionMethod": "lzma",
            "filename": "WD-76845-007.ome.tif",
            "fullFilePath": "/nvmen1Scratch/origData/htan-tnp-sardana-hms-prerelease-phase-1-data/WD-76845-007.ome.tif",
            "outputFile": "WD-76845-007.lzma.ome.tif",
            "tileString": [
             "-8",
             "-t",
             "-w",
             "256",
             "-l",
             "256",
             "-L"
            ]
           },
           43.91439789037771,
           4.058308195200084
          ],
          [
           "5ee96fde9d5f656653fd998e",
           "WD-76845-002.ome.tif",
           94540542424,
           23476.948788881302,
           40679166408,
           null,
           "lzma",
           43.028276932831744,
           null,
           [
            "-8",
            "-t",
            "-w",
            "256",
            "-l",
            "256",
            "-L"
           ],
           "/nvmen1Scratch/origData/htan-tnp-sardana-hms-prerelease-phase-1-data/recompressed/WD-76845-002.lzma.ome.tif",
           {
            "compressionMethod": "lzma",
            "filename": "WD-76845-002.ome.tif",
            "fullFilePath": "/nvmen1Scratch/origData/htan-tnp-sardana-hms-prerelease-phase-1-data/WD-76845-002.ome.tif",
            "outputFile": "WD-76845-002.lzma.ome.tif",
            "tileString": [
             "-8",
             "-t",
             "-w",
             "256",
             "-l",
             "256",
             "-L"
            ]
           },
           43.028276932831744,
           4.026951852822308
          ]
         ],
         "fillcolor": "rgba(255,255,255,0)",
         "hoveron": "points",
         "hovertemplate": "compressionMethod=%{customdata[6]}<br>compressionRatio=%{customdata[12]}<br>_id=%{customdata[0]}<br>origFileName=%{customdata[1]}<br>origFileSize=%{customdata[2]}<br>executionTime=%{customdata[3]}<br>compressedFileSize=%{customdata[4]}<br>compressionOptions=%{customdata[5]}<br>compressionRate=%{customdata[7]}<br>outputFileName=%{customdata[8]}<br>tileInfo=%{customdata[9]}<br>outputFileNamewPath=%{customdata[10]}<br>origCompressionDict=%{customdata[11]}<br>mbytesPerSec=%{customdata[13]}<extra></extra>",
         "jitter": 0,
         "legendgroup": "lzma",
         "line": {
          "color": "rgba(255,255,255,0)"
         },
         "marker": {
          "color": "#ab63fa",
          "symbol": "line-ns-open"
         },
         "name": "lzma",
         "offsetgroup": "lzma",
         "showlegend": false,
         "type": "box",
         "x": [
          29.787653331244407,
          27.441213018492967,
          43.91439789037771,
          43.028276932831744
         ],
         "xaxis": "x2",
         "yaxis": "y2"
        }
       ],
       "layout": {
        "barmode": "relative",
        "legend": {
         "title": {
          "text": "compressionMethod"
         },
         "tracegroupgap": 0
        },
        "margin": {
         "t": 60
        },
        "template": {
         "data": {
          "bar": [
           {
            "error_x": {
             "color": "#2a3f5f"
            },
            "error_y": {
             "color": "#2a3f5f"
            },
            "marker": {
             "line": {
              "color": "#E5ECF6",
              "width": 0.5
             }
            },
            "type": "bar"
           }
          ],
          "barpolar": [
           {
            "marker": {
             "line": {
              "color": "#E5ECF6",
              "width": 0.5
             }
            },
            "type": "barpolar"
           }
          ],
          "carpet": [
           {
            "aaxis": {
             "endlinecolor": "#2a3f5f",
             "gridcolor": "white",
             "linecolor": "white",
             "minorgridcolor": "white",
             "startlinecolor": "#2a3f5f"
            },
            "baxis": {
             "endlinecolor": "#2a3f5f",
             "gridcolor": "white",
             "linecolor": "white",
             "minorgridcolor": "white",
             "startlinecolor": "#2a3f5f"
            },
            "type": "carpet"
           }
          ],
          "choropleth": [
           {
            "colorbar": {
             "outlinewidth": 0,
             "ticks": ""
            },
            "type": "choropleth"
           }
          ],
          "contour": [
           {
            "colorbar": {
             "outlinewidth": 0,
             "ticks": ""
            },
            "colorscale": [
             [
              0,
              "#0d0887"
             ],
             [
              0.1111111111111111,
              "#46039f"
             ],
             [
              0.2222222222222222,
              "#7201a8"
             ],
             [
              0.3333333333333333,
              "#9c179e"
             ],
             [
              0.4444444444444444,
              "#bd3786"
             ],
             [
              0.5555555555555556,
              "#d8576b"
             ],
             [
              0.6666666666666666,
              "#ed7953"
             ],
             [
              0.7777777777777778,
              "#fb9f3a"
             ],
             [
              0.8888888888888888,
              "#fdca26"
             ],
             [
              1,
              "#f0f921"
             ]
            ],
            "type": "contour"
           }
          ],
          "contourcarpet": [
           {
            "colorbar": {
             "outlinewidth": 0,
             "ticks": ""
            },
            "type": "contourcarpet"
           }
          ],
          "heatmap": [
           {
            "colorbar": {
             "outlinewidth": 0,
             "ticks": ""
            },
            "colorscale": [
             [
              0,
              "#0d0887"
             ],
             [
              0.1111111111111111,
              "#46039f"
             ],
             [
              0.2222222222222222,
              "#7201a8"
             ],
             [
              0.3333333333333333,
              "#9c179e"
             ],
             [
              0.4444444444444444,
              "#bd3786"
             ],
             [
              0.5555555555555556,
              "#d8576b"
             ],
             [
              0.6666666666666666,
              "#ed7953"
             ],
             [
              0.7777777777777778,
              "#fb9f3a"
             ],
             [
              0.8888888888888888,
              "#fdca26"
             ],
             [
              1,
              "#f0f921"
             ]
            ],
            "type": "heatmap"
           }
          ],
          "heatmapgl": [
           {
            "colorbar": {
             "outlinewidth": 0,
             "ticks": ""
            },
            "colorscale": [
             [
              0,
              "#0d0887"
             ],
             [
              0.1111111111111111,
              "#46039f"
             ],
             [
              0.2222222222222222,
              "#7201a8"
             ],
             [
              0.3333333333333333,
              "#9c179e"
             ],
             [
              0.4444444444444444,
              "#bd3786"
             ],
             [
              0.5555555555555556,
              "#d8576b"
             ],
             [
              0.6666666666666666,
              "#ed7953"
             ],
             [
              0.7777777777777778,
              "#fb9f3a"
             ],
             [
              0.8888888888888888,
              "#fdca26"
             ],
             [
              1,
              "#f0f921"
             ]
            ],
            "type": "heatmapgl"
           }
          ],
          "histogram": [
           {
            "marker": {
             "colorbar": {
              "outlinewidth": 0,
              "ticks": ""
             }
            },
            "type": "histogram"
           }
          ],
          "histogram2d": [
           {
            "colorbar": {
             "outlinewidth": 0,
             "ticks": ""
            },
            "colorscale": [
             [
              0,
              "#0d0887"
             ],
             [
              0.1111111111111111,
              "#46039f"
             ],
             [
              0.2222222222222222,
              "#7201a8"
             ],
             [
              0.3333333333333333,
              "#9c179e"
             ],
             [
              0.4444444444444444,
              "#bd3786"
             ],
             [
              0.5555555555555556,
              "#d8576b"
             ],
             [
              0.6666666666666666,
              "#ed7953"
             ],
             [
              0.7777777777777778,
              "#fb9f3a"
             ],
             [
              0.8888888888888888,
              "#fdca26"
             ],
             [
              1,
              "#f0f921"
             ]
            ],
            "type": "histogram2d"
           }
          ],
          "histogram2dcontour": [
           {
            "colorbar": {
             "outlinewidth": 0,
             "ticks": ""
            },
            "colorscale": [
             [
              0,
              "#0d0887"
             ],
             [
              0.1111111111111111,
              "#46039f"
             ],
             [
              0.2222222222222222,
              "#7201a8"
             ],
             [
              0.3333333333333333,
              "#9c179e"
             ],
             [
              0.4444444444444444,
              "#bd3786"
             ],
             [
              0.5555555555555556,
              "#d8576b"
             ],
             [
              0.6666666666666666,
              "#ed7953"
             ],
             [
              0.7777777777777778,
              "#fb9f3a"
             ],
             [
              0.8888888888888888,
              "#fdca26"
             ],
             [
              1,
              "#f0f921"
             ]
            ],
            "type": "histogram2dcontour"
           }
          ],
          "mesh3d": [
           {
            "colorbar": {
             "outlinewidth": 0,
             "ticks": ""
            },
            "type": "mesh3d"
           }
          ],
          "parcoords": [
           {
            "line": {
             "colorbar": {
              "outlinewidth": 0,
              "ticks": ""
             }
            },
            "type": "parcoords"
           }
          ],
          "pie": [
           {
            "automargin": true,
            "type": "pie"
           }
          ],
          "scatter": [
           {
            "marker": {
             "colorbar": {
              "outlinewidth": 0,
              "ticks": ""
             }
            },
            "type": "scatter"
           }
          ],
          "scatter3d": [
           {
            "line": {
             "colorbar": {
              "outlinewidth": 0,
              "ticks": ""
             }
            },
            "marker": {
             "colorbar": {
              "outlinewidth": 0,
              "ticks": ""
             }
            },
            "type": "scatter3d"
           }
          ],
          "scattercarpet": [
           {
            "marker": {
             "colorbar": {
              "outlinewidth": 0,
              "ticks": ""
             }
            },
            "type": "scattercarpet"
           }
          ],
          "scattergeo": [
           {
            "marker": {
             "colorbar": {
              "outlinewidth": 0,
              "ticks": ""
             }
            },
            "type": "scattergeo"
           }
          ],
          "scattergl": [
           {
            "marker": {
             "colorbar": {
              "outlinewidth": 0,
              "ticks": ""
             }
            },
            "type": "scattergl"
           }
          ],
          "scattermapbox": [
           {
            "marker": {
             "colorbar": {
              "outlinewidth": 0,
              "ticks": ""
             }
            },
            "type": "scattermapbox"
           }
          ],
          "scatterpolar": [
           {
            "marker": {
             "colorbar": {
              "outlinewidth": 0,
              "ticks": ""
             }
            },
            "type": "scatterpolar"
           }
          ],
          "scatterpolargl": [
           {
            "marker": {
             "colorbar": {
              "outlinewidth": 0,
              "ticks": ""
             }
            },
            "type": "scatterpolargl"
           }
          ],
          "scatterternary": [
           {
            "marker": {
             "colorbar": {
              "outlinewidth": 0,
              "ticks": ""
             }
            },
            "type": "scatterternary"
           }
          ],
          "surface": [
           {
            "colorbar": {
             "outlinewidth": 0,
             "ticks": ""
            },
            "colorscale": [
             [
              0,
              "#0d0887"
             ],
             [
              0.1111111111111111,
              "#46039f"
             ],
             [
              0.2222222222222222,
              "#7201a8"
             ],
             [
              0.3333333333333333,
              "#9c179e"
             ],
             [
              0.4444444444444444,
              "#bd3786"
             ],
             [
              0.5555555555555556,
              "#d8576b"
             ],
             [
              0.6666666666666666,
              "#ed7953"
             ],
             [
              0.7777777777777778,
              "#fb9f3a"
             ],
             [
              0.8888888888888888,
              "#fdca26"
             ],
             [
              1,
              "#f0f921"
             ]
            ],
            "type": "surface"
           }
          ],
          "table": [
           {
            "cells": {
             "fill": {
              "color": "#EBF0F8"
             },
             "line": {
              "color": "white"
             }
            },
            "header": {
             "fill": {
              "color": "#C8D4E3"
             },
             "line": {
              "color": "white"
             }
            },
            "type": "table"
           }
          ]
         },
         "layout": {
          "annotationdefaults": {
           "arrowcolor": "#2a3f5f",
           "arrowhead": 0,
           "arrowwidth": 1
          },
          "coloraxis": {
           "colorbar": {
            "outlinewidth": 0,
            "ticks": ""
           }
          },
          "colorscale": {
           "diverging": [
            [
             0,
             "#8e0152"
            ],
            [
             0.1,
             "#c51b7d"
            ],
            [
             0.2,
             "#de77ae"
            ],
            [
             0.3,
             "#f1b6da"
            ],
            [
             0.4,
             "#fde0ef"
            ],
            [
             0.5,
             "#f7f7f7"
            ],
            [
             0.6,
             "#e6f5d0"
            ],
            [
             0.7,
             "#b8e186"
            ],
            [
             0.8,
             "#7fbc41"
            ],
            [
             0.9,
             "#4d9221"
            ],
            [
             1,
             "#276419"
            ]
           ],
           "sequential": [
            [
             0,
             "#0d0887"
            ],
            [
             0.1111111111111111,
             "#46039f"
            ],
            [
             0.2222222222222222,
             "#7201a8"
            ],
            [
             0.3333333333333333,
             "#9c179e"
            ],
            [
             0.4444444444444444,
             "#bd3786"
            ],
            [
             0.5555555555555556,
             "#d8576b"
            ],
            [
             0.6666666666666666,
             "#ed7953"
            ],
            [
             0.7777777777777778,
             "#fb9f3a"
            ],
            [
             0.8888888888888888,
             "#fdca26"
            ],
            [
             1,
             "#f0f921"
            ]
           ],
           "sequentialminus": [
            [
             0,
             "#0d0887"
            ],
            [
             0.1111111111111111,
             "#46039f"
            ],
            [
             0.2222222222222222,
             "#7201a8"
            ],
            [
             0.3333333333333333,
             "#9c179e"
            ],
            [
             0.4444444444444444,
             "#bd3786"
            ],
            [
             0.5555555555555556,
             "#d8576b"
            ],
            [
             0.6666666666666666,
             "#ed7953"
            ],
            [
             0.7777777777777778,
             "#fb9f3a"
            ],
            [
             0.8888888888888888,
             "#fdca26"
            ],
            [
             1,
             "#f0f921"
            ]
           ]
          },
          "colorway": [
           "#636efa",
           "#EF553B",
           "#00cc96",
           "#ab63fa",
           "#FFA15A",
           "#19d3f3",
           "#FF6692",
           "#B6E880",
           "#FF97FF",
           "#FECB52"
          ],
          "font": {
           "color": "#2a3f5f"
          },
          "geo": {
           "bgcolor": "white",
           "lakecolor": "white",
           "landcolor": "#E5ECF6",
           "showlakes": true,
           "showland": true,
           "subunitcolor": "white"
          },
          "hoverlabel": {
           "align": "left"
          },
          "hovermode": "closest",
          "mapbox": {
           "style": "light"
          },
          "paper_bgcolor": "white",
          "plot_bgcolor": "#E5ECF6",
          "polar": {
           "angularaxis": {
            "gridcolor": "white",
            "linecolor": "white",
            "ticks": ""
           },
           "bgcolor": "#E5ECF6",
           "radialaxis": {
            "gridcolor": "white",
            "linecolor": "white",
            "ticks": ""
           }
          },
          "scene": {
           "xaxis": {
            "backgroundcolor": "#E5ECF6",
            "gridcolor": "white",
            "gridwidth": 2,
            "linecolor": "white",
            "showbackground": true,
            "ticks": "",
            "zerolinecolor": "white"
           },
           "yaxis": {
            "backgroundcolor": "#E5ECF6",
            "gridcolor": "white",
            "gridwidth": 2,
            "linecolor": "white",
            "showbackground": true,
            "ticks": "",
            "zerolinecolor": "white"
           },
           "zaxis": {
            "backgroundcolor": "#E5ECF6",
            "gridcolor": "white",
            "gridwidth": 2,
            "linecolor": "white",
            "showbackground": true,
            "ticks": "",
            "zerolinecolor": "white"
           }
          },
          "shapedefaults": {
           "line": {
            "color": "#2a3f5f"
           }
          },
          "ternary": {
           "aaxis": {
            "gridcolor": "white",
            "linecolor": "white",
            "ticks": ""
           },
           "baxis": {
            "gridcolor": "white",
            "linecolor": "white",
            "ticks": ""
           },
           "bgcolor": "#E5ECF6",
           "caxis": {
            "gridcolor": "white",
            "linecolor": "white",
            "ticks": ""
           }
          },
          "title": {
           "x": 0.05
          },
          "xaxis": {
           "automargin": true,
           "gridcolor": "white",
           "linecolor": "white",
           "ticks": "",
           "title": {
            "standoff": 15
           },
           "zerolinecolor": "white",
           "zerolinewidth": 2
          },
          "yaxis": {
           "automargin": true,
           "gridcolor": "white",
           "linecolor": "white",
           "ticks": "",
           "title": {
            "standoff": 15
           },
           "zerolinecolor": "white",
           "zerolinewidth": 2
          }
         }
        },
        "xaxis": {
         "anchor": "y",
         "domain": [
          0,
          1
         ],
         "title": {
          "text": "compressionRatio"
         }
        },
        "xaxis2": {
         "anchor": "y2",
         "domain": [
          0,
          1
         ],
         "matches": "x",
         "showgrid": true,
         "showticklabels": false
        },
        "yaxis": {
         "anchor": "x",
         "domain": [
          0,
          0.7326
         ],
         "title": {
          "text": "count"
         }
        },
        "yaxis2": {
         "anchor": "x2",
         "domain": [
          0.7426,
          1
         ],
         "matches": "y2",
         "showgrid": false,
         "showline": false,
         "showticklabels": false,
         "ticks": ""
        }
       }
      },
      "text/html": [
       "<div>\n",
       "        \n",
       "        \n",
       "            <div id=\"75d38620-ffca-4f58-843a-332cf3b49028\" class=\"plotly-graph-div\" style=\"height:525px; width:100%;\"></div>\n",
       "            <script type=\"text/javascript\">\n",
       "                require([\"plotly\"], function(Plotly) {\n",
       "                    window.PLOTLYENV=window.PLOTLYENV || {};\n",
       "                    \n",
       "                if (document.getElementById(\"75d38620-ffca-4f58-843a-332cf3b49028\")) {\n",
       "                    Plotly.newPlot(\n",
       "                        '75d38620-ffca-4f58-843a-332cf3b49028',\n",
       "                        [{\"alignmentgroup\": \"True\", \"bingroup\": \"x\", \"hovertemplate\": \"compressionMethod=lzw<br>compressionRatio=%{x}<br>count=%{y}<extra></extra>\", \"legendgroup\": \"lzw\", \"marker\": {\"color\": \"#636efa\"}, \"name\": \"lzw\", \"nbinsx\": 25, \"offsetgroup\": \"lzw\", \"orientation\": \"v\", \"showlegend\": true, \"type\": \"histogram\", \"x\": [42.04810773649965, 42.04810773649965, 45.434979937522094, 63.410474919100004, 62.99147582940252, 44.801780740743666, 41.55841325667055, 61.11235792033026, 59.564160763377004, 59.564160763377004, 44.801780740743666, 41.55841325667055, 61.11235792033026, 59.564160763377004, 49.94599746790936, 48.051333264534804, 61.66918645602091, 61.11235792033026, 48.821578388904626, 62.964688626912846, 47.66203215612741, 52.48456797384016, 60.36684360995528, 62.072944402330485, 47.52787618593836, 63.38345764092538, 50.34392754485225, 48.94268103247474, 42.65523450484156, 45.71366361165848, 51.433079653740776, 62.70725391938336, 62.677916131423075, 59.59509563286778, 44.07333236942721, 63.067547432405476, 53.00484320654479, 61.34785267142965, 63.213783823279314, 60.36440479731161, 49.72523657893877, 60.461500636384876, 62.09113244686869, 44.801780740743666, 63.744606892163304, 50.515428015808205, 50.88632405001338, 63.59325772606631, 63.17809684734586, 61.79718861420024, 62.9177743070443, 62.8501198722762, 66.0719829343414, 60.91254238896278], \"xaxis\": \"x\", \"yaxis\": \"y\"}, {\"alignmentgroup\": \"True\", \"boxpoints\": \"all\", \"customdata\": [[\"5ee7f7e7fbd052c3f9f75082\", \"/nvmen1Scratch/origData/htan-tnp-sardana-hms-prerelease-phase-1-data/WD-76845-001.ome.tif\", 13048699267, 135.89906549453735, 5486731126, \"-8 -c lzw\", \"lzw\", 42.04810773649965, null, null, null, null, 42.04810773649965, 96.01757907249561], [\"5ee7f9c645d177623c9ad7e1\", \"/nvmen1Scratch/origData/htan-tnp-sardana-hms-prerelease-phase-1-data/WD-76845-001.ome.tif\", 13048699267, 116.22998976707458, 5486731126, \"-8 -c lzw\", \"lzw\", 42.04810773649965, \"/nvmen1Scratch/origData/htan-tnp-sardana-hms-prerelease-phase-1-data/recompressed/WD-76845-001.lzw.ome.tif\", null, null, null, 42.04810773649965, 112.26619991234321], [\"5ee7f9c96e4be911499ad7e1\", \"/nvmen1Scratch/origData/htan-tnp-sardana-hms-prerelease-phase-1-data/WD-76845-006.ome.tif\", 11834429731, 119.89434885978699, 5376970774, \"-8 -c lzw\", \"lzw\", 45.434979937522094, \"/nvmen1Scratch/origData/htan-tnp-sardana-hms-prerelease-phase-1-data/recompressed/WD-76845-006.lzw.ome.tif\", null, null, null, 45.434979937522094, 98.70715211807044], [\"5ee7fe44a0f28ea1959ad7e1\", \"/nvmen1Scratch/origData/htan-tnp-sardana-hms-prerelease-phase-1-data/WD-76845-007.ome.tif\", 86067983704, 1266.774257183075, 54576117220, \"-8 -c lzw\", \"lzw\", 63.410474919100004, \"/nvmen1Scratch/origData/htan-tnp-sardana-hms-prerelease-phase-1-data/recompressed/WD-76845-007.lzw.ome.tif\", null, null, null, 63.410474919100004, 67.94263714782879], [\"5ee7fe58074d7d0e5a9ad7e1\", \"/nvmen1Scratch/origData/htan-tnp-sardana-hms-prerelease-phase-1-data/WD-76845-002.ome.tif\", 94540542424, 1286.8319165706635, 59552482930, \"-8 -c lzw\", \"lzw\", 62.99147582940252, \"/nvmen1Scratch/origData/htan-tnp-sardana-hms-prerelease-phase-1-data/recompressed/WD-76845-002.lzw.ome.tif\", null, null, null, 62.99147582940252, 73.46766986938384], [\"5ee80dc7d34f8addb8feb1e6\", \"/nvmen1Scratch/origData/htan-tnp-sardana-hms-prerelease-phase-1-data/WD-76845-006.ome.tif\", 11834429731, 123.52627038955688, 5302035260, null, \"lzw\", 44.801780740743666, \"/nvmen1Scratch/origData/htan-tnp-sardana-hms-prerelease-phase-1-data/recompressed/WD-76845-006.lzw.ome.tif\", \"-t -w 256 -l 256 -L\", null, null, 44.801780740743666, 95.80496273123536], [\"5ee80dcc4c65fc3a1afeb1e6\", \"/nvmen1Scratch/origData/htan-tnp-sardana-hms-prerelease-phase-1-data/WD-76845-001.ome.tif\", 13048699267, 128.88972783088684, 5422832366, null, \"lzw\", 41.55841325667055, \"/nvmen1Scratch/origData/htan-tnp-sardana-hms-prerelease-phase-1-data/recompressed/WD-76845-001.lzw.ome.tif\", \"-t -w 256 -l 256 -L\", null, null, 41.55841325667055, 101.239249136447], [\"5ee811f6f2d1b0d29ffeb1e6\", \"/nvmen1Scratch/origData/htan-tnp-sardana-hms-prerelease-phase-1-data/WD-76845-007.ome.tif\", 86067983704, 1193.9273571968079, 52598174256, null, \"lzw\", 61.11235792033026, \"/nvmen1Scratch/origData/htan-tnp-sardana-hms-prerelease-phase-1-data/recompressed/WD-76845-007.lzw.ome.tif\", \"-t -w 256 -l 256 -L\", null, null, 61.11235792033026, 72.08812427757486], [\"5ee81255fd0d94850bfeb1e6\", \"/nvmen1Scratch/origData/htan-tnp-sardana-hms-prerelease-phase-1-data/WD-76845-002.ome.tif\", 94540542424, 1289.4169857501984, 56312280676, null, \"lzw\", 59.564160763377004, \"/nvmen1Scratch/origData/htan-tnp-sardana-hms-prerelease-phase-1-data/recompressed/WD-76845-002.lzw.ome.tif\", \"-t -w 256 -l 256 -L\", null, null, 59.564160763377004, 73.32037926349727], [\"5ee8ed91ecf21f6181ed4920\", \"WD-76845-002.ome.tif\", 94540542424, 1288.3613696098328, 56312280676, null, \"lzw\", 59.564160763377004, null, [\"-8\", \"-t\", \"-w\", \"256\", \"-l\", \"256\", \"-L\"], \"/nvmen1Scratch/origData/htan-tnp-sardana-hms-prerelease-phase-1-data/recompressed/WD-76845-002.lzw.ome.tif\", {\"compressionMethod\": \"lzw\", \"filename\": \"WD-76845-002.ome.tif\", \"fullFilePath\": \"/nvmen1Scratch/origData/htan-tnp-sardana-hms-prerelease-phase-1-data/WD-76845-002.ome.tif\", \"outputFile\": \"WD-76845-002.lzw.ome.tif\", \"tileString\": [\"-8\", \"-t\", \"-w\", \"256\", \"-l\", \"256\", \"-L\"]}, 59.564160763377004, 73.3804541598687], [\"5ee914db557b784b56fd998e\", \"WD-76845-006.ome.tif\", 11834429731, 177.7355818748474, 5302035260, null, \"lzw\", 44.801780740743666, null, [\"-8\", \"-t\", \"-w\", \"256\", \"-l\", \"256\", \"-L\"], \"/nvmen1Scratch/origData/htan-tnp-sardana-hms-prerelease-phase-1-data/recompressed/WD-76845-006.lzw.ome.tif\", {\"compressionMethod\": \"lzw\", \"filename\": \"WD-76845-006.ome.tif\", \"fullFilePath\": \"/nvmen1Scratch/origData/htan-tnp-sardana-hms-prerelease-phase-1-data/WD-76845-006.ome.tif\", \"outputFile\": \"WD-76845-006.lzw.ome.tif\", \"tileString\": [\"-8\", \"-t\", \"-w\", \"256\", \"-l\", \"256\", \"-L\"]}, 44.801780740743666, 66.58447119121719], [\"5ee91722557b784b56fd9990\", \"WD-76845-001.ome.tif\", 13048699267, 185.36460089683533, 5422832366, null, \"lzw\", 41.55841325667055, null, [\"-8\", \"-t\", \"-w\", \"256\", \"-l\", \"256\", \"-L\"], \"/nvmen1Scratch/origData/htan-tnp-sardana-hms-prerelease-phase-1-data/recompressed/WD-76845-001.lzw.ome.tif\", {\"compressionMethod\": \"lzw\", \"filename\": \"WD-76845-001.ome.tif\", \"fullFilePath\": \"/nvmen1Scratch/origData/htan-tnp-sardana-hms-prerelease-phase-1-data/WD-76845-001.ome.tif\", \"outputFile\": \"WD-76845-001.lzw.ome.tif\", \"tileString\": [\"-8\", \"-t\", \"-w\", \"256\", \"-l\", \"256\", \"-L\"]}, 41.55841325667055, 70.39477442762792], [\"5ee91af708b2d1a8fefd998e\", \"WD-76845-007.ome.tif\", 86067983704, 1741.1346445083618, 52598174256, null, \"lzw\", 61.11235792033026, null, [\"-8\", \"-t\", \"-w\", \"256\", \"-l\", \"256\", \"-L\"], \"/nvmen1Scratch/origData/htan-tnp-sardana-hms-prerelease-phase-1-data/recompressed/WD-76845-007.lzw.ome.tif\", {\"compressionMethod\": \"lzw\", \"filename\": \"WD-76845-007.ome.tif\", \"fullFilePath\": \"/nvmen1Scratch/origData/htan-tnp-sardana-hms-prerelease-phase-1-data/WD-76845-007.ome.tif\", \"outputFile\": \"WD-76845-007.lzw.ome.tif\", \"tileString\": [\"-8\", \"-t\", \"-w\", \"256\", \"-l\", \"256\", \"-L\"]}, 61.11235792033026, 49.43212403214383], [\"5ee93dac27c36180e3eadea9\", \"WD-76845-002.ome.tif\", 94540542424, 2490.7977788448334, 56312280676, null, \"lzw\", 59.564160763377004, null, [\"-8\", \"-t\", \"-w\", \"256\", \"-l\", \"256\", \"-L\"], \"/nvmen1Scratch/origData/htan-tnp-sardana-hms-prerelease-phase-1-data/recompressed/WD-76845-002.lzw.ome.tif\", {\"compressionMethod\": \"lzw\", \"filename\": \"WD-76845-002.ome.tif\", \"fullFilePath\": \"/s3FuseMounts/dgutman-htan-s3-synapse/htan-tnp-sardana-hms-prerelease-phase-1-data/WD-76845-002.ome.tif\", \"outputFile\": \"WD-76845-002.lzw.ome.tif\", \"tileString\": [\"-8\", \"-t\", \"-w\", \"256\", \"-l\", \"256\", \"-L\"]}, 59.564160763377004, 37.95592850891549], [\"5ee957df1a4aa37fe2038555\", \"WD-76845-085.ome.tif\", 11384583763, 488.829843044281, 5686143918, null, \"lzw\", 49.94599746790936, null, [\"-8\", \"-t\", \"-w\", \"256\", \"-l\", \"256\", \"-L\"], \"/nvmen1Scratch/origData/htan-tnp-sardana-hms-prerelease-phase-1-data/recompressed/WD-76845-085.lzw.ome.tif\", {\"compressionMethod\": \"lzw\", \"filename\": \"WD-76845-085.ome.tif\", \"fullFilePath\": \"/s3FuseMounts/dgutman-htan-s3-synapse/htan-tnp-sardana-hms-prerelease-phase-1-data/WD-76845-085.ome.tif\", \"outputFile\": \"WD-76845-085.lzw.ome.tif\", \"tileString\": [\"-8\", \"-t\", \"-w\", \"256\", \"-l\", \"256\", \"-L\"]}, 49.94599746790936, 23.289461404607245], [\"5ee95ec31a4aa37fe2038558\", \"WD-76845-043.ome.tif\", 11834429731, 512.6782660484314, 5686601270, null, \"lzw\", 48.051333264534804, null, [\"-8\", \"-t\", \"-w\", \"256\", \"-l\", \"256\", \"-L\"], \"/nvmen1Scratch/origData/htan-tnp-sardana-hms-prerelease-phase-1-data/recompressed/WD-76845-043.lzw.ome.tif\", {\"compressionMethod\": \"lzw\", \"filename\": \"WD-76845-043.ome.tif\", \"fullFilePath\": \"/s3FuseMounts/dgutman-htan-s3-synapse/htan-tnp-sardana-hms-prerelease-phase-1-data/WD-76845-043.ome.tif\", \"outputFile\": \"WD-76845-043.lzw.ome.tif\", \"tileString\": [\"-8\", \"-t\", \"-w\", \"256\", \"-l\", \"256\", \"-L\"]}, 48.051333264534804, 23.083540915857807], [\"5ee96213c8c1e225d3038554\", \"WD-76845-044.ome.tif\", 82209194584, 3891.0175154209137, 50697741492, null, \"lzw\", 61.66918645602091, null, [\"-8\", \"-t\", \"-w\", \"256\", \"-l\", \"256\", \"-L\"], \"/nvmen1Scratch/origData/htan-tnp-sardana-hms-prerelease-phase-1-data/recompressed/WD-76845-044.lzw.ome.tif\", {\"compressionMethod\": \"lzw\", \"filename\": \"WD-76845-044.ome.tif\", \"fullFilePath\": \"/s3FuseMounts/dgutman-htan-s3-synapse/htan-tnp-sardana-hms-prerelease-phase-1-data/WD-76845-044.ome.tif\", \"outputFile\": \"WD-76845-044.lzw.ome.tif\", \"tileString\": [\"-8\", \"-t\", \"-w\", \"256\", \"-l\", \"256\", \"-L\"]}, 61.66918645602091, 21.127942564685927], [\"5ee9631b1e0218235a038554\", \"WD-76845-007.ome.tif\", 86067983704, 4155.21911907196, 52598174256, null, \"lzw\", 61.11235792033026, null, [\"-8\", \"-t\", \"-w\", \"256\", \"-l\", \"256\", \"-L\"], \"/nvmen1Scratch/origData/htan-tnp-sardana-hms-prerelease-phase-1-data/recompressed/WD-76845-007.lzw.ome.tif\", {\"compressionMethod\": \"lzw\", \"filename\": \"WD-76845-007.ome.tif\", \"fullFilePath\": \"/s3FuseMounts/dgutman-htan-s3-synapse/htan-tnp-sardana-hms-prerelease-phase-1-data/WD-76845-007.ome.tif\", \"outputFile\": \"WD-76845-007.lzw.ome.tif\", \"tileString\": [\"-8\", \"-t\", \"-w\", \"256\", \"-l\", \"256\", \"-L\"]}, 61.11235792033026, 20.713223836730588], [\"5ee9639ec8c1e225d3038555\", \"WD-76845-024.ome.tif\", 11834429731, 394.52978110313416, 5777755388, null, \"lzw\", 48.821578388904626, null, [\"-8\", \"-t\", \"-w\", \"256\", \"-l\", \"256\", \"-L\"], \"/nvmen1Scratch/origData/htan-tnp-sardana-hms-prerelease-phase-1-data/recompressed/WD-76845-024.lzw.ome.tif\", {\"compressionMethod\": \"lzw\", \"filename\": \"WD-76845-024.ome.tif\", \"fullFilePath\": \"/s3FuseMounts/dgutman-htan-s3-synapse/htan-tnp-sardana-hms-prerelease-phase-1-data/WD-76845-024.ome.tif\", \"outputFile\": \"WD-76845-024.lzw.ome.tif\", \"tileString\": [\"-8\", \"-t\", \"-w\", \"256\", \"-l\", \"256\", \"-L\"]}, 48.821578388904626, 29.99629000860231], [\"5ee978f607c5a13130038555\", \"WD-76845-102.ome.tif\", 77763198424, 2325.1199984550476, 48963355754, null, \"lzw\", 62.964688626912846, null, [\"-8\", \"-t\", \"-w\", \"256\", \"-l\", \"256\", \"-L\"], \"/nvmen1Scratch/origData/htan-tnp-sardana-hms-prerelease-phase-1-data/recompressed/WD-76845-102.lzw.ome.tif\", {\"compressionMethod\": \"lzw\", \"filename\": \"WD-76845-102.ome.tif\", \"fullFilePath\": \"/s3FuseMounts/dgutman-htan-s3-synapse/htan-tnp-sardana-hms-prerelease-phase-1-data/WD-76845-102.ome.tif\", \"outputFile\": \"WD-76845-102.lzw.ome.tif\", \"tileString\": [\"-8\", \"-t\", \"-w\", \"256\", \"-l\", \"256\", \"-L\"]}, 62.964688626912846, 33.4448107950001], [\"5ee97a5e07c5a13130038556\", \"WD-76845-101.ome.tif\", 11221003432, 359.250296831131, 5348158264, null, \"lzw\", 47.66203215612741, null, [\"-8\", \"-t\", \"-w\", \"256\", \"-l\", \"256\", \"-L\"], \"/nvmen1Scratch/origData/htan-tnp-sardana-hms-prerelease-phase-1-data/recompressed/WD-76845-101.lzw.ome.tif\", {\"compressionMethod\": \"lzw\", \"filename\": \"WD-76845-101.ome.tif\", \"fullFilePath\": \"/s3FuseMounts/dgutman-htan-s3-synapse/htan-tnp-sardana-hms-prerelease-phase-1-data/WD-76845-101.ome.tif\", \"outputFile\": \"WD-76845-101.lzw.ome.tif\", \"tileString\": [\"-8\", \"-t\", \"-w\", \"256\", \"-l\", \"256\", \"-L\"]}, 47.66203215612741, 31.234500099173303], [\"5ee97bbe07c5a13130038557\", \"WD-76845-028.ome.tif\", 10812052531, 352.34321117401123, 5674659060, null, \"lzw\", 52.48456797384016, null, [\"-8\", \"-t\", \"-w\", \"256\", \"-l\", \"256\", \"-L\"], \"/nvmen1Scratch/origData/htan-tnp-sardana-hms-prerelease-phase-1-data/recompressed/WD-76845-028.lzw.ome.tif\", {\"compressionMethod\": \"lzw\", \"filename\": \"WD-76845-028.ome.tif\", \"fullFilePath\": \"/s3FuseMounts/dgutman-htan-s3-synapse/htan-tnp-sardana-hms-prerelease-phase-1-data/WD-76845-028.ome.tif\", \"outputFile\": \"WD-76845-028.lzw.ome.tif\", \"tileString\": [\"-8\", \"-t\", \"-w\", \"256\", \"-l\", \"256\", \"-L\"]}, 52.48456797384016, 30.686138367684535], [\"5ee97e7429adeff7e7038555\", \"WD-76845-025.ome.tif\", 89758999384, 2779.661639213562, 54184674784, null, \"lzw\", 60.36684360995528, null, [\"-8\", \"-t\", \"-w\", \"256\", \"-l\", \"256\", \"-L\"], \"/nvmen1Scratch/origData/htan-tnp-sardana-hms-prerelease-phase-1-data/recompressed/WD-76845-025.lzw.ome.tif\", {\"compressionMethod\": \"lzw\", \"filename\": \"WD-76845-025.ome.tif\", \"fullFilePath\": \"/s3FuseMounts/dgutman-htan-s3-synapse/htan-tnp-sardana-hms-prerelease-phase-1-data/WD-76845-025.ome.tif\", \"outputFile\": \"WD-76845-025.lzw.ome.tif\", \"tileString\": [\"-8\", \"-t\", \"-w\", \"256\", \"-l\", \"256\", \"-L\"]}, 60.36684360995528, 32.29134011051616], [\"5ee97f9b492ea78385038556\", \"WD-76845-054.ome.tif\", 80028139864, 2629.0380370616913, 49675822764, null, \"lzw\", 62.072944402330485, null, [\"-8\", \"-t\", \"-w\", \"256\", \"-l\", \"256\", \"-L\"], \"/nvmen1Scratch/origData/htan-tnp-sardana-hms-prerelease-phase-1-data/recompressed/WD-76845-054.lzw.ome.tif\", {\"compressionMethod\": \"lzw\", \"filename\": \"WD-76845-054.ome.tif\", \"fullFilePath\": \"/s3FuseMounts/dgutman-htan-s3-synapse/htan-tnp-sardana-hms-prerelease-phase-1-data/WD-76845-054.ome.tif\", \"outputFile\": \"WD-76845-054.lzw.ome.tif\", \"tileString\": [\"-8\", \"-t\", \"-w\", \"256\", \"-l\", \"256\", \"-L\"]}, 62.072944402330485, 30.440084447558], [\"5ee9815d29adeff7e7038557\", \"WD-76845-077.ome.tif\", 11221003411, 249.91202235221863, 5333104608, null, \"lzw\", 47.52787618593836, null, [\"-8\", \"-t\", \"-w\", \"256\", \"-l\", \"256\", \"-L\"], \"/nvmen1Scratch/origData/htan-tnp-sardana-hms-prerelease-phase-1-data/recompressed/WD-76845-077.lzw.ome.tif\", {\"compressionMethod\": \"lzw\", \"filename\": \"WD-76845-077.ome.tif\", \"fullFilePath\": \"/s3FuseMounts/dgutman-htan-s3-synapse/htan-tnp-sardana-hms-prerelease-phase-1-data/WD-76845-077.ome.tif\", \"outputFile\": \"WD-76845-077.lzw.ome.tif\", \"tileString\": [\"-8\", \"-t\", \"-w\", \"256\", \"-l\", \"256\", \"-L\"]}, 47.52787618593836, 44.899814364214336], [\"5ee982359d5df40196038557\", \"WD-76845-034.ome.tif\", 88249038424, 2549.7107393741608, 55935291888, null, \"lzw\", 63.38345764092538, null, [\"-8\", \"-t\", \"-w\", \"256\", \"-l\", \"256\", \"-L\"], \"/nvmen1Scratch/origData/htan-tnp-sardana-hms-prerelease-phase-1-data/recompressed/WD-76845-034.lzw.ome.tif\", {\"compressionMethod\": \"lzw\", \"filename\": \"WD-76845-034.ome.tif\", \"fullFilePath\": \"/s3FuseMounts/dgutman-htan-s3-synapse/htan-tnp-sardana-hms-prerelease-phase-1-data/WD-76845-034.ome.tif\", \"outputFile\": \"WD-76845-034.lzw.ome.tif\", \"tileString\": [\"-8\", \"-t\", \"-w\", \"256\", \"-l\", \"256\", \"-L\"]}, 63.38345764092538, 34.61139221057726], [\"5eea004a049ce574635fe9a3\", \"WD-76845-090.ome.tif\", 10657909507, 311.8254120349884, 5365610240, null, \"lzw\", 50.34392754485225, null, [\"-8\", \"-t\", \"-w\", \"256\", \"-l\", \"256\", \"-L\"], \"/nvmen1Scratch/origData/htan-tnp-sardana-hms-prerelease-phase-1-data/recompressed/WD-76845-090.lzw.ome.tif\", {\"compressionMethod\": \"lzw\", \"filename\": \"WD-76845-090.ome.tif\", \"fullFilePath\": \"/s3FuseMounts/dgutman-htan-s3-synapse/htan-tnp-sardana-hms-prerelease-phase-1-data/WD-76845-090.ome.tif\", \"outputFile\": \"WD-76845-090.lzw.ome.tif\", \"tileString\": [\"-8\", \"-t\", \"-w\", \"256\", \"-l\", \"256\", \"-L\"]}, 50.34392754485225, 34.17909219600143], [\"5eea0053bb2b0550615fe9a3\", \"WD-76845-096.ome.tif\", 11384583763, 320.74815368652344, 5571920518, null, \"lzw\", 48.94268103247474, null, [\"-8\", \"-t\", \"-w\", \"256\", \"-l\", \"256\", \"-L\"], \"/nvmen1Scratch/origData/htan-tnp-sardana-hms-prerelease-phase-1-data/recompressed/WD-76845-096.lzw.ome.tif\", {\"compressionMethod\": \"lzw\", \"filename\": \"WD-76845-096.ome.tif\", \"fullFilePath\": \"/s3FuseMounts/dgutman-htan-s3-synapse/htan-tnp-sardana-hms-prerelease-phase-1-data/WD-76845-096.ome.tif\", \"outputFile\": \"WD-76845-096.lzw.ome.tif\", \"tileString\": [\"-8\", \"-t\", \"-w\", \"256\", \"-l\", \"256\", \"-L\"]}, 48.94268103247474, 35.493840360891014], [\"5eea00abc617b77de35fe9a3\", \"WD-76845-019.ome.tif\", 13674708691, 408.48705291748047, 5832979060, null, \"lzw\", 42.65523450484156, null, [\"-8\", \"-t\", \"-w\", \"256\", \"-l\", \"256\", \"-L\"], \"/nvmen1Scratch/origData/htan-tnp-sardana-hms-prerelease-phase-1-data/recompressed/WD-76845-019.lzw.ome.tif\", {\"compressionMethod\": \"lzw\", \"filename\": \"WD-76845-019.ome.tif\", \"fullFilePath\": \"/s3FuseMounts/dgutman-htan-s3-synapse/htan-tnp-sardana-hms-prerelease-phase-1-data/WD-76845-019.ome.tif\", \"outputFile\": \"WD-76845-019.lzw.ome.tif\", \"tileString\": [\"-8\", \"-t\", \"-w\", \"256\", \"-l\", \"256\", \"-L\"]}, 42.65523450484156, 33.47648008261957], [\"5eea02cb692e2980bb5fe9a4\", \"WD-76845-033.ome.tif\", 12715247011, 464.2224962711334, 5812605246, null, \"lzw\", 45.71366361165848, null, [\"-8\", \"-t\", \"-w\", \"256\", \"-l\", \"256\", \"-L\"], \"/nvmen1Scratch/origData/htan-tnp-sardana-hms-prerelease-phase-1-data/recompressed/WD-76845-033.lzw.ome.tif\", {\"compressionMethod\": \"lzw\", \"filename\": \"WD-76845-033.ome.tif\", \"fullFilePath\": \"/s3FuseMounts/dgutman-htan-s3-synapse/htan-tnp-sardana-hms-prerelease-phase-1-data/WD-76845-033.ome.tif\", \"outputFile\": \"WD-76845-033.lzw.ome.tif\", \"tileString\": [\"-8\", \"-t\", \"-w\", \"256\", \"-l\", \"256\", \"-L\"]}, 45.71366361165848, 27.390415400234165], [\"5eea04cab5f447f61e5fe9a5\", \"WD-76845-105.ome.tif\", 10327603048, 423.34035325050354, 5311804302, null, \"lzw\", 51.433079653740776, null, [\"-8\", \"-t\", \"-w\", \"256\", \"-l\", \"256\", \"-L\"], \"/nvmen1Scratch/origData/htan-tnp-sardana-hms-prerelease-phase-1-data/recompressed/WD-76845-105.lzw.ome.tif\", {\"compressionMethod\": \"lzw\", \"filename\": \"WD-76845-105.ome.tif\", \"fullFilePath\": \"/s3FuseMounts/dgutman-htan-s3-synapse/htan-tnp-sardana-hms-prerelease-phase-1-data/WD-76845-105.ome.tif\", \"outputFile\": \"WD-76845-105.lzw.ome.tif\", \"tileString\": [\"-8\", \"-t\", \"-w\", \"256\", \"-l\", \"256\", \"-L\"]}, 51.433079653740776, 24.395508173747942], [\"5eea0dddbb2b0550615fe9a4\", \"WD-76845-106.ome.tif\", 74575503064, 3466.1396527290344, 46764250068, null, \"lzw\", 62.70725391938336, null, [\"-8\", \"-t\", \"-w\", \"256\", \"-l\", \"256\", \"-L\"], \"/nvmen1Scratch/origData/htan-tnp-sardana-hms-prerelease-phase-1-data/recompressed/WD-76845-106.lzw.ome.tif\", {\"compressionMethod\": \"lzw\", \"filename\": \"WD-76845-106.ome.tif\", \"fullFilePath\": \"/s3FuseMounts/dgutman-htan-s3-synapse/htan-tnp-sardana-hms-prerelease-phase-1-data/WD-76845-106.ome.tif\", \"outputFile\": \"WD-76845-106.lzw.ome.tif\", \"tileString\": [\"-8\", \"-t\", \"-w\", \"256\", \"-l\", \"256\", \"-L\"]}, 62.70725391938336, 21.515435191794317], [\"5eea0e497a359007b45fe9a3\", \"WD-76845-052.ome.tif\", 86067983704, 3894.479730606079, 53945618642, null, \"lzw\", 62.677916131423075, null, [\"-8\", \"-t\", \"-w\", \"256\", \"-l\", \"256\", \"-L\"], \"/nvmen1Scratch/origData/htan-tnp-sardana-hms-prerelease-phase-1-data/recompressed/WD-76845-052.lzw.ome.tif\", {\"compressionMethod\": \"lzw\", \"filename\": \"WD-76845-052.ome.tif\", \"fullFilePath\": \"/s3FuseMounts/dgutman-htan-s3-synapse/htan-tnp-sardana-hms-prerelease-phase-1-data/WD-76845-052.ome.tif\", \"outputFile\": \"WD-76845-052.lzw.ome.tif\", \"tileString\": [\"-8\", \"-t\", \"-w\", \"256\", \"-l\", \"256\", \"-L\"]}, 62.677916131423075, 22.099995290155395], [\"5eea0f2a5b022b5ffc5fe9a3\", \"WD-76845-020.ome.tif\", 89758999384, 4119.786567926407, 53491961522, null, \"lzw\", 59.59509563286778, null, [\"-8\", \"-t\", \"-w\", \"256\", \"-l\", \"256\", \"-L\"], \"/nvmen1Scratch/origData/htan-tnp-sardana-hms-prerelease-phase-1-data/recompressed/WD-76845-020.lzw.ome.tif\", {\"compressionMethod\": \"lzw\", \"filename\": \"WD-76845-020.ome.tif\", \"fullFilePath\": \"/s3FuseMounts/dgutman-htan-s3-synapse/htan-tnp-sardana-hms-prerelease-phase-1-data/WD-76845-020.ome.tif\", \"outputFile\": \"WD-76845-020.lzw.ome.tif\", \"tileString\": [\"-8\", \"-t\", \"-w\", \"256\", \"-l\", \"256\", \"-L\"]}, 59.59509563286778, 21.78729356583586], [\"5eea10257a359007b45fe9a4\", \"WD-76845-013.ome.tif\", 12727830115, 476.0803105831146, 5609578870, null, \"lzw\", 44.07333236942721, null, [\"-8\", \"-t\", \"-w\", \"256\", \"-l\", \"256\", \"-L\"], \"/nvmen1Scratch/origData/htan-tnp-sardana-hms-prerelease-phase-1-data/recompressed/WD-76845-013.lzw.ome.tif\", {\"compressionMethod\": \"lzw\", \"filename\": \"WD-76845-013.ome.tif\", \"fullFilePath\": \"/s3FuseMounts/dgutman-htan-s3-synapse/htan-tnp-sardana-hms-prerelease-phase-1-data/WD-76845-013.ome.tif\", \"outputFile\": \"WD-76845-013.lzw.ome.tif\", \"tileString\": [\"-8\", \"-t\", \"-w\", \"256\", \"-l\", \"256\", \"-L\"]}, 44.07333236942721, 26.734628238270655], [\"5eea110d692e2980bb5fe9a5\", \"WD-76845-097.ome.tif\", 80028139864, 3650.1974382400513, 50471785068, null, \"lzw\", 63.067547432405476, null, [\"-8\", \"-t\", \"-w\", \"256\", \"-l\", \"256\", \"-L\"], \"/nvmen1Scratch/origData/htan-tnp-sardana-hms-prerelease-phase-1-data/recompressed/WD-76845-097.lzw.ome.tif\", {\"compressionMethod\": \"lzw\", \"filename\": \"WD-76845-097.ome.tif\", \"fullFilePath\": \"/s3FuseMounts/dgutman-htan-s3-synapse/htan-tnp-sardana-hms-prerelease-phase-1-data/WD-76845-097.ome.tif\", \"outputFile\": \"WD-76845-097.lzw.ome.tif\", \"tileString\": [\"-8\", \"-t\", \"-w\", \"256\", \"-l\", \"256\", \"-L\"]}, 63.067547432405476, 21.924331825345234], [\"5eea12c4692e2980bb5fe9a6\", \"WD-76845-083.ome.tif\", 10270979059, 438.32432436943054, 5444116346, null, \"lzw\", 53.00484320654479, null, [\"-8\", \"-t\", \"-w\", \"256\", \"-l\", \"256\", \"-L\"], \"/nvmen1Scratch/origData/htan-tnp-sardana-hms-prerelease-phase-1-data/recompressed/WD-76845-083.lzw.ome.tif\", {\"compressionMethod\": \"lzw\", \"filename\": \"WD-76845-083.ome.tif\", \"fullFilePath\": \"/s3FuseMounts/dgutman-htan-s3-synapse/htan-tnp-sardana-hms-prerelease-phase-1-data/WD-76845-083.ome.tif\", \"outputFile\": \"WD-76845-083.lzw.ome.tif\", \"tileString\": [\"-8\", \"-t\", \"-w\", \"256\", \"-l\", \"256\", \"-L\"]}, 53.00484320654479, 23.432372989511222], [\"5eea1c04bb2b0550615fe9a5\", \"WD-76845-059.ome.tif\", 86067983704, 3622.485520839691, 52800859840, null, \"lzw\", 61.34785267142965, null, [\"-8\", \"-t\", \"-w\", \"256\", \"-l\", \"256\", \"-L\"], \"/nvmen1Scratch/origData/htan-tnp-sardana-hms-prerelease-phase-1-data/recompressed/WD-76845-059.lzw.ome.tif\", {\"compressionMethod\": \"lzw\", \"filename\": \"WD-76845-059.ome.tif\", \"fullFilePath\": \"/s3FuseMounts/dgutman-htan-s3-synapse/htan-tnp-sardana-hms-prerelease-phase-1-data/WD-76845-059.ome.tif\", \"outputFile\": \"WD-76845-059.lzw.ome.tif\", \"tileString\": [\"-8\", \"-t\", \"-w\", \"256\", \"-l\", \"256\", \"-L\"]}, 61.34785267142965, 23.759372731474567], [\"5eea1c2b7a359007b45fe9a5\", \"WD-76845-078.ome.tif\", 74575503064, 3078.496503829956, 47141997292, null, \"lzw\", 63.213783823279314, null, [\"-8\", \"-t\", \"-w\", \"256\", \"-l\", \"256\", \"-L\"], \"/nvmen1Scratch/origData/htan-tnp-sardana-hms-prerelease-phase-1-data/recompressed/WD-76845-078.lzw.ome.tif\", {\"compressionMethod\": \"lzw\", \"filename\": \"WD-76845-078.ome.tif\", \"fullFilePath\": \"/s3FuseMounts/dgutman-htan-s3-synapse/htan-tnp-sardana-hms-prerelease-phase-1-data/WD-76845-078.ome.tif\", \"outputFile\": \"WD-76845-078.lzw.ome.tif\", \"tileString\": [\"-8\", \"-t\", \"-w\", \"256\", \"-l\", \"256\", \"-L\"]}, 63.213783823279314, 24.224650887607197], [\"5eea1ee0692e2980bb5fe9a7\", \"WD-76845-091.ome.tif\", 77763198424, 3100.2453513145447, 46941291880, null, \"lzw\", 60.36440479731161, null, [\"-8\", \"-t\", \"-w\", \"256\", \"-l\", \"256\", \"-L\"], \"/nvmen1Scratch/origData/htan-tnp-sardana-hms-prerelease-phase-1-data/recompressed/WD-76845-091.lzw.ome.tif\", {\"compressionMethod\": \"lzw\", \"filename\": \"WD-76845-091.ome.tif\", \"fullFilePath\": \"/s3FuseMounts/dgutman-htan-s3-synapse/htan-tnp-sardana-hms-prerelease-phase-1-data/WD-76845-091.ome.tif\", \"outputFile\": \"WD-76845-091.lzw.ome.tif\", \"tileString\": [\"-8\", \"-t\", \"-w\", \"256\", \"-l\", \"256\", \"-L\"]}, 60.36440479731161, 25.08291751523065], [\"5eea2019692e2980bb5fe9a8\", \"WD-76845-058.ome.tif\", 11239878067, 313.41111516952515, 5589055960, null, \"lzw\", 49.72523657893877, null, [\"-8\", \"-t\", \"-w\", \"256\", \"-l\", \"256\", \"-L\"], \"/nvmen1Scratch/origData/htan-tnp-sardana-hms-prerelease-phase-1-data/recompressed/WD-76845-058.lzw.ome.tif\", {\"compressionMethod\": \"lzw\", \"filename\": \"WD-76845-058.ome.tif\", \"fullFilePath\": \"/s3FuseMounts/dgutman-htan-s3-synapse/htan-tnp-sardana-hms-prerelease-phase-1-data/WD-76845-058.ome.tif\", \"outputFile\": \"WD-76845-058.lzw.ome.tif\", \"tileString\": [\"-8\", \"-t\", \"-w\", \"256\", \"-l\", \"256\", \"-L\"]}, 49.72523657893877, 35.86304863795374], [\"5eea2ee9692e2980bb5fe9a9\", \"WD-76845-014.ome.tif\", 77763198424, 3791.312817811966, 47016796710, null, \"lzw\", 60.461500636384876, null, [\"-8\", \"-t\", \"-w\", \"256\", \"-l\", \"256\", \"-L\"], \"/nvmen1Scratch/origData/htan-tnp-sardana-hms-prerelease-phase-1-data/recompressed/WD-76845-014.lzw.ome.tif\", {\"compressionMethod\": \"lzw\", \"filename\": \"WD-76845-014.ome.tif\", \"fullFilePath\": \"/s3FuseMounts/dgutman-htan-s3-synapse/htan-tnp-sardana-hms-prerelease-phase-1-data/WD-76845-014.ome.tif\", \"outputFile\": \"WD-76845-014.lzw.ome.tif\", \"tileString\": [\"-8\", \"-t\", \"-w\", \"256\", \"-l\", \"256\", \"-L\"]}, 60.461500636384876, 20.51088954165447], [\"5eea3033049ce574635fe9a8\", \"WD-76845-039.ome.tif\", 86067983704, 4233.785066604614, 53440585756, null, \"lzw\", 62.09113244686869, null, [\"-8\", \"-t\", \"-w\", \"256\", \"-l\", \"256\", \"-L\"], \"/nvmen1Scratch/origData/htan-tnp-sardana-hms-prerelease-phase-1-data/recompressed/WD-76845-039.lzw.ome.tif\", {\"compressionMethod\": \"lzw\", \"filename\": \"WD-76845-039.ome.tif\", \"fullFilePath\": \"/s3FuseMounts/dgutman-htan-s3-synapse/htan-tnp-sardana-hms-prerelease-phase-1-data/WD-76845-039.ome.tif\", \"outputFile\": \"WD-76845-039.lzw.ome.tif\", \"tileString\": [\"-8\", \"-t\", \"-w\", \"256\", \"-l\", \"256\", \"-L\"]}, 62.09113244686869, 20.328850508470495], [\"5eea335b692e2980bb5fe9ab\", \"WD-76845-006.ome.tif\", 11834429731, 358.8374652862549, 5302035260, null, \"lzw\", 44.801780740743666, null, [\"-8\", \"-t\", \"-w\", \"256\", \"-l\", \"256\", \"-L\"], \"/nvmen1Scratch/origData/htan-tnp-sardana-hms-prerelease-phase-1-data/recompressed/WD-76845-006.lzw.ome.tif\", {\"compressionMethod\": \"lzw\", \"filename\": \"WD-76845-006.ome.tif\", \"fullFilePath\": \"/s3FuseMounts/dgutman-htan-s3-synapse/htan-tnp-sardana-hms-prerelease-phase-1-data/WD-76845-006.ome.tif\", \"outputFile\": \"WD-76845-006.lzw.ome.tif\", \"tileString\": [\"-8\", \"-t\", \"-w\", \"256\", \"-l\", \"256\", \"-L\"]}, 44.801780740743666, 32.979916747431425], [\"5eea3a55049ce574635fe9a9\", \"WD-76845-074.ome.tif\", 74575503064, 2593.189691066742, 47537861266, null, \"lzw\", 63.744606892163304, null, [\"-8\", \"-t\", \"-w\", \"256\", \"-l\", \"256\", \"-L\"], \"/nvmen1Scratch/origData/htan-tnp-sardana-hms-prerelease-phase-1-data/recompressed/WD-76845-074.lzw.ome.tif\", {\"compressionMethod\": \"lzw\", \"filename\": \"WD-76845-074.ome.tif\", \"fullFilePath\": \"/s3FuseMounts/dgutman-htan-s3-synapse/htan-tnp-sardana-hms-prerelease-phase-1-data/WD-76845-074.ome.tif\", \"outputFile\": \"WD-76845-074.lzw.ome.tif\", \"tileString\": [\"-8\", \"-t\", \"-w\", \"256\", \"-l\", \"256\", \"-L\"]}, 63.744606892163304, 28.758213608863457], [\"5eea3c11a6ab30e49fe00725\", \"WD-76845-063.ome.tif\", 11239878067, 295.3778717517853, 5677872514, null, \"lzw\", 50.515428015808205, null, [\"-8\", \"-t\", \"-w\", \"256\", \"-l\", \"256\", \"-L\"], \"/nvmen1Scratch/origData/htan-tnp-sardana-hms-prerelease-phase-1-data/recompressed/WD-76845-063.lzw.ome.tif\", {\"compressionMethod\": \"lzw\", \"filename\": \"WD-76845-063.ome.tif\", \"fullFilePath\": \"/s3FuseMounts/dgutman-htan-s3-synapse/htan-tnp-sardana-hms-prerelease-phase-1-data/WD-76845-063.ome.tif\", \"outputFile\": \"WD-76845-063.lzw.ome.tif\", \"tileString\": [\"-8\", \"-t\", \"-w\", \"256\", \"-l\", \"256\", \"-L\"]}, 50.515428015808205, 38.05253927906015], [\"5eea3e6928bc84a252e00726\", \"WD-76845-053.ome.tif\", 11239878067, 553.3601450920105, 5719560776, null, \"lzw\", 50.88632405001338, null, [\"-8\", \"-t\", \"-w\", \"256\", \"-l\", \"256\", \"-L\"], \"/nvmen1Scratch/origData/htan-tnp-sardana-hms-prerelease-phase-1-data/recompressed/WD-76845-053.lzw.ome.tif\", {\"compressionMethod\": \"lzw\", \"filename\": \"WD-76845-053.ome.tif\", \"fullFilePath\": \"/s3FuseMounts/dgutman-htan-s3-synapse/htan-tnp-sardana-hms-prerelease-phase-1-data/WD-76845-053.ome.tif\", \"outputFile\": \"WD-76845-053.lzw.ome.tif\", \"tileString\": [\"-8\", \"-t\", \"-w\", \"256\", \"-l\", \"256\", \"-L\"]}, 50.88632405001338, 20.31204843119137], [\"5eea4acd87f2d71db8e00725\", \"WD-76845-084.ome.tif\", 74575503064, 4067.20813536644, 47424991864, null, \"lzw\", 63.59325772606631, null, [\"-8\", \"-t\", \"-w\", \"256\", \"-l\", \"256\", \"-L\"], \"/nvmen1Scratch/origData/htan-tnp-sardana-hms-prerelease-phase-1-data/recompressed/WD-76845-084.lzw.ome.tif\", {\"compressionMethod\": \"lzw\", \"filename\": \"WD-76845-084.ome.tif\", \"fullFilePath\": \"/s3FuseMounts/dgutman-htan-s3-synapse/htan-tnp-sardana-hms-prerelease-phase-1-data/WD-76845-084.ome.tif\", \"outputFile\": \"WD-76845-084.lzw.ome.tif\", \"tileString\": [\"-8\", \"-t\", \"-w\", \"256\", \"-l\", \"256\", \"-L\"]}, 63.59325772606631, 18.335797082900218], [\"5eea4ba8f57863fbe4e00725\", \"WD-76845-064.ome.tif\", 79860366424, 4285.834104776382, 50454259642, null, \"lzw\", 63.17809684734586, null, [\"-8\", \"-t\", \"-w\", \"256\", \"-l\", \"256\", \"-L\"], \"/nvmen1Scratch/origData/htan-tnp-sardana-hms-prerelease-phase-1-data/recompressed/WD-76845-064.lzw.ome.tif\", {\"compressionMethod\": \"lzw\", \"filename\": \"WD-76845-064.ome.tif\", \"fullFilePath\": \"/s3FuseMounts/dgutman-htan-s3-synapse/htan-tnp-sardana-hms-prerelease-phase-1-data/WD-76845-064.ome.tif\", \"outputFile\": \"WD-76845-064.lzw.ome.tif\", \"tileString\": [\"-8\", \"-t\", \"-w\", \"256\", \"-l\", \"256\", \"-L\"]}, 63.17809684734586, 18.63356454581361], [\"5eea4d328d45a18a18e00725\", \"WD-76845-050.ome.tif\", 86067983704, 4680.37166929245, 53187594226, null, \"lzw\", 61.79718861420024, null, [\"-8\", \"-t\", \"-w\", \"256\", \"-l\", \"256\", \"-L\"], \"/nvmen1Scratch/origData/htan-tnp-sardana-hms-prerelease-phase-1-data/recompressed/WD-76845-050.lzw.ome.tif\", {\"compressionMethod\": \"lzw\", \"filename\": \"WD-76845-050.ome.tif\", \"fullFilePath\": \"/s3FuseMounts/dgutman-htan-s3-synapse/htan-tnp-sardana-hms-prerelease-phase-1-data/WD-76845-050.ome.tif\", \"outputFile\": \"WD-76845-050.lzw.ome.tif\", \"tileString\": [\"-8\", \"-t\", \"-w\", \"256\", \"-l\", \"256\", \"-L\"]}, 61.79718861420024, 18.38913440756965], [\"5eea4e3ca6ab30e49fe00726\", \"WD-76845-049.ome.tif\", 82209194584, 4650.57892537117, 51724195508, null, \"lzw\", 62.9177743070443, null, [\"-8\", \"-t\", \"-w\", \"256\", \"-l\", \"256\", \"-L\"], \"/nvmen1Scratch/origData/htan-tnp-sardana-hms-prerelease-phase-1-data/recompressed/WD-76845-049.lzw.ome.tif\", {\"compressionMethod\": \"lzw\", \"filename\": \"WD-76845-049.ome.tif\", \"fullFilePath\": \"/s3FuseMounts/dgutman-htan-s3-synapse/htan-tnp-sardana-hms-prerelease-phase-1-data/WD-76845-049.ome.tif\", \"outputFile\": \"WD-76845-049.lzw.ome.tif\", \"tileString\": [\"-8\", \"-t\", \"-w\", \"256\", \"-l\", \"256\", \"-L\"]}, 62.9177743070443, 17.67719587243404], [\"5eea4f8628bc84a252e00727\", \"WD-76845-086.ome.tif\", 77763198424, 4380.983438014984, 48874263426, null, \"lzw\", 62.8501198722762, null, [\"-8\", \"-t\", \"-w\", \"256\", \"-l\", \"256\", \"-L\"], \"/nvmen1Scratch/origData/htan-tnp-sardana-hms-prerelease-phase-1-data/recompressed/WD-76845-086.lzw.ome.tif\", {\"compressionMethod\": \"lzw\", \"filename\": \"WD-76845-086.ome.tif\", \"fullFilePath\": \"/s3FuseMounts/dgutman-htan-s3-synapse/htan-tnp-sardana-hms-prerelease-phase-1-data/WD-76845-086.ome.tif\", \"outputFile\": \"WD-76845-086.lzw.ome.tif\", \"tileString\": [\"-8\", \"-t\", \"-w\", \"256\", \"-l\", \"256\", \"-L\"]}, 62.8501198722762, 17.750169459493407], [\"5eea5a088d45a18a18e00726\", \"WD-76845-051.ome.tif\", 82209194584, 3284.824033021927, 54317245016, null, \"lzw\", 66.0719829343414, null, [\"-8\", \"-t\", \"-w\", \"256\", \"-l\", \"256\", \"-L\"], \"/nvmen1Scratch/origData/htan-tnp-sardana-hms-prerelease-phase-1-data/recompressed/WD-76845-051.lzw.ome.tif\", {\"compressionMethod\": \"lzw\", \"filename\": \"WD-76845-051.ome.tif\", \"fullFilePath\": \"/s3FuseMounts/dgutman-htan-s3-synapse/htan-tnp-sardana-hms-prerelease-phase-1-data/WD-76845-051.ome.tif\", \"outputFile\": \"WD-76845-051.lzw.ome.tif\", \"tileString\": [\"-8\", \"-t\", \"-w\", \"256\", \"-l\", \"256\", \"-L\"]}, 66.0719829343414, 25.02697062538547], [\"5eea5a4aa6ab30e49fe00727\", \"WD-76845-029.ome.tif\", 79860366424, 3085.615531682968, 48644979550, null, \"lzw\", 60.91254238896278, null, [\"-8\", \"-t\", \"-w\", \"256\", \"-l\", \"256\", \"-L\"], \"/nvmen1Scratch/origData/htan-tnp-sardana-hms-prerelease-phase-1-data/recompressed/WD-76845-029.lzw.ome.tif\", {\"compressionMethod\": \"lzw\", \"filename\": \"WD-76845-029.ome.tif\", \"fullFilePath\": \"/s3FuseMounts/dgutman-htan-s3-synapse/htan-tnp-sardana-hms-prerelease-phase-1-data/WD-76845-029.ome.tif\", \"outputFile\": \"WD-76845-029.lzw.ome.tif\", \"tileString\": [\"-8\", \"-t\", \"-w\", \"256\", \"-l\", \"256\", \"-L\"]}, 60.91254238896278, 25.88150260588112]], \"fillcolor\": \"rgba(255,255,255,0)\", \"hoveron\": \"points\", \"hovertemplate\": \"compressionMethod=%{customdata[6]}<br>compressionRatio=%{customdata[12]}<br>_id=%{customdata[0]}<br>origFileName=%{customdata[1]}<br>origFileSize=%{customdata[2]}<br>executionTime=%{customdata[3]}<br>compressedFileSize=%{customdata[4]}<br>compressionOptions=%{customdata[5]}<br>compressionRate=%{customdata[7]}<br>outputFileName=%{customdata[8]}<br>tileInfo=%{customdata[9]}<br>outputFileNamewPath=%{customdata[10]}<br>origCompressionDict=%{customdata[11]}<br>mbytesPerSec=%{customdata[13]}<extra></extra>\", \"jitter\": 0, \"legendgroup\": \"lzw\", \"line\": {\"color\": \"rgba(255,255,255,0)\"}, \"marker\": {\"color\": \"#636efa\", \"symbol\": \"line-ns-open\"}, \"name\": \"lzw\", \"offsetgroup\": \"lzw\", \"showlegend\": false, \"type\": \"box\", \"x\": [42.04810773649965, 42.04810773649965, 45.434979937522094, 63.410474919100004, 62.99147582940252, 44.801780740743666, 41.55841325667055, 61.11235792033026, 59.564160763377004, 59.564160763377004, 44.801780740743666, 41.55841325667055, 61.11235792033026, 59.564160763377004, 49.94599746790936, 48.051333264534804, 61.66918645602091, 61.11235792033026, 48.821578388904626, 62.964688626912846, 47.66203215612741, 52.48456797384016, 60.36684360995528, 62.072944402330485, 47.52787618593836, 63.38345764092538, 50.34392754485225, 48.94268103247474, 42.65523450484156, 45.71366361165848, 51.433079653740776, 62.70725391938336, 62.677916131423075, 59.59509563286778, 44.07333236942721, 63.067547432405476, 53.00484320654479, 61.34785267142965, 63.213783823279314, 60.36440479731161, 49.72523657893877, 60.461500636384876, 62.09113244686869, 44.801780740743666, 63.744606892163304, 50.515428015808205, 50.88632405001338, 63.59325772606631, 63.17809684734586, 61.79718861420024, 62.9177743070443, 62.8501198722762, 66.0719829343414, 60.91254238896278], \"xaxis\": \"x2\", \"yaxis\": \"y2\"}, {\"alignmentgroup\": \"True\", \"bingroup\": \"x\", \"hovertemplate\": \"compressionMethod=zip<br>compressionRatio=%{x}<br>count=%{y}<extra></extra>\", \"legendgroup\": \"zip\", \"marker\": {\"color\": \"#EF553B\"}, \"name\": \"zip\", \"nbinsx\": 25, \"offsetgroup\": \"zip\", \"orientation\": \"v\", \"showlegend\": true, \"type\": \"histogram\", \"x\": [49.315788088988384, 36.61950581909286, 33.58983727278202, 50.503047339285914, 36.61950581909286, 39.55224688132807, 41.51413014995118, 51.222433070225435, 40.45264874669214, 36.33974094727301, 51.4742538700094, 51.001945294945806, 50.86888010595425, 51.97479864610746, 34.8560137674965, 38.76818687706823, 51.71288535798724, 33.58983727278202, 38.847058918282976, 41.39344829424652, 40.03597884897526, 38.983320900801395, 43.32215509777528, 49.86592597512319, 50.354889190584565, 41.48401582477772, 37.59068991632663, 40.85280255142517, 38.846420068111826], \"xaxis\": \"x\", \"yaxis\": \"y\"}, {\"alignmentgroup\": \"True\", \"boxpoints\": \"all\", \"customdata\": [[\"5ee8ffa2141a70165aed4920\", \"WD-76845-002.ome.tif\", 94540542424, 5913.4547290802, 46623413560, null, \"zip\", 49.315788088988384, null, [\"-8\", \"-t\", \"-w\", \"256\", \"-l\", \"256\", \"-L\"], \"/nvmen1Scratch/origData/htan-tnp-sardana-hms-prerelease-phase-1-data/recompressed/WD-76845-002.zip.ome.tif\", {\"compressionMethod\": \"zip\", \"filename\": \"WD-76845-002.ome.tif\", \"fullFilePath\": \"/nvmen1Scratch/origData/htan-tnp-sardana-hms-prerelease-phase-1-data/WD-76845-002.ome.tif\", \"outputFile\": \"WD-76845-002.zip.ome.tif\", \"tileString\": [\"-8\", \"-t\", \"-w\", \"256\", \"-l\", \"256\", \"-L\"]}, 49.315788088988384, 15.987362169035354], [\"5ee9159f472cad3ec2fd998e\", \"WD-76845-006.ome.tif\", 11834429731, 373.9866123199463, 4333709684, null, \"zip\", 36.61950581909286, null, [\"-8\", \"-t\", \"-w\", \"256\", \"-l\", \"256\", \"-L\"], \"/nvmen1Scratch/origData/htan-tnp-sardana-hms-prerelease-phase-1-data/recompressed/WD-76845-006.zip.ome.tif\", {\"compressionMethod\": \"zip\", \"filename\": \"WD-76845-006.ome.tif\", \"fullFilePath\": \"/nvmen1Scratch/origData/htan-tnp-sardana-hms-prerelease-phase-1-data/WD-76845-006.ome.tif\", \"outputFile\": \"WD-76845-006.zip.ome.tif\", \"tileString\": [\"-8\", \"-t\", \"-w\", \"256\", \"-l\", \"256\", \"-L\"]}, 36.61950581909286, 31.643992969661763], [\"5ee91890557b784b56fd9991\", \"WD-76845-001.ome.tif\", 13048699267, 366.1013991832733, 4383036850, null, \"zip\", 33.58983727278202, null, [\"-8\", \"-t\", \"-w\", \"256\", \"-l\", \"256\", \"-L\"], \"/nvmen1Scratch/origData/htan-tnp-sardana-hms-prerelease-phase-1-data/recompressed/WD-76845-001.zip.ome.tif\", {\"compressionMethod\": \"zip\", \"filename\": \"WD-76845-001.ome.tif\", \"fullFilePath\": \"/nvmen1Scratch/origData/htan-tnp-sardana-hms-prerelease-phase-1-data/WD-76845-001.ome.tif\", \"outputFile\": \"WD-76845-001.zip.ome.tif\", \"tileString\": [\"-8\", \"-t\", \"-w\", \"256\", \"-l\", \"256\", \"-L\"]}, 33.58983727278202, 35.64230919660516], [\"5ee92c7a31a89af274fd998e\", \"WD-76845-007.ome.tif\", 86067983704, 6224.081640005112, 43466954554, null, \"zip\", 50.503047339285914, null, [\"-8\", \"-t\", \"-w\", \"256\", \"-l\", \"256\", \"-L\"], \"/nvmen1Scratch/origData/htan-tnp-sardana-hms-prerelease-phase-1-data/recompressed/WD-76845-007.zip.ome.tif\", {\"compressionMethod\": \"zip\", \"filename\": \"WD-76845-007.ome.tif\", \"fullFilePath\": \"/nvmen1Scratch/origData/htan-tnp-sardana-hms-prerelease-phase-1-data/WD-76845-007.ome.tif\", \"outputFile\": \"WD-76845-007.zip.ome.tif\", \"tileString\": [\"-8\", \"-t\", \"-w\", \"256\", \"-l\", \"256\", \"-L\"]}, 50.503047339285914, 13.828222167074484], [\"5ee93f5727c36180e3eadeaa\", \"WD-76845-006.ome.tif\", 11834429731, 426.4925584793091, 4333709684, null, \"zip\", 36.61950581909286, null, [\"-8\", \"-t\", \"-w\", \"256\", \"-l\", \"256\", \"-L\"], \"/nvmen1Scratch/origData/htan-tnp-sardana-hms-prerelease-phase-1-data/recompressed/WD-76845-006.zip.ome.tif\", {\"compressionMethod\": \"zip\", \"filename\": \"WD-76845-006.ome.tif\", \"fullFilePath\": \"/s3FuseMounts/dgutman-htan-s3-synapse/htan-tnp-sardana-hms-prerelease-phase-1-data/WD-76845-006.ome.tif\", \"outputFile\": \"WD-76845-006.zip.ome.tif\", \"tileString\": [\"-8\", \"-t\", \"-w\", \"256\", \"-l\", \"256\", \"-L\"]}, 36.61950581909286, 27.74826780846198], [\"5ee955719d5df40196038554\", \"WD-76845-068.ome.tif\", 10812052531, 656.9697570800781, 4276409710, null, \"zip\", 39.55224688132807, null, [\"-8\", \"-t\", \"-w\", \"256\", \"-l\", \"256\", \"-L\"], \"/nvmen1Scratch/origData/htan-tnp-sardana-hms-prerelease-phase-1-data/recompressed/WD-76845-068.zip.ome.tif\", {\"compressionMethod\": \"zip\", \"filename\": \"WD-76845-068.ome.tif\", \"fullFilePath\": \"/s3FuseMounts/dgutman-htan-s3-synapse/htan-tnp-sardana-hms-prerelease-phase-1-data/WD-76845-068.ome.tif\", \"outputFile\": \"WD-76845-068.zip.ome.tif\", \"tileString\": [\"-8\", \"-t\", \"-w\", \"256\", \"-l\", \"256\", \"-L\"]}, 39.55224688132807, 16.457458527550024], [\"5ee95cc11a4aa37fe2038557\", \"WD-76845-090.ome.tif\", 10657909507, 684.5972726345062, 4424538424, null, \"zip\", 41.51413014995118, null, [\"-8\", \"-t\", \"-w\", \"256\", \"-l\", \"256\", \"-L\"], \"/nvmen1Scratch/origData/htan-tnp-sardana-hms-prerelease-phase-1-data/recompressed/WD-76845-090.zip.ome.tif\", {\"compressionMethod\": \"zip\", \"filename\": \"WD-76845-090.ome.tif\", \"fullFilePath\": \"/s3FuseMounts/dgutman-htan-s3-synapse/htan-tnp-sardana-hms-prerelease-phase-1-data/WD-76845-090.ome.tif\", \"outputFile\": \"WD-76845-090.zip.ome.tif\", \"tileString\": [\"-8\", \"-t\", \"-w\", \"256\", \"-l\", \"256\", \"-L\"]}, 41.51413014995118, 15.568144853960089], [\"5ee973eb07c5288327038555\", \"WD-76845-102.ome.tif\", 77763198424, 7647.646546363831, 39832202266, null, \"zip\", 51.222433070225435, null, [\"-8\", \"-t\", \"-w\", \"256\", \"-l\", \"256\", \"-L\"], \"/nvmen1Scratch/origData/htan-tnp-sardana-hms-prerelease-phase-1-data/recompressed/WD-76845-102.zip.ome.tif\", {\"compressionMethod\": \"zip\", \"filename\": \"WD-76845-102.ome.tif\", \"fullFilePath\": \"/s3FuseMounts/dgutman-htan-s3-synapse/htan-tnp-sardana-hms-prerelease-phase-1-data/WD-76845-102.ome.tif\", \"outputFile\": \"WD-76845-102.zip.ome.tif\", \"tileString\": [\"-8\", \"-t\", \"-w\", \"256\", \"-l\", \"256\", \"-L\"]}, 51.222433070225435, 10.168252148234217], [\"5ee975c907c5288327038556\", \"WD-76845-058.ome.tif\", 11239878067, 477.77342534065247, 4546828394, null, \"zip\", 40.45264874669214, null, [\"-8\", \"-t\", \"-w\", \"256\", \"-l\", \"256\", \"-L\"], \"/nvmen1Scratch/origData/htan-tnp-sardana-hms-prerelease-phase-1-data/recompressed/WD-76845-058.zip.ome.tif\", {\"compressionMethod\": \"zip\", \"filename\": \"WD-76845-058.ome.tif\", \"fullFilePath\": \"/s3FuseMounts/dgutman-htan-s3-synapse/htan-tnp-sardana-hms-prerelease-phase-1-data/WD-76845-058.ome.tif\", \"outputFile\": \"WD-76845-058.zip.ome.tif\", \"tileString\": [\"-8\", \"-t\", \"-w\", \"256\", \"-l\", \"256\", \"-L\"]}, 40.45264874669214, 23.525540498586683], [\"5ee9783f9d5df40196038556\", \"WD-76845-013.ome.tif\", 12727830115, 496.34153175354004, 4625260492, null, \"zip\", 36.33974094727301, null, [\"-8\", \"-t\", \"-w\", \"256\", \"-l\", \"256\", \"-L\"], \"/nvmen1Scratch/origData/htan-tnp-sardana-hms-prerelease-phase-1-data/recompressed/WD-76845-013.zip.ome.tif\", {\"compressionMethod\": \"zip\", \"filename\": \"WD-76845-013.ome.tif\", \"fullFilePath\": \"/s3FuseMounts/dgutman-htan-s3-synapse/htan-tnp-sardana-hms-prerelease-phase-1-data/WD-76845-013.ome.tif\", \"outputFile\": \"WD-76845-013.zip.ome.tif\", \"tileString\": [\"-8\", \"-t\", \"-w\", \"256\", \"-l\", \"256\", \"-L\"]}, 36.33974094727301, 25.643290558485937], [\"5ee97a8c1a4aa37fe2038559\", \"WD-76845-078.ome.tif\", 74575503064, 7113.485237121582, 38387183772, null, \"zip\", 51.4742538700094, null, [\"-8\", \"-t\", \"-w\", \"256\", \"-l\", \"256\", \"-L\"], \"/nvmen1Scratch/origData/htan-tnp-sardana-hms-prerelease-phase-1-data/recompressed/WD-76845-078.zip.ome.tif\", {\"compressionMethod\": \"zip\", \"filename\": \"WD-76845-078.ome.tif\", \"fullFilePath\": \"/s3FuseMounts/dgutman-htan-s3-synapse/htan-tnp-sardana-hms-prerelease-phase-1-data/WD-76845-078.ome.tif\", \"outputFile\": \"WD-76845-078.zip.ome.tif\", \"tileString\": [\"-8\", \"-t\", \"-w\", \"256\", \"-l\", \"256\", \"-L\"]}, 51.4742538700094, 10.483680021549663], [\"5ee980c01e0218235a038555\", \"WD-76845-054.ome.tif\", 80028139864, 7589.115649223328, 40815908114, null, \"zip\", 51.001945294945806, null, [\"-8\", \"-t\", \"-w\", \"256\", \"-l\", \"256\", \"-L\"], \"/nvmen1Scratch/origData/htan-tnp-sardana-hms-prerelease-phase-1-data/recompressed/WD-76845-054.zip.ome.tif\", {\"compressionMethod\": \"zip\", \"filename\": \"WD-76845-054.ome.tif\", \"fullFilePath\": \"/s3FuseMounts/dgutman-htan-s3-synapse/htan-tnp-sardana-hms-prerelease-phase-1-data/WD-76845-054.ome.tif\", \"outputFile\": \"WD-76845-054.zip.ome.tif\", \"tileString\": [\"-8\", \"-t\", \"-w\", \"256\", \"-l\", \"256\", \"-L\"]}, 51.001945294945806, 10.545120612596028], [\"5ee9834bc8c1e225d3038556\", \"WD-76845-050.ome.tif\", 86067983704, 8109.37854886055, 43781819440, null, \"zip\", 50.86888010595425, null, [\"-8\", \"-t\", \"-w\", \"256\", \"-l\", \"256\", \"-L\"], \"/nvmen1Scratch/origData/htan-tnp-sardana-hms-prerelease-phase-1-data/recompressed/WD-76845-050.zip.ome.tif\", {\"compressionMethod\": \"zip\", \"filename\": \"WD-76845-050.ome.tif\", \"fullFilePath\": \"/s3FuseMounts/dgutman-htan-s3-synapse/htan-tnp-sardana-hms-prerelease-phase-1-data/WD-76845-050.ome.tif\", \"outputFile\": \"WD-76845-050.zip.ome.tif\", \"tileString\": [\"-8\", \"-t\", \"-w\", \"256\", \"-l\", \"256\", \"-L\"]}, 50.86888010595425, 10.613388336162137], [\"5ee9a5cf1a4aa37fe203855b\", \"WD-76845-034.ome.tif\", 88249038424, 5954.852608203888, 45867260028, null, \"zip\", 51.97479864610746, null, [\"-8\", \"-t\", \"-w\", \"256\", \"-l\", \"256\", \"-L\"], \"/nvmen1Scratch/origData/htan-tnp-sardana-hms-prerelease-phase-1-data/recompressed/WD-76845-034.zip.ome.tif\", {\"compressionMethod\": \"zip\", \"filename\": \"WD-76845-034.ome.tif\", \"fullFilePath\": \"/s3FuseMounts/dgutman-htan-s3-synapse/htan-tnp-sardana-hms-prerelease-phase-1-data/WD-76845-034.ome.tif\", \"outputFile\": \"WD-76845-034.zip.ome.tif\", \"tileString\": [\"-8\", \"-t\", \"-w\", \"256\", \"-l\", \"256\", \"-L\"]}, 51.97479864610746, 14.819684756331494], [\"5eea00e3b5f447f61e5fe9a3\", \"WD-76845-019.ome.tif\", 13674708691, 464.418737411499, 4766458344, null, \"zip\", 34.8560137674965, null, [\"-8\", \"-t\", \"-w\", \"256\", \"-l\", \"256\", \"-L\"], \"/nvmen1Scratch/origData/htan-tnp-sardana-hms-prerelease-phase-1-data/recompressed/WD-76845-019.zip.ome.tif\", {\"compressionMethod\": \"zip\", \"filename\": \"WD-76845-019.ome.tif\", \"fullFilePath\": \"/s3FuseMounts/dgutman-htan-s3-synapse/htan-tnp-sardana-hms-prerelease-phase-1-data/WD-76845-019.ome.tif\", \"outputFile\": \"WD-76845-019.zip.ome.tif\", \"tileString\": [\"-8\", \"-t\", \"-w\", \"256\", \"-l\", \"256\", \"-L\"]}, 34.8560137674965, 29.444782454768834], [\"5eea00fb692e2980bb5fe9a3\", \"WD-76845-101.ome.tif\", 11221003432, 488.72994661331177, 4350179580, null, \"zip\", 38.76818687706823, null, [\"-8\", \"-t\", \"-w\", \"256\", \"-l\", \"256\", \"-L\"], \"/nvmen1Scratch/origData/htan-tnp-sardana-hms-prerelease-phase-1-data/recompressed/WD-76845-101.zip.ome.tif\", {\"compressionMethod\": \"zip\", \"filename\": \"WD-76845-101.ome.tif\", \"fullFilePath\": \"/s3FuseMounts/dgutman-htan-s3-synapse/htan-tnp-sardana-hms-prerelease-phase-1-data/WD-76845-101.ome.tif\", \"outputFile\": \"WD-76845-101.zip.ome.tif\", \"tileString\": [\"-8\", \"-t\", \"-w\", \"256\", \"-l\", \"256\", \"-L\"]}, 38.76818687706823, 22.95951682469373], [\"5eea22fbb5f447f61e5fe9a6\", \"WD-76845-097.ome.tif\", 80028139864, 7728.564301967621, 41384860222, null, \"zip\", 51.71288535798724, null, [\"-8\", \"-t\", \"-w\", \"256\", \"-l\", \"256\", \"-L\"], \"/nvmen1Scratch/origData/htan-tnp-sardana-hms-prerelease-phase-1-data/recompressed/WD-76845-097.zip.ome.tif\", {\"compressionMethod\": \"zip\", \"filename\": \"WD-76845-097.ome.tif\", \"fullFilePath\": \"/s3FuseMounts/dgutman-htan-s3-synapse/htan-tnp-sardana-hms-prerelease-phase-1-data/WD-76845-097.ome.tif\", \"outputFile\": \"WD-76845-097.zip.ome.tif\", \"tileString\": [\"-8\", \"-t\", \"-w\", \"256\", \"-l\", \"256\", \"-L\"]}, 51.71288535798724, 10.354852044593272], [\"5eea31f4692e2980bb5fe9aa\", \"WD-76845-001.ome.tif\", 13048699267, 778.0672495365143, 4383036850, null, \"zip\", 33.58983727278202, null, [\"-8\", \"-t\", \"-w\", \"256\", \"-l\", \"256\", \"-L\"], \"/nvmen1Scratch/origData/htan-tnp-sardana-hms-prerelease-phase-1-data/recompressed/WD-76845-001.zip.ome.tif\", {\"compressionMethod\": \"zip\", \"filename\": \"WD-76845-001.ome.tif\", \"fullFilePath\": \"/s3FuseMounts/dgutman-htan-s3-synapse/htan-tnp-sardana-hms-prerelease-phase-1-data/WD-76845-001.ome.tif\", \"outputFile\": \"WD-76845-001.zip.ome.tif\", \"tileString\": [\"-8\", \"-t\", \"-w\", \"256\", \"-l\", \"256\", \"-L\"]}, 33.58983727278202, 16.770657388256556], [\"5eea37fc7a359007b45fe9a7\", \"WD-76845-048.ome.tif\", 12067217155, 509.8421034812927, 4687758958, null, \"zip\", 38.847058918282976, null, [\"-8\", \"-t\", \"-w\", \"256\", \"-l\", \"256\", \"-L\"], \"/nvmen1Scratch/origData/htan-tnp-sardana-hms-prerelease-phase-1-data/recompressed/WD-76845-048.zip.ome.tif\", {\"compressionMethod\": \"zip\", \"filename\": \"WD-76845-048.ome.tif\", \"fullFilePath\": \"/s3FuseMounts/dgutman-htan-s3-synapse/htan-tnp-sardana-hms-prerelease-phase-1-data/WD-76845-048.ome.tif\", \"outputFile\": \"WD-76845-048.zip.ome.tif\", \"tileString\": [\"-8\", \"-t\", \"-w\", \"256\", \"-l\", \"256\", \"-L\"]}, 38.847058918282976, 23.668537911253093], [\"5eea3c3f28bc84a252e00725\", \"WD-76845-063.ome.tif\", 11239878067, 341.2902190685272, 4652573116, null, \"zip\", 41.39344829424652, null, [\"-8\", \"-t\", \"-w\", \"256\", \"-l\", \"256\", \"-L\"], \"/nvmen1Scratch/origData/htan-tnp-sardana-hms-prerelease-phase-1-data/recompressed/WD-76845-063.zip.ome.tif\", {\"compressionMethod\": \"zip\", \"filename\": \"WD-76845-063.ome.tif\", \"fullFilePath\": \"/s3FuseMounts/dgutman-htan-s3-synapse/htan-tnp-sardana-hms-prerelease-phase-1-data/WD-76845-063.ome.tif\", \"outputFile\": \"WD-76845-063.zip.ome.tif\", \"tileString\": [\"-8\", \"-t\", \"-w\", \"256\", \"-l\", \"256\", \"-L\"]}, 41.39344829424652, 32.933490147114824], [\"5eea3ce807b8d638b9e00725\", \"WD-76845-024.ome.tif\", 11834429731, 510.6742694377899, 4738029784, null, \"zip\", 40.03597884897526, null, [\"-8\", \"-t\", \"-w\", \"256\", \"-l\", \"256\", \"-L\"], \"/nvmen1Scratch/origData/htan-tnp-sardana-hms-prerelease-phase-1-data/recompressed/WD-76845-024.zip.ome.tif\", {\"compressionMethod\": \"zip\", \"filename\": \"WD-76845-024.ome.tif\", \"fullFilePath\": \"/s3FuseMounts/dgutman-htan-s3-synapse/htan-tnp-sardana-hms-prerelease-phase-1-data/WD-76845-024.ome.tif\", \"outputFile\": \"WD-76845-024.zip.ome.tif\", \"tileString\": [\"-8\", \"-t\", \"-w\", \"256\", \"-l\", \"256\", \"-L\"]}, 40.03597884897526, 23.17412573777944], [\"5eea3fc907b8d638b9e00726\", \"WD-76845-077.ome.tif\", 11221003411, 736.1407277584076, 4374319768, null, \"zip\", 38.983320900801395, null, [\"-8\", \"-t\", \"-w\", \"256\", \"-l\", \"256\", \"-L\"], \"/nvmen1Scratch/origData/htan-tnp-sardana-hms-prerelease-phase-1-data/recompressed/WD-76845-077.zip.ome.tif\", {\"compressionMethod\": \"zip\", \"filename\": \"WD-76845-077.ome.tif\", \"fullFilePath\": \"/s3FuseMounts/dgutman-htan-s3-synapse/htan-tnp-sardana-hms-prerelease-phase-1-data/WD-76845-077.ome.tif\", \"outputFile\": \"WD-76845-077.zip.ome.tif\", \"tileString\": [\"-8\", \"-t\", \"-w\", \"256\", \"-l\", \"256\", \"-L\"]}, 38.983320900801395, 15.243013988872242], [\"5eea4d9b87f2d71db8e00726\", \"WD-76845-083.ome.tif\", 10270979059, 717.2146389484406, 4449609478, null, \"zip\", 43.32215509777528, null, [\"-8\", \"-t\", \"-w\", \"256\", \"-l\", \"256\", \"-L\"], \"/nvmen1Scratch/origData/htan-tnp-sardana-hms-prerelease-phase-1-data/recompressed/WD-76845-083.zip.ome.tif\", {\"compressionMethod\": \"zip\", \"filename\": \"WD-76845-083.ome.tif\", \"fullFilePath\": \"/s3FuseMounts/dgutman-htan-s3-synapse/htan-tnp-sardana-hms-prerelease-phase-1-data/WD-76845-083.ome.tif\", \"outputFile\": \"WD-76845-083.zip.ome.tif\", \"tileString\": [\"-8\", \"-t\", \"-w\", \"256\", \"-l\", \"256\", \"-L\"]}, 43.32215509777528, 14.3206489399868], [\"5eea5a10c437a94ce9e00725\", \"WD-76845-014.ome.tif\", 77763198424, 7973.798753499985, 38777338962, null, \"zip\", 49.86592597512319, null, [\"-8\", \"-t\", \"-w\", \"256\", \"-l\", \"256\", \"-L\"], \"/nvmen1Scratch/origData/htan-tnp-sardana-hms-prerelease-phase-1-data/recompressed/WD-76845-014.zip.ome.tif\", {\"compressionMethod\": \"zip\", \"filename\": \"WD-76845-014.ome.tif\", \"fullFilePath\": \"/s3FuseMounts/dgutman-htan-s3-synapse/htan-tnp-sardana-hms-prerelease-phase-1-data/WD-76845-014.ome.tif\", \"outputFile\": \"WD-76845-014.zip.ome.tif\", \"tileString\": [\"-8\", \"-t\", \"-w\", \"256\", \"-l\", \"256\", \"-L\"]}, 49.86592597512319, 9.75234023681209], [\"5eea5ab4485aac8111e00725\", \"WD-76845-029.ome.tif\", 79860366424, 8137.981534957886, 40213599020, null, \"zip\", 50.354889190584565, null, [\"-8\", \"-t\", \"-w\", \"256\", \"-l\", \"256\", \"-L\"], \"/nvmen1Scratch/origData/htan-tnp-sardana-hms-prerelease-phase-1-data/recompressed/WD-76845-029.zip.ome.tif\", {\"compressionMethod\": \"zip\", \"filename\": \"WD-76845-029.ome.tif\", \"fullFilePath\": \"/s3FuseMounts/dgutman-htan-s3-synapse/htan-tnp-sardana-hms-prerelease-phase-1-data/WD-76845-029.ome.tif\", \"outputFile\": \"WD-76845-029.zip.ome.tif\", \"tileString\": [\"-8\", \"-t\", \"-w\", \"256\", \"-l\", \"256\", \"-L\"]}, 50.354889190584565, 9.813289214401403], [\"5eea5c90a6ab30e49fe00728\", \"WD-76845-053.ome.tif\", 11239878067, 579.8602466583252, 4662752796, null, \"zip\", 41.48401582477772, null, [\"-8\", \"-t\", \"-w\", \"256\", \"-l\", \"256\", \"-L\"], \"/nvmen1Scratch/origData/htan-tnp-sardana-hms-prerelease-phase-1-data/recompressed/WD-76845-053.zip.ome.tif\", {\"compressionMethod\": \"zip\", \"filename\": \"WD-76845-053.ome.tif\", \"fullFilePath\": \"/s3FuseMounts/dgutman-htan-s3-synapse/htan-tnp-sardana-hms-prerelease-phase-1-data/WD-76845-053.ome.tif\", \"outputFile\": \"WD-76845-053.zip.ome.tif\", \"tileString\": [\"-8\", \"-t\", \"-w\", \"256\", \"-l\", \"256\", \"-L\"]}, 41.48401582477772, 19.38377071333008], [\"5eea5cd507b8d638b9e00728\", \"WD-76845-033.ome.tif\", 12715247011, 563.4451377391815, 4779749076, null, \"zip\", 37.59068991632663, null, [\"-8\", \"-t\", \"-w\", \"256\", \"-l\", \"256\", \"-L\"], \"/nvmen1Scratch/origData/htan-tnp-sardana-hms-prerelease-phase-1-data/recompressed/WD-76845-033.zip.ome.tif\", {\"compressionMethod\": \"zip\", \"filename\": \"WD-76845-033.ome.tif\", \"fullFilePath\": \"/s3FuseMounts/dgutman-htan-s3-synapse/htan-tnp-sardana-hms-prerelease-phase-1-data/WD-76845-033.ome.tif\", \"outputFile\": \"WD-76845-033.zip.ome.tif\", \"tileString\": [\"-8\", \"-t\", \"-w\", \"256\", \"-l\", \"256\", \"-L\"]}, 37.59068991632663, 22.566965547027014], [\"5eea5e8e07b8d638b9e00729\", \"WD-76845-085.ome.tif\", 11384583763, 440.0287048816681, 4650921526, null, \"zip\", 40.85280255142517, null, [\"-8\", \"-t\", \"-w\", \"256\", \"-l\", \"256\", \"-L\"], \"/nvmen1Scratch/origData/htan-tnp-sardana-hms-prerelease-phase-1-data/recompressed/WD-76845-085.zip.ome.tif\", {\"compressionMethod\": \"zip\", \"filename\": \"WD-76845-085.ome.tif\", \"fullFilePath\": \"/s3FuseMounts/dgutman-htan-s3-synapse/htan-tnp-sardana-hms-prerelease-phase-1-data/WD-76845-085.ome.tif\", \"outputFile\": \"WD-76845-085.zip.ome.tif\", \"tileString\": [\"-8\", \"-t\", \"-w\", \"256\", \"-l\", \"256\", \"-L\"]}, 40.85280255142517, 25.87236613588999], [\"5eea6f7528bc84a252e0072a\", \"WD-76845-038.ome.tif\", 12079800259, 536.2734694480896, 4692569952, null, \"zip\", 38.846420068111826, null, [\"-8\", \"-t\", \"-w\", \"256\", \"-l\", \"256\", \"-L\"], \"/nvmen1Scratch/origData/htan-tnp-sardana-hms-prerelease-phase-1-data/recompressed/WD-76845-038.zip.ome.tif\", {\"compressionMethod\": \"zip\", \"filename\": \"WD-76845-038.ome.tif\", \"fullFilePath\": \"/s3FuseMounts/dgutman-htan-s3-synapse/htan-tnp-sardana-hms-prerelease-phase-1-data/WD-76845-038.ome.tif\", \"outputFile\": \"WD-76845-038.zip.ome.tif\", \"tileString\": [\"-8\", \"-t\", \"-w\", \"256\", \"-l\", \"256\", \"-L\"]}, 38.846420068111826, 22.52544820356679]], \"fillcolor\": \"rgba(255,255,255,0)\", \"hoveron\": \"points\", \"hovertemplate\": \"compressionMethod=%{customdata[6]}<br>compressionRatio=%{customdata[12]}<br>_id=%{customdata[0]}<br>origFileName=%{customdata[1]}<br>origFileSize=%{customdata[2]}<br>executionTime=%{customdata[3]}<br>compressedFileSize=%{customdata[4]}<br>compressionOptions=%{customdata[5]}<br>compressionRate=%{customdata[7]}<br>outputFileName=%{customdata[8]}<br>tileInfo=%{customdata[9]}<br>outputFileNamewPath=%{customdata[10]}<br>origCompressionDict=%{customdata[11]}<br>mbytesPerSec=%{customdata[13]}<extra></extra>\", \"jitter\": 0, \"legendgroup\": \"zip\", \"line\": {\"color\": \"rgba(255,255,255,0)\"}, \"marker\": {\"color\": \"#EF553B\", \"symbol\": \"line-ns-open\"}, \"name\": \"zip\", \"offsetgroup\": \"zip\", \"showlegend\": false, \"type\": \"box\", \"x\": [49.315788088988384, 36.61950581909286, 33.58983727278202, 50.503047339285914, 36.61950581909286, 39.55224688132807, 41.51413014995118, 51.222433070225435, 40.45264874669214, 36.33974094727301, 51.4742538700094, 51.001945294945806, 50.86888010595425, 51.97479864610746, 34.8560137674965, 38.76818687706823, 51.71288535798724, 33.58983727278202, 38.847058918282976, 41.39344829424652, 40.03597884897526, 38.983320900801395, 43.32215509777528, 49.86592597512319, 50.354889190584565, 41.48401582477772, 37.59068991632663, 40.85280255142517, 38.846420068111826], \"xaxis\": \"x2\", \"yaxis\": \"y2\"}, {\"alignmentgroup\": \"True\", \"bingroup\": \"x\", \"hovertemplate\": \"compressionMethod=zip:2<br>compressionRatio=%{x}<br>count=%{y}<extra></extra>\", \"legendgroup\": \"zip:2\", \"marker\": {\"color\": \"#00cc96\"}, \"name\": \"zip:2\", \"nbinsx\": 25, \"offsetgroup\": \"zip:2\", \"orientation\": \"v\", \"showlegend\": true, \"type\": \"histogram\", \"x\": [31.504508326527997, 28.951587393496176, 49.96832523218651, 49.01867894956727, 49.01867894956727, 49.96832523218651, 35.72398626140535, 33.17488563798168, 32.95387664712992, 33.56443567022943, 49.255709091536836, 50.13233975410848, 50.40815312835506, 49.36939489089169, 31.450543025553813, 33.82850679632704, 50.318648095201, 34.37898285876485, 49.68739215060128, 49.9582354755743, 34.39619386636332, 50.44165348199843, 49.179616912718046, 30.51883960504921, 34.85572287473542, 50.235391288701216, 34.8750110111459, 50.435650401165354, 35.07842936104335, 50.66919276102196, 52.04458250017587, 32.823907870876, 50.09955265060202, 28.951587393496176, 29.420981089329445, 49.61473996393503, 50.598472370134154, 50.38104818901575, 51.17570173967791], \"xaxis\": \"x\", \"yaxis\": \"y\"}, {\"alignmentgroup\": \"True\", \"boxpoints\": \"all\", \"customdata\": [[\"5ee91669557b784b56fd998f\", \"WD-76845-006.ome.tif\", 11834429731, 397.7636926174164, 3728378900, null, \"zip:2\", 31.504508326527997, null, [\"-8\", \"-t\", \"-w\", \"256\", \"-l\", \"256\", \"-L\"], \"/nvmen1Scratch/origData/htan-tnp-sardana-hms-prerelease-phase-1-data/recompressed/WD-76845-006.zip:2.ome.tif\", {\"compressionMethod\": \"zip:2\", \"filename\": \"WD-76845-006.ome.tif\", \"fullFilePath\": \"/nvmen1Scratch/origData/htan-tnp-sardana-hms-prerelease-phase-1-data/WD-76845-006.ome.tif\", \"outputFile\": \"WD-76845-006.zip:2.ome.tif\", \"tileString\": [\"-8\", \"-t\", \"-w\", \"256\", \"-l\", \"256\", \"-L\"]}, 31.504508326527997, 29.75241318061371], [\"5ee91a15557b784b56fd9992\", \"WD-76845-001.ome.tif\", 13048699267, 388.8447744846344, 3777805572, null, \"zip:2\", 28.951587393496176, null, [\"-8\", \"-t\", \"-w\", \"256\", \"-l\", \"256\", \"-L\"], \"/nvmen1Scratch/origData/htan-tnp-sardana-hms-prerelease-phase-1-data/recompressed/WD-76845-001.zip:2.ome.tif\", {\"compressionMethod\": \"zip:2\", \"filename\": \"WD-76845-001.ome.tif\", \"fullFilePath\": \"/nvmen1Scratch/origData/htan-tnp-sardana-hms-prerelease-phase-1-data/WD-76845-001.ome.tif\", \"outputFile\": \"WD-76845-001.zip:2.ome.tif\", \"tileString\": [\"-8\", \"-t\", \"-w\", \"256\", \"-l\", \"256\", \"-L\"]}, 28.951587393496176, 33.55760479048339], [\"5ee92a003665612659fd998e\", \"WD-76845-007.ome.tif\", 86067983704, 5590.432553291321, 43006730018, null, \"zip:2\", 49.96832523218651, null, [\"-8\", \"-t\", \"-w\", \"256\", \"-l\", \"256\", \"-L\"], \"/nvmen1Scratch/origData/htan-tnp-sardana-hms-prerelease-phase-1-data/recompressed/WD-76845-007.zip:2.ome.tif\", {\"compressionMethod\": \"zip:2\", \"filename\": \"WD-76845-007.ome.tif\", \"fullFilePath\": \"/nvmen1Scratch/origData/htan-tnp-sardana-hms-prerelease-phase-1-data/WD-76845-007.ome.tif\", \"outputFile\": \"WD-76845-007.zip:2.ome.tif\", \"tileString\": [\"-8\", \"-t\", \"-w\", \"256\", \"-l\", \"256\", \"-L\"]}, 49.96832523218651, 15.395585741094076], [\"5ee92bef715184fcc2fd998e\", \"WD-76845-002.ome.tif\", 94540542424, 6085.464375734329, 46342524968, null, \"zip:2\", 49.01867894956727, null, [\"-8\", \"-t\", \"-w\", \"256\", \"-l\", \"256\", \"-L\"], \"/nvmen1Scratch/origData/htan-tnp-sardana-hms-prerelease-phase-1-data/recompressed/WD-76845-002.zip:2.ome.tif\", {\"compressionMethod\": \"zip:2\", \"filename\": \"WD-76845-002.ome.tif\", \"fullFilePath\": \"/nvmen1Scratch/origData/htan-tnp-sardana-hms-prerelease-phase-1-data/WD-76845-002.ome.tif\", \"outputFile\": \"WD-76845-002.zip:2.ome.tif\", \"tileString\": [\"-8\", \"-t\", \"-w\", \"256\", \"-l\", \"256\", \"-L\"]}, 49.01867894956727, 15.53546887908482], [\"5ee949e04e7ed2ebe2eadea9\", \"WD-76845-002.ome.tif\", 94540542424, 5614.211896657944, 46342524968, null, \"zip:2\", 49.01867894956727, null, [\"-8\", \"-t\", \"-w\", \"256\", \"-l\", \"256\", \"-L\"], \"/nvmen1Scratch/origData/htan-tnp-sardana-hms-prerelease-phase-1-data/recompressed/WD-76845-002.zip:2.ome.tif\", {\"compressionMethod\": \"zip:2\", \"filename\": \"WD-76845-002.ome.tif\", \"fullFilePath\": \"/s3FuseMounts/dgutman-htan-s3-synapse/htan-tnp-sardana-hms-prerelease-phase-1-data/WD-76845-002.ome.tif\", \"outputFile\": \"WD-76845-002.zip:2.ome.tif\", \"tileString\": [\"-8\", \"-t\", \"-w\", \"256\", \"-l\", \"256\", \"-L\"]}, 49.01867894956727, 16.83950377439059], [\"5ee94a4c84b2483271eadea9\", \"WD-76845-007.ome.tif\", 86067983704, 5722.054629325867, 43006730018, null, \"zip:2\", 49.96832523218651, null, [\"-8\", \"-t\", \"-w\", \"256\", \"-l\", \"256\", \"-L\"], \"/nvmen1Scratch/origData/htan-tnp-sardana-hms-prerelease-phase-1-data/recompressed/WD-76845-007.zip:2.ome.tif\", {\"compressionMethod\": \"zip:2\", \"filename\": \"WD-76845-007.ome.tif\", \"fullFilePath\": \"/s3FuseMounts/dgutman-htan-s3-synapse/htan-tnp-sardana-hms-prerelease-phase-1-data/WD-76845-007.ome.tif\", \"outputFile\": \"WD-76845-007.zip:2.ome.tif\", \"tileString\": [\"-8\", \"-t\", \"-w\", \"256\", \"-l\", \"256\", \"-L\"]}, 49.96832523218651, 15.041447395992432], [\"5ee955db492ea78385038554\", \"WD-76845-105.ome.tif\", 10327603048, 763.3601269721985, 3689431494, null, \"zip:2\", 35.72398626140535, null, [\"-8\", \"-t\", \"-w\", \"256\", \"-l\", \"256\", \"-L\"], \"/nvmen1Scratch/origData/htan-tnp-sardana-hms-prerelease-phase-1-data/recompressed/WD-76845-105.zip:2.ome.tif\", {\"compressionMethod\": \"zip:2\", \"filename\": \"WD-76845-105.ome.tif\", \"fullFilePath\": \"/s3FuseMounts/dgutman-htan-s3-synapse/htan-tnp-sardana-hms-prerelease-phase-1-data/WD-76845-105.ome.tif\", \"outputFile\": \"WD-76845-105.zip:2.ome.tif\", \"tileString\": [\"-8\", \"-t\", \"-w\", \"256\", \"-l\", \"256\", \"-L\"]}, 35.72398626140535, 13.529136095912605], [\"5ee955f61a4aa37fe2038554\", \"WD-76845-101.ome.tif\", 11221003432, 790.2897870540619, 3722555056, null, \"zip:2\", 33.17488563798168, null, [\"-8\", \"-t\", \"-w\", \"256\", \"-l\", \"256\", \"-L\"], \"/nvmen1Scratch/origData/htan-tnp-sardana-hms-prerelease-phase-1-data/recompressed/WD-76845-101.zip:2.ome.tif\", {\"compressionMethod\": \"zip:2\", \"filename\": \"WD-76845-101.ome.tif\", \"fullFilePath\": \"/s3FuseMounts/dgutman-htan-s3-synapse/htan-tnp-sardana-hms-prerelease-phase-1-data/WD-76845-101.ome.tif\", \"outputFile\": \"WD-76845-101.zip:2.ome.tif\", \"tileString\": [\"-8\", \"-t\", \"-w\", \"256\", \"-l\", \"256\", \"-L\"]}, 33.17488563798168, 14.198593497997965], [\"5ee9560c07c5288327038554\", \"WD-76845-048.ome.tif\", 12067217155, 811.483594417572, 3976615856, null, \"zip:2\", 32.95387664712992, null, [\"-8\", \"-t\", \"-w\", \"256\", \"-l\", \"256\", \"-L\"], \"/nvmen1Scratch/origData/htan-tnp-sardana-hms-prerelease-phase-1-data/recompressed/WD-76845-048.zip:2.ome.tif\", {\"compressionMethod\": \"zip:2\", \"filename\": \"WD-76845-048.ome.tif\", \"fullFilePath\": \"/s3FuseMounts/dgutman-htan-s3-synapse/htan-tnp-sardana-hms-prerelease-phase-1-data/WD-76845-048.ome.tif\", \"outputFile\": \"WD-76845-048.zip:2.ome.tif\", \"tileString\": [\"-8\", \"-t\", \"-w\", \"256\", \"-l\", \"256\", \"-L\"]}, 32.95387664712992, 14.870562064364384], [\"5ee95a141a4aa37fe2038556\", \"WD-76845-024.ome.tif\", 11834429731, 565.2832190990448, 3972159554, null, \"zip:2\", 33.56443567022943, null, [\"-8\", \"-t\", \"-w\", \"256\", \"-l\", \"256\", \"-L\"], \"/nvmen1Scratch/origData/htan-tnp-sardana-hms-prerelease-phase-1-data/recompressed/WD-76845-024.zip:2.ome.tif\", {\"compressionMethod\": \"zip:2\", \"filename\": \"WD-76845-024.ome.tif\", \"fullFilePath\": \"/s3FuseMounts/dgutman-htan-s3-synapse/htan-tnp-sardana-hms-prerelease-phase-1-data/WD-76845-024.ome.tif\", \"outputFile\": \"WD-76845-024.zip:2.ome.tif\", \"tileString\": [\"-8\", \"-t\", \"-w\", \"256\", \"-l\", \"256\", \"-L\"]}, 33.56443567022943, 20.93539898435665], [\"5ee96fe107c5a13130038554\", \"WD-76845-014.ome.tif\", 77763198424, 7424.825670003891, 38302814796, null, \"zip:2\", 49.255709091536836, null, [\"-8\", \"-t\", \"-w\", \"256\", \"-l\", \"256\", \"-L\"], \"/nvmen1Scratch/origData/htan-tnp-sardana-hms-prerelease-phase-1-data/recompressed/WD-76845-014.zip:2.ome.tif\", {\"compressionMethod\": \"zip:2\", \"filename\": \"WD-76845-014.ome.tif\", \"fullFilePath\": \"/s3FuseMounts/dgutman-htan-s3-synapse/htan-tnp-sardana-hms-prerelease-phase-1-data/WD-76845-014.ome.tif\", \"outputFile\": \"WD-76845-014.zip:2.ome.tif\", \"tileString\": [\"-8\", \"-t\", \"-w\", \"256\", \"-l\", \"256\", \"-L\"]}, 49.255709091536836, 10.473403939726337], [\"5ee9739829adeff7e7038554\", \"WD-76845-059.ome.tif\", 86067983704, 8375.954835414886, 43147894010, null, \"zip:2\", 50.13233975410848, null, [\"-8\", \"-t\", \"-w\", \"256\", \"-l\", \"256\", \"-L\"], \"/nvmen1Scratch/origData/htan-tnp-sardana-hms-prerelease-phase-1-data/recompressed/WD-76845-059.zip:2.ome.tif\", {\"compressionMethod\": \"zip:2\", \"filename\": \"WD-76845-059.ome.tif\", \"fullFilePath\": \"/s3FuseMounts/dgutman-htan-s3-synapse/htan-tnp-sardana-hms-prerelease-phase-1-data/WD-76845-059.ome.tif\", \"outputFile\": \"WD-76845-059.zip:2.ome.tif\", \"tileString\": [\"-8\", \"-t\", \"-w\", \"256\", \"-l\", \"256\", \"-L\"]}, 50.13233975410848, 10.275602650111088], [\"5ee97556492ea78385038555\", \"WD-76845-039.ome.tif\", 86067983704, 8058.399178743362, 43385281020, null, \"zip:2\", 50.40815312835506, null, [\"-8\", \"-t\", \"-w\", \"256\", \"-l\", \"256\", \"-L\"], \"/nvmen1Scratch/origData/htan-tnp-sardana-hms-prerelease-phase-1-data/recompressed/WD-76845-039.zip:2.ome.tif\", {\"compressionMethod\": \"zip:2\", \"filename\": \"WD-76845-039.ome.tif\", \"fullFilePath\": \"/s3FuseMounts/dgutman-htan-s3-synapse/htan-tnp-sardana-hms-prerelease-phase-1-data/WD-76845-039.ome.tif\", \"outputFile\": \"WD-76845-039.zip:2.ome.tif\", \"tileString\": [\"-8\", \"-t\", \"-w\", \"256\", \"-l\", \"256\", \"-L\"]}, 50.40815312835506, 10.680531181804964], [\"5ee9764f9d5df40196038555\", \"WD-76845-020.ome.tif\", 89758999384, 8412.91133093834, 44313474856, null, \"zip:2\", 49.36939489089169, null, [\"-8\", \"-t\", \"-w\", \"256\", \"-l\", \"256\", \"-L\"], \"/nvmen1Scratch/origData/htan-tnp-sardana-hms-prerelease-phase-1-data/recompressed/WD-76845-020.zip:2.ome.tif\", {\"compressionMethod\": \"zip:2\", \"filename\": \"WD-76845-020.ome.tif\", \"fullFilePath\": \"/s3FuseMounts/dgutman-htan-s3-synapse/htan-tnp-sardana-hms-prerelease-phase-1-data/WD-76845-020.ome.tif\", \"outputFile\": \"WD-76845-020.zip:2.ome.tif\", \"tileString\": [\"-8\", \"-t\", \"-w\", \"256\", \"-l\", \"256\", \"-L\"]}, 49.36939489089169, 10.669195936240621], [\"5ee97de807c5a13130038558\", \"WD-76845-033.ome.tif\", 12715247011, 554.1263117790222, 3999014232, null, \"zip:2\", 31.450543025553813, null, [\"-8\", \"-t\", \"-w\", \"256\", \"-l\", \"256\", \"-L\"], \"/nvmen1Scratch/origData/htan-tnp-sardana-hms-prerelease-phase-1-data/recompressed/WD-76845-033.zip:2.ome.tif\", {\"compressionMethod\": \"zip:2\", \"filename\": \"WD-76845-033.ome.tif\", \"fullFilePath\": \"/s3FuseMounts/dgutman-htan-s3-synapse/htan-tnp-sardana-hms-prerelease-phase-1-data/WD-76845-033.ome.tif\", \"outputFile\": \"WD-76845-033.zip:2.ome.tif\", \"tileString\": [\"-8\", \"-t\", \"-w\", \"256\", \"-l\", \"256\", \"-L\"]}, 31.450543025553813, 22.94647761839301], [\"5ee9806329adeff7e7038556\", \"WD-76845-096.ome.tif\", 11384583763, 495.68961358070374, 3851234692, null, \"zip:2\", 33.82850679632704, null, [\"-8\", \"-t\", \"-w\", \"256\", \"-l\", \"256\", \"-L\"], \"/nvmen1Scratch/origData/htan-tnp-sardana-hms-prerelease-phase-1-data/recompressed/WD-76845-096.zip:2.ome.tif\", {\"compressionMethod\": \"zip:2\", \"filename\": \"WD-76845-096.ome.tif\", \"fullFilePath\": \"/s3FuseMounts/dgutman-htan-s3-synapse/htan-tnp-sardana-hms-prerelease-phase-1-data/WD-76845-096.ome.tif\", \"outputFile\": \"WD-76845-096.zip:2.ome.tif\", \"tileString\": [\"-8\", \"-t\", \"-w\", \"256\", \"-l\", \"256\", \"-L\"]}, 33.82850679632704, 22.96716221419569], [\"5ee987ae07c5288327038557\", \"WD-76845-078.ome.tif\", 74575503064, 4580.758396863937, 37525384952, null, \"zip:2\", 50.318648095201, null, [\"-8\", \"-t\", \"-w\", \"256\", \"-l\", \"256\", \"-L\"], \"/nvmen1Scratch/origData/htan-tnp-sardana-hms-prerelease-phase-1-data/recompressed/WD-76845-078.zip:2.ome.tif\", {\"compressionMethod\": \"zip:2\", \"filename\": \"WD-76845-078.ome.tif\", \"fullFilePath\": \"/s3FuseMounts/dgutman-htan-s3-synapse/htan-tnp-sardana-hms-prerelease-phase-1-data/WD-76845-078.ome.tif\", \"outputFile\": \"WD-76845-078.zip:2.ome.tif\", \"tileString\": [\"-8\", \"-t\", \"-w\", \"256\", \"-l\", \"256\", \"-L\"]}, 50.318648095201, 16.280165117430254], [\"5ee9890107c5288327038558\", \"WD-76845-058.ome.tif\", 11239878067, 339.0999071598053, 3864155754, null, \"zip:2\", 34.37898285876485, null, [\"-8\", \"-t\", \"-w\", \"256\", \"-l\", \"256\", \"-L\"], \"/nvmen1Scratch/origData/htan-tnp-sardana-hms-prerelease-phase-1-data/recompressed/WD-76845-058.zip:2.ome.tif\", {\"compressionMethod\": \"zip:2\", \"filename\": \"WD-76845-058.ome.tif\", \"fullFilePath\": \"/s3FuseMounts/dgutman-htan-s3-synapse/htan-tnp-sardana-hms-prerelease-phase-1-data/WD-76845-058.ome.tif\", \"outputFile\": \"WD-76845-058.zip:2.ome.tif\", \"tileString\": [\"-8\", \"-t\", \"-w\", \"256\", \"-l\", \"256\", \"-L\"]}, 34.37898285876485, 33.14621393188132], [\"5ee98e8c1a4aa37fe203855a\", \"WD-76845-029.ome.tif\", 79860366424, 5120.082880973816, 39680533438, null, \"zip:2\", 49.68739215060128, null, [\"-8\", \"-t\", \"-w\", \"256\", \"-l\", \"256\", \"-L\"], \"/nvmen1Scratch/origData/htan-tnp-sardana-hms-prerelease-phase-1-data/recompressed/WD-76845-029.zip:2.ome.tif\", {\"compressionMethod\": \"zip:2\", \"filename\": \"WD-76845-029.ome.tif\", \"fullFilePath\": \"/s3FuseMounts/dgutman-htan-s3-synapse/htan-tnp-sardana-hms-prerelease-phase-1-data/WD-76845-029.ome.tif\", \"outputFile\": \"WD-76845-029.zip:2.ome.tif\", \"tileString\": [\"-8\", \"-t\", \"-w\", \"256\", \"-l\", \"256\", \"-L\"]}, 49.68739215060128, 15.59747533008898], [\"5ee99420c8c1e225d3038557\", \"WD-76845-086.ome.tif\", 77763198424, 4308.936995506287, 38849121782, null, \"zip:2\", 49.9582354755743, null, [\"-8\", \"-t\", \"-w\", \"256\", \"-l\", \"256\", \"-L\"], \"/nvmen1Scratch/origData/htan-tnp-sardana-hms-prerelease-phase-1-data/recompressed/WD-76845-086.zip:2.ome.tif\", {\"compressionMethod\": \"zip:2\", \"filename\": \"WD-76845-086.ome.tif\", \"fullFilePath\": \"/s3FuseMounts/dgutman-htan-s3-synapse/htan-tnp-sardana-hms-prerelease-phase-1-data/WD-76845-086.ome.tif\", \"outputFile\": \"WD-76845-086.zip:2.ome.tif\", \"tileString\": [\"-8\", \"-t\", \"-w\", \"256\", \"-l\", \"256\", \"-L\"]}, 49.9582354755743, 18.046956477919693], [\"5eea0323b5f447f61e5fe9a4\", \"WD-76845-085.ome.tif\", 11384583763, 576.1871275901794, 3915863502, null, \"zip:2\", 34.39619386636332, null, [\"-8\", \"-t\", \"-w\", \"256\", \"-l\", \"256\", \"-L\"], \"/nvmen1Scratch/origData/htan-tnp-sardana-hms-prerelease-phase-1-data/recompressed/WD-76845-085.zip:2.ome.tif\", {\"compressionMethod\": \"zip:2\", \"filename\": \"WD-76845-085.ome.tif\", \"fullFilePath\": \"/s3FuseMounts/dgutman-htan-s3-synapse/htan-tnp-sardana-hms-prerelease-phase-1-data/WD-76845-085.ome.tif\", \"outputFile\": \"WD-76845-085.zip:2.ome.tif\", \"tileString\": [\"-8\", \"-t\", \"-w\", \"256\", \"-l\", \"256\", \"-L\"]}, 34.39619386636332, 19.758483343101396], [\"5eea1915049ce574635fe9a4\", \"WD-76845-084.ome.tif\", 74575503064, 6347.110875368118, 37617116838, null, \"zip:2\", 50.44165348199843, null, [\"-8\", \"-t\", \"-w\", \"256\", \"-l\", \"256\", \"-L\"], \"/nvmen1Scratch/origData/htan-tnp-sardana-hms-prerelease-phase-1-data/recompressed/WD-76845-084.zip:2.ome.tif\", {\"compressionMethod\": \"zip:2\", \"filename\": \"WD-76845-084.ome.tif\", \"fullFilePath\": \"/s3FuseMounts/dgutman-htan-s3-synapse/htan-tnp-sardana-hms-prerelease-phase-1-data/WD-76845-084.ome.tif\", \"outputFile\": \"WD-76845-084.zip:2.ome.tif\", \"tileString\": [\"-8\", \"-t\", \"-w\", \"256\", \"-l\", \"256\", \"-L\"]}, 50.44165348199843, 11.749519510272426], [\"5eea1b26c617b77de35fe9a4\", \"WD-76845-091.ome.tif\", 77763198424, 6778.826405286789, 38243643084, null, \"zip:2\", 49.179616912718046, null, [\"-8\", \"-t\", \"-w\", \"256\", \"-l\", \"256\", \"-L\"], \"/nvmen1Scratch/origData/htan-tnp-sardana-hms-prerelease-phase-1-data/recompressed/WD-76845-091.zip:2.ome.tif\", {\"compressionMethod\": \"zip:2\", \"filename\": \"WD-76845-091.ome.tif\", \"fullFilePath\": \"/s3FuseMounts/dgutman-htan-s3-synapse/htan-tnp-sardana-hms-prerelease-phase-1-data/WD-76845-091.ome.tif\", \"outputFile\": \"WD-76845-091.zip:2.ome.tif\", \"tileString\": [\"-8\", \"-t\", \"-w\", \"256\", \"-l\", \"256\", \"-L\"]}, 49.179616912718046, 11.471483967099775], [\"5eea1b7c049ce574635fe9a5\", \"WD-76845-013.ome.tif\", 12727830115, 614.36305975914, 3884386058, null, \"zip:2\", 30.51883960504921, null, [\"-8\", \"-t\", \"-w\", \"256\", \"-l\", \"256\", \"-L\"], \"/nvmen1Scratch/origData/htan-tnp-sardana-hms-prerelease-phase-1-data/recompressed/WD-76845-013.zip:2.ome.tif\", {\"compressionMethod\": \"zip:2\", \"filename\": \"WD-76845-013.ome.tif\", \"fullFilePath\": \"/s3FuseMounts/dgutman-htan-s3-synapse/htan-tnp-sardana-hms-prerelease-phase-1-data/WD-76845-013.ome.tif\", \"outputFile\": \"WD-76845-013.zip:2.ome.tif\", \"tileString\": [\"-8\", \"-t\", \"-w\", \"256\", \"-l\", \"256\", \"-L\"]}, 30.51883960504921, 20.717114925480587], [\"5eea1dd5049ce574635fe9a6\", \"WD-76845-090.ome.tif\", 10657909507, 600.5363554954529, 3714891402, null, \"zip:2\", 34.85572287473542, null, [\"-8\", \"-t\", \"-w\", \"256\", \"-l\", \"256\", \"-L\"], \"/nvmen1Scratch/origData/htan-tnp-sardana-hms-prerelease-phase-1-data/recompressed/WD-76845-090.zip:2.ome.tif\", {\"compressionMethod\": \"zip:2\", \"filename\": \"WD-76845-090.ome.tif\", \"fullFilePath\": \"/s3FuseMounts/dgutman-htan-s3-synapse/htan-tnp-sardana-hms-prerelease-phase-1-data/WD-76845-090.ome.tif\", \"outputFile\": \"WD-76845-090.zip:2.ome.tif\", \"tileString\": [\"-8\", \"-t\", \"-w\", \"256\", \"-l\", \"256\", \"-L\"]}, 34.85572287473542, 17.747317726013506], [\"5eea1e6cc100c647d85fe9a3\", \"WD-76845-050.ome.tif\", 86067983704, 8026.086015224457, 43236588388, null, \"zip:2\", 50.235391288701216, null, [\"-8\", \"-t\", \"-w\", \"256\", \"-l\", \"256\", \"-L\"], \"/nvmen1Scratch/origData/htan-tnp-sardana-hms-prerelease-phase-1-data/recompressed/WD-76845-050.zip:2.ome.tif\", {\"compressionMethod\": \"zip:2\", \"filename\": \"WD-76845-050.ome.tif\", \"fullFilePath\": \"/s3FuseMounts/dgutman-htan-s3-synapse/htan-tnp-sardana-hms-prerelease-phase-1-data/WD-76845-050.ome.tif\", \"outputFile\": \"WD-76845-050.zip:2.ome.tif\", \"tileString\": [\"-8\", \"-t\", \"-w\", \"256\", \"-l\", \"256\", \"-L\"]}, 50.235391288701216, 10.723531188270355], [\"5eea1fa9049ce574635fe9a7\", \"WD-76845-073.ome.tif\", 9808549987, 468.4046103954315, 3420732888, null, \"zip:2\", 34.8750110111459, null, [\"-8\", \"-t\", \"-w\", \"256\", \"-l\", \"256\", \"-L\"], \"/nvmen1Scratch/origData/htan-tnp-sardana-hms-prerelease-phase-1-data/recompressed/WD-76845-073.zip:2.ome.tif\", {\"compressionMethod\": \"zip:2\", \"filename\": \"WD-76845-073.ome.tif\", \"fullFilePath\": \"/s3FuseMounts/dgutman-htan-s3-synapse/htan-tnp-sardana-hms-prerelease-phase-1-data/WD-76845-073.ome.tif\", \"outputFile\": \"WD-76845-073.zip:2.ome.tif\", \"tileString\": [\"-8\", \"-t\", \"-w\", \"256\", \"-l\", \"256\", \"-L\"]}, 34.8750110111459, 20.940336131020427], [\"5eea2d9c5b022b5ffc5fe9a4\", \"WD-76845-044.ome.tif\", 82209194584, 7793.740849494934, 41462741978, null, \"zip:2\", 50.435650401165354, null, [\"-8\", \"-t\", \"-w\", \"256\", \"-l\", \"256\", \"-L\"], \"/nvmen1Scratch/origData/htan-tnp-sardana-hms-prerelease-phase-1-data/recompressed/WD-76845-044.zip:2.ome.tif\", {\"compressionMethod\": \"zip:2\", \"filename\": \"WD-76845-044.ome.tif\", \"fullFilePath\": \"/s3FuseMounts/dgutman-htan-s3-synapse/htan-tnp-sardana-hms-prerelease-phase-1-data/WD-76845-044.ome.tif\", \"outputFile\": \"WD-76845-044.zip:2.ome.tif\", \"tileString\": [\"-8\", \"-t\", \"-w\", \"256\", \"-l\", \"256\", \"-L\"]}, 50.435650401165354, 10.548104712684601], [\"5eea3595692e2980bb5fe9ac\", \"WD-76845-053.ome.tif\", 11239878067, 570.1165504455566, 3942772688, null, \"zip:2\", 35.07842936104335, null, [\"-8\", \"-t\", \"-w\", \"256\", \"-l\", \"256\", \"-L\"], \"/nvmen1Scratch/origData/htan-tnp-sardana-hms-prerelease-phase-1-data/recompressed/WD-76845-053.zip:2.ome.tif\", {\"compressionMethod\": \"zip:2\", \"filename\": \"WD-76845-053.ome.tif\", \"fullFilePath\": \"/s3FuseMounts/dgutman-htan-s3-synapse/htan-tnp-sardana-hms-prerelease-phase-1-data/WD-76845-053.ome.tif\", \"outputFile\": \"WD-76845-053.zip:2.ome.tif\", \"tileString\": [\"-8\", \"-t\", \"-w\", \"256\", \"-l\", \"256\", \"-L\"]}, 35.07842936104335, 19.715053103116944], [\"5eea35fe7a359007b45fe9a6\", \"WD-76845-074.ome.tif\", 74575503064, 6609.197779893875, 37786805400, null, \"zip:2\", 50.66919276102196, null, [\"-8\", \"-t\", \"-w\", \"256\", \"-l\", \"256\", \"-L\"], \"/nvmen1Scratch/origData/htan-tnp-sardana-hms-prerelease-phase-1-data/recompressed/WD-76845-074.zip:2.ome.tif\", {\"compressionMethod\": \"zip:2\", \"filename\": \"WD-76845-074.ome.tif\", \"fullFilePath\": \"/s3FuseMounts/dgutman-htan-s3-synapse/htan-tnp-sardana-hms-prerelease-phase-1-data/WD-76845-074.ome.tif\", \"outputFile\": \"WD-76845-074.zip:2.ome.tif\", \"tileString\": [\"-8\", \"-t\", \"-w\", \"256\", \"-l\", \"256\", \"-L\"]}, 50.66919276102196, 11.283593795735596], [\"5eea38febb2b0550615fe9a6\", \"WD-76845-051.ome.tif\", 82209194584, 7417.316708564758, 42785432098, null, \"zip:2\", 52.04458250017587, null, [\"-8\", \"-t\", \"-w\", \"256\", \"-l\", \"256\", \"-L\"], \"/nvmen1Scratch/origData/htan-tnp-sardana-hms-prerelease-phase-1-data/recompressed/WD-76845-051.zip:2.ome.tif\", {\"compressionMethod\": \"zip:2\", \"filename\": \"WD-76845-051.ome.tif\", \"fullFilePath\": \"/s3FuseMounts/dgutman-htan-s3-synapse/htan-tnp-sardana-hms-prerelease-phase-1-data/WD-76845-051.ome.tif\", \"outputFile\": \"WD-76845-051.zip:2.ome.tif\", \"tileString\": [\"-8\", \"-t\", \"-w\", \"256\", \"-l\", \"256\", \"-L\"]}, 52.04458250017587, 11.083414368577957], [\"5eea51c728bc84a252e00728\", \"WD-76845-038.ome.tif\", 12079800259, 575.7592494487762, 3965062508, null, \"zip:2\", 32.823907870876, null, [\"-8\", \"-t\", \"-w\", \"256\", \"-l\", \"256\", \"-L\"], \"/nvmen1Scratch/origData/htan-tnp-sardana-hms-prerelease-phase-1-data/recompressed/WD-76845-038.zip:2.ome.tif\", {\"compressionMethod\": \"zip:2\", \"filename\": \"WD-76845-038.ome.tif\", \"fullFilePath\": \"/s3FuseMounts/dgutman-htan-s3-synapse/htan-tnp-sardana-hms-prerelease-phase-1-data/WD-76845-038.ome.tif\", \"outputFile\": \"WD-76845-038.zip:2.ome.tif\", \"tileString\": [\"-8\", \"-t\", \"-w\", \"256\", \"-l\", \"256\", \"-L\"]}, 32.823907870876, 20.980644723580262], [\"5eea5aa107b8d638b9e00727\", \"WD-76845-106.ome.tif\", 74575503064, 6872.255130529404, 37361993422, null, \"zip:2\", 50.09955265060202, null, [\"-8\", \"-t\", \"-w\", \"256\", \"-l\", \"256\", \"-L\"], \"/nvmen1Scratch/origData/htan-tnp-sardana-hms-prerelease-phase-1-data/recompressed/WD-76845-106.zip:2.ome.tif\", {\"compressionMethod\": \"zip:2\", \"filename\": \"WD-76845-106.ome.tif\", \"fullFilePath\": \"/s3FuseMounts/dgutman-htan-s3-synapse/htan-tnp-sardana-hms-prerelease-phase-1-data/WD-76845-106.ome.tif\", \"outputFile\": \"WD-76845-106.zip:2.ome.tif\", \"tileString\": [\"-8\", \"-t\", \"-w\", \"256\", \"-l\", \"256\", \"-L\"]}, 50.09955265060202, 10.851678473446762], [\"5eea5cc28d45a18a18e00727\", \"WD-76845-001.ome.tif\", 13048699267, 696.7093639373779, 3777805572, null, \"zip:2\", 28.951587393496176, null, [\"-8\", \"-t\", \"-w\", \"256\", \"-l\", \"256\", \"-L\"], \"/nvmen1Scratch/origData/htan-tnp-sardana-hms-prerelease-phase-1-data/recompressed/WD-76845-001.zip:2.ome.tif\", {\"compressionMethod\": \"zip:2\", \"filename\": \"WD-76845-001.ome.tif\", \"fullFilePath\": \"/s3FuseMounts/dgutman-htan-s3-synapse/htan-tnp-sardana-hms-prerelease-phase-1-data/WD-76845-001.ome.tif\", \"outputFile\": \"WD-76845-001.zip:2.ome.tif\", \"tileString\": [\"-8\", \"-t\", \"-w\", \"256\", \"-l\", \"256\", \"-L\"]}, 28.951587393496176, 18.729042470818364], [\"5eea5ce6c437a94ce9e00726\", \"WD-76845-019.ome.tif\", 13674708691, 726.452522277832, 4023233458, null, \"zip:2\", 29.420981089329445, null, [\"-8\", \"-t\", \"-w\", \"256\", \"-l\", \"256\", \"-L\"], \"/nvmen1Scratch/origData/htan-tnp-sardana-hms-prerelease-phase-1-data/recompressed/WD-76845-019.zip:2.ome.tif\", {\"compressionMethod\": \"zip:2\", \"filename\": \"WD-76845-019.ome.tif\", \"fullFilePath\": \"/s3FuseMounts/dgutman-htan-s3-synapse/htan-tnp-sardana-hms-prerelease-phase-1-data/WD-76845-019.ome.tif\", \"outputFile\": \"WD-76845-019.zip:2.ome.tif\", \"tileString\": [\"-8\", \"-t\", \"-w\", \"256\", \"-l\", \"256\", \"-L\"]}, 29.420981089329445, 18.823953763863596], [\"5eea643bf57863fbe4e00726\", \"WD-76845-069.ome.tif\", 74575503064, 6291.181425333023, 37000441922, null, \"zip:2\", 49.61473996393503, null, [\"-8\", \"-t\", \"-w\", \"256\", \"-l\", \"256\", \"-L\"], \"/nvmen1Scratch/origData/htan-tnp-sardana-hms-prerelease-phase-1-data/recompressed/WD-76845-069.zip:2.ome.tif\", {\"compressionMethod\": \"zip:2\", \"filename\": \"WD-76845-069.ome.tif\", \"fullFilePath\": \"/s3FuseMounts/dgutman-htan-s3-synapse/htan-tnp-sardana-hms-prerelease-phase-1-data/WD-76845-069.ome.tif\", \"outputFile\": \"WD-76845-069.zip:2.ome.tif\", \"tileString\": [\"-8\", \"-t\", \"-w\", \"256\", \"-l\", \"256\", \"-L\"]}, 49.61473996393503, 11.853974320896707], [\"5eea6b2b87f2d71db8e00727\", \"WD-76845-052.ome.tif\", 86067983704, 7567.881829738617, 43549084954, null, \"zip:2\", 50.598472370134154, null, [\"-8\", \"-t\", \"-w\", \"256\", \"-l\", \"256\", \"-L\"], \"/nvmen1Scratch/origData/htan-tnp-sardana-hms-prerelease-phase-1-data/recompressed/WD-76845-052.zip:2.ome.tif\", {\"compressionMethod\": \"zip:2\", \"filename\": \"WD-76845-052.ome.tif\", \"fullFilePath\": \"/s3FuseMounts/dgutman-htan-s3-synapse/htan-tnp-sardana-hms-prerelease-phase-1-data/WD-76845-052.ome.tif\", \"outputFile\": \"WD-76845-052.zip:2.ome.tif\", \"tileString\": [\"-8\", \"-t\", \"-w\", \"256\", \"-l\", \"256\", \"-L\"]}, 50.598472370134154, 11.372796991331015], [\"5eea6d5c28bc84a252e00729\", \"WD-76845-064.ome.tif\", 79860366424, 7061.358941555023, 40234489692, null, \"zip:2\", 50.38104818901575, null, [\"-8\", \"-t\", \"-w\", \"256\", \"-l\", \"256\", \"-L\"], \"/nvmen1Scratch/origData/htan-tnp-sardana-hms-prerelease-phase-1-data/recompressed/WD-76845-064.zip:2.ome.tif\", {\"compressionMethod\": \"zip:2\", \"filename\": \"WD-76845-064.ome.tif\", \"fullFilePath\": \"/s3FuseMounts/dgutman-htan-s3-synapse/htan-tnp-sardana-hms-prerelease-phase-1-data/WD-76845-064.ome.tif\", \"outputFile\": \"WD-76845-064.zip:2.ome.tif\", \"tileString\": [\"-8\", \"-t\", \"-w\", \"256\", \"-l\", \"256\", \"-L\"]}, 50.38104818901575, 11.30948972924091], [\"5eea7975485aac8111e00726\", \"WD-76845-034.ome.tif\", 88249038424, 7872.834859371185, 45162064692, null, \"zip:2\", 51.17570173967791, null, [\"-8\", \"-t\", \"-w\", \"256\", \"-l\", \"256\", \"-L\"], \"/nvmen1Scratch/origData/htan-tnp-sardana-hms-prerelease-phase-1-data/recompressed/WD-76845-034.zip:2.ome.tif\", {\"compressionMethod\": \"zip:2\", \"filename\": \"WD-76845-034.ome.tif\", \"fullFilePath\": \"/s3FuseMounts/dgutman-htan-s3-synapse/htan-tnp-sardana-hms-prerelease-phase-1-data/WD-76845-034.ome.tif\", \"outputFile\": \"WD-76845-034.zip:2.ome.tif\", \"tileString\": [\"-8\", \"-t\", \"-w\", \"256\", \"-l\", \"256\", \"-L\"]}, 51.17570173967791, 11.209308971971575]], \"fillcolor\": \"rgba(255,255,255,0)\", \"hoveron\": \"points\", \"hovertemplate\": \"compressionMethod=%{customdata[6]}<br>compressionRatio=%{customdata[12]}<br>_id=%{customdata[0]}<br>origFileName=%{customdata[1]}<br>origFileSize=%{customdata[2]}<br>executionTime=%{customdata[3]}<br>compressedFileSize=%{customdata[4]}<br>compressionOptions=%{customdata[5]}<br>compressionRate=%{customdata[7]}<br>outputFileName=%{customdata[8]}<br>tileInfo=%{customdata[9]}<br>outputFileNamewPath=%{customdata[10]}<br>origCompressionDict=%{customdata[11]}<br>mbytesPerSec=%{customdata[13]}<extra></extra>\", \"jitter\": 0, \"legendgroup\": \"zip:2\", \"line\": {\"color\": \"rgba(255,255,255,0)\"}, \"marker\": {\"color\": \"#00cc96\", \"symbol\": \"line-ns-open\"}, \"name\": \"zip:2\", \"offsetgroup\": \"zip:2\", \"showlegend\": false, \"type\": \"box\", \"x\": [31.504508326527997, 28.951587393496176, 49.96832523218651, 49.01867894956727, 49.01867894956727, 49.96832523218651, 35.72398626140535, 33.17488563798168, 32.95387664712992, 33.56443567022943, 49.255709091536836, 50.13233975410848, 50.40815312835506, 49.36939489089169, 31.450543025553813, 33.82850679632704, 50.318648095201, 34.37898285876485, 49.68739215060128, 49.9582354755743, 34.39619386636332, 50.44165348199843, 49.179616912718046, 30.51883960504921, 34.85572287473542, 50.235391288701216, 34.8750110111459, 50.435650401165354, 35.07842936104335, 50.66919276102196, 52.04458250017587, 32.823907870876, 50.09955265060202, 28.951587393496176, 29.420981089329445, 49.61473996393503, 50.598472370134154, 50.38104818901575, 51.17570173967791], \"xaxis\": \"x2\", \"yaxis\": \"y2\"}, {\"alignmentgroup\": \"True\", \"bingroup\": \"x\", \"hovertemplate\": \"compressionMethod=lzma<br>compressionRatio=%{x}<br>count=%{y}<extra></extra>\", \"legendgroup\": \"lzma\", \"marker\": {\"color\": \"#ab63fa\"}, \"name\": \"lzma\", \"nbinsx\": 25, \"offsetgroup\": \"lzma\", \"orientation\": \"v\", \"showlegend\": true, \"type\": \"histogram\", \"x\": [29.787653331244407, 27.441213018492967, 43.91439789037771, 43.028276932831744], \"xaxis\": \"x\", \"yaxis\": \"y\"}, {\"alignmentgroup\": \"True\", \"boxpoints\": \"all\", \"customdata\": [[\"5ee92059472cad3ec2fd998f\", \"WD-76845-006.ome.tif\", 11834429731, 2745.2994956970215, 3525198902, null, \"lzma\", 29.787653331244407, null, [\"-8\", \"-t\", \"-w\", \"256\", \"-l\", \"256\", \"-L\"], \"/nvmen1Scratch/origData/htan-tnp-sardana-hms-prerelease-phase-1-data/recompressed/WD-76845-006.lzma.ome.tif\", {\"compressionMethod\": \"lzma\", \"filename\": \"WD-76845-006.ome.tif\", \"fullFilePath\": \"/nvmen1Scratch/origData/htan-tnp-sardana-hms-prerelease-phase-1-data/WD-76845-006.ome.tif\", \"outputFile\": \"WD-76845-006.lzma.ome.tif\", \"tileString\": [\"-8\", \"-t\", \"-w\", \"256\", \"-l\", \"256\", \"-L\"]}, 29.787653331244407, 4.3107973281418905], [\"5ee92406557b784b56fd9993\", \"WD-76845-001.ome.tif\", 13048699267, 2544.670735359192, 3580721362, null, \"lzma\", 27.441213018492967, null, [\"-8\", \"-t\", \"-w\", \"256\", \"-l\", \"256\", \"-L\"], \"/nvmen1Scratch/origData/htan-tnp-sardana-hms-prerelease-phase-1-data/recompressed/WD-76845-001.lzma.ome.tif\", {\"compressionMethod\": \"lzma\", \"filename\": \"WD-76845-001.ome.tif\", \"fullFilePath\": \"/nvmen1Scratch/origData/htan-tnp-sardana-hms-prerelease-phase-1-data/WD-76845-001.ome.tif\", \"outputFile\": \"WD-76845-001.lzma.ome.tif\", \"tileString\": [\"-8\", \"-t\", \"-w\", \"256\", \"-l\", \"256\", \"-L\"]}, 27.441213018492967, 5.127853708412345], [\"5ee96701b4a211c4a5fd998e\", \"WD-76845-007.ome.tif\", 86067983704, 21207.84808945656, 37796236820, null, \"lzma\", 43.91439789037771, null, [\"-8\", \"-t\", \"-w\", \"256\", \"-l\", \"256\", \"-L\"], \"/nvmen1Scratch/origData/htan-tnp-sardana-hms-prerelease-phase-1-data/recompressed/WD-76845-007.lzma.ome.tif\", {\"compressionMethod\": \"lzma\", \"filename\": \"WD-76845-007.ome.tif\", \"fullFilePath\": \"/nvmen1Scratch/origData/htan-tnp-sardana-hms-prerelease-phase-1-data/WD-76845-007.ome.tif\", \"outputFile\": \"WD-76845-007.lzma.ome.tif\", \"tileString\": [\"-8\", \"-t\", \"-w\", \"256\", \"-l\", \"256\", \"-L\"]}, 43.91439789037771, 4.058308195200084], [\"5ee96fde9d5f656653fd998e\", \"WD-76845-002.ome.tif\", 94540542424, 23476.948788881302, 40679166408, null, \"lzma\", 43.028276932831744, null, [\"-8\", \"-t\", \"-w\", \"256\", \"-l\", \"256\", \"-L\"], \"/nvmen1Scratch/origData/htan-tnp-sardana-hms-prerelease-phase-1-data/recompressed/WD-76845-002.lzma.ome.tif\", {\"compressionMethod\": \"lzma\", \"filename\": \"WD-76845-002.ome.tif\", \"fullFilePath\": \"/nvmen1Scratch/origData/htan-tnp-sardana-hms-prerelease-phase-1-data/WD-76845-002.ome.tif\", \"outputFile\": \"WD-76845-002.lzma.ome.tif\", \"tileString\": [\"-8\", \"-t\", \"-w\", \"256\", \"-l\", \"256\", \"-L\"]}, 43.028276932831744, 4.026951852822308]], \"fillcolor\": \"rgba(255,255,255,0)\", \"hoveron\": \"points\", \"hovertemplate\": \"compressionMethod=%{customdata[6]}<br>compressionRatio=%{customdata[12]}<br>_id=%{customdata[0]}<br>origFileName=%{customdata[1]}<br>origFileSize=%{customdata[2]}<br>executionTime=%{customdata[3]}<br>compressedFileSize=%{customdata[4]}<br>compressionOptions=%{customdata[5]}<br>compressionRate=%{customdata[7]}<br>outputFileName=%{customdata[8]}<br>tileInfo=%{customdata[9]}<br>outputFileNamewPath=%{customdata[10]}<br>origCompressionDict=%{customdata[11]}<br>mbytesPerSec=%{customdata[13]}<extra></extra>\", \"jitter\": 0, \"legendgroup\": \"lzma\", \"line\": {\"color\": \"rgba(255,255,255,0)\"}, \"marker\": {\"color\": \"#ab63fa\", \"symbol\": \"line-ns-open\"}, \"name\": \"lzma\", \"offsetgroup\": \"lzma\", \"showlegend\": false, \"type\": \"box\", \"x\": [29.787653331244407, 27.441213018492967, 43.91439789037771, 43.028276932831744], \"xaxis\": \"x2\", \"yaxis\": \"y2\"}],\n",
       "                        {\"barmode\": \"relative\", \"legend\": {\"title\": {\"text\": \"compressionMethod\"}, \"tracegroupgap\": 0}, \"margin\": {\"t\": 60}, \"template\": {\"data\": {\"bar\": [{\"error_x\": {\"color\": \"#2a3f5f\"}, \"error_y\": {\"color\": \"#2a3f5f\"}, \"marker\": {\"line\": {\"color\": \"#E5ECF6\", \"width\": 0.5}}, \"type\": \"bar\"}], \"barpolar\": [{\"marker\": {\"line\": {\"color\": \"#E5ECF6\", \"width\": 0.5}}, \"type\": \"barpolar\"}], \"carpet\": [{\"aaxis\": {\"endlinecolor\": \"#2a3f5f\", \"gridcolor\": \"white\", \"linecolor\": \"white\", \"minorgridcolor\": \"white\", \"startlinecolor\": \"#2a3f5f\"}, \"baxis\": {\"endlinecolor\": \"#2a3f5f\", \"gridcolor\": \"white\", \"linecolor\": \"white\", \"minorgridcolor\": \"white\", \"startlinecolor\": \"#2a3f5f\"}, \"type\": \"carpet\"}], \"choropleth\": [{\"colorbar\": {\"outlinewidth\": 0, \"ticks\": \"\"}, \"type\": \"choropleth\"}], \"contour\": [{\"colorbar\": {\"outlinewidth\": 0, \"ticks\": \"\"}, \"colorscale\": [[0.0, \"#0d0887\"], [0.1111111111111111, \"#46039f\"], [0.2222222222222222, \"#7201a8\"], [0.3333333333333333, \"#9c179e\"], [0.4444444444444444, \"#bd3786\"], [0.5555555555555556, \"#d8576b\"], [0.6666666666666666, \"#ed7953\"], [0.7777777777777778, \"#fb9f3a\"], [0.8888888888888888, \"#fdca26\"], [1.0, \"#f0f921\"]], \"type\": \"contour\"}], \"contourcarpet\": [{\"colorbar\": {\"outlinewidth\": 0, \"ticks\": \"\"}, \"type\": \"contourcarpet\"}], \"heatmap\": [{\"colorbar\": {\"outlinewidth\": 0, \"ticks\": \"\"}, \"colorscale\": [[0.0, \"#0d0887\"], [0.1111111111111111, \"#46039f\"], [0.2222222222222222, \"#7201a8\"], [0.3333333333333333, \"#9c179e\"], [0.4444444444444444, \"#bd3786\"], [0.5555555555555556, \"#d8576b\"], [0.6666666666666666, \"#ed7953\"], [0.7777777777777778, \"#fb9f3a\"], [0.8888888888888888, \"#fdca26\"], [1.0, \"#f0f921\"]], \"type\": \"heatmap\"}], \"heatmapgl\": [{\"colorbar\": {\"outlinewidth\": 0, \"ticks\": \"\"}, \"colorscale\": [[0.0, \"#0d0887\"], [0.1111111111111111, \"#46039f\"], [0.2222222222222222, \"#7201a8\"], [0.3333333333333333, \"#9c179e\"], [0.4444444444444444, \"#bd3786\"], [0.5555555555555556, \"#d8576b\"], [0.6666666666666666, \"#ed7953\"], [0.7777777777777778, \"#fb9f3a\"], [0.8888888888888888, \"#fdca26\"], [1.0, \"#f0f921\"]], \"type\": \"heatmapgl\"}], \"histogram\": [{\"marker\": {\"colorbar\": {\"outlinewidth\": 0, \"ticks\": \"\"}}, \"type\": \"histogram\"}], \"histogram2d\": [{\"colorbar\": {\"outlinewidth\": 0, \"ticks\": \"\"}, \"colorscale\": [[0.0, \"#0d0887\"], [0.1111111111111111, \"#46039f\"], [0.2222222222222222, \"#7201a8\"], [0.3333333333333333, \"#9c179e\"], [0.4444444444444444, \"#bd3786\"], [0.5555555555555556, \"#d8576b\"], [0.6666666666666666, \"#ed7953\"], [0.7777777777777778, \"#fb9f3a\"], [0.8888888888888888, \"#fdca26\"], [1.0, \"#f0f921\"]], \"type\": \"histogram2d\"}], \"histogram2dcontour\": [{\"colorbar\": {\"outlinewidth\": 0, \"ticks\": \"\"}, \"colorscale\": [[0.0, \"#0d0887\"], [0.1111111111111111, \"#46039f\"], [0.2222222222222222, \"#7201a8\"], [0.3333333333333333, \"#9c179e\"], [0.4444444444444444, \"#bd3786\"], [0.5555555555555556, \"#d8576b\"], [0.6666666666666666, \"#ed7953\"], [0.7777777777777778, \"#fb9f3a\"], [0.8888888888888888, \"#fdca26\"], [1.0, \"#f0f921\"]], \"type\": \"histogram2dcontour\"}], \"mesh3d\": [{\"colorbar\": {\"outlinewidth\": 0, \"ticks\": \"\"}, \"type\": \"mesh3d\"}], \"parcoords\": [{\"line\": {\"colorbar\": {\"outlinewidth\": 0, \"ticks\": \"\"}}, \"type\": \"parcoords\"}], \"pie\": [{\"automargin\": true, \"type\": \"pie\"}], \"scatter\": [{\"marker\": {\"colorbar\": {\"outlinewidth\": 0, \"ticks\": \"\"}}, \"type\": \"scatter\"}], \"scatter3d\": [{\"line\": {\"colorbar\": {\"outlinewidth\": 0, \"ticks\": \"\"}}, \"marker\": {\"colorbar\": {\"outlinewidth\": 0, \"ticks\": \"\"}}, \"type\": \"scatter3d\"}], \"scattercarpet\": [{\"marker\": {\"colorbar\": {\"outlinewidth\": 0, \"ticks\": \"\"}}, \"type\": \"scattercarpet\"}], \"scattergeo\": [{\"marker\": {\"colorbar\": {\"outlinewidth\": 0, \"ticks\": \"\"}}, \"type\": \"scattergeo\"}], \"scattergl\": [{\"marker\": {\"colorbar\": {\"outlinewidth\": 0, \"ticks\": \"\"}}, \"type\": \"scattergl\"}], \"scattermapbox\": [{\"marker\": {\"colorbar\": {\"outlinewidth\": 0, \"ticks\": \"\"}}, \"type\": \"scattermapbox\"}], \"scatterpolar\": [{\"marker\": {\"colorbar\": {\"outlinewidth\": 0, \"ticks\": \"\"}}, \"type\": \"scatterpolar\"}], \"scatterpolargl\": [{\"marker\": {\"colorbar\": {\"outlinewidth\": 0, \"ticks\": \"\"}}, \"type\": \"scatterpolargl\"}], \"scatterternary\": [{\"marker\": {\"colorbar\": {\"outlinewidth\": 0, \"ticks\": \"\"}}, \"type\": \"scatterternary\"}], \"surface\": [{\"colorbar\": {\"outlinewidth\": 0, \"ticks\": \"\"}, \"colorscale\": [[0.0, \"#0d0887\"], [0.1111111111111111, \"#46039f\"], [0.2222222222222222, \"#7201a8\"], [0.3333333333333333, \"#9c179e\"], [0.4444444444444444, \"#bd3786\"], [0.5555555555555556, \"#d8576b\"], [0.6666666666666666, \"#ed7953\"], [0.7777777777777778, \"#fb9f3a\"], [0.8888888888888888, \"#fdca26\"], [1.0, \"#f0f921\"]], \"type\": \"surface\"}], \"table\": [{\"cells\": {\"fill\": {\"color\": \"#EBF0F8\"}, \"line\": {\"color\": \"white\"}}, \"header\": {\"fill\": {\"color\": \"#C8D4E3\"}, \"line\": {\"color\": \"white\"}}, \"type\": \"table\"}]}, \"layout\": {\"annotationdefaults\": {\"arrowcolor\": \"#2a3f5f\", \"arrowhead\": 0, \"arrowwidth\": 1}, \"coloraxis\": {\"colorbar\": {\"outlinewidth\": 0, \"ticks\": \"\"}}, \"colorscale\": {\"diverging\": [[0, \"#8e0152\"], [0.1, \"#c51b7d\"], [0.2, \"#de77ae\"], [0.3, \"#f1b6da\"], [0.4, \"#fde0ef\"], [0.5, \"#f7f7f7\"], [0.6, \"#e6f5d0\"], [0.7, \"#b8e186\"], [0.8, \"#7fbc41\"], [0.9, \"#4d9221\"], [1, \"#276419\"]], \"sequential\": [[0.0, \"#0d0887\"], [0.1111111111111111, \"#46039f\"], [0.2222222222222222, \"#7201a8\"], [0.3333333333333333, \"#9c179e\"], [0.4444444444444444, \"#bd3786\"], [0.5555555555555556, \"#d8576b\"], [0.6666666666666666, \"#ed7953\"], [0.7777777777777778, \"#fb9f3a\"], [0.8888888888888888, \"#fdca26\"], [1.0, \"#f0f921\"]], \"sequentialminus\": [[0.0, \"#0d0887\"], [0.1111111111111111, \"#46039f\"], [0.2222222222222222, \"#7201a8\"], [0.3333333333333333, \"#9c179e\"], [0.4444444444444444, \"#bd3786\"], [0.5555555555555556, \"#d8576b\"], [0.6666666666666666, \"#ed7953\"], [0.7777777777777778, \"#fb9f3a\"], [0.8888888888888888, \"#fdca26\"], [1.0, \"#f0f921\"]]}, \"colorway\": [\"#636efa\", \"#EF553B\", \"#00cc96\", \"#ab63fa\", \"#FFA15A\", \"#19d3f3\", \"#FF6692\", \"#B6E880\", \"#FF97FF\", \"#FECB52\"], \"font\": {\"color\": \"#2a3f5f\"}, \"geo\": {\"bgcolor\": \"white\", \"lakecolor\": \"white\", \"landcolor\": \"#E5ECF6\", \"showlakes\": true, \"showland\": true, \"subunitcolor\": \"white\"}, \"hoverlabel\": {\"align\": \"left\"}, \"hovermode\": \"closest\", \"mapbox\": {\"style\": \"light\"}, \"paper_bgcolor\": \"white\", \"plot_bgcolor\": \"#E5ECF6\", \"polar\": {\"angularaxis\": {\"gridcolor\": \"white\", \"linecolor\": \"white\", \"ticks\": \"\"}, \"bgcolor\": \"#E5ECF6\", \"radialaxis\": {\"gridcolor\": \"white\", \"linecolor\": \"white\", \"ticks\": \"\"}}, \"scene\": {\"xaxis\": {\"backgroundcolor\": \"#E5ECF6\", \"gridcolor\": \"white\", \"gridwidth\": 2, \"linecolor\": \"white\", \"showbackground\": true, \"ticks\": \"\", \"zerolinecolor\": \"white\"}, \"yaxis\": {\"backgroundcolor\": \"#E5ECF6\", \"gridcolor\": \"white\", \"gridwidth\": 2, \"linecolor\": \"white\", \"showbackground\": true, \"ticks\": \"\", \"zerolinecolor\": \"white\"}, \"zaxis\": {\"backgroundcolor\": \"#E5ECF6\", \"gridcolor\": \"white\", \"gridwidth\": 2, \"linecolor\": \"white\", \"showbackground\": true, \"ticks\": \"\", \"zerolinecolor\": \"white\"}}, \"shapedefaults\": {\"line\": {\"color\": \"#2a3f5f\"}}, \"ternary\": {\"aaxis\": {\"gridcolor\": \"white\", \"linecolor\": \"white\", \"ticks\": \"\"}, \"baxis\": {\"gridcolor\": \"white\", \"linecolor\": \"white\", \"ticks\": \"\"}, \"bgcolor\": \"#E5ECF6\", \"caxis\": {\"gridcolor\": \"white\", \"linecolor\": \"white\", \"ticks\": \"\"}}, \"title\": {\"x\": 0.05}, \"xaxis\": {\"automargin\": true, \"gridcolor\": \"white\", \"linecolor\": \"white\", \"ticks\": \"\", \"title\": {\"standoff\": 15}, \"zerolinecolor\": \"white\", \"zerolinewidth\": 2}, \"yaxis\": {\"automargin\": true, \"gridcolor\": \"white\", \"linecolor\": \"white\", \"ticks\": \"\", \"title\": {\"standoff\": 15}, \"zerolinecolor\": \"white\", \"zerolinewidth\": 2}}}, \"xaxis\": {\"anchor\": \"y\", \"domain\": [0.0, 1.0], \"title\": {\"text\": \"compressionRatio\"}}, \"xaxis2\": {\"anchor\": \"y2\", \"domain\": [0.0, 1.0], \"matches\": \"x\", \"showgrid\": true, \"showticklabels\": false}, \"yaxis\": {\"anchor\": \"x\", \"domain\": [0.0, 0.7326], \"title\": {\"text\": \"count\"}}, \"yaxis2\": {\"anchor\": \"x2\", \"domain\": [0.7426, 1.0], \"matches\": \"y2\", \"showgrid\": false, \"showline\": false, \"showticklabels\": false, \"ticks\": \"\"}},\n",
       "                        {\"responsive\": true}\n",
       "                    ).then(function(){\n",
       "                            \n",
       "var gd = document.getElementById('75d38620-ffca-4f58-843a-332cf3b49028');\n",
       "var x = new MutationObserver(function (mutations, observer) {{\n",
       "        var display = window.getComputedStyle(gd).display;\n",
       "        if (!display || display === 'none') {{\n",
       "            console.log([gd, 'removed!']);\n",
       "            Plotly.purge(gd);\n",
       "            observer.disconnect();\n",
       "        }}\n",
       "}});\n",
       "\n",
       "// Listen for the removal of the full notebook cells\n",
       "var notebookContainer = gd.closest('#notebook-container');\n",
       "if (notebookContainer) {{\n",
       "    x.observe(notebookContainer, {childList: true});\n",
       "}}\n",
       "\n",
       "// Listen for the clearing of the current output cell\n",
       "var outputEl = gd.closest('.output');\n",
       "if (outputEl) {{\n",
       "    x.observe(outputEl, {childList: true});\n",
       "}}\n",
       "\n",
       "                        })\n",
       "                };\n",
       "                });\n",
       "            </script>\n",
       "        </div>"
      ]
     },
     "metadata": {},
     "output_type": "display_data"
    }
   ],
   "source": [
    "import plotly.express as px\n",
    "df = cmDF\n",
    "# Here we use a column with categorical data\n",
    "fig = px.histogram(df, x=\"compressionRatio\",color='compressionMethod',nbins=25,marginal=\"rug\", # can be `box`, `violin`\n",
    "                         hover_data=df.columns)\n",
    "fig.show()"
   ]
  },
  {
   "cell_type": "code",
   "execution_count": null,
   "metadata": {},
   "outputs": [],
   "source": []
  },
  {
   "cell_type": "code",
   "execution_count": 5,
   "metadata": {},
   "outputs": [
    {
     "data": {
      "text/plain": [
       "count    126.000000\n",
       "mean      47.876798\n",
       "std       10.240483\n",
       "min       27.441213\n",
       "25%       40.140146\n",
       "50%       49.651066\n",
       "75%       52.374572\n",
       "max       66.071983\n",
       "Name: compressionRatio, dtype: float64"
      ]
     },
     "execution_count": 5,
     "metadata": {},
     "output_type": "execute_result"
    }
   ],
   "source": [
    "cmDF.compressionRatio.describe()"
   ]
  },
  {
   "cell_type": "code",
   "execution_count": null,
   "metadata": {},
   "outputs": [],
   "source": [
    "cmDF.executionTime"
   ]
  },
  {
   "cell_type": "code",
   "execution_count": 14,
   "metadata": {},
   "outputs": [
    {
     "data": {
      "application/vnd.plotly.v1+json": {
       "config": {
        "plotlyServerURL": "https://plot.ly"
       },
       "data": [
        {
         "alignmentgroup": "True",
         "bingroup": "x",
         "hovertemplate": "compressionMethod=lzw<br>executionTime=%{x}<br>count=%{y}<extra></extra>",
         "legendgroup": "lzw",
         "marker": {
          "color": "#636efa"
         },
         "name": "lzw",
         "nbinsx": 25,
         "offsetgroup": "lzw",
         "orientation": "v",
         "showlegend": true,
         "type": "histogram",
         "x": [
          135.89906549453735,
          116.22998976707458,
          119.89434885978699,
          1266.774257183075,
          1286.8319165706635,
          123.52627038955688,
          128.88972783088684,
          1193.9273571968079,
          1289.4169857501984,
          1288.3613696098328,
          177.7355818748474,
          185.36460089683533,
          1741.1346445083618,
          2490.7977788448334,
          488.829843044281,
          512.6782660484314,
          3891.0175154209137,
          4155.21911907196,
          394.52978110313416,
          2325.1199984550476,
          359.250296831131,
          352.34321117401123,
          2779.661639213562,
          2629.0380370616913,
          249.91202235221863,
          2549.7107393741608,
          311.8254120349884,
          320.74815368652344,
          408.48705291748047,
          464.2224962711334,
          423.34035325050354,
          3466.1396527290344,
          3894.479730606079,
          4119.786567926407,
          476.0803105831146,
          3650.1974382400513,
          438.32432436943054,
          3622.485520839691,
          3078.496503829956,
          3100.2453513145447,
          313.41111516952515,
          3791.312817811966,
          4233.785066604614,
          358.8374652862549,
          2593.189691066742,
          295.3778717517853,
          553.3601450920105,
          4067.20813536644,
          4285.834104776382,
          4680.37166929245,
          4650.57892537117,
          4380.983438014984,
          3284.824033021927,
          3085.615531682968
         ],
         "xaxis": "x",
         "yaxis": "y"
        },
        {
         "alignmentgroup": "True",
         "boxpoints": "all",
         "customdata": [
          [
           "5ee7f7e7fbd052c3f9f75082",
           "/nvmen1Scratch/origData/htan-tnp-sardana-hms-prerelease-phase-1-data/WD-76845-001.ome.tif",
           13048699267,
           135.89906549453735,
           5486731126,
           "-8 -c lzw",
           "lzw",
           42.04810773649965,
           null,
           null,
           null,
           null,
           42.04810773649965,
           96.01757907249561
          ],
          [
           "5ee7f9c645d177623c9ad7e1",
           "/nvmen1Scratch/origData/htan-tnp-sardana-hms-prerelease-phase-1-data/WD-76845-001.ome.tif",
           13048699267,
           116.22998976707458,
           5486731126,
           "-8 -c lzw",
           "lzw",
           42.04810773649965,
           "/nvmen1Scratch/origData/htan-tnp-sardana-hms-prerelease-phase-1-data/recompressed/WD-76845-001.lzw.ome.tif",
           null,
           null,
           null,
           42.04810773649965,
           112.26619991234321
          ],
          [
           "5ee7f9c96e4be911499ad7e1",
           "/nvmen1Scratch/origData/htan-tnp-sardana-hms-prerelease-phase-1-data/WD-76845-006.ome.tif",
           11834429731,
           119.89434885978699,
           5376970774,
           "-8 -c lzw",
           "lzw",
           45.434979937522094,
           "/nvmen1Scratch/origData/htan-tnp-sardana-hms-prerelease-phase-1-data/recompressed/WD-76845-006.lzw.ome.tif",
           null,
           null,
           null,
           45.434979937522094,
           98.70715211807044
          ],
          [
           "5ee7fe44a0f28ea1959ad7e1",
           "/nvmen1Scratch/origData/htan-tnp-sardana-hms-prerelease-phase-1-data/WD-76845-007.ome.tif",
           86067983704,
           1266.774257183075,
           54576117220,
           "-8 -c lzw",
           "lzw",
           63.410474919100004,
           "/nvmen1Scratch/origData/htan-tnp-sardana-hms-prerelease-phase-1-data/recompressed/WD-76845-007.lzw.ome.tif",
           null,
           null,
           null,
           63.410474919100004,
           67.94263714782879
          ],
          [
           "5ee7fe58074d7d0e5a9ad7e1",
           "/nvmen1Scratch/origData/htan-tnp-sardana-hms-prerelease-phase-1-data/WD-76845-002.ome.tif",
           94540542424,
           1286.8319165706635,
           59552482930,
           "-8 -c lzw",
           "lzw",
           62.99147582940252,
           "/nvmen1Scratch/origData/htan-tnp-sardana-hms-prerelease-phase-1-data/recompressed/WD-76845-002.lzw.ome.tif",
           null,
           null,
           null,
           62.99147582940252,
           73.46766986938384
          ],
          [
           "5ee80dc7d34f8addb8feb1e6",
           "/nvmen1Scratch/origData/htan-tnp-sardana-hms-prerelease-phase-1-data/WD-76845-006.ome.tif",
           11834429731,
           123.52627038955688,
           5302035260,
           null,
           "lzw",
           44.801780740743666,
           "/nvmen1Scratch/origData/htan-tnp-sardana-hms-prerelease-phase-1-data/recompressed/WD-76845-006.lzw.ome.tif",
           "-t -w 256 -l 256 -L",
           null,
           null,
           44.801780740743666,
           95.80496273123536
          ],
          [
           "5ee80dcc4c65fc3a1afeb1e6",
           "/nvmen1Scratch/origData/htan-tnp-sardana-hms-prerelease-phase-1-data/WD-76845-001.ome.tif",
           13048699267,
           128.88972783088684,
           5422832366,
           null,
           "lzw",
           41.55841325667055,
           "/nvmen1Scratch/origData/htan-tnp-sardana-hms-prerelease-phase-1-data/recompressed/WD-76845-001.lzw.ome.tif",
           "-t -w 256 -l 256 -L",
           null,
           null,
           41.55841325667055,
           101.239249136447
          ],
          [
           "5ee811f6f2d1b0d29ffeb1e6",
           "/nvmen1Scratch/origData/htan-tnp-sardana-hms-prerelease-phase-1-data/WD-76845-007.ome.tif",
           86067983704,
           1193.9273571968079,
           52598174256,
           null,
           "lzw",
           61.11235792033026,
           "/nvmen1Scratch/origData/htan-tnp-sardana-hms-prerelease-phase-1-data/recompressed/WD-76845-007.lzw.ome.tif",
           "-t -w 256 -l 256 -L",
           null,
           null,
           61.11235792033026,
           72.08812427757486
          ],
          [
           "5ee81255fd0d94850bfeb1e6",
           "/nvmen1Scratch/origData/htan-tnp-sardana-hms-prerelease-phase-1-data/WD-76845-002.ome.tif",
           94540542424,
           1289.4169857501984,
           56312280676,
           null,
           "lzw",
           59.564160763377004,
           "/nvmen1Scratch/origData/htan-tnp-sardana-hms-prerelease-phase-1-data/recompressed/WD-76845-002.lzw.ome.tif",
           "-t -w 256 -l 256 -L",
           null,
           null,
           59.564160763377004,
           73.32037926349727
          ],
          [
           "5ee8ed91ecf21f6181ed4920",
           "WD-76845-002.ome.tif",
           94540542424,
           1288.3613696098328,
           56312280676,
           null,
           "lzw",
           59.564160763377004,
           null,
           [
            "-8",
            "-t",
            "-w",
            "256",
            "-l",
            "256",
            "-L"
           ],
           "/nvmen1Scratch/origData/htan-tnp-sardana-hms-prerelease-phase-1-data/recompressed/WD-76845-002.lzw.ome.tif",
           {
            "compressionMethod": "lzw",
            "filename": "WD-76845-002.ome.tif",
            "fullFilePath": "/nvmen1Scratch/origData/htan-tnp-sardana-hms-prerelease-phase-1-data/WD-76845-002.ome.tif",
            "outputFile": "WD-76845-002.lzw.ome.tif",
            "tileString": [
             "-8",
             "-t",
             "-w",
             "256",
             "-l",
             "256",
             "-L"
            ]
           },
           59.564160763377004,
           73.3804541598687
          ],
          [
           "5ee914db557b784b56fd998e",
           "WD-76845-006.ome.tif",
           11834429731,
           177.7355818748474,
           5302035260,
           null,
           "lzw",
           44.801780740743666,
           null,
           [
            "-8",
            "-t",
            "-w",
            "256",
            "-l",
            "256",
            "-L"
           ],
           "/nvmen1Scratch/origData/htan-tnp-sardana-hms-prerelease-phase-1-data/recompressed/WD-76845-006.lzw.ome.tif",
           {
            "compressionMethod": "lzw",
            "filename": "WD-76845-006.ome.tif",
            "fullFilePath": "/nvmen1Scratch/origData/htan-tnp-sardana-hms-prerelease-phase-1-data/WD-76845-006.ome.tif",
            "outputFile": "WD-76845-006.lzw.ome.tif",
            "tileString": [
             "-8",
             "-t",
             "-w",
             "256",
             "-l",
             "256",
             "-L"
            ]
           },
           44.801780740743666,
           66.58447119121719
          ],
          [
           "5ee91722557b784b56fd9990",
           "WD-76845-001.ome.tif",
           13048699267,
           185.36460089683533,
           5422832366,
           null,
           "lzw",
           41.55841325667055,
           null,
           [
            "-8",
            "-t",
            "-w",
            "256",
            "-l",
            "256",
            "-L"
           ],
           "/nvmen1Scratch/origData/htan-tnp-sardana-hms-prerelease-phase-1-data/recompressed/WD-76845-001.lzw.ome.tif",
           {
            "compressionMethod": "lzw",
            "filename": "WD-76845-001.ome.tif",
            "fullFilePath": "/nvmen1Scratch/origData/htan-tnp-sardana-hms-prerelease-phase-1-data/WD-76845-001.ome.tif",
            "outputFile": "WD-76845-001.lzw.ome.tif",
            "tileString": [
             "-8",
             "-t",
             "-w",
             "256",
             "-l",
             "256",
             "-L"
            ]
           },
           41.55841325667055,
           70.39477442762792
          ],
          [
           "5ee91af708b2d1a8fefd998e",
           "WD-76845-007.ome.tif",
           86067983704,
           1741.1346445083618,
           52598174256,
           null,
           "lzw",
           61.11235792033026,
           null,
           [
            "-8",
            "-t",
            "-w",
            "256",
            "-l",
            "256",
            "-L"
           ],
           "/nvmen1Scratch/origData/htan-tnp-sardana-hms-prerelease-phase-1-data/recompressed/WD-76845-007.lzw.ome.tif",
           {
            "compressionMethod": "lzw",
            "filename": "WD-76845-007.ome.tif",
            "fullFilePath": "/nvmen1Scratch/origData/htan-tnp-sardana-hms-prerelease-phase-1-data/WD-76845-007.ome.tif",
            "outputFile": "WD-76845-007.lzw.ome.tif",
            "tileString": [
             "-8",
             "-t",
             "-w",
             "256",
             "-l",
             "256",
             "-L"
            ]
           },
           61.11235792033026,
           49.43212403214383
          ],
          [
           "5ee93dac27c36180e3eadea9",
           "WD-76845-002.ome.tif",
           94540542424,
           2490.7977788448334,
           56312280676,
           null,
           "lzw",
           59.564160763377004,
           null,
           [
            "-8",
            "-t",
            "-w",
            "256",
            "-l",
            "256",
            "-L"
           ],
           "/nvmen1Scratch/origData/htan-tnp-sardana-hms-prerelease-phase-1-data/recompressed/WD-76845-002.lzw.ome.tif",
           {
            "compressionMethod": "lzw",
            "filename": "WD-76845-002.ome.tif",
            "fullFilePath": "/s3FuseMounts/dgutman-htan-s3-synapse/htan-tnp-sardana-hms-prerelease-phase-1-data/WD-76845-002.ome.tif",
            "outputFile": "WD-76845-002.lzw.ome.tif",
            "tileString": [
             "-8",
             "-t",
             "-w",
             "256",
             "-l",
             "256",
             "-L"
            ]
           },
           59.564160763377004,
           37.95592850891549
          ],
          [
           "5ee957df1a4aa37fe2038555",
           "WD-76845-085.ome.tif",
           11384583763,
           488.829843044281,
           5686143918,
           null,
           "lzw",
           49.94599746790936,
           null,
           [
            "-8",
            "-t",
            "-w",
            "256",
            "-l",
            "256",
            "-L"
           ],
           "/nvmen1Scratch/origData/htan-tnp-sardana-hms-prerelease-phase-1-data/recompressed/WD-76845-085.lzw.ome.tif",
           {
            "compressionMethod": "lzw",
            "filename": "WD-76845-085.ome.tif",
            "fullFilePath": "/s3FuseMounts/dgutman-htan-s3-synapse/htan-tnp-sardana-hms-prerelease-phase-1-data/WD-76845-085.ome.tif",
            "outputFile": "WD-76845-085.lzw.ome.tif",
            "tileString": [
             "-8",
             "-t",
             "-w",
             "256",
             "-l",
             "256",
             "-L"
            ]
           },
           49.94599746790936,
           23.289461404607245
          ],
          [
           "5ee95ec31a4aa37fe2038558",
           "WD-76845-043.ome.tif",
           11834429731,
           512.6782660484314,
           5686601270,
           null,
           "lzw",
           48.051333264534804,
           null,
           [
            "-8",
            "-t",
            "-w",
            "256",
            "-l",
            "256",
            "-L"
           ],
           "/nvmen1Scratch/origData/htan-tnp-sardana-hms-prerelease-phase-1-data/recompressed/WD-76845-043.lzw.ome.tif",
           {
            "compressionMethod": "lzw",
            "filename": "WD-76845-043.ome.tif",
            "fullFilePath": "/s3FuseMounts/dgutman-htan-s3-synapse/htan-tnp-sardana-hms-prerelease-phase-1-data/WD-76845-043.ome.tif",
            "outputFile": "WD-76845-043.lzw.ome.tif",
            "tileString": [
             "-8",
             "-t",
             "-w",
             "256",
             "-l",
             "256",
             "-L"
            ]
           },
           48.051333264534804,
           23.083540915857807
          ],
          [
           "5ee96213c8c1e225d3038554",
           "WD-76845-044.ome.tif",
           82209194584,
           3891.0175154209137,
           50697741492,
           null,
           "lzw",
           61.66918645602091,
           null,
           [
            "-8",
            "-t",
            "-w",
            "256",
            "-l",
            "256",
            "-L"
           ],
           "/nvmen1Scratch/origData/htan-tnp-sardana-hms-prerelease-phase-1-data/recompressed/WD-76845-044.lzw.ome.tif",
           {
            "compressionMethod": "lzw",
            "filename": "WD-76845-044.ome.tif",
            "fullFilePath": "/s3FuseMounts/dgutman-htan-s3-synapse/htan-tnp-sardana-hms-prerelease-phase-1-data/WD-76845-044.ome.tif",
            "outputFile": "WD-76845-044.lzw.ome.tif",
            "tileString": [
             "-8",
             "-t",
             "-w",
             "256",
             "-l",
             "256",
             "-L"
            ]
           },
           61.66918645602091,
           21.127942564685927
          ],
          [
           "5ee9631b1e0218235a038554",
           "WD-76845-007.ome.tif",
           86067983704,
           4155.21911907196,
           52598174256,
           null,
           "lzw",
           61.11235792033026,
           null,
           [
            "-8",
            "-t",
            "-w",
            "256",
            "-l",
            "256",
            "-L"
           ],
           "/nvmen1Scratch/origData/htan-tnp-sardana-hms-prerelease-phase-1-data/recompressed/WD-76845-007.lzw.ome.tif",
           {
            "compressionMethod": "lzw",
            "filename": "WD-76845-007.ome.tif",
            "fullFilePath": "/s3FuseMounts/dgutman-htan-s3-synapse/htan-tnp-sardana-hms-prerelease-phase-1-data/WD-76845-007.ome.tif",
            "outputFile": "WD-76845-007.lzw.ome.tif",
            "tileString": [
             "-8",
             "-t",
             "-w",
             "256",
             "-l",
             "256",
             "-L"
            ]
           },
           61.11235792033026,
           20.713223836730588
          ],
          [
           "5ee9639ec8c1e225d3038555",
           "WD-76845-024.ome.tif",
           11834429731,
           394.52978110313416,
           5777755388,
           null,
           "lzw",
           48.821578388904626,
           null,
           [
            "-8",
            "-t",
            "-w",
            "256",
            "-l",
            "256",
            "-L"
           ],
           "/nvmen1Scratch/origData/htan-tnp-sardana-hms-prerelease-phase-1-data/recompressed/WD-76845-024.lzw.ome.tif",
           {
            "compressionMethod": "lzw",
            "filename": "WD-76845-024.ome.tif",
            "fullFilePath": "/s3FuseMounts/dgutman-htan-s3-synapse/htan-tnp-sardana-hms-prerelease-phase-1-data/WD-76845-024.ome.tif",
            "outputFile": "WD-76845-024.lzw.ome.tif",
            "tileString": [
             "-8",
             "-t",
             "-w",
             "256",
             "-l",
             "256",
             "-L"
            ]
           },
           48.821578388904626,
           29.99629000860231
          ],
          [
           "5ee978f607c5a13130038555",
           "WD-76845-102.ome.tif",
           77763198424,
           2325.1199984550476,
           48963355754,
           null,
           "lzw",
           62.964688626912846,
           null,
           [
            "-8",
            "-t",
            "-w",
            "256",
            "-l",
            "256",
            "-L"
           ],
           "/nvmen1Scratch/origData/htan-tnp-sardana-hms-prerelease-phase-1-data/recompressed/WD-76845-102.lzw.ome.tif",
           {
            "compressionMethod": "lzw",
            "filename": "WD-76845-102.ome.tif",
            "fullFilePath": "/s3FuseMounts/dgutman-htan-s3-synapse/htan-tnp-sardana-hms-prerelease-phase-1-data/WD-76845-102.ome.tif",
            "outputFile": "WD-76845-102.lzw.ome.tif",
            "tileString": [
             "-8",
             "-t",
             "-w",
             "256",
             "-l",
             "256",
             "-L"
            ]
           },
           62.964688626912846,
           33.4448107950001
          ],
          [
           "5ee97a5e07c5a13130038556",
           "WD-76845-101.ome.tif",
           11221003432,
           359.250296831131,
           5348158264,
           null,
           "lzw",
           47.66203215612741,
           null,
           [
            "-8",
            "-t",
            "-w",
            "256",
            "-l",
            "256",
            "-L"
           ],
           "/nvmen1Scratch/origData/htan-tnp-sardana-hms-prerelease-phase-1-data/recompressed/WD-76845-101.lzw.ome.tif",
           {
            "compressionMethod": "lzw",
            "filename": "WD-76845-101.ome.tif",
            "fullFilePath": "/s3FuseMounts/dgutman-htan-s3-synapse/htan-tnp-sardana-hms-prerelease-phase-1-data/WD-76845-101.ome.tif",
            "outputFile": "WD-76845-101.lzw.ome.tif",
            "tileString": [
             "-8",
             "-t",
             "-w",
             "256",
             "-l",
             "256",
             "-L"
            ]
           },
           47.66203215612741,
           31.234500099173303
          ],
          [
           "5ee97bbe07c5a13130038557",
           "WD-76845-028.ome.tif",
           10812052531,
           352.34321117401123,
           5674659060,
           null,
           "lzw",
           52.48456797384016,
           null,
           [
            "-8",
            "-t",
            "-w",
            "256",
            "-l",
            "256",
            "-L"
           ],
           "/nvmen1Scratch/origData/htan-tnp-sardana-hms-prerelease-phase-1-data/recompressed/WD-76845-028.lzw.ome.tif",
           {
            "compressionMethod": "lzw",
            "filename": "WD-76845-028.ome.tif",
            "fullFilePath": "/s3FuseMounts/dgutman-htan-s3-synapse/htan-tnp-sardana-hms-prerelease-phase-1-data/WD-76845-028.ome.tif",
            "outputFile": "WD-76845-028.lzw.ome.tif",
            "tileString": [
             "-8",
             "-t",
             "-w",
             "256",
             "-l",
             "256",
             "-L"
            ]
           },
           52.48456797384016,
           30.686138367684535
          ],
          [
           "5ee97e7429adeff7e7038555",
           "WD-76845-025.ome.tif",
           89758999384,
           2779.661639213562,
           54184674784,
           null,
           "lzw",
           60.36684360995528,
           null,
           [
            "-8",
            "-t",
            "-w",
            "256",
            "-l",
            "256",
            "-L"
           ],
           "/nvmen1Scratch/origData/htan-tnp-sardana-hms-prerelease-phase-1-data/recompressed/WD-76845-025.lzw.ome.tif",
           {
            "compressionMethod": "lzw",
            "filename": "WD-76845-025.ome.tif",
            "fullFilePath": "/s3FuseMounts/dgutman-htan-s3-synapse/htan-tnp-sardana-hms-prerelease-phase-1-data/WD-76845-025.ome.tif",
            "outputFile": "WD-76845-025.lzw.ome.tif",
            "tileString": [
             "-8",
             "-t",
             "-w",
             "256",
             "-l",
             "256",
             "-L"
            ]
           },
           60.36684360995528,
           32.29134011051616
          ],
          [
           "5ee97f9b492ea78385038556",
           "WD-76845-054.ome.tif",
           80028139864,
           2629.0380370616913,
           49675822764,
           null,
           "lzw",
           62.072944402330485,
           null,
           [
            "-8",
            "-t",
            "-w",
            "256",
            "-l",
            "256",
            "-L"
           ],
           "/nvmen1Scratch/origData/htan-tnp-sardana-hms-prerelease-phase-1-data/recompressed/WD-76845-054.lzw.ome.tif",
           {
            "compressionMethod": "lzw",
            "filename": "WD-76845-054.ome.tif",
            "fullFilePath": "/s3FuseMounts/dgutman-htan-s3-synapse/htan-tnp-sardana-hms-prerelease-phase-1-data/WD-76845-054.ome.tif",
            "outputFile": "WD-76845-054.lzw.ome.tif",
            "tileString": [
             "-8",
             "-t",
             "-w",
             "256",
             "-l",
             "256",
             "-L"
            ]
           },
           62.072944402330485,
           30.440084447558
          ],
          [
           "5ee9815d29adeff7e7038557",
           "WD-76845-077.ome.tif",
           11221003411,
           249.91202235221863,
           5333104608,
           null,
           "lzw",
           47.52787618593836,
           null,
           [
            "-8",
            "-t",
            "-w",
            "256",
            "-l",
            "256",
            "-L"
           ],
           "/nvmen1Scratch/origData/htan-tnp-sardana-hms-prerelease-phase-1-data/recompressed/WD-76845-077.lzw.ome.tif",
           {
            "compressionMethod": "lzw",
            "filename": "WD-76845-077.ome.tif",
            "fullFilePath": "/s3FuseMounts/dgutman-htan-s3-synapse/htan-tnp-sardana-hms-prerelease-phase-1-data/WD-76845-077.ome.tif",
            "outputFile": "WD-76845-077.lzw.ome.tif",
            "tileString": [
             "-8",
             "-t",
             "-w",
             "256",
             "-l",
             "256",
             "-L"
            ]
           },
           47.52787618593836,
           44.899814364214336
          ],
          [
           "5ee982359d5df40196038557",
           "WD-76845-034.ome.tif",
           88249038424,
           2549.7107393741608,
           55935291888,
           null,
           "lzw",
           63.38345764092538,
           null,
           [
            "-8",
            "-t",
            "-w",
            "256",
            "-l",
            "256",
            "-L"
           ],
           "/nvmen1Scratch/origData/htan-tnp-sardana-hms-prerelease-phase-1-data/recompressed/WD-76845-034.lzw.ome.tif",
           {
            "compressionMethod": "lzw",
            "filename": "WD-76845-034.ome.tif",
            "fullFilePath": "/s3FuseMounts/dgutman-htan-s3-synapse/htan-tnp-sardana-hms-prerelease-phase-1-data/WD-76845-034.ome.tif",
            "outputFile": "WD-76845-034.lzw.ome.tif",
            "tileString": [
             "-8",
             "-t",
             "-w",
             "256",
             "-l",
             "256",
             "-L"
            ]
           },
           63.38345764092538,
           34.61139221057726
          ],
          [
           "5eea004a049ce574635fe9a3",
           "WD-76845-090.ome.tif",
           10657909507,
           311.8254120349884,
           5365610240,
           null,
           "lzw",
           50.34392754485225,
           null,
           [
            "-8",
            "-t",
            "-w",
            "256",
            "-l",
            "256",
            "-L"
           ],
           "/nvmen1Scratch/origData/htan-tnp-sardana-hms-prerelease-phase-1-data/recompressed/WD-76845-090.lzw.ome.tif",
           {
            "compressionMethod": "lzw",
            "filename": "WD-76845-090.ome.tif",
            "fullFilePath": "/s3FuseMounts/dgutman-htan-s3-synapse/htan-tnp-sardana-hms-prerelease-phase-1-data/WD-76845-090.ome.tif",
            "outputFile": "WD-76845-090.lzw.ome.tif",
            "tileString": [
             "-8",
             "-t",
             "-w",
             "256",
             "-l",
             "256",
             "-L"
            ]
           },
           50.34392754485225,
           34.17909219600143
          ],
          [
           "5eea0053bb2b0550615fe9a3",
           "WD-76845-096.ome.tif",
           11384583763,
           320.74815368652344,
           5571920518,
           null,
           "lzw",
           48.94268103247474,
           null,
           [
            "-8",
            "-t",
            "-w",
            "256",
            "-l",
            "256",
            "-L"
           ],
           "/nvmen1Scratch/origData/htan-tnp-sardana-hms-prerelease-phase-1-data/recompressed/WD-76845-096.lzw.ome.tif",
           {
            "compressionMethod": "lzw",
            "filename": "WD-76845-096.ome.tif",
            "fullFilePath": "/s3FuseMounts/dgutman-htan-s3-synapse/htan-tnp-sardana-hms-prerelease-phase-1-data/WD-76845-096.ome.tif",
            "outputFile": "WD-76845-096.lzw.ome.tif",
            "tileString": [
             "-8",
             "-t",
             "-w",
             "256",
             "-l",
             "256",
             "-L"
            ]
           },
           48.94268103247474,
           35.493840360891014
          ],
          [
           "5eea00abc617b77de35fe9a3",
           "WD-76845-019.ome.tif",
           13674708691,
           408.48705291748047,
           5832979060,
           null,
           "lzw",
           42.65523450484156,
           null,
           [
            "-8",
            "-t",
            "-w",
            "256",
            "-l",
            "256",
            "-L"
           ],
           "/nvmen1Scratch/origData/htan-tnp-sardana-hms-prerelease-phase-1-data/recompressed/WD-76845-019.lzw.ome.tif",
           {
            "compressionMethod": "lzw",
            "filename": "WD-76845-019.ome.tif",
            "fullFilePath": "/s3FuseMounts/dgutman-htan-s3-synapse/htan-tnp-sardana-hms-prerelease-phase-1-data/WD-76845-019.ome.tif",
            "outputFile": "WD-76845-019.lzw.ome.tif",
            "tileString": [
             "-8",
             "-t",
             "-w",
             "256",
             "-l",
             "256",
             "-L"
            ]
           },
           42.65523450484156,
           33.47648008261957
          ],
          [
           "5eea02cb692e2980bb5fe9a4",
           "WD-76845-033.ome.tif",
           12715247011,
           464.2224962711334,
           5812605246,
           null,
           "lzw",
           45.71366361165848,
           null,
           [
            "-8",
            "-t",
            "-w",
            "256",
            "-l",
            "256",
            "-L"
           ],
           "/nvmen1Scratch/origData/htan-tnp-sardana-hms-prerelease-phase-1-data/recompressed/WD-76845-033.lzw.ome.tif",
           {
            "compressionMethod": "lzw",
            "filename": "WD-76845-033.ome.tif",
            "fullFilePath": "/s3FuseMounts/dgutman-htan-s3-synapse/htan-tnp-sardana-hms-prerelease-phase-1-data/WD-76845-033.ome.tif",
            "outputFile": "WD-76845-033.lzw.ome.tif",
            "tileString": [
             "-8",
             "-t",
             "-w",
             "256",
             "-l",
             "256",
             "-L"
            ]
           },
           45.71366361165848,
           27.390415400234165
          ],
          [
           "5eea04cab5f447f61e5fe9a5",
           "WD-76845-105.ome.tif",
           10327603048,
           423.34035325050354,
           5311804302,
           null,
           "lzw",
           51.433079653740776,
           null,
           [
            "-8",
            "-t",
            "-w",
            "256",
            "-l",
            "256",
            "-L"
           ],
           "/nvmen1Scratch/origData/htan-tnp-sardana-hms-prerelease-phase-1-data/recompressed/WD-76845-105.lzw.ome.tif",
           {
            "compressionMethod": "lzw",
            "filename": "WD-76845-105.ome.tif",
            "fullFilePath": "/s3FuseMounts/dgutman-htan-s3-synapse/htan-tnp-sardana-hms-prerelease-phase-1-data/WD-76845-105.ome.tif",
            "outputFile": "WD-76845-105.lzw.ome.tif",
            "tileString": [
             "-8",
             "-t",
             "-w",
             "256",
             "-l",
             "256",
             "-L"
            ]
           },
           51.433079653740776,
           24.395508173747942
          ],
          [
           "5eea0dddbb2b0550615fe9a4",
           "WD-76845-106.ome.tif",
           74575503064,
           3466.1396527290344,
           46764250068,
           null,
           "lzw",
           62.70725391938336,
           null,
           [
            "-8",
            "-t",
            "-w",
            "256",
            "-l",
            "256",
            "-L"
           ],
           "/nvmen1Scratch/origData/htan-tnp-sardana-hms-prerelease-phase-1-data/recompressed/WD-76845-106.lzw.ome.tif",
           {
            "compressionMethod": "lzw",
            "filename": "WD-76845-106.ome.tif",
            "fullFilePath": "/s3FuseMounts/dgutman-htan-s3-synapse/htan-tnp-sardana-hms-prerelease-phase-1-data/WD-76845-106.ome.tif",
            "outputFile": "WD-76845-106.lzw.ome.tif",
            "tileString": [
             "-8",
             "-t",
             "-w",
             "256",
             "-l",
             "256",
             "-L"
            ]
           },
           62.70725391938336,
           21.515435191794317
          ],
          [
           "5eea0e497a359007b45fe9a3",
           "WD-76845-052.ome.tif",
           86067983704,
           3894.479730606079,
           53945618642,
           null,
           "lzw",
           62.677916131423075,
           null,
           [
            "-8",
            "-t",
            "-w",
            "256",
            "-l",
            "256",
            "-L"
           ],
           "/nvmen1Scratch/origData/htan-tnp-sardana-hms-prerelease-phase-1-data/recompressed/WD-76845-052.lzw.ome.tif",
           {
            "compressionMethod": "lzw",
            "filename": "WD-76845-052.ome.tif",
            "fullFilePath": "/s3FuseMounts/dgutman-htan-s3-synapse/htan-tnp-sardana-hms-prerelease-phase-1-data/WD-76845-052.ome.tif",
            "outputFile": "WD-76845-052.lzw.ome.tif",
            "tileString": [
             "-8",
             "-t",
             "-w",
             "256",
             "-l",
             "256",
             "-L"
            ]
           },
           62.677916131423075,
           22.099995290155395
          ],
          [
           "5eea0f2a5b022b5ffc5fe9a3",
           "WD-76845-020.ome.tif",
           89758999384,
           4119.786567926407,
           53491961522,
           null,
           "lzw",
           59.59509563286778,
           null,
           [
            "-8",
            "-t",
            "-w",
            "256",
            "-l",
            "256",
            "-L"
           ],
           "/nvmen1Scratch/origData/htan-tnp-sardana-hms-prerelease-phase-1-data/recompressed/WD-76845-020.lzw.ome.tif",
           {
            "compressionMethod": "lzw",
            "filename": "WD-76845-020.ome.tif",
            "fullFilePath": "/s3FuseMounts/dgutman-htan-s3-synapse/htan-tnp-sardana-hms-prerelease-phase-1-data/WD-76845-020.ome.tif",
            "outputFile": "WD-76845-020.lzw.ome.tif",
            "tileString": [
             "-8",
             "-t",
             "-w",
             "256",
             "-l",
             "256",
             "-L"
            ]
           },
           59.59509563286778,
           21.78729356583586
          ],
          [
           "5eea10257a359007b45fe9a4",
           "WD-76845-013.ome.tif",
           12727830115,
           476.0803105831146,
           5609578870,
           null,
           "lzw",
           44.07333236942721,
           null,
           [
            "-8",
            "-t",
            "-w",
            "256",
            "-l",
            "256",
            "-L"
           ],
           "/nvmen1Scratch/origData/htan-tnp-sardana-hms-prerelease-phase-1-data/recompressed/WD-76845-013.lzw.ome.tif",
           {
            "compressionMethod": "lzw",
            "filename": "WD-76845-013.ome.tif",
            "fullFilePath": "/s3FuseMounts/dgutman-htan-s3-synapse/htan-tnp-sardana-hms-prerelease-phase-1-data/WD-76845-013.ome.tif",
            "outputFile": "WD-76845-013.lzw.ome.tif",
            "tileString": [
             "-8",
             "-t",
             "-w",
             "256",
             "-l",
             "256",
             "-L"
            ]
           },
           44.07333236942721,
           26.734628238270655
          ],
          [
           "5eea110d692e2980bb5fe9a5",
           "WD-76845-097.ome.tif",
           80028139864,
           3650.1974382400513,
           50471785068,
           null,
           "lzw",
           63.067547432405476,
           null,
           [
            "-8",
            "-t",
            "-w",
            "256",
            "-l",
            "256",
            "-L"
           ],
           "/nvmen1Scratch/origData/htan-tnp-sardana-hms-prerelease-phase-1-data/recompressed/WD-76845-097.lzw.ome.tif",
           {
            "compressionMethod": "lzw",
            "filename": "WD-76845-097.ome.tif",
            "fullFilePath": "/s3FuseMounts/dgutman-htan-s3-synapse/htan-tnp-sardana-hms-prerelease-phase-1-data/WD-76845-097.ome.tif",
            "outputFile": "WD-76845-097.lzw.ome.tif",
            "tileString": [
             "-8",
             "-t",
             "-w",
             "256",
             "-l",
             "256",
             "-L"
            ]
           },
           63.067547432405476,
           21.924331825345234
          ],
          [
           "5eea12c4692e2980bb5fe9a6",
           "WD-76845-083.ome.tif",
           10270979059,
           438.32432436943054,
           5444116346,
           null,
           "lzw",
           53.00484320654479,
           null,
           [
            "-8",
            "-t",
            "-w",
            "256",
            "-l",
            "256",
            "-L"
           ],
           "/nvmen1Scratch/origData/htan-tnp-sardana-hms-prerelease-phase-1-data/recompressed/WD-76845-083.lzw.ome.tif",
           {
            "compressionMethod": "lzw",
            "filename": "WD-76845-083.ome.tif",
            "fullFilePath": "/s3FuseMounts/dgutman-htan-s3-synapse/htan-tnp-sardana-hms-prerelease-phase-1-data/WD-76845-083.ome.tif",
            "outputFile": "WD-76845-083.lzw.ome.tif",
            "tileString": [
             "-8",
             "-t",
             "-w",
             "256",
             "-l",
             "256",
             "-L"
            ]
           },
           53.00484320654479,
           23.432372989511222
          ],
          [
           "5eea1c04bb2b0550615fe9a5",
           "WD-76845-059.ome.tif",
           86067983704,
           3622.485520839691,
           52800859840,
           null,
           "lzw",
           61.34785267142965,
           null,
           [
            "-8",
            "-t",
            "-w",
            "256",
            "-l",
            "256",
            "-L"
           ],
           "/nvmen1Scratch/origData/htan-tnp-sardana-hms-prerelease-phase-1-data/recompressed/WD-76845-059.lzw.ome.tif",
           {
            "compressionMethod": "lzw",
            "filename": "WD-76845-059.ome.tif",
            "fullFilePath": "/s3FuseMounts/dgutman-htan-s3-synapse/htan-tnp-sardana-hms-prerelease-phase-1-data/WD-76845-059.ome.tif",
            "outputFile": "WD-76845-059.lzw.ome.tif",
            "tileString": [
             "-8",
             "-t",
             "-w",
             "256",
             "-l",
             "256",
             "-L"
            ]
           },
           61.34785267142965,
           23.759372731474567
          ],
          [
           "5eea1c2b7a359007b45fe9a5",
           "WD-76845-078.ome.tif",
           74575503064,
           3078.496503829956,
           47141997292,
           null,
           "lzw",
           63.213783823279314,
           null,
           [
            "-8",
            "-t",
            "-w",
            "256",
            "-l",
            "256",
            "-L"
           ],
           "/nvmen1Scratch/origData/htan-tnp-sardana-hms-prerelease-phase-1-data/recompressed/WD-76845-078.lzw.ome.tif",
           {
            "compressionMethod": "lzw",
            "filename": "WD-76845-078.ome.tif",
            "fullFilePath": "/s3FuseMounts/dgutman-htan-s3-synapse/htan-tnp-sardana-hms-prerelease-phase-1-data/WD-76845-078.ome.tif",
            "outputFile": "WD-76845-078.lzw.ome.tif",
            "tileString": [
             "-8",
             "-t",
             "-w",
             "256",
             "-l",
             "256",
             "-L"
            ]
           },
           63.213783823279314,
           24.224650887607197
          ],
          [
           "5eea1ee0692e2980bb5fe9a7",
           "WD-76845-091.ome.tif",
           77763198424,
           3100.2453513145447,
           46941291880,
           null,
           "lzw",
           60.36440479731161,
           null,
           [
            "-8",
            "-t",
            "-w",
            "256",
            "-l",
            "256",
            "-L"
           ],
           "/nvmen1Scratch/origData/htan-tnp-sardana-hms-prerelease-phase-1-data/recompressed/WD-76845-091.lzw.ome.tif",
           {
            "compressionMethod": "lzw",
            "filename": "WD-76845-091.ome.tif",
            "fullFilePath": "/s3FuseMounts/dgutman-htan-s3-synapse/htan-tnp-sardana-hms-prerelease-phase-1-data/WD-76845-091.ome.tif",
            "outputFile": "WD-76845-091.lzw.ome.tif",
            "tileString": [
             "-8",
             "-t",
             "-w",
             "256",
             "-l",
             "256",
             "-L"
            ]
           },
           60.36440479731161,
           25.08291751523065
          ],
          [
           "5eea2019692e2980bb5fe9a8",
           "WD-76845-058.ome.tif",
           11239878067,
           313.41111516952515,
           5589055960,
           null,
           "lzw",
           49.72523657893877,
           null,
           [
            "-8",
            "-t",
            "-w",
            "256",
            "-l",
            "256",
            "-L"
           ],
           "/nvmen1Scratch/origData/htan-tnp-sardana-hms-prerelease-phase-1-data/recompressed/WD-76845-058.lzw.ome.tif",
           {
            "compressionMethod": "lzw",
            "filename": "WD-76845-058.ome.tif",
            "fullFilePath": "/s3FuseMounts/dgutman-htan-s3-synapse/htan-tnp-sardana-hms-prerelease-phase-1-data/WD-76845-058.ome.tif",
            "outputFile": "WD-76845-058.lzw.ome.tif",
            "tileString": [
             "-8",
             "-t",
             "-w",
             "256",
             "-l",
             "256",
             "-L"
            ]
           },
           49.72523657893877,
           35.86304863795374
          ],
          [
           "5eea2ee9692e2980bb5fe9a9",
           "WD-76845-014.ome.tif",
           77763198424,
           3791.312817811966,
           47016796710,
           null,
           "lzw",
           60.461500636384876,
           null,
           [
            "-8",
            "-t",
            "-w",
            "256",
            "-l",
            "256",
            "-L"
           ],
           "/nvmen1Scratch/origData/htan-tnp-sardana-hms-prerelease-phase-1-data/recompressed/WD-76845-014.lzw.ome.tif",
           {
            "compressionMethod": "lzw",
            "filename": "WD-76845-014.ome.tif",
            "fullFilePath": "/s3FuseMounts/dgutman-htan-s3-synapse/htan-tnp-sardana-hms-prerelease-phase-1-data/WD-76845-014.ome.tif",
            "outputFile": "WD-76845-014.lzw.ome.tif",
            "tileString": [
             "-8",
             "-t",
             "-w",
             "256",
             "-l",
             "256",
             "-L"
            ]
           },
           60.461500636384876,
           20.51088954165447
          ],
          [
           "5eea3033049ce574635fe9a8",
           "WD-76845-039.ome.tif",
           86067983704,
           4233.785066604614,
           53440585756,
           null,
           "lzw",
           62.09113244686869,
           null,
           [
            "-8",
            "-t",
            "-w",
            "256",
            "-l",
            "256",
            "-L"
           ],
           "/nvmen1Scratch/origData/htan-tnp-sardana-hms-prerelease-phase-1-data/recompressed/WD-76845-039.lzw.ome.tif",
           {
            "compressionMethod": "lzw",
            "filename": "WD-76845-039.ome.tif",
            "fullFilePath": "/s3FuseMounts/dgutman-htan-s3-synapse/htan-tnp-sardana-hms-prerelease-phase-1-data/WD-76845-039.ome.tif",
            "outputFile": "WD-76845-039.lzw.ome.tif",
            "tileString": [
             "-8",
             "-t",
             "-w",
             "256",
             "-l",
             "256",
             "-L"
            ]
           },
           62.09113244686869,
           20.328850508470495
          ],
          [
           "5eea335b692e2980bb5fe9ab",
           "WD-76845-006.ome.tif",
           11834429731,
           358.8374652862549,
           5302035260,
           null,
           "lzw",
           44.801780740743666,
           null,
           [
            "-8",
            "-t",
            "-w",
            "256",
            "-l",
            "256",
            "-L"
           ],
           "/nvmen1Scratch/origData/htan-tnp-sardana-hms-prerelease-phase-1-data/recompressed/WD-76845-006.lzw.ome.tif",
           {
            "compressionMethod": "lzw",
            "filename": "WD-76845-006.ome.tif",
            "fullFilePath": "/s3FuseMounts/dgutman-htan-s3-synapse/htan-tnp-sardana-hms-prerelease-phase-1-data/WD-76845-006.ome.tif",
            "outputFile": "WD-76845-006.lzw.ome.tif",
            "tileString": [
             "-8",
             "-t",
             "-w",
             "256",
             "-l",
             "256",
             "-L"
            ]
           },
           44.801780740743666,
           32.979916747431425
          ],
          [
           "5eea3a55049ce574635fe9a9",
           "WD-76845-074.ome.tif",
           74575503064,
           2593.189691066742,
           47537861266,
           null,
           "lzw",
           63.744606892163304,
           null,
           [
            "-8",
            "-t",
            "-w",
            "256",
            "-l",
            "256",
            "-L"
           ],
           "/nvmen1Scratch/origData/htan-tnp-sardana-hms-prerelease-phase-1-data/recompressed/WD-76845-074.lzw.ome.tif",
           {
            "compressionMethod": "lzw",
            "filename": "WD-76845-074.ome.tif",
            "fullFilePath": "/s3FuseMounts/dgutman-htan-s3-synapse/htan-tnp-sardana-hms-prerelease-phase-1-data/WD-76845-074.ome.tif",
            "outputFile": "WD-76845-074.lzw.ome.tif",
            "tileString": [
             "-8",
             "-t",
             "-w",
             "256",
             "-l",
             "256",
             "-L"
            ]
           },
           63.744606892163304,
           28.758213608863457
          ],
          [
           "5eea3c11a6ab30e49fe00725",
           "WD-76845-063.ome.tif",
           11239878067,
           295.3778717517853,
           5677872514,
           null,
           "lzw",
           50.515428015808205,
           null,
           [
            "-8",
            "-t",
            "-w",
            "256",
            "-l",
            "256",
            "-L"
           ],
           "/nvmen1Scratch/origData/htan-tnp-sardana-hms-prerelease-phase-1-data/recompressed/WD-76845-063.lzw.ome.tif",
           {
            "compressionMethod": "lzw",
            "filename": "WD-76845-063.ome.tif",
            "fullFilePath": "/s3FuseMounts/dgutman-htan-s3-synapse/htan-tnp-sardana-hms-prerelease-phase-1-data/WD-76845-063.ome.tif",
            "outputFile": "WD-76845-063.lzw.ome.tif",
            "tileString": [
             "-8",
             "-t",
             "-w",
             "256",
             "-l",
             "256",
             "-L"
            ]
           },
           50.515428015808205,
           38.05253927906015
          ],
          [
           "5eea3e6928bc84a252e00726",
           "WD-76845-053.ome.tif",
           11239878067,
           553.3601450920105,
           5719560776,
           null,
           "lzw",
           50.88632405001338,
           null,
           [
            "-8",
            "-t",
            "-w",
            "256",
            "-l",
            "256",
            "-L"
           ],
           "/nvmen1Scratch/origData/htan-tnp-sardana-hms-prerelease-phase-1-data/recompressed/WD-76845-053.lzw.ome.tif",
           {
            "compressionMethod": "lzw",
            "filename": "WD-76845-053.ome.tif",
            "fullFilePath": "/s3FuseMounts/dgutman-htan-s3-synapse/htan-tnp-sardana-hms-prerelease-phase-1-data/WD-76845-053.ome.tif",
            "outputFile": "WD-76845-053.lzw.ome.tif",
            "tileString": [
             "-8",
             "-t",
             "-w",
             "256",
             "-l",
             "256",
             "-L"
            ]
           },
           50.88632405001338,
           20.31204843119137
          ],
          [
           "5eea4acd87f2d71db8e00725",
           "WD-76845-084.ome.tif",
           74575503064,
           4067.20813536644,
           47424991864,
           null,
           "lzw",
           63.59325772606631,
           null,
           [
            "-8",
            "-t",
            "-w",
            "256",
            "-l",
            "256",
            "-L"
           ],
           "/nvmen1Scratch/origData/htan-tnp-sardana-hms-prerelease-phase-1-data/recompressed/WD-76845-084.lzw.ome.tif",
           {
            "compressionMethod": "lzw",
            "filename": "WD-76845-084.ome.tif",
            "fullFilePath": "/s3FuseMounts/dgutman-htan-s3-synapse/htan-tnp-sardana-hms-prerelease-phase-1-data/WD-76845-084.ome.tif",
            "outputFile": "WD-76845-084.lzw.ome.tif",
            "tileString": [
             "-8",
             "-t",
             "-w",
             "256",
             "-l",
             "256",
             "-L"
            ]
           },
           63.59325772606631,
           18.335797082900218
          ],
          [
           "5eea4ba8f57863fbe4e00725",
           "WD-76845-064.ome.tif",
           79860366424,
           4285.834104776382,
           50454259642,
           null,
           "lzw",
           63.17809684734586,
           null,
           [
            "-8",
            "-t",
            "-w",
            "256",
            "-l",
            "256",
            "-L"
           ],
           "/nvmen1Scratch/origData/htan-tnp-sardana-hms-prerelease-phase-1-data/recompressed/WD-76845-064.lzw.ome.tif",
           {
            "compressionMethod": "lzw",
            "filename": "WD-76845-064.ome.tif",
            "fullFilePath": "/s3FuseMounts/dgutman-htan-s3-synapse/htan-tnp-sardana-hms-prerelease-phase-1-data/WD-76845-064.ome.tif",
            "outputFile": "WD-76845-064.lzw.ome.tif",
            "tileString": [
             "-8",
             "-t",
             "-w",
             "256",
             "-l",
             "256",
             "-L"
            ]
           },
           63.17809684734586,
           18.63356454581361
          ],
          [
           "5eea4d328d45a18a18e00725",
           "WD-76845-050.ome.tif",
           86067983704,
           4680.37166929245,
           53187594226,
           null,
           "lzw",
           61.79718861420024,
           null,
           [
            "-8",
            "-t",
            "-w",
            "256",
            "-l",
            "256",
            "-L"
           ],
           "/nvmen1Scratch/origData/htan-tnp-sardana-hms-prerelease-phase-1-data/recompressed/WD-76845-050.lzw.ome.tif",
           {
            "compressionMethod": "lzw",
            "filename": "WD-76845-050.ome.tif",
            "fullFilePath": "/s3FuseMounts/dgutman-htan-s3-synapse/htan-tnp-sardana-hms-prerelease-phase-1-data/WD-76845-050.ome.tif",
            "outputFile": "WD-76845-050.lzw.ome.tif",
            "tileString": [
             "-8",
             "-t",
             "-w",
             "256",
             "-l",
             "256",
             "-L"
            ]
           },
           61.79718861420024,
           18.38913440756965
          ],
          [
           "5eea4e3ca6ab30e49fe00726",
           "WD-76845-049.ome.tif",
           82209194584,
           4650.57892537117,
           51724195508,
           null,
           "lzw",
           62.9177743070443,
           null,
           [
            "-8",
            "-t",
            "-w",
            "256",
            "-l",
            "256",
            "-L"
           ],
           "/nvmen1Scratch/origData/htan-tnp-sardana-hms-prerelease-phase-1-data/recompressed/WD-76845-049.lzw.ome.tif",
           {
            "compressionMethod": "lzw",
            "filename": "WD-76845-049.ome.tif",
            "fullFilePath": "/s3FuseMounts/dgutman-htan-s3-synapse/htan-tnp-sardana-hms-prerelease-phase-1-data/WD-76845-049.ome.tif",
            "outputFile": "WD-76845-049.lzw.ome.tif",
            "tileString": [
             "-8",
             "-t",
             "-w",
             "256",
             "-l",
             "256",
             "-L"
            ]
           },
           62.9177743070443,
           17.67719587243404
          ],
          [
           "5eea4f8628bc84a252e00727",
           "WD-76845-086.ome.tif",
           77763198424,
           4380.983438014984,
           48874263426,
           null,
           "lzw",
           62.8501198722762,
           null,
           [
            "-8",
            "-t",
            "-w",
            "256",
            "-l",
            "256",
            "-L"
           ],
           "/nvmen1Scratch/origData/htan-tnp-sardana-hms-prerelease-phase-1-data/recompressed/WD-76845-086.lzw.ome.tif",
           {
            "compressionMethod": "lzw",
            "filename": "WD-76845-086.ome.tif",
            "fullFilePath": "/s3FuseMounts/dgutman-htan-s3-synapse/htan-tnp-sardana-hms-prerelease-phase-1-data/WD-76845-086.ome.tif",
            "outputFile": "WD-76845-086.lzw.ome.tif",
            "tileString": [
             "-8",
             "-t",
             "-w",
             "256",
             "-l",
             "256",
             "-L"
            ]
           },
           62.8501198722762,
           17.750169459493407
          ],
          [
           "5eea5a088d45a18a18e00726",
           "WD-76845-051.ome.tif",
           82209194584,
           3284.824033021927,
           54317245016,
           null,
           "lzw",
           66.0719829343414,
           null,
           [
            "-8",
            "-t",
            "-w",
            "256",
            "-l",
            "256",
            "-L"
           ],
           "/nvmen1Scratch/origData/htan-tnp-sardana-hms-prerelease-phase-1-data/recompressed/WD-76845-051.lzw.ome.tif",
           {
            "compressionMethod": "lzw",
            "filename": "WD-76845-051.ome.tif",
            "fullFilePath": "/s3FuseMounts/dgutman-htan-s3-synapse/htan-tnp-sardana-hms-prerelease-phase-1-data/WD-76845-051.ome.tif",
            "outputFile": "WD-76845-051.lzw.ome.tif",
            "tileString": [
             "-8",
             "-t",
             "-w",
             "256",
             "-l",
             "256",
             "-L"
            ]
           },
           66.0719829343414,
           25.02697062538547
          ],
          [
           "5eea5a4aa6ab30e49fe00727",
           "WD-76845-029.ome.tif",
           79860366424,
           3085.615531682968,
           48644979550,
           null,
           "lzw",
           60.91254238896278,
           null,
           [
            "-8",
            "-t",
            "-w",
            "256",
            "-l",
            "256",
            "-L"
           ],
           "/nvmen1Scratch/origData/htan-tnp-sardana-hms-prerelease-phase-1-data/recompressed/WD-76845-029.lzw.ome.tif",
           {
            "compressionMethod": "lzw",
            "filename": "WD-76845-029.ome.tif",
            "fullFilePath": "/s3FuseMounts/dgutman-htan-s3-synapse/htan-tnp-sardana-hms-prerelease-phase-1-data/WD-76845-029.ome.tif",
            "outputFile": "WD-76845-029.lzw.ome.tif",
            "tileString": [
             "-8",
             "-t",
             "-w",
             "256",
             "-l",
             "256",
             "-L"
            ]
           },
           60.91254238896278,
           25.88150260588112
          ]
         ],
         "fillcolor": "rgba(255,255,255,0)",
         "hoveron": "points",
         "hovertemplate": "compressionMethod=%{customdata[6]}<br>executionTime=%{customdata[3]}<br>_id=%{customdata[0]}<br>origFileName=%{customdata[1]}<br>origFileSize=%{customdata[2]}<br>compressedFileSize=%{customdata[4]}<br>compressionOptions=%{customdata[5]}<br>compressionRate=%{customdata[7]}<br>outputFileName=%{customdata[8]}<br>tileInfo=%{customdata[9]}<br>outputFileNamewPath=%{customdata[10]}<br>origCompressionDict=%{customdata[11]}<br>compressionRatio=%{customdata[12]}<br>mbytesPerSec=%{customdata[13]}<extra></extra>",
         "jitter": 0,
         "legendgroup": "lzw",
         "line": {
          "color": "rgba(255,255,255,0)"
         },
         "marker": {
          "color": "#636efa",
          "symbol": "line-ns-open"
         },
         "name": "lzw",
         "offsetgroup": "lzw",
         "showlegend": false,
         "type": "box",
         "x": [
          135.89906549453735,
          116.22998976707458,
          119.89434885978699,
          1266.774257183075,
          1286.8319165706635,
          123.52627038955688,
          128.88972783088684,
          1193.9273571968079,
          1289.4169857501984,
          1288.3613696098328,
          177.7355818748474,
          185.36460089683533,
          1741.1346445083618,
          2490.7977788448334,
          488.829843044281,
          512.6782660484314,
          3891.0175154209137,
          4155.21911907196,
          394.52978110313416,
          2325.1199984550476,
          359.250296831131,
          352.34321117401123,
          2779.661639213562,
          2629.0380370616913,
          249.91202235221863,
          2549.7107393741608,
          311.8254120349884,
          320.74815368652344,
          408.48705291748047,
          464.2224962711334,
          423.34035325050354,
          3466.1396527290344,
          3894.479730606079,
          4119.786567926407,
          476.0803105831146,
          3650.1974382400513,
          438.32432436943054,
          3622.485520839691,
          3078.496503829956,
          3100.2453513145447,
          313.41111516952515,
          3791.312817811966,
          4233.785066604614,
          358.8374652862549,
          2593.189691066742,
          295.3778717517853,
          553.3601450920105,
          4067.20813536644,
          4285.834104776382,
          4680.37166929245,
          4650.57892537117,
          4380.983438014984,
          3284.824033021927,
          3085.615531682968
         ],
         "xaxis": "x2",
         "yaxis": "y2"
        },
        {
         "alignmentgroup": "True",
         "bingroup": "x",
         "hovertemplate": "compressionMethod=zip<br>executionTime=%{x}<br>count=%{y}<extra></extra>",
         "legendgroup": "zip",
         "marker": {
          "color": "#EF553B"
         },
         "name": "zip",
         "nbinsx": 25,
         "offsetgroup": "zip",
         "orientation": "v",
         "showlegend": true,
         "type": "histogram",
         "x": [
          5913.4547290802,
          373.9866123199463,
          366.1013991832733,
          6224.081640005112,
          426.4925584793091,
          656.9697570800781,
          684.5972726345062,
          7647.646546363831,
          477.77342534065247,
          496.34153175354004,
          7113.485237121582,
          7589.115649223328,
          8109.37854886055,
          5954.852608203888,
          464.418737411499,
          488.72994661331177,
          7728.564301967621,
          778.0672495365143,
          509.8421034812927,
          341.2902190685272,
          510.6742694377899,
          736.1407277584076,
          717.2146389484406,
          7973.798753499985,
          8137.981534957886,
          579.8602466583252,
          563.4451377391815,
          440.0287048816681,
          536.2734694480896
         ],
         "xaxis": "x",
         "yaxis": "y"
        },
        {
         "alignmentgroup": "True",
         "boxpoints": "all",
         "customdata": [
          [
           "5ee8ffa2141a70165aed4920",
           "WD-76845-002.ome.tif",
           94540542424,
           5913.4547290802,
           46623413560,
           null,
           "zip",
           49.315788088988384,
           null,
           [
            "-8",
            "-t",
            "-w",
            "256",
            "-l",
            "256",
            "-L"
           ],
           "/nvmen1Scratch/origData/htan-tnp-sardana-hms-prerelease-phase-1-data/recompressed/WD-76845-002.zip.ome.tif",
           {
            "compressionMethod": "zip",
            "filename": "WD-76845-002.ome.tif",
            "fullFilePath": "/nvmen1Scratch/origData/htan-tnp-sardana-hms-prerelease-phase-1-data/WD-76845-002.ome.tif",
            "outputFile": "WD-76845-002.zip.ome.tif",
            "tileString": [
             "-8",
             "-t",
             "-w",
             "256",
             "-l",
             "256",
             "-L"
            ]
           },
           49.315788088988384,
           15.987362169035354
          ],
          [
           "5ee9159f472cad3ec2fd998e",
           "WD-76845-006.ome.tif",
           11834429731,
           373.9866123199463,
           4333709684,
           null,
           "zip",
           36.61950581909286,
           null,
           [
            "-8",
            "-t",
            "-w",
            "256",
            "-l",
            "256",
            "-L"
           ],
           "/nvmen1Scratch/origData/htan-tnp-sardana-hms-prerelease-phase-1-data/recompressed/WD-76845-006.zip.ome.tif",
           {
            "compressionMethod": "zip",
            "filename": "WD-76845-006.ome.tif",
            "fullFilePath": "/nvmen1Scratch/origData/htan-tnp-sardana-hms-prerelease-phase-1-data/WD-76845-006.ome.tif",
            "outputFile": "WD-76845-006.zip.ome.tif",
            "tileString": [
             "-8",
             "-t",
             "-w",
             "256",
             "-l",
             "256",
             "-L"
            ]
           },
           36.61950581909286,
           31.643992969661763
          ],
          [
           "5ee91890557b784b56fd9991",
           "WD-76845-001.ome.tif",
           13048699267,
           366.1013991832733,
           4383036850,
           null,
           "zip",
           33.58983727278202,
           null,
           [
            "-8",
            "-t",
            "-w",
            "256",
            "-l",
            "256",
            "-L"
           ],
           "/nvmen1Scratch/origData/htan-tnp-sardana-hms-prerelease-phase-1-data/recompressed/WD-76845-001.zip.ome.tif",
           {
            "compressionMethod": "zip",
            "filename": "WD-76845-001.ome.tif",
            "fullFilePath": "/nvmen1Scratch/origData/htan-tnp-sardana-hms-prerelease-phase-1-data/WD-76845-001.ome.tif",
            "outputFile": "WD-76845-001.zip.ome.tif",
            "tileString": [
             "-8",
             "-t",
             "-w",
             "256",
             "-l",
             "256",
             "-L"
            ]
           },
           33.58983727278202,
           35.64230919660516
          ],
          [
           "5ee92c7a31a89af274fd998e",
           "WD-76845-007.ome.tif",
           86067983704,
           6224.081640005112,
           43466954554,
           null,
           "zip",
           50.503047339285914,
           null,
           [
            "-8",
            "-t",
            "-w",
            "256",
            "-l",
            "256",
            "-L"
           ],
           "/nvmen1Scratch/origData/htan-tnp-sardana-hms-prerelease-phase-1-data/recompressed/WD-76845-007.zip.ome.tif",
           {
            "compressionMethod": "zip",
            "filename": "WD-76845-007.ome.tif",
            "fullFilePath": "/nvmen1Scratch/origData/htan-tnp-sardana-hms-prerelease-phase-1-data/WD-76845-007.ome.tif",
            "outputFile": "WD-76845-007.zip.ome.tif",
            "tileString": [
             "-8",
             "-t",
             "-w",
             "256",
             "-l",
             "256",
             "-L"
            ]
           },
           50.503047339285914,
           13.828222167074484
          ],
          [
           "5ee93f5727c36180e3eadeaa",
           "WD-76845-006.ome.tif",
           11834429731,
           426.4925584793091,
           4333709684,
           null,
           "zip",
           36.61950581909286,
           null,
           [
            "-8",
            "-t",
            "-w",
            "256",
            "-l",
            "256",
            "-L"
           ],
           "/nvmen1Scratch/origData/htan-tnp-sardana-hms-prerelease-phase-1-data/recompressed/WD-76845-006.zip.ome.tif",
           {
            "compressionMethod": "zip",
            "filename": "WD-76845-006.ome.tif",
            "fullFilePath": "/s3FuseMounts/dgutman-htan-s3-synapse/htan-tnp-sardana-hms-prerelease-phase-1-data/WD-76845-006.ome.tif",
            "outputFile": "WD-76845-006.zip.ome.tif",
            "tileString": [
             "-8",
             "-t",
             "-w",
             "256",
             "-l",
             "256",
             "-L"
            ]
           },
           36.61950581909286,
           27.74826780846198
          ],
          [
           "5ee955719d5df40196038554",
           "WD-76845-068.ome.tif",
           10812052531,
           656.9697570800781,
           4276409710,
           null,
           "zip",
           39.55224688132807,
           null,
           [
            "-8",
            "-t",
            "-w",
            "256",
            "-l",
            "256",
            "-L"
           ],
           "/nvmen1Scratch/origData/htan-tnp-sardana-hms-prerelease-phase-1-data/recompressed/WD-76845-068.zip.ome.tif",
           {
            "compressionMethod": "zip",
            "filename": "WD-76845-068.ome.tif",
            "fullFilePath": "/s3FuseMounts/dgutman-htan-s3-synapse/htan-tnp-sardana-hms-prerelease-phase-1-data/WD-76845-068.ome.tif",
            "outputFile": "WD-76845-068.zip.ome.tif",
            "tileString": [
             "-8",
             "-t",
             "-w",
             "256",
             "-l",
             "256",
             "-L"
            ]
           },
           39.55224688132807,
           16.457458527550024
          ],
          [
           "5ee95cc11a4aa37fe2038557",
           "WD-76845-090.ome.tif",
           10657909507,
           684.5972726345062,
           4424538424,
           null,
           "zip",
           41.51413014995118,
           null,
           [
            "-8",
            "-t",
            "-w",
            "256",
            "-l",
            "256",
            "-L"
           ],
           "/nvmen1Scratch/origData/htan-tnp-sardana-hms-prerelease-phase-1-data/recompressed/WD-76845-090.zip.ome.tif",
           {
            "compressionMethod": "zip",
            "filename": "WD-76845-090.ome.tif",
            "fullFilePath": "/s3FuseMounts/dgutman-htan-s3-synapse/htan-tnp-sardana-hms-prerelease-phase-1-data/WD-76845-090.ome.tif",
            "outputFile": "WD-76845-090.zip.ome.tif",
            "tileString": [
             "-8",
             "-t",
             "-w",
             "256",
             "-l",
             "256",
             "-L"
            ]
           },
           41.51413014995118,
           15.568144853960089
          ],
          [
           "5ee973eb07c5288327038555",
           "WD-76845-102.ome.tif",
           77763198424,
           7647.646546363831,
           39832202266,
           null,
           "zip",
           51.222433070225435,
           null,
           [
            "-8",
            "-t",
            "-w",
            "256",
            "-l",
            "256",
            "-L"
           ],
           "/nvmen1Scratch/origData/htan-tnp-sardana-hms-prerelease-phase-1-data/recompressed/WD-76845-102.zip.ome.tif",
           {
            "compressionMethod": "zip",
            "filename": "WD-76845-102.ome.tif",
            "fullFilePath": "/s3FuseMounts/dgutman-htan-s3-synapse/htan-tnp-sardana-hms-prerelease-phase-1-data/WD-76845-102.ome.tif",
            "outputFile": "WD-76845-102.zip.ome.tif",
            "tileString": [
             "-8",
             "-t",
             "-w",
             "256",
             "-l",
             "256",
             "-L"
            ]
           },
           51.222433070225435,
           10.168252148234217
          ],
          [
           "5ee975c907c5288327038556",
           "WD-76845-058.ome.tif",
           11239878067,
           477.77342534065247,
           4546828394,
           null,
           "zip",
           40.45264874669214,
           null,
           [
            "-8",
            "-t",
            "-w",
            "256",
            "-l",
            "256",
            "-L"
           ],
           "/nvmen1Scratch/origData/htan-tnp-sardana-hms-prerelease-phase-1-data/recompressed/WD-76845-058.zip.ome.tif",
           {
            "compressionMethod": "zip",
            "filename": "WD-76845-058.ome.tif",
            "fullFilePath": "/s3FuseMounts/dgutman-htan-s3-synapse/htan-tnp-sardana-hms-prerelease-phase-1-data/WD-76845-058.ome.tif",
            "outputFile": "WD-76845-058.zip.ome.tif",
            "tileString": [
             "-8",
             "-t",
             "-w",
             "256",
             "-l",
             "256",
             "-L"
            ]
           },
           40.45264874669214,
           23.525540498586683
          ],
          [
           "5ee9783f9d5df40196038556",
           "WD-76845-013.ome.tif",
           12727830115,
           496.34153175354004,
           4625260492,
           null,
           "zip",
           36.33974094727301,
           null,
           [
            "-8",
            "-t",
            "-w",
            "256",
            "-l",
            "256",
            "-L"
           ],
           "/nvmen1Scratch/origData/htan-tnp-sardana-hms-prerelease-phase-1-data/recompressed/WD-76845-013.zip.ome.tif",
           {
            "compressionMethod": "zip",
            "filename": "WD-76845-013.ome.tif",
            "fullFilePath": "/s3FuseMounts/dgutman-htan-s3-synapse/htan-tnp-sardana-hms-prerelease-phase-1-data/WD-76845-013.ome.tif",
            "outputFile": "WD-76845-013.zip.ome.tif",
            "tileString": [
             "-8",
             "-t",
             "-w",
             "256",
             "-l",
             "256",
             "-L"
            ]
           },
           36.33974094727301,
           25.643290558485937
          ],
          [
           "5ee97a8c1a4aa37fe2038559",
           "WD-76845-078.ome.tif",
           74575503064,
           7113.485237121582,
           38387183772,
           null,
           "zip",
           51.4742538700094,
           null,
           [
            "-8",
            "-t",
            "-w",
            "256",
            "-l",
            "256",
            "-L"
           ],
           "/nvmen1Scratch/origData/htan-tnp-sardana-hms-prerelease-phase-1-data/recompressed/WD-76845-078.zip.ome.tif",
           {
            "compressionMethod": "zip",
            "filename": "WD-76845-078.ome.tif",
            "fullFilePath": "/s3FuseMounts/dgutman-htan-s3-synapse/htan-tnp-sardana-hms-prerelease-phase-1-data/WD-76845-078.ome.tif",
            "outputFile": "WD-76845-078.zip.ome.tif",
            "tileString": [
             "-8",
             "-t",
             "-w",
             "256",
             "-l",
             "256",
             "-L"
            ]
           },
           51.4742538700094,
           10.483680021549663
          ],
          [
           "5ee980c01e0218235a038555",
           "WD-76845-054.ome.tif",
           80028139864,
           7589.115649223328,
           40815908114,
           null,
           "zip",
           51.001945294945806,
           null,
           [
            "-8",
            "-t",
            "-w",
            "256",
            "-l",
            "256",
            "-L"
           ],
           "/nvmen1Scratch/origData/htan-tnp-sardana-hms-prerelease-phase-1-data/recompressed/WD-76845-054.zip.ome.tif",
           {
            "compressionMethod": "zip",
            "filename": "WD-76845-054.ome.tif",
            "fullFilePath": "/s3FuseMounts/dgutman-htan-s3-synapse/htan-tnp-sardana-hms-prerelease-phase-1-data/WD-76845-054.ome.tif",
            "outputFile": "WD-76845-054.zip.ome.tif",
            "tileString": [
             "-8",
             "-t",
             "-w",
             "256",
             "-l",
             "256",
             "-L"
            ]
           },
           51.001945294945806,
           10.545120612596028
          ],
          [
           "5ee9834bc8c1e225d3038556",
           "WD-76845-050.ome.tif",
           86067983704,
           8109.37854886055,
           43781819440,
           null,
           "zip",
           50.86888010595425,
           null,
           [
            "-8",
            "-t",
            "-w",
            "256",
            "-l",
            "256",
            "-L"
           ],
           "/nvmen1Scratch/origData/htan-tnp-sardana-hms-prerelease-phase-1-data/recompressed/WD-76845-050.zip.ome.tif",
           {
            "compressionMethod": "zip",
            "filename": "WD-76845-050.ome.tif",
            "fullFilePath": "/s3FuseMounts/dgutman-htan-s3-synapse/htan-tnp-sardana-hms-prerelease-phase-1-data/WD-76845-050.ome.tif",
            "outputFile": "WD-76845-050.zip.ome.tif",
            "tileString": [
             "-8",
             "-t",
             "-w",
             "256",
             "-l",
             "256",
             "-L"
            ]
           },
           50.86888010595425,
           10.613388336162137
          ],
          [
           "5ee9a5cf1a4aa37fe203855b",
           "WD-76845-034.ome.tif",
           88249038424,
           5954.852608203888,
           45867260028,
           null,
           "zip",
           51.97479864610746,
           null,
           [
            "-8",
            "-t",
            "-w",
            "256",
            "-l",
            "256",
            "-L"
           ],
           "/nvmen1Scratch/origData/htan-tnp-sardana-hms-prerelease-phase-1-data/recompressed/WD-76845-034.zip.ome.tif",
           {
            "compressionMethod": "zip",
            "filename": "WD-76845-034.ome.tif",
            "fullFilePath": "/s3FuseMounts/dgutman-htan-s3-synapse/htan-tnp-sardana-hms-prerelease-phase-1-data/WD-76845-034.ome.tif",
            "outputFile": "WD-76845-034.zip.ome.tif",
            "tileString": [
             "-8",
             "-t",
             "-w",
             "256",
             "-l",
             "256",
             "-L"
            ]
           },
           51.97479864610746,
           14.819684756331494
          ],
          [
           "5eea00e3b5f447f61e5fe9a3",
           "WD-76845-019.ome.tif",
           13674708691,
           464.418737411499,
           4766458344,
           null,
           "zip",
           34.8560137674965,
           null,
           [
            "-8",
            "-t",
            "-w",
            "256",
            "-l",
            "256",
            "-L"
           ],
           "/nvmen1Scratch/origData/htan-tnp-sardana-hms-prerelease-phase-1-data/recompressed/WD-76845-019.zip.ome.tif",
           {
            "compressionMethod": "zip",
            "filename": "WD-76845-019.ome.tif",
            "fullFilePath": "/s3FuseMounts/dgutman-htan-s3-synapse/htan-tnp-sardana-hms-prerelease-phase-1-data/WD-76845-019.ome.tif",
            "outputFile": "WD-76845-019.zip.ome.tif",
            "tileString": [
             "-8",
             "-t",
             "-w",
             "256",
             "-l",
             "256",
             "-L"
            ]
           },
           34.8560137674965,
           29.444782454768834
          ],
          [
           "5eea00fb692e2980bb5fe9a3",
           "WD-76845-101.ome.tif",
           11221003432,
           488.72994661331177,
           4350179580,
           null,
           "zip",
           38.76818687706823,
           null,
           [
            "-8",
            "-t",
            "-w",
            "256",
            "-l",
            "256",
            "-L"
           ],
           "/nvmen1Scratch/origData/htan-tnp-sardana-hms-prerelease-phase-1-data/recompressed/WD-76845-101.zip.ome.tif",
           {
            "compressionMethod": "zip",
            "filename": "WD-76845-101.ome.tif",
            "fullFilePath": "/s3FuseMounts/dgutman-htan-s3-synapse/htan-tnp-sardana-hms-prerelease-phase-1-data/WD-76845-101.ome.tif",
            "outputFile": "WD-76845-101.zip.ome.tif",
            "tileString": [
             "-8",
             "-t",
             "-w",
             "256",
             "-l",
             "256",
             "-L"
            ]
           },
           38.76818687706823,
           22.95951682469373
          ],
          [
           "5eea22fbb5f447f61e5fe9a6",
           "WD-76845-097.ome.tif",
           80028139864,
           7728.564301967621,
           41384860222,
           null,
           "zip",
           51.71288535798724,
           null,
           [
            "-8",
            "-t",
            "-w",
            "256",
            "-l",
            "256",
            "-L"
           ],
           "/nvmen1Scratch/origData/htan-tnp-sardana-hms-prerelease-phase-1-data/recompressed/WD-76845-097.zip.ome.tif",
           {
            "compressionMethod": "zip",
            "filename": "WD-76845-097.ome.tif",
            "fullFilePath": "/s3FuseMounts/dgutman-htan-s3-synapse/htan-tnp-sardana-hms-prerelease-phase-1-data/WD-76845-097.ome.tif",
            "outputFile": "WD-76845-097.zip.ome.tif",
            "tileString": [
             "-8",
             "-t",
             "-w",
             "256",
             "-l",
             "256",
             "-L"
            ]
           },
           51.71288535798724,
           10.354852044593272
          ],
          [
           "5eea31f4692e2980bb5fe9aa",
           "WD-76845-001.ome.tif",
           13048699267,
           778.0672495365143,
           4383036850,
           null,
           "zip",
           33.58983727278202,
           null,
           [
            "-8",
            "-t",
            "-w",
            "256",
            "-l",
            "256",
            "-L"
           ],
           "/nvmen1Scratch/origData/htan-tnp-sardana-hms-prerelease-phase-1-data/recompressed/WD-76845-001.zip.ome.tif",
           {
            "compressionMethod": "zip",
            "filename": "WD-76845-001.ome.tif",
            "fullFilePath": "/s3FuseMounts/dgutman-htan-s3-synapse/htan-tnp-sardana-hms-prerelease-phase-1-data/WD-76845-001.ome.tif",
            "outputFile": "WD-76845-001.zip.ome.tif",
            "tileString": [
             "-8",
             "-t",
             "-w",
             "256",
             "-l",
             "256",
             "-L"
            ]
           },
           33.58983727278202,
           16.770657388256556
          ],
          [
           "5eea37fc7a359007b45fe9a7",
           "WD-76845-048.ome.tif",
           12067217155,
           509.8421034812927,
           4687758958,
           null,
           "zip",
           38.847058918282976,
           null,
           [
            "-8",
            "-t",
            "-w",
            "256",
            "-l",
            "256",
            "-L"
           ],
           "/nvmen1Scratch/origData/htan-tnp-sardana-hms-prerelease-phase-1-data/recompressed/WD-76845-048.zip.ome.tif",
           {
            "compressionMethod": "zip",
            "filename": "WD-76845-048.ome.tif",
            "fullFilePath": "/s3FuseMounts/dgutman-htan-s3-synapse/htan-tnp-sardana-hms-prerelease-phase-1-data/WD-76845-048.ome.tif",
            "outputFile": "WD-76845-048.zip.ome.tif",
            "tileString": [
             "-8",
             "-t",
             "-w",
             "256",
             "-l",
             "256",
             "-L"
            ]
           },
           38.847058918282976,
           23.668537911253093
          ],
          [
           "5eea3c3f28bc84a252e00725",
           "WD-76845-063.ome.tif",
           11239878067,
           341.2902190685272,
           4652573116,
           null,
           "zip",
           41.39344829424652,
           null,
           [
            "-8",
            "-t",
            "-w",
            "256",
            "-l",
            "256",
            "-L"
           ],
           "/nvmen1Scratch/origData/htan-tnp-sardana-hms-prerelease-phase-1-data/recompressed/WD-76845-063.zip.ome.tif",
           {
            "compressionMethod": "zip",
            "filename": "WD-76845-063.ome.tif",
            "fullFilePath": "/s3FuseMounts/dgutman-htan-s3-synapse/htan-tnp-sardana-hms-prerelease-phase-1-data/WD-76845-063.ome.tif",
            "outputFile": "WD-76845-063.zip.ome.tif",
            "tileString": [
             "-8",
             "-t",
             "-w",
             "256",
             "-l",
             "256",
             "-L"
            ]
           },
           41.39344829424652,
           32.933490147114824
          ],
          [
           "5eea3ce807b8d638b9e00725",
           "WD-76845-024.ome.tif",
           11834429731,
           510.6742694377899,
           4738029784,
           null,
           "zip",
           40.03597884897526,
           null,
           [
            "-8",
            "-t",
            "-w",
            "256",
            "-l",
            "256",
            "-L"
           ],
           "/nvmen1Scratch/origData/htan-tnp-sardana-hms-prerelease-phase-1-data/recompressed/WD-76845-024.zip.ome.tif",
           {
            "compressionMethod": "zip",
            "filename": "WD-76845-024.ome.tif",
            "fullFilePath": "/s3FuseMounts/dgutman-htan-s3-synapse/htan-tnp-sardana-hms-prerelease-phase-1-data/WD-76845-024.ome.tif",
            "outputFile": "WD-76845-024.zip.ome.tif",
            "tileString": [
             "-8",
             "-t",
             "-w",
             "256",
             "-l",
             "256",
             "-L"
            ]
           },
           40.03597884897526,
           23.17412573777944
          ],
          [
           "5eea3fc907b8d638b9e00726",
           "WD-76845-077.ome.tif",
           11221003411,
           736.1407277584076,
           4374319768,
           null,
           "zip",
           38.983320900801395,
           null,
           [
            "-8",
            "-t",
            "-w",
            "256",
            "-l",
            "256",
            "-L"
           ],
           "/nvmen1Scratch/origData/htan-tnp-sardana-hms-prerelease-phase-1-data/recompressed/WD-76845-077.zip.ome.tif",
           {
            "compressionMethod": "zip",
            "filename": "WD-76845-077.ome.tif",
            "fullFilePath": "/s3FuseMounts/dgutman-htan-s3-synapse/htan-tnp-sardana-hms-prerelease-phase-1-data/WD-76845-077.ome.tif",
            "outputFile": "WD-76845-077.zip.ome.tif",
            "tileString": [
             "-8",
             "-t",
             "-w",
             "256",
             "-l",
             "256",
             "-L"
            ]
           },
           38.983320900801395,
           15.243013988872242
          ],
          [
           "5eea4d9b87f2d71db8e00726",
           "WD-76845-083.ome.tif",
           10270979059,
           717.2146389484406,
           4449609478,
           null,
           "zip",
           43.32215509777528,
           null,
           [
            "-8",
            "-t",
            "-w",
            "256",
            "-l",
            "256",
            "-L"
           ],
           "/nvmen1Scratch/origData/htan-tnp-sardana-hms-prerelease-phase-1-data/recompressed/WD-76845-083.zip.ome.tif",
           {
            "compressionMethod": "zip",
            "filename": "WD-76845-083.ome.tif",
            "fullFilePath": "/s3FuseMounts/dgutman-htan-s3-synapse/htan-tnp-sardana-hms-prerelease-phase-1-data/WD-76845-083.ome.tif",
            "outputFile": "WD-76845-083.zip.ome.tif",
            "tileString": [
             "-8",
             "-t",
             "-w",
             "256",
             "-l",
             "256",
             "-L"
            ]
           },
           43.32215509777528,
           14.3206489399868
          ],
          [
           "5eea5a10c437a94ce9e00725",
           "WD-76845-014.ome.tif",
           77763198424,
           7973.798753499985,
           38777338962,
           null,
           "zip",
           49.86592597512319,
           null,
           [
            "-8",
            "-t",
            "-w",
            "256",
            "-l",
            "256",
            "-L"
           ],
           "/nvmen1Scratch/origData/htan-tnp-sardana-hms-prerelease-phase-1-data/recompressed/WD-76845-014.zip.ome.tif",
           {
            "compressionMethod": "zip",
            "filename": "WD-76845-014.ome.tif",
            "fullFilePath": "/s3FuseMounts/dgutman-htan-s3-synapse/htan-tnp-sardana-hms-prerelease-phase-1-data/WD-76845-014.ome.tif",
            "outputFile": "WD-76845-014.zip.ome.tif",
            "tileString": [
             "-8",
             "-t",
             "-w",
             "256",
             "-l",
             "256",
             "-L"
            ]
           },
           49.86592597512319,
           9.75234023681209
          ],
          [
           "5eea5ab4485aac8111e00725",
           "WD-76845-029.ome.tif",
           79860366424,
           8137.981534957886,
           40213599020,
           null,
           "zip",
           50.354889190584565,
           null,
           [
            "-8",
            "-t",
            "-w",
            "256",
            "-l",
            "256",
            "-L"
           ],
           "/nvmen1Scratch/origData/htan-tnp-sardana-hms-prerelease-phase-1-data/recompressed/WD-76845-029.zip.ome.tif",
           {
            "compressionMethod": "zip",
            "filename": "WD-76845-029.ome.tif",
            "fullFilePath": "/s3FuseMounts/dgutman-htan-s3-synapse/htan-tnp-sardana-hms-prerelease-phase-1-data/WD-76845-029.ome.tif",
            "outputFile": "WD-76845-029.zip.ome.tif",
            "tileString": [
             "-8",
             "-t",
             "-w",
             "256",
             "-l",
             "256",
             "-L"
            ]
           },
           50.354889190584565,
           9.813289214401403
          ],
          [
           "5eea5c90a6ab30e49fe00728",
           "WD-76845-053.ome.tif",
           11239878067,
           579.8602466583252,
           4662752796,
           null,
           "zip",
           41.48401582477772,
           null,
           [
            "-8",
            "-t",
            "-w",
            "256",
            "-l",
            "256",
            "-L"
           ],
           "/nvmen1Scratch/origData/htan-tnp-sardana-hms-prerelease-phase-1-data/recompressed/WD-76845-053.zip.ome.tif",
           {
            "compressionMethod": "zip",
            "filename": "WD-76845-053.ome.tif",
            "fullFilePath": "/s3FuseMounts/dgutman-htan-s3-synapse/htan-tnp-sardana-hms-prerelease-phase-1-data/WD-76845-053.ome.tif",
            "outputFile": "WD-76845-053.zip.ome.tif",
            "tileString": [
             "-8",
             "-t",
             "-w",
             "256",
             "-l",
             "256",
             "-L"
            ]
           },
           41.48401582477772,
           19.38377071333008
          ],
          [
           "5eea5cd507b8d638b9e00728",
           "WD-76845-033.ome.tif",
           12715247011,
           563.4451377391815,
           4779749076,
           null,
           "zip",
           37.59068991632663,
           null,
           [
            "-8",
            "-t",
            "-w",
            "256",
            "-l",
            "256",
            "-L"
           ],
           "/nvmen1Scratch/origData/htan-tnp-sardana-hms-prerelease-phase-1-data/recompressed/WD-76845-033.zip.ome.tif",
           {
            "compressionMethod": "zip",
            "filename": "WD-76845-033.ome.tif",
            "fullFilePath": "/s3FuseMounts/dgutman-htan-s3-synapse/htan-tnp-sardana-hms-prerelease-phase-1-data/WD-76845-033.ome.tif",
            "outputFile": "WD-76845-033.zip.ome.tif",
            "tileString": [
             "-8",
             "-t",
             "-w",
             "256",
             "-l",
             "256",
             "-L"
            ]
           },
           37.59068991632663,
           22.566965547027014
          ],
          [
           "5eea5e8e07b8d638b9e00729",
           "WD-76845-085.ome.tif",
           11384583763,
           440.0287048816681,
           4650921526,
           null,
           "zip",
           40.85280255142517,
           null,
           [
            "-8",
            "-t",
            "-w",
            "256",
            "-l",
            "256",
            "-L"
           ],
           "/nvmen1Scratch/origData/htan-tnp-sardana-hms-prerelease-phase-1-data/recompressed/WD-76845-085.zip.ome.tif",
           {
            "compressionMethod": "zip",
            "filename": "WD-76845-085.ome.tif",
            "fullFilePath": "/s3FuseMounts/dgutman-htan-s3-synapse/htan-tnp-sardana-hms-prerelease-phase-1-data/WD-76845-085.ome.tif",
            "outputFile": "WD-76845-085.zip.ome.tif",
            "tileString": [
             "-8",
             "-t",
             "-w",
             "256",
             "-l",
             "256",
             "-L"
            ]
           },
           40.85280255142517,
           25.87236613588999
          ],
          [
           "5eea6f7528bc84a252e0072a",
           "WD-76845-038.ome.tif",
           12079800259,
           536.2734694480896,
           4692569952,
           null,
           "zip",
           38.846420068111826,
           null,
           [
            "-8",
            "-t",
            "-w",
            "256",
            "-l",
            "256",
            "-L"
           ],
           "/nvmen1Scratch/origData/htan-tnp-sardana-hms-prerelease-phase-1-data/recompressed/WD-76845-038.zip.ome.tif",
           {
            "compressionMethod": "zip",
            "filename": "WD-76845-038.ome.tif",
            "fullFilePath": "/s3FuseMounts/dgutman-htan-s3-synapse/htan-tnp-sardana-hms-prerelease-phase-1-data/WD-76845-038.ome.tif",
            "outputFile": "WD-76845-038.zip.ome.tif",
            "tileString": [
             "-8",
             "-t",
             "-w",
             "256",
             "-l",
             "256",
             "-L"
            ]
           },
           38.846420068111826,
           22.52544820356679
          ]
         ],
         "fillcolor": "rgba(255,255,255,0)",
         "hoveron": "points",
         "hovertemplate": "compressionMethod=%{customdata[6]}<br>executionTime=%{customdata[3]}<br>_id=%{customdata[0]}<br>origFileName=%{customdata[1]}<br>origFileSize=%{customdata[2]}<br>compressedFileSize=%{customdata[4]}<br>compressionOptions=%{customdata[5]}<br>compressionRate=%{customdata[7]}<br>outputFileName=%{customdata[8]}<br>tileInfo=%{customdata[9]}<br>outputFileNamewPath=%{customdata[10]}<br>origCompressionDict=%{customdata[11]}<br>compressionRatio=%{customdata[12]}<br>mbytesPerSec=%{customdata[13]}<extra></extra>",
         "jitter": 0,
         "legendgroup": "zip",
         "line": {
          "color": "rgba(255,255,255,0)"
         },
         "marker": {
          "color": "#EF553B",
          "symbol": "line-ns-open"
         },
         "name": "zip",
         "offsetgroup": "zip",
         "showlegend": false,
         "type": "box",
         "x": [
          5913.4547290802,
          373.9866123199463,
          366.1013991832733,
          6224.081640005112,
          426.4925584793091,
          656.9697570800781,
          684.5972726345062,
          7647.646546363831,
          477.77342534065247,
          496.34153175354004,
          7113.485237121582,
          7589.115649223328,
          8109.37854886055,
          5954.852608203888,
          464.418737411499,
          488.72994661331177,
          7728.564301967621,
          778.0672495365143,
          509.8421034812927,
          341.2902190685272,
          510.6742694377899,
          736.1407277584076,
          717.2146389484406,
          7973.798753499985,
          8137.981534957886,
          579.8602466583252,
          563.4451377391815,
          440.0287048816681,
          536.2734694480896
         ],
         "xaxis": "x2",
         "yaxis": "y2"
        },
        {
         "alignmentgroup": "True",
         "bingroup": "x",
         "hovertemplate": "compressionMethod=zip:2<br>executionTime=%{x}<br>count=%{y}<extra></extra>",
         "legendgroup": "zip:2",
         "marker": {
          "color": "#00cc96"
         },
         "name": "zip:2",
         "nbinsx": 25,
         "offsetgroup": "zip:2",
         "orientation": "v",
         "showlegend": true,
         "type": "histogram",
         "x": [
          397.7636926174164,
          388.8447744846344,
          5590.432553291321,
          6085.464375734329,
          5614.211896657944,
          5722.054629325867,
          763.3601269721985,
          790.2897870540619,
          811.483594417572,
          565.2832190990448,
          7424.825670003891,
          8375.954835414886,
          8058.399178743362,
          8412.91133093834,
          554.1263117790222,
          495.68961358070374,
          4580.758396863937,
          339.0999071598053,
          5120.082880973816,
          4308.936995506287,
          576.1871275901794,
          6347.110875368118,
          6778.826405286789,
          614.36305975914,
          600.5363554954529,
          8026.086015224457,
          468.4046103954315,
          7793.740849494934,
          570.1165504455566,
          6609.197779893875,
          7417.316708564758,
          575.7592494487762,
          6872.255130529404,
          696.7093639373779,
          726.452522277832,
          6291.181425333023,
          7567.881829738617,
          7061.358941555023,
          7872.834859371185
         ],
         "xaxis": "x",
         "yaxis": "y"
        },
        {
         "alignmentgroup": "True",
         "boxpoints": "all",
         "customdata": [
          [
           "5ee91669557b784b56fd998f",
           "WD-76845-006.ome.tif",
           11834429731,
           397.7636926174164,
           3728378900,
           null,
           "zip:2",
           31.504508326527997,
           null,
           [
            "-8",
            "-t",
            "-w",
            "256",
            "-l",
            "256",
            "-L"
           ],
           "/nvmen1Scratch/origData/htan-tnp-sardana-hms-prerelease-phase-1-data/recompressed/WD-76845-006.zip:2.ome.tif",
           {
            "compressionMethod": "zip:2",
            "filename": "WD-76845-006.ome.tif",
            "fullFilePath": "/nvmen1Scratch/origData/htan-tnp-sardana-hms-prerelease-phase-1-data/WD-76845-006.ome.tif",
            "outputFile": "WD-76845-006.zip:2.ome.tif",
            "tileString": [
             "-8",
             "-t",
             "-w",
             "256",
             "-l",
             "256",
             "-L"
            ]
           },
           31.504508326527997,
           29.75241318061371
          ],
          [
           "5ee91a15557b784b56fd9992",
           "WD-76845-001.ome.tif",
           13048699267,
           388.8447744846344,
           3777805572,
           null,
           "zip:2",
           28.951587393496176,
           null,
           [
            "-8",
            "-t",
            "-w",
            "256",
            "-l",
            "256",
            "-L"
           ],
           "/nvmen1Scratch/origData/htan-tnp-sardana-hms-prerelease-phase-1-data/recompressed/WD-76845-001.zip:2.ome.tif",
           {
            "compressionMethod": "zip:2",
            "filename": "WD-76845-001.ome.tif",
            "fullFilePath": "/nvmen1Scratch/origData/htan-tnp-sardana-hms-prerelease-phase-1-data/WD-76845-001.ome.tif",
            "outputFile": "WD-76845-001.zip:2.ome.tif",
            "tileString": [
             "-8",
             "-t",
             "-w",
             "256",
             "-l",
             "256",
             "-L"
            ]
           },
           28.951587393496176,
           33.55760479048339
          ],
          [
           "5ee92a003665612659fd998e",
           "WD-76845-007.ome.tif",
           86067983704,
           5590.432553291321,
           43006730018,
           null,
           "zip:2",
           49.96832523218651,
           null,
           [
            "-8",
            "-t",
            "-w",
            "256",
            "-l",
            "256",
            "-L"
           ],
           "/nvmen1Scratch/origData/htan-tnp-sardana-hms-prerelease-phase-1-data/recompressed/WD-76845-007.zip:2.ome.tif",
           {
            "compressionMethod": "zip:2",
            "filename": "WD-76845-007.ome.tif",
            "fullFilePath": "/nvmen1Scratch/origData/htan-tnp-sardana-hms-prerelease-phase-1-data/WD-76845-007.ome.tif",
            "outputFile": "WD-76845-007.zip:2.ome.tif",
            "tileString": [
             "-8",
             "-t",
             "-w",
             "256",
             "-l",
             "256",
             "-L"
            ]
           },
           49.96832523218651,
           15.395585741094076
          ],
          [
           "5ee92bef715184fcc2fd998e",
           "WD-76845-002.ome.tif",
           94540542424,
           6085.464375734329,
           46342524968,
           null,
           "zip:2",
           49.01867894956727,
           null,
           [
            "-8",
            "-t",
            "-w",
            "256",
            "-l",
            "256",
            "-L"
           ],
           "/nvmen1Scratch/origData/htan-tnp-sardana-hms-prerelease-phase-1-data/recompressed/WD-76845-002.zip:2.ome.tif",
           {
            "compressionMethod": "zip:2",
            "filename": "WD-76845-002.ome.tif",
            "fullFilePath": "/nvmen1Scratch/origData/htan-tnp-sardana-hms-prerelease-phase-1-data/WD-76845-002.ome.tif",
            "outputFile": "WD-76845-002.zip:2.ome.tif",
            "tileString": [
             "-8",
             "-t",
             "-w",
             "256",
             "-l",
             "256",
             "-L"
            ]
           },
           49.01867894956727,
           15.53546887908482
          ],
          [
           "5ee949e04e7ed2ebe2eadea9",
           "WD-76845-002.ome.tif",
           94540542424,
           5614.211896657944,
           46342524968,
           null,
           "zip:2",
           49.01867894956727,
           null,
           [
            "-8",
            "-t",
            "-w",
            "256",
            "-l",
            "256",
            "-L"
           ],
           "/nvmen1Scratch/origData/htan-tnp-sardana-hms-prerelease-phase-1-data/recompressed/WD-76845-002.zip:2.ome.tif",
           {
            "compressionMethod": "zip:2",
            "filename": "WD-76845-002.ome.tif",
            "fullFilePath": "/s3FuseMounts/dgutman-htan-s3-synapse/htan-tnp-sardana-hms-prerelease-phase-1-data/WD-76845-002.ome.tif",
            "outputFile": "WD-76845-002.zip:2.ome.tif",
            "tileString": [
             "-8",
             "-t",
             "-w",
             "256",
             "-l",
             "256",
             "-L"
            ]
           },
           49.01867894956727,
           16.83950377439059
          ],
          [
           "5ee94a4c84b2483271eadea9",
           "WD-76845-007.ome.tif",
           86067983704,
           5722.054629325867,
           43006730018,
           null,
           "zip:2",
           49.96832523218651,
           null,
           [
            "-8",
            "-t",
            "-w",
            "256",
            "-l",
            "256",
            "-L"
           ],
           "/nvmen1Scratch/origData/htan-tnp-sardana-hms-prerelease-phase-1-data/recompressed/WD-76845-007.zip:2.ome.tif",
           {
            "compressionMethod": "zip:2",
            "filename": "WD-76845-007.ome.tif",
            "fullFilePath": "/s3FuseMounts/dgutman-htan-s3-synapse/htan-tnp-sardana-hms-prerelease-phase-1-data/WD-76845-007.ome.tif",
            "outputFile": "WD-76845-007.zip:2.ome.tif",
            "tileString": [
             "-8",
             "-t",
             "-w",
             "256",
             "-l",
             "256",
             "-L"
            ]
           },
           49.96832523218651,
           15.041447395992432
          ],
          [
           "5ee955db492ea78385038554",
           "WD-76845-105.ome.tif",
           10327603048,
           763.3601269721985,
           3689431494,
           null,
           "zip:2",
           35.72398626140535,
           null,
           [
            "-8",
            "-t",
            "-w",
            "256",
            "-l",
            "256",
            "-L"
           ],
           "/nvmen1Scratch/origData/htan-tnp-sardana-hms-prerelease-phase-1-data/recompressed/WD-76845-105.zip:2.ome.tif",
           {
            "compressionMethod": "zip:2",
            "filename": "WD-76845-105.ome.tif",
            "fullFilePath": "/s3FuseMounts/dgutman-htan-s3-synapse/htan-tnp-sardana-hms-prerelease-phase-1-data/WD-76845-105.ome.tif",
            "outputFile": "WD-76845-105.zip:2.ome.tif",
            "tileString": [
             "-8",
             "-t",
             "-w",
             "256",
             "-l",
             "256",
             "-L"
            ]
           },
           35.72398626140535,
           13.529136095912605
          ],
          [
           "5ee955f61a4aa37fe2038554",
           "WD-76845-101.ome.tif",
           11221003432,
           790.2897870540619,
           3722555056,
           null,
           "zip:2",
           33.17488563798168,
           null,
           [
            "-8",
            "-t",
            "-w",
            "256",
            "-l",
            "256",
            "-L"
           ],
           "/nvmen1Scratch/origData/htan-tnp-sardana-hms-prerelease-phase-1-data/recompressed/WD-76845-101.zip:2.ome.tif",
           {
            "compressionMethod": "zip:2",
            "filename": "WD-76845-101.ome.tif",
            "fullFilePath": "/s3FuseMounts/dgutman-htan-s3-synapse/htan-tnp-sardana-hms-prerelease-phase-1-data/WD-76845-101.ome.tif",
            "outputFile": "WD-76845-101.zip:2.ome.tif",
            "tileString": [
             "-8",
             "-t",
             "-w",
             "256",
             "-l",
             "256",
             "-L"
            ]
           },
           33.17488563798168,
           14.198593497997965
          ],
          [
           "5ee9560c07c5288327038554",
           "WD-76845-048.ome.tif",
           12067217155,
           811.483594417572,
           3976615856,
           null,
           "zip:2",
           32.95387664712992,
           null,
           [
            "-8",
            "-t",
            "-w",
            "256",
            "-l",
            "256",
            "-L"
           ],
           "/nvmen1Scratch/origData/htan-tnp-sardana-hms-prerelease-phase-1-data/recompressed/WD-76845-048.zip:2.ome.tif",
           {
            "compressionMethod": "zip:2",
            "filename": "WD-76845-048.ome.tif",
            "fullFilePath": "/s3FuseMounts/dgutman-htan-s3-synapse/htan-tnp-sardana-hms-prerelease-phase-1-data/WD-76845-048.ome.tif",
            "outputFile": "WD-76845-048.zip:2.ome.tif",
            "tileString": [
             "-8",
             "-t",
             "-w",
             "256",
             "-l",
             "256",
             "-L"
            ]
           },
           32.95387664712992,
           14.870562064364384
          ],
          [
           "5ee95a141a4aa37fe2038556",
           "WD-76845-024.ome.tif",
           11834429731,
           565.2832190990448,
           3972159554,
           null,
           "zip:2",
           33.56443567022943,
           null,
           [
            "-8",
            "-t",
            "-w",
            "256",
            "-l",
            "256",
            "-L"
           ],
           "/nvmen1Scratch/origData/htan-tnp-sardana-hms-prerelease-phase-1-data/recompressed/WD-76845-024.zip:2.ome.tif",
           {
            "compressionMethod": "zip:2",
            "filename": "WD-76845-024.ome.tif",
            "fullFilePath": "/s3FuseMounts/dgutman-htan-s3-synapse/htan-tnp-sardana-hms-prerelease-phase-1-data/WD-76845-024.ome.tif",
            "outputFile": "WD-76845-024.zip:2.ome.tif",
            "tileString": [
             "-8",
             "-t",
             "-w",
             "256",
             "-l",
             "256",
             "-L"
            ]
           },
           33.56443567022943,
           20.93539898435665
          ],
          [
           "5ee96fe107c5a13130038554",
           "WD-76845-014.ome.tif",
           77763198424,
           7424.825670003891,
           38302814796,
           null,
           "zip:2",
           49.255709091536836,
           null,
           [
            "-8",
            "-t",
            "-w",
            "256",
            "-l",
            "256",
            "-L"
           ],
           "/nvmen1Scratch/origData/htan-tnp-sardana-hms-prerelease-phase-1-data/recompressed/WD-76845-014.zip:2.ome.tif",
           {
            "compressionMethod": "zip:2",
            "filename": "WD-76845-014.ome.tif",
            "fullFilePath": "/s3FuseMounts/dgutman-htan-s3-synapse/htan-tnp-sardana-hms-prerelease-phase-1-data/WD-76845-014.ome.tif",
            "outputFile": "WD-76845-014.zip:2.ome.tif",
            "tileString": [
             "-8",
             "-t",
             "-w",
             "256",
             "-l",
             "256",
             "-L"
            ]
           },
           49.255709091536836,
           10.473403939726337
          ],
          [
           "5ee9739829adeff7e7038554",
           "WD-76845-059.ome.tif",
           86067983704,
           8375.954835414886,
           43147894010,
           null,
           "zip:2",
           50.13233975410848,
           null,
           [
            "-8",
            "-t",
            "-w",
            "256",
            "-l",
            "256",
            "-L"
           ],
           "/nvmen1Scratch/origData/htan-tnp-sardana-hms-prerelease-phase-1-data/recompressed/WD-76845-059.zip:2.ome.tif",
           {
            "compressionMethod": "zip:2",
            "filename": "WD-76845-059.ome.tif",
            "fullFilePath": "/s3FuseMounts/dgutman-htan-s3-synapse/htan-tnp-sardana-hms-prerelease-phase-1-data/WD-76845-059.ome.tif",
            "outputFile": "WD-76845-059.zip:2.ome.tif",
            "tileString": [
             "-8",
             "-t",
             "-w",
             "256",
             "-l",
             "256",
             "-L"
            ]
           },
           50.13233975410848,
           10.275602650111088
          ],
          [
           "5ee97556492ea78385038555",
           "WD-76845-039.ome.tif",
           86067983704,
           8058.399178743362,
           43385281020,
           null,
           "zip:2",
           50.40815312835506,
           null,
           [
            "-8",
            "-t",
            "-w",
            "256",
            "-l",
            "256",
            "-L"
           ],
           "/nvmen1Scratch/origData/htan-tnp-sardana-hms-prerelease-phase-1-data/recompressed/WD-76845-039.zip:2.ome.tif",
           {
            "compressionMethod": "zip:2",
            "filename": "WD-76845-039.ome.tif",
            "fullFilePath": "/s3FuseMounts/dgutman-htan-s3-synapse/htan-tnp-sardana-hms-prerelease-phase-1-data/WD-76845-039.ome.tif",
            "outputFile": "WD-76845-039.zip:2.ome.tif",
            "tileString": [
             "-8",
             "-t",
             "-w",
             "256",
             "-l",
             "256",
             "-L"
            ]
           },
           50.40815312835506,
           10.680531181804964
          ],
          [
           "5ee9764f9d5df40196038555",
           "WD-76845-020.ome.tif",
           89758999384,
           8412.91133093834,
           44313474856,
           null,
           "zip:2",
           49.36939489089169,
           null,
           [
            "-8",
            "-t",
            "-w",
            "256",
            "-l",
            "256",
            "-L"
           ],
           "/nvmen1Scratch/origData/htan-tnp-sardana-hms-prerelease-phase-1-data/recompressed/WD-76845-020.zip:2.ome.tif",
           {
            "compressionMethod": "zip:2",
            "filename": "WD-76845-020.ome.tif",
            "fullFilePath": "/s3FuseMounts/dgutman-htan-s3-synapse/htan-tnp-sardana-hms-prerelease-phase-1-data/WD-76845-020.ome.tif",
            "outputFile": "WD-76845-020.zip:2.ome.tif",
            "tileString": [
             "-8",
             "-t",
             "-w",
             "256",
             "-l",
             "256",
             "-L"
            ]
           },
           49.36939489089169,
           10.669195936240621
          ],
          [
           "5ee97de807c5a13130038558",
           "WD-76845-033.ome.tif",
           12715247011,
           554.1263117790222,
           3999014232,
           null,
           "zip:2",
           31.450543025553813,
           null,
           [
            "-8",
            "-t",
            "-w",
            "256",
            "-l",
            "256",
            "-L"
           ],
           "/nvmen1Scratch/origData/htan-tnp-sardana-hms-prerelease-phase-1-data/recompressed/WD-76845-033.zip:2.ome.tif",
           {
            "compressionMethod": "zip:2",
            "filename": "WD-76845-033.ome.tif",
            "fullFilePath": "/s3FuseMounts/dgutman-htan-s3-synapse/htan-tnp-sardana-hms-prerelease-phase-1-data/WD-76845-033.ome.tif",
            "outputFile": "WD-76845-033.zip:2.ome.tif",
            "tileString": [
             "-8",
             "-t",
             "-w",
             "256",
             "-l",
             "256",
             "-L"
            ]
           },
           31.450543025553813,
           22.94647761839301
          ],
          [
           "5ee9806329adeff7e7038556",
           "WD-76845-096.ome.tif",
           11384583763,
           495.68961358070374,
           3851234692,
           null,
           "zip:2",
           33.82850679632704,
           null,
           [
            "-8",
            "-t",
            "-w",
            "256",
            "-l",
            "256",
            "-L"
           ],
           "/nvmen1Scratch/origData/htan-tnp-sardana-hms-prerelease-phase-1-data/recompressed/WD-76845-096.zip:2.ome.tif",
           {
            "compressionMethod": "zip:2",
            "filename": "WD-76845-096.ome.tif",
            "fullFilePath": "/s3FuseMounts/dgutman-htan-s3-synapse/htan-tnp-sardana-hms-prerelease-phase-1-data/WD-76845-096.ome.tif",
            "outputFile": "WD-76845-096.zip:2.ome.tif",
            "tileString": [
             "-8",
             "-t",
             "-w",
             "256",
             "-l",
             "256",
             "-L"
            ]
           },
           33.82850679632704,
           22.96716221419569
          ],
          [
           "5ee987ae07c5288327038557",
           "WD-76845-078.ome.tif",
           74575503064,
           4580.758396863937,
           37525384952,
           null,
           "zip:2",
           50.318648095201,
           null,
           [
            "-8",
            "-t",
            "-w",
            "256",
            "-l",
            "256",
            "-L"
           ],
           "/nvmen1Scratch/origData/htan-tnp-sardana-hms-prerelease-phase-1-data/recompressed/WD-76845-078.zip:2.ome.tif",
           {
            "compressionMethod": "zip:2",
            "filename": "WD-76845-078.ome.tif",
            "fullFilePath": "/s3FuseMounts/dgutman-htan-s3-synapse/htan-tnp-sardana-hms-prerelease-phase-1-data/WD-76845-078.ome.tif",
            "outputFile": "WD-76845-078.zip:2.ome.tif",
            "tileString": [
             "-8",
             "-t",
             "-w",
             "256",
             "-l",
             "256",
             "-L"
            ]
           },
           50.318648095201,
           16.280165117430254
          ],
          [
           "5ee9890107c5288327038558",
           "WD-76845-058.ome.tif",
           11239878067,
           339.0999071598053,
           3864155754,
           null,
           "zip:2",
           34.37898285876485,
           null,
           [
            "-8",
            "-t",
            "-w",
            "256",
            "-l",
            "256",
            "-L"
           ],
           "/nvmen1Scratch/origData/htan-tnp-sardana-hms-prerelease-phase-1-data/recompressed/WD-76845-058.zip:2.ome.tif",
           {
            "compressionMethod": "zip:2",
            "filename": "WD-76845-058.ome.tif",
            "fullFilePath": "/s3FuseMounts/dgutman-htan-s3-synapse/htan-tnp-sardana-hms-prerelease-phase-1-data/WD-76845-058.ome.tif",
            "outputFile": "WD-76845-058.zip:2.ome.tif",
            "tileString": [
             "-8",
             "-t",
             "-w",
             "256",
             "-l",
             "256",
             "-L"
            ]
           },
           34.37898285876485,
           33.14621393188132
          ],
          [
           "5ee98e8c1a4aa37fe203855a",
           "WD-76845-029.ome.tif",
           79860366424,
           5120.082880973816,
           39680533438,
           null,
           "zip:2",
           49.68739215060128,
           null,
           [
            "-8",
            "-t",
            "-w",
            "256",
            "-l",
            "256",
            "-L"
           ],
           "/nvmen1Scratch/origData/htan-tnp-sardana-hms-prerelease-phase-1-data/recompressed/WD-76845-029.zip:2.ome.tif",
           {
            "compressionMethod": "zip:2",
            "filename": "WD-76845-029.ome.tif",
            "fullFilePath": "/s3FuseMounts/dgutman-htan-s3-synapse/htan-tnp-sardana-hms-prerelease-phase-1-data/WD-76845-029.ome.tif",
            "outputFile": "WD-76845-029.zip:2.ome.tif",
            "tileString": [
             "-8",
             "-t",
             "-w",
             "256",
             "-l",
             "256",
             "-L"
            ]
           },
           49.68739215060128,
           15.59747533008898
          ],
          [
           "5ee99420c8c1e225d3038557",
           "WD-76845-086.ome.tif",
           77763198424,
           4308.936995506287,
           38849121782,
           null,
           "zip:2",
           49.9582354755743,
           null,
           [
            "-8",
            "-t",
            "-w",
            "256",
            "-l",
            "256",
            "-L"
           ],
           "/nvmen1Scratch/origData/htan-tnp-sardana-hms-prerelease-phase-1-data/recompressed/WD-76845-086.zip:2.ome.tif",
           {
            "compressionMethod": "zip:2",
            "filename": "WD-76845-086.ome.tif",
            "fullFilePath": "/s3FuseMounts/dgutman-htan-s3-synapse/htan-tnp-sardana-hms-prerelease-phase-1-data/WD-76845-086.ome.tif",
            "outputFile": "WD-76845-086.zip:2.ome.tif",
            "tileString": [
             "-8",
             "-t",
             "-w",
             "256",
             "-l",
             "256",
             "-L"
            ]
           },
           49.9582354755743,
           18.046956477919693
          ],
          [
           "5eea0323b5f447f61e5fe9a4",
           "WD-76845-085.ome.tif",
           11384583763,
           576.1871275901794,
           3915863502,
           null,
           "zip:2",
           34.39619386636332,
           null,
           [
            "-8",
            "-t",
            "-w",
            "256",
            "-l",
            "256",
            "-L"
           ],
           "/nvmen1Scratch/origData/htan-tnp-sardana-hms-prerelease-phase-1-data/recompressed/WD-76845-085.zip:2.ome.tif",
           {
            "compressionMethod": "zip:2",
            "filename": "WD-76845-085.ome.tif",
            "fullFilePath": "/s3FuseMounts/dgutman-htan-s3-synapse/htan-tnp-sardana-hms-prerelease-phase-1-data/WD-76845-085.ome.tif",
            "outputFile": "WD-76845-085.zip:2.ome.tif",
            "tileString": [
             "-8",
             "-t",
             "-w",
             "256",
             "-l",
             "256",
             "-L"
            ]
           },
           34.39619386636332,
           19.758483343101396
          ],
          [
           "5eea1915049ce574635fe9a4",
           "WD-76845-084.ome.tif",
           74575503064,
           6347.110875368118,
           37617116838,
           null,
           "zip:2",
           50.44165348199843,
           null,
           [
            "-8",
            "-t",
            "-w",
            "256",
            "-l",
            "256",
            "-L"
           ],
           "/nvmen1Scratch/origData/htan-tnp-sardana-hms-prerelease-phase-1-data/recompressed/WD-76845-084.zip:2.ome.tif",
           {
            "compressionMethod": "zip:2",
            "filename": "WD-76845-084.ome.tif",
            "fullFilePath": "/s3FuseMounts/dgutman-htan-s3-synapse/htan-tnp-sardana-hms-prerelease-phase-1-data/WD-76845-084.ome.tif",
            "outputFile": "WD-76845-084.zip:2.ome.tif",
            "tileString": [
             "-8",
             "-t",
             "-w",
             "256",
             "-l",
             "256",
             "-L"
            ]
           },
           50.44165348199843,
           11.749519510272426
          ],
          [
           "5eea1b26c617b77de35fe9a4",
           "WD-76845-091.ome.tif",
           77763198424,
           6778.826405286789,
           38243643084,
           null,
           "zip:2",
           49.179616912718046,
           null,
           [
            "-8",
            "-t",
            "-w",
            "256",
            "-l",
            "256",
            "-L"
           ],
           "/nvmen1Scratch/origData/htan-tnp-sardana-hms-prerelease-phase-1-data/recompressed/WD-76845-091.zip:2.ome.tif",
           {
            "compressionMethod": "zip:2",
            "filename": "WD-76845-091.ome.tif",
            "fullFilePath": "/s3FuseMounts/dgutman-htan-s3-synapse/htan-tnp-sardana-hms-prerelease-phase-1-data/WD-76845-091.ome.tif",
            "outputFile": "WD-76845-091.zip:2.ome.tif",
            "tileString": [
             "-8",
             "-t",
             "-w",
             "256",
             "-l",
             "256",
             "-L"
            ]
           },
           49.179616912718046,
           11.471483967099775
          ],
          [
           "5eea1b7c049ce574635fe9a5",
           "WD-76845-013.ome.tif",
           12727830115,
           614.36305975914,
           3884386058,
           null,
           "zip:2",
           30.51883960504921,
           null,
           [
            "-8",
            "-t",
            "-w",
            "256",
            "-l",
            "256",
            "-L"
           ],
           "/nvmen1Scratch/origData/htan-tnp-sardana-hms-prerelease-phase-1-data/recompressed/WD-76845-013.zip:2.ome.tif",
           {
            "compressionMethod": "zip:2",
            "filename": "WD-76845-013.ome.tif",
            "fullFilePath": "/s3FuseMounts/dgutman-htan-s3-synapse/htan-tnp-sardana-hms-prerelease-phase-1-data/WD-76845-013.ome.tif",
            "outputFile": "WD-76845-013.zip:2.ome.tif",
            "tileString": [
             "-8",
             "-t",
             "-w",
             "256",
             "-l",
             "256",
             "-L"
            ]
           },
           30.51883960504921,
           20.717114925480587
          ],
          [
           "5eea1dd5049ce574635fe9a6",
           "WD-76845-090.ome.tif",
           10657909507,
           600.5363554954529,
           3714891402,
           null,
           "zip:2",
           34.85572287473542,
           null,
           [
            "-8",
            "-t",
            "-w",
            "256",
            "-l",
            "256",
            "-L"
           ],
           "/nvmen1Scratch/origData/htan-tnp-sardana-hms-prerelease-phase-1-data/recompressed/WD-76845-090.zip:2.ome.tif",
           {
            "compressionMethod": "zip:2",
            "filename": "WD-76845-090.ome.tif",
            "fullFilePath": "/s3FuseMounts/dgutman-htan-s3-synapse/htan-tnp-sardana-hms-prerelease-phase-1-data/WD-76845-090.ome.tif",
            "outputFile": "WD-76845-090.zip:2.ome.tif",
            "tileString": [
             "-8",
             "-t",
             "-w",
             "256",
             "-l",
             "256",
             "-L"
            ]
           },
           34.85572287473542,
           17.747317726013506
          ],
          [
           "5eea1e6cc100c647d85fe9a3",
           "WD-76845-050.ome.tif",
           86067983704,
           8026.086015224457,
           43236588388,
           null,
           "zip:2",
           50.235391288701216,
           null,
           [
            "-8",
            "-t",
            "-w",
            "256",
            "-l",
            "256",
            "-L"
           ],
           "/nvmen1Scratch/origData/htan-tnp-sardana-hms-prerelease-phase-1-data/recompressed/WD-76845-050.zip:2.ome.tif",
           {
            "compressionMethod": "zip:2",
            "filename": "WD-76845-050.ome.tif",
            "fullFilePath": "/s3FuseMounts/dgutman-htan-s3-synapse/htan-tnp-sardana-hms-prerelease-phase-1-data/WD-76845-050.ome.tif",
            "outputFile": "WD-76845-050.zip:2.ome.tif",
            "tileString": [
             "-8",
             "-t",
             "-w",
             "256",
             "-l",
             "256",
             "-L"
            ]
           },
           50.235391288701216,
           10.723531188270355
          ],
          [
           "5eea1fa9049ce574635fe9a7",
           "WD-76845-073.ome.tif",
           9808549987,
           468.4046103954315,
           3420732888,
           null,
           "zip:2",
           34.8750110111459,
           null,
           [
            "-8",
            "-t",
            "-w",
            "256",
            "-l",
            "256",
            "-L"
           ],
           "/nvmen1Scratch/origData/htan-tnp-sardana-hms-prerelease-phase-1-data/recompressed/WD-76845-073.zip:2.ome.tif",
           {
            "compressionMethod": "zip:2",
            "filename": "WD-76845-073.ome.tif",
            "fullFilePath": "/s3FuseMounts/dgutman-htan-s3-synapse/htan-tnp-sardana-hms-prerelease-phase-1-data/WD-76845-073.ome.tif",
            "outputFile": "WD-76845-073.zip:2.ome.tif",
            "tileString": [
             "-8",
             "-t",
             "-w",
             "256",
             "-l",
             "256",
             "-L"
            ]
           },
           34.8750110111459,
           20.940336131020427
          ],
          [
           "5eea2d9c5b022b5ffc5fe9a4",
           "WD-76845-044.ome.tif",
           82209194584,
           7793.740849494934,
           41462741978,
           null,
           "zip:2",
           50.435650401165354,
           null,
           [
            "-8",
            "-t",
            "-w",
            "256",
            "-l",
            "256",
            "-L"
           ],
           "/nvmen1Scratch/origData/htan-tnp-sardana-hms-prerelease-phase-1-data/recompressed/WD-76845-044.zip:2.ome.tif",
           {
            "compressionMethod": "zip:2",
            "filename": "WD-76845-044.ome.tif",
            "fullFilePath": "/s3FuseMounts/dgutman-htan-s3-synapse/htan-tnp-sardana-hms-prerelease-phase-1-data/WD-76845-044.ome.tif",
            "outputFile": "WD-76845-044.zip:2.ome.tif",
            "tileString": [
             "-8",
             "-t",
             "-w",
             "256",
             "-l",
             "256",
             "-L"
            ]
           },
           50.435650401165354,
           10.548104712684601
          ],
          [
           "5eea3595692e2980bb5fe9ac",
           "WD-76845-053.ome.tif",
           11239878067,
           570.1165504455566,
           3942772688,
           null,
           "zip:2",
           35.07842936104335,
           null,
           [
            "-8",
            "-t",
            "-w",
            "256",
            "-l",
            "256",
            "-L"
           ],
           "/nvmen1Scratch/origData/htan-tnp-sardana-hms-prerelease-phase-1-data/recompressed/WD-76845-053.zip:2.ome.tif",
           {
            "compressionMethod": "zip:2",
            "filename": "WD-76845-053.ome.tif",
            "fullFilePath": "/s3FuseMounts/dgutman-htan-s3-synapse/htan-tnp-sardana-hms-prerelease-phase-1-data/WD-76845-053.ome.tif",
            "outputFile": "WD-76845-053.zip:2.ome.tif",
            "tileString": [
             "-8",
             "-t",
             "-w",
             "256",
             "-l",
             "256",
             "-L"
            ]
           },
           35.07842936104335,
           19.715053103116944
          ],
          [
           "5eea35fe7a359007b45fe9a6",
           "WD-76845-074.ome.tif",
           74575503064,
           6609.197779893875,
           37786805400,
           null,
           "zip:2",
           50.66919276102196,
           null,
           [
            "-8",
            "-t",
            "-w",
            "256",
            "-l",
            "256",
            "-L"
           ],
           "/nvmen1Scratch/origData/htan-tnp-sardana-hms-prerelease-phase-1-data/recompressed/WD-76845-074.zip:2.ome.tif",
           {
            "compressionMethod": "zip:2",
            "filename": "WD-76845-074.ome.tif",
            "fullFilePath": "/s3FuseMounts/dgutman-htan-s3-synapse/htan-tnp-sardana-hms-prerelease-phase-1-data/WD-76845-074.ome.tif",
            "outputFile": "WD-76845-074.zip:2.ome.tif",
            "tileString": [
             "-8",
             "-t",
             "-w",
             "256",
             "-l",
             "256",
             "-L"
            ]
           },
           50.66919276102196,
           11.283593795735596
          ],
          [
           "5eea38febb2b0550615fe9a6",
           "WD-76845-051.ome.tif",
           82209194584,
           7417.316708564758,
           42785432098,
           null,
           "zip:2",
           52.04458250017587,
           null,
           [
            "-8",
            "-t",
            "-w",
            "256",
            "-l",
            "256",
            "-L"
           ],
           "/nvmen1Scratch/origData/htan-tnp-sardana-hms-prerelease-phase-1-data/recompressed/WD-76845-051.zip:2.ome.tif",
           {
            "compressionMethod": "zip:2",
            "filename": "WD-76845-051.ome.tif",
            "fullFilePath": "/s3FuseMounts/dgutman-htan-s3-synapse/htan-tnp-sardana-hms-prerelease-phase-1-data/WD-76845-051.ome.tif",
            "outputFile": "WD-76845-051.zip:2.ome.tif",
            "tileString": [
             "-8",
             "-t",
             "-w",
             "256",
             "-l",
             "256",
             "-L"
            ]
           },
           52.04458250017587,
           11.083414368577957
          ],
          [
           "5eea51c728bc84a252e00728",
           "WD-76845-038.ome.tif",
           12079800259,
           575.7592494487762,
           3965062508,
           null,
           "zip:2",
           32.823907870876,
           null,
           [
            "-8",
            "-t",
            "-w",
            "256",
            "-l",
            "256",
            "-L"
           ],
           "/nvmen1Scratch/origData/htan-tnp-sardana-hms-prerelease-phase-1-data/recompressed/WD-76845-038.zip:2.ome.tif",
           {
            "compressionMethod": "zip:2",
            "filename": "WD-76845-038.ome.tif",
            "fullFilePath": "/s3FuseMounts/dgutman-htan-s3-synapse/htan-tnp-sardana-hms-prerelease-phase-1-data/WD-76845-038.ome.tif",
            "outputFile": "WD-76845-038.zip:2.ome.tif",
            "tileString": [
             "-8",
             "-t",
             "-w",
             "256",
             "-l",
             "256",
             "-L"
            ]
           },
           32.823907870876,
           20.980644723580262
          ],
          [
           "5eea5aa107b8d638b9e00727",
           "WD-76845-106.ome.tif",
           74575503064,
           6872.255130529404,
           37361993422,
           null,
           "zip:2",
           50.09955265060202,
           null,
           [
            "-8",
            "-t",
            "-w",
            "256",
            "-l",
            "256",
            "-L"
           ],
           "/nvmen1Scratch/origData/htan-tnp-sardana-hms-prerelease-phase-1-data/recompressed/WD-76845-106.zip:2.ome.tif",
           {
            "compressionMethod": "zip:2",
            "filename": "WD-76845-106.ome.tif",
            "fullFilePath": "/s3FuseMounts/dgutman-htan-s3-synapse/htan-tnp-sardana-hms-prerelease-phase-1-data/WD-76845-106.ome.tif",
            "outputFile": "WD-76845-106.zip:2.ome.tif",
            "tileString": [
             "-8",
             "-t",
             "-w",
             "256",
             "-l",
             "256",
             "-L"
            ]
           },
           50.09955265060202,
           10.851678473446762
          ],
          [
           "5eea5cc28d45a18a18e00727",
           "WD-76845-001.ome.tif",
           13048699267,
           696.7093639373779,
           3777805572,
           null,
           "zip:2",
           28.951587393496176,
           null,
           [
            "-8",
            "-t",
            "-w",
            "256",
            "-l",
            "256",
            "-L"
           ],
           "/nvmen1Scratch/origData/htan-tnp-sardana-hms-prerelease-phase-1-data/recompressed/WD-76845-001.zip:2.ome.tif",
           {
            "compressionMethod": "zip:2",
            "filename": "WD-76845-001.ome.tif",
            "fullFilePath": "/s3FuseMounts/dgutman-htan-s3-synapse/htan-tnp-sardana-hms-prerelease-phase-1-data/WD-76845-001.ome.tif",
            "outputFile": "WD-76845-001.zip:2.ome.tif",
            "tileString": [
             "-8",
             "-t",
             "-w",
             "256",
             "-l",
             "256",
             "-L"
            ]
           },
           28.951587393496176,
           18.729042470818364
          ],
          [
           "5eea5ce6c437a94ce9e00726",
           "WD-76845-019.ome.tif",
           13674708691,
           726.452522277832,
           4023233458,
           null,
           "zip:2",
           29.420981089329445,
           null,
           [
            "-8",
            "-t",
            "-w",
            "256",
            "-l",
            "256",
            "-L"
           ],
           "/nvmen1Scratch/origData/htan-tnp-sardana-hms-prerelease-phase-1-data/recompressed/WD-76845-019.zip:2.ome.tif",
           {
            "compressionMethod": "zip:2",
            "filename": "WD-76845-019.ome.tif",
            "fullFilePath": "/s3FuseMounts/dgutman-htan-s3-synapse/htan-tnp-sardana-hms-prerelease-phase-1-data/WD-76845-019.ome.tif",
            "outputFile": "WD-76845-019.zip:2.ome.tif",
            "tileString": [
             "-8",
             "-t",
             "-w",
             "256",
             "-l",
             "256",
             "-L"
            ]
           },
           29.420981089329445,
           18.823953763863596
          ],
          [
           "5eea643bf57863fbe4e00726",
           "WD-76845-069.ome.tif",
           74575503064,
           6291.181425333023,
           37000441922,
           null,
           "zip:2",
           49.61473996393503,
           null,
           [
            "-8",
            "-t",
            "-w",
            "256",
            "-l",
            "256",
            "-L"
           ],
           "/nvmen1Scratch/origData/htan-tnp-sardana-hms-prerelease-phase-1-data/recompressed/WD-76845-069.zip:2.ome.tif",
           {
            "compressionMethod": "zip:2",
            "filename": "WD-76845-069.ome.tif",
            "fullFilePath": "/s3FuseMounts/dgutman-htan-s3-synapse/htan-tnp-sardana-hms-prerelease-phase-1-data/WD-76845-069.ome.tif",
            "outputFile": "WD-76845-069.zip:2.ome.tif",
            "tileString": [
             "-8",
             "-t",
             "-w",
             "256",
             "-l",
             "256",
             "-L"
            ]
           },
           49.61473996393503,
           11.853974320896707
          ],
          [
           "5eea6b2b87f2d71db8e00727",
           "WD-76845-052.ome.tif",
           86067983704,
           7567.881829738617,
           43549084954,
           null,
           "zip:2",
           50.598472370134154,
           null,
           [
            "-8",
            "-t",
            "-w",
            "256",
            "-l",
            "256",
            "-L"
           ],
           "/nvmen1Scratch/origData/htan-tnp-sardana-hms-prerelease-phase-1-data/recompressed/WD-76845-052.zip:2.ome.tif",
           {
            "compressionMethod": "zip:2",
            "filename": "WD-76845-052.ome.tif",
            "fullFilePath": "/s3FuseMounts/dgutman-htan-s3-synapse/htan-tnp-sardana-hms-prerelease-phase-1-data/WD-76845-052.ome.tif",
            "outputFile": "WD-76845-052.zip:2.ome.tif",
            "tileString": [
             "-8",
             "-t",
             "-w",
             "256",
             "-l",
             "256",
             "-L"
            ]
           },
           50.598472370134154,
           11.372796991331015
          ],
          [
           "5eea6d5c28bc84a252e00729",
           "WD-76845-064.ome.tif",
           79860366424,
           7061.358941555023,
           40234489692,
           null,
           "zip:2",
           50.38104818901575,
           null,
           [
            "-8",
            "-t",
            "-w",
            "256",
            "-l",
            "256",
            "-L"
           ],
           "/nvmen1Scratch/origData/htan-tnp-sardana-hms-prerelease-phase-1-data/recompressed/WD-76845-064.zip:2.ome.tif",
           {
            "compressionMethod": "zip:2",
            "filename": "WD-76845-064.ome.tif",
            "fullFilePath": "/s3FuseMounts/dgutman-htan-s3-synapse/htan-tnp-sardana-hms-prerelease-phase-1-data/WD-76845-064.ome.tif",
            "outputFile": "WD-76845-064.zip:2.ome.tif",
            "tileString": [
             "-8",
             "-t",
             "-w",
             "256",
             "-l",
             "256",
             "-L"
            ]
           },
           50.38104818901575,
           11.30948972924091
          ],
          [
           "5eea7975485aac8111e00726",
           "WD-76845-034.ome.tif",
           88249038424,
           7872.834859371185,
           45162064692,
           null,
           "zip:2",
           51.17570173967791,
           null,
           [
            "-8",
            "-t",
            "-w",
            "256",
            "-l",
            "256",
            "-L"
           ],
           "/nvmen1Scratch/origData/htan-tnp-sardana-hms-prerelease-phase-1-data/recompressed/WD-76845-034.zip:2.ome.tif",
           {
            "compressionMethod": "zip:2",
            "filename": "WD-76845-034.ome.tif",
            "fullFilePath": "/s3FuseMounts/dgutman-htan-s3-synapse/htan-tnp-sardana-hms-prerelease-phase-1-data/WD-76845-034.ome.tif",
            "outputFile": "WD-76845-034.zip:2.ome.tif",
            "tileString": [
             "-8",
             "-t",
             "-w",
             "256",
             "-l",
             "256",
             "-L"
            ]
           },
           51.17570173967791,
           11.209308971971575
          ]
         ],
         "fillcolor": "rgba(255,255,255,0)",
         "hoveron": "points",
         "hovertemplate": "compressionMethod=%{customdata[6]}<br>executionTime=%{customdata[3]}<br>_id=%{customdata[0]}<br>origFileName=%{customdata[1]}<br>origFileSize=%{customdata[2]}<br>compressedFileSize=%{customdata[4]}<br>compressionOptions=%{customdata[5]}<br>compressionRate=%{customdata[7]}<br>outputFileName=%{customdata[8]}<br>tileInfo=%{customdata[9]}<br>outputFileNamewPath=%{customdata[10]}<br>origCompressionDict=%{customdata[11]}<br>compressionRatio=%{customdata[12]}<br>mbytesPerSec=%{customdata[13]}<extra></extra>",
         "jitter": 0,
         "legendgroup": "zip:2",
         "line": {
          "color": "rgba(255,255,255,0)"
         },
         "marker": {
          "color": "#00cc96",
          "symbol": "line-ns-open"
         },
         "name": "zip:2",
         "offsetgroup": "zip:2",
         "showlegend": false,
         "type": "box",
         "x": [
          397.7636926174164,
          388.8447744846344,
          5590.432553291321,
          6085.464375734329,
          5614.211896657944,
          5722.054629325867,
          763.3601269721985,
          790.2897870540619,
          811.483594417572,
          565.2832190990448,
          7424.825670003891,
          8375.954835414886,
          8058.399178743362,
          8412.91133093834,
          554.1263117790222,
          495.68961358070374,
          4580.758396863937,
          339.0999071598053,
          5120.082880973816,
          4308.936995506287,
          576.1871275901794,
          6347.110875368118,
          6778.826405286789,
          614.36305975914,
          600.5363554954529,
          8026.086015224457,
          468.4046103954315,
          7793.740849494934,
          570.1165504455566,
          6609.197779893875,
          7417.316708564758,
          575.7592494487762,
          6872.255130529404,
          696.7093639373779,
          726.452522277832,
          6291.181425333023,
          7567.881829738617,
          7061.358941555023,
          7872.834859371185
         ],
         "xaxis": "x2",
         "yaxis": "y2"
        },
        {
         "alignmentgroup": "True",
         "bingroup": "x",
         "hovertemplate": "compressionMethod=lzma<br>executionTime=%{x}<br>count=%{y}<extra></extra>",
         "legendgroup": "lzma",
         "marker": {
          "color": "#ab63fa"
         },
         "name": "lzma",
         "nbinsx": 25,
         "offsetgroup": "lzma",
         "orientation": "v",
         "showlegend": true,
         "type": "histogram",
         "x": [
          2745.2994956970215,
          2544.670735359192,
          21207.84808945656,
          23476.948788881302
         ],
         "xaxis": "x",
         "yaxis": "y"
        },
        {
         "alignmentgroup": "True",
         "boxpoints": "all",
         "customdata": [
          [
           "5ee92059472cad3ec2fd998f",
           "WD-76845-006.ome.tif",
           11834429731,
           2745.2994956970215,
           3525198902,
           null,
           "lzma",
           29.787653331244407,
           null,
           [
            "-8",
            "-t",
            "-w",
            "256",
            "-l",
            "256",
            "-L"
           ],
           "/nvmen1Scratch/origData/htan-tnp-sardana-hms-prerelease-phase-1-data/recompressed/WD-76845-006.lzma.ome.tif",
           {
            "compressionMethod": "lzma",
            "filename": "WD-76845-006.ome.tif",
            "fullFilePath": "/nvmen1Scratch/origData/htan-tnp-sardana-hms-prerelease-phase-1-data/WD-76845-006.ome.tif",
            "outputFile": "WD-76845-006.lzma.ome.tif",
            "tileString": [
             "-8",
             "-t",
             "-w",
             "256",
             "-l",
             "256",
             "-L"
            ]
           },
           29.787653331244407,
           4.3107973281418905
          ],
          [
           "5ee92406557b784b56fd9993",
           "WD-76845-001.ome.tif",
           13048699267,
           2544.670735359192,
           3580721362,
           null,
           "lzma",
           27.441213018492967,
           null,
           [
            "-8",
            "-t",
            "-w",
            "256",
            "-l",
            "256",
            "-L"
           ],
           "/nvmen1Scratch/origData/htan-tnp-sardana-hms-prerelease-phase-1-data/recompressed/WD-76845-001.lzma.ome.tif",
           {
            "compressionMethod": "lzma",
            "filename": "WD-76845-001.ome.tif",
            "fullFilePath": "/nvmen1Scratch/origData/htan-tnp-sardana-hms-prerelease-phase-1-data/WD-76845-001.ome.tif",
            "outputFile": "WD-76845-001.lzma.ome.tif",
            "tileString": [
             "-8",
             "-t",
             "-w",
             "256",
             "-l",
             "256",
             "-L"
            ]
           },
           27.441213018492967,
           5.127853708412345
          ],
          [
           "5ee96701b4a211c4a5fd998e",
           "WD-76845-007.ome.tif",
           86067983704,
           21207.84808945656,
           37796236820,
           null,
           "lzma",
           43.91439789037771,
           null,
           [
            "-8",
            "-t",
            "-w",
            "256",
            "-l",
            "256",
            "-L"
           ],
           "/nvmen1Scratch/origData/htan-tnp-sardana-hms-prerelease-phase-1-data/recompressed/WD-76845-007.lzma.ome.tif",
           {
            "compressionMethod": "lzma",
            "filename": "WD-76845-007.ome.tif",
            "fullFilePath": "/nvmen1Scratch/origData/htan-tnp-sardana-hms-prerelease-phase-1-data/WD-76845-007.ome.tif",
            "outputFile": "WD-76845-007.lzma.ome.tif",
            "tileString": [
             "-8",
             "-t",
             "-w",
             "256",
             "-l",
             "256",
             "-L"
            ]
           },
           43.91439789037771,
           4.058308195200084
          ],
          [
           "5ee96fde9d5f656653fd998e",
           "WD-76845-002.ome.tif",
           94540542424,
           23476.948788881302,
           40679166408,
           null,
           "lzma",
           43.028276932831744,
           null,
           [
            "-8",
            "-t",
            "-w",
            "256",
            "-l",
            "256",
            "-L"
           ],
           "/nvmen1Scratch/origData/htan-tnp-sardana-hms-prerelease-phase-1-data/recompressed/WD-76845-002.lzma.ome.tif",
           {
            "compressionMethod": "lzma",
            "filename": "WD-76845-002.ome.tif",
            "fullFilePath": "/nvmen1Scratch/origData/htan-tnp-sardana-hms-prerelease-phase-1-data/WD-76845-002.ome.tif",
            "outputFile": "WD-76845-002.lzma.ome.tif",
            "tileString": [
             "-8",
             "-t",
             "-w",
             "256",
             "-l",
             "256",
             "-L"
            ]
           },
           43.028276932831744,
           4.026951852822308
          ]
         ],
         "fillcolor": "rgba(255,255,255,0)",
         "hoveron": "points",
         "hovertemplate": "compressionMethod=%{customdata[6]}<br>executionTime=%{customdata[3]}<br>_id=%{customdata[0]}<br>origFileName=%{customdata[1]}<br>origFileSize=%{customdata[2]}<br>compressedFileSize=%{customdata[4]}<br>compressionOptions=%{customdata[5]}<br>compressionRate=%{customdata[7]}<br>outputFileName=%{customdata[8]}<br>tileInfo=%{customdata[9]}<br>outputFileNamewPath=%{customdata[10]}<br>origCompressionDict=%{customdata[11]}<br>compressionRatio=%{customdata[12]}<br>mbytesPerSec=%{customdata[13]}<extra></extra>",
         "jitter": 0,
         "legendgroup": "lzma",
         "line": {
          "color": "rgba(255,255,255,0)"
         },
         "marker": {
          "color": "#ab63fa",
          "symbol": "line-ns-open"
         },
         "name": "lzma",
         "offsetgroup": "lzma",
         "showlegend": false,
         "type": "box",
         "x": [
          2745.2994956970215,
          2544.670735359192,
          21207.84808945656,
          23476.948788881302
         ],
         "xaxis": "x2",
         "yaxis": "y2"
        }
       ],
       "layout": {
        "barmode": "relative",
        "legend": {
         "title": {
          "text": "compressionMethod"
         },
         "tracegroupgap": 0
        },
        "margin": {
         "t": 60
        },
        "template": {
         "data": {
          "bar": [
           {
            "error_x": {
             "color": "#2a3f5f"
            },
            "error_y": {
             "color": "#2a3f5f"
            },
            "marker": {
             "line": {
              "color": "#E5ECF6",
              "width": 0.5
             }
            },
            "type": "bar"
           }
          ],
          "barpolar": [
           {
            "marker": {
             "line": {
              "color": "#E5ECF6",
              "width": 0.5
             }
            },
            "type": "barpolar"
           }
          ],
          "carpet": [
           {
            "aaxis": {
             "endlinecolor": "#2a3f5f",
             "gridcolor": "white",
             "linecolor": "white",
             "minorgridcolor": "white",
             "startlinecolor": "#2a3f5f"
            },
            "baxis": {
             "endlinecolor": "#2a3f5f",
             "gridcolor": "white",
             "linecolor": "white",
             "minorgridcolor": "white",
             "startlinecolor": "#2a3f5f"
            },
            "type": "carpet"
           }
          ],
          "choropleth": [
           {
            "colorbar": {
             "outlinewidth": 0,
             "ticks": ""
            },
            "type": "choropleth"
           }
          ],
          "contour": [
           {
            "colorbar": {
             "outlinewidth": 0,
             "ticks": ""
            },
            "colorscale": [
             [
              0,
              "#0d0887"
             ],
             [
              0.1111111111111111,
              "#46039f"
             ],
             [
              0.2222222222222222,
              "#7201a8"
             ],
             [
              0.3333333333333333,
              "#9c179e"
             ],
             [
              0.4444444444444444,
              "#bd3786"
             ],
             [
              0.5555555555555556,
              "#d8576b"
             ],
             [
              0.6666666666666666,
              "#ed7953"
             ],
             [
              0.7777777777777778,
              "#fb9f3a"
             ],
             [
              0.8888888888888888,
              "#fdca26"
             ],
             [
              1,
              "#f0f921"
             ]
            ],
            "type": "contour"
           }
          ],
          "contourcarpet": [
           {
            "colorbar": {
             "outlinewidth": 0,
             "ticks": ""
            },
            "type": "contourcarpet"
           }
          ],
          "heatmap": [
           {
            "colorbar": {
             "outlinewidth": 0,
             "ticks": ""
            },
            "colorscale": [
             [
              0,
              "#0d0887"
             ],
             [
              0.1111111111111111,
              "#46039f"
             ],
             [
              0.2222222222222222,
              "#7201a8"
             ],
             [
              0.3333333333333333,
              "#9c179e"
             ],
             [
              0.4444444444444444,
              "#bd3786"
             ],
             [
              0.5555555555555556,
              "#d8576b"
             ],
             [
              0.6666666666666666,
              "#ed7953"
             ],
             [
              0.7777777777777778,
              "#fb9f3a"
             ],
             [
              0.8888888888888888,
              "#fdca26"
             ],
             [
              1,
              "#f0f921"
             ]
            ],
            "type": "heatmap"
           }
          ],
          "heatmapgl": [
           {
            "colorbar": {
             "outlinewidth": 0,
             "ticks": ""
            },
            "colorscale": [
             [
              0,
              "#0d0887"
             ],
             [
              0.1111111111111111,
              "#46039f"
             ],
             [
              0.2222222222222222,
              "#7201a8"
             ],
             [
              0.3333333333333333,
              "#9c179e"
             ],
             [
              0.4444444444444444,
              "#bd3786"
             ],
             [
              0.5555555555555556,
              "#d8576b"
             ],
             [
              0.6666666666666666,
              "#ed7953"
             ],
             [
              0.7777777777777778,
              "#fb9f3a"
             ],
             [
              0.8888888888888888,
              "#fdca26"
             ],
             [
              1,
              "#f0f921"
             ]
            ],
            "type": "heatmapgl"
           }
          ],
          "histogram": [
           {
            "marker": {
             "colorbar": {
              "outlinewidth": 0,
              "ticks": ""
             }
            },
            "type": "histogram"
           }
          ],
          "histogram2d": [
           {
            "colorbar": {
             "outlinewidth": 0,
             "ticks": ""
            },
            "colorscale": [
             [
              0,
              "#0d0887"
             ],
             [
              0.1111111111111111,
              "#46039f"
             ],
             [
              0.2222222222222222,
              "#7201a8"
             ],
             [
              0.3333333333333333,
              "#9c179e"
             ],
             [
              0.4444444444444444,
              "#bd3786"
             ],
             [
              0.5555555555555556,
              "#d8576b"
             ],
             [
              0.6666666666666666,
              "#ed7953"
             ],
             [
              0.7777777777777778,
              "#fb9f3a"
             ],
             [
              0.8888888888888888,
              "#fdca26"
             ],
             [
              1,
              "#f0f921"
             ]
            ],
            "type": "histogram2d"
           }
          ],
          "histogram2dcontour": [
           {
            "colorbar": {
             "outlinewidth": 0,
             "ticks": ""
            },
            "colorscale": [
             [
              0,
              "#0d0887"
             ],
             [
              0.1111111111111111,
              "#46039f"
             ],
             [
              0.2222222222222222,
              "#7201a8"
             ],
             [
              0.3333333333333333,
              "#9c179e"
             ],
             [
              0.4444444444444444,
              "#bd3786"
             ],
             [
              0.5555555555555556,
              "#d8576b"
             ],
             [
              0.6666666666666666,
              "#ed7953"
             ],
             [
              0.7777777777777778,
              "#fb9f3a"
             ],
             [
              0.8888888888888888,
              "#fdca26"
             ],
             [
              1,
              "#f0f921"
             ]
            ],
            "type": "histogram2dcontour"
           }
          ],
          "mesh3d": [
           {
            "colorbar": {
             "outlinewidth": 0,
             "ticks": ""
            },
            "type": "mesh3d"
           }
          ],
          "parcoords": [
           {
            "line": {
             "colorbar": {
              "outlinewidth": 0,
              "ticks": ""
             }
            },
            "type": "parcoords"
           }
          ],
          "pie": [
           {
            "automargin": true,
            "type": "pie"
           }
          ],
          "scatter": [
           {
            "marker": {
             "colorbar": {
              "outlinewidth": 0,
              "ticks": ""
             }
            },
            "type": "scatter"
           }
          ],
          "scatter3d": [
           {
            "line": {
             "colorbar": {
              "outlinewidth": 0,
              "ticks": ""
             }
            },
            "marker": {
             "colorbar": {
              "outlinewidth": 0,
              "ticks": ""
             }
            },
            "type": "scatter3d"
           }
          ],
          "scattercarpet": [
           {
            "marker": {
             "colorbar": {
              "outlinewidth": 0,
              "ticks": ""
             }
            },
            "type": "scattercarpet"
           }
          ],
          "scattergeo": [
           {
            "marker": {
             "colorbar": {
              "outlinewidth": 0,
              "ticks": ""
             }
            },
            "type": "scattergeo"
           }
          ],
          "scattergl": [
           {
            "marker": {
             "colorbar": {
              "outlinewidth": 0,
              "ticks": ""
             }
            },
            "type": "scattergl"
           }
          ],
          "scattermapbox": [
           {
            "marker": {
             "colorbar": {
              "outlinewidth": 0,
              "ticks": ""
             }
            },
            "type": "scattermapbox"
           }
          ],
          "scatterpolar": [
           {
            "marker": {
             "colorbar": {
              "outlinewidth": 0,
              "ticks": ""
             }
            },
            "type": "scatterpolar"
           }
          ],
          "scatterpolargl": [
           {
            "marker": {
             "colorbar": {
              "outlinewidth": 0,
              "ticks": ""
             }
            },
            "type": "scatterpolargl"
           }
          ],
          "scatterternary": [
           {
            "marker": {
             "colorbar": {
              "outlinewidth": 0,
              "ticks": ""
             }
            },
            "type": "scatterternary"
           }
          ],
          "surface": [
           {
            "colorbar": {
             "outlinewidth": 0,
             "ticks": ""
            },
            "colorscale": [
             [
              0,
              "#0d0887"
             ],
             [
              0.1111111111111111,
              "#46039f"
             ],
             [
              0.2222222222222222,
              "#7201a8"
             ],
             [
              0.3333333333333333,
              "#9c179e"
             ],
             [
              0.4444444444444444,
              "#bd3786"
             ],
             [
              0.5555555555555556,
              "#d8576b"
             ],
             [
              0.6666666666666666,
              "#ed7953"
             ],
             [
              0.7777777777777778,
              "#fb9f3a"
             ],
             [
              0.8888888888888888,
              "#fdca26"
             ],
             [
              1,
              "#f0f921"
             ]
            ],
            "type": "surface"
           }
          ],
          "table": [
           {
            "cells": {
             "fill": {
              "color": "#EBF0F8"
             },
             "line": {
              "color": "white"
             }
            },
            "header": {
             "fill": {
              "color": "#C8D4E3"
             },
             "line": {
              "color": "white"
             }
            },
            "type": "table"
           }
          ]
         },
         "layout": {
          "annotationdefaults": {
           "arrowcolor": "#2a3f5f",
           "arrowhead": 0,
           "arrowwidth": 1
          },
          "coloraxis": {
           "colorbar": {
            "outlinewidth": 0,
            "ticks": ""
           }
          },
          "colorscale": {
           "diverging": [
            [
             0,
             "#8e0152"
            ],
            [
             0.1,
             "#c51b7d"
            ],
            [
             0.2,
             "#de77ae"
            ],
            [
             0.3,
             "#f1b6da"
            ],
            [
             0.4,
             "#fde0ef"
            ],
            [
             0.5,
             "#f7f7f7"
            ],
            [
             0.6,
             "#e6f5d0"
            ],
            [
             0.7,
             "#b8e186"
            ],
            [
             0.8,
             "#7fbc41"
            ],
            [
             0.9,
             "#4d9221"
            ],
            [
             1,
             "#276419"
            ]
           ],
           "sequential": [
            [
             0,
             "#0d0887"
            ],
            [
             0.1111111111111111,
             "#46039f"
            ],
            [
             0.2222222222222222,
             "#7201a8"
            ],
            [
             0.3333333333333333,
             "#9c179e"
            ],
            [
             0.4444444444444444,
             "#bd3786"
            ],
            [
             0.5555555555555556,
             "#d8576b"
            ],
            [
             0.6666666666666666,
             "#ed7953"
            ],
            [
             0.7777777777777778,
             "#fb9f3a"
            ],
            [
             0.8888888888888888,
             "#fdca26"
            ],
            [
             1,
             "#f0f921"
            ]
           ],
           "sequentialminus": [
            [
             0,
             "#0d0887"
            ],
            [
             0.1111111111111111,
             "#46039f"
            ],
            [
             0.2222222222222222,
             "#7201a8"
            ],
            [
             0.3333333333333333,
             "#9c179e"
            ],
            [
             0.4444444444444444,
             "#bd3786"
            ],
            [
             0.5555555555555556,
             "#d8576b"
            ],
            [
             0.6666666666666666,
             "#ed7953"
            ],
            [
             0.7777777777777778,
             "#fb9f3a"
            ],
            [
             0.8888888888888888,
             "#fdca26"
            ],
            [
             1,
             "#f0f921"
            ]
           ]
          },
          "colorway": [
           "#636efa",
           "#EF553B",
           "#00cc96",
           "#ab63fa",
           "#FFA15A",
           "#19d3f3",
           "#FF6692",
           "#B6E880",
           "#FF97FF",
           "#FECB52"
          ],
          "font": {
           "color": "#2a3f5f"
          },
          "geo": {
           "bgcolor": "white",
           "lakecolor": "white",
           "landcolor": "#E5ECF6",
           "showlakes": true,
           "showland": true,
           "subunitcolor": "white"
          },
          "hoverlabel": {
           "align": "left"
          },
          "hovermode": "closest",
          "mapbox": {
           "style": "light"
          },
          "paper_bgcolor": "white",
          "plot_bgcolor": "#E5ECF6",
          "polar": {
           "angularaxis": {
            "gridcolor": "white",
            "linecolor": "white",
            "ticks": ""
           },
           "bgcolor": "#E5ECF6",
           "radialaxis": {
            "gridcolor": "white",
            "linecolor": "white",
            "ticks": ""
           }
          },
          "scene": {
           "xaxis": {
            "backgroundcolor": "#E5ECF6",
            "gridcolor": "white",
            "gridwidth": 2,
            "linecolor": "white",
            "showbackground": true,
            "ticks": "",
            "zerolinecolor": "white"
           },
           "yaxis": {
            "backgroundcolor": "#E5ECF6",
            "gridcolor": "white",
            "gridwidth": 2,
            "linecolor": "white",
            "showbackground": true,
            "ticks": "",
            "zerolinecolor": "white"
           },
           "zaxis": {
            "backgroundcolor": "#E5ECF6",
            "gridcolor": "white",
            "gridwidth": 2,
            "linecolor": "white",
            "showbackground": true,
            "ticks": "",
            "zerolinecolor": "white"
           }
          },
          "shapedefaults": {
           "line": {
            "color": "#2a3f5f"
           }
          },
          "ternary": {
           "aaxis": {
            "gridcolor": "white",
            "linecolor": "white",
            "ticks": ""
           },
           "baxis": {
            "gridcolor": "white",
            "linecolor": "white",
            "ticks": ""
           },
           "bgcolor": "#E5ECF6",
           "caxis": {
            "gridcolor": "white",
            "linecolor": "white",
            "ticks": ""
           }
          },
          "title": {
           "x": 0.05
          },
          "xaxis": {
           "automargin": true,
           "gridcolor": "white",
           "linecolor": "white",
           "ticks": "",
           "title": {
            "standoff": 15
           },
           "zerolinecolor": "white",
           "zerolinewidth": 2
          },
          "yaxis": {
           "automargin": true,
           "gridcolor": "white",
           "linecolor": "white",
           "ticks": "",
           "title": {
            "standoff": 15
           },
           "zerolinecolor": "white",
           "zerolinewidth": 2
          }
         }
        },
        "xaxis": {
         "anchor": "y",
         "domain": [
          0,
          1
         ],
         "title": {
          "text": "executionTime"
         }
        },
        "xaxis2": {
         "anchor": "y2",
         "domain": [
          0,
          1
         ],
         "matches": "x",
         "showgrid": true,
         "showticklabels": false
        },
        "yaxis": {
         "anchor": "x",
         "domain": [
          0,
          0.7326
         ],
         "title": {
          "text": "count"
         }
        },
        "yaxis2": {
         "anchor": "x2",
         "domain": [
          0.7426,
          1
         ],
         "matches": "y2",
         "showgrid": false,
         "showline": false,
         "showticklabels": false,
         "ticks": ""
        }
       }
      },
      "text/html": [
       "<div>\n",
       "        \n",
       "        \n",
       "            <div id=\"c0cb4348-d41a-464d-bf39-7d449c7d33a6\" class=\"plotly-graph-div\" style=\"height:525px; width:100%;\"></div>\n",
       "            <script type=\"text/javascript\">\n",
       "                require([\"plotly\"], function(Plotly) {\n",
       "                    window.PLOTLYENV=window.PLOTLYENV || {};\n",
       "                    \n",
       "                if (document.getElementById(\"c0cb4348-d41a-464d-bf39-7d449c7d33a6\")) {\n",
       "                    Plotly.newPlot(\n",
       "                        'c0cb4348-d41a-464d-bf39-7d449c7d33a6',\n",
       "                        [{\"alignmentgroup\": \"True\", \"bingroup\": \"x\", \"hovertemplate\": \"compressionMethod=lzw<br>executionTime=%{x}<br>count=%{y}<extra></extra>\", \"legendgroup\": \"lzw\", \"marker\": {\"color\": \"#636efa\"}, \"name\": \"lzw\", \"nbinsx\": 25, \"offsetgroup\": \"lzw\", \"orientation\": \"v\", \"showlegend\": true, \"type\": \"histogram\", \"x\": [135.89906549453735, 116.22998976707458, 119.89434885978699, 1266.774257183075, 1286.8319165706635, 123.52627038955688, 128.88972783088684, 1193.9273571968079, 1289.4169857501984, 1288.3613696098328, 177.7355818748474, 185.36460089683533, 1741.1346445083618, 2490.7977788448334, 488.829843044281, 512.6782660484314, 3891.0175154209137, 4155.21911907196, 394.52978110313416, 2325.1199984550476, 359.250296831131, 352.34321117401123, 2779.661639213562, 2629.0380370616913, 249.91202235221863, 2549.7107393741608, 311.8254120349884, 320.74815368652344, 408.48705291748047, 464.2224962711334, 423.34035325050354, 3466.1396527290344, 3894.479730606079, 4119.786567926407, 476.0803105831146, 3650.1974382400513, 438.32432436943054, 3622.485520839691, 3078.496503829956, 3100.2453513145447, 313.41111516952515, 3791.312817811966, 4233.785066604614, 358.8374652862549, 2593.189691066742, 295.3778717517853, 553.3601450920105, 4067.20813536644, 4285.834104776382, 4680.37166929245, 4650.57892537117, 4380.983438014984, 3284.824033021927, 3085.615531682968], \"xaxis\": \"x\", \"yaxis\": \"y\"}, {\"alignmentgroup\": \"True\", \"boxpoints\": \"all\", \"customdata\": [[\"5ee7f7e7fbd052c3f9f75082\", \"/nvmen1Scratch/origData/htan-tnp-sardana-hms-prerelease-phase-1-data/WD-76845-001.ome.tif\", 13048699267, 135.89906549453735, 5486731126, \"-8 -c lzw\", \"lzw\", 42.04810773649965, null, null, null, null, 42.04810773649965, 96.01757907249561], [\"5ee7f9c645d177623c9ad7e1\", \"/nvmen1Scratch/origData/htan-tnp-sardana-hms-prerelease-phase-1-data/WD-76845-001.ome.tif\", 13048699267, 116.22998976707458, 5486731126, \"-8 -c lzw\", \"lzw\", 42.04810773649965, \"/nvmen1Scratch/origData/htan-tnp-sardana-hms-prerelease-phase-1-data/recompressed/WD-76845-001.lzw.ome.tif\", null, null, null, 42.04810773649965, 112.26619991234321], [\"5ee7f9c96e4be911499ad7e1\", \"/nvmen1Scratch/origData/htan-tnp-sardana-hms-prerelease-phase-1-data/WD-76845-006.ome.tif\", 11834429731, 119.89434885978699, 5376970774, \"-8 -c lzw\", \"lzw\", 45.434979937522094, \"/nvmen1Scratch/origData/htan-tnp-sardana-hms-prerelease-phase-1-data/recompressed/WD-76845-006.lzw.ome.tif\", null, null, null, 45.434979937522094, 98.70715211807044], [\"5ee7fe44a0f28ea1959ad7e1\", \"/nvmen1Scratch/origData/htan-tnp-sardana-hms-prerelease-phase-1-data/WD-76845-007.ome.tif\", 86067983704, 1266.774257183075, 54576117220, \"-8 -c lzw\", \"lzw\", 63.410474919100004, \"/nvmen1Scratch/origData/htan-tnp-sardana-hms-prerelease-phase-1-data/recompressed/WD-76845-007.lzw.ome.tif\", null, null, null, 63.410474919100004, 67.94263714782879], [\"5ee7fe58074d7d0e5a9ad7e1\", \"/nvmen1Scratch/origData/htan-tnp-sardana-hms-prerelease-phase-1-data/WD-76845-002.ome.tif\", 94540542424, 1286.8319165706635, 59552482930, \"-8 -c lzw\", \"lzw\", 62.99147582940252, \"/nvmen1Scratch/origData/htan-tnp-sardana-hms-prerelease-phase-1-data/recompressed/WD-76845-002.lzw.ome.tif\", null, null, null, 62.99147582940252, 73.46766986938384], [\"5ee80dc7d34f8addb8feb1e6\", \"/nvmen1Scratch/origData/htan-tnp-sardana-hms-prerelease-phase-1-data/WD-76845-006.ome.tif\", 11834429731, 123.52627038955688, 5302035260, null, \"lzw\", 44.801780740743666, \"/nvmen1Scratch/origData/htan-tnp-sardana-hms-prerelease-phase-1-data/recompressed/WD-76845-006.lzw.ome.tif\", \"-t -w 256 -l 256 -L\", null, null, 44.801780740743666, 95.80496273123536], [\"5ee80dcc4c65fc3a1afeb1e6\", \"/nvmen1Scratch/origData/htan-tnp-sardana-hms-prerelease-phase-1-data/WD-76845-001.ome.tif\", 13048699267, 128.88972783088684, 5422832366, null, \"lzw\", 41.55841325667055, \"/nvmen1Scratch/origData/htan-tnp-sardana-hms-prerelease-phase-1-data/recompressed/WD-76845-001.lzw.ome.tif\", \"-t -w 256 -l 256 -L\", null, null, 41.55841325667055, 101.239249136447], [\"5ee811f6f2d1b0d29ffeb1e6\", \"/nvmen1Scratch/origData/htan-tnp-sardana-hms-prerelease-phase-1-data/WD-76845-007.ome.tif\", 86067983704, 1193.9273571968079, 52598174256, null, \"lzw\", 61.11235792033026, \"/nvmen1Scratch/origData/htan-tnp-sardana-hms-prerelease-phase-1-data/recompressed/WD-76845-007.lzw.ome.tif\", \"-t -w 256 -l 256 -L\", null, null, 61.11235792033026, 72.08812427757486], [\"5ee81255fd0d94850bfeb1e6\", \"/nvmen1Scratch/origData/htan-tnp-sardana-hms-prerelease-phase-1-data/WD-76845-002.ome.tif\", 94540542424, 1289.4169857501984, 56312280676, null, \"lzw\", 59.564160763377004, \"/nvmen1Scratch/origData/htan-tnp-sardana-hms-prerelease-phase-1-data/recompressed/WD-76845-002.lzw.ome.tif\", \"-t -w 256 -l 256 -L\", null, null, 59.564160763377004, 73.32037926349727], [\"5ee8ed91ecf21f6181ed4920\", \"WD-76845-002.ome.tif\", 94540542424, 1288.3613696098328, 56312280676, null, \"lzw\", 59.564160763377004, null, [\"-8\", \"-t\", \"-w\", \"256\", \"-l\", \"256\", \"-L\"], \"/nvmen1Scratch/origData/htan-tnp-sardana-hms-prerelease-phase-1-data/recompressed/WD-76845-002.lzw.ome.tif\", {\"compressionMethod\": \"lzw\", \"filename\": \"WD-76845-002.ome.tif\", \"fullFilePath\": \"/nvmen1Scratch/origData/htan-tnp-sardana-hms-prerelease-phase-1-data/WD-76845-002.ome.tif\", \"outputFile\": \"WD-76845-002.lzw.ome.tif\", \"tileString\": [\"-8\", \"-t\", \"-w\", \"256\", \"-l\", \"256\", \"-L\"]}, 59.564160763377004, 73.3804541598687], [\"5ee914db557b784b56fd998e\", \"WD-76845-006.ome.tif\", 11834429731, 177.7355818748474, 5302035260, null, \"lzw\", 44.801780740743666, null, [\"-8\", \"-t\", \"-w\", \"256\", \"-l\", \"256\", \"-L\"], \"/nvmen1Scratch/origData/htan-tnp-sardana-hms-prerelease-phase-1-data/recompressed/WD-76845-006.lzw.ome.tif\", {\"compressionMethod\": \"lzw\", \"filename\": \"WD-76845-006.ome.tif\", \"fullFilePath\": \"/nvmen1Scratch/origData/htan-tnp-sardana-hms-prerelease-phase-1-data/WD-76845-006.ome.tif\", \"outputFile\": \"WD-76845-006.lzw.ome.tif\", \"tileString\": [\"-8\", \"-t\", \"-w\", \"256\", \"-l\", \"256\", \"-L\"]}, 44.801780740743666, 66.58447119121719], [\"5ee91722557b784b56fd9990\", \"WD-76845-001.ome.tif\", 13048699267, 185.36460089683533, 5422832366, null, \"lzw\", 41.55841325667055, null, [\"-8\", \"-t\", \"-w\", \"256\", \"-l\", \"256\", \"-L\"], \"/nvmen1Scratch/origData/htan-tnp-sardana-hms-prerelease-phase-1-data/recompressed/WD-76845-001.lzw.ome.tif\", {\"compressionMethod\": \"lzw\", \"filename\": \"WD-76845-001.ome.tif\", \"fullFilePath\": \"/nvmen1Scratch/origData/htan-tnp-sardana-hms-prerelease-phase-1-data/WD-76845-001.ome.tif\", \"outputFile\": \"WD-76845-001.lzw.ome.tif\", \"tileString\": [\"-8\", \"-t\", \"-w\", \"256\", \"-l\", \"256\", \"-L\"]}, 41.55841325667055, 70.39477442762792], [\"5ee91af708b2d1a8fefd998e\", \"WD-76845-007.ome.tif\", 86067983704, 1741.1346445083618, 52598174256, null, \"lzw\", 61.11235792033026, null, [\"-8\", \"-t\", \"-w\", \"256\", \"-l\", \"256\", \"-L\"], \"/nvmen1Scratch/origData/htan-tnp-sardana-hms-prerelease-phase-1-data/recompressed/WD-76845-007.lzw.ome.tif\", {\"compressionMethod\": \"lzw\", \"filename\": \"WD-76845-007.ome.tif\", \"fullFilePath\": \"/nvmen1Scratch/origData/htan-tnp-sardana-hms-prerelease-phase-1-data/WD-76845-007.ome.tif\", \"outputFile\": \"WD-76845-007.lzw.ome.tif\", \"tileString\": [\"-8\", \"-t\", \"-w\", \"256\", \"-l\", \"256\", \"-L\"]}, 61.11235792033026, 49.43212403214383], [\"5ee93dac27c36180e3eadea9\", \"WD-76845-002.ome.tif\", 94540542424, 2490.7977788448334, 56312280676, null, \"lzw\", 59.564160763377004, null, [\"-8\", \"-t\", \"-w\", \"256\", \"-l\", \"256\", \"-L\"], \"/nvmen1Scratch/origData/htan-tnp-sardana-hms-prerelease-phase-1-data/recompressed/WD-76845-002.lzw.ome.tif\", {\"compressionMethod\": \"lzw\", \"filename\": \"WD-76845-002.ome.tif\", \"fullFilePath\": \"/s3FuseMounts/dgutman-htan-s3-synapse/htan-tnp-sardana-hms-prerelease-phase-1-data/WD-76845-002.ome.tif\", \"outputFile\": \"WD-76845-002.lzw.ome.tif\", \"tileString\": [\"-8\", \"-t\", \"-w\", \"256\", \"-l\", \"256\", \"-L\"]}, 59.564160763377004, 37.95592850891549], [\"5ee957df1a4aa37fe2038555\", \"WD-76845-085.ome.tif\", 11384583763, 488.829843044281, 5686143918, null, \"lzw\", 49.94599746790936, null, [\"-8\", \"-t\", \"-w\", \"256\", \"-l\", \"256\", \"-L\"], \"/nvmen1Scratch/origData/htan-tnp-sardana-hms-prerelease-phase-1-data/recompressed/WD-76845-085.lzw.ome.tif\", {\"compressionMethod\": \"lzw\", \"filename\": \"WD-76845-085.ome.tif\", \"fullFilePath\": \"/s3FuseMounts/dgutman-htan-s3-synapse/htan-tnp-sardana-hms-prerelease-phase-1-data/WD-76845-085.ome.tif\", \"outputFile\": \"WD-76845-085.lzw.ome.tif\", \"tileString\": [\"-8\", \"-t\", \"-w\", \"256\", \"-l\", \"256\", \"-L\"]}, 49.94599746790936, 23.289461404607245], [\"5ee95ec31a4aa37fe2038558\", \"WD-76845-043.ome.tif\", 11834429731, 512.6782660484314, 5686601270, null, \"lzw\", 48.051333264534804, null, [\"-8\", \"-t\", \"-w\", \"256\", \"-l\", \"256\", \"-L\"], \"/nvmen1Scratch/origData/htan-tnp-sardana-hms-prerelease-phase-1-data/recompressed/WD-76845-043.lzw.ome.tif\", {\"compressionMethod\": \"lzw\", \"filename\": \"WD-76845-043.ome.tif\", \"fullFilePath\": \"/s3FuseMounts/dgutman-htan-s3-synapse/htan-tnp-sardana-hms-prerelease-phase-1-data/WD-76845-043.ome.tif\", \"outputFile\": \"WD-76845-043.lzw.ome.tif\", \"tileString\": [\"-8\", \"-t\", \"-w\", \"256\", \"-l\", \"256\", \"-L\"]}, 48.051333264534804, 23.083540915857807], [\"5ee96213c8c1e225d3038554\", \"WD-76845-044.ome.tif\", 82209194584, 3891.0175154209137, 50697741492, null, \"lzw\", 61.66918645602091, null, [\"-8\", \"-t\", \"-w\", \"256\", \"-l\", \"256\", \"-L\"], \"/nvmen1Scratch/origData/htan-tnp-sardana-hms-prerelease-phase-1-data/recompressed/WD-76845-044.lzw.ome.tif\", {\"compressionMethod\": \"lzw\", \"filename\": \"WD-76845-044.ome.tif\", \"fullFilePath\": \"/s3FuseMounts/dgutman-htan-s3-synapse/htan-tnp-sardana-hms-prerelease-phase-1-data/WD-76845-044.ome.tif\", \"outputFile\": \"WD-76845-044.lzw.ome.tif\", \"tileString\": [\"-8\", \"-t\", \"-w\", \"256\", \"-l\", \"256\", \"-L\"]}, 61.66918645602091, 21.127942564685927], [\"5ee9631b1e0218235a038554\", \"WD-76845-007.ome.tif\", 86067983704, 4155.21911907196, 52598174256, null, \"lzw\", 61.11235792033026, null, [\"-8\", \"-t\", \"-w\", \"256\", \"-l\", \"256\", \"-L\"], \"/nvmen1Scratch/origData/htan-tnp-sardana-hms-prerelease-phase-1-data/recompressed/WD-76845-007.lzw.ome.tif\", {\"compressionMethod\": \"lzw\", \"filename\": \"WD-76845-007.ome.tif\", \"fullFilePath\": \"/s3FuseMounts/dgutman-htan-s3-synapse/htan-tnp-sardana-hms-prerelease-phase-1-data/WD-76845-007.ome.tif\", \"outputFile\": \"WD-76845-007.lzw.ome.tif\", \"tileString\": [\"-8\", \"-t\", \"-w\", \"256\", \"-l\", \"256\", \"-L\"]}, 61.11235792033026, 20.713223836730588], [\"5ee9639ec8c1e225d3038555\", \"WD-76845-024.ome.tif\", 11834429731, 394.52978110313416, 5777755388, null, \"lzw\", 48.821578388904626, null, [\"-8\", \"-t\", \"-w\", \"256\", \"-l\", \"256\", \"-L\"], \"/nvmen1Scratch/origData/htan-tnp-sardana-hms-prerelease-phase-1-data/recompressed/WD-76845-024.lzw.ome.tif\", {\"compressionMethod\": \"lzw\", \"filename\": \"WD-76845-024.ome.tif\", \"fullFilePath\": \"/s3FuseMounts/dgutman-htan-s3-synapse/htan-tnp-sardana-hms-prerelease-phase-1-data/WD-76845-024.ome.tif\", \"outputFile\": \"WD-76845-024.lzw.ome.tif\", \"tileString\": [\"-8\", \"-t\", \"-w\", \"256\", \"-l\", \"256\", \"-L\"]}, 48.821578388904626, 29.99629000860231], [\"5ee978f607c5a13130038555\", \"WD-76845-102.ome.tif\", 77763198424, 2325.1199984550476, 48963355754, null, \"lzw\", 62.964688626912846, null, [\"-8\", \"-t\", \"-w\", \"256\", \"-l\", \"256\", \"-L\"], \"/nvmen1Scratch/origData/htan-tnp-sardana-hms-prerelease-phase-1-data/recompressed/WD-76845-102.lzw.ome.tif\", {\"compressionMethod\": \"lzw\", \"filename\": \"WD-76845-102.ome.tif\", \"fullFilePath\": \"/s3FuseMounts/dgutman-htan-s3-synapse/htan-tnp-sardana-hms-prerelease-phase-1-data/WD-76845-102.ome.tif\", \"outputFile\": \"WD-76845-102.lzw.ome.tif\", \"tileString\": [\"-8\", \"-t\", \"-w\", \"256\", \"-l\", \"256\", \"-L\"]}, 62.964688626912846, 33.4448107950001], [\"5ee97a5e07c5a13130038556\", \"WD-76845-101.ome.tif\", 11221003432, 359.250296831131, 5348158264, null, \"lzw\", 47.66203215612741, null, [\"-8\", \"-t\", \"-w\", \"256\", \"-l\", \"256\", \"-L\"], \"/nvmen1Scratch/origData/htan-tnp-sardana-hms-prerelease-phase-1-data/recompressed/WD-76845-101.lzw.ome.tif\", {\"compressionMethod\": \"lzw\", \"filename\": \"WD-76845-101.ome.tif\", \"fullFilePath\": \"/s3FuseMounts/dgutman-htan-s3-synapse/htan-tnp-sardana-hms-prerelease-phase-1-data/WD-76845-101.ome.tif\", \"outputFile\": \"WD-76845-101.lzw.ome.tif\", \"tileString\": [\"-8\", \"-t\", \"-w\", \"256\", \"-l\", \"256\", \"-L\"]}, 47.66203215612741, 31.234500099173303], [\"5ee97bbe07c5a13130038557\", \"WD-76845-028.ome.tif\", 10812052531, 352.34321117401123, 5674659060, null, \"lzw\", 52.48456797384016, null, [\"-8\", \"-t\", \"-w\", \"256\", \"-l\", \"256\", \"-L\"], \"/nvmen1Scratch/origData/htan-tnp-sardana-hms-prerelease-phase-1-data/recompressed/WD-76845-028.lzw.ome.tif\", {\"compressionMethod\": \"lzw\", \"filename\": \"WD-76845-028.ome.tif\", \"fullFilePath\": \"/s3FuseMounts/dgutman-htan-s3-synapse/htan-tnp-sardana-hms-prerelease-phase-1-data/WD-76845-028.ome.tif\", \"outputFile\": \"WD-76845-028.lzw.ome.tif\", \"tileString\": [\"-8\", \"-t\", \"-w\", \"256\", \"-l\", \"256\", \"-L\"]}, 52.48456797384016, 30.686138367684535], [\"5ee97e7429adeff7e7038555\", \"WD-76845-025.ome.tif\", 89758999384, 2779.661639213562, 54184674784, null, \"lzw\", 60.36684360995528, null, [\"-8\", \"-t\", \"-w\", \"256\", \"-l\", \"256\", \"-L\"], \"/nvmen1Scratch/origData/htan-tnp-sardana-hms-prerelease-phase-1-data/recompressed/WD-76845-025.lzw.ome.tif\", {\"compressionMethod\": \"lzw\", \"filename\": \"WD-76845-025.ome.tif\", \"fullFilePath\": \"/s3FuseMounts/dgutman-htan-s3-synapse/htan-tnp-sardana-hms-prerelease-phase-1-data/WD-76845-025.ome.tif\", \"outputFile\": \"WD-76845-025.lzw.ome.tif\", \"tileString\": [\"-8\", \"-t\", \"-w\", \"256\", \"-l\", \"256\", \"-L\"]}, 60.36684360995528, 32.29134011051616], [\"5ee97f9b492ea78385038556\", \"WD-76845-054.ome.tif\", 80028139864, 2629.0380370616913, 49675822764, null, \"lzw\", 62.072944402330485, null, [\"-8\", \"-t\", \"-w\", \"256\", \"-l\", \"256\", \"-L\"], \"/nvmen1Scratch/origData/htan-tnp-sardana-hms-prerelease-phase-1-data/recompressed/WD-76845-054.lzw.ome.tif\", {\"compressionMethod\": \"lzw\", \"filename\": \"WD-76845-054.ome.tif\", \"fullFilePath\": \"/s3FuseMounts/dgutman-htan-s3-synapse/htan-tnp-sardana-hms-prerelease-phase-1-data/WD-76845-054.ome.tif\", \"outputFile\": \"WD-76845-054.lzw.ome.tif\", \"tileString\": [\"-8\", \"-t\", \"-w\", \"256\", \"-l\", \"256\", \"-L\"]}, 62.072944402330485, 30.440084447558], [\"5ee9815d29adeff7e7038557\", \"WD-76845-077.ome.tif\", 11221003411, 249.91202235221863, 5333104608, null, \"lzw\", 47.52787618593836, null, [\"-8\", \"-t\", \"-w\", \"256\", \"-l\", \"256\", \"-L\"], \"/nvmen1Scratch/origData/htan-tnp-sardana-hms-prerelease-phase-1-data/recompressed/WD-76845-077.lzw.ome.tif\", {\"compressionMethod\": \"lzw\", \"filename\": \"WD-76845-077.ome.tif\", \"fullFilePath\": \"/s3FuseMounts/dgutman-htan-s3-synapse/htan-tnp-sardana-hms-prerelease-phase-1-data/WD-76845-077.ome.tif\", \"outputFile\": \"WD-76845-077.lzw.ome.tif\", \"tileString\": [\"-8\", \"-t\", \"-w\", \"256\", \"-l\", \"256\", \"-L\"]}, 47.52787618593836, 44.899814364214336], [\"5ee982359d5df40196038557\", \"WD-76845-034.ome.tif\", 88249038424, 2549.7107393741608, 55935291888, null, \"lzw\", 63.38345764092538, null, [\"-8\", \"-t\", \"-w\", \"256\", \"-l\", \"256\", \"-L\"], \"/nvmen1Scratch/origData/htan-tnp-sardana-hms-prerelease-phase-1-data/recompressed/WD-76845-034.lzw.ome.tif\", {\"compressionMethod\": \"lzw\", \"filename\": \"WD-76845-034.ome.tif\", \"fullFilePath\": \"/s3FuseMounts/dgutman-htan-s3-synapse/htan-tnp-sardana-hms-prerelease-phase-1-data/WD-76845-034.ome.tif\", \"outputFile\": \"WD-76845-034.lzw.ome.tif\", \"tileString\": [\"-8\", \"-t\", \"-w\", \"256\", \"-l\", \"256\", \"-L\"]}, 63.38345764092538, 34.61139221057726], [\"5eea004a049ce574635fe9a3\", \"WD-76845-090.ome.tif\", 10657909507, 311.8254120349884, 5365610240, null, \"lzw\", 50.34392754485225, null, [\"-8\", \"-t\", \"-w\", \"256\", \"-l\", \"256\", \"-L\"], \"/nvmen1Scratch/origData/htan-tnp-sardana-hms-prerelease-phase-1-data/recompressed/WD-76845-090.lzw.ome.tif\", {\"compressionMethod\": \"lzw\", \"filename\": \"WD-76845-090.ome.tif\", \"fullFilePath\": \"/s3FuseMounts/dgutman-htan-s3-synapse/htan-tnp-sardana-hms-prerelease-phase-1-data/WD-76845-090.ome.tif\", \"outputFile\": \"WD-76845-090.lzw.ome.tif\", \"tileString\": [\"-8\", \"-t\", \"-w\", \"256\", \"-l\", \"256\", \"-L\"]}, 50.34392754485225, 34.17909219600143], [\"5eea0053bb2b0550615fe9a3\", \"WD-76845-096.ome.tif\", 11384583763, 320.74815368652344, 5571920518, null, \"lzw\", 48.94268103247474, null, [\"-8\", \"-t\", \"-w\", \"256\", \"-l\", \"256\", \"-L\"], \"/nvmen1Scratch/origData/htan-tnp-sardana-hms-prerelease-phase-1-data/recompressed/WD-76845-096.lzw.ome.tif\", {\"compressionMethod\": \"lzw\", \"filename\": \"WD-76845-096.ome.tif\", \"fullFilePath\": \"/s3FuseMounts/dgutman-htan-s3-synapse/htan-tnp-sardana-hms-prerelease-phase-1-data/WD-76845-096.ome.tif\", \"outputFile\": \"WD-76845-096.lzw.ome.tif\", \"tileString\": [\"-8\", \"-t\", \"-w\", \"256\", \"-l\", \"256\", \"-L\"]}, 48.94268103247474, 35.493840360891014], [\"5eea00abc617b77de35fe9a3\", \"WD-76845-019.ome.tif\", 13674708691, 408.48705291748047, 5832979060, null, \"lzw\", 42.65523450484156, null, [\"-8\", \"-t\", \"-w\", \"256\", \"-l\", \"256\", \"-L\"], \"/nvmen1Scratch/origData/htan-tnp-sardana-hms-prerelease-phase-1-data/recompressed/WD-76845-019.lzw.ome.tif\", {\"compressionMethod\": \"lzw\", \"filename\": \"WD-76845-019.ome.tif\", \"fullFilePath\": \"/s3FuseMounts/dgutman-htan-s3-synapse/htan-tnp-sardana-hms-prerelease-phase-1-data/WD-76845-019.ome.tif\", \"outputFile\": \"WD-76845-019.lzw.ome.tif\", \"tileString\": [\"-8\", \"-t\", \"-w\", \"256\", \"-l\", \"256\", \"-L\"]}, 42.65523450484156, 33.47648008261957], [\"5eea02cb692e2980bb5fe9a4\", \"WD-76845-033.ome.tif\", 12715247011, 464.2224962711334, 5812605246, null, \"lzw\", 45.71366361165848, null, [\"-8\", \"-t\", \"-w\", \"256\", \"-l\", \"256\", \"-L\"], \"/nvmen1Scratch/origData/htan-tnp-sardana-hms-prerelease-phase-1-data/recompressed/WD-76845-033.lzw.ome.tif\", {\"compressionMethod\": \"lzw\", \"filename\": \"WD-76845-033.ome.tif\", \"fullFilePath\": \"/s3FuseMounts/dgutman-htan-s3-synapse/htan-tnp-sardana-hms-prerelease-phase-1-data/WD-76845-033.ome.tif\", \"outputFile\": \"WD-76845-033.lzw.ome.tif\", \"tileString\": [\"-8\", \"-t\", \"-w\", \"256\", \"-l\", \"256\", \"-L\"]}, 45.71366361165848, 27.390415400234165], [\"5eea04cab5f447f61e5fe9a5\", \"WD-76845-105.ome.tif\", 10327603048, 423.34035325050354, 5311804302, null, \"lzw\", 51.433079653740776, null, [\"-8\", \"-t\", \"-w\", \"256\", \"-l\", \"256\", \"-L\"], \"/nvmen1Scratch/origData/htan-tnp-sardana-hms-prerelease-phase-1-data/recompressed/WD-76845-105.lzw.ome.tif\", {\"compressionMethod\": \"lzw\", \"filename\": \"WD-76845-105.ome.tif\", \"fullFilePath\": \"/s3FuseMounts/dgutman-htan-s3-synapse/htan-tnp-sardana-hms-prerelease-phase-1-data/WD-76845-105.ome.tif\", \"outputFile\": \"WD-76845-105.lzw.ome.tif\", \"tileString\": [\"-8\", \"-t\", \"-w\", \"256\", \"-l\", \"256\", \"-L\"]}, 51.433079653740776, 24.395508173747942], [\"5eea0dddbb2b0550615fe9a4\", \"WD-76845-106.ome.tif\", 74575503064, 3466.1396527290344, 46764250068, null, \"lzw\", 62.70725391938336, null, [\"-8\", \"-t\", \"-w\", \"256\", \"-l\", \"256\", \"-L\"], \"/nvmen1Scratch/origData/htan-tnp-sardana-hms-prerelease-phase-1-data/recompressed/WD-76845-106.lzw.ome.tif\", {\"compressionMethod\": \"lzw\", \"filename\": \"WD-76845-106.ome.tif\", \"fullFilePath\": \"/s3FuseMounts/dgutman-htan-s3-synapse/htan-tnp-sardana-hms-prerelease-phase-1-data/WD-76845-106.ome.tif\", \"outputFile\": \"WD-76845-106.lzw.ome.tif\", \"tileString\": [\"-8\", \"-t\", \"-w\", \"256\", \"-l\", \"256\", \"-L\"]}, 62.70725391938336, 21.515435191794317], [\"5eea0e497a359007b45fe9a3\", \"WD-76845-052.ome.tif\", 86067983704, 3894.479730606079, 53945618642, null, \"lzw\", 62.677916131423075, null, [\"-8\", \"-t\", \"-w\", \"256\", \"-l\", \"256\", \"-L\"], \"/nvmen1Scratch/origData/htan-tnp-sardana-hms-prerelease-phase-1-data/recompressed/WD-76845-052.lzw.ome.tif\", {\"compressionMethod\": \"lzw\", \"filename\": \"WD-76845-052.ome.tif\", \"fullFilePath\": \"/s3FuseMounts/dgutman-htan-s3-synapse/htan-tnp-sardana-hms-prerelease-phase-1-data/WD-76845-052.ome.tif\", \"outputFile\": \"WD-76845-052.lzw.ome.tif\", \"tileString\": [\"-8\", \"-t\", \"-w\", \"256\", \"-l\", \"256\", \"-L\"]}, 62.677916131423075, 22.099995290155395], [\"5eea0f2a5b022b5ffc5fe9a3\", \"WD-76845-020.ome.tif\", 89758999384, 4119.786567926407, 53491961522, null, \"lzw\", 59.59509563286778, null, [\"-8\", \"-t\", \"-w\", \"256\", \"-l\", \"256\", \"-L\"], \"/nvmen1Scratch/origData/htan-tnp-sardana-hms-prerelease-phase-1-data/recompressed/WD-76845-020.lzw.ome.tif\", {\"compressionMethod\": \"lzw\", \"filename\": \"WD-76845-020.ome.tif\", \"fullFilePath\": \"/s3FuseMounts/dgutman-htan-s3-synapse/htan-tnp-sardana-hms-prerelease-phase-1-data/WD-76845-020.ome.tif\", \"outputFile\": \"WD-76845-020.lzw.ome.tif\", \"tileString\": [\"-8\", \"-t\", \"-w\", \"256\", \"-l\", \"256\", \"-L\"]}, 59.59509563286778, 21.78729356583586], [\"5eea10257a359007b45fe9a4\", \"WD-76845-013.ome.tif\", 12727830115, 476.0803105831146, 5609578870, null, \"lzw\", 44.07333236942721, null, [\"-8\", \"-t\", \"-w\", \"256\", \"-l\", \"256\", \"-L\"], \"/nvmen1Scratch/origData/htan-tnp-sardana-hms-prerelease-phase-1-data/recompressed/WD-76845-013.lzw.ome.tif\", {\"compressionMethod\": \"lzw\", \"filename\": \"WD-76845-013.ome.tif\", \"fullFilePath\": \"/s3FuseMounts/dgutman-htan-s3-synapse/htan-tnp-sardana-hms-prerelease-phase-1-data/WD-76845-013.ome.tif\", \"outputFile\": \"WD-76845-013.lzw.ome.tif\", \"tileString\": [\"-8\", \"-t\", \"-w\", \"256\", \"-l\", \"256\", \"-L\"]}, 44.07333236942721, 26.734628238270655], [\"5eea110d692e2980bb5fe9a5\", \"WD-76845-097.ome.tif\", 80028139864, 3650.1974382400513, 50471785068, null, \"lzw\", 63.067547432405476, null, [\"-8\", \"-t\", \"-w\", \"256\", \"-l\", \"256\", \"-L\"], \"/nvmen1Scratch/origData/htan-tnp-sardana-hms-prerelease-phase-1-data/recompressed/WD-76845-097.lzw.ome.tif\", {\"compressionMethod\": \"lzw\", \"filename\": \"WD-76845-097.ome.tif\", \"fullFilePath\": \"/s3FuseMounts/dgutman-htan-s3-synapse/htan-tnp-sardana-hms-prerelease-phase-1-data/WD-76845-097.ome.tif\", \"outputFile\": \"WD-76845-097.lzw.ome.tif\", \"tileString\": [\"-8\", \"-t\", \"-w\", \"256\", \"-l\", \"256\", \"-L\"]}, 63.067547432405476, 21.924331825345234], [\"5eea12c4692e2980bb5fe9a6\", \"WD-76845-083.ome.tif\", 10270979059, 438.32432436943054, 5444116346, null, \"lzw\", 53.00484320654479, null, [\"-8\", \"-t\", \"-w\", \"256\", \"-l\", \"256\", \"-L\"], \"/nvmen1Scratch/origData/htan-tnp-sardana-hms-prerelease-phase-1-data/recompressed/WD-76845-083.lzw.ome.tif\", {\"compressionMethod\": \"lzw\", \"filename\": \"WD-76845-083.ome.tif\", \"fullFilePath\": \"/s3FuseMounts/dgutman-htan-s3-synapse/htan-tnp-sardana-hms-prerelease-phase-1-data/WD-76845-083.ome.tif\", \"outputFile\": \"WD-76845-083.lzw.ome.tif\", \"tileString\": [\"-8\", \"-t\", \"-w\", \"256\", \"-l\", \"256\", \"-L\"]}, 53.00484320654479, 23.432372989511222], [\"5eea1c04bb2b0550615fe9a5\", \"WD-76845-059.ome.tif\", 86067983704, 3622.485520839691, 52800859840, null, \"lzw\", 61.34785267142965, null, [\"-8\", \"-t\", \"-w\", \"256\", \"-l\", \"256\", \"-L\"], \"/nvmen1Scratch/origData/htan-tnp-sardana-hms-prerelease-phase-1-data/recompressed/WD-76845-059.lzw.ome.tif\", {\"compressionMethod\": \"lzw\", \"filename\": \"WD-76845-059.ome.tif\", \"fullFilePath\": \"/s3FuseMounts/dgutman-htan-s3-synapse/htan-tnp-sardana-hms-prerelease-phase-1-data/WD-76845-059.ome.tif\", \"outputFile\": \"WD-76845-059.lzw.ome.tif\", \"tileString\": [\"-8\", \"-t\", \"-w\", \"256\", \"-l\", \"256\", \"-L\"]}, 61.34785267142965, 23.759372731474567], [\"5eea1c2b7a359007b45fe9a5\", \"WD-76845-078.ome.tif\", 74575503064, 3078.496503829956, 47141997292, null, \"lzw\", 63.213783823279314, null, [\"-8\", \"-t\", \"-w\", \"256\", \"-l\", \"256\", \"-L\"], \"/nvmen1Scratch/origData/htan-tnp-sardana-hms-prerelease-phase-1-data/recompressed/WD-76845-078.lzw.ome.tif\", {\"compressionMethod\": \"lzw\", \"filename\": \"WD-76845-078.ome.tif\", \"fullFilePath\": \"/s3FuseMounts/dgutman-htan-s3-synapse/htan-tnp-sardana-hms-prerelease-phase-1-data/WD-76845-078.ome.tif\", \"outputFile\": \"WD-76845-078.lzw.ome.tif\", \"tileString\": [\"-8\", \"-t\", \"-w\", \"256\", \"-l\", \"256\", \"-L\"]}, 63.213783823279314, 24.224650887607197], [\"5eea1ee0692e2980bb5fe9a7\", \"WD-76845-091.ome.tif\", 77763198424, 3100.2453513145447, 46941291880, null, \"lzw\", 60.36440479731161, null, [\"-8\", \"-t\", \"-w\", \"256\", \"-l\", \"256\", \"-L\"], \"/nvmen1Scratch/origData/htan-tnp-sardana-hms-prerelease-phase-1-data/recompressed/WD-76845-091.lzw.ome.tif\", {\"compressionMethod\": \"lzw\", \"filename\": \"WD-76845-091.ome.tif\", \"fullFilePath\": \"/s3FuseMounts/dgutman-htan-s3-synapse/htan-tnp-sardana-hms-prerelease-phase-1-data/WD-76845-091.ome.tif\", \"outputFile\": \"WD-76845-091.lzw.ome.tif\", \"tileString\": [\"-8\", \"-t\", \"-w\", \"256\", \"-l\", \"256\", \"-L\"]}, 60.36440479731161, 25.08291751523065], [\"5eea2019692e2980bb5fe9a8\", \"WD-76845-058.ome.tif\", 11239878067, 313.41111516952515, 5589055960, null, \"lzw\", 49.72523657893877, null, [\"-8\", \"-t\", \"-w\", \"256\", \"-l\", \"256\", \"-L\"], \"/nvmen1Scratch/origData/htan-tnp-sardana-hms-prerelease-phase-1-data/recompressed/WD-76845-058.lzw.ome.tif\", {\"compressionMethod\": \"lzw\", \"filename\": \"WD-76845-058.ome.tif\", \"fullFilePath\": \"/s3FuseMounts/dgutman-htan-s3-synapse/htan-tnp-sardana-hms-prerelease-phase-1-data/WD-76845-058.ome.tif\", \"outputFile\": \"WD-76845-058.lzw.ome.tif\", \"tileString\": [\"-8\", \"-t\", \"-w\", \"256\", \"-l\", \"256\", \"-L\"]}, 49.72523657893877, 35.86304863795374], [\"5eea2ee9692e2980bb5fe9a9\", \"WD-76845-014.ome.tif\", 77763198424, 3791.312817811966, 47016796710, null, \"lzw\", 60.461500636384876, null, [\"-8\", \"-t\", \"-w\", \"256\", \"-l\", \"256\", \"-L\"], \"/nvmen1Scratch/origData/htan-tnp-sardana-hms-prerelease-phase-1-data/recompressed/WD-76845-014.lzw.ome.tif\", {\"compressionMethod\": \"lzw\", \"filename\": \"WD-76845-014.ome.tif\", \"fullFilePath\": \"/s3FuseMounts/dgutman-htan-s3-synapse/htan-tnp-sardana-hms-prerelease-phase-1-data/WD-76845-014.ome.tif\", \"outputFile\": \"WD-76845-014.lzw.ome.tif\", \"tileString\": [\"-8\", \"-t\", \"-w\", \"256\", \"-l\", \"256\", \"-L\"]}, 60.461500636384876, 20.51088954165447], [\"5eea3033049ce574635fe9a8\", \"WD-76845-039.ome.tif\", 86067983704, 4233.785066604614, 53440585756, null, \"lzw\", 62.09113244686869, null, [\"-8\", \"-t\", \"-w\", \"256\", \"-l\", \"256\", \"-L\"], \"/nvmen1Scratch/origData/htan-tnp-sardana-hms-prerelease-phase-1-data/recompressed/WD-76845-039.lzw.ome.tif\", {\"compressionMethod\": \"lzw\", \"filename\": \"WD-76845-039.ome.tif\", \"fullFilePath\": \"/s3FuseMounts/dgutman-htan-s3-synapse/htan-tnp-sardana-hms-prerelease-phase-1-data/WD-76845-039.ome.tif\", \"outputFile\": \"WD-76845-039.lzw.ome.tif\", \"tileString\": [\"-8\", \"-t\", \"-w\", \"256\", \"-l\", \"256\", \"-L\"]}, 62.09113244686869, 20.328850508470495], [\"5eea335b692e2980bb5fe9ab\", \"WD-76845-006.ome.tif\", 11834429731, 358.8374652862549, 5302035260, null, \"lzw\", 44.801780740743666, null, [\"-8\", \"-t\", \"-w\", \"256\", \"-l\", \"256\", \"-L\"], \"/nvmen1Scratch/origData/htan-tnp-sardana-hms-prerelease-phase-1-data/recompressed/WD-76845-006.lzw.ome.tif\", {\"compressionMethod\": \"lzw\", \"filename\": \"WD-76845-006.ome.tif\", \"fullFilePath\": \"/s3FuseMounts/dgutman-htan-s3-synapse/htan-tnp-sardana-hms-prerelease-phase-1-data/WD-76845-006.ome.tif\", \"outputFile\": \"WD-76845-006.lzw.ome.tif\", \"tileString\": [\"-8\", \"-t\", \"-w\", \"256\", \"-l\", \"256\", \"-L\"]}, 44.801780740743666, 32.979916747431425], [\"5eea3a55049ce574635fe9a9\", \"WD-76845-074.ome.tif\", 74575503064, 2593.189691066742, 47537861266, null, \"lzw\", 63.744606892163304, null, [\"-8\", \"-t\", \"-w\", \"256\", \"-l\", \"256\", \"-L\"], \"/nvmen1Scratch/origData/htan-tnp-sardana-hms-prerelease-phase-1-data/recompressed/WD-76845-074.lzw.ome.tif\", {\"compressionMethod\": \"lzw\", \"filename\": \"WD-76845-074.ome.tif\", \"fullFilePath\": \"/s3FuseMounts/dgutman-htan-s3-synapse/htan-tnp-sardana-hms-prerelease-phase-1-data/WD-76845-074.ome.tif\", \"outputFile\": \"WD-76845-074.lzw.ome.tif\", \"tileString\": [\"-8\", \"-t\", \"-w\", \"256\", \"-l\", \"256\", \"-L\"]}, 63.744606892163304, 28.758213608863457], [\"5eea3c11a6ab30e49fe00725\", \"WD-76845-063.ome.tif\", 11239878067, 295.3778717517853, 5677872514, null, \"lzw\", 50.515428015808205, null, [\"-8\", \"-t\", \"-w\", \"256\", \"-l\", \"256\", \"-L\"], \"/nvmen1Scratch/origData/htan-tnp-sardana-hms-prerelease-phase-1-data/recompressed/WD-76845-063.lzw.ome.tif\", {\"compressionMethod\": \"lzw\", \"filename\": \"WD-76845-063.ome.tif\", \"fullFilePath\": \"/s3FuseMounts/dgutman-htan-s3-synapse/htan-tnp-sardana-hms-prerelease-phase-1-data/WD-76845-063.ome.tif\", \"outputFile\": \"WD-76845-063.lzw.ome.tif\", \"tileString\": [\"-8\", \"-t\", \"-w\", \"256\", \"-l\", \"256\", \"-L\"]}, 50.515428015808205, 38.05253927906015], [\"5eea3e6928bc84a252e00726\", \"WD-76845-053.ome.tif\", 11239878067, 553.3601450920105, 5719560776, null, \"lzw\", 50.88632405001338, null, [\"-8\", \"-t\", \"-w\", \"256\", \"-l\", \"256\", \"-L\"], \"/nvmen1Scratch/origData/htan-tnp-sardana-hms-prerelease-phase-1-data/recompressed/WD-76845-053.lzw.ome.tif\", {\"compressionMethod\": \"lzw\", \"filename\": \"WD-76845-053.ome.tif\", \"fullFilePath\": \"/s3FuseMounts/dgutman-htan-s3-synapse/htan-tnp-sardana-hms-prerelease-phase-1-data/WD-76845-053.ome.tif\", \"outputFile\": \"WD-76845-053.lzw.ome.tif\", \"tileString\": [\"-8\", \"-t\", \"-w\", \"256\", \"-l\", \"256\", \"-L\"]}, 50.88632405001338, 20.31204843119137], [\"5eea4acd87f2d71db8e00725\", \"WD-76845-084.ome.tif\", 74575503064, 4067.20813536644, 47424991864, null, \"lzw\", 63.59325772606631, null, [\"-8\", \"-t\", \"-w\", \"256\", \"-l\", \"256\", \"-L\"], \"/nvmen1Scratch/origData/htan-tnp-sardana-hms-prerelease-phase-1-data/recompressed/WD-76845-084.lzw.ome.tif\", {\"compressionMethod\": \"lzw\", \"filename\": \"WD-76845-084.ome.tif\", \"fullFilePath\": \"/s3FuseMounts/dgutman-htan-s3-synapse/htan-tnp-sardana-hms-prerelease-phase-1-data/WD-76845-084.ome.tif\", \"outputFile\": \"WD-76845-084.lzw.ome.tif\", \"tileString\": [\"-8\", \"-t\", \"-w\", \"256\", \"-l\", \"256\", \"-L\"]}, 63.59325772606631, 18.335797082900218], [\"5eea4ba8f57863fbe4e00725\", \"WD-76845-064.ome.tif\", 79860366424, 4285.834104776382, 50454259642, null, \"lzw\", 63.17809684734586, null, [\"-8\", \"-t\", \"-w\", \"256\", \"-l\", \"256\", \"-L\"], \"/nvmen1Scratch/origData/htan-tnp-sardana-hms-prerelease-phase-1-data/recompressed/WD-76845-064.lzw.ome.tif\", {\"compressionMethod\": \"lzw\", \"filename\": \"WD-76845-064.ome.tif\", \"fullFilePath\": \"/s3FuseMounts/dgutman-htan-s3-synapse/htan-tnp-sardana-hms-prerelease-phase-1-data/WD-76845-064.ome.tif\", \"outputFile\": \"WD-76845-064.lzw.ome.tif\", \"tileString\": [\"-8\", \"-t\", \"-w\", \"256\", \"-l\", \"256\", \"-L\"]}, 63.17809684734586, 18.63356454581361], [\"5eea4d328d45a18a18e00725\", \"WD-76845-050.ome.tif\", 86067983704, 4680.37166929245, 53187594226, null, \"lzw\", 61.79718861420024, null, [\"-8\", \"-t\", \"-w\", \"256\", \"-l\", \"256\", \"-L\"], \"/nvmen1Scratch/origData/htan-tnp-sardana-hms-prerelease-phase-1-data/recompressed/WD-76845-050.lzw.ome.tif\", {\"compressionMethod\": \"lzw\", \"filename\": \"WD-76845-050.ome.tif\", \"fullFilePath\": \"/s3FuseMounts/dgutman-htan-s3-synapse/htan-tnp-sardana-hms-prerelease-phase-1-data/WD-76845-050.ome.tif\", \"outputFile\": \"WD-76845-050.lzw.ome.tif\", \"tileString\": [\"-8\", \"-t\", \"-w\", \"256\", \"-l\", \"256\", \"-L\"]}, 61.79718861420024, 18.38913440756965], [\"5eea4e3ca6ab30e49fe00726\", \"WD-76845-049.ome.tif\", 82209194584, 4650.57892537117, 51724195508, null, \"lzw\", 62.9177743070443, null, [\"-8\", \"-t\", \"-w\", \"256\", \"-l\", \"256\", \"-L\"], \"/nvmen1Scratch/origData/htan-tnp-sardana-hms-prerelease-phase-1-data/recompressed/WD-76845-049.lzw.ome.tif\", {\"compressionMethod\": \"lzw\", \"filename\": \"WD-76845-049.ome.tif\", \"fullFilePath\": \"/s3FuseMounts/dgutman-htan-s3-synapse/htan-tnp-sardana-hms-prerelease-phase-1-data/WD-76845-049.ome.tif\", \"outputFile\": \"WD-76845-049.lzw.ome.tif\", \"tileString\": [\"-8\", \"-t\", \"-w\", \"256\", \"-l\", \"256\", \"-L\"]}, 62.9177743070443, 17.67719587243404], [\"5eea4f8628bc84a252e00727\", \"WD-76845-086.ome.tif\", 77763198424, 4380.983438014984, 48874263426, null, \"lzw\", 62.8501198722762, null, [\"-8\", \"-t\", \"-w\", \"256\", \"-l\", \"256\", \"-L\"], \"/nvmen1Scratch/origData/htan-tnp-sardana-hms-prerelease-phase-1-data/recompressed/WD-76845-086.lzw.ome.tif\", {\"compressionMethod\": \"lzw\", \"filename\": \"WD-76845-086.ome.tif\", \"fullFilePath\": \"/s3FuseMounts/dgutman-htan-s3-synapse/htan-tnp-sardana-hms-prerelease-phase-1-data/WD-76845-086.ome.tif\", \"outputFile\": \"WD-76845-086.lzw.ome.tif\", \"tileString\": [\"-8\", \"-t\", \"-w\", \"256\", \"-l\", \"256\", \"-L\"]}, 62.8501198722762, 17.750169459493407], [\"5eea5a088d45a18a18e00726\", \"WD-76845-051.ome.tif\", 82209194584, 3284.824033021927, 54317245016, null, \"lzw\", 66.0719829343414, null, [\"-8\", \"-t\", \"-w\", \"256\", \"-l\", \"256\", \"-L\"], \"/nvmen1Scratch/origData/htan-tnp-sardana-hms-prerelease-phase-1-data/recompressed/WD-76845-051.lzw.ome.tif\", {\"compressionMethod\": \"lzw\", \"filename\": \"WD-76845-051.ome.tif\", \"fullFilePath\": \"/s3FuseMounts/dgutman-htan-s3-synapse/htan-tnp-sardana-hms-prerelease-phase-1-data/WD-76845-051.ome.tif\", \"outputFile\": \"WD-76845-051.lzw.ome.tif\", \"tileString\": [\"-8\", \"-t\", \"-w\", \"256\", \"-l\", \"256\", \"-L\"]}, 66.0719829343414, 25.02697062538547], [\"5eea5a4aa6ab30e49fe00727\", \"WD-76845-029.ome.tif\", 79860366424, 3085.615531682968, 48644979550, null, \"lzw\", 60.91254238896278, null, [\"-8\", \"-t\", \"-w\", \"256\", \"-l\", \"256\", \"-L\"], \"/nvmen1Scratch/origData/htan-tnp-sardana-hms-prerelease-phase-1-data/recompressed/WD-76845-029.lzw.ome.tif\", {\"compressionMethod\": \"lzw\", \"filename\": \"WD-76845-029.ome.tif\", \"fullFilePath\": \"/s3FuseMounts/dgutman-htan-s3-synapse/htan-tnp-sardana-hms-prerelease-phase-1-data/WD-76845-029.ome.tif\", \"outputFile\": \"WD-76845-029.lzw.ome.tif\", \"tileString\": [\"-8\", \"-t\", \"-w\", \"256\", \"-l\", \"256\", \"-L\"]}, 60.91254238896278, 25.88150260588112]], \"fillcolor\": \"rgba(255,255,255,0)\", \"hoveron\": \"points\", \"hovertemplate\": \"compressionMethod=%{customdata[6]}<br>executionTime=%{customdata[3]}<br>_id=%{customdata[0]}<br>origFileName=%{customdata[1]}<br>origFileSize=%{customdata[2]}<br>compressedFileSize=%{customdata[4]}<br>compressionOptions=%{customdata[5]}<br>compressionRate=%{customdata[7]}<br>outputFileName=%{customdata[8]}<br>tileInfo=%{customdata[9]}<br>outputFileNamewPath=%{customdata[10]}<br>origCompressionDict=%{customdata[11]}<br>compressionRatio=%{customdata[12]}<br>mbytesPerSec=%{customdata[13]}<extra></extra>\", \"jitter\": 0, \"legendgroup\": \"lzw\", \"line\": {\"color\": \"rgba(255,255,255,0)\"}, \"marker\": {\"color\": \"#636efa\", \"symbol\": \"line-ns-open\"}, \"name\": \"lzw\", \"offsetgroup\": \"lzw\", \"showlegend\": false, \"type\": \"box\", \"x\": [135.89906549453735, 116.22998976707458, 119.89434885978699, 1266.774257183075, 1286.8319165706635, 123.52627038955688, 128.88972783088684, 1193.9273571968079, 1289.4169857501984, 1288.3613696098328, 177.7355818748474, 185.36460089683533, 1741.1346445083618, 2490.7977788448334, 488.829843044281, 512.6782660484314, 3891.0175154209137, 4155.21911907196, 394.52978110313416, 2325.1199984550476, 359.250296831131, 352.34321117401123, 2779.661639213562, 2629.0380370616913, 249.91202235221863, 2549.7107393741608, 311.8254120349884, 320.74815368652344, 408.48705291748047, 464.2224962711334, 423.34035325050354, 3466.1396527290344, 3894.479730606079, 4119.786567926407, 476.0803105831146, 3650.1974382400513, 438.32432436943054, 3622.485520839691, 3078.496503829956, 3100.2453513145447, 313.41111516952515, 3791.312817811966, 4233.785066604614, 358.8374652862549, 2593.189691066742, 295.3778717517853, 553.3601450920105, 4067.20813536644, 4285.834104776382, 4680.37166929245, 4650.57892537117, 4380.983438014984, 3284.824033021927, 3085.615531682968], \"xaxis\": \"x2\", \"yaxis\": \"y2\"}, {\"alignmentgroup\": \"True\", \"bingroup\": \"x\", \"hovertemplate\": \"compressionMethod=zip<br>executionTime=%{x}<br>count=%{y}<extra></extra>\", \"legendgroup\": \"zip\", \"marker\": {\"color\": \"#EF553B\"}, \"name\": \"zip\", \"nbinsx\": 25, \"offsetgroup\": \"zip\", \"orientation\": \"v\", \"showlegend\": true, \"type\": \"histogram\", \"x\": [5913.4547290802, 373.9866123199463, 366.1013991832733, 6224.081640005112, 426.4925584793091, 656.9697570800781, 684.5972726345062, 7647.646546363831, 477.77342534065247, 496.34153175354004, 7113.485237121582, 7589.115649223328, 8109.37854886055, 5954.852608203888, 464.418737411499, 488.72994661331177, 7728.564301967621, 778.0672495365143, 509.8421034812927, 341.2902190685272, 510.6742694377899, 736.1407277584076, 717.2146389484406, 7973.798753499985, 8137.981534957886, 579.8602466583252, 563.4451377391815, 440.0287048816681, 536.2734694480896], \"xaxis\": \"x\", \"yaxis\": \"y\"}, {\"alignmentgroup\": \"True\", \"boxpoints\": \"all\", \"customdata\": [[\"5ee8ffa2141a70165aed4920\", \"WD-76845-002.ome.tif\", 94540542424, 5913.4547290802, 46623413560, null, \"zip\", 49.315788088988384, null, [\"-8\", \"-t\", \"-w\", \"256\", \"-l\", \"256\", \"-L\"], \"/nvmen1Scratch/origData/htan-tnp-sardana-hms-prerelease-phase-1-data/recompressed/WD-76845-002.zip.ome.tif\", {\"compressionMethod\": \"zip\", \"filename\": \"WD-76845-002.ome.tif\", \"fullFilePath\": \"/nvmen1Scratch/origData/htan-tnp-sardana-hms-prerelease-phase-1-data/WD-76845-002.ome.tif\", \"outputFile\": \"WD-76845-002.zip.ome.tif\", \"tileString\": [\"-8\", \"-t\", \"-w\", \"256\", \"-l\", \"256\", \"-L\"]}, 49.315788088988384, 15.987362169035354], [\"5ee9159f472cad3ec2fd998e\", \"WD-76845-006.ome.tif\", 11834429731, 373.9866123199463, 4333709684, null, \"zip\", 36.61950581909286, null, [\"-8\", \"-t\", \"-w\", \"256\", \"-l\", \"256\", \"-L\"], \"/nvmen1Scratch/origData/htan-tnp-sardana-hms-prerelease-phase-1-data/recompressed/WD-76845-006.zip.ome.tif\", {\"compressionMethod\": \"zip\", \"filename\": \"WD-76845-006.ome.tif\", \"fullFilePath\": \"/nvmen1Scratch/origData/htan-tnp-sardana-hms-prerelease-phase-1-data/WD-76845-006.ome.tif\", \"outputFile\": \"WD-76845-006.zip.ome.tif\", \"tileString\": [\"-8\", \"-t\", \"-w\", \"256\", \"-l\", \"256\", \"-L\"]}, 36.61950581909286, 31.643992969661763], [\"5ee91890557b784b56fd9991\", \"WD-76845-001.ome.tif\", 13048699267, 366.1013991832733, 4383036850, null, \"zip\", 33.58983727278202, null, [\"-8\", \"-t\", \"-w\", \"256\", \"-l\", \"256\", \"-L\"], \"/nvmen1Scratch/origData/htan-tnp-sardana-hms-prerelease-phase-1-data/recompressed/WD-76845-001.zip.ome.tif\", {\"compressionMethod\": \"zip\", \"filename\": \"WD-76845-001.ome.tif\", \"fullFilePath\": \"/nvmen1Scratch/origData/htan-tnp-sardana-hms-prerelease-phase-1-data/WD-76845-001.ome.tif\", \"outputFile\": \"WD-76845-001.zip.ome.tif\", \"tileString\": [\"-8\", \"-t\", \"-w\", \"256\", \"-l\", \"256\", \"-L\"]}, 33.58983727278202, 35.64230919660516], [\"5ee92c7a31a89af274fd998e\", \"WD-76845-007.ome.tif\", 86067983704, 6224.081640005112, 43466954554, null, \"zip\", 50.503047339285914, null, [\"-8\", \"-t\", \"-w\", \"256\", \"-l\", \"256\", \"-L\"], \"/nvmen1Scratch/origData/htan-tnp-sardana-hms-prerelease-phase-1-data/recompressed/WD-76845-007.zip.ome.tif\", {\"compressionMethod\": \"zip\", \"filename\": \"WD-76845-007.ome.tif\", \"fullFilePath\": \"/nvmen1Scratch/origData/htan-tnp-sardana-hms-prerelease-phase-1-data/WD-76845-007.ome.tif\", \"outputFile\": \"WD-76845-007.zip.ome.tif\", \"tileString\": [\"-8\", \"-t\", \"-w\", \"256\", \"-l\", \"256\", \"-L\"]}, 50.503047339285914, 13.828222167074484], [\"5ee93f5727c36180e3eadeaa\", \"WD-76845-006.ome.tif\", 11834429731, 426.4925584793091, 4333709684, null, \"zip\", 36.61950581909286, null, [\"-8\", \"-t\", \"-w\", \"256\", \"-l\", \"256\", \"-L\"], \"/nvmen1Scratch/origData/htan-tnp-sardana-hms-prerelease-phase-1-data/recompressed/WD-76845-006.zip.ome.tif\", {\"compressionMethod\": \"zip\", \"filename\": \"WD-76845-006.ome.tif\", \"fullFilePath\": \"/s3FuseMounts/dgutman-htan-s3-synapse/htan-tnp-sardana-hms-prerelease-phase-1-data/WD-76845-006.ome.tif\", \"outputFile\": \"WD-76845-006.zip.ome.tif\", \"tileString\": [\"-8\", \"-t\", \"-w\", \"256\", \"-l\", \"256\", \"-L\"]}, 36.61950581909286, 27.74826780846198], [\"5ee955719d5df40196038554\", \"WD-76845-068.ome.tif\", 10812052531, 656.9697570800781, 4276409710, null, \"zip\", 39.55224688132807, null, [\"-8\", \"-t\", \"-w\", \"256\", \"-l\", \"256\", \"-L\"], \"/nvmen1Scratch/origData/htan-tnp-sardana-hms-prerelease-phase-1-data/recompressed/WD-76845-068.zip.ome.tif\", {\"compressionMethod\": \"zip\", \"filename\": \"WD-76845-068.ome.tif\", \"fullFilePath\": \"/s3FuseMounts/dgutman-htan-s3-synapse/htan-tnp-sardana-hms-prerelease-phase-1-data/WD-76845-068.ome.tif\", \"outputFile\": \"WD-76845-068.zip.ome.tif\", \"tileString\": [\"-8\", \"-t\", \"-w\", \"256\", \"-l\", \"256\", \"-L\"]}, 39.55224688132807, 16.457458527550024], [\"5ee95cc11a4aa37fe2038557\", \"WD-76845-090.ome.tif\", 10657909507, 684.5972726345062, 4424538424, null, \"zip\", 41.51413014995118, null, [\"-8\", \"-t\", \"-w\", \"256\", \"-l\", \"256\", \"-L\"], \"/nvmen1Scratch/origData/htan-tnp-sardana-hms-prerelease-phase-1-data/recompressed/WD-76845-090.zip.ome.tif\", {\"compressionMethod\": \"zip\", \"filename\": \"WD-76845-090.ome.tif\", \"fullFilePath\": \"/s3FuseMounts/dgutman-htan-s3-synapse/htan-tnp-sardana-hms-prerelease-phase-1-data/WD-76845-090.ome.tif\", \"outputFile\": \"WD-76845-090.zip.ome.tif\", \"tileString\": [\"-8\", \"-t\", \"-w\", \"256\", \"-l\", \"256\", \"-L\"]}, 41.51413014995118, 15.568144853960089], [\"5ee973eb07c5288327038555\", \"WD-76845-102.ome.tif\", 77763198424, 7647.646546363831, 39832202266, null, \"zip\", 51.222433070225435, null, [\"-8\", \"-t\", \"-w\", \"256\", \"-l\", \"256\", \"-L\"], \"/nvmen1Scratch/origData/htan-tnp-sardana-hms-prerelease-phase-1-data/recompressed/WD-76845-102.zip.ome.tif\", {\"compressionMethod\": \"zip\", \"filename\": \"WD-76845-102.ome.tif\", \"fullFilePath\": \"/s3FuseMounts/dgutman-htan-s3-synapse/htan-tnp-sardana-hms-prerelease-phase-1-data/WD-76845-102.ome.tif\", \"outputFile\": \"WD-76845-102.zip.ome.tif\", \"tileString\": [\"-8\", \"-t\", \"-w\", \"256\", \"-l\", \"256\", \"-L\"]}, 51.222433070225435, 10.168252148234217], [\"5ee975c907c5288327038556\", \"WD-76845-058.ome.tif\", 11239878067, 477.77342534065247, 4546828394, null, \"zip\", 40.45264874669214, null, [\"-8\", \"-t\", \"-w\", \"256\", \"-l\", \"256\", \"-L\"], \"/nvmen1Scratch/origData/htan-tnp-sardana-hms-prerelease-phase-1-data/recompressed/WD-76845-058.zip.ome.tif\", {\"compressionMethod\": \"zip\", \"filename\": \"WD-76845-058.ome.tif\", \"fullFilePath\": \"/s3FuseMounts/dgutman-htan-s3-synapse/htan-tnp-sardana-hms-prerelease-phase-1-data/WD-76845-058.ome.tif\", \"outputFile\": \"WD-76845-058.zip.ome.tif\", \"tileString\": [\"-8\", \"-t\", \"-w\", \"256\", \"-l\", \"256\", \"-L\"]}, 40.45264874669214, 23.525540498586683], [\"5ee9783f9d5df40196038556\", \"WD-76845-013.ome.tif\", 12727830115, 496.34153175354004, 4625260492, null, \"zip\", 36.33974094727301, null, [\"-8\", \"-t\", \"-w\", \"256\", \"-l\", \"256\", \"-L\"], \"/nvmen1Scratch/origData/htan-tnp-sardana-hms-prerelease-phase-1-data/recompressed/WD-76845-013.zip.ome.tif\", {\"compressionMethod\": \"zip\", \"filename\": \"WD-76845-013.ome.tif\", \"fullFilePath\": \"/s3FuseMounts/dgutman-htan-s3-synapse/htan-tnp-sardana-hms-prerelease-phase-1-data/WD-76845-013.ome.tif\", \"outputFile\": \"WD-76845-013.zip.ome.tif\", \"tileString\": [\"-8\", \"-t\", \"-w\", \"256\", \"-l\", \"256\", \"-L\"]}, 36.33974094727301, 25.643290558485937], [\"5ee97a8c1a4aa37fe2038559\", \"WD-76845-078.ome.tif\", 74575503064, 7113.485237121582, 38387183772, null, \"zip\", 51.4742538700094, null, [\"-8\", \"-t\", \"-w\", \"256\", \"-l\", \"256\", \"-L\"], \"/nvmen1Scratch/origData/htan-tnp-sardana-hms-prerelease-phase-1-data/recompressed/WD-76845-078.zip.ome.tif\", {\"compressionMethod\": \"zip\", \"filename\": \"WD-76845-078.ome.tif\", \"fullFilePath\": \"/s3FuseMounts/dgutman-htan-s3-synapse/htan-tnp-sardana-hms-prerelease-phase-1-data/WD-76845-078.ome.tif\", \"outputFile\": \"WD-76845-078.zip.ome.tif\", \"tileString\": [\"-8\", \"-t\", \"-w\", \"256\", \"-l\", \"256\", \"-L\"]}, 51.4742538700094, 10.483680021549663], [\"5ee980c01e0218235a038555\", \"WD-76845-054.ome.tif\", 80028139864, 7589.115649223328, 40815908114, null, \"zip\", 51.001945294945806, null, [\"-8\", \"-t\", \"-w\", \"256\", \"-l\", \"256\", \"-L\"], \"/nvmen1Scratch/origData/htan-tnp-sardana-hms-prerelease-phase-1-data/recompressed/WD-76845-054.zip.ome.tif\", {\"compressionMethod\": \"zip\", \"filename\": \"WD-76845-054.ome.tif\", \"fullFilePath\": \"/s3FuseMounts/dgutman-htan-s3-synapse/htan-tnp-sardana-hms-prerelease-phase-1-data/WD-76845-054.ome.tif\", \"outputFile\": \"WD-76845-054.zip.ome.tif\", \"tileString\": [\"-8\", \"-t\", \"-w\", \"256\", \"-l\", \"256\", \"-L\"]}, 51.001945294945806, 10.545120612596028], [\"5ee9834bc8c1e225d3038556\", \"WD-76845-050.ome.tif\", 86067983704, 8109.37854886055, 43781819440, null, \"zip\", 50.86888010595425, null, [\"-8\", \"-t\", \"-w\", \"256\", \"-l\", \"256\", \"-L\"], \"/nvmen1Scratch/origData/htan-tnp-sardana-hms-prerelease-phase-1-data/recompressed/WD-76845-050.zip.ome.tif\", {\"compressionMethod\": \"zip\", \"filename\": \"WD-76845-050.ome.tif\", \"fullFilePath\": \"/s3FuseMounts/dgutman-htan-s3-synapse/htan-tnp-sardana-hms-prerelease-phase-1-data/WD-76845-050.ome.tif\", \"outputFile\": \"WD-76845-050.zip.ome.tif\", \"tileString\": [\"-8\", \"-t\", \"-w\", \"256\", \"-l\", \"256\", \"-L\"]}, 50.86888010595425, 10.613388336162137], [\"5ee9a5cf1a4aa37fe203855b\", \"WD-76845-034.ome.tif\", 88249038424, 5954.852608203888, 45867260028, null, \"zip\", 51.97479864610746, null, [\"-8\", \"-t\", \"-w\", \"256\", \"-l\", \"256\", \"-L\"], \"/nvmen1Scratch/origData/htan-tnp-sardana-hms-prerelease-phase-1-data/recompressed/WD-76845-034.zip.ome.tif\", {\"compressionMethod\": \"zip\", \"filename\": \"WD-76845-034.ome.tif\", \"fullFilePath\": \"/s3FuseMounts/dgutman-htan-s3-synapse/htan-tnp-sardana-hms-prerelease-phase-1-data/WD-76845-034.ome.tif\", \"outputFile\": \"WD-76845-034.zip.ome.tif\", \"tileString\": [\"-8\", \"-t\", \"-w\", \"256\", \"-l\", \"256\", \"-L\"]}, 51.97479864610746, 14.819684756331494], [\"5eea00e3b5f447f61e5fe9a3\", \"WD-76845-019.ome.tif\", 13674708691, 464.418737411499, 4766458344, null, \"zip\", 34.8560137674965, null, [\"-8\", \"-t\", \"-w\", \"256\", \"-l\", \"256\", \"-L\"], \"/nvmen1Scratch/origData/htan-tnp-sardana-hms-prerelease-phase-1-data/recompressed/WD-76845-019.zip.ome.tif\", {\"compressionMethod\": \"zip\", \"filename\": \"WD-76845-019.ome.tif\", \"fullFilePath\": \"/s3FuseMounts/dgutman-htan-s3-synapse/htan-tnp-sardana-hms-prerelease-phase-1-data/WD-76845-019.ome.tif\", \"outputFile\": \"WD-76845-019.zip.ome.tif\", \"tileString\": [\"-8\", \"-t\", \"-w\", \"256\", \"-l\", \"256\", \"-L\"]}, 34.8560137674965, 29.444782454768834], [\"5eea00fb692e2980bb5fe9a3\", \"WD-76845-101.ome.tif\", 11221003432, 488.72994661331177, 4350179580, null, \"zip\", 38.76818687706823, null, [\"-8\", \"-t\", \"-w\", \"256\", \"-l\", \"256\", \"-L\"], \"/nvmen1Scratch/origData/htan-tnp-sardana-hms-prerelease-phase-1-data/recompressed/WD-76845-101.zip.ome.tif\", {\"compressionMethod\": \"zip\", \"filename\": \"WD-76845-101.ome.tif\", \"fullFilePath\": \"/s3FuseMounts/dgutman-htan-s3-synapse/htan-tnp-sardana-hms-prerelease-phase-1-data/WD-76845-101.ome.tif\", \"outputFile\": \"WD-76845-101.zip.ome.tif\", \"tileString\": [\"-8\", \"-t\", \"-w\", \"256\", \"-l\", \"256\", \"-L\"]}, 38.76818687706823, 22.95951682469373], [\"5eea22fbb5f447f61e5fe9a6\", \"WD-76845-097.ome.tif\", 80028139864, 7728.564301967621, 41384860222, null, \"zip\", 51.71288535798724, null, [\"-8\", \"-t\", \"-w\", \"256\", \"-l\", \"256\", \"-L\"], \"/nvmen1Scratch/origData/htan-tnp-sardana-hms-prerelease-phase-1-data/recompressed/WD-76845-097.zip.ome.tif\", {\"compressionMethod\": \"zip\", \"filename\": \"WD-76845-097.ome.tif\", \"fullFilePath\": \"/s3FuseMounts/dgutman-htan-s3-synapse/htan-tnp-sardana-hms-prerelease-phase-1-data/WD-76845-097.ome.tif\", \"outputFile\": \"WD-76845-097.zip.ome.tif\", \"tileString\": [\"-8\", \"-t\", \"-w\", \"256\", \"-l\", \"256\", \"-L\"]}, 51.71288535798724, 10.354852044593272], [\"5eea31f4692e2980bb5fe9aa\", \"WD-76845-001.ome.tif\", 13048699267, 778.0672495365143, 4383036850, null, \"zip\", 33.58983727278202, null, [\"-8\", \"-t\", \"-w\", \"256\", \"-l\", \"256\", \"-L\"], \"/nvmen1Scratch/origData/htan-tnp-sardana-hms-prerelease-phase-1-data/recompressed/WD-76845-001.zip.ome.tif\", {\"compressionMethod\": \"zip\", \"filename\": \"WD-76845-001.ome.tif\", \"fullFilePath\": \"/s3FuseMounts/dgutman-htan-s3-synapse/htan-tnp-sardana-hms-prerelease-phase-1-data/WD-76845-001.ome.tif\", \"outputFile\": \"WD-76845-001.zip.ome.tif\", \"tileString\": [\"-8\", \"-t\", \"-w\", \"256\", \"-l\", \"256\", \"-L\"]}, 33.58983727278202, 16.770657388256556], [\"5eea37fc7a359007b45fe9a7\", \"WD-76845-048.ome.tif\", 12067217155, 509.8421034812927, 4687758958, null, \"zip\", 38.847058918282976, null, [\"-8\", \"-t\", \"-w\", \"256\", \"-l\", \"256\", \"-L\"], \"/nvmen1Scratch/origData/htan-tnp-sardana-hms-prerelease-phase-1-data/recompressed/WD-76845-048.zip.ome.tif\", {\"compressionMethod\": \"zip\", \"filename\": \"WD-76845-048.ome.tif\", \"fullFilePath\": \"/s3FuseMounts/dgutman-htan-s3-synapse/htan-tnp-sardana-hms-prerelease-phase-1-data/WD-76845-048.ome.tif\", \"outputFile\": \"WD-76845-048.zip.ome.tif\", \"tileString\": [\"-8\", \"-t\", \"-w\", \"256\", \"-l\", \"256\", \"-L\"]}, 38.847058918282976, 23.668537911253093], [\"5eea3c3f28bc84a252e00725\", \"WD-76845-063.ome.tif\", 11239878067, 341.2902190685272, 4652573116, null, \"zip\", 41.39344829424652, null, [\"-8\", \"-t\", \"-w\", \"256\", \"-l\", \"256\", \"-L\"], \"/nvmen1Scratch/origData/htan-tnp-sardana-hms-prerelease-phase-1-data/recompressed/WD-76845-063.zip.ome.tif\", {\"compressionMethod\": \"zip\", \"filename\": \"WD-76845-063.ome.tif\", \"fullFilePath\": \"/s3FuseMounts/dgutman-htan-s3-synapse/htan-tnp-sardana-hms-prerelease-phase-1-data/WD-76845-063.ome.tif\", \"outputFile\": \"WD-76845-063.zip.ome.tif\", \"tileString\": [\"-8\", \"-t\", \"-w\", \"256\", \"-l\", \"256\", \"-L\"]}, 41.39344829424652, 32.933490147114824], [\"5eea3ce807b8d638b9e00725\", \"WD-76845-024.ome.tif\", 11834429731, 510.6742694377899, 4738029784, null, \"zip\", 40.03597884897526, null, [\"-8\", \"-t\", \"-w\", \"256\", \"-l\", \"256\", \"-L\"], \"/nvmen1Scratch/origData/htan-tnp-sardana-hms-prerelease-phase-1-data/recompressed/WD-76845-024.zip.ome.tif\", {\"compressionMethod\": \"zip\", \"filename\": \"WD-76845-024.ome.tif\", \"fullFilePath\": \"/s3FuseMounts/dgutman-htan-s3-synapse/htan-tnp-sardana-hms-prerelease-phase-1-data/WD-76845-024.ome.tif\", \"outputFile\": \"WD-76845-024.zip.ome.tif\", \"tileString\": [\"-8\", \"-t\", \"-w\", \"256\", \"-l\", \"256\", \"-L\"]}, 40.03597884897526, 23.17412573777944], [\"5eea3fc907b8d638b9e00726\", \"WD-76845-077.ome.tif\", 11221003411, 736.1407277584076, 4374319768, null, \"zip\", 38.983320900801395, null, [\"-8\", \"-t\", \"-w\", \"256\", \"-l\", \"256\", \"-L\"], \"/nvmen1Scratch/origData/htan-tnp-sardana-hms-prerelease-phase-1-data/recompressed/WD-76845-077.zip.ome.tif\", {\"compressionMethod\": \"zip\", \"filename\": \"WD-76845-077.ome.tif\", \"fullFilePath\": \"/s3FuseMounts/dgutman-htan-s3-synapse/htan-tnp-sardana-hms-prerelease-phase-1-data/WD-76845-077.ome.tif\", \"outputFile\": \"WD-76845-077.zip.ome.tif\", \"tileString\": [\"-8\", \"-t\", \"-w\", \"256\", \"-l\", \"256\", \"-L\"]}, 38.983320900801395, 15.243013988872242], [\"5eea4d9b87f2d71db8e00726\", \"WD-76845-083.ome.tif\", 10270979059, 717.2146389484406, 4449609478, null, \"zip\", 43.32215509777528, null, [\"-8\", \"-t\", \"-w\", \"256\", \"-l\", \"256\", \"-L\"], \"/nvmen1Scratch/origData/htan-tnp-sardana-hms-prerelease-phase-1-data/recompressed/WD-76845-083.zip.ome.tif\", {\"compressionMethod\": \"zip\", \"filename\": \"WD-76845-083.ome.tif\", \"fullFilePath\": \"/s3FuseMounts/dgutman-htan-s3-synapse/htan-tnp-sardana-hms-prerelease-phase-1-data/WD-76845-083.ome.tif\", \"outputFile\": \"WD-76845-083.zip.ome.tif\", \"tileString\": [\"-8\", \"-t\", \"-w\", \"256\", \"-l\", \"256\", \"-L\"]}, 43.32215509777528, 14.3206489399868], [\"5eea5a10c437a94ce9e00725\", \"WD-76845-014.ome.tif\", 77763198424, 7973.798753499985, 38777338962, null, \"zip\", 49.86592597512319, null, [\"-8\", \"-t\", \"-w\", \"256\", \"-l\", \"256\", \"-L\"], \"/nvmen1Scratch/origData/htan-tnp-sardana-hms-prerelease-phase-1-data/recompressed/WD-76845-014.zip.ome.tif\", {\"compressionMethod\": \"zip\", \"filename\": \"WD-76845-014.ome.tif\", \"fullFilePath\": \"/s3FuseMounts/dgutman-htan-s3-synapse/htan-tnp-sardana-hms-prerelease-phase-1-data/WD-76845-014.ome.tif\", \"outputFile\": \"WD-76845-014.zip.ome.tif\", \"tileString\": [\"-8\", \"-t\", \"-w\", \"256\", \"-l\", \"256\", \"-L\"]}, 49.86592597512319, 9.75234023681209], [\"5eea5ab4485aac8111e00725\", \"WD-76845-029.ome.tif\", 79860366424, 8137.981534957886, 40213599020, null, \"zip\", 50.354889190584565, null, [\"-8\", \"-t\", \"-w\", \"256\", \"-l\", \"256\", \"-L\"], \"/nvmen1Scratch/origData/htan-tnp-sardana-hms-prerelease-phase-1-data/recompressed/WD-76845-029.zip.ome.tif\", {\"compressionMethod\": \"zip\", \"filename\": \"WD-76845-029.ome.tif\", \"fullFilePath\": \"/s3FuseMounts/dgutman-htan-s3-synapse/htan-tnp-sardana-hms-prerelease-phase-1-data/WD-76845-029.ome.tif\", \"outputFile\": \"WD-76845-029.zip.ome.tif\", \"tileString\": [\"-8\", \"-t\", \"-w\", \"256\", \"-l\", \"256\", \"-L\"]}, 50.354889190584565, 9.813289214401403], [\"5eea5c90a6ab30e49fe00728\", \"WD-76845-053.ome.tif\", 11239878067, 579.8602466583252, 4662752796, null, \"zip\", 41.48401582477772, null, [\"-8\", \"-t\", \"-w\", \"256\", \"-l\", \"256\", \"-L\"], \"/nvmen1Scratch/origData/htan-tnp-sardana-hms-prerelease-phase-1-data/recompressed/WD-76845-053.zip.ome.tif\", {\"compressionMethod\": \"zip\", \"filename\": \"WD-76845-053.ome.tif\", \"fullFilePath\": \"/s3FuseMounts/dgutman-htan-s3-synapse/htan-tnp-sardana-hms-prerelease-phase-1-data/WD-76845-053.ome.tif\", \"outputFile\": \"WD-76845-053.zip.ome.tif\", \"tileString\": [\"-8\", \"-t\", \"-w\", \"256\", \"-l\", \"256\", \"-L\"]}, 41.48401582477772, 19.38377071333008], [\"5eea5cd507b8d638b9e00728\", \"WD-76845-033.ome.tif\", 12715247011, 563.4451377391815, 4779749076, null, \"zip\", 37.59068991632663, null, [\"-8\", \"-t\", \"-w\", \"256\", \"-l\", \"256\", \"-L\"], \"/nvmen1Scratch/origData/htan-tnp-sardana-hms-prerelease-phase-1-data/recompressed/WD-76845-033.zip.ome.tif\", {\"compressionMethod\": \"zip\", \"filename\": \"WD-76845-033.ome.tif\", \"fullFilePath\": \"/s3FuseMounts/dgutman-htan-s3-synapse/htan-tnp-sardana-hms-prerelease-phase-1-data/WD-76845-033.ome.tif\", \"outputFile\": \"WD-76845-033.zip.ome.tif\", \"tileString\": [\"-8\", \"-t\", \"-w\", \"256\", \"-l\", \"256\", \"-L\"]}, 37.59068991632663, 22.566965547027014], [\"5eea5e8e07b8d638b9e00729\", \"WD-76845-085.ome.tif\", 11384583763, 440.0287048816681, 4650921526, null, \"zip\", 40.85280255142517, null, [\"-8\", \"-t\", \"-w\", \"256\", \"-l\", \"256\", \"-L\"], \"/nvmen1Scratch/origData/htan-tnp-sardana-hms-prerelease-phase-1-data/recompressed/WD-76845-085.zip.ome.tif\", {\"compressionMethod\": \"zip\", \"filename\": \"WD-76845-085.ome.tif\", \"fullFilePath\": \"/s3FuseMounts/dgutman-htan-s3-synapse/htan-tnp-sardana-hms-prerelease-phase-1-data/WD-76845-085.ome.tif\", \"outputFile\": \"WD-76845-085.zip.ome.tif\", \"tileString\": [\"-8\", \"-t\", \"-w\", \"256\", \"-l\", \"256\", \"-L\"]}, 40.85280255142517, 25.87236613588999], [\"5eea6f7528bc84a252e0072a\", \"WD-76845-038.ome.tif\", 12079800259, 536.2734694480896, 4692569952, null, \"zip\", 38.846420068111826, null, [\"-8\", \"-t\", \"-w\", \"256\", \"-l\", \"256\", \"-L\"], \"/nvmen1Scratch/origData/htan-tnp-sardana-hms-prerelease-phase-1-data/recompressed/WD-76845-038.zip.ome.tif\", {\"compressionMethod\": \"zip\", \"filename\": \"WD-76845-038.ome.tif\", \"fullFilePath\": \"/s3FuseMounts/dgutman-htan-s3-synapse/htan-tnp-sardana-hms-prerelease-phase-1-data/WD-76845-038.ome.tif\", \"outputFile\": \"WD-76845-038.zip.ome.tif\", \"tileString\": [\"-8\", \"-t\", \"-w\", \"256\", \"-l\", \"256\", \"-L\"]}, 38.846420068111826, 22.52544820356679]], \"fillcolor\": \"rgba(255,255,255,0)\", \"hoveron\": \"points\", \"hovertemplate\": \"compressionMethod=%{customdata[6]}<br>executionTime=%{customdata[3]}<br>_id=%{customdata[0]}<br>origFileName=%{customdata[1]}<br>origFileSize=%{customdata[2]}<br>compressedFileSize=%{customdata[4]}<br>compressionOptions=%{customdata[5]}<br>compressionRate=%{customdata[7]}<br>outputFileName=%{customdata[8]}<br>tileInfo=%{customdata[9]}<br>outputFileNamewPath=%{customdata[10]}<br>origCompressionDict=%{customdata[11]}<br>compressionRatio=%{customdata[12]}<br>mbytesPerSec=%{customdata[13]}<extra></extra>\", \"jitter\": 0, \"legendgroup\": \"zip\", \"line\": {\"color\": \"rgba(255,255,255,0)\"}, \"marker\": {\"color\": \"#EF553B\", \"symbol\": \"line-ns-open\"}, \"name\": \"zip\", \"offsetgroup\": \"zip\", \"showlegend\": false, \"type\": \"box\", \"x\": [5913.4547290802, 373.9866123199463, 366.1013991832733, 6224.081640005112, 426.4925584793091, 656.9697570800781, 684.5972726345062, 7647.646546363831, 477.77342534065247, 496.34153175354004, 7113.485237121582, 7589.115649223328, 8109.37854886055, 5954.852608203888, 464.418737411499, 488.72994661331177, 7728.564301967621, 778.0672495365143, 509.8421034812927, 341.2902190685272, 510.6742694377899, 736.1407277584076, 717.2146389484406, 7973.798753499985, 8137.981534957886, 579.8602466583252, 563.4451377391815, 440.0287048816681, 536.2734694480896], \"xaxis\": \"x2\", \"yaxis\": \"y2\"}, {\"alignmentgroup\": \"True\", \"bingroup\": \"x\", \"hovertemplate\": \"compressionMethod=zip:2<br>executionTime=%{x}<br>count=%{y}<extra></extra>\", \"legendgroup\": \"zip:2\", \"marker\": {\"color\": \"#00cc96\"}, \"name\": \"zip:2\", \"nbinsx\": 25, \"offsetgroup\": \"zip:2\", \"orientation\": \"v\", \"showlegend\": true, \"type\": \"histogram\", \"x\": [397.7636926174164, 388.8447744846344, 5590.432553291321, 6085.464375734329, 5614.211896657944, 5722.054629325867, 763.3601269721985, 790.2897870540619, 811.483594417572, 565.2832190990448, 7424.825670003891, 8375.954835414886, 8058.399178743362, 8412.91133093834, 554.1263117790222, 495.68961358070374, 4580.758396863937, 339.0999071598053, 5120.082880973816, 4308.936995506287, 576.1871275901794, 6347.110875368118, 6778.826405286789, 614.36305975914, 600.5363554954529, 8026.086015224457, 468.4046103954315, 7793.740849494934, 570.1165504455566, 6609.197779893875, 7417.316708564758, 575.7592494487762, 6872.255130529404, 696.7093639373779, 726.452522277832, 6291.181425333023, 7567.881829738617, 7061.358941555023, 7872.834859371185], \"xaxis\": \"x\", \"yaxis\": \"y\"}, {\"alignmentgroup\": \"True\", \"boxpoints\": \"all\", \"customdata\": [[\"5ee91669557b784b56fd998f\", \"WD-76845-006.ome.tif\", 11834429731, 397.7636926174164, 3728378900, null, \"zip:2\", 31.504508326527997, null, [\"-8\", \"-t\", \"-w\", \"256\", \"-l\", \"256\", \"-L\"], \"/nvmen1Scratch/origData/htan-tnp-sardana-hms-prerelease-phase-1-data/recompressed/WD-76845-006.zip:2.ome.tif\", {\"compressionMethod\": \"zip:2\", \"filename\": \"WD-76845-006.ome.tif\", \"fullFilePath\": \"/nvmen1Scratch/origData/htan-tnp-sardana-hms-prerelease-phase-1-data/WD-76845-006.ome.tif\", \"outputFile\": \"WD-76845-006.zip:2.ome.tif\", \"tileString\": [\"-8\", \"-t\", \"-w\", \"256\", \"-l\", \"256\", \"-L\"]}, 31.504508326527997, 29.75241318061371], [\"5ee91a15557b784b56fd9992\", \"WD-76845-001.ome.tif\", 13048699267, 388.8447744846344, 3777805572, null, \"zip:2\", 28.951587393496176, null, [\"-8\", \"-t\", \"-w\", \"256\", \"-l\", \"256\", \"-L\"], \"/nvmen1Scratch/origData/htan-tnp-sardana-hms-prerelease-phase-1-data/recompressed/WD-76845-001.zip:2.ome.tif\", {\"compressionMethod\": \"zip:2\", \"filename\": \"WD-76845-001.ome.tif\", \"fullFilePath\": \"/nvmen1Scratch/origData/htan-tnp-sardana-hms-prerelease-phase-1-data/WD-76845-001.ome.tif\", \"outputFile\": \"WD-76845-001.zip:2.ome.tif\", \"tileString\": [\"-8\", \"-t\", \"-w\", \"256\", \"-l\", \"256\", \"-L\"]}, 28.951587393496176, 33.55760479048339], [\"5ee92a003665612659fd998e\", \"WD-76845-007.ome.tif\", 86067983704, 5590.432553291321, 43006730018, null, \"zip:2\", 49.96832523218651, null, [\"-8\", \"-t\", \"-w\", \"256\", \"-l\", \"256\", \"-L\"], \"/nvmen1Scratch/origData/htan-tnp-sardana-hms-prerelease-phase-1-data/recompressed/WD-76845-007.zip:2.ome.tif\", {\"compressionMethod\": \"zip:2\", \"filename\": \"WD-76845-007.ome.tif\", \"fullFilePath\": \"/nvmen1Scratch/origData/htan-tnp-sardana-hms-prerelease-phase-1-data/WD-76845-007.ome.tif\", \"outputFile\": \"WD-76845-007.zip:2.ome.tif\", \"tileString\": [\"-8\", \"-t\", \"-w\", \"256\", \"-l\", \"256\", \"-L\"]}, 49.96832523218651, 15.395585741094076], [\"5ee92bef715184fcc2fd998e\", \"WD-76845-002.ome.tif\", 94540542424, 6085.464375734329, 46342524968, null, \"zip:2\", 49.01867894956727, null, [\"-8\", \"-t\", \"-w\", \"256\", \"-l\", \"256\", \"-L\"], \"/nvmen1Scratch/origData/htan-tnp-sardana-hms-prerelease-phase-1-data/recompressed/WD-76845-002.zip:2.ome.tif\", {\"compressionMethod\": \"zip:2\", \"filename\": \"WD-76845-002.ome.tif\", \"fullFilePath\": \"/nvmen1Scratch/origData/htan-tnp-sardana-hms-prerelease-phase-1-data/WD-76845-002.ome.tif\", \"outputFile\": \"WD-76845-002.zip:2.ome.tif\", \"tileString\": [\"-8\", \"-t\", \"-w\", \"256\", \"-l\", \"256\", \"-L\"]}, 49.01867894956727, 15.53546887908482], [\"5ee949e04e7ed2ebe2eadea9\", \"WD-76845-002.ome.tif\", 94540542424, 5614.211896657944, 46342524968, null, \"zip:2\", 49.01867894956727, null, [\"-8\", \"-t\", \"-w\", \"256\", \"-l\", \"256\", \"-L\"], \"/nvmen1Scratch/origData/htan-tnp-sardana-hms-prerelease-phase-1-data/recompressed/WD-76845-002.zip:2.ome.tif\", {\"compressionMethod\": \"zip:2\", \"filename\": \"WD-76845-002.ome.tif\", \"fullFilePath\": \"/s3FuseMounts/dgutman-htan-s3-synapse/htan-tnp-sardana-hms-prerelease-phase-1-data/WD-76845-002.ome.tif\", \"outputFile\": \"WD-76845-002.zip:2.ome.tif\", \"tileString\": [\"-8\", \"-t\", \"-w\", \"256\", \"-l\", \"256\", \"-L\"]}, 49.01867894956727, 16.83950377439059], [\"5ee94a4c84b2483271eadea9\", \"WD-76845-007.ome.tif\", 86067983704, 5722.054629325867, 43006730018, null, \"zip:2\", 49.96832523218651, null, [\"-8\", \"-t\", \"-w\", \"256\", \"-l\", \"256\", \"-L\"], \"/nvmen1Scratch/origData/htan-tnp-sardana-hms-prerelease-phase-1-data/recompressed/WD-76845-007.zip:2.ome.tif\", {\"compressionMethod\": \"zip:2\", \"filename\": \"WD-76845-007.ome.tif\", \"fullFilePath\": \"/s3FuseMounts/dgutman-htan-s3-synapse/htan-tnp-sardana-hms-prerelease-phase-1-data/WD-76845-007.ome.tif\", \"outputFile\": \"WD-76845-007.zip:2.ome.tif\", \"tileString\": [\"-8\", \"-t\", \"-w\", \"256\", \"-l\", \"256\", \"-L\"]}, 49.96832523218651, 15.041447395992432], [\"5ee955db492ea78385038554\", \"WD-76845-105.ome.tif\", 10327603048, 763.3601269721985, 3689431494, null, \"zip:2\", 35.72398626140535, null, [\"-8\", \"-t\", \"-w\", \"256\", \"-l\", \"256\", \"-L\"], \"/nvmen1Scratch/origData/htan-tnp-sardana-hms-prerelease-phase-1-data/recompressed/WD-76845-105.zip:2.ome.tif\", {\"compressionMethod\": \"zip:2\", \"filename\": \"WD-76845-105.ome.tif\", \"fullFilePath\": \"/s3FuseMounts/dgutman-htan-s3-synapse/htan-tnp-sardana-hms-prerelease-phase-1-data/WD-76845-105.ome.tif\", \"outputFile\": \"WD-76845-105.zip:2.ome.tif\", \"tileString\": [\"-8\", \"-t\", \"-w\", \"256\", \"-l\", \"256\", \"-L\"]}, 35.72398626140535, 13.529136095912605], [\"5ee955f61a4aa37fe2038554\", \"WD-76845-101.ome.tif\", 11221003432, 790.2897870540619, 3722555056, null, \"zip:2\", 33.17488563798168, null, [\"-8\", \"-t\", \"-w\", \"256\", \"-l\", \"256\", \"-L\"], \"/nvmen1Scratch/origData/htan-tnp-sardana-hms-prerelease-phase-1-data/recompressed/WD-76845-101.zip:2.ome.tif\", {\"compressionMethod\": \"zip:2\", \"filename\": \"WD-76845-101.ome.tif\", \"fullFilePath\": \"/s3FuseMounts/dgutman-htan-s3-synapse/htan-tnp-sardana-hms-prerelease-phase-1-data/WD-76845-101.ome.tif\", \"outputFile\": \"WD-76845-101.zip:2.ome.tif\", \"tileString\": [\"-8\", \"-t\", \"-w\", \"256\", \"-l\", \"256\", \"-L\"]}, 33.17488563798168, 14.198593497997965], [\"5ee9560c07c5288327038554\", \"WD-76845-048.ome.tif\", 12067217155, 811.483594417572, 3976615856, null, \"zip:2\", 32.95387664712992, null, [\"-8\", \"-t\", \"-w\", \"256\", \"-l\", \"256\", \"-L\"], \"/nvmen1Scratch/origData/htan-tnp-sardana-hms-prerelease-phase-1-data/recompressed/WD-76845-048.zip:2.ome.tif\", {\"compressionMethod\": \"zip:2\", \"filename\": \"WD-76845-048.ome.tif\", \"fullFilePath\": \"/s3FuseMounts/dgutman-htan-s3-synapse/htan-tnp-sardana-hms-prerelease-phase-1-data/WD-76845-048.ome.tif\", \"outputFile\": \"WD-76845-048.zip:2.ome.tif\", \"tileString\": [\"-8\", \"-t\", \"-w\", \"256\", \"-l\", \"256\", \"-L\"]}, 32.95387664712992, 14.870562064364384], [\"5ee95a141a4aa37fe2038556\", \"WD-76845-024.ome.tif\", 11834429731, 565.2832190990448, 3972159554, null, \"zip:2\", 33.56443567022943, null, [\"-8\", \"-t\", \"-w\", \"256\", \"-l\", \"256\", \"-L\"], \"/nvmen1Scratch/origData/htan-tnp-sardana-hms-prerelease-phase-1-data/recompressed/WD-76845-024.zip:2.ome.tif\", {\"compressionMethod\": \"zip:2\", \"filename\": \"WD-76845-024.ome.tif\", \"fullFilePath\": \"/s3FuseMounts/dgutman-htan-s3-synapse/htan-tnp-sardana-hms-prerelease-phase-1-data/WD-76845-024.ome.tif\", \"outputFile\": \"WD-76845-024.zip:2.ome.tif\", \"tileString\": [\"-8\", \"-t\", \"-w\", \"256\", \"-l\", \"256\", \"-L\"]}, 33.56443567022943, 20.93539898435665], [\"5ee96fe107c5a13130038554\", \"WD-76845-014.ome.tif\", 77763198424, 7424.825670003891, 38302814796, null, \"zip:2\", 49.255709091536836, null, [\"-8\", \"-t\", \"-w\", \"256\", \"-l\", \"256\", \"-L\"], \"/nvmen1Scratch/origData/htan-tnp-sardana-hms-prerelease-phase-1-data/recompressed/WD-76845-014.zip:2.ome.tif\", {\"compressionMethod\": \"zip:2\", \"filename\": \"WD-76845-014.ome.tif\", \"fullFilePath\": \"/s3FuseMounts/dgutman-htan-s3-synapse/htan-tnp-sardana-hms-prerelease-phase-1-data/WD-76845-014.ome.tif\", \"outputFile\": \"WD-76845-014.zip:2.ome.tif\", \"tileString\": [\"-8\", \"-t\", \"-w\", \"256\", \"-l\", \"256\", \"-L\"]}, 49.255709091536836, 10.473403939726337], [\"5ee9739829adeff7e7038554\", \"WD-76845-059.ome.tif\", 86067983704, 8375.954835414886, 43147894010, null, \"zip:2\", 50.13233975410848, null, [\"-8\", \"-t\", \"-w\", \"256\", \"-l\", \"256\", \"-L\"], \"/nvmen1Scratch/origData/htan-tnp-sardana-hms-prerelease-phase-1-data/recompressed/WD-76845-059.zip:2.ome.tif\", {\"compressionMethod\": \"zip:2\", \"filename\": \"WD-76845-059.ome.tif\", \"fullFilePath\": \"/s3FuseMounts/dgutman-htan-s3-synapse/htan-tnp-sardana-hms-prerelease-phase-1-data/WD-76845-059.ome.tif\", \"outputFile\": \"WD-76845-059.zip:2.ome.tif\", \"tileString\": [\"-8\", \"-t\", \"-w\", \"256\", \"-l\", \"256\", \"-L\"]}, 50.13233975410848, 10.275602650111088], [\"5ee97556492ea78385038555\", \"WD-76845-039.ome.tif\", 86067983704, 8058.399178743362, 43385281020, null, \"zip:2\", 50.40815312835506, null, [\"-8\", \"-t\", \"-w\", \"256\", \"-l\", \"256\", \"-L\"], \"/nvmen1Scratch/origData/htan-tnp-sardana-hms-prerelease-phase-1-data/recompressed/WD-76845-039.zip:2.ome.tif\", {\"compressionMethod\": \"zip:2\", \"filename\": \"WD-76845-039.ome.tif\", \"fullFilePath\": \"/s3FuseMounts/dgutman-htan-s3-synapse/htan-tnp-sardana-hms-prerelease-phase-1-data/WD-76845-039.ome.tif\", \"outputFile\": \"WD-76845-039.zip:2.ome.tif\", \"tileString\": [\"-8\", \"-t\", \"-w\", \"256\", \"-l\", \"256\", \"-L\"]}, 50.40815312835506, 10.680531181804964], [\"5ee9764f9d5df40196038555\", \"WD-76845-020.ome.tif\", 89758999384, 8412.91133093834, 44313474856, null, \"zip:2\", 49.36939489089169, null, [\"-8\", \"-t\", \"-w\", \"256\", \"-l\", \"256\", \"-L\"], \"/nvmen1Scratch/origData/htan-tnp-sardana-hms-prerelease-phase-1-data/recompressed/WD-76845-020.zip:2.ome.tif\", {\"compressionMethod\": \"zip:2\", \"filename\": \"WD-76845-020.ome.tif\", \"fullFilePath\": \"/s3FuseMounts/dgutman-htan-s3-synapse/htan-tnp-sardana-hms-prerelease-phase-1-data/WD-76845-020.ome.tif\", \"outputFile\": \"WD-76845-020.zip:2.ome.tif\", \"tileString\": [\"-8\", \"-t\", \"-w\", \"256\", \"-l\", \"256\", \"-L\"]}, 49.36939489089169, 10.669195936240621], [\"5ee97de807c5a13130038558\", \"WD-76845-033.ome.tif\", 12715247011, 554.1263117790222, 3999014232, null, \"zip:2\", 31.450543025553813, null, [\"-8\", \"-t\", \"-w\", \"256\", \"-l\", \"256\", \"-L\"], \"/nvmen1Scratch/origData/htan-tnp-sardana-hms-prerelease-phase-1-data/recompressed/WD-76845-033.zip:2.ome.tif\", {\"compressionMethod\": \"zip:2\", \"filename\": \"WD-76845-033.ome.tif\", \"fullFilePath\": \"/s3FuseMounts/dgutman-htan-s3-synapse/htan-tnp-sardana-hms-prerelease-phase-1-data/WD-76845-033.ome.tif\", \"outputFile\": \"WD-76845-033.zip:2.ome.tif\", \"tileString\": [\"-8\", \"-t\", \"-w\", \"256\", \"-l\", \"256\", \"-L\"]}, 31.450543025553813, 22.94647761839301], [\"5ee9806329adeff7e7038556\", \"WD-76845-096.ome.tif\", 11384583763, 495.68961358070374, 3851234692, null, \"zip:2\", 33.82850679632704, null, [\"-8\", \"-t\", \"-w\", \"256\", \"-l\", \"256\", \"-L\"], \"/nvmen1Scratch/origData/htan-tnp-sardana-hms-prerelease-phase-1-data/recompressed/WD-76845-096.zip:2.ome.tif\", {\"compressionMethod\": \"zip:2\", \"filename\": \"WD-76845-096.ome.tif\", \"fullFilePath\": \"/s3FuseMounts/dgutman-htan-s3-synapse/htan-tnp-sardana-hms-prerelease-phase-1-data/WD-76845-096.ome.tif\", \"outputFile\": \"WD-76845-096.zip:2.ome.tif\", \"tileString\": [\"-8\", \"-t\", \"-w\", \"256\", \"-l\", \"256\", \"-L\"]}, 33.82850679632704, 22.96716221419569], [\"5ee987ae07c5288327038557\", \"WD-76845-078.ome.tif\", 74575503064, 4580.758396863937, 37525384952, null, \"zip:2\", 50.318648095201, null, [\"-8\", \"-t\", \"-w\", \"256\", \"-l\", \"256\", \"-L\"], \"/nvmen1Scratch/origData/htan-tnp-sardana-hms-prerelease-phase-1-data/recompressed/WD-76845-078.zip:2.ome.tif\", {\"compressionMethod\": \"zip:2\", \"filename\": \"WD-76845-078.ome.tif\", \"fullFilePath\": \"/s3FuseMounts/dgutman-htan-s3-synapse/htan-tnp-sardana-hms-prerelease-phase-1-data/WD-76845-078.ome.tif\", \"outputFile\": \"WD-76845-078.zip:2.ome.tif\", \"tileString\": [\"-8\", \"-t\", \"-w\", \"256\", \"-l\", \"256\", \"-L\"]}, 50.318648095201, 16.280165117430254], [\"5ee9890107c5288327038558\", \"WD-76845-058.ome.tif\", 11239878067, 339.0999071598053, 3864155754, null, \"zip:2\", 34.37898285876485, null, [\"-8\", \"-t\", \"-w\", \"256\", \"-l\", \"256\", \"-L\"], \"/nvmen1Scratch/origData/htan-tnp-sardana-hms-prerelease-phase-1-data/recompressed/WD-76845-058.zip:2.ome.tif\", {\"compressionMethod\": \"zip:2\", \"filename\": \"WD-76845-058.ome.tif\", \"fullFilePath\": \"/s3FuseMounts/dgutman-htan-s3-synapse/htan-tnp-sardana-hms-prerelease-phase-1-data/WD-76845-058.ome.tif\", \"outputFile\": \"WD-76845-058.zip:2.ome.tif\", \"tileString\": [\"-8\", \"-t\", \"-w\", \"256\", \"-l\", \"256\", \"-L\"]}, 34.37898285876485, 33.14621393188132], [\"5ee98e8c1a4aa37fe203855a\", \"WD-76845-029.ome.tif\", 79860366424, 5120.082880973816, 39680533438, null, \"zip:2\", 49.68739215060128, null, [\"-8\", \"-t\", \"-w\", \"256\", \"-l\", \"256\", \"-L\"], \"/nvmen1Scratch/origData/htan-tnp-sardana-hms-prerelease-phase-1-data/recompressed/WD-76845-029.zip:2.ome.tif\", {\"compressionMethod\": \"zip:2\", \"filename\": \"WD-76845-029.ome.tif\", \"fullFilePath\": \"/s3FuseMounts/dgutman-htan-s3-synapse/htan-tnp-sardana-hms-prerelease-phase-1-data/WD-76845-029.ome.tif\", \"outputFile\": \"WD-76845-029.zip:2.ome.tif\", \"tileString\": [\"-8\", \"-t\", \"-w\", \"256\", \"-l\", \"256\", \"-L\"]}, 49.68739215060128, 15.59747533008898], [\"5ee99420c8c1e225d3038557\", \"WD-76845-086.ome.tif\", 77763198424, 4308.936995506287, 38849121782, null, \"zip:2\", 49.9582354755743, null, [\"-8\", \"-t\", \"-w\", \"256\", \"-l\", \"256\", \"-L\"], \"/nvmen1Scratch/origData/htan-tnp-sardana-hms-prerelease-phase-1-data/recompressed/WD-76845-086.zip:2.ome.tif\", {\"compressionMethod\": \"zip:2\", \"filename\": \"WD-76845-086.ome.tif\", \"fullFilePath\": \"/s3FuseMounts/dgutman-htan-s3-synapse/htan-tnp-sardana-hms-prerelease-phase-1-data/WD-76845-086.ome.tif\", \"outputFile\": \"WD-76845-086.zip:2.ome.tif\", \"tileString\": [\"-8\", \"-t\", \"-w\", \"256\", \"-l\", \"256\", \"-L\"]}, 49.9582354755743, 18.046956477919693], [\"5eea0323b5f447f61e5fe9a4\", \"WD-76845-085.ome.tif\", 11384583763, 576.1871275901794, 3915863502, null, \"zip:2\", 34.39619386636332, null, [\"-8\", \"-t\", \"-w\", \"256\", \"-l\", \"256\", \"-L\"], \"/nvmen1Scratch/origData/htan-tnp-sardana-hms-prerelease-phase-1-data/recompressed/WD-76845-085.zip:2.ome.tif\", {\"compressionMethod\": \"zip:2\", \"filename\": \"WD-76845-085.ome.tif\", \"fullFilePath\": \"/s3FuseMounts/dgutman-htan-s3-synapse/htan-tnp-sardana-hms-prerelease-phase-1-data/WD-76845-085.ome.tif\", \"outputFile\": \"WD-76845-085.zip:2.ome.tif\", \"tileString\": [\"-8\", \"-t\", \"-w\", \"256\", \"-l\", \"256\", \"-L\"]}, 34.39619386636332, 19.758483343101396], [\"5eea1915049ce574635fe9a4\", \"WD-76845-084.ome.tif\", 74575503064, 6347.110875368118, 37617116838, null, \"zip:2\", 50.44165348199843, null, [\"-8\", \"-t\", \"-w\", \"256\", \"-l\", \"256\", \"-L\"], \"/nvmen1Scratch/origData/htan-tnp-sardana-hms-prerelease-phase-1-data/recompressed/WD-76845-084.zip:2.ome.tif\", {\"compressionMethod\": \"zip:2\", \"filename\": \"WD-76845-084.ome.tif\", \"fullFilePath\": \"/s3FuseMounts/dgutman-htan-s3-synapse/htan-tnp-sardana-hms-prerelease-phase-1-data/WD-76845-084.ome.tif\", \"outputFile\": \"WD-76845-084.zip:2.ome.tif\", \"tileString\": [\"-8\", \"-t\", \"-w\", \"256\", \"-l\", \"256\", \"-L\"]}, 50.44165348199843, 11.749519510272426], [\"5eea1b26c617b77de35fe9a4\", \"WD-76845-091.ome.tif\", 77763198424, 6778.826405286789, 38243643084, null, \"zip:2\", 49.179616912718046, null, [\"-8\", \"-t\", \"-w\", \"256\", \"-l\", \"256\", \"-L\"], \"/nvmen1Scratch/origData/htan-tnp-sardana-hms-prerelease-phase-1-data/recompressed/WD-76845-091.zip:2.ome.tif\", {\"compressionMethod\": \"zip:2\", \"filename\": \"WD-76845-091.ome.tif\", \"fullFilePath\": \"/s3FuseMounts/dgutman-htan-s3-synapse/htan-tnp-sardana-hms-prerelease-phase-1-data/WD-76845-091.ome.tif\", \"outputFile\": \"WD-76845-091.zip:2.ome.tif\", \"tileString\": [\"-8\", \"-t\", \"-w\", \"256\", \"-l\", \"256\", \"-L\"]}, 49.179616912718046, 11.471483967099775], [\"5eea1b7c049ce574635fe9a5\", \"WD-76845-013.ome.tif\", 12727830115, 614.36305975914, 3884386058, null, \"zip:2\", 30.51883960504921, null, [\"-8\", \"-t\", \"-w\", \"256\", \"-l\", \"256\", \"-L\"], \"/nvmen1Scratch/origData/htan-tnp-sardana-hms-prerelease-phase-1-data/recompressed/WD-76845-013.zip:2.ome.tif\", {\"compressionMethod\": \"zip:2\", \"filename\": \"WD-76845-013.ome.tif\", \"fullFilePath\": \"/s3FuseMounts/dgutman-htan-s3-synapse/htan-tnp-sardana-hms-prerelease-phase-1-data/WD-76845-013.ome.tif\", \"outputFile\": \"WD-76845-013.zip:2.ome.tif\", \"tileString\": [\"-8\", \"-t\", \"-w\", \"256\", \"-l\", \"256\", \"-L\"]}, 30.51883960504921, 20.717114925480587], [\"5eea1dd5049ce574635fe9a6\", \"WD-76845-090.ome.tif\", 10657909507, 600.5363554954529, 3714891402, null, \"zip:2\", 34.85572287473542, null, [\"-8\", \"-t\", \"-w\", \"256\", \"-l\", \"256\", \"-L\"], \"/nvmen1Scratch/origData/htan-tnp-sardana-hms-prerelease-phase-1-data/recompressed/WD-76845-090.zip:2.ome.tif\", {\"compressionMethod\": \"zip:2\", \"filename\": \"WD-76845-090.ome.tif\", \"fullFilePath\": \"/s3FuseMounts/dgutman-htan-s3-synapse/htan-tnp-sardana-hms-prerelease-phase-1-data/WD-76845-090.ome.tif\", \"outputFile\": \"WD-76845-090.zip:2.ome.tif\", \"tileString\": [\"-8\", \"-t\", \"-w\", \"256\", \"-l\", \"256\", \"-L\"]}, 34.85572287473542, 17.747317726013506], [\"5eea1e6cc100c647d85fe9a3\", \"WD-76845-050.ome.tif\", 86067983704, 8026.086015224457, 43236588388, null, \"zip:2\", 50.235391288701216, null, [\"-8\", \"-t\", \"-w\", \"256\", \"-l\", \"256\", \"-L\"], \"/nvmen1Scratch/origData/htan-tnp-sardana-hms-prerelease-phase-1-data/recompressed/WD-76845-050.zip:2.ome.tif\", {\"compressionMethod\": \"zip:2\", \"filename\": \"WD-76845-050.ome.tif\", \"fullFilePath\": \"/s3FuseMounts/dgutman-htan-s3-synapse/htan-tnp-sardana-hms-prerelease-phase-1-data/WD-76845-050.ome.tif\", \"outputFile\": \"WD-76845-050.zip:2.ome.tif\", \"tileString\": [\"-8\", \"-t\", \"-w\", \"256\", \"-l\", \"256\", \"-L\"]}, 50.235391288701216, 10.723531188270355], [\"5eea1fa9049ce574635fe9a7\", \"WD-76845-073.ome.tif\", 9808549987, 468.4046103954315, 3420732888, null, \"zip:2\", 34.8750110111459, null, [\"-8\", \"-t\", \"-w\", \"256\", \"-l\", \"256\", \"-L\"], \"/nvmen1Scratch/origData/htan-tnp-sardana-hms-prerelease-phase-1-data/recompressed/WD-76845-073.zip:2.ome.tif\", {\"compressionMethod\": \"zip:2\", \"filename\": \"WD-76845-073.ome.tif\", \"fullFilePath\": \"/s3FuseMounts/dgutman-htan-s3-synapse/htan-tnp-sardana-hms-prerelease-phase-1-data/WD-76845-073.ome.tif\", \"outputFile\": \"WD-76845-073.zip:2.ome.tif\", \"tileString\": [\"-8\", \"-t\", \"-w\", \"256\", \"-l\", \"256\", \"-L\"]}, 34.8750110111459, 20.940336131020427], [\"5eea2d9c5b022b5ffc5fe9a4\", \"WD-76845-044.ome.tif\", 82209194584, 7793.740849494934, 41462741978, null, \"zip:2\", 50.435650401165354, null, [\"-8\", \"-t\", \"-w\", \"256\", \"-l\", \"256\", \"-L\"], \"/nvmen1Scratch/origData/htan-tnp-sardana-hms-prerelease-phase-1-data/recompressed/WD-76845-044.zip:2.ome.tif\", {\"compressionMethod\": \"zip:2\", \"filename\": \"WD-76845-044.ome.tif\", \"fullFilePath\": \"/s3FuseMounts/dgutman-htan-s3-synapse/htan-tnp-sardana-hms-prerelease-phase-1-data/WD-76845-044.ome.tif\", \"outputFile\": \"WD-76845-044.zip:2.ome.tif\", \"tileString\": [\"-8\", \"-t\", \"-w\", \"256\", \"-l\", \"256\", \"-L\"]}, 50.435650401165354, 10.548104712684601], [\"5eea3595692e2980bb5fe9ac\", \"WD-76845-053.ome.tif\", 11239878067, 570.1165504455566, 3942772688, null, \"zip:2\", 35.07842936104335, null, [\"-8\", \"-t\", \"-w\", \"256\", \"-l\", \"256\", \"-L\"], \"/nvmen1Scratch/origData/htan-tnp-sardana-hms-prerelease-phase-1-data/recompressed/WD-76845-053.zip:2.ome.tif\", {\"compressionMethod\": \"zip:2\", \"filename\": \"WD-76845-053.ome.tif\", \"fullFilePath\": \"/s3FuseMounts/dgutman-htan-s3-synapse/htan-tnp-sardana-hms-prerelease-phase-1-data/WD-76845-053.ome.tif\", \"outputFile\": \"WD-76845-053.zip:2.ome.tif\", \"tileString\": [\"-8\", \"-t\", \"-w\", \"256\", \"-l\", \"256\", \"-L\"]}, 35.07842936104335, 19.715053103116944], [\"5eea35fe7a359007b45fe9a6\", \"WD-76845-074.ome.tif\", 74575503064, 6609.197779893875, 37786805400, null, \"zip:2\", 50.66919276102196, null, [\"-8\", \"-t\", \"-w\", \"256\", \"-l\", \"256\", \"-L\"], \"/nvmen1Scratch/origData/htan-tnp-sardana-hms-prerelease-phase-1-data/recompressed/WD-76845-074.zip:2.ome.tif\", {\"compressionMethod\": \"zip:2\", \"filename\": \"WD-76845-074.ome.tif\", \"fullFilePath\": \"/s3FuseMounts/dgutman-htan-s3-synapse/htan-tnp-sardana-hms-prerelease-phase-1-data/WD-76845-074.ome.tif\", \"outputFile\": \"WD-76845-074.zip:2.ome.tif\", \"tileString\": [\"-8\", \"-t\", \"-w\", \"256\", \"-l\", \"256\", \"-L\"]}, 50.66919276102196, 11.283593795735596], [\"5eea38febb2b0550615fe9a6\", \"WD-76845-051.ome.tif\", 82209194584, 7417.316708564758, 42785432098, null, \"zip:2\", 52.04458250017587, null, [\"-8\", \"-t\", \"-w\", \"256\", \"-l\", \"256\", \"-L\"], \"/nvmen1Scratch/origData/htan-tnp-sardana-hms-prerelease-phase-1-data/recompressed/WD-76845-051.zip:2.ome.tif\", {\"compressionMethod\": \"zip:2\", \"filename\": \"WD-76845-051.ome.tif\", \"fullFilePath\": \"/s3FuseMounts/dgutman-htan-s3-synapse/htan-tnp-sardana-hms-prerelease-phase-1-data/WD-76845-051.ome.tif\", \"outputFile\": \"WD-76845-051.zip:2.ome.tif\", \"tileString\": [\"-8\", \"-t\", \"-w\", \"256\", \"-l\", \"256\", \"-L\"]}, 52.04458250017587, 11.083414368577957], [\"5eea51c728bc84a252e00728\", \"WD-76845-038.ome.tif\", 12079800259, 575.7592494487762, 3965062508, null, \"zip:2\", 32.823907870876, null, [\"-8\", \"-t\", \"-w\", \"256\", \"-l\", \"256\", \"-L\"], \"/nvmen1Scratch/origData/htan-tnp-sardana-hms-prerelease-phase-1-data/recompressed/WD-76845-038.zip:2.ome.tif\", {\"compressionMethod\": \"zip:2\", \"filename\": \"WD-76845-038.ome.tif\", \"fullFilePath\": \"/s3FuseMounts/dgutman-htan-s3-synapse/htan-tnp-sardana-hms-prerelease-phase-1-data/WD-76845-038.ome.tif\", \"outputFile\": \"WD-76845-038.zip:2.ome.tif\", \"tileString\": [\"-8\", \"-t\", \"-w\", \"256\", \"-l\", \"256\", \"-L\"]}, 32.823907870876, 20.980644723580262], [\"5eea5aa107b8d638b9e00727\", \"WD-76845-106.ome.tif\", 74575503064, 6872.255130529404, 37361993422, null, \"zip:2\", 50.09955265060202, null, [\"-8\", \"-t\", \"-w\", \"256\", \"-l\", \"256\", \"-L\"], \"/nvmen1Scratch/origData/htan-tnp-sardana-hms-prerelease-phase-1-data/recompressed/WD-76845-106.zip:2.ome.tif\", {\"compressionMethod\": \"zip:2\", \"filename\": \"WD-76845-106.ome.tif\", \"fullFilePath\": \"/s3FuseMounts/dgutman-htan-s3-synapse/htan-tnp-sardana-hms-prerelease-phase-1-data/WD-76845-106.ome.tif\", \"outputFile\": \"WD-76845-106.zip:2.ome.tif\", \"tileString\": [\"-8\", \"-t\", \"-w\", \"256\", \"-l\", \"256\", \"-L\"]}, 50.09955265060202, 10.851678473446762], [\"5eea5cc28d45a18a18e00727\", \"WD-76845-001.ome.tif\", 13048699267, 696.7093639373779, 3777805572, null, \"zip:2\", 28.951587393496176, null, [\"-8\", \"-t\", \"-w\", \"256\", \"-l\", \"256\", \"-L\"], \"/nvmen1Scratch/origData/htan-tnp-sardana-hms-prerelease-phase-1-data/recompressed/WD-76845-001.zip:2.ome.tif\", {\"compressionMethod\": \"zip:2\", \"filename\": \"WD-76845-001.ome.tif\", \"fullFilePath\": \"/s3FuseMounts/dgutman-htan-s3-synapse/htan-tnp-sardana-hms-prerelease-phase-1-data/WD-76845-001.ome.tif\", \"outputFile\": \"WD-76845-001.zip:2.ome.tif\", \"tileString\": [\"-8\", \"-t\", \"-w\", \"256\", \"-l\", \"256\", \"-L\"]}, 28.951587393496176, 18.729042470818364], [\"5eea5ce6c437a94ce9e00726\", \"WD-76845-019.ome.tif\", 13674708691, 726.452522277832, 4023233458, null, \"zip:2\", 29.420981089329445, null, [\"-8\", \"-t\", \"-w\", \"256\", \"-l\", \"256\", \"-L\"], \"/nvmen1Scratch/origData/htan-tnp-sardana-hms-prerelease-phase-1-data/recompressed/WD-76845-019.zip:2.ome.tif\", {\"compressionMethod\": \"zip:2\", \"filename\": \"WD-76845-019.ome.tif\", \"fullFilePath\": \"/s3FuseMounts/dgutman-htan-s3-synapse/htan-tnp-sardana-hms-prerelease-phase-1-data/WD-76845-019.ome.tif\", \"outputFile\": \"WD-76845-019.zip:2.ome.tif\", \"tileString\": [\"-8\", \"-t\", \"-w\", \"256\", \"-l\", \"256\", \"-L\"]}, 29.420981089329445, 18.823953763863596], [\"5eea643bf57863fbe4e00726\", \"WD-76845-069.ome.tif\", 74575503064, 6291.181425333023, 37000441922, null, \"zip:2\", 49.61473996393503, null, [\"-8\", \"-t\", \"-w\", \"256\", \"-l\", \"256\", \"-L\"], \"/nvmen1Scratch/origData/htan-tnp-sardana-hms-prerelease-phase-1-data/recompressed/WD-76845-069.zip:2.ome.tif\", {\"compressionMethod\": \"zip:2\", \"filename\": \"WD-76845-069.ome.tif\", \"fullFilePath\": \"/s3FuseMounts/dgutman-htan-s3-synapse/htan-tnp-sardana-hms-prerelease-phase-1-data/WD-76845-069.ome.tif\", \"outputFile\": \"WD-76845-069.zip:2.ome.tif\", \"tileString\": [\"-8\", \"-t\", \"-w\", \"256\", \"-l\", \"256\", \"-L\"]}, 49.61473996393503, 11.853974320896707], [\"5eea6b2b87f2d71db8e00727\", \"WD-76845-052.ome.tif\", 86067983704, 7567.881829738617, 43549084954, null, \"zip:2\", 50.598472370134154, null, [\"-8\", \"-t\", \"-w\", \"256\", \"-l\", \"256\", \"-L\"], \"/nvmen1Scratch/origData/htan-tnp-sardana-hms-prerelease-phase-1-data/recompressed/WD-76845-052.zip:2.ome.tif\", {\"compressionMethod\": \"zip:2\", \"filename\": \"WD-76845-052.ome.tif\", \"fullFilePath\": \"/s3FuseMounts/dgutman-htan-s3-synapse/htan-tnp-sardana-hms-prerelease-phase-1-data/WD-76845-052.ome.tif\", \"outputFile\": \"WD-76845-052.zip:2.ome.tif\", \"tileString\": [\"-8\", \"-t\", \"-w\", \"256\", \"-l\", \"256\", \"-L\"]}, 50.598472370134154, 11.372796991331015], [\"5eea6d5c28bc84a252e00729\", \"WD-76845-064.ome.tif\", 79860366424, 7061.358941555023, 40234489692, null, \"zip:2\", 50.38104818901575, null, [\"-8\", \"-t\", \"-w\", \"256\", \"-l\", \"256\", \"-L\"], \"/nvmen1Scratch/origData/htan-tnp-sardana-hms-prerelease-phase-1-data/recompressed/WD-76845-064.zip:2.ome.tif\", {\"compressionMethod\": \"zip:2\", \"filename\": \"WD-76845-064.ome.tif\", \"fullFilePath\": \"/s3FuseMounts/dgutman-htan-s3-synapse/htan-tnp-sardana-hms-prerelease-phase-1-data/WD-76845-064.ome.tif\", \"outputFile\": \"WD-76845-064.zip:2.ome.tif\", \"tileString\": [\"-8\", \"-t\", \"-w\", \"256\", \"-l\", \"256\", \"-L\"]}, 50.38104818901575, 11.30948972924091], [\"5eea7975485aac8111e00726\", \"WD-76845-034.ome.tif\", 88249038424, 7872.834859371185, 45162064692, null, \"zip:2\", 51.17570173967791, null, [\"-8\", \"-t\", \"-w\", \"256\", \"-l\", \"256\", \"-L\"], \"/nvmen1Scratch/origData/htan-tnp-sardana-hms-prerelease-phase-1-data/recompressed/WD-76845-034.zip:2.ome.tif\", {\"compressionMethod\": \"zip:2\", \"filename\": \"WD-76845-034.ome.tif\", \"fullFilePath\": \"/s3FuseMounts/dgutman-htan-s3-synapse/htan-tnp-sardana-hms-prerelease-phase-1-data/WD-76845-034.ome.tif\", \"outputFile\": \"WD-76845-034.zip:2.ome.tif\", \"tileString\": [\"-8\", \"-t\", \"-w\", \"256\", \"-l\", \"256\", \"-L\"]}, 51.17570173967791, 11.209308971971575]], \"fillcolor\": \"rgba(255,255,255,0)\", \"hoveron\": \"points\", \"hovertemplate\": \"compressionMethod=%{customdata[6]}<br>executionTime=%{customdata[3]}<br>_id=%{customdata[0]}<br>origFileName=%{customdata[1]}<br>origFileSize=%{customdata[2]}<br>compressedFileSize=%{customdata[4]}<br>compressionOptions=%{customdata[5]}<br>compressionRate=%{customdata[7]}<br>outputFileName=%{customdata[8]}<br>tileInfo=%{customdata[9]}<br>outputFileNamewPath=%{customdata[10]}<br>origCompressionDict=%{customdata[11]}<br>compressionRatio=%{customdata[12]}<br>mbytesPerSec=%{customdata[13]}<extra></extra>\", \"jitter\": 0, \"legendgroup\": \"zip:2\", \"line\": {\"color\": \"rgba(255,255,255,0)\"}, \"marker\": {\"color\": \"#00cc96\", \"symbol\": \"line-ns-open\"}, \"name\": \"zip:2\", \"offsetgroup\": \"zip:2\", \"showlegend\": false, \"type\": \"box\", \"x\": [397.7636926174164, 388.8447744846344, 5590.432553291321, 6085.464375734329, 5614.211896657944, 5722.054629325867, 763.3601269721985, 790.2897870540619, 811.483594417572, 565.2832190990448, 7424.825670003891, 8375.954835414886, 8058.399178743362, 8412.91133093834, 554.1263117790222, 495.68961358070374, 4580.758396863937, 339.0999071598053, 5120.082880973816, 4308.936995506287, 576.1871275901794, 6347.110875368118, 6778.826405286789, 614.36305975914, 600.5363554954529, 8026.086015224457, 468.4046103954315, 7793.740849494934, 570.1165504455566, 6609.197779893875, 7417.316708564758, 575.7592494487762, 6872.255130529404, 696.7093639373779, 726.452522277832, 6291.181425333023, 7567.881829738617, 7061.358941555023, 7872.834859371185], \"xaxis\": \"x2\", \"yaxis\": \"y2\"}, {\"alignmentgroup\": \"True\", \"bingroup\": \"x\", \"hovertemplate\": \"compressionMethod=lzma<br>executionTime=%{x}<br>count=%{y}<extra></extra>\", \"legendgroup\": \"lzma\", \"marker\": {\"color\": \"#ab63fa\"}, \"name\": \"lzma\", \"nbinsx\": 25, \"offsetgroup\": \"lzma\", \"orientation\": \"v\", \"showlegend\": true, \"type\": \"histogram\", \"x\": [2745.2994956970215, 2544.670735359192, 21207.84808945656, 23476.948788881302], \"xaxis\": \"x\", \"yaxis\": \"y\"}, {\"alignmentgroup\": \"True\", \"boxpoints\": \"all\", \"customdata\": [[\"5ee92059472cad3ec2fd998f\", \"WD-76845-006.ome.tif\", 11834429731, 2745.2994956970215, 3525198902, null, \"lzma\", 29.787653331244407, null, [\"-8\", \"-t\", \"-w\", \"256\", \"-l\", \"256\", \"-L\"], \"/nvmen1Scratch/origData/htan-tnp-sardana-hms-prerelease-phase-1-data/recompressed/WD-76845-006.lzma.ome.tif\", {\"compressionMethod\": \"lzma\", \"filename\": \"WD-76845-006.ome.tif\", \"fullFilePath\": \"/nvmen1Scratch/origData/htan-tnp-sardana-hms-prerelease-phase-1-data/WD-76845-006.ome.tif\", \"outputFile\": \"WD-76845-006.lzma.ome.tif\", \"tileString\": [\"-8\", \"-t\", \"-w\", \"256\", \"-l\", \"256\", \"-L\"]}, 29.787653331244407, 4.3107973281418905], [\"5ee92406557b784b56fd9993\", \"WD-76845-001.ome.tif\", 13048699267, 2544.670735359192, 3580721362, null, \"lzma\", 27.441213018492967, null, [\"-8\", \"-t\", \"-w\", \"256\", \"-l\", \"256\", \"-L\"], \"/nvmen1Scratch/origData/htan-tnp-sardana-hms-prerelease-phase-1-data/recompressed/WD-76845-001.lzma.ome.tif\", {\"compressionMethod\": \"lzma\", \"filename\": \"WD-76845-001.ome.tif\", \"fullFilePath\": \"/nvmen1Scratch/origData/htan-tnp-sardana-hms-prerelease-phase-1-data/WD-76845-001.ome.tif\", \"outputFile\": \"WD-76845-001.lzma.ome.tif\", \"tileString\": [\"-8\", \"-t\", \"-w\", \"256\", \"-l\", \"256\", \"-L\"]}, 27.441213018492967, 5.127853708412345], [\"5ee96701b4a211c4a5fd998e\", \"WD-76845-007.ome.tif\", 86067983704, 21207.84808945656, 37796236820, null, \"lzma\", 43.91439789037771, null, [\"-8\", \"-t\", \"-w\", \"256\", \"-l\", \"256\", \"-L\"], \"/nvmen1Scratch/origData/htan-tnp-sardana-hms-prerelease-phase-1-data/recompressed/WD-76845-007.lzma.ome.tif\", {\"compressionMethod\": \"lzma\", \"filename\": \"WD-76845-007.ome.tif\", \"fullFilePath\": \"/nvmen1Scratch/origData/htan-tnp-sardana-hms-prerelease-phase-1-data/WD-76845-007.ome.tif\", \"outputFile\": \"WD-76845-007.lzma.ome.tif\", \"tileString\": [\"-8\", \"-t\", \"-w\", \"256\", \"-l\", \"256\", \"-L\"]}, 43.91439789037771, 4.058308195200084], [\"5ee96fde9d5f656653fd998e\", \"WD-76845-002.ome.tif\", 94540542424, 23476.948788881302, 40679166408, null, \"lzma\", 43.028276932831744, null, [\"-8\", \"-t\", \"-w\", \"256\", \"-l\", \"256\", \"-L\"], \"/nvmen1Scratch/origData/htan-tnp-sardana-hms-prerelease-phase-1-data/recompressed/WD-76845-002.lzma.ome.tif\", {\"compressionMethod\": \"lzma\", \"filename\": \"WD-76845-002.ome.tif\", \"fullFilePath\": \"/nvmen1Scratch/origData/htan-tnp-sardana-hms-prerelease-phase-1-data/WD-76845-002.ome.tif\", \"outputFile\": \"WD-76845-002.lzma.ome.tif\", \"tileString\": [\"-8\", \"-t\", \"-w\", \"256\", \"-l\", \"256\", \"-L\"]}, 43.028276932831744, 4.026951852822308]], \"fillcolor\": \"rgba(255,255,255,0)\", \"hoveron\": \"points\", \"hovertemplate\": \"compressionMethod=%{customdata[6]}<br>executionTime=%{customdata[3]}<br>_id=%{customdata[0]}<br>origFileName=%{customdata[1]}<br>origFileSize=%{customdata[2]}<br>compressedFileSize=%{customdata[4]}<br>compressionOptions=%{customdata[5]}<br>compressionRate=%{customdata[7]}<br>outputFileName=%{customdata[8]}<br>tileInfo=%{customdata[9]}<br>outputFileNamewPath=%{customdata[10]}<br>origCompressionDict=%{customdata[11]}<br>compressionRatio=%{customdata[12]}<br>mbytesPerSec=%{customdata[13]}<extra></extra>\", \"jitter\": 0, \"legendgroup\": \"lzma\", \"line\": {\"color\": \"rgba(255,255,255,0)\"}, \"marker\": {\"color\": \"#ab63fa\", \"symbol\": \"line-ns-open\"}, \"name\": \"lzma\", \"offsetgroup\": \"lzma\", \"showlegend\": false, \"type\": \"box\", \"x\": [2745.2994956970215, 2544.670735359192, 21207.84808945656, 23476.948788881302], \"xaxis\": \"x2\", \"yaxis\": \"y2\"}],\n",
       "                        {\"barmode\": \"relative\", \"legend\": {\"title\": {\"text\": \"compressionMethod\"}, \"tracegroupgap\": 0}, \"margin\": {\"t\": 60}, \"template\": {\"data\": {\"bar\": [{\"error_x\": {\"color\": \"#2a3f5f\"}, \"error_y\": {\"color\": \"#2a3f5f\"}, \"marker\": {\"line\": {\"color\": \"#E5ECF6\", \"width\": 0.5}}, \"type\": \"bar\"}], \"barpolar\": [{\"marker\": {\"line\": {\"color\": \"#E5ECF6\", \"width\": 0.5}}, \"type\": \"barpolar\"}], \"carpet\": [{\"aaxis\": {\"endlinecolor\": \"#2a3f5f\", \"gridcolor\": \"white\", \"linecolor\": \"white\", \"minorgridcolor\": \"white\", \"startlinecolor\": \"#2a3f5f\"}, \"baxis\": {\"endlinecolor\": \"#2a3f5f\", \"gridcolor\": \"white\", \"linecolor\": \"white\", \"minorgridcolor\": \"white\", \"startlinecolor\": \"#2a3f5f\"}, \"type\": \"carpet\"}], \"choropleth\": [{\"colorbar\": {\"outlinewidth\": 0, \"ticks\": \"\"}, \"type\": \"choropleth\"}], \"contour\": [{\"colorbar\": {\"outlinewidth\": 0, \"ticks\": \"\"}, \"colorscale\": [[0.0, \"#0d0887\"], [0.1111111111111111, \"#46039f\"], [0.2222222222222222, \"#7201a8\"], [0.3333333333333333, \"#9c179e\"], [0.4444444444444444, \"#bd3786\"], [0.5555555555555556, \"#d8576b\"], [0.6666666666666666, \"#ed7953\"], [0.7777777777777778, \"#fb9f3a\"], [0.8888888888888888, \"#fdca26\"], [1.0, \"#f0f921\"]], \"type\": \"contour\"}], \"contourcarpet\": [{\"colorbar\": {\"outlinewidth\": 0, \"ticks\": \"\"}, \"type\": \"contourcarpet\"}], \"heatmap\": [{\"colorbar\": {\"outlinewidth\": 0, \"ticks\": \"\"}, \"colorscale\": [[0.0, \"#0d0887\"], [0.1111111111111111, \"#46039f\"], [0.2222222222222222, \"#7201a8\"], [0.3333333333333333, \"#9c179e\"], [0.4444444444444444, \"#bd3786\"], [0.5555555555555556, \"#d8576b\"], [0.6666666666666666, \"#ed7953\"], [0.7777777777777778, \"#fb9f3a\"], [0.8888888888888888, \"#fdca26\"], [1.0, \"#f0f921\"]], \"type\": \"heatmap\"}], \"heatmapgl\": [{\"colorbar\": {\"outlinewidth\": 0, \"ticks\": \"\"}, \"colorscale\": [[0.0, \"#0d0887\"], [0.1111111111111111, \"#46039f\"], [0.2222222222222222, \"#7201a8\"], [0.3333333333333333, \"#9c179e\"], [0.4444444444444444, \"#bd3786\"], [0.5555555555555556, \"#d8576b\"], [0.6666666666666666, \"#ed7953\"], [0.7777777777777778, \"#fb9f3a\"], [0.8888888888888888, \"#fdca26\"], [1.0, \"#f0f921\"]], \"type\": \"heatmapgl\"}], \"histogram\": [{\"marker\": {\"colorbar\": {\"outlinewidth\": 0, \"ticks\": \"\"}}, \"type\": \"histogram\"}], \"histogram2d\": [{\"colorbar\": {\"outlinewidth\": 0, \"ticks\": \"\"}, \"colorscale\": [[0.0, \"#0d0887\"], [0.1111111111111111, \"#46039f\"], [0.2222222222222222, \"#7201a8\"], [0.3333333333333333, \"#9c179e\"], [0.4444444444444444, \"#bd3786\"], [0.5555555555555556, \"#d8576b\"], [0.6666666666666666, \"#ed7953\"], [0.7777777777777778, \"#fb9f3a\"], [0.8888888888888888, \"#fdca26\"], [1.0, \"#f0f921\"]], \"type\": \"histogram2d\"}], \"histogram2dcontour\": [{\"colorbar\": {\"outlinewidth\": 0, \"ticks\": \"\"}, \"colorscale\": [[0.0, \"#0d0887\"], [0.1111111111111111, \"#46039f\"], [0.2222222222222222, \"#7201a8\"], [0.3333333333333333, \"#9c179e\"], [0.4444444444444444, \"#bd3786\"], [0.5555555555555556, \"#d8576b\"], [0.6666666666666666, \"#ed7953\"], [0.7777777777777778, \"#fb9f3a\"], [0.8888888888888888, \"#fdca26\"], [1.0, \"#f0f921\"]], \"type\": \"histogram2dcontour\"}], \"mesh3d\": [{\"colorbar\": {\"outlinewidth\": 0, \"ticks\": \"\"}, \"type\": \"mesh3d\"}], \"parcoords\": [{\"line\": {\"colorbar\": {\"outlinewidth\": 0, \"ticks\": \"\"}}, \"type\": \"parcoords\"}], \"pie\": [{\"automargin\": true, \"type\": \"pie\"}], \"scatter\": [{\"marker\": {\"colorbar\": {\"outlinewidth\": 0, \"ticks\": \"\"}}, \"type\": \"scatter\"}], \"scatter3d\": [{\"line\": {\"colorbar\": {\"outlinewidth\": 0, \"ticks\": \"\"}}, \"marker\": {\"colorbar\": {\"outlinewidth\": 0, \"ticks\": \"\"}}, \"type\": \"scatter3d\"}], \"scattercarpet\": [{\"marker\": {\"colorbar\": {\"outlinewidth\": 0, \"ticks\": \"\"}}, \"type\": \"scattercarpet\"}], \"scattergeo\": [{\"marker\": {\"colorbar\": {\"outlinewidth\": 0, \"ticks\": \"\"}}, \"type\": \"scattergeo\"}], \"scattergl\": [{\"marker\": {\"colorbar\": {\"outlinewidth\": 0, \"ticks\": \"\"}}, \"type\": \"scattergl\"}], \"scattermapbox\": [{\"marker\": {\"colorbar\": {\"outlinewidth\": 0, \"ticks\": \"\"}}, \"type\": \"scattermapbox\"}], \"scatterpolar\": [{\"marker\": {\"colorbar\": {\"outlinewidth\": 0, \"ticks\": \"\"}}, \"type\": \"scatterpolar\"}], \"scatterpolargl\": [{\"marker\": {\"colorbar\": {\"outlinewidth\": 0, \"ticks\": \"\"}}, \"type\": \"scatterpolargl\"}], \"scatterternary\": [{\"marker\": {\"colorbar\": {\"outlinewidth\": 0, \"ticks\": \"\"}}, \"type\": \"scatterternary\"}], \"surface\": [{\"colorbar\": {\"outlinewidth\": 0, \"ticks\": \"\"}, \"colorscale\": [[0.0, \"#0d0887\"], [0.1111111111111111, \"#46039f\"], [0.2222222222222222, \"#7201a8\"], [0.3333333333333333, \"#9c179e\"], [0.4444444444444444, \"#bd3786\"], [0.5555555555555556, \"#d8576b\"], [0.6666666666666666, \"#ed7953\"], [0.7777777777777778, \"#fb9f3a\"], [0.8888888888888888, \"#fdca26\"], [1.0, \"#f0f921\"]], \"type\": \"surface\"}], \"table\": [{\"cells\": {\"fill\": {\"color\": \"#EBF0F8\"}, \"line\": {\"color\": \"white\"}}, \"header\": {\"fill\": {\"color\": \"#C8D4E3\"}, \"line\": {\"color\": \"white\"}}, \"type\": \"table\"}]}, \"layout\": {\"annotationdefaults\": {\"arrowcolor\": \"#2a3f5f\", \"arrowhead\": 0, \"arrowwidth\": 1}, \"coloraxis\": {\"colorbar\": {\"outlinewidth\": 0, \"ticks\": \"\"}}, \"colorscale\": {\"diverging\": [[0, \"#8e0152\"], [0.1, \"#c51b7d\"], [0.2, \"#de77ae\"], [0.3, \"#f1b6da\"], [0.4, \"#fde0ef\"], [0.5, \"#f7f7f7\"], [0.6, \"#e6f5d0\"], [0.7, \"#b8e186\"], [0.8, \"#7fbc41\"], [0.9, \"#4d9221\"], [1, \"#276419\"]], \"sequential\": [[0.0, \"#0d0887\"], [0.1111111111111111, \"#46039f\"], [0.2222222222222222, \"#7201a8\"], [0.3333333333333333, \"#9c179e\"], [0.4444444444444444, \"#bd3786\"], [0.5555555555555556, \"#d8576b\"], [0.6666666666666666, \"#ed7953\"], [0.7777777777777778, \"#fb9f3a\"], [0.8888888888888888, \"#fdca26\"], [1.0, \"#f0f921\"]], \"sequentialminus\": [[0.0, \"#0d0887\"], [0.1111111111111111, \"#46039f\"], [0.2222222222222222, \"#7201a8\"], [0.3333333333333333, \"#9c179e\"], [0.4444444444444444, \"#bd3786\"], [0.5555555555555556, \"#d8576b\"], [0.6666666666666666, \"#ed7953\"], [0.7777777777777778, \"#fb9f3a\"], [0.8888888888888888, \"#fdca26\"], [1.0, \"#f0f921\"]]}, \"colorway\": [\"#636efa\", \"#EF553B\", \"#00cc96\", \"#ab63fa\", \"#FFA15A\", \"#19d3f3\", \"#FF6692\", \"#B6E880\", \"#FF97FF\", \"#FECB52\"], \"font\": {\"color\": \"#2a3f5f\"}, \"geo\": {\"bgcolor\": \"white\", \"lakecolor\": \"white\", \"landcolor\": \"#E5ECF6\", \"showlakes\": true, \"showland\": true, \"subunitcolor\": \"white\"}, \"hoverlabel\": {\"align\": \"left\"}, \"hovermode\": \"closest\", \"mapbox\": {\"style\": \"light\"}, \"paper_bgcolor\": \"white\", \"plot_bgcolor\": \"#E5ECF6\", \"polar\": {\"angularaxis\": {\"gridcolor\": \"white\", \"linecolor\": \"white\", \"ticks\": \"\"}, \"bgcolor\": \"#E5ECF6\", \"radialaxis\": {\"gridcolor\": \"white\", \"linecolor\": \"white\", \"ticks\": \"\"}}, \"scene\": {\"xaxis\": {\"backgroundcolor\": \"#E5ECF6\", \"gridcolor\": \"white\", \"gridwidth\": 2, \"linecolor\": \"white\", \"showbackground\": true, \"ticks\": \"\", \"zerolinecolor\": \"white\"}, \"yaxis\": {\"backgroundcolor\": \"#E5ECF6\", \"gridcolor\": \"white\", \"gridwidth\": 2, \"linecolor\": \"white\", \"showbackground\": true, \"ticks\": \"\", \"zerolinecolor\": \"white\"}, \"zaxis\": {\"backgroundcolor\": \"#E5ECF6\", \"gridcolor\": \"white\", \"gridwidth\": 2, \"linecolor\": \"white\", \"showbackground\": true, \"ticks\": \"\", \"zerolinecolor\": \"white\"}}, \"shapedefaults\": {\"line\": {\"color\": \"#2a3f5f\"}}, \"ternary\": {\"aaxis\": {\"gridcolor\": \"white\", \"linecolor\": \"white\", \"ticks\": \"\"}, \"baxis\": {\"gridcolor\": \"white\", \"linecolor\": \"white\", \"ticks\": \"\"}, \"bgcolor\": \"#E5ECF6\", \"caxis\": {\"gridcolor\": \"white\", \"linecolor\": \"white\", \"ticks\": \"\"}}, \"title\": {\"x\": 0.05}, \"xaxis\": {\"automargin\": true, \"gridcolor\": \"white\", \"linecolor\": \"white\", \"ticks\": \"\", \"title\": {\"standoff\": 15}, \"zerolinecolor\": \"white\", \"zerolinewidth\": 2}, \"yaxis\": {\"automargin\": true, \"gridcolor\": \"white\", \"linecolor\": \"white\", \"ticks\": \"\", \"title\": {\"standoff\": 15}, \"zerolinecolor\": \"white\", \"zerolinewidth\": 2}}}, \"xaxis\": {\"anchor\": \"y\", \"domain\": [0.0, 1.0], \"title\": {\"text\": \"executionTime\"}}, \"xaxis2\": {\"anchor\": \"y2\", \"domain\": [0.0, 1.0], \"matches\": \"x\", \"showgrid\": true, \"showticklabels\": false}, \"yaxis\": {\"anchor\": \"x\", \"domain\": [0.0, 0.7326], \"title\": {\"text\": \"count\"}}, \"yaxis2\": {\"anchor\": \"x2\", \"domain\": [0.7426, 1.0], \"matches\": \"y2\", \"showgrid\": false, \"showline\": false, \"showticklabels\": false, \"ticks\": \"\"}},\n",
       "                        {\"responsive\": true}\n",
       "                    ).then(function(){\n",
       "                            \n",
       "var gd = document.getElementById('c0cb4348-d41a-464d-bf39-7d449c7d33a6');\n",
       "var x = new MutationObserver(function (mutations, observer) {{\n",
       "        var display = window.getComputedStyle(gd).display;\n",
       "        if (!display || display === 'none') {{\n",
       "            console.log([gd, 'removed!']);\n",
       "            Plotly.purge(gd);\n",
       "            observer.disconnect();\n",
       "        }}\n",
       "}});\n",
       "\n",
       "// Listen for the removal of the full notebook cells\n",
       "var notebookContainer = gd.closest('#notebook-container');\n",
       "if (notebookContainer) {{\n",
       "    x.observe(notebookContainer, {childList: true});\n",
       "}}\n",
       "\n",
       "// Listen for the clearing of the current output cell\n",
       "var outputEl = gd.closest('.output');\n",
       "if (outputEl) {{\n",
       "    x.observe(outputEl, {childList: true});\n",
       "}}\n",
       "\n",
       "                        })\n",
       "                };\n",
       "                });\n",
       "            </script>\n",
       "        </div>"
      ]
     },
     "metadata": {},
     "output_type": "display_data"
    }
   ],
   "source": [
    "import plotly.express as px\n",
    "df = cmDF\n",
    "# Here we use a column with categorical data\n",
    "fig = px.histogram(df, x=\"executionTime\",color='compressionMethod',nbins=25,marginal=\"rug\", # can be `box`, `violin`\n",
    "                         hover_data=df.columns)\n",
    "fig.show()"
   ]
  },
  {
   "cell_type": "code",
   "execution_count": 15,
   "metadata": {},
   "outputs": [
    {
     "data": {
      "application/vnd.plotly.v1+json": {
       "config": {
        "plotlyServerURL": "https://plot.ly"
       },
       "data": [
        {
         "alignmentgroup": "True",
         "bingroup": "x",
         "hovertemplate": "compressionMethod=lzw<br>mbytesPerSec=%{x}<br>count=%{y}<extra></extra>",
         "legendgroup": "lzw",
         "marker": {
          "color": "#636efa",
          "opacity": 0.8
         },
         "name": "lzw",
         "nbinsx": 25,
         "offsetgroup": "lzw",
         "orientation": "v",
         "showlegend": true,
         "type": "histogram",
         "x": [
          96.01757907249561,
          112.26619991234321,
          98.70715211807044,
          67.94263714782879,
          73.46766986938384,
          95.80496273123536,
          101.239249136447,
          72.08812427757486,
          73.32037926349727,
          73.3804541598687,
          66.58447119121719,
          70.39477442762792,
          49.43212403214383,
          37.95592850891549,
          23.289461404607245,
          23.083540915857807,
          21.127942564685927,
          20.713223836730588,
          29.99629000860231,
          33.4448107950001,
          31.234500099173303,
          30.686138367684535,
          32.29134011051616,
          30.440084447558,
          44.899814364214336,
          34.61139221057726,
          34.17909219600143,
          35.493840360891014,
          33.47648008261957,
          27.390415400234165,
          24.395508173747942,
          21.515435191794317,
          22.099995290155395,
          21.78729356583586,
          26.734628238270655,
          21.924331825345234,
          23.432372989511222,
          23.759372731474567,
          24.224650887607197,
          25.08291751523065,
          35.86304863795374,
          20.51088954165447,
          20.328850508470495,
          32.979916747431425,
          28.758213608863457,
          38.05253927906015,
          20.31204843119137,
          18.335797082900218,
          18.63356454581361,
          18.38913440756965,
          17.67719587243404,
          17.750169459493407,
          25.02697062538547,
          25.88150260588112
         ],
         "xaxis": "x",
         "yaxis": "y"
        },
        {
         "alignmentgroup": "True",
         "boxpoints": "all",
         "customdata": [
          [
           "5ee7f7e7fbd052c3f9f75082",
           "/nvmen1Scratch/origData/htan-tnp-sardana-hms-prerelease-phase-1-data/WD-76845-001.ome.tif",
           13048699267,
           135.89906549453735,
           5486731126,
           "-8 -c lzw",
           "lzw",
           42.04810773649965,
           null,
           null,
           null,
           null,
           42.04810773649965,
           96.01757907249561
          ],
          [
           "5ee7f9c645d177623c9ad7e1",
           "/nvmen1Scratch/origData/htan-tnp-sardana-hms-prerelease-phase-1-data/WD-76845-001.ome.tif",
           13048699267,
           116.22998976707458,
           5486731126,
           "-8 -c lzw",
           "lzw",
           42.04810773649965,
           "/nvmen1Scratch/origData/htan-tnp-sardana-hms-prerelease-phase-1-data/recompressed/WD-76845-001.lzw.ome.tif",
           null,
           null,
           null,
           42.04810773649965,
           112.26619991234321
          ],
          [
           "5ee7f9c96e4be911499ad7e1",
           "/nvmen1Scratch/origData/htan-tnp-sardana-hms-prerelease-phase-1-data/WD-76845-006.ome.tif",
           11834429731,
           119.89434885978699,
           5376970774,
           "-8 -c lzw",
           "lzw",
           45.434979937522094,
           "/nvmen1Scratch/origData/htan-tnp-sardana-hms-prerelease-phase-1-data/recompressed/WD-76845-006.lzw.ome.tif",
           null,
           null,
           null,
           45.434979937522094,
           98.70715211807044
          ],
          [
           "5ee7fe44a0f28ea1959ad7e1",
           "/nvmen1Scratch/origData/htan-tnp-sardana-hms-prerelease-phase-1-data/WD-76845-007.ome.tif",
           86067983704,
           1266.774257183075,
           54576117220,
           "-8 -c lzw",
           "lzw",
           63.410474919100004,
           "/nvmen1Scratch/origData/htan-tnp-sardana-hms-prerelease-phase-1-data/recompressed/WD-76845-007.lzw.ome.tif",
           null,
           null,
           null,
           63.410474919100004,
           67.94263714782879
          ],
          [
           "5ee7fe58074d7d0e5a9ad7e1",
           "/nvmen1Scratch/origData/htan-tnp-sardana-hms-prerelease-phase-1-data/WD-76845-002.ome.tif",
           94540542424,
           1286.8319165706635,
           59552482930,
           "-8 -c lzw",
           "lzw",
           62.99147582940252,
           "/nvmen1Scratch/origData/htan-tnp-sardana-hms-prerelease-phase-1-data/recompressed/WD-76845-002.lzw.ome.tif",
           null,
           null,
           null,
           62.99147582940252,
           73.46766986938384
          ],
          [
           "5ee80dc7d34f8addb8feb1e6",
           "/nvmen1Scratch/origData/htan-tnp-sardana-hms-prerelease-phase-1-data/WD-76845-006.ome.tif",
           11834429731,
           123.52627038955688,
           5302035260,
           null,
           "lzw",
           44.801780740743666,
           "/nvmen1Scratch/origData/htan-tnp-sardana-hms-prerelease-phase-1-data/recompressed/WD-76845-006.lzw.ome.tif",
           "-t -w 256 -l 256 -L",
           null,
           null,
           44.801780740743666,
           95.80496273123536
          ],
          [
           "5ee80dcc4c65fc3a1afeb1e6",
           "/nvmen1Scratch/origData/htan-tnp-sardana-hms-prerelease-phase-1-data/WD-76845-001.ome.tif",
           13048699267,
           128.88972783088684,
           5422832366,
           null,
           "lzw",
           41.55841325667055,
           "/nvmen1Scratch/origData/htan-tnp-sardana-hms-prerelease-phase-1-data/recompressed/WD-76845-001.lzw.ome.tif",
           "-t -w 256 -l 256 -L",
           null,
           null,
           41.55841325667055,
           101.239249136447
          ],
          [
           "5ee811f6f2d1b0d29ffeb1e6",
           "/nvmen1Scratch/origData/htan-tnp-sardana-hms-prerelease-phase-1-data/WD-76845-007.ome.tif",
           86067983704,
           1193.9273571968079,
           52598174256,
           null,
           "lzw",
           61.11235792033026,
           "/nvmen1Scratch/origData/htan-tnp-sardana-hms-prerelease-phase-1-data/recompressed/WD-76845-007.lzw.ome.tif",
           "-t -w 256 -l 256 -L",
           null,
           null,
           61.11235792033026,
           72.08812427757486
          ],
          [
           "5ee81255fd0d94850bfeb1e6",
           "/nvmen1Scratch/origData/htan-tnp-sardana-hms-prerelease-phase-1-data/WD-76845-002.ome.tif",
           94540542424,
           1289.4169857501984,
           56312280676,
           null,
           "lzw",
           59.564160763377004,
           "/nvmen1Scratch/origData/htan-tnp-sardana-hms-prerelease-phase-1-data/recompressed/WD-76845-002.lzw.ome.tif",
           "-t -w 256 -l 256 -L",
           null,
           null,
           59.564160763377004,
           73.32037926349727
          ],
          [
           "5ee8ed91ecf21f6181ed4920",
           "WD-76845-002.ome.tif",
           94540542424,
           1288.3613696098328,
           56312280676,
           null,
           "lzw",
           59.564160763377004,
           null,
           [
            "-8",
            "-t",
            "-w",
            "256",
            "-l",
            "256",
            "-L"
           ],
           "/nvmen1Scratch/origData/htan-tnp-sardana-hms-prerelease-phase-1-data/recompressed/WD-76845-002.lzw.ome.tif",
           {
            "compressionMethod": "lzw",
            "filename": "WD-76845-002.ome.tif",
            "fullFilePath": "/nvmen1Scratch/origData/htan-tnp-sardana-hms-prerelease-phase-1-data/WD-76845-002.ome.tif",
            "outputFile": "WD-76845-002.lzw.ome.tif",
            "tileString": [
             "-8",
             "-t",
             "-w",
             "256",
             "-l",
             "256",
             "-L"
            ]
           },
           59.564160763377004,
           73.3804541598687
          ],
          [
           "5ee914db557b784b56fd998e",
           "WD-76845-006.ome.tif",
           11834429731,
           177.7355818748474,
           5302035260,
           null,
           "lzw",
           44.801780740743666,
           null,
           [
            "-8",
            "-t",
            "-w",
            "256",
            "-l",
            "256",
            "-L"
           ],
           "/nvmen1Scratch/origData/htan-tnp-sardana-hms-prerelease-phase-1-data/recompressed/WD-76845-006.lzw.ome.tif",
           {
            "compressionMethod": "lzw",
            "filename": "WD-76845-006.ome.tif",
            "fullFilePath": "/nvmen1Scratch/origData/htan-tnp-sardana-hms-prerelease-phase-1-data/WD-76845-006.ome.tif",
            "outputFile": "WD-76845-006.lzw.ome.tif",
            "tileString": [
             "-8",
             "-t",
             "-w",
             "256",
             "-l",
             "256",
             "-L"
            ]
           },
           44.801780740743666,
           66.58447119121719
          ],
          [
           "5ee91722557b784b56fd9990",
           "WD-76845-001.ome.tif",
           13048699267,
           185.36460089683533,
           5422832366,
           null,
           "lzw",
           41.55841325667055,
           null,
           [
            "-8",
            "-t",
            "-w",
            "256",
            "-l",
            "256",
            "-L"
           ],
           "/nvmen1Scratch/origData/htan-tnp-sardana-hms-prerelease-phase-1-data/recompressed/WD-76845-001.lzw.ome.tif",
           {
            "compressionMethod": "lzw",
            "filename": "WD-76845-001.ome.tif",
            "fullFilePath": "/nvmen1Scratch/origData/htan-tnp-sardana-hms-prerelease-phase-1-data/WD-76845-001.ome.tif",
            "outputFile": "WD-76845-001.lzw.ome.tif",
            "tileString": [
             "-8",
             "-t",
             "-w",
             "256",
             "-l",
             "256",
             "-L"
            ]
           },
           41.55841325667055,
           70.39477442762792
          ],
          [
           "5ee91af708b2d1a8fefd998e",
           "WD-76845-007.ome.tif",
           86067983704,
           1741.1346445083618,
           52598174256,
           null,
           "lzw",
           61.11235792033026,
           null,
           [
            "-8",
            "-t",
            "-w",
            "256",
            "-l",
            "256",
            "-L"
           ],
           "/nvmen1Scratch/origData/htan-tnp-sardana-hms-prerelease-phase-1-data/recompressed/WD-76845-007.lzw.ome.tif",
           {
            "compressionMethod": "lzw",
            "filename": "WD-76845-007.ome.tif",
            "fullFilePath": "/nvmen1Scratch/origData/htan-tnp-sardana-hms-prerelease-phase-1-data/WD-76845-007.ome.tif",
            "outputFile": "WD-76845-007.lzw.ome.tif",
            "tileString": [
             "-8",
             "-t",
             "-w",
             "256",
             "-l",
             "256",
             "-L"
            ]
           },
           61.11235792033026,
           49.43212403214383
          ],
          [
           "5ee93dac27c36180e3eadea9",
           "WD-76845-002.ome.tif",
           94540542424,
           2490.7977788448334,
           56312280676,
           null,
           "lzw",
           59.564160763377004,
           null,
           [
            "-8",
            "-t",
            "-w",
            "256",
            "-l",
            "256",
            "-L"
           ],
           "/nvmen1Scratch/origData/htan-tnp-sardana-hms-prerelease-phase-1-data/recompressed/WD-76845-002.lzw.ome.tif",
           {
            "compressionMethod": "lzw",
            "filename": "WD-76845-002.ome.tif",
            "fullFilePath": "/s3FuseMounts/dgutman-htan-s3-synapse/htan-tnp-sardana-hms-prerelease-phase-1-data/WD-76845-002.ome.tif",
            "outputFile": "WD-76845-002.lzw.ome.tif",
            "tileString": [
             "-8",
             "-t",
             "-w",
             "256",
             "-l",
             "256",
             "-L"
            ]
           },
           59.564160763377004,
           37.95592850891549
          ],
          [
           "5ee957df1a4aa37fe2038555",
           "WD-76845-085.ome.tif",
           11384583763,
           488.829843044281,
           5686143918,
           null,
           "lzw",
           49.94599746790936,
           null,
           [
            "-8",
            "-t",
            "-w",
            "256",
            "-l",
            "256",
            "-L"
           ],
           "/nvmen1Scratch/origData/htan-tnp-sardana-hms-prerelease-phase-1-data/recompressed/WD-76845-085.lzw.ome.tif",
           {
            "compressionMethod": "lzw",
            "filename": "WD-76845-085.ome.tif",
            "fullFilePath": "/s3FuseMounts/dgutman-htan-s3-synapse/htan-tnp-sardana-hms-prerelease-phase-1-data/WD-76845-085.ome.tif",
            "outputFile": "WD-76845-085.lzw.ome.tif",
            "tileString": [
             "-8",
             "-t",
             "-w",
             "256",
             "-l",
             "256",
             "-L"
            ]
           },
           49.94599746790936,
           23.289461404607245
          ],
          [
           "5ee95ec31a4aa37fe2038558",
           "WD-76845-043.ome.tif",
           11834429731,
           512.6782660484314,
           5686601270,
           null,
           "lzw",
           48.051333264534804,
           null,
           [
            "-8",
            "-t",
            "-w",
            "256",
            "-l",
            "256",
            "-L"
           ],
           "/nvmen1Scratch/origData/htan-tnp-sardana-hms-prerelease-phase-1-data/recompressed/WD-76845-043.lzw.ome.tif",
           {
            "compressionMethod": "lzw",
            "filename": "WD-76845-043.ome.tif",
            "fullFilePath": "/s3FuseMounts/dgutman-htan-s3-synapse/htan-tnp-sardana-hms-prerelease-phase-1-data/WD-76845-043.ome.tif",
            "outputFile": "WD-76845-043.lzw.ome.tif",
            "tileString": [
             "-8",
             "-t",
             "-w",
             "256",
             "-l",
             "256",
             "-L"
            ]
           },
           48.051333264534804,
           23.083540915857807
          ],
          [
           "5ee96213c8c1e225d3038554",
           "WD-76845-044.ome.tif",
           82209194584,
           3891.0175154209137,
           50697741492,
           null,
           "lzw",
           61.66918645602091,
           null,
           [
            "-8",
            "-t",
            "-w",
            "256",
            "-l",
            "256",
            "-L"
           ],
           "/nvmen1Scratch/origData/htan-tnp-sardana-hms-prerelease-phase-1-data/recompressed/WD-76845-044.lzw.ome.tif",
           {
            "compressionMethod": "lzw",
            "filename": "WD-76845-044.ome.tif",
            "fullFilePath": "/s3FuseMounts/dgutman-htan-s3-synapse/htan-tnp-sardana-hms-prerelease-phase-1-data/WD-76845-044.ome.tif",
            "outputFile": "WD-76845-044.lzw.ome.tif",
            "tileString": [
             "-8",
             "-t",
             "-w",
             "256",
             "-l",
             "256",
             "-L"
            ]
           },
           61.66918645602091,
           21.127942564685927
          ],
          [
           "5ee9631b1e0218235a038554",
           "WD-76845-007.ome.tif",
           86067983704,
           4155.21911907196,
           52598174256,
           null,
           "lzw",
           61.11235792033026,
           null,
           [
            "-8",
            "-t",
            "-w",
            "256",
            "-l",
            "256",
            "-L"
           ],
           "/nvmen1Scratch/origData/htan-tnp-sardana-hms-prerelease-phase-1-data/recompressed/WD-76845-007.lzw.ome.tif",
           {
            "compressionMethod": "lzw",
            "filename": "WD-76845-007.ome.tif",
            "fullFilePath": "/s3FuseMounts/dgutman-htan-s3-synapse/htan-tnp-sardana-hms-prerelease-phase-1-data/WD-76845-007.ome.tif",
            "outputFile": "WD-76845-007.lzw.ome.tif",
            "tileString": [
             "-8",
             "-t",
             "-w",
             "256",
             "-l",
             "256",
             "-L"
            ]
           },
           61.11235792033026,
           20.713223836730588
          ],
          [
           "5ee9639ec8c1e225d3038555",
           "WD-76845-024.ome.tif",
           11834429731,
           394.52978110313416,
           5777755388,
           null,
           "lzw",
           48.821578388904626,
           null,
           [
            "-8",
            "-t",
            "-w",
            "256",
            "-l",
            "256",
            "-L"
           ],
           "/nvmen1Scratch/origData/htan-tnp-sardana-hms-prerelease-phase-1-data/recompressed/WD-76845-024.lzw.ome.tif",
           {
            "compressionMethod": "lzw",
            "filename": "WD-76845-024.ome.tif",
            "fullFilePath": "/s3FuseMounts/dgutman-htan-s3-synapse/htan-tnp-sardana-hms-prerelease-phase-1-data/WD-76845-024.ome.tif",
            "outputFile": "WD-76845-024.lzw.ome.tif",
            "tileString": [
             "-8",
             "-t",
             "-w",
             "256",
             "-l",
             "256",
             "-L"
            ]
           },
           48.821578388904626,
           29.99629000860231
          ],
          [
           "5ee978f607c5a13130038555",
           "WD-76845-102.ome.tif",
           77763198424,
           2325.1199984550476,
           48963355754,
           null,
           "lzw",
           62.964688626912846,
           null,
           [
            "-8",
            "-t",
            "-w",
            "256",
            "-l",
            "256",
            "-L"
           ],
           "/nvmen1Scratch/origData/htan-tnp-sardana-hms-prerelease-phase-1-data/recompressed/WD-76845-102.lzw.ome.tif",
           {
            "compressionMethod": "lzw",
            "filename": "WD-76845-102.ome.tif",
            "fullFilePath": "/s3FuseMounts/dgutman-htan-s3-synapse/htan-tnp-sardana-hms-prerelease-phase-1-data/WD-76845-102.ome.tif",
            "outputFile": "WD-76845-102.lzw.ome.tif",
            "tileString": [
             "-8",
             "-t",
             "-w",
             "256",
             "-l",
             "256",
             "-L"
            ]
           },
           62.964688626912846,
           33.4448107950001
          ],
          [
           "5ee97a5e07c5a13130038556",
           "WD-76845-101.ome.tif",
           11221003432,
           359.250296831131,
           5348158264,
           null,
           "lzw",
           47.66203215612741,
           null,
           [
            "-8",
            "-t",
            "-w",
            "256",
            "-l",
            "256",
            "-L"
           ],
           "/nvmen1Scratch/origData/htan-tnp-sardana-hms-prerelease-phase-1-data/recompressed/WD-76845-101.lzw.ome.tif",
           {
            "compressionMethod": "lzw",
            "filename": "WD-76845-101.ome.tif",
            "fullFilePath": "/s3FuseMounts/dgutman-htan-s3-synapse/htan-tnp-sardana-hms-prerelease-phase-1-data/WD-76845-101.ome.tif",
            "outputFile": "WD-76845-101.lzw.ome.tif",
            "tileString": [
             "-8",
             "-t",
             "-w",
             "256",
             "-l",
             "256",
             "-L"
            ]
           },
           47.66203215612741,
           31.234500099173303
          ],
          [
           "5ee97bbe07c5a13130038557",
           "WD-76845-028.ome.tif",
           10812052531,
           352.34321117401123,
           5674659060,
           null,
           "lzw",
           52.48456797384016,
           null,
           [
            "-8",
            "-t",
            "-w",
            "256",
            "-l",
            "256",
            "-L"
           ],
           "/nvmen1Scratch/origData/htan-tnp-sardana-hms-prerelease-phase-1-data/recompressed/WD-76845-028.lzw.ome.tif",
           {
            "compressionMethod": "lzw",
            "filename": "WD-76845-028.ome.tif",
            "fullFilePath": "/s3FuseMounts/dgutman-htan-s3-synapse/htan-tnp-sardana-hms-prerelease-phase-1-data/WD-76845-028.ome.tif",
            "outputFile": "WD-76845-028.lzw.ome.tif",
            "tileString": [
             "-8",
             "-t",
             "-w",
             "256",
             "-l",
             "256",
             "-L"
            ]
           },
           52.48456797384016,
           30.686138367684535
          ],
          [
           "5ee97e7429adeff7e7038555",
           "WD-76845-025.ome.tif",
           89758999384,
           2779.661639213562,
           54184674784,
           null,
           "lzw",
           60.36684360995528,
           null,
           [
            "-8",
            "-t",
            "-w",
            "256",
            "-l",
            "256",
            "-L"
           ],
           "/nvmen1Scratch/origData/htan-tnp-sardana-hms-prerelease-phase-1-data/recompressed/WD-76845-025.lzw.ome.tif",
           {
            "compressionMethod": "lzw",
            "filename": "WD-76845-025.ome.tif",
            "fullFilePath": "/s3FuseMounts/dgutman-htan-s3-synapse/htan-tnp-sardana-hms-prerelease-phase-1-data/WD-76845-025.ome.tif",
            "outputFile": "WD-76845-025.lzw.ome.tif",
            "tileString": [
             "-8",
             "-t",
             "-w",
             "256",
             "-l",
             "256",
             "-L"
            ]
           },
           60.36684360995528,
           32.29134011051616
          ],
          [
           "5ee97f9b492ea78385038556",
           "WD-76845-054.ome.tif",
           80028139864,
           2629.0380370616913,
           49675822764,
           null,
           "lzw",
           62.072944402330485,
           null,
           [
            "-8",
            "-t",
            "-w",
            "256",
            "-l",
            "256",
            "-L"
           ],
           "/nvmen1Scratch/origData/htan-tnp-sardana-hms-prerelease-phase-1-data/recompressed/WD-76845-054.lzw.ome.tif",
           {
            "compressionMethod": "lzw",
            "filename": "WD-76845-054.ome.tif",
            "fullFilePath": "/s3FuseMounts/dgutman-htan-s3-synapse/htan-tnp-sardana-hms-prerelease-phase-1-data/WD-76845-054.ome.tif",
            "outputFile": "WD-76845-054.lzw.ome.tif",
            "tileString": [
             "-8",
             "-t",
             "-w",
             "256",
             "-l",
             "256",
             "-L"
            ]
           },
           62.072944402330485,
           30.440084447558
          ],
          [
           "5ee9815d29adeff7e7038557",
           "WD-76845-077.ome.tif",
           11221003411,
           249.91202235221863,
           5333104608,
           null,
           "lzw",
           47.52787618593836,
           null,
           [
            "-8",
            "-t",
            "-w",
            "256",
            "-l",
            "256",
            "-L"
           ],
           "/nvmen1Scratch/origData/htan-tnp-sardana-hms-prerelease-phase-1-data/recompressed/WD-76845-077.lzw.ome.tif",
           {
            "compressionMethod": "lzw",
            "filename": "WD-76845-077.ome.tif",
            "fullFilePath": "/s3FuseMounts/dgutman-htan-s3-synapse/htan-tnp-sardana-hms-prerelease-phase-1-data/WD-76845-077.ome.tif",
            "outputFile": "WD-76845-077.lzw.ome.tif",
            "tileString": [
             "-8",
             "-t",
             "-w",
             "256",
             "-l",
             "256",
             "-L"
            ]
           },
           47.52787618593836,
           44.899814364214336
          ],
          [
           "5ee982359d5df40196038557",
           "WD-76845-034.ome.tif",
           88249038424,
           2549.7107393741608,
           55935291888,
           null,
           "lzw",
           63.38345764092538,
           null,
           [
            "-8",
            "-t",
            "-w",
            "256",
            "-l",
            "256",
            "-L"
           ],
           "/nvmen1Scratch/origData/htan-tnp-sardana-hms-prerelease-phase-1-data/recompressed/WD-76845-034.lzw.ome.tif",
           {
            "compressionMethod": "lzw",
            "filename": "WD-76845-034.ome.tif",
            "fullFilePath": "/s3FuseMounts/dgutman-htan-s3-synapse/htan-tnp-sardana-hms-prerelease-phase-1-data/WD-76845-034.ome.tif",
            "outputFile": "WD-76845-034.lzw.ome.tif",
            "tileString": [
             "-8",
             "-t",
             "-w",
             "256",
             "-l",
             "256",
             "-L"
            ]
           },
           63.38345764092538,
           34.61139221057726
          ],
          [
           "5eea004a049ce574635fe9a3",
           "WD-76845-090.ome.tif",
           10657909507,
           311.8254120349884,
           5365610240,
           null,
           "lzw",
           50.34392754485225,
           null,
           [
            "-8",
            "-t",
            "-w",
            "256",
            "-l",
            "256",
            "-L"
           ],
           "/nvmen1Scratch/origData/htan-tnp-sardana-hms-prerelease-phase-1-data/recompressed/WD-76845-090.lzw.ome.tif",
           {
            "compressionMethod": "lzw",
            "filename": "WD-76845-090.ome.tif",
            "fullFilePath": "/s3FuseMounts/dgutman-htan-s3-synapse/htan-tnp-sardana-hms-prerelease-phase-1-data/WD-76845-090.ome.tif",
            "outputFile": "WD-76845-090.lzw.ome.tif",
            "tileString": [
             "-8",
             "-t",
             "-w",
             "256",
             "-l",
             "256",
             "-L"
            ]
           },
           50.34392754485225,
           34.17909219600143
          ],
          [
           "5eea0053bb2b0550615fe9a3",
           "WD-76845-096.ome.tif",
           11384583763,
           320.74815368652344,
           5571920518,
           null,
           "lzw",
           48.94268103247474,
           null,
           [
            "-8",
            "-t",
            "-w",
            "256",
            "-l",
            "256",
            "-L"
           ],
           "/nvmen1Scratch/origData/htan-tnp-sardana-hms-prerelease-phase-1-data/recompressed/WD-76845-096.lzw.ome.tif",
           {
            "compressionMethod": "lzw",
            "filename": "WD-76845-096.ome.tif",
            "fullFilePath": "/s3FuseMounts/dgutman-htan-s3-synapse/htan-tnp-sardana-hms-prerelease-phase-1-data/WD-76845-096.ome.tif",
            "outputFile": "WD-76845-096.lzw.ome.tif",
            "tileString": [
             "-8",
             "-t",
             "-w",
             "256",
             "-l",
             "256",
             "-L"
            ]
           },
           48.94268103247474,
           35.493840360891014
          ],
          [
           "5eea00abc617b77de35fe9a3",
           "WD-76845-019.ome.tif",
           13674708691,
           408.48705291748047,
           5832979060,
           null,
           "lzw",
           42.65523450484156,
           null,
           [
            "-8",
            "-t",
            "-w",
            "256",
            "-l",
            "256",
            "-L"
           ],
           "/nvmen1Scratch/origData/htan-tnp-sardana-hms-prerelease-phase-1-data/recompressed/WD-76845-019.lzw.ome.tif",
           {
            "compressionMethod": "lzw",
            "filename": "WD-76845-019.ome.tif",
            "fullFilePath": "/s3FuseMounts/dgutman-htan-s3-synapse/htan-tnp-sardana-hms-prerelease-phase-1-data/WD-76845-019.ome.tif",
            "outputFile": "WD-76845-019.lzw.ome.tif",
            "tileString": [
             "-8",
             "-t",
             "-w",
             "256",
             "-l",
             "256",
             "-L"
            ]
           },
           42.65523450484156,
           33.47648008261957
          ],
          [
           "5eea02cb692e2980bb5fe9a4",
           "WD-76845-033.ome.tif",
           12715247011,
           464.2224962711334,
           5812605246,
           null,
           "lzw",
           45.71366361165848,
           null,
           [
            "-8",
            "-t",
            "-w",
            "256",
            "-l",
            "256",
            "-L"
           ],
           "/nvmen1Scratch/origData/htan-tnp-sardana-hms-prerelease-phase-1-data/recompressed/WD-76845-033.lzw.ome.tif",
           {
            "compressionMethod": "lzw",
            "filename": "WD-76845-033.ome.tif",
            "fullFilePath": "/s3FuseMounts/dgutman-htan-s3-synapse/htan-tnp-sardana-hms-prerelease-phase-1-data/WD-76845-033.ome.tif",
            "outputFile": "WD-76845-033.lzw.ome.tif",
            "tileString": [
             "-8",
             "-t",
             "-w",
             "256",
             "-l",
             "256",
             "-L"
            ]
           },
           45.71366361165848,
           27.390415400234165
          ],
          [
           "5eea04cab5f447f61e5fe9a5",
           "WD-76845-105.ome.tif",
           10327603048,
           423.34035325050354,
           5311804302,
           null,
           "lzw",
           51.433079653740776,
           null,
           [
            "-8",
            "-t",
            "-w",
            "256",
            "-l",
            "256",
            "-L"
           ],
           "/nvmen1Scratch/origData/htan-tnp-sardana-hms-prerelease-phase-1-data/recompressed/WD-76845-105.lzw.ome.tif",
           {
            "compressionMethod": "lzw",
            "filename": "WD-76845-105.ome.tif",
            "fullFilePath": "/s3FuseMounts/dgutman-htan-s3-synapse/htan-tnp-sardana-hms-prerelease-phase-1-data/WD-76845-105.ome.tif",
            "outputFile": "WD-76845-105.lzw.ome.tif",
            "tileString": [
             "-8",
             "-t",
             "-w",
             "256",
             "-l",
             "256",
             "-L"
            ]
           },
           51.433079653740776,
           24.395508173747942
          ],
          [
           "5eea0dddbb2b0550615fe9a4",
           "WD-76845-106.ome.tif",
           74575503064,
           3466.1396527290344,
           46764250068,
           null,
           "lzw",
           62.70725391938336,
           null,
           [
            "-8",
            "-t",
            "-w",
            "256",
            "-l",
            "256",
            "-L"
           ],
           "/nvmen1Scratch/origData/htan-tnp-sardana-hms-prerelease-phase-1-data/recompressed/WD-76845-106.lzw.ome.tif",
           {
            "compressionMethod": "lzw",
            "filename": "WD-76845-106.ome.tif",
            "fullFilePath": "/s3FuseMounts/dgutman-htan-s3-synapse/htan-tnp-sardana-hms-prerelease-phase-1-data/WD-76845-106.ome.tif",
            "outputFile": "WD-76845-106.lzw.ome.tif",
            "tileString": [
             "-8",
             "-t",
             "-w",
             "256",
             "-l",
             "256",
             "-L"
            ]
           },
           62.70725391938336,
           21.515435191794317
          ],
          [
           "5eea0e497a359007b45fe9a3",
           "WD-76845-052.ome.tif",
           86067983704,
           3894.479730606079,
           53945618642,
           null,
           "lzw",
           62.677916131423075,
           null,
           [
            "-8",
            "-t",
            "-w",
            "256",
            "-l",
            "256",
            "-L"
           ],
           "/nvmen1Scratch/origData/htan-tnp-sardana-hms-prerelease-phase-1-data/recompressed/WD-76845-052.lzw.ome.tif",
           {
            "compressionMethod": "lzw",
            "filename": "WD-76845-052.ome.tif",
            "fullFilePath": "/s3FuseMounts/dgutman-htan-s3-synapse/htan-tnp-sardana-hms-prerelease-phase-1-data/WD-76845-052.ome.tif",
            "outputFile": "WD-76845-052.lzw.ome.tif",
            "tileString": [
             "-8",
             "-t",
             "-w",
             "256",
             "-l",
             "256",
             "-L"
            ]
           },
           62.677916131423075,
           22.099995290155395
          ],
          [
           "5eea0f2a5b022b5ffc5fe9a3",
           "WD-76845-020.ome.tif",
           89758999384,
           4119.786567926407,
           53491961522,
           null,
           "lzw",
           59.59509563286778,
           null,
           [
            "-8",
            "-t",
            "-w",
            "256",
            "-l",
            "256",
            "-L"
           ],
           "/nvmen1Scratch/origData/htan-tnp-sardana-hms-prerelease-phase-1-data/recompressed/WD-76845-020.lzw.ome.tif",
           {
            "compressionMethod": "lzw",
            "filename": "WD-76845-020.ome.tif",
            "fullFilePath": "/s3FuseMounts/dgutman-htan-s3-synapse/htan-tnp-sardana-hms-prerelease-phase-1-data/WD-76845-020.ome.tif",
            "outputFile": "WD-76845-020.lzw.ome.tif",
            "tileString": [
             "-8",
             "-t",
             "-w",
             "256",
             "-l",
             "256",
             "-L"
            ]
           },
           59.59509563286778,
           21.78729356583586
          ],
          [
           "5eea10257a359007b45fe9a4",
           "WD-76845-013.ome.tif",
           12727830115,
           476.0803105831146,
           5609578870,
           null,
           "lzw",
           44.07333236942721,
           null,
           [
            "-8",
            "-t",
            "-w",
            "256",
            "-l",
            "256",
            "-L"
           ],
           "/nvmen1Scratch/origData/htan-tnp-sardana-hms-prerelease-phase-1-data/recompressed/WD-76845-013.lzw.ome.tif",
           {
            "compressionMethod": "lzw",
            "filename": "WD-76845-013.ome.tif",
            "fullFilePath": "/s3FuseMounts/dgutman-htan-s3-synapse/htan-tnp-sardana-hms-prerelease-phase-1-data/WD-76845-013.ome.tif",
            "outputFile": "WD-76845-013.lzw.ome.tif",
            "tileString": [
             "-8",
             "-t",
             "-w",
             "256",
             "-l",
             "256",
             "-L"
            ]
           },
           44.07333236942721,
           26.734628238270655
          ],
          [
           "5eea110d692e2980bb5fe9a5",
           "WD-76845-097.ome.tif",
           80028139864,
           3650.1974382400513,
           50471785068,
           null,
           "lzw",
           63.067547432405476,
           null,
           [
            "-8",
            "-t",
            "-w",
            "256",
            "-l",
            "256",
            "-L"
           ],
           "/nvmen1Scratch/origData/htan-tnp-sardana-hms-prerelease-phase-1-data/recompressed/WD-76845-097.lzw.ome.tif",
           {
            "compressionMethod": "lzw",
            "filename": "WD-76845-097.ome.tif",
            "fullFilePath": "/s3FuseMounts/dgutman-htan-s3-synapse/htan-tnp-sardana-hms-prerelease-phase-1-data/WD-76845-097.ome.tif",
            "outputFile": "WD-76845-097.lzw.ome.tif",
            "tileString": [
             "-8",
             "-t",
             "-w",
             "256",
             "-l",
             "256",
             "-L"
            ]
           },
           63.067547432405476,
           21.924331825345234
          ],
          [
           "5eea12c4692e2980bb5fe9a6",
           "WD-76845-083.ome.tif",
           10270979059,
           438.32432436943054,
           5444116346,
           null,
           "lzw",
           53.00484320654479,
           null,
           [
            "-8",
            "-t",
            "-w",
            "256",
            "-l",
            "256",
            "-L"
           ],
           "/nvmen1Scratch/origData/htan-tnp-sardana-hms-prerelease-phase-1-data/recompressed/WD-76845-083.lzw.ome.tif",
           {
            "compressionMethod": "lzw",
            "filename": "WD-76845-083.ome.tif",
            "fullFilePath": "/s3FuseMounts/dgutman-htan-s3-synapse/htan-tnp-sardana-hms-prerelease-phase-1-data/WD-76845-083.ome.tif",
            "outputFile": "WD-76845-083.lzw.ome.tif",
            "tileString": [
             "-8",
             "-t",
             "-w",
             "256",
             "-l",
             "256",
             "-L"
            ]
           },
           53.00484320654479,
           23.432372989511222
          ],
          [
           "5eea1c04bb2b0550615fe9a5",
           "WD-76845-059.ome.tif",
           86067983704,
           3622.485520839691,
           52800859840,
           null,
           "lzw",
           61.34785267142965,
           null,
           [
            "-8",
            "-t",
            "-w",
            "256",
            "-l",
            "256",
            "-L"
           ],
           "/nvmen1Scratch/origData/htan-tnp-sardana-hms-prerelease-phase-1-data/recompressed/WD-76845-059.lzw.ome.tif",
           {
            "compressionMethod": "lzw",
            "filename": "WD-76845-059.ome.tif",
            "fullFilePath": "/s3FuseMounts/dgutman-htan-s3-synapse/htan-tnp-sardana-hms-prerelease-phase-1-data/WD-76845-059.ome.tif",
            "outputFile": "WD-76845-059.lzw.ome.tif",
            "tileString": [
             "-8",
             "-t",
             "-w",
             "256",
             "-l",
             "256",
             "-L"
            ]
           },
           61.34785267142965,
           23.759372731474567
          ],
          [
           "5eea1c2b7a359007b45fe9a5",
           "WD-76845-078.ome.tif",
           74575503064,
           3078.496503829956,
           47141997292,
           null,
           "lzw",
           63.213783823279314,
           null,
           [
            "-8",
            "-t",
            "-w",
            "256",
            "-l",
            "256",
            "-L"
           ],
           "/nvmen1Scratch/origData/htan-tnp-sardana-hms-prerelease-phase-1-data/recompressed/WD-76845-078.lzw.ome.tif",
           {
            "compressionMethod": "lzw",
            "filename": "WD-76845-078.ome.tif",
            "fullFilePath": "/s3FuseMounts/dgutman-htan-s3-synapse/htan-tnp-sardana-hms-prerelease-phase-1-data/WD-76845-078.ome.tif",
            "outputFile": "WD-76845-078.lzw.ome.tif",
            "tileString": [
             "-8",
             "-t",
             "-w",
             "256",
             "-l",
             "256",
             "-L"
            ]
           },
           63.213783823279314,
           24.224650887607197
          ],
          [
           "5eea1ee0692e2980bb5fe9a7",
           "WD-76845-091.ome.tif",
           77763198424,
           3100.2453513145447,
           46941291880,
           null,
           "lzw",
           60.36440479731161,
           null,
           [
            "-8",
            "-t",
            "-w",
            "256",
            "-l",
            "256",
            "-L"
           ],
           "/nvmen1Scratch/origData/htan-tnp-sardana-hms-prerelease-phase-1-data/recompressed/WD-76845-091.lzw.ome.tif",
           {
            "compressionMethod": "lzw",
            "filename": "WD-76845-091.ome.tif",
            "fullFilePath": "/s3FuseMounts/dgutman-htan-s3-synapse/htan-tnp-sardana-hms-prerelease-phase-1-data/WD-76845-091.ome.tif",
            "outputFile": "WD-76845-091.lzw.ome.tif",
            "tileString": [
             "-8",
             "-t",
             "-w",
             "256",
             "-l",
             "256",
             "-L"
            ]
           },
           60.36440479731161,
           25.08291751523065
          ],
          [
           "5eea2019692e2980bb5fe9a8",
           "WD-76845-058.ome.tif",
           11239878067,
           313.41111516952515,
           5589055960,
           null,
           "lzw",
           49.72523657893877,
           null,
           [
            "-8",
            "-t",
            "-w",
            "256",
            "-l",
            "256",
            "-L"
           ],
           "/nvmen1Scratch/origData/htan-tnp-sardana-hms-prerelease-phase-1-data/recompressed/WD-76845-058.lzw.ome.tif",
           {
            "compressionMethod": "lzw",
            "filename": "WD-76845-058.ome.tif",
            "fullFilePath": "/s3FuseMounts/dgutman-htan-s3-synapse/htan-tnp-sardana-hms-prerelease-phase-1-data/WD-76845-058.ome.tif",
            "outputFile": "WD-76845-058.lzw.ome.tif",
            "tileString": [
             "-8",
             "-t",
             "-w",
             "256",
             "-l",
             "256",
             "-L"
            ]
           },
           49.72523657893877,
           35.86304863795374
          ],
          [
           "5eea2ee9692e2980bb5fe9a9",
           "WD-76845-014.ome.tif",
           77763198424,
           3791.312817811966,
           47016796710,
           null,
           "lzw",
           60.461500636384876,
           null,
           [
            "-8",
            "-t",
            "-w",
            "256",
            "-l",
            "256",
            "-L"
           ],
           "/nvmen1Scratch/origData/htan-tnp-sardana-hms-prerelease-phase-1-data/recompressed/WD-76845-014.lzw.ome.tif",
           {
            "compressionMethod": "lzw",
            "filename": "WD-76845-014.ome.tif",
            "fullFilePath": "/s3FuseMounts/dgutman-htan-s3-synapse/htan-tnp-sardana-hms-prerelease-phase-1-data/WD-76845-014.ome.tif",
            "outputFile": "WD-76845-014.lzw.ome.tif",
            "tileString": [
             "-8",
             "-t",
             "-w",
             "256",
             "-l",
             "256",
             "-L"
            ]
           },
           60.461500636384876,
           20.51088954165447
          ],
          [
           "5eea3033049ce574635fe9a8",
           "WD-76845-039.ome.tif",
           86067983704,
           4233.785066604614,
           53440585756,
           null,
           "lzw",
           62.09113244686869,
           null,
           [
            "-8",
            "-t",
            "-w",
            "256",
            "-l",
            "256",
            "-L"
           ],
           "/nvmen1Scratch/origData/htan-tnp-sardana-hms-prerelease-phase-1-data/recompressed/WD-76845-039.lzw.ome.tif",
           {
            "compressionMethod": "lzw",
            "filename": "WD-76845-039.ome.tif",
            "fullFilePath": "/s3FuseMounts/dgutman-htan-s3-synapse/htan-tnp-sardana-hms-prerelease-phase-1-data/WD-76845-039.ome.tif",
            "outputFile": "WD-76845-039.lzw.ome.tif",
            "tileString": [
             "-8",
             "-t",
             "-w",
             "256",
             "-l",
             "256",
             "-L"
            ]
           },
           62.09113244686869,
           20.328850508470495
          ],
          [
           "5eea335b692e2980bb5fe9ab",
           "WD-76845-006.ome.tif",
           11834429731,
           358.8374652862549,
           5302035260,
           null,
           "lzw",
           44.801780740743666,
           null,
           [
            "-8",
            "-t",
            "-w",
            "256",
            "-l",
            "256",
            "-L"
           ],
           "/nvmen1Scratch/origData/htan-tnp-sardana-hms-prerelease-phase-1-data/recompressed/WD-76845-006.lzw.ome.tif",
           {
            "compressionMethod": "lzw",
            "filename": "WD-76845-006.ome.tif",
            "fullFilePath": "/s3FuseMounts/dgutman-htan-s3-synapse/htan-tnp-sardana-hms-prerelease-phase-1-data/WD-76845-006.ome.tif",
            "outputFile": "WD-76845-006.lzw.ome.tif",
            "tileString": [
             "-8",
             "-t",
             "-w",
             "256",
             "-l",
             "256",
             "-L"
            ]
           },
           44.801780740743666,
           32.979916747431425
          ],
          [
           "5eea3a55049ce574635fe9a9",
           "WD-76845-074.ome.tif",
           74575503064,
           2593.189691066742,
           47537861266,
           null,
           "lzw",
           63.744606892163304,
           null,
           [
            "-8",
            "-t",
            "-w",
            "256",
            "-l",
            "256",
            "-L"
           ],
           "/nvmen1Scratch/origData/htan-tnp-sardana-hms-prerelease-phase-1-data/recompressed/WD-76845-074.lzw.ome.tif",
           {
            "compressionMethod": "lzw",
            "filename": "WD-76845-074.ome.tif",
            "fullFilePath": "/s3FuseMounts/dgutman-htan-s3-synapse/htan-tnp-sardana-hms-prerelease-phase-1-data/WD-76845-074.ome.tif",
            "outputFile": "WD-76845-074.lzw.ome.tif",
            "tileString": [
             "-8",
             "-t",
             "-w",
             "256",
             "-l",
             "256",
             "-L"
            ]
           },
           63.744606892163304,
           28.758213608863457
          ],
          [
           "5eea3c11a6ab30e49fe00725",
           "WD-76845-063.ome.tif",
           11239878067,
           295.3778717517853,
           5677872514,
           null,
           "lzw",
           50.515428015808205,
           null,
           [
            "-8",
            "-t",
            "-w",
            "256",
            "-l",
            "256",
            "-L"
           ],
           "/nvmen1Scratch/origData/htan-tnp-sardana-hms-prerelease-phase-1-data/recompressed/WD-76845-063.lzw.ome.tif",
           {
            "compressionMethod": "lzw",
            "filename": "WD-76845-063.ome.tif",
            "fullFilePath": "/s3FuseMounts/dgutman-htan-s3-synapse/htan-tnp-sardana-hms-prerelease-phase-1-data/WD-76845-063.ome.tif",
            "outputFile": "WD-76845-063.lzw.ome.tif",
            "tileString": [
             "-8",
             "-t",
             "-w",
             "256",
             "-l",
             "256",
             "-L"
            ]
           },
           50.515428015808205,
           38.05253927906015
          ],
          [
           "5eea3e6928bc84a252e00726",
           "WD-76845-053.ome.tif",
           11239878067,
           553.3601450920105,
           5719560776,
           null,
           "lzw",
           50.88632405001338,
           null,
           [
            "-8",
            "-t",
            "-w",
            "256",
            "-l",
            "256",
            "-L"
           ],
           "/nvmen1Scratch/origData/htan-tnp-sardana-hms-prerelease-phase-1-data/recompressed/WD-76845-053.lzw.ome.tif",
           {
            "compressionMethod": "lzw",
            "filename": "WD-76845-053.ome.tif",
            "fullFilePath": "/s3FuseMounts/dgutman-htan-s3-synapse/htan-tnp-sardana-hms-prerelease-phase-1-data/WD-76845-053.ome.tif",
            "outputFile": "WD-76845-053.lzw.ome.tif",
            "tileString": [
             "-8",
             "-t",
             "-w",
             "256",
             "-l",
             "256",
             "-L"
            ]
           },
           50.88632405001338,
           20.31204843119137
          ],
          [
           "5eea4acd87f2d71db8e00725",
           "WD-76845-084.ome.tif",
           74575503064,
           4067.20813536644,
           47424991864,
           null,
           "lzw",
           63.59325772606631,
           null,
           [
            "-8",
            "-t",
            "-w",
            "256",
            "-l",
            "256",
            "-L"
           ],
           "/nvmen1Scratch/origData/htan-tnp-sardana-hms-prerelease-phase-1-data/recompressed/WD-76845-084.lzw.ome.tif",
           {
            "compressionMethod": "lzw",
            "filename": "WD-76845-084.ome.tif",
            "fullFilePath": "/s3FuseMounts/dgutman-htan-s3-synapse/htan-tnp-sardana-hms-prerelease-phase-1-data/WD-76845-084.ome.tif",
            "outputFile": "WD-76845-084.lzw.ome.tif",
            "tileString": [
             "-8",
             "-t",
             "-w",
             "256",
             "-l",
             "256",
             "-L"
            ]
           },
           63.59325772606631,
           18.335797082900218
          ],
          [
           "5eea4ba8f57863fbe4e00725",
           "WD-76845-064.ome.tif",
           79860366424,
           4285.834104776382,
           50454259642,
           null,
           "lzw",
           63.17809684734586,
           null,
           [
            "-8",
            "-t",
            "-w",
            "256",
            "-l",
            "256",
            "-L"
           ],
           "/nvmen1Scratch/origData/htan-tnp-sardana-hms-prerelease-phase-1-data/recompressed/WD-76845-064.lzw.ome.tif",
           {
            "compressionMethod": "lzw",
            "filename": "WD-76845-064.ome.tif",
            "fullFilePath": "/s3FuseMounts/dgutman-htan-s3-synapse/htan-tnp-sardana-hms-prerelease-phase-1-data/WD-76845-064.ome.tif",
            "outputFile": "WD-76845-064.lzw.ome.tif",
            "tileString": [
             "-8",
             "-t",
             "-w",
             "256",
             "-l",
             "256",
             "-L"
            ]
           },
           63.17809684734586,
           18.63356454581361
          ],
          [
           "5eea4d328d45a18a18e00725",
           "WD-76845-050.ome.tif",
           86067983704,
           4680.37166929245,
           53187594226,
           null,
           "lzw",
           61.79718861420024,
           null,
           [
            "-8",
            "-t",
            "-w",
            "256",
            "-l",
            "256",
            "-L"
           ],
           "/nvmen1Scratch/origData/htan-tnp-sardana-hms-prerelease-phase-1-data/recompressed/WD-76845-050.lzw.ome.tif",
           {
            "compressionMethod": "lzw",
            "filename": "WD-76845-050.ome.tif",
            "fullFilePath": "/s3FuseMounts/dgutman-htan-s3-synapse/htan-tnp-sardana-hms-prerelease-phase-1-data/WD-76845-050.ome.tif",
            "outputFile": "WD-76845-050.lzw.ome.tif",
            "tileString": [
             "-8",
             "-t",
             "-w",
             "256",
             "-l",
             "256",
             "-L"
            ]
           },
           61.79718861420024,
           18.38913440756965
          ],
          [
           "5eea4e3ca6ab30e49fe00726",
           "WD-76845-049.ome.tif",
           82209194584,
           4650.57892537117,
           51724195508,
           null,
           "lzw",
           62.9177743070443,
           null,
           [
            "-8",
            "-t",
            "-w",
            "256",
            "-l",
            "256",
            "-L"
           ],
           "/nvmen1Scratch/origData/htan-tnp-sardana-hms-prerelease-phase-1-data/recompressed/WD-76845-049.lzw.ome.tif",
           {
            "compressionMethod": "lzw",
            "filename": "WD-76845-049.ome.tif",
            "fullFilePath": "/s3FuseMounts/dgutman-htan-s3-synapse/htan-tnp-sardana-hms-prerelease-phase-1-data/WD-76845-049.ome.tif",
            "outputFile": "WD-76845-049.lzw.ome.tif",
            "tileString": [
             "-8",
             "-t",
             "-w",
             "256",
             "-l",
             "256",
             "-L"
            ]
           },
           62.9177743070443,
           17.67719587243404
          ],
          [
           "5eea4f8628bc84a252e00727",
           "WD-76845-086.ome.tif",
           77763198424,
           4380.983438014984,
           48874263426,
           null,
           "lzw",
           62.8501198722762,
           null,
           [
            "-8",
            "-t",
            "-w",
            "256",
            "-l",
            "256",
            "-L"
           ],
           "/nvmen1Scratch/origData/htan-tnp-sardana-hms-prerelease-phase-1-data/recompressed/WD-76845-086.lzw.ome.tif",
           {
            "compressionMethod": "lzw",
            "filename": "WD-76845-086.ome.tif",
            "fullFilePath": "/s3FuseMounts/dgutman-htan-s3-synapse/htan-tnp-sardana-hms-prerelease-phase-1-data/WD-76845-086.ome.tif",
            "outputFile": "WD-76845-086.lzw.ome.tif",
            "tileString": [
             "-8",
             "-t",
             "-w",
             "256",
             "-l",
             "256",
             "-L"
            ]
           },
           62.8501198722762,
           17.750169459493407
          ],
          [
           "5eea5a088d45a18a18e00726",
           "WD-76845-051.ome.tif",
           82209194584,
           3284.824033021927,
           54317245016,
           null,
           "lzw",
           66.0719829343414,
           null,
           [
            "-8",
            "-t",
            "-w",
            "256",
            "-l",
            "256",
            "-L"
           ],
           "/nvmen1Scratch/origData/htan-tnp-sardana-hms-prerelease-phase-1-data/recompressed/WD-76845-051.lzw.ome.tif",
           {
            "compressionMethod": "lzw",
            "filename": "WD-76845-051.ome.tif",
            "fullFilePath": "/s3FuseMounts/dgutman-htan-s3-synapse/htan-tnp-sardana-hms-prerelease-phase-1-data/WD-76845-051.ome.tif",
            "outputFile": "WD-76845-051.lzw.ome.tif",
            "tileString": [
             "-8",
             "-t",
             "-w",
             "256",
             "-l",
             "256",
             "-L"
            ]
           },
           66.0719829343414,
           25.02697062538547
          ],
          [
           "5eea5a4aa6ab30e49fe00727",
           "WD-76845-029.ome.tif",
           79860366424,
           3085.615531682968,
           48644979550,
           null,
           "lzw",
           60.91254238896278,
           null,
           [
            "-8",
            "-t",
            "-w",
            "256",
            "-l",
            "256",
            "-L"
           ],
           "/nvmen1Scratch/origData/htan-tnp-sardana-hms-prerelease-phase-1-data/recompressed/WD-76845-029.lzw.ome.tif",
           {
            "compressionMethod": "lzw",
            "filename": "WD-76845-029.ome.tif",
            "fullFilePath": "/s3FuseMounts/dgutman-htan-s3-synapse/htan-tnp-sardana-hms-prerelease-phase-1-data/WD-76845-029.ome.tif",
            "outputFile": "WD-76845-029.lzw.ome.tif",
            "tileString": [
             "-8",
             "-t",
             "-w",
             "256",
             "-l",
             "256",
             "-L"
            ]
           },
           60.91254238896278,
           25.88150260588112
          ]
         ],
         "fillcolor": "rgba(255,255,255,0)",
         "hoveron": "points",
         "hovertemplate": "compressionMethod=%{customdata[6]}<br>mbytesPerSec=%{customdata[13]}<br>_id=%{customdata[0]}<br>origFileName=%{customdata[1]}<br>origFileSize=%{customdata[2]}<br>executionTime=%{customdata[3]}<br>compressedFileSize=%{customdata[4]}<br>compressionOptions=%{customdata[5]}<br>compressionRate=%{customdata[7]}<br>outputFileName=%{customdata[8]}<br>tileInfo=%{customdata[9]}<br>outputFileNamewPath=%{customdata[10]}<br>origCompressionDict=%{customdata[11]}<br>compressionRatio=%{customdata[12]}<extra></extra>",
         "jitter": 0,
         "legendgroup": "lzw",
         "line": {
          "color": "rgba(255,255,255,0)"
         },
         "marker": {
          "color": "#636efa",
          "symbol": "line-ns-open"
         },
         "name": "lzw",
         "offsetgroup": "lzw",
         "showlegend": false,
         "type": "box",
         "x": [
          96.01757907249561,
          112.26619991234321,
          98.70715211807044,
          67.94263714782879,
          73.46766986938384,
          95.80496273123536,
          101.239249136447,
          72.08812427757486,
          73.32037926349727,
          73.3804541598687,
          66.58447119121719,
          70.39477442762792,
          49.43212403214383,
          37.95592850891549,
          23.289461404607245,
          23.083540915857807,
          21.127942564685927,
          20.713223836730588,
          29.99629000860231,
          33.4448107950001,
          31.234500099173303,
          30.686138367684535,
          32.29134011051616,
          30.440084447558,
          44.899814364214336,
          34.61139221057726,
          34.17909219600143,
          35.493840360891014,
          33.47648008261957,
          27.390415400234165,
          24.395508173747942,
          21.515435191794317,
          22.099995290155395,
          21.78729356583586,
          26.734628238270655,
          21.924331825345234,
          23.432372989511222,
          23.759372731474567,
          24.224650887607197,
          25.08291751523065,
          35.86304863795374,
          20.51088954165447,
          20.328850508470495,
          32.979916747431425,
          28.758213608863457,
          38.05253927906015,
          20.31204843119137,
          18.335797082900218,
          18.63356454581361,
          18.38913440756965,
          17.67719587243404,
          17.750169459493407,
          25.02697062538547,
          25.88150260588112
         ],
         "xaxis": "x2",
         "yaxis": "y2"
        },
        {
         "alignmentgroup": "True",
         "bingroup": "x",
         "hovertemplate": "compressionMethod=zip<br>mbytesPerSec=%{x}<br>count=%{y}<extra></extra>",
         "legendgroup": "zip",
         "marker": {
          "color": "#EF553B",
          "opacity": 0.8
         },
         "name": "zip",
         "nbinsx": 25,
         "offsetgroup": "zip",
         "orientation": "v",
         "showlegend": true,
         "type": "histogram",
         "x": [
          15.987362169035354,
          31.643992969661763,
          35.64230919660516,
          13.828222167074484,
          27.74826780846198,
          16.457458527550024,
          15.568144853960089,
          10.168252148234217,
          23.525540498586683,
          25.643290558485937,
          10.483680021549663,
          10.545120612596028,
          10.613388336162137,
          14.819684756331494,
          29.444782454768834,
          22.95951682469373,
          10.354852044593272,
          16.770657388256556,
          23.668537911253093,
          32.933490147114824,
          23.17412573777944,
          15.243013988872242,
          14.3206489399868,
          9.75234023681209,
          9.813289214401403,
          19.38377071333008,
          22.566965547027014,
          25.87236613588999,
          22.52544820356679
         ],
         "xaxis": "x",
         "yaxis": "y"
        },
        {
         "alignmentgroup": "True",
         "boxpoints": "all",
         "customdata": [
          [
           "5ee8ffa2141a70165aed4920",
           "WD-76845-002.ome.tif",
           94540542424,
           5913.4547290802,
           46623413560,
           null,
           "zip",
           49.315788088988384,
           null,
           [
            "-8",
            "-t",
            "-w",
            "256",
            "-l",
            "256",
            "-L"
           ],
           "/nvmen1Scratch/origData/htan-tnp-sardana-hms-prerelease-phase-1-data/recompressed/WD-76845-002.zip.ome.tif",
           {
            "compressionMethod": "zip",
            "filename": "WD-76845-002.ome.tif",
            "fullFilePath": "/nvmen1Scratch/origData/htan-tnp-sardana-hms-prerelease-phase-1-data/WD-76845-002.ome.tif",
            "outputFile": "WD-76845-002.zip.ome.tif",
            "tileString": [
             "-8",
             "-t",
             "-w",
             "256",
             "-l",
             "256",
             "-L"
            ]
           },
           49.315788088988384,
           15.987362169035354
          ],
          [
           "5ee9159f472cad3ec2fd998e",
           "WD-76845-006.ome.tif",
           11834429731,
           373.9866123199463,
           4333709684,
           null,
           "zip",
           36.61950581909286,
           null,
           [
            "-8",
            "-t",
            "-w",
            "256",
            "-l",
            "256",
            "-L"
           ],
           "/nvmen1Scratch/origData/htan-tnp-sardana-hms-prerelease-phase-1-data/recompressed/WD-76845-006.zip.ome.tif",
           {
            "compressionMethod": "zip",
            "filename": "WD-76845-006.ome.tif",
            "fullFilePath": "/nvmen1Scratch/origData/htan-tnp-sardana-hms-prerelease-phase-1-data/WD-76845-006.ome.tif",
            "outputFile": "WD-76845-006.zip.ome.tif",
            "tileString": [
             "-8",
             "-t",
             "-w",
             "256",
             "-l",
             "256",
             "-L"
            ]
           },
           36.61950581909286,
           31.643992969661763
          ],
          [
           "5ee91890557b784b56fd9991",
           "WD-76845-001.ome.tif",
           13048699267,
           366.1013991832733,
           4383036850,
           null,
           "zip",
           33.58983727278202,
           null,
           [
            "-8",
            "-t",
            "-w",
            "256",
            "-l",
            "256",
            "-L"
           ],
           "/nvmen1Scratch/origData/htan-tnp-sardana-hms-prerelease-phase-1-data/recompressed/WD-76845-001.zip.ome.tif",
           {
            "compressionMethod": "zip",
            "filename": "WD-76845-001.ome.tif",
            "fullFilePath": "/nvmen1Scratch/origData/htan-tnp-sardana-hms-prerelease-phase-1-data/WD-76845-001.ome.tif",
            "outputFile": "WD-76845-001.zip.ome.tif",
            "tileString": [
             "-8",
             "-t",
             "-w",
             "256",
             "-l",
             "256",
             "-L"
            ]
           },
           33.58983727278202,
           35.64230919660516
          ],
          [
           "5ee92c7a31a89af274fd998e",
           "WD-76845-007.ome.tif",
           86067983704,
           6224.081640005112,
           43466954554,
           null,
           "zip",
           50.503047339285914,
           null,
           [
            "-8",
            "-t",
            "-w",
            "256",
            "-l",
            "256",
            "-L"
           ],
           "/nvmen1Scratch/origData/htan-tnp-sardana-hms-prerelease-phase-1-data/recompressed/WD-76845-007.zip.ome.tif",
           {
            "compressionMethod": "zip",
            "filename": "WD-76845-007.ome.tif",
            "fullFilePath": "/nvmen1Scratch/origData/htan-tnp-sardana-hms-prerelease-phase-1-data/WD-76845-007.ome.tif",
            "outputFile": "WD-76845-007.zip.ome.tif",
            "tileString": [
             "-8",
             "-t",
             "-w",
             "256",
             "-l",
             "256",
             "-L"
            ]
           },
           50.503047339285914,
           13.828222167074484
          ],
          [
           "5ee93f5727c36180e3eadeaa",
           "WD-76845-006.ome.tif",
           11834429731,
           426.4925584793091,
           4333709684,
           null,
           "zip",
           36.61950581909286,
           null,
           [
            "-8",
            "-t",
            "-w",
            "256",
            "-l",
            "256",
            "-L"
           ],
           "/nvmen1Scratch/origData/htan-tnp-sardana-hms-prerelease-phase-1-data/recompressed/WD-76845-006.zip.ome.tif",
           {
            "compressionMethod": "zip",
            "filename": "WD-76845-006.ome.tif",
            "fullFilePath": "/s3FuseMounts/dgutman-htan-s3-synapse/htan-tnp-sardana-hms-prerelease-phase-1-data/WD-76845-006.ome.tif",
            "outputFile": "WD-76845-006.zip.ome.tif",
            "tileString": [
             "-8",
             "-t",
             "-w",
             "256",
             "-l",
             "256",
             "-L"
            ]
           },
           36.61950581909286,
           27.74826780846198
          ],
          [
           "5ee955719d5df40196038554",
           "WD-76845-068.ome.tif",
           10812052531,
           656.9697570800781,
           4276409710,
           null,
           "zip",
           39.55224688132807,
           null,
           [
            "-8",
            "-t",
            "-w",
            "256",
            "-l",
            "256",
            "-L"
           ],
           "/nvmen1Scratch/origData/htan-tnp-sardana-hms-prerelease-phase-1-data/recompressed/WD-76845-068.zip.ome.tif",
           {
            "compressionMethod": "zip",
            "filename": "WD-76845-068.ome.tif",
            "fullFilePath": "/s3FuseMounts/dgutman-htan-s3-synapse/htan-tnp-sardana-hms-prerelease-phase-1-data/WD-76845-068.ome.tif",
            "outputFile": "WD-76845-068.zip.ome.tif",
            "tileString": [
             "-8",
             "-t",
             "-w",
             "256",
             "-l",
             "256",
             "-L"
            ]
           },
           39.55224688132807,
           16.457458527550024
          ],
          [
           "5ee95cc11a4aa37fe2038557",
           "WD-76845-090.ome.tif",
           10657909507,
           684.5972726345062,
           4424538424,
           null,
           "zip",
           41.51413014995118,
           null,
           [
            "-8",
            "-t",
            "-w",
            "256",
            "-l",
            "256",
            "-L"
           ],
           "/nvmen1Scratch/origData/htan-tnp-sardana-hms-prerelease-phase-1-data/recompressed/WD-76845-090.zip.ome.tif",
           {
            "compressionMethod": "zip",
            "filename": "WD-76845-090.ome.tif",
            "fullFilePath": "/s3FuseMounts/dgutman-htan-s3-synapse/htan-tnp-sardana-hms-prerelease-phase-1-data/WD-76845-090.ome.tif",
            "outputFile": "WD-76845-090.zip.ome.tif",
            "tileString": [
             "-8",
             "-t",
             "-w",
             "256",
             "-l",
             "256",
             "-L"
            ]
           },
           41.51413014995118,
           15.568144853960089
          ],
          [
           "5ee973eb07c5288327038555",
           "WD-76845-102.ome.tif",
           77763198424,
           7647.646546363831,
           39832202266,
           null,
           "zip",
           51.222433070225435,
           null,
           [
            "-8",
            "-t",
            "-w",
            "256",
            "-l",
            "256",
            "-L"
           ],
           "/nvmen1Scratch/origData/htan-tnp-sardana-hms-prerelease-phase-1-data/recompressed/WD-76845-102.zip.ome.tif",
           {
            "compressionMethod": "zip",
            "filename": "WD-76845-102.ome.tif",
            "fullFilePath": "/s3FuseMounts/dgutman-htan-s3-synapse/htan-tnp-sardana-hms-prerelease-phase-1-data/WD-76845-102.ome.tif",
            "outputFile": "WD-76845-102.zip.ome.tif",
            "tileString": [
             "-8",
             "-t",
             "-w",
             "256",
             "-l",
             "256",
             "-L"
            ]
           },
           51.222433070225435,
           10.168252148234217
          ],
          [
           "5ee975c907c5288327038556",
           "WD-76845-058.ome.tif",
           11239878067,
           477.77342534065247,
           4546828394,
           null,
           "zip",
           40.45264874669214,
           null,
           [
            "-8",
            "-t",
            "-w",
            "256",
            "-l",
            "256",
            "-L"
           ],
           "/nvmen1Scratch/origData/htan-tnp-sardana-hms-prerelease-phase-1-data/recompressed/WD-76845-058.zip.ome.tif",
           {
            "compressionMethod": "zip",
            "filename": "WD-76845-058.ome.tif",
            "fullFilePath": "/s3FuseMounts/dgutman-htan-s3-synapse/htan-tnp-sardana-hms-prerelease-phase-1-data/WD-76845-058.ome.tif",
            "outputFile": "WD-76845-058.zip.ome.tif",
            "tileString": [
             "-8",
             "-t",
             "-w",
             "256",
             "-l",
             "256",
             "-L"
            ]
           },
           40.45264874669214,
           23.525540498586683
          ],
          [
           "5ee9783f9d5df40196038556",
           "WD-76845-013.ome.tif",
           12727830115,
           496.34153175354004,
           4625260492,
           null,
           "zip",
           36.33974094727301,
           null,
           [
            "-8",
            "-t",
            "-w",
            "256",
            "-l",
            "256",
            "-L"
           ],
           "/nvmen1Scratch/origData/htan-tnp-sardana-hms-prerelease-phase-1-data/recompressed/WD-76845-013.zip.ome.tif",
           {
            "compressionMethod": "zip",
            "filename": "WD-76845-013.ome.tif",
            "fullFilePath": "/s3FuseMounts/dgutman-htan-s3-synapse/htan-tnp-sardana-hms-prerelease-phase-1-data/WD-76845-013.ome.tif",
            "outputFile": "WD-76845-013.zip.ome.tif",
            "tileString": [
             "-8",
             "-t",
             "-w",
             "256",
             "-l",
             "256",
             "-L"
            ]
           },
           36.33974094727301,
           25.643290558485937
          ],
          [
           "5ee97a8c1a4aa37fe2038559",
           "WD-76845-078.ome.tif",
           74575503064,
           7113.485237121582,
           38387183772,
           null,
           "zip",
           51.4742538700094,
           null,
           [
            "-8",
            "-t",
            "-w",
            "256",
            "-l",
            "256",
            "-L"
           ],
           "/nvmen1Scratch/origData/htan-tnp-sardana-hms-prerelease-phase-1-data/recompressed/WD-76845-078.zip.ome.tif",
           {
            "compressionMethod": "zip",
            "filename": "WD-76845-078.ome.tif",
            "fullFilePath": "/s3FuseMounts/dgutman-htan-s3-synapse/htan-tnp-sardana-hms-prerelease-phase-1-data/WD-76845-078.ome.tif",
            "outputFile": "WD-76845-078.zip.ome.tif",
            "tileString": [
             "-8",
             "-t",
             "-w",
             "256",
             "-l",
             "256",
             "-L"
            ]
           },
           51.4742538700094,
           10.483680021549663
          ],
          [
           "5ee980c01e0218235a038555",
           "WD-76845-054.ome.tif",
           80028139864,
           7589.115649223328,
           40815908114,
           null,
           "zip",
           51.001945294945806,
           null,
           [
            "-8",
            "-t",
            "-w",
            "256",
            "-l",
            "256",
            "-L"
           ],
           "/nvmen1Scratch/origData/htan-tnp-sardana-hms-prerelease-phase-1-data/recompressed/WD-76845-054.zip.ome.tif",
           {
            "compressionMethod": "zip",
            "filename": "WD-76845-054.ome.tif",
            "fullFilePath": "/s3FuseMounts/dgutman-htan-s3-synapse/htan-tnp-sardana-hms-prerelease-phase-1-data/WD-76845-054.ome.tif",
            "outputFile": "WD-76845-054.zip.ome.tif",
            "tileString": [
             "-8",
             "-t",
             "-w",
             "256",
             "-l",
             "256",
             "-L"
            ]
           },
           51.001945294945806,
           10.545120612596028
          ],
          [
           "5ee9834bc8c1e225d3038556",
           "WD-76845-050.ome.tif",
           86067983704,
           8109.37854886055,
           43781819440,
           null,
           "zip",
           50.86888010595425,
           null,
           [
            "-8",
            "-t",
            "-w",
            "256",
            "-l",
            "256",
            "-L"
           ],
           "/nvmen1Scratch/origData/htan-tnp-sardana-hms-prerelease-phase-1-data/recompressed/WD-76845-050.zip.ome.tif",
           {
            "compressionMethod": "zip",
            "filename": "WD-76845-050.ome.tif",
            "fullFilePath": "/s3FuseMounts/dgutman-htan-s3-synapse/htan-tnp-sardana-hms-prerelease-phase-1-data/WD-76845-050.ome.tif",
            "outputFile": "WD-76845-050.zip.ome.tif",
            "tileString": [
             "-8",
             "-t",
             "-w",
             "256",
             "-l",
             "256",
             "-L"
            ]
           },
           50.86888010595425,
           10.613388336162137
          ],
          [
           "5ee9a5cf1a4aa37fe203855b",
           "WD-76845-034.ome.tif",
           88249038424,
           5954.852608203888,
           45867260028,
           null,
           "zip",
           51.97479864610746,
           null,
           [
            "-8",
            "-t",
            "-w",
            "256",
            "-l",
            "256",
            "-L"
           ],
           "/nvmen1Scratch/origData/htan-tnp-sardana-hms-prerelease-phase-1-data/recompressed/WD-76845-034.zip.ome.tif",
           {
            "compressionMethod": "zip",
            "filename": "WD-76845-034.ome.tif",
            "fullFilePath": "/s3FuseMounts/dgutman-htan-s3-synapse/htan-tnp-sardana-hms-prerelease-phase-1-data/WD-76845-034.ome.tif",
            "outputFile": "WD-76845-034.zip.ome.tif",
            "tileString": [
             "-8",
             "-t",
             "-w",
             "256",
             "-l",
             "256",
             "-L"
            ]
           },
           51.97479864610746,
           14.819684756331494
          ],
          [
           "5eea00e3b5f447f61e5fe9a3",
           "WD-76845-019.ome.tif",
           13674708691,
           464.418737411499,
           4766458344,
           null,
           "zip",
           34.8560137674965,
           null,
           [
            "-8",
            "-t",
            "-w",
            "256",
            "-l",
            "256",
            "-L"
           ],
           "/nvmen1Scratch/origData/htan-tnp-sardana-hms-prerelease-phase-1-data/recompressed/WD-76845-019.zip.ome.tif",
           {
            "compressionMethod": "zip",
            "filename": "WD-76845-019.ome.tif",
            "fullFilePath": "/s3FuseMounts/dgutman-htan-s3-synapse/htan-tnp-sardana-hms-prerelease-phase-1-data/WD-76845-019.ome.tif",
            "outputFile": "WD-76845-019.zip.ome.tif",
            "tileString": [
             "-8",
             "-t",
             "-w",
             "256",
             "-l",
             "256",
             "-L"
            ]
           },
           34.8560137674965,
           29.444782454768834
          ],
          [
           "5eea00fb692e2980bb5fe9a3",
           "WD-76845-101.ome.tif",
           11221003432,
           488.72994661331177,
           4350179580,
           null,
           "zip",
           38.76818687706823,
           null,
           [
            "-8",
            "-t",
            "-w",
            "256",
            "-l",
            "256",
            "-L"
           ],
           "/nvmen1Scratch/origData/htan-tnp-sardana-hms-prerelease-phase-1-data/recompressed/WD-76845-101.zip.ome.tif",
           {
            "compressionMethod": "zip",
            "filename": "WD-76845-101.ome.tif",
            "fullFilePath": "/s3FuseMounts/dgutman-htan-s3-synapse/htan-tnp-sardana-hms-prerelease-phase-1-data/WD-76845-101.ome.tif",
            "outputFile": "WD-76845-101.zip.ome.tif",
            "tileString": [
             "-8",
             "-t",
             "-w",
             "256",
             "-l",
             "256",
             "-L"
            ]
           },
           38.76818687706823,
           22.95951682469373
          ],
          [
           "5eea22fbb5f447f61e5fe9a6",
           "WD-76845-097.ome.tif",
           80028139864,
           7728.564301967621,
           41384860222,
           null,
           "zip",
           51.71288535798724,
           null,
           [
            "-8",
            "-t",
            "-w",
            "256",
            "-l",
            "256",
            "-L"
           ],
           "/nvmen1Scratch/origData/htan-tnp-sardana-hms-prerelease-phase-1-data/recompressed/WD-76845-097.zip.ome.tif",
           {
            "compressionMethod": "zip",
            "filename": "WD-76845-097.ome.tif",
            "fullFilePath": "/s3FuseMounts/dgutman-htan-s3-synapse/htan-tnp-sardana-hms-prerelease-phase-1-data/WD-76845-097.ome.tif",
            "outputFile": "WD-76845-097.zip.ome.tif",
            "tileString": [
             "-8",
             "-t",
             "-w",
             "256",
             "-l",
             "256",
             "-L"
            ]
           },
           51.71288535798724,
           10.354852044593272
          ],
          [
           "5eea31f4692e2980bb5fe9aa",
           "WD-76845-001.ome.tif",
           13048699267,
           778.0672495365143,
           4383036850,
           null,
           "zip",
           33.58983727278202,
           null,
           [
            "-8",
            "-t",
            "-w",
            "256",
            "-l",
            "256",
            "-L"
           ],
           "/nvmen1Scratch/origData/htan-tnp-sardana-hms-prerelease-phase-1-data/recompressed/WD-76845-001.zip.ome.tif",
           {
            "compressionMethod": "zip",
            "filename": "WD-76845-001.ome.tif",
            "fullFilePath": "/s3FuseMounts/dgutman-htan-s3-synapse/htan-tnp-sardana-hms-prerelease-phase-1-data/WD-76845-001.ome.tif",
            "outputFile": "WD-76845-001.zip.ome.tif",
            "tileString": [
             "-8",
             "-t",
             "-w",
             "256",
             "-l",
             "256",
             "-L"
            ]
           },
           33.58983727278202,
           16.770657388256556
          ],
          [
           "5eea37fc7a359007b45fe9a7",
           "WD-76845-048.ome.tif",
           12067217155,
           509.8421034812927,
           4687758958,
           null,
           "zip",
           38.847058918282976,
           null,
           [
            "-8",
            "-t",
            "-w",
            "256",
            "-l",
            "256",
            "-L"
           ],
           "/nvmen1Scratch/origData/htan-tnp-sardana-hms-prerelease-phase-1-data/recompressed/WD-76845-048.zip.ome.tif",
           {
            "compressionMethod": "zip",
            "filename": "WD-76845-048.ome.tif",
            "fullFilePath": "/s3FuseMounts/dgutman-htan-s3-synapse/htan-tnp-sardana-hms-prerelease-phase-1-data/WD-76845-048.ome.tif",
            "outputFile": "WD-76845-048.zip.ome.tif",
            "tileString": [
             "-8",
             "-t",
             "-w",
             "256",
             "-l",
             "256",
             "-L"
            ]
           },
           38.847058918282976,
           23.668537911253093
          ],
          [
           "5eea3c3f28bc84a252e00725",
           "WD-76845-063.ome.tif",
           11239878067,
           341.2902190685272,
           4652573116,
           null,
           "zip",
           41.39344829424652,
           null,
           [
            "-8",
            "-t",
            "-w",
            "256",
            "-l",
            "256",
            "-L"
           ],
           "/nvmen1Scratch/origData/htan-tnp-sardana-hms-prerelease-phase-1-data/recompressed/WD-76845-063.zip.ome.tif",
           {
            "compressionMethod": "zip",
            "filename": "WD-76845-063.ome.tif",
            "fullFilePath": "/s3FuseMounts/dgutman-htan-s3-synapse/htan-tnp-sardana-hms-prerelease-phase-1-data/WD-76845-063.ome.tif",
            "outputFile": "WD-76845-063.zip.ome.tif",
            "tileString": [
             "-8",
             "-t",
             "-w",
             "256",
             "-l",
             "256",
             "-L"
            ]
           },
           41.39344829424652,
           32.933490147114824
          ],
          [
           "5eea3ce807b8d638b9e00725",
           "WD-76845-024.ome.tif",
           11834429731,
           510.6742694377899,
           4738029784,
           null,
           "zip",
           40.03597884897526,
           null,
           [
            "-8",
            "-t",
            "-w",
            "256",
            "-l",
            "256",
            "-L"
           ],
           "/nvmen1Scratch/origData/htan-tnp-sardana-hms-prerelease-phase-1-data/recompressed/WD-76845-024.zip.ome.tif",
           {
            "compressionMethod": "zip",
            "filename": "WD-76845-024.ome.tif",
            "fullFilePath": "/s3FuseMounts/dgutman-htan-s3-synapse/htan-tnp-sardana-hms-prerelease-phase-1-data/WD-76845-024.ome.tif",
            "outputFile": "WD-76845-024.zip.ome.tif",
            "tileString": [
             "-8",
             "-t",
             "-w",
             "256",
             "-l",
             "256",
             "-L"
            ]
           },
           40.03597884897526,
           23.17412573777944
          ],
          [
           "5eea3fc907b8d638b9e00726",
           "WD-76845-077.ome.tif",
           11221003411,
           736.1407277584076,
           4374319768,
           null,
           "zip",
           38.983320900801395,
           null,
           [
            "-8",
            "-t",
            "-w",
            "256",
            "-l",
            "256",
            "-L"
           ],
           "/nvmen1Scratch/origData/htan-tnp-sardana-hms-prerelease-phase-1-data/recompressed/WD-76845-077.zip.ome.tif",
           {
            "compressionMethod": "zip",
            "filename": "WD-76845-077.ome.tif",
            "fullFilePath": "/s3FuseMounts/dgutman-htan-s3-synapse/htan-tnp-sardana-hms-prerelease-phase-1-data/WD-76845-077.ome.tif",
            "outputFile": "WD-76845-077.zip.ome.tif",
            "tileString": [
             "-8",
             "-t",
             "-w",
             "256",
             "-l",
             "256",
             "-L"
            ]
           },
           38.983320900801395,
           15.243013988872242
          ],
          [
           "5eea4d9b87f2d71db8e00726",
           "WD-76845-083.ome.tif",
           10270979059,
           717.2146389484406,
           4449609478,
           null,
           "zip",
           43.32215509777528,
           null,
           [
            "-8",
            "-t",
            "-w",
            "256",
            "-l",
            "256",
            "-L"
           ],
           "/nvmen1Scratch/origData/htan-tnp-sardana-hms-prerelease-phase-1-data/recompressed/WD-76845-083.zip.ome.tif",
           {
            "compressionMethod": "zip",
            "filename": "WD-76845-083.ome.tif",
            "fullFilePath": "/s3FuseMounts/dgutman-htan-s3-synapse/htan-tnp-sardana-hms-prerelease-phase-1-data/WD-76845-083.ome.tif",
            "outputFile": "WD-76845-083.zip.ome.tif",
            "tileString": [
             "-8",
             "-t",
             "-w",
             "256",
             "-l",
             "256",
             "-L"
            ]
           },
           43.32215509777528,
           14.3206489399868
          ],
          [
           "5eea5a10c437a94ce9e00725",
           "WD-76845-014.ome.tif",
           77763198424,
           7973.798753499985,
           38777338962,
           null,
           "zip",
           49.86592597512319,
           null,
           [
            "-8",
            "-t",
            "-w",
            "256",
            "-l",
            "256",
            "-L"
           ],
           "/nvmen1Scratch/origData/htan-tnp-sardana-hms-prerelease-phase-1-data/recompressed/WD-76845-014.zip.ome.tif",
           {
            "compressionMethod": "zip",
            "filename": "WD-76845-014.ome.tif",
            "fullFilePath": "/s3FuseMounts/dgutman-htan-s3-synapse/htan-tnp-sardana-hms-prerelease-phase-1-data/WD-76845-014.ome.tif",
            "outputFile": "WD-76845-014.zip.ome.tif",
            "tileString": [
             "-8",
             "-t",
             "-w",
             "256",
             "-l",
             "256",
             "-L"
            ]
           },
           49.86592597512319,
           9.75234023681209
          ],
          [
           "5eea5ab4485aac8111e00725",
           "WD-76845-029.ome.tif",
           79860366424,
           8137.981534957886,
           40213599020,
           null,
           "zip",
           50.354889190584565,
           null,
           [
            "-8",
            "-t",
            "-w",
            "256",
            "-l",
            "256",
            "-L"
           ],
           "/nvmen1Scratch/origData/htan-tnp-sardana-hms-prerelease-phase-1-data/recompressed/WD-76845-029.zip.ome.tif",
           {
            "compressionMethod": "zip",
            "filename": "WD-76845-029.ome.tif",
            "fullFilePath": "/s3FuseMounts/dgutman-htan-s3-synapse/htan-tnp-sardana-hms-prerelease-phase-1-data/WD-76845-029.ome.tif",
            "outputFile": "WD-76845-029.zip.ome.tif",
            "tileString": [
             "-8",
             "-t",
             "-w",
             "256",
             "-l",
             "256",
             "-L"
            ]
           },
           50.354889190584565,
           9.813289214401403
          ],
          [
           "5eea5c90a6ab30e49fe00728",
           "WD-76845-053.ome.tif",
           11239878067,
           579.8602466583252,
           4662752796,
           null,
           "zip",
           41.48401582477772,
           null,
           [
            "-8",
            "-t",
            "-w",
            "256",
            "-l",
            "256",
            "-L"
           ],
           "/nvmen1Scratch/origData/htan-tnp-sardana-hms-prerelease-phase-1-data/recompressed/WD-76845-053.zip.ome.tif",
           {
            "compressionMethod": "zip",
            "filename": "WD-76845-053.ome.tif",
            "fullFilePath": "/s3FuseMounts/dgutman-htan-s3-synapse/htan-tnp-sardana-hms-prerelease-phase-1-data/WD-76845-053.ome.tif",
            "outputFile": "WD-76845-053.zip.ome.tif",
            "tileString": [
             "-8",
             "-t",
             "-w",
             "256",
             "-l",
             "256",
             "-L"
            ]
           },
           41.48401582477772,
           19.38377071333008
          ],
          [
           "5eea5cd507b8d638b9e00728",
           "WD-76845-033.ome.tif",
           12715247011,
           563.4451377391815,
           4779749076,
           null,
           "zip",
           37.59068991632663,
           null,
           [
            "-8",
            "-t",
            "-w",
            "256",
            "-l",
            "256",
            "-L"
           ],
           "/nvmen1Scratch/origData/htan-tnp-sardana-hms-prerelease-phase-1-data/recompressed/WD-76845-033.zip.ome.tif",
           {
            "compressionMethod": "zip",
            "filename": "WD-76845-033.ome.tif",
            "fullFilePath": "/s3FuseMounts/dgutman-htan-s3-synapse/htan-tnp-sardana-hms-prerelease-phase-1-data/WD-76845-033.ome.tif",
            "outputFile": "WD-76845-033.zip.ome.tif",
            "tileString": [
             "-8",
             "-t",
             "-w",
             "256",
             "-l",
             "256",
             "-L"
            ]
           },
           37.59068991632663,
           22.566965547027014
          ],
          [
           "5eea5e8e07b8d638b9e00729",
           "WD-76845-085.ome.tif",
           11384583763,
           440.0287048816681,
           4650921526,
           null,
           "zip",
           40.85280255142517,
           null,
           [
            "-8",
            "-t",
            "-w",
            "256",
            "-l",
            "256",
            "-L"
           ],
           "/nvmen1Scratch/origData/htan-tnp-sardana-hms-prerelease-phase-1-data/recompressed/WD-76845-085.zip.ome.tif",
           {
            "compressionMethod": "zip",
            "filename": "WD-76845-085.ome.tif",
            "fullFilePath": "/s3FuseMounts/dgutman-htan-s3-synapse/htan-tnp-sardana-hms-prerelease-phase-1-data/WD-76845-085.ome.tif",
            "outputFile": "WD-76845-085.zip.ome.tif",
            "tileString": [
             "-8",
             "-t",
             "-w",
             "256",
             "-l",
             "256",
             "-L"
            ]
           },
           40.85280255142517,
           25.87236613588999
          ],
          [
           "5eea6f7528bc84a252e0072a",
           "WD-76845-038.ome.tif",
           12079800259,
           536.2734694480896,
           4692569952,
           null,
           "zip",
           38.846420068111826,
           null,
           [
            "-8",
            "-t",
            "-w",
            "256",
            "-l",
            "256",
            "-L"
           ],
           "/nvmen1Scratch/origData/htan-tnp-sardana-hms-prerelease-phase-1-data/recompressed/WD-76845-038.zip.ome.tif",
           {
            "compressionMethod": "zip",
            "filename": "WD-76845-038.ome.tif",
            "fullFilePath": "/s3FuseMounts/dgutman-htan-s3-synapse/htan-tnp-sardana-hms-prerelease-phase-1-data/WD-76845-038.ome.tif",
            "outputFile": "WD-76845-038.zip.ome.tif",
            "tileString": [
             "-8",
             "-t",
             "-w",
             "256",
             "-l",
             "256",
             "-L"
            ]
           },
           38.846420068111826,
           22.52544820356679
          ]
         ],
         "fillcolor": "rgba(255,255,255,0)",
         "hoveron": "points",
         "hovertemplate": "compressionMethod=%{customdata[6]}<br>mbytesPerSec=%{customdata[13]}<br>_id=%{customdata[0]}<br>origFileName=%{customdata[1]}<br>origFileSize=%{customdata[2]}<br>executionTime=%{customdata[3]}<br>compressedFileSize=%{customdata[4]}<br>compressionOptions=%{customdata[5]}<br>compressionRate=%{customdata[7]}<br>outputFileName=%{customdata[8]}<br>tileInfo=%{customdata[9]}<br>outputFileNamewPath=%{customdata[10]}<br>origCompressionDict=%{customdata[11]}<br>compressionRatio=%{customdata[12]}<extra></extra>",
         "jitter": 0,
         "legendgroup": "zip",
         "line": {
          "color": "rgba(255,255,255,0)"
         },
         "marker": {
          "color": "#EF553B",
          "symbol": "line-ns-open"
         },
         "name": "zip",
         "offsetgroup": "zip",
         "showlegend": false,
         "type": "box",
         "x": [
          15.987362169035354,
          31.643992969661763,
          35.64230919660516,
          13.828222167074484,
          27.74826780846198,
          16.457458527550024,
          15.568144853960089,
          10.168252148234217,
          23.525540498586683,
          25.643290558485937,
          10.483680021549663,
          10.545120612596028,
          10.613388336162137,
          14.819684756331494,
          29.444782454768834,
          22.95951682469373,
          10.354852044593272,
          16.770657388256556,
          23.668537911253093,
          32.933490147114824,
          23.17412573777944,
          15.243013988872242,
          14.3206489399868,
          9.75234023681209,
          9.813289214401403,
          19.38377071333008,
          22.566965547027014,
          25.87236613588999,
          22.52544820356679
         ],
         "xaxis": "x2",
         "yaxis": "y2"
        },
        {
         "alignmentgroup": "True",
         "bingroup": "x",
         "hovertemplate": "compressionMethod=zip:2<br>mbytesPerSec=%{x}<br>count=%{y}<extra></extra>",
         "legendgroup": "zip:2",
         "marker": {
          "color": "#00cc96",
          "opacity": 0.8
         },
         "name": "zip:2",
         "nbinsx": 25,
         "offsetgroup": "zip:2",
         "orientation": "v",
         "showlegend": true,
         "type": "histogram",
         "x": [
          29.75241318061371,
          33.55760479048339,
          15.395585741094076,
          15.53546887908482,
          16.83950377439059,
          15.041447395992432,
          13.529136095912605,
          14.198593497997965,
          14.870562064364384,
          20.93539898435665,
          10.473403939726337,
          10.275602650111088,
          10.680531181804964,
          10.669195936240621,
          22.94647761839301,
          22.96716221419569,
          16.280165117430254,
          33.14621393188132,
          15.59747533008898,
          18.046956477919693,
          19.758483343101396,
          11.749519510272426,
          11.471483967099775,
          20.717114925480587,
          17.747317726013506,
          10.723531188270355,
          20.940336131020427,
          10.548104712684601,
          19.715053103116944,
          11.283593795735596,
          11.083414368577957,
          20.980644723580262,
          10.851678473446762,
          18.729042470818364,
          18.823953763863596,
          11.853974320896707,
          11.372796991331015,
          11.30948972924091,
          11.209308971971575
         ],
         "xaxis": "x",
         "yaxis": "y"
        },
        {
         "alignmentgroup": "True",
         "boxpoints": "all",
         "customdata": [
          [
           "5ee91669557b784b56fd998f",
           "WD-76845-006.ome.tif",
           11834429731,
           397.7636926174164,
           3728378900,
           null,
           "zip:2",
           31.504508326527997,
           null,
           [
            "-8",
            "-t",
            "-w",
            "256",
            "-l",
            "256",
            "-L"
           ],
           "/nvmen1Scratch/origData/htan-tnp-sardana-hms-prerelease-phase-1-data/recompressed/WD-76845-006.zip:2.ome.tif",
           {
            "compressionMethod": "zip:2",
            "filename": "WD-76845-006.ome.tif",
            "fullFilePath": "/nvmen1Scratch/origData/htan-tnp-sardana-hms-prerelease-phase-1-data/WD-76845-006.ome.tif",
            "outputFile": "WD-76845-006.zip:2.ome.tif",
            "tileString": [
             "-8",
             "-t",
             "-w",
             "256",
             "-l",
             "256",
             "-L"
            ]
           },
           31.504508326527997,
           29.75241318061371
          ],
          [
           "5ee91a15557b784b56fd9992",
           "WD-76845-001.ome.tif",
           13048699267,
           388.8447744846344,
           3777805572,
           null,
           "zip:2",
           28.951587393496176,
           null,
           [
            "-8",
            "-t",
            "-w",
            "256",
            "-l",
            "256",
            "-L"
           ],
           "/nvmen1Scratch/origData/htan-tnp-sardana-hms-prerelease-phase-1-data/recompressed/WD-76845-001.zip:2.ome.tif",
           {
            "compressionMethod": "zip:2",
            "filename": "WD-76845-001.ome.tif",
            "fullFilePath": "/nvmen1Scratch/origData/htan-tnp-sardana-hms-prerelease-phase-1-data/WD-76845-001.ome.tif",
            "outputFile": "WD-76845-001.zip:2.ome.tif",
            "tileString": [
             "-8",
             "-t",
             "-w",
             "256",
             "-l",
             "256",
             "-L"
            ]
           },
           28.951587393496176,
           33.55760479048339
          ],
          [
           "5ee92a003665612659fd998e",
           "WD-76845-007.ome.tif",
           86067983704,
           5590.432553291321,
           43006730018,
           null,
           "zip:2",
           49.96832523218651,
           null,
           [
            "-8",
            "-t",
            "-w",
            "256",
            "-l",
            "256",
            "-L"
           ],
           "/nvmen1Scratch/origData/htan-tnp-sardana-hms-prerelease-phase-1-data/recompressed/WD-76845-007.zip:2.ome.tif",
           {
            "compressionMethod": "zip:2",
            "filename": "WD-76845-007.ome.tif",
            "fullFilePath": "/nvmen1Scratch/origData/htan-tnp-sardana-hms-prerelease-phase-1-data/WD-76845-007.ome.tif",
            "outputFile": "WD-76845-007.zip:2.ome.tif",
            "tileString": [
             "-8",
             "-t",
             "-w",
             "256",
             "-l",
             "256",
             "-L"
            ]
           },
           49.96832523218651,
           15.395585741094076
          ],
          [
           "5ee92bef715184fcc2fd998e",
           "WD-76845-002.ome.tif",
           94540542424,
           6085.464375734329,
           46342524968,
           null,
           "zip:2",
           49.01867894956727,
           null,
           [
            "-8",
            "-t",
            "-w",
            "256",
            "-l",
            "256",
            "-L"
           ],
           "/nvmen1Scratch/origData/htan-tnp-sardana-hms-prerelease-phase-1-data/recompressed/WD-76845-002.zip:2.ome.tif",
           {
            "compressionMethod": "zip:2",
            "filename": "WD-76845-002.ome.tif",
            "fullFilePath": "/nvmen1Scratch/origData/htan-tnp-sardana-hms-prerelease-phase-1-data/WD-76845-002.ome.tif",
            "outputFile": "WD-76845-002.zip:2.ome.tif",
            "tileString": [
             "-8",
             "-t",
             "-w",
             "256",
             "-l",
             "256",
             "-L"
            ]
           },
           49.01867894956727,
           15.53546887908482
          ],
          [
           "5ee949e04e7ed2ebe2eadea9",
           "WD-76845-002.ome.tif",
           94540542424,
           5614.211896657944,
           46342524968,
           null,
           "zip:2",
           49.01867894956727,
           null,
           [
            "-8",
            "-t",
            "-w",
            "256",
            "-l",
            "256",
            "-L"
           ],
           "/nvmen1Scratch/origData/htan-tnp-sardana-hms-prerelease-phase-1-data/recompressed/WD-76845-002.zip:2.ome.tif",
           {
            "compressionMethod": "zip:2",
            "filename": "WD-76845-002.ome.tif",
            "fullFilePath": "/s3FuseMounts/dgutman-htan-s3-synapse/htan-tnp-sardana-hms-prerelease-phase-1-data/WD-76845-002.ome.tif",
            "outputFile": "WD-76845-002.zip:2.ome.tif",
            "tileString": [
             "-8",
             "-t",
             "-w",
             "256",
             "-l",
             "256",
             "-L"
            ]
           },
           49.01867894956727,
           16.83950377439059
          ],
          [
           "5ee94a4c84b2483271eadea9",
           "WD-76845-007.ome.tif",
           86067983704,
           5722.054629325867,
           43006730018,
           null,
           "zip:2",
           49.96832523218651,
           null,
           [
            "-8",
            "-t",
            "-w",
            "256",
            "-l",
            "256",
            "-L"
           ],
           "/nvmen1Scratch/origData/htan-tnp-sardana-hms-prerelease-phase-1-data/recompressed/WD-76845-007.zip:2.ome.tif",
           {
            "compressionMethod": "zip:2",
            "filename": "WD-76845-007.ome.tif",
            "fullFilePath": "/s3FuseMounts/dgutman-htan-s3-synapse/htan-tnp-sardana-hms-prerelease-phase-1-data/WD-76845-007.ome.tif",
            "outputFile": "WD-76845-007.zip:2.ome.tif",
            "tileString": [
             "-8",
             "-t",
             "-w",
             "256",
             "-l",
             "256",
             "-L"
            ]
           },
           49.96832523218651,
           15.041447395992432
          ],
          [
           "5ee955db492ea78385038554",
           "WD-76845-105.ome.tif",
           10327603048,
           763.3601269721985,
           3689431494,
           null,
           "zip:2",
           35.72398626140535,
           null,
           [
            "-8",
            "-t",
            "-w",
            "256",
            "-l",
            "256",
            "-L"
           ],
           "/nvmen1Scratch/origData/htan-tnp-sardana-hms-prerelease-phase-1-data/recompressed/WD-76845-105.zip:2.ome.tif",
           {
            "compressionMethod": "zip:2",
            "filename": "WD-76845-105.ome.tif",
            "fullFilePath": "/s3FuseMounts/dgutman-htan-s3-synapse/htan-tnp-sardana-hms-prerelease-phase-1-data/WD-76845-105.ome.tif",
            "outputFile": "WD-76845-105.zip:2.ome.tif",
            "tileString": [
             "-8",
             "-t",
             "-w",
             "256",
             "-l",
             "256",
             "-L"
            ]
           },
           35.72398626140535,
           13.529136095912605
          ],
          [
           "5ee955f61a4aa37fe2038554",
           "WD-76845-101.ome.tif",
           11221003432,
           790.2897870540619,
           3722555056,
           null,
           "zip:2",
           33.17488563798168,
           null,
           [
            "-8",
            "-t",
            "-w",
            "256",
            "-l",
            "256",
            "-L"
           ],
           "/nvmen1Scratch/origData/htan-tnp-sardana-hms-prerelease-phase-1-data/recompressed/WD-76845-101.zip:2.ome.tif",
           {
            "compressionMethod": "zip:2",
            "filename": "WD-76845-101.ome.tif",
            "fullFilePath": "/s3FuseMounts/dgutman-htan-s3-synapse/htan-tnp-sardana-hms-prerelease-phase-1-data/WD-76845-101.ome.tif",
            "outputFile": "WD-76845-101.zip:2.ome.tif",
            "tileString": [
             "-8",
             "-t",
             "-w",
             "256",
             "-l",
             "256",
             "-L"
            ]
           },
           33.17488563798168,
           14.198593497997965
          ],
          [
           "5ee9560c07c5288327038554",
           "WD-76845-048.ome.tif",
           12067217155,
           811.483594417572,
           3976615856,
           null,
           "zip:2",
           32.95387664712992,
           null,
           [
            "-8",
            "-t",
            "-w",
            "256",
            "-l",
            "256",
            "-L"
           ],
           "/nvmen1Scratch/origData/htan-tnp-sardana-hms-prerelease-phase-1-data/recompressed/WD-76845-048.zip:2.ome.tif",
           {
            "compressionMethod": "zip:2",
            "filename": "WD-76845-048.ome.tif",
            "fullFilePath": "/s3FuseMounts/dgutman-htan-s3-synapse/htan-tnp-sardana-hms-prerelease-phase-1-data/WD-76845-048.ome.tif",
            "outputFile": "WD-76845-048.zip:2.ome.tif",
            "tileString": [
             "-8",
             "-t",
             "-w",
             "256",
             "-l",
             "256",
             "-L"
            ]
           },
           32.95387664712992,
           14.870562064364384
          ],
          [
           "5ee95a141a4aa37fe2038556",
           "WD-76845-024.ome.tif",
           11834429731,
           565.2832190990448,
           3972159554,
           null,
           "zip:2",
           33.56443567022943,
           null,
           [
            "-8",
            "-t",
            "-w",
            "256",
            "-l",
            "256",
            "-L"
           ],
           "/nvmen1Scratch/origData/htan-tnp-sardana-hms-prerelease-phase-1-data/recompressed/WD-76845-024.zip:2.ome.tif",
           {
            "compressionMethod": "zip:2",
            "filename": "WD-76845-024.ome.tif",
            "fullFilePath": "/s3FuseMounts/dgutman-htan-s3-synapse/htan-tnp-sardana-hms-prerelease-phase-1-data/WD-76845-024.ome.tif",
            "outputFile": "WD-76845-024.zip:2.ome.tif",
            "tileString": [
             "-8",
             "-t",
             "-w",
             "256",
             "-l",
             "256",
             "-L"
            ]
           },
           33.56443567022943,
           20.93539898435665
          ],
          [
           "5ee96fe107c5a13130038554",
           "WD-76845-014.ome.tif",
           77763198424,
           7424.825670003891,
           38302814796,
           null,
           "zip:2",
           49.255709091536836,
           null,
           [
            "-8",
            "-t",
            "-w",
            "256",
            "-l",
            "256",
            "-L"
           ],
           "/nvmen1Scratch/origData/htan-tnp-sardana-hms-prerelease-phase-1-data/recompressed/WD-76845-014.zip:2.ome.tif",
           {
            "compressionMethod": "zip:2",
            "filename": "WD-76845-014.ome.tif",
            "fullFilePath": "/s3FuseMounts/dgutman-htan-s3-synapse/htan-tnp-sardana-hms-prerelease-phase-1-data/WD-76845-014.ome.tif",
            "outputFile": "WD-76845-014.zip:2.ome.tif",
            "tileString": [
             "-8",
             "-t",
             "-w",
             "256",
             "-l",
             "256",
             "-L"
            ]
           },
           49.255709091536836,
           10.473403939726337
          ],
          [
           "5ee9739829adeff7e7038554",
           "WD-76845-059.ome.tif",
           86067983704,
           8375.954835414886,
           43147894010,
           null,
           "zip:2",
           50.13233975410848,
           null,
           [
            "-8",
            "-t",
            "-w",
            "256",
            "-l",
            "256",
            "-L"
           ],
           "/nvmen1Scratch/origData/htan-tnp-sardana-hms-prerelease-phase-1-data/recompressed/WD-76845-059.zip:2.ome.tif",
           {
            "compressionMethod": "zip:2",
            "filename": "WD-76845-059.ome.tif",
            "fullFilePath": "/s3FuseMounts/dgutman-htan-s3-synapse/htan-tnp-sardana-hms-prerelease-phase-1-data/WD-76845-059.ome.tif",
            "outputFile": "WD-76845-059.zip:2.ome.tif",
            "tileString": [
             "-8",
             "-t",
             "-w",
             "256",
             "-l",
             "256",
             "-L"
            ]
           },
           50.13233975410848,
           10.275602650111088
          ],
          [
           "5ee97556492ea78385038555",
           "WD-76845-039.ome.tif",
           86067983704,
           8058.399178743362,
           43385281020,
           null,
           "zip:2",
           50.40815312835506,
           null,
           [
            "-8",
            "-t",
            "-w",
            "256",
            "-l",
            "256",
            "-L"
           ],
           "/nvmen1Scratch/origData/htan-tnp-sardana-hms-prerelease-phase-1-data/recompressed/WD-76845-039.zip:2.ome.tif",
           {
            "compressionMethod": "zip:2",
            "filename": "WD-76845-039.ome.tif",
            "fullFilePath": "/s3FuseMounts/dgutman-htan-s3-synapse/htan-tnp-sardana-hms-prerelease-phase-1-data/WD-76845-039.ome.tif",
            "outputFile": "WD-76845-039.zip:2.ome.tif",
            "tileString": [
             "-8",
             "-t",
             "-w",
             "256",
             "-l",
             "256",
             "-L"
            ]
           },
           50.40815312835506,
           10.680531181804964
          ],
          [
           "5ee9764f9d5df40196038555",
           "WD-76845-020.ome.tif",
           89758999384,
           8412.91133093834,
           44313474856,
           null,
           "zip:2",
           49.36939489089169,
           null,
           [
            "-8",
            "-t",
            "-w",
            "256",
            "-l",
            "256",
            "-L"
           ],
           "/nvmen1Scratch/origData/htan-tnp-sardana-hms-prerelease-phase-1-data/recompressed/WD-76845-020.zip:2.ome.tif",
           {
            "compressionMethod": "zip:2",
            "filename": "WD-76845-020.ome.tif",
            "fullFilePath": "/s3FuseMounts/dgutman-htan-s3-synapse/htan-tnp-sardana-hms-prerelease-phase-1-data/WD-76845-020.ome.tif",
            "outputFile": "WD-76845-020.zip:2.ome.tif",
            "tileString": [
             "-8",
             "-t",
             "-w",
             "256",
             "-l",
             "256",
             "-L"
            ]
           },
           49.36939489089169,
           10.669195936240621
          ],
          [
           "5ee97de807c5a13130038558",
           "WD-76845-033.ome.tif",
           12715247011,
           554.1263117790222,
           3999014232,
           null,
           "zip:2",
           31.450543025553813,
           null,
           [
            "-8",
            "-t",
            "-w",
            "256",
            "-l",
            "256",
            "-L"
           ],
           "/nvmen1Scratch/origData/htan-tnp-sardana-hms-prerelease-phase-1-data/recompressed/WD-76845-033.zip:2.ome.tif",
           {
            "compressionMethod": "zip:2",
            "filename": "WD-76845-033.ome.tif",
            "fullFilePath": "/s3FuseMounts/dgutman-htan-s3-synapse/htan-tnp-sardana-hms-prerelease-phase-1-data/WD-76845-033.ome.tif",
            "outputFile": "WD-76845-033.zip:2.ome.tif",
            "tileString": [
             "-8",
             "-t",
             "-w",
             "256",
             "-l",
             "256",
             "-L"
            ]
           },
           31.450543025553813,
           22.94647761839301
          ],
          [
           "5ee9806329adeff7e7038556",
           "WD-76845-096.ome.tif",
           11384583763,
           495.68961358070374,
           3851234692,
           null,
           "zip:2",
           33.82850679632704,
           null,
           [
            "-8",
            "-t",
            "-w",
            "256",
            "-l",
            "256",
            "-L"
           ],
           "/nvmen1Scratch/origData/htan-tnp-sardana-hms-prerelease-phase-1-data/recompressed/WD-76845-096.zip:2.ome.tif",
           {
            "compressionMethod": "zip:2",
            "filename": "WD-76845-096.ome.tif",
            "fullFilePath": "/s3FuseMounts/dgutman-htan-s3-synapse/htan-tnp-sardana-hms-prerelease-phase-1-data/WD-76845-096.ome.tif",
            "outputFile": "WD-76845-096.zip:2.ome.tif",
            "tileString": [
             "-8",
             "-t",
             "-w",
             "256",
             "-l",
             "256",
             "-L"
            ]
           },
           33.82850679632704,
           22.96716221419569
          ],
          [
           "5ee987ae07c5288327038557",
           "WD-76845-078.ome.tif",
           74575503064,
           4580.758396863937,
           37525384952,
           null,
           "zip:2",
           50.318648095201,
           null,
           [
            "-8",
            "-t",
            "-w",
            "256",
            "-l",
            "256",
            "-L"
           ],
           "/nvmen1Scratch/origData/htan-tnp-sardana-hms-prerelease-phase-1-data/recompressed/WD-76845-078.zip:2.ome.tif",
           {
            "compressionMethod": "zip:2",
            "filename": "WD-76845-078.ome.tif",
            "fullFilePath": "/s3FuseMounts/dgutman-htan-s3-synapse/htan-tnp-sardana-hms-prerelease-phase-1-data/WD-76845-078.ome.tif",
            "outputFile": "WD-76845-078.zip:2.ome.tif",
            "tileString": [
             "-8",
             "-t",
             "-w",
             "256",
             "-l",
             "256",
             "-L"
            ]
           },
           50.318648095201,
           16.280165117430254
          ],
          [
           "5ee9890107c5288327038558",
           "WD-76845-058.ome.tif",
           11239878067,
           339.0999071598053,
           3864155754,
           null,
           "zip:2",
           34.37898285876485,
           null,
           [
            "-8",
            "-t",
            "-w",
            "256",
            "-l",
            "256",
            "-L"
           ],
           "/nvmen1Scratch/origData/htan-tnp-sardana-hms-prerelease-phase-1-data/recompressed/WD-76845-058.zip:2.ome.tif",
           {
            "compressionMethod": "zip:2",
            "filename": "WD-76845-058.ome.tif",
            "fullFilePath": "/s3FuseMounts/dgutman-htan-s3-synapse/htan-tnp-sardana-hms-prerelease-phase-1-data/WD-76845-058.ome.tif",
            "outputFile": "WD-76845-058.zip:2.ome.tif",
            "tileString": [
             "-8",
             "-t",
             "-w",
             "256",
             "-l",
             "256",
             "-L"
            ]
           },
           34.37898285876485,
           33.14621393188132
          ],
          [
           "5ee98e8c1a4aa37fe203855a",
           "WD-76845-029.ome.tif",
           79860366424,
           5120.082880973816,
           39680533438,
           null,
           "zip:2",
           49.68739215060128,
           null,
           [
            "-8",
            "-t",
            "-w",
            "256",
            "-l",
            "256",
            "-L"
           ],
           "/nvmen1Scratch/origData/htan-tnp-sardana-hms-prerelease-phase-1-data/recompressed/WD-76845-029.zip:2.ome.tif",
           {
            "compressionMethod": "zip:2",
            "filename": "WD-76845-029.ome.tif",
            "fullFilePath": "/s3FuseMounts/dgutman-htan-s3-synapse/htan-tnp-sardana-hms-prerelease-phase-1-data/WD-76845-029.ome.tif",
            "outputFile": "WD-76845-029.zip:2.ome.tif",
            "tileString": [
             "-8",
             "-t",
             "-w",
             "256",
             "-l",
             "256",
             "-L"
            ]
           },
           49.68739215060128,
           15.59747533008898
          ],
          [
           "5ee99420c8c1e225d3038557",
           "WD-76845-086.ome.tif",
           77763198424,
           4308.936995506287,
           38849121782,
           null,
           "zip:2",
           49.9582354755743,
           null,
           [
            "-8",
            "-t",
            "-w",
            "256",
            "-l",
            "256",
            "-L"
           ],
           "/nvmen1Scratch/origData/htan-tnp-sardana-hms-prerelease-phase-1-data/recompressed/WD-76845-086.zip:2.ome.tif",
           {
            "compressionMethod": "zip:2",
            "filename": "WD-76845-086.ome.tif",
            "fullFilePath": "/s3FuseMounts/dgutman-htan-s3-synapse/htan-tnp-sardana-hms-prerelease-phase-1-data/WD-76845-086.ome.tif",
            "outputFile": "WD-76845-086.zip:2.ome.tif",
            "tileString": [
             "-8",
             "-t",
             "-w",
             "256",
             "-l",
             "256",
             "-L"
            ]
           },
           49.9582354755743,
           18.046956477919693
          ],
          [
           "5eea0323b5f447f61e5fe9a4",
           "WD-76845-085.ome.tif",
           11384583763,
           576.1871275901794,
           3915863502,
           null,
           "zip:2",
           34.39619386636332,
           null,
           [
            "-8",
            "-t",
            "-w",
            "256",
            "-l",
            "256",
            "-L"
           ],
           "/nvmen1Scratch/origData/htan-tnp-sardana-hms-prerelease-phase-1-data/recompressed/WD-76845-085.zip:2.ome.tif",
           {
            "compressionMethod": "zip:2",
            "filename": "WD-76845-085.ome.tif",
            "fullFilePath": "/s3FuseMounts/dgutman-htan-s3-synapse/htan-tnp-sardana-hms-prerelease-phase-1-data/WD-76845-085.ome.tif",
            "outputFile": "WD-76845-085.zip:2.ome.tif",
            "tileString": [
             "-8",
             "-t",
             "-w",
             "256",
             "-l",
             "256",
             "-L"
            ]
           },
           34.39619386636332,
           19.758483343101396
          ],
          [
           "5eea1915049ce574635fe9a4",
           "WD-76845-084.ome.tif",
           74575503064,
           6347.110875368118,
           37617116838,
           null,
           "zip:2",
           50.44165348199843,
           null,
           [
            "-8",
            "-t",
            "-w",
            "256",
            "-l",
            "256",
            "-L"
           ],
           "/nvmen1Scratch/origData/htan-tnp-sardana-hms-prerelease-phase-1-data/recompressed/WD-76845-084.zip:2.ome.tif",
           {
            "compressionMethod": "zip:2",
            "filename": "WD-76845-084.ome.tif",
            "fullFilePath": "/s3FuseMounts/dgutman-htan-s3-synapse/htan-tnp-sardana-hms-prerelease-phase-1-data/WD-76845-084.ome.tif",
            "outputFile": "WD-76845-084.zip:2.ome.tif",
            "tileString": [
             "-8",
             "-t",
             "-w",
             "256",
             "-l",
             "256",
             "-L"
            ]
           },
           50.44165348199843,
           11.749519510272426
          ],
          [
           "5eea1b26c617b77de35fe9a4",
           "WD-76845-091.ome.tif",
           77763198424,
           6778.826405286789,
           38243643084,
           null,
           "zip:2",
           49.179616912718046,
           null,
           [
            "-8",
            "-t",
            "-w",
            "256",
            "-l",
            "256",
            "-L"
           ],
           "/nvmen1Scratch/origData/htan-tnp-sardana-hms-prerelease-phase-1-data/recompressed/WD-76845-091.zip:2.ome.tif",
           {
            "compressionMethod": "zip:2",
            "filename": "WD-76845-091.ome.tif",
            "fullFilePath": "/s3FuseMounts/dgutman-htan-s3-synapse/htan-tnp-sardana-hms-prerelease-phase-1-data/WD-76845-091.ome.tif",
            "outputFile": "WD-76845-091.zip:2.ome.tif",
            "tileString": [
             "-8",
             "-t",
             "-w",
             "256",
             "-l",
             "256",
             "-L"
            ]
           },
           49.179616912718046,
           11.471483967099775
          ],
          [
           "5eea1b7c049ce574635fe9a5",
           "WD-76845-013.ome.tif",
           12727830115,
           614.36305975914,
           3884386058,
           null,
           "zip:2",
           30.51883960504921,
           null,
           [
            "-8",
            "-t",
            "-w",
            "256",
            "-l",
            "256",
            "-L"
           ],
           "/nvmen1Scratch/origData/htan-tnp-sardana-hms-prerelease-phase-1-data/recompressed/WD-76845-013.zip:2.ome.tif",
           {
            "compressionMethod": "zip:2",
            "filename": "WD-76845-013.ome.tif",
            "fullFilePath": "/s3FuseMounts/dgutman-htan-s3-synapse/htan-tnp-sardana-hms-prerelease-phase-1-data/WD-76845-013.ome.tif",
            "outputFile": "WD-76845-013.zip:2.ome.tif",
            "tileString": [
             "-8",
             "-t",
             "-w",
             "256",
             "-l",
             "256",
             "-L"
            ]
           },
           30.51883960504921,
           20.717114925480587
          ],
          [
           "5eea1dd5049ce574635fe9a6",
           "WD-76845-090.ome.tif",
           10657909507,
           600.5363554954529,
           3714891402,
           null,
           "zip:2",
           34.85572287473542,
           null,
           [
            "-8",
            "-t",
            "-w",
            "256",
            "-l",
            "256",
            "-L"
           ],
           "/nvmen1Scratch/origData/htan-tnp-sardana-hms-prerelease-phase-1-data/recompressed/WD-76845-090.zip:2.ome.tif",
           {
            "compressionMethod": "zip:2",
            "filename": "WD-76845-090.ome.tif",
            "fullFilePath": "/s3FuseMounts/dgutman-htan-s3-synapse/htan-tnp-sardana-hms-prerelease-phase-1-data/WD-76845-090.ome.tif",
            "outputFile": "WD-76845-090.zip:2.ome.tif",
            "tileString": [
             "-8",
             "-t",
             "-w",
             "256",
             "-l",
             "256",
             "-L"
            ]
           },
           34.85572287473542,
           17.747317726013506
          ],
          [
           "5eea1e6cc100c647d85fe9a3",
           "WD-76845-050.ome.tif",
           86067983704,
           8026.086015224457,
           43236588388,
           null,
           "zip:2",
           50.235391288701216,
           null,
           [
            "-8",
            "-t",
            "-w",
            "256",
            "-l",
            "256",
            "-L"
           ],
           "/nvmen1Scratch/origData/htan-tnp-sardana-hms-prerelease-phase-1-data/recompressed/WD-76845-050.zip:2.ome.tif",
           {
            "compressionMethod": "zip:2",
            "filename": "WD-76845-050.ome.tif",
            "fullFilePath": "/s3FuseMounts/dgutman-htan-s3-synapse/htan-tnp-sardana-hms-prerelease-phase-1-data/WD-76845-050.ome.tif",
            "outputFile": "WD-76845-050.zip:2.ome.tif",
            "tileString": [
             "-8",
             "-t",
             "-w",
             "256",
             "-l",
             "256",
             "-L"
            ]
           },
           50.235391288701216,
           10.723531188270355
          ],
          [
           "5eea1fa9049ce574635fe9a7",
           "WD-76845-073.ome.tif",
           9808549987,
           468.4046103954315,
           3420732888,
           null,
           "zip:2",
           34.8750110111459,
           null,
           [
            "-8",
            "-t",
            "-w",
            "256",
            "-l",
            "256",
            "-L"
           ],
           "/nvmen1Scratch/origData/htan-tnp-sardana-hms-prerelease-phase-1-data/recompressed/WD-76845-073.zip:2.ome.tif",
           {
            "compressionMethod": "zip:2",
            "filename": "WD-76845-073.ome.tif",
            "fullFilePath": "/s3FuseMounts/dgutman-htan-s3-synapse/htan-tnp-sardana-hms-prerelease-phase-1-data/WD-76845-073.ome.tif",
            "outputFile": "WD-76845-073.zip:2.ome.tif",
            "tileString": [
             "-8",
             "-t",
             "-w",
             "256",
             "-l",
             "256",
             "-L"
            ]
           },
           34.8750110111459,
           20.940336131020427
          ],
          [
           "5eea2d9c5b022b5ffc5fe9a4",
           "WD-76845-044.ome.tif",
           82209194584,
           7793.740849494934,
           41462741978,
           null,
           "zip:2",
           50.435650401165354,
           null,
           [
            "-8",
            "-t",
            "-w",
            "256",
            "-l",
            "256",
            "-L"
           ],
           "/nvmen1Scratch/origData/htan-tnp-sardana-hms-prerelease-phase-1-data/recompressed/WD-76845-044.zip:2.ome.tif",
           {
            "compressionMethod": "zip:2",
            "filename": "WD-76845-044.ome.tif",
            "fullFilePath": "/s3FuseMounts/dgutman-htan-s3-synapse/htan-tnp-sardana-hms-prerelease-phase-1-data/WD-76845-044.ome.tif",
            "outputFile": "WD-76845-044.zip:2.ome.tif",
            "tileString": [
             "-8",
             "-t",
             "-w",
             "256",
             "-l",
             "256",
             "-L"
            ]
           },
           50.435650401165354,
           10.548104712684601
          ],
          [
           "5eea3595692e2980bb5fe9ac",
           "WD-76845-053.ome.tif",
           11239878067,
           570.1165504455566,
           3942772688,
           null,
           "zip:2",
           35.07842936104335,
           null,
           [
            "-8",
            "-t",
            "-w",
            "256",
            "-l",
            "256",
            "-L"
           ],
           "/nvmen1Scratch/origData/htan-tnp-sardana-hms-prerelease-phase-1-data/recompressed/WD-76845-053.zip:2.ome.tif",
           {
            "compressionMethod": "zip:2",
            "filename": "WD-76845-053.ome.tif",
            "fullFilePath": "/s3FuseMounts/dgutman-htan-s3-synapse/htan-tnp-sardana-hms-prerelease-phase-1-data/WD-76845-053.ome.tif",
            "outputFile": "WD-76845-053.zip:2.ome.tif",
            "tileString": [
             "-8",
             "-t",
             "-w",
             "256",
             "-l",
             "256",
             "-L"
            ]
           },
           35.07842936104335,
           19.715053103116944
          ],
          [
           "5eea35fe7a359007b45fe9a6",
           "WD-76845-074.ome.tif",
           74575503064,
           6609.197779893875,
           37786805400,
           null,
           "zip:2",
           50.66919276102196,
           null,
           [
            "-8",
            "-t",
            "-w",
            "256",
            "-l",
            "256",
            "-L"
           ],
           "/nvmen1Scratch/origData/htan-tnp-sardana-hms-prerelease-phase-1-data/recompressed/WD-76845-074.zip:2.ome.tif",
           {
            "compressionMethod": "zip:2",
            "filename": "WD-76845-074.ome.tif",
            "fullFilePath": "/s3FuseMounts/dgutman-htan-s3-synapse/htan-tnp-sardana-hms-prerelease-phase-1-data/WD-76845-074.ome.tif",
            "outputFile": "WD-76845-074.zip:2.ome.tif",
            "tileString": [
             "-8",
             "-t",
             "-w",
             "256",
             "-l",
             "256",
             "-L"
            ]
           },
           50.66919276102196,
           11.283593795735596
          ],
          [
           "5eea38febb2b0550615fe9a6",
           "WD-76845-051.ome.tif",
           82209194584,
           7417.316708564758,
           42785432098,
           null,
           "zip:2",
           52.04458250017587,
           null,
           [
            "-8",
            "-t",
            "-w",
            "256",
            "-l",
            "256",
            "-L"
           ],
           "/nvmen1Scratch/origData/htan-tnp-sardana-hms-prerelease-phase-1-data/recompressed/WD-76845-051.zip:2.ome.tif",
           {
            "compressionMethod": "zip:2",
            "filename": "WD-76845-051.ome.tif",
            "fullFilePath": "/s3FuseMounts/dgutman-htan-s3-synapse/htan-tnp-sardana-hms-prerelease-phase-1-data/WD-76845-051.ome.tif",
            "outputFile": "WD-76845-051.zip:2.ome.tif",
            "tileString": [
             "-8",
             "-t",
             "-w",
             "256",
             "-l",
             "256",
             "-L"
            ]
           },
           52.04458250017587,
           11.083414368577957
          ],
          [
           "5eea51c728bc84a252e00728",
           "WD-76845-038.ome.tif",
           12079800259,
           575.7592494487762,
           3965062508,
           null,
           "zip:2",
           32.823907870876,
           null,
           [
            "-8",
            "-t",
            "-w",
            "256",
            "-l",
            "256",
            "-L"
           ],
           "/nvmen1Scratch/origData/htan-tnp-sardana-hms-prerelease-phase-1-data/recompressed/WD-76845-038.zip:2.ome.tif",
           {
            "compressionMethod": "zip:2",
            "filename": "WD-76845-038.ome.tif",
            "fullFilePath": "/s3FuseMounts/dgutman-htan-s3-synapse/htan-tnp-sardana-hms-prerelease-phase-1-data/WD-76845-038.ome.tif",
            "outputFile": "WD-76845-038.zip:2.ome.tif",
            "tileString": [
             "-8",
             "-t",
             "-w",
             "256",
             "-l",
             "256",
             "-L"
            ]
           },
           32.823907870876,
           20.980644723580262
          ],
          [
           "5eea5aa107b8d638b9e00727",
           "WD-76845-106.ome.tif",
           74575503064,
           6872.255130529404,
           37361993422,
           null,
           "zip:2",
           50.09955265060202,
           null,
           [
            "-8",
            "-t",
            "-w",
            "256",
            "-l",
            "256",
            "-L"
           ],
           "/nvmen1Scratch/origData/htan-tnp-sardana-hms-prerelease-phase-1-data/recompressed/WD-76845-106.zip:2.ome.tif",
           {
            "compressionMethod": "zip:2",
            "filename": "WD-76845-106.ome.tif",
            "fullFilePath": "/s3FuseMounts/dgutman-htan-s3-synapse/htan-tnp-sardana-hms-prerelease-phase-1-data/WD-76845-106.ome.tif",
            "outputFile": "WD-76845-106.zip:2.ome.tif",
            "tileString": [
             "-8",
             "-t",
             "-w",
             "256",
             "-l",
             "256",
             "-L"
            ]
           },
           50.09955265060202,
           10.851678473446762
          ],
          [
           "5eea5cc28d45a18a18e00727",
           "WD-76845-001.ome.tif",
           13048699267,
           696.7093639373779,
           3777805572,
           null,
           "zip:2",
           28.951587393496176,
           null,
           [
            "-8",
            "-t",
            "-w",
            "256",
            "-l",
            "256",
            "-L"
           ],
           "/nvmen1Scratch/origData/htan-tnp-sardana-hms-prerelease-phase-1-data/recompressed/WD-76845-001.zip:2.ome.tif",
           {
            "compressionMethod": "zip:2",
            "filename": "WD-76845-001.ome.tif",
            "fullFilePath": "/s3FuseMounts/dgutman-htan-s3-synapse/htan-tnp-sardana-hms-prerelease-phase-1-data/WD-76845-001.ome.tif",
            "outputFile": "WD-76845-001.zip:2.ome.tif",
            "tileString": [
             "-8",
             "-t",
             "-w",
             "256",
             "-l",
             "256",
             "-L"
            ]
           },
           28.951587393496176,
           18.729042470818364
          ],
          [
           "5eea5ce6c437a94ce9e00726",
           "WD-76845-019.ome.tif",
           13674708691,
           726.452522277832,
           4023233458,
           null,
           "zip:2",
           29.420981089329445,
           null,
           [
            "-8",
            "-t",
            "-w",
            "256",
            "-l",
            "256",
            "-L"
           ],
           "/nvmen1Scratch/origData/htan-tnp-sardana-hms-prerelease-phase-1-data/recompressed/WD-76845-019.zip:2.ome.tif",
           {
            "compressionMethod": "zip:2",
            "filename": "WD-76845-019.ome.tif",
            "fullFilePath": "/s3FuseMounts/dgutman-htan-s3-synapse/htan-tnp-sardana-hms-prerelease-phase-1-data/WD-76845-019.ome.tif",
            "outputFile": "WD-76845-019.zip:2.ome.tif",
            "tileString": [
             "-8",
             "-t",
             "-w",
             "256",
             "-l",
             "256",
             "-L"
            ]
           },
           29.420981089329445,
           18.823953763863596
          ],
          [
           "5eea643bf57863fbe4e00726",
           "WD-76845-069.ome.tif",
           74575503064,
           6291.181425333023,
           37000441922,
           null,
           "zip:2",
           49.61473996393503,
           null,
           [
            "-8",
            "-t",
            "-w",
            "256",
            "-l",
            "256",
            "-L"
           ],
           "/nvmen1Scratch/origData/htan-tnp-sardana-hms-prerelease-phase-1-data/recompressed/WD-76845-069.zip:2.ome.tif",
           {
            "compressionMethod": "zip:2",
            "filename": "WD-76845-069.ome.tif",
            "fullFilePath": "/s3FuseMounts/dgutman-htan-s3-synapse/htan-tnp-sardana-hms-prerelease-phase-1-data/WD-76845-069.ome.tif",
            "outputFile": "WD-76845-069.zip:2.ome.tif",
            "tileString": [
             "-8",
             "-t",
             "-w",
             "256",
             "-l",
             "256",
             "-L"
            ]
           },
           49.61473996393503,
           11.853974320896707
          ],
          [
           "5eea6b2b87f2d71db8e00727",
           "WD-76845-052.ome.tif",
           86067983704,
           7567.881829738617,
           43549084954,
           null,
           "zip:2",
           50.598472370134154,
           null,
           [
            "-8",
            "-t",
            "-w",
            "256",
            "-l",
            "256",
            "-L"
           ],
           "/nvmen1Scratch/origData/htan-tnp-sardana-hms-prerelease-phase-1-data/recompressed/WD-76845-052.zip:2.ome.tif",
           {
            "compressionMethod": "zip:2",
            "filename": "WD-76845-052.ome.tif",
            "fullFilePath": "/s3FuseMounts/dgutman-htan-s3-synapse/htan-tnp-sardana-hms-prerelease-phase-1-data/WD-76845-052.ome.tif",
            "outputFile": "WD-76845-052.zip:2.ome.tif",
            "tileString": [
             "-8",
             "-t",
             "-w",
             "256",
             "-l",
             "256",
             "-L"
            ]
           },
           50.598472370134154,
           11.372796991331015
          ],
          [
           "5eea6d5c28bc84a252e00729",
           "WD-76845-064.ome.tif",
           79860366424,
           7061.358941555023,
           40234489692,
           null,
           "zip:2",
           50.38104818901575,
           null,
           [
            "-8",
            "-t",
            "-w",
            "256",
            "-l",
            "256",
            "-L"
           ],
           "/nvmen1Scratch/origData/htan-tnp-sardana-hms-prerelease-phase-1-data/recompressed/WD-76845-064.zip:2.ome.tif",
           {
            "compressionMethod": "zip:2",
            "filename": "WD-76845-064.ome.tif",
            "fullFilePath": "/s3FuseMounts/dgutman-htan-s3-synapse/htan-tnp-sardana-hms-prerelease-phase-1-data/WD-76845-064.ome.tif",
            "outputFile": "WD-76845-064.zip:2.ome.tif",
            "tileString": [
             "-8",
             "-t",
             "-w",
             "256",
             "-l",
             "256",
             "-L"
            ]
           },
           50.38104818901575,
           11.30948972924091
          ],
          [
           "5eea7975485aac8111e00726",
           "WD-76845-034.ome.tif",
           88249038424,
           7872.834859371185,
           45162064692,
           null,
           "zip:2",
           51.17570173967791,
           null,
           [
            "-8",
            "-t",
            "-w",
            "256",
            "-l",
            "256",
            "-L"
           ],
           "/nvmen1Scratch/origData/htan-tnp-sardana-hms-prerelease-phase-1-data/recompressed/WD-76845-034.zip:2.ome.tif",
           {
            "compressionMethod": "zip:2",
            "filename": "WD-76845-034.ome.tif",
            "fullFilePath": "/s3FuseMounts/dgutman-htan-s3-synapse/htan-tnp-sardana-hms-prerelease-phase-1-data/WD-76845-034.ome.tif",
            "outputFile": "WD-76845-034.zip:2.ome.tif",
            "tileString": [
             "-8",
             "-t",
             "-w",
             "256",
             "-l",
             "256",
             "-L"
            ]
           },
           51.17570173967791,
           11.209308971971575
          ]
         ],
         "fillcolor": "rgba(255,255,255,0)",
         "hoveron": "points",
         "hovertemplate": "compressionMethod=%{customdata[6]}<br>mbytesPerSec=%{customdata[13]}<br>_id=%{customdata[0]}<br>origFileName=%{customdata[1]}<br>origFileSize=%{customdata[2]}<br>executionTime=%{customdata[3]}<br>compressedFileSize=%{customdata[4]}<br>compressionOptions=%{customdata[5]}<br>compressionRate=%{customdata[7]}<br>outputFileName=%{customdata[8]}<br>tileInfo=%{customdata[9]}<br>outputFileNamewPath=%{customdata[10]}<br>origCompressionDict=%{customdata[11]}<br>compressionRatio=%{customdata[12]}<extra></extra>",
         "jitter": 0,
         "legendgroup": "zip:2",
         "line": {
          "color": "rgba(255,255,255,0)"
         },
         "marker": {
          "color": "#00cc96",
          "symbol": "line-ns-open"
         },
         "name": "zip:2",
         "offsetgroup": "zip:2",
         "showlegend": false,
         "type": "box",
         "x": [
          29.75241318061371,
          33.55760479048339,
          15.395585741094076,
          15.53546887908482,
          16.83950377439059,
          15.041447395992432,
          13.529136095912605,
          14.198593497997965,
          14.870562064364384,
          20.93539898435665,
          10.473403939726337,
          10.275602650111088,
          10.680531181804964,
          10.669195936240621,
          22.94647761839301,
          22.96716221419569,
          16.280165117430254,
          33.14621393188132,
          15.59747533008898,
          18.046956477919693,
          19.758483343101396,
          11.749519510272426,
          11.471483967099775,
          20.717114925480587,
          17.747317726013506,
          10.723531188270355,
          20.940336131020427,
          10.548104712684601,
          19.715053103116944,
          11.283593795735596,
          11.083414368577957,
          20.980644723580262,
          10.851678473446762,
          18.729042470818364,
          18.823953763863596,
          11.853974320896707,
          11.372796991331015,
          11.30948972924091,
          11.209308971971575
         ],
         "xaxis": "x2",
         "yaxis": "y2"
        },
        {
         "alignmentgroup": "True",
         "bingroup": "x",
         "hovertemplate": "compressionMethod=lzma<br>mbytesPerSec=%{x}<br>count=%{y}<extra></extra>",
         "legendgroup": "lzma",
         "marker": {
          "color": "#ab63fa",
          "opacity": 0.8
         },
         "name": "lzma",
         "nbinsx": 25,
         "offsetgroup": "lzma",
         "orientation": "v",
         "showlegend": true,
         "type": "histogram",
         "x": [
          4.3107973281418905,
          5.127853708412345,
          4.058308195200084,
          4.026951852822308
         ],
         "xaxis": "x",
         "yaxis": "y"
        },
        {
         "alignmentgroup": "True",
         "boxpoints": "all",
         "customdata": [
          [
           "5ee92059472cad3ec2fd998f",
           "WD-76845-006.ome.tif",
           11834429731,
           2745.2994956970215,
           3525198902,
           null,
           "lzma",
           29.787653331244407,
           null,
           [
            "-8",
            "-t",
            "-w",
            "256",
            "-l",
            "256",
            "-L"
           ],
           "/nvmen1Scratch/origData/htan-tnp-sardana-hms-prerelease-phase-1-data/recompressed/WD-76845-006.lzma.ome.tif",
           {
            "compressionMethod": "lzma",
            "filename": "WD-76845-006.ome.tif",
            "fullFilePath": "/nvmen1Scratch/origData/htan-tnp-sardana-hms-prerelease-phase-1-data/WD-76845-006.ome.tif",
            "outputFile": "WD-76845-006.lzma.ome.tif",
            "tileString": [
             "-8",
             "-t",
             "-w",
             "256",
             "-l",
             "256",
             "-L"
            ]
           },
           29.787653331244407,
           4.3107973281418905
          ],
          [
           "5ee92406557b784b56fd9993",
           "WD-76845-001.ome.tif",
           13048699267,
           2544.670735359192,
           3580721362,
           null,
           "lzma",
           27.441213018492967,
           null,
           [
            "-8",
            "-t",
            "-w",
            "256",
            "-l",
            "256",
            "-L"
           ],
           "/nvmen1Scratch/origData/htan-tnp-sardana-hms-prerelease-phase-1-data/recompressed/WD-76845-001.lzma.ome.tif",
           {
            "compressionMethod": "lzma",
            "filename": "WD-76845-001.ome.tif",
            "fullFilePath": "/nvmen1Scratch/origData/htan-tnp-sardana-hms-prerelease-phase-1-data/WD-76845-001.ome.tif",
            "outputFile": "WD-76845-001.lzma.ome.tif",
            "tileString": [
             "-8",
             "-t",
             "-w",
             "256",
             "-l",
             "256",
             "-L"
            ]
           },
           27.441213018492967,
           5.127853708412345
          ],
          [
           "5ee96701b4a211c4a5fd998e",
           "WD-76845-007.ome.tif",
           86067983704,
           21207.84808945656,
           37796236820,
           null,
           "lzma",
           43.91439789037771,
           null,
           [
            "-8",
            "-t",
            "-w",
            "256",
            "-l",
            "256",
            "-L"
           ],
           "/nvmen1Scratch/origData/htan-tnp-sardana-hms-prerelease-phase-1-data/recompressed/WD-76845-007.lzma.ome.tif",
           {
            "compressionMethod": "lzma",
            "filename": "WD-76845-007.ome.tif",
            "fullFilePath": "/nvmen1Scratch/origData/htan-tnp-sardana-hms-prerelease-phase-1-data/WD-76845-007.ome.tif",
            "outputFile": "WD-76845-007.lzma.ome.tif",
            "tileString": [
             "-8",
             "-t",
             "-w",
             "256",
             "-l",
             "256",
             "-L"
            ]
           },
           43.91439789037771,
           4.058308195200084
          ],
          [
           "5ee96fde9d5f656653fd998e",
           "WD-76845-002.ome.tif",
           94540542424,
           23476.948788881302,
           40679166408,
           null,
           "lzma",
           43.028276932831744,
           null,
           [
            "-8",
            "-t",
            "-w",
            "256",
            "-l",
            "256",
            "-L"
           ],
           "/nvmen1Scratch/origData/htan-tnp-sardana-hms-prerelease-phase-1-data/recompressed/WD-76845-002.lzma.ome.tif",
           {
            "compressionMethod": "lzma",
            "filename": "WD-76845-002.ome.tif",
            "fullFilePath": "/nvmen1Scratch/origData/htan-tnp-sardana-hms-prerelease-phase-1-data/WD-76845-002.ome.tif",
            "outputFile": "WD-76845-002.lzma.ome.tif",
            "tileString": [
             "-8",
             "-t",
             "-w",
             "256",
             "-l",
             "256",
             "-L"
            ]
           },
           43.028276932831744,
           4.026951852822308
          ]
         ],
         "fillcolor": "rgba(255,255,255,0)",
         "hoveron": "points",
         "hovertemplate": "compressionMethod=%{customdata[6]}<br>mbytesPerSec=%{customdata[13]}<br>_id=%{customdata[0]}<br>origFileName=%{customdata[1]}<br>origFileSize=%{customdata[2]}<br>executionTime=%{customdata[3]}<br>compressedFileSize=%{customdata[4]}<br>compressionOptions=%{customdata[5]}<br>compressionRate=%{customdata[7]}<br>outputFileName=%{customdata[8]}<br>tileInfo=%{customdata[9]}<br>outputFileNamewPath=%{customdata[10]}<br>origCompressionDict=%{customdata[11]}<br>compressionRatio=%{customdata[12]}<extra></extra>",
         "jitter": 0,
         "legendgroup": "lzma",
         "line": {
          "color": "rgba(255,255,255,0)"
         },
         "marker": {
          "color": "#ab63fa",
          "symbol": "line-ns-open"
         },
         "name": "lzma",
         "offsetgroup": "lzma",
         "showlegend": false,
         "type": "box",
         "x": [
          4.3107973281418905,
          5.127853708412345,
          4.058308195200084,
          4.026951852822308
         ],
         "xaxis": "x2",
         "yaxis": "y2"
        }
       ],
       "layout": {
        "barmode": "relative",
        "legend": {
         "title": {
          "text": "compressionMethod"
         },
         "tracegroupgap": 0
        },
        "margin": {
         "t": 60
        },
        "template": {
         "data": {
          "bar": [
           {
            "error_x": {
             "color": "#2a3f5f"
            },
            "error_y": {
             "color": "#2a3f5f"
            },
            "marker": {
             "line": {
              "color": "#E5ECF6",
              "width": 0.5
             }
            },
            "type": "bar"
           }
          ],
          "barpolar": [
           {
            "marker": {
             "line": {
              "color": "#E5ECF6",
              "width": 0.5
             }
            },
            "type": "barpolar"
           }
          ],
          "carpet": [
           {
            "aaxis": {
             "endlinecolor": "#2a3f5f",
             "gridcolor": "white",
             "linecolor": "white",
             "minorgridcolor": "white",
             "startlinecolor": "#2a3f5f"
            },
            "baxis": {
             "endlinecolor": "#2a3f5f",
             "gridcolor": "white",
             "linecolor": "white",
             "minorgridcolor": "white",
             "startlinecolor": "#2a3f5f"
            },
            "type": "carpet"
           }
          ],
          "choropleth": [
           {
            "colorbar": {
             "outlinewidth": 0,
             "ticks": ""
            },
            "type": "choropleth"
           }
          ],
          "contour": [
           {
            "colorbar": {
             "outlinewidth": 0,
             "ticks": ""
            },
            "colorscale": [
             [
              0,
              "#0d0887"
             ],
             [
              0.1111111111111111,
              "#46039f"
             ],
             [
              0.2222222222222222,
              "#7201a8"
             ],
             [
              0.3333333333333333,
              "#9c179e"
             ],
             [
              0.4444444444444444,
              "#bd3786"
             ],
             [
              0.5555555555555556,
              "#d8576b"
             ],
             [
              0.6666666666666666,
              "#ed7953"
             ],
             [
              0.7777777777777778,
              "#fb9f3a"
             ],
             [
              0.8888888888888888,
              "#fdca26"
             ],
             [
              1,
              "#f0f921"
             ]
            ],
            "type": "contour"
           }
          ],
          "contourcarpet": [
           {
            "colorbar": {
             "outlinewidth": 0,
             "ticks": ""
            },
            "type": "contourcarpet"
           }
          ],
          "heatmap": [
           {
            "colorbar": {
             "outlinewidth": 0,
             "ticks": ""
            },
            "colorscale": [
             [
              0,
              "#0d0887"
             ],
             [
              0.1111111111111111,
              "#46039f"
             ],
             [
              0.2222222222222222,
              "#7201a8"
             ],
             [
              0.3333333333333333,
              "#9c179e"
             ],
             [
              0.4444444444444444,
              "#bd3786"
             ],
             [
              0.5555555555555556,
              "#d8576b"
             ],
             [
              0.6666666666666666,
              "#ed7953"
             ],
             [
              0.7777777777777778,
              "#fb9f3a"
             ],
             [
              0.8888888888888888,
              "#fdca26"
             ],
             [
              1,
              "#f0f921"
             ]
            ],
            "type": "heatmap"
           }
          ],
          "heatmapgl": [
           {
            "colorbar": {
             "outlinewidth": 0,
             "ticks": ""
            },
            "colorscale": [
             [
              0,
              "#0d0887"
             ],
             [
              0.1111111111111111,
              "#46039f"
             ],
             [
              0.2222222222222222,
              "#7201a8"
             ],
             [
              0.3333333333333333,
              "#9c179e"
             ],
             [
              0.4444444444444444,
              "#bd3786"
             ],
             [
              0.5555555555555556,
              "#d8576b"
             ],
             [
              0.6666666666666666,
              "#ed7953"
             ],
             [
              0.7777777777777778,
              "#fb9f3a"
             ],
             [
              0.8888888888888888,
              "#fdca26"
             ],
             [
              1,
              "#f0f921"
             ]
            ],
            "type": "heatmapgl"
           }
          ],
          "histogram": [
           {
            "marker": {
             "colorbar": {
              "outlinewidth": 0,
              "ticks": ""
             }
            },
            "type": "histogram"
           }
          ],
          "histogram2d": [
           {
            "colorbar": {
             "outlinewidth": 0,
             "ticks": ""
            },
            "colorscale": [
             [
              0,
              "#0d0887"
             ],
             [
              0.1111111111111111,
              "#46039f"
             ],
             [
              0.2222222222222222,
              "#7201a8"
             ],
             [
              0.3333333333333333,
              "#9c179e"
             ],
             [
              0.4444444444444444,
              "#bd3786"
             ],
             [
              0.5555555555555556,
              "#d8576b"
             ],
             [
              0.6666666666666666,
              "#ed7953"
             ],
             [
              0.7777777777777778,
              "#fb9f3a"
             ],
             [
              0.8888888888888888,
              "#fdca26"
             ],
             [
              1,
              "#f0f921"
             ]
            ],
            "type": "histogram2d"
           }
          ],
          "histogram2dcontour": [
           {
            "colorbar": {
             "outlinewidth": 0,
             "ticks": ""
            },
            "colorscale": [
             [
              0,
              "#0d0887"
             ],
             [
              0.1111111111111111,
              "#46039f"
             ],
             [
              0.2222222222222222,
              "#7201a8"
             ],
             [
              0.3333333333333333,
              "#9c179e"
             ],
             [
              0.4444444444444444,
              "#bd3786"
             ],
             [
              0.5555555555555556,
              "#d8576b"
             ],
             [
              0.6666666666666666,
              "#ed7953"
             ],
             [
              0.7777777777777778,
              "#fb9f3a"
             ],
             [
              0.8888888888888888,
              "#fdca26"
             ],
             [
              1,
              "#f0f921"
             ]
            ],
            "type": "histogram2dcontour"
           }
          ],
          "mesh3d": [
           {
            "colorbar": {
             "outlinewidth": 0,
             "ticks": ""
            },
            "type": "mesh3d"
           }
          ],
          "parcoords": [
           {
            "line": {
             "colorbar": {
              "outlinewidth": 0,
              "ticks": ""
             }
            },
            "type": "parcoords"
           }
          ],
          "pie": [
           {
            "automargin": true,
            "type": "pie"
           }
          ],
          "scatter": [
           {
            "marker": {
             "colorbar": {
              "outlinewidth": 0,
              "ticks": ""
             }
            },
            "type": "scatter"
           }
          ],
          "scatter3d": [
           {
            "line": {
             "colorbar": {
              "outlinewidth": 0,
              "ticks": ""
             }
            },
            "marker": {
             "colorbar": {
              "outlinewidth": 0,
              "ticks": ""
             }
            },
            "type": "scatter3d"
           }
          ],
          "scattercarpet": [
           {
            "marker": {
             "colorbar": {
              "outlinewidth": 0,
              "ticks": ""
             }
            },
            "type": "scattercarpet"
           }
          ],
          "scattergeo": [
           {
            "marker": {
             "colorbar": {
              "outlinewidth": 0,
              "ticks": ""
             }
            },
            "type": "scattergeo"
           }
          ],
          "scattergl": [
           {
            "marker": {
             "colorbar": {
              "outlinewidth": 0,
              "ticks": ""
             }
            },
            "type": "scattergl"
           }
          ],
          "scattermapbox": [
           {
            "marker": {
             "colorbar": {
              "outlinewidth": 0,
              "ticks": ""
             }
            },
            "type": "scattermapbox"
           }
          ],
          "scatterpolar": [
           {
            "marker": {
             "colorbar": {
              "outlinewidth": 0,
              "ticks": ""
             }
            },
            "type": "scatterpolar"
           }
          ],
          "scatterpolargl": [
           {
            "marker": {
             "colorbar": {
              "outlinewidth": 0,
              "ticks": ""
             }
            },
            "type": "scatterpolargl"
           }
          ],
          "scatterternary": [
           {
            "marker": {
             "colorbar": {
              "outlinewidth": 0,
              "ticks": ""
             }
            },
            "type": "scatterternary"
           }
          ],
          "surface": [
           {
            "colorbar": {
             "outlinewidth": 0,
             "ticks": ""
            },
            "colorscale": [
             [
              0,
              "#0d0887"
             ],
             [
              0.1111111111111111,
              "#46039f"
             ],
             [
              0.2222222222222222,
              "#7201a8"
             ],
             [
              0.3333333333333333,
              "#9c179e"
             ],
             [
              0.4444444444444444,
              "#bd3786"
             ],
             [
              0.5555555555555556,
              "#d8576b"
             ],
             [
              0.6666666666666666,
              "#ed7953"
             ],
             [
              0.7777777777777778,
              "#fb9f3a"
             ],
             [
              0.8888888888888888,
              "#fdca26"
             ],
             [
              1,
              "#f0f921"
             ]
            ],
            "type": "surface"
           }
          ],
          "table": [
           {
            "cells": {
             "fill": {
              "color": "#EBF0F8"
             },
             "line": {
              "color": "white"
             }
            },
            "header": {
             "fill": {
              "color": "#C8D4E3"
             },
             "line": {
              "color": "white"
             }
            },
            "type": "table"
           }
          ]
         },
         "layout": {
          "annotationdefaults": {
           "arrowcolor": "#2a3f5f",
           "arrowhead": 0,
           "arrowwidth": 1
          },
          "coloraxis": {
           "colorbar": {
            "outlinewidth": 0,
            "ticks": ""
           }
          },
          "colorscale": {
           "diverging": [
            [
             0,
             "#8e0152"
            ],
            [
             0.1,
             "#c51b7d"
            ],
            [
             0.2,
             "#de77ae"
            ],
            [
             0.3,
             "#f1b6da"
            ],
            [
             0.4,
             "#fde0ef"
            ],
            [
             0.5,
             "#f7f7f7"
            ],
            [
             0.6,
             "#e6f5d0"
            ],
            [
             0.7,
             "#b8e186"
            ],
            [
             0.8,
             "#7fbc41"
            ],
            [
             0.9,
             "#4d9221"
            ],
            [
             1,
             "#276419"
            ]
           ],
           "sequential": [
            [
             0,
             "#0d0887"
            ],
            [
             0.1111111111111111,
             "#46039f"
            ],
            [
             0.2222222222222222,
             "#7201a8"
            ],
            [
             0.3333333333333333,
             "#9c179e"
            ],
            [
             0.4444444444444444,
             "#bd3786"
            ],
            [
             0.5555555555555556,
             "#d8576b"
            ],
            [
             0.6666666666666666,
             "#ed7953"
            ],
            [
             0.7777777777777778,
             "#fb9f3a"
            ],
            [
             0.8888888888888888,
             "#fdca26"
            ],
            [
             1,
             "#f0f921"
            ]
           ],
           "sequentialminus": [
            [
             0,
             "#0d0887"
            ],
            [
             0.1111111111111111,
             "#46039f"
            ],
            [
             0.2222222222222222,
             "#7201a8"
            ],
            [
             0.3333333333333333,
             "#9c179e"
            ],
            [
             0.4444444444444444,
             "#bd3786"
            ],
            [
             0.5555555555555556,
             "#d8576b"
            ],
            [
             0.6666666666666666,
             "#ed7953"
            ],
            [
             0.7777777777777778,
             "#fb9f3a"
            ],
            [
             0.8888888888888888,
             "#fdca26"
            ],
            [
             1,
             "#f0f921"
            ]
           ]
          },
          "colorway": [
           "#636efa",
           "#EF553B",
           "#00cc96",
           "#ab63fa",
           "#FFA15A",
           "#19d3f3",
           "#FF6692",
           "#B6E880",
           "#FF97FF",
           "#FECB52"
          ],
          "font": {
           "color": "#2a3f5f"
          },
          "geo": {
           "bgcolor": "white",
           "lakecolor": "white",
           "landcolor": "#E5ECF6",
           "showlakes": true,
           "showland": true,
           "subunitcolor": "white"
          },
          "hoverlabel": {
           "align": "left"
          },
          "hovermode": "closest",
          "mapbox": {
           "style": "light"
          },
          "paper_bgcolor": "white",
          "plot_bgcolor": "#E5ECF6",
          "polar": {
           "angularaxis": {
            "gridcolor": "white",
            "linecolor": "white",
            "ticks": ""
           },
           "bgcolor": "#E5ECF6",
           "radialaxis": {
            "gridcolor": "white",
            "linecolor": "white",
            "ticks": ""
           }
          },
          "scene": {
           "xaxis": {
            "backgroundcolor": "#E5ECF6",
            "gridcolor": "white",
            "gridwidth": 2,
            "linecolor": "white",
            "showbackground": true,
            "ticks": "",
            "zerolinecolor": "white"
           },
           "yaxis": {
            "backgroundcolor": "#E5ECF6",
            "gridcolor": "white",
            "gridwidth": 2,
            "linecolor": "white",
            "showbackground": true,
            "ticks": "",
            "zerolinecolor": "white"
           },
           "zaxis": {
            "backgroundcolor": "#E5ECF6",
            "gridcolor": "white",
            "gridwidth": 2,
            "linecolor": "white",
            "showbackground": true,
            "ticks": "",
            "zerolinecolor": "white"
           }
          },
          "shapedefaults": {
           "line": {
            "color": "#2a3f5f"
           }
          },
          "ternary": {
           "aaxis": {
            "gridcolor": "white",
            "linecolor": "white",
            "ticks": ""
           },
           "baxis": {
            "gridcolor": "white",
            "linecolor": "white",
            "ticks": ""
           },
           "bgcolor": "#E5ECF6",
           "caxis": {
            "gridcolor": "white",
            "linecolor": "white",
            "ticks": ""
           }
          },
          "title": {
           "x": 0.05
          },
          "xaxis": {
           "automargin": true,
           "gridcolor": "white",
           "linecolor": "white",
           "ticks": "",
           "title": {
            "standoff": 15
           },
           "zerolinecolor": "white",
           "zerolinewidth": 2
          },
          "yaxis": {
           "automargin": true,
           "gridcolor": "white",
           "linecolor": "white",
           "ticks": "",
           "title": {
            "standoff": 15
           },
           "zerolinecolor": "white",
           "zerolinewidth": 2
          }
         }
        },
        "xaxis": {
         "anchor": "y",
         "domain": [
          0,
          1
         ],
         "title": {
          "text": "mbytesPerSec"
         }
        },
        "xaxis2": {
         "anchor": "y2",
         "domain": [
          0,
          1
         ],
         "matches": "x",
         "showgrid": true,
         "showticklabels": false
        },
        "yaxis": {
         "anchor": "x",
         "domain": [
          0,
          0.7326
         ],
         "title": {
          "text": "count"
         }
        },
        "yaxis2": {
         "anchor": "x2",
         "domain": [
          0.7426,
          1
         ],
         "matches": "y2",
         "showgrid": false,
         "showline": false,
         "showticklabels": false,
         "ticks": ""
        }
       }
      },
      "text/html": [
       "<div>\n",
       "        \n",
       "        \n",
       "            <div id=\"829a0be0-cfe0-4e52-a89b-855cf5a3bef1\" class=\"plotly-graph-div\" style=\"height:525px; width:100%;\"></div>\n",
       "            <script type=\"text/javascript\">\n",
       "                require([\"plotly\"], function(Plotly) {\n",
       "                    window.PLOTLYENV=window.PLOTLYENV || {};\n",
       "                    \n",
       "                if (document.getElementById(\"829a0be0-cfe0-4e52-a89b-855cf5a3bef1\")) {\n",
       "                    Plotly.newPlot(\n",
       "                        '829a0be0-cfe0-4e52-a89b-855cf5a3bef1',\n",
       "                        [{\"alignmentgroup\": \"True\", \"bingroup\": \"x\", \"hovertemplate\": \"compressionMethod=lzw<br>mbytesPerSec=%{x}<br>count=%{y}<extra></extra>\", \"legendgroup\": \"lzw\", \"marker\": {\"color\": \"#636efa\", \"opacity\": 0.8}, \"name\": \"lzw\", \"nbinsx\": 25, \"offsetgroup\": \"lzw\", \"orientation\": \"v\", \"showlegend\": true, \"type\": \"histogram\", \"x\": [96.01757907249561, 112.26619991234321, 98.70715211807044, 67.94263714782879, 73.46766986938384, 95.80496273123536, 101.239249136447, 72.08812427757486, 73.32037926349727, 73.3804541598687, 66.58447119121719, 70.39477442762792, 49.43212403214383, 37.95592850891549, 23.289461404607245, 23.083540915857807, 21.127942564685927, 20.713223836730588, 29.99629000860231, 33.4448107950001, 31.234500099173303, 30.686138367684535, 32.29134011051616, 30.440084447558, 44.899814364214336, 34.61139221057726, 34.17909219600143, 35.493840360891014, 33.47648008261957, 27.390415400234165, 24.395508173747942, 21.515435191794317, 22.099995290155395, 21.78729356583586, 26.734628238270655, 21.924331825345234, 23.432372989511222, 23.759372731474567, 24.224650887607197, 25.08291751523065, 35.86304863795374, 20.51088954165447, 20.328850508470495, 32.979916747431425, 28.758213608863457, 38.05253927906015, 20.31204843119137, 18.335797082900218, 18.63356454581361, 18.38913440756965, 17.67719587243404, 17.750169459493407, 25.02697062538547, 25.88150260588112], \"xaxis\": \"x\", \"yaxis\": \"y\"}, {\"alignmentgroup\": \"True\", \"boxpoints\": \"all\", \"customdata\": [[\"5ee7f7e7fbd052c3f9f75082\", \"/nvmen1Scratch/origData/htan-tnp-sardana-hms-prerelease-phase-1-data/WD-76845-001.ome.tif\", 13048699267, 135.89906549453735, 5486731126, \"-8 -c lzw\", \"lzw\", 42.04810773649965, null, null, null, null, 42.04810773649965, 96.01757907249561], [\"5ee7f9c645d177623c9ad7e1\", \"/nvmen1Scratch/origData/htan-tnp-sardana-hms-prerelease-phase-1-data/WD-76845-001.ome.tif\", 13048699267, 116.22998976707458, 5486731126, \"-8 -c lzw\", \"lzw\", 42.04810773649965, \"/nvmen1Scratch/origData/htan-tnp-sardana-hms-prerelease-phase-1-data/recompressed/WD-76845-001.lzw.ome.tif\", null, null, null, 42.04810773649965, 112.26619991234321], [\"5ee7f9c96e4be911499ad7e1\", \"/nvmen1Scratch/origData/htan-tnp-sardana-hms-prerelease-phase-1-data/WD-76845-006.ome.tif\", 11834429731, 119.89434885978699, 5376970774, \"-8 -c lzw\", \"lzw\", 45.434979937522094, \"/nvmen1Scratch/origData/htan-tnp-sardana-hms-prerelease-phase-1-data/recompressed/WD-76845-006.lzw.ome.tif\", null, null, null, 45.434979937522094, 98.70715211807044], [\"5ee7fe44a0f28ea1959ad7e1\", \"/nvmen1Scratch/origData/htan-tnp-sardana-hms-prerelease-phase-1-data/WD-76845-007.ome.tif\", 86067983704, 1266.774257183075, 54576117220, \"-8 -c lzw\", \"lzw\", 63.410474919100004, \"/nvmen1Scratch/origData/htan-tnp-sardana-hms-prerelease-phase-1-data/recompressed/WD-76845-007.lzw.ome.tif\", null, null, null, 63.410474919100004, 67.94263714782879], [\"5ee7fe58074d7d0e5a9ad7e1\", \"/nvmen1Scratch/origData/htan-tnp-sardana-hms-prerelease-phase-1-data/WD-76845-002.ome.tif\", 94540542424, 1286.8319165706635, 59552482930, \"-8 -c lzw\", \"lzw\", 62.99147582940252, \"/nvmen1Scratch/origData/htan-tnp-sardana-hms-prerelease-phase-1-data/recompressed/WD-76845-002.lzw.ome.tif\", null, null, null, 62.99147582940252, 73.46766986938384], [\"5ee80dc7d34f8addb8feb1e6\", \"/nvmen1Scratch/origData/htan-tnp-sardana-hms-prerelease-phase-1-data/WD-76845-006.ome.tif\", 11834429731, 123.52627038955688, 5302035260, null, \"lzw\", 44.801780740743666, \"/nvmen1Scratch/origData/htan-tnp-sardana-hms-prerelease-phase-1-data/recompressed/WD-76845-006.lzw.ome.tif\", \"-t -w 256 -l 256 -L\", null, null, 44.801780740743666, 95.80496273123536], [\"5ee80dcc4c65fc3a1afeb1e6\", \"/nvmen1Scratch/origData/htan-tnp-sardana-hms-prerelease-phase-1-data/WD-76845-001.ome.tif\", 13048699267, 128.88972783088684, 5422832366, null, \"lzw\", 41.55841325667055, \"/nvmen1Scratch/origData/htan-tnp-sardana-hms-prerelease-phase-1-data/recompressed/WD-76845-001.lzw.ome.tif\", \"-t -w 256 -l 256 -L\", null, null, 41.55841325667055, 101.239249136447], [\"5ee811f6f2d1b0d29ffeb1e6\", \"/nvmen1Scratch/origData/htan-tnp-sardana-hms-prerelease-phase-1-data/WD-76845-007.ome.tif\", 86067983704, 1193.9273571968079, 52598174256, null, \"lzw\", 61.11235792033026, \"/nvmen1Scratch/origData/htan-tnp-sardana-hms-prerelease-phase-1-data/recompressed/WD-76845-007.lzw.ome.tif\", \"-t -w 256 -l 256 -L\", null, null, 61.11235792033026, 72.08812427757486], [\"5ee81255fd0d94850bfeb1e6\", \"/nvmen1Scratch/origData/htan-tnp-sardana-hms-prerelease-phase-1-data/WD-76845-002.ome.tif\", 94540542424, 1289.4169857501984, 56312280676, null, \"lzw\", 59.564160763377004, \"/nvmen1Scratch/origData/htan-tnp-sardana-hms-prerelease-phase-1-data/recompressed/WD-76845-002.lzw.ome.tif\", \"-t -w 256 -l 256 -L\", null, null, 59.564160763377004, 73.32037926349727], [\"5ee8ed91ecf21f6181ed4920\", \"WD-76845-002.ome.tif\", 94540542424, 1288.3613696098328, 56312280676, null, \"lzw\", 59.564160763377004, null, [\"-8\", \"-t\", \"-w\", \"256\", \"-l\", \"256\", \"-L\"], \"/nvmen1Scratch/origData/htan-tnp-sardana-hms-prerelease-phase-1-data/recompressed/WD-76845-002.lzw.ome.tif\", {\"compressionMethod\": \"lzw\", \"filename\": \"WD-76845-002.ome.tif\", \"fullFilePath\": \"/nvmen1Scratch/origData/htan-tnp-sardana-hms-prerelease-phase-1-data/WD-76845-002.ome.tif\", \"outputFile\": \"WD-76845-002.lzw.ome.tif\", \"tileString\": [\"-8\", \"-t\", \"-w\", \"256\", \"-l\", \"256\", \"-L\"]}, 59.564160763377004, 73.3804541598687], [\"5ee914db557b784b56fd998e\", \"WD-76845-006.ome.tif\", 11834429731, 177.7355818748474, 5302035260, null, \"lzw\", 44.801780740743666, null, [\"-8\", \"-t\", \"-w\", \"256\", \"-l\", \"256\", \"-L\"], \"/nvmen1Scratch/origData/htan-tnp-sardana-hms-prerelease-phase-1-data/recompressed/WD-76845-006.lzw.ome.tif\", {\"compressionMethod\": \"lzw\", \"filename\": \"WD-76845-006.ome.tif\", \"fullFilePath\": \"/nvmen1Scratch/origData/htan-tnp-sardana-hms-prerelease-phase-1-data/WD-76845-006.ome.tif\", \"outputFile\": \"WD-76845-006.lzw.ome.tif\", \"tileString\": [\"-8\", \"-t\", \"-w\", \"256\", \"-l\", \"256\", \"-L\"]}, 44.801780740743666, 66.58447119121719], [\"5ee91722557b784b56fd9990\", \"WD-76845-001.ome.tif\", 13048699267, 185.36460089683533, 5422832366, null, \"lzw\", 41.55841325667055, null, [\"-8\", \"-t\", \"-w\", \"256\", \"-l\", \"256\", \"-L\"], \"/nvmen1Scratch/origData/htan-tnp-sardana-hms-prerelease-phase-1-data/recompressed/WD-76845-001.lzw.ome.tif\", {\"compressionMethod\": \"lzw\", \"filename\": \"WD-76845-001.ome.tif\", \"fullFilePath\": \"/nvmen1Scratch/origData/htan-tnp-sardana-hms-prerelease-phase-1-data/WD-76845-001.ome.tif\", \"outputFile\": \"WD-76845-001.lzw.ome.tif\", \"tileString\": [\"-8\", \"-t\", \"-w\", \"256\", \"-l\", \"256\", \"-L\"]}, 41.55841325667055, 70.39477442762792], [\"5ee91af708b2d1a8fefd998e\", \"WD-76845-007.ome.tif\", 86067983704, 1741.1346445083618, 52598174256, null, \"lzw\", 61.11235792033026, null, [\"-8\", \"-t\", \"-w\", \"256\", \"-l\", \"256\", \"-L\"], \"/nvmen1Scratch/origData/htan-tnp-sardana-hms-prerelease-phase-1-data/recompressed/WD-76845-007.lzw.ome.tif\", {\"compressionMethod\": \"lzw\", \"filename\": \"WD-76845-007.ome.tif\", \"fullFilePath\": \"/nvmen1Scratch/origData/htan-tnp-sardana-hms-prerelease-phase-1-data/WD-76845-007.ome.tif\", \"outputFile\": \"WD-76845-007.lzw.ome.tif\", \"tileString\": [\"-8\", \"-t\", \"-w\", \"256\", \"-l\", \"256\", \"-L\"]}, 61.11235792033026, 49.43212403214383], [\"5ee93dac27c36180e3eadea9\", \"WD-76845-002.ome.tif\", 94540542424, 2490.7977788448334, 56312280676, null, \"lzw\", 59.564160763377004, null, [\"-8\", \"-t\", \"-w\", \"256\", \"-l\", \"256\", \"-L\"], \"/nvmen1Scratch/origData/htan-tnp-sardana-hms-prerelease-phase-1-data/recompressed/WD-76845-002.lzw.ome.tif\", {\"compressionMethod\": \"lzw\", \"filename\": \"WD-76845-002.ome.tif\", \"fullFilePath\": \"/s3FuseMounts/dgutman-htan-s3-synapse/htan-tnp-sardana-hms-prerelease-phase-1-data/WD-76845-002.ome.tif\", \"outputFile\": \"WD-76845-002.lzw.ome.tif\", \"tileString\": [\"-8\", \"-t\", \"-w\", \"256\", \"-l\", \"256\", \"-L\"]}, 59.564160763377004, 37.95592850891549], [\"5ee957df1a4aa37fe2038555\", \"WD-76845-085.ome.tif\", 11384583763, 488.829843044281, 5686143918, null, \"lzw\", 49.94599746790936, null, [\"-8\", \"-t\", \"-w\", \"256\", \"-l\", \"256\", \"-L\"], \"/nvmen1Scratch/origData/htan-tnp-sardana-hms-prerelease-phase-1-data/recompressed/WD-76845-085.lzw.ome.tif\", {\"compressionMethod\": \"lzw\", \"filename\": \"WD-76845-085.ome.tif\", \"fullFilePath\": \"/s3FuseMounts/dgutman-htan-s3-synapse/htan-tnp-sardana-hms-prerelease-phase-1-data/WD-76845-085.ome.tif\", \"outputFile\": \"WD-76845-085.lzw.ome.tif\", \"tileString\": [\"-8\", \"-t\", \"-w\", \"256\", \"-l\", \"256\", \"-L\"]}, 49.94599746790936, 23.289461404607245], [\"5ee95ec31a4aa37fe2038558\", \"WD-76845-043.ome.tif\", 11834429731, 512.6782660484314, 5686601270, null, \"lzw\", 48.051333264534804, null, [\"-8\", \"-t\", \"-w\", \"256\", \"-l\", \"256\", \"-L\"], \"/nvmen1Scratch/origData/htan-tnp-sardana-hms-prerelease-phase-1-data/recompressed/WD-76845-043.lzw.ome.tif\", {\"compressionMethod\": \"lzw\", \"filename\": \"WD-76845-043.ome.tif\", \"fullFilePath\": \"/s3FuseMounts/dgutman-htan-s3-synapse/htan-tnp-sardana-hms-prerelease-phase-1-data/WD-76845-043.ome.tif\", \"outputFile\": \"WD-76845-043.lzw.ome.tif\", \"tileString\": [\"-8\", \"-t\", \"-w\", \"256\", \"-l\", \"256\", \"-L\"]}, 48.051333264534804, 23.083540915857807], [\"5ee96213c8c1e225d3038554\", \"WD-76845-044.ome.tif\", 82209194584, 3891.0175154209137, 50697741492, null, \"lzw\", 61.66918645602091, null, [\"-8\", \"-t\", \"-w\", \"256\", \"-l\", \"256\", \"-L\"], \"/nvmen1Scratch/origData/htan-tnp-sardana-hms-prerelease-phase-1-data/recompressed/WD-76845-044.lzw.ome.tif\", {\"compressionMethod\": \"lzw\", \"filename\": \"WD-76845-044.ome.tif\", \"fullFilePath\": \"/s3FuseMounts/dgutman-htan-s3-synapse/htan-tnp-sardana-hms-prerelease-phase-1-data/WD-76845-044.ome.tif\", \"outputFile\": \"WD-76845-044.lzw.ome.tif\", \"tileString\": [\"-8\", \"-t\", \"-w\", \"256\", \"-l\", \"256\", \"-L\"]}, 61.66918645602091, 21.127942564685927], [\"5ee9631b1e0218235a038554\", \"WD-76845-007.ome.tif\", 86067983704, 4155.21911907196, 52598174256, null, \"lzw\", 61.11235792033026, null, [\"-8\", \"-t\", \"-w\", \"256\", \"-l\", \"256\", \"-L\"], \"/nvmen1Scratch/origData/htan-tnp-sardana-hms-prerelease-phase-1-data/recompressed/WD-76845-007.lzw.ome.tif\", {\"compressionMethod\": \"lzw\", \"filename\": \"WD-76845-007.ome.tif\", \"fullFilePath\": \"/s3FuseMounts/dgutman-htan-s3-synapse/htan-tnp-sardana-hms-prerelease-phase-1-data/WD-76845-007.ome.tif\", \"outputFile\": \"WD-76845-007.lzw.ome.tif\", \"tileString\": [\"-8\", \"-t\", \"-w\", \"256\", \"-l\", \"256\", \"-L\"]}, 61.11235792033026, 20.713223836730588], [\"5ee9639ec8c1e225d3038555\", \"WD-76845-024.ome.tif\", 11834429731, 394.52978110313416, 5777755388, null, \"lzw\", 48.821578388904626, null, [\"-8\", \"-t\", \"-w\", \"256\", \"-l\", \"256\", \"-L\"], \"/nvmen1Scratch/origData/htan-tnp-sardana-hms-prerelease-phase-1-data/recompressed/WD-76845-024.lzw.ome.tif\", {\"compressionMethod\": \"lzw\", \"filename\": \"WD-76845-024.ome.tif\", \"fullFilePath\": \"/s3FuseMounts/dgutman-htan-s3-synapse/htan-tnp-sardana-hms-prerelease-phase-1-data/WD-76845-024.ome.tif\", \"outputFile\": \"WD-76845-024.lzw.ome.tif\", \"tileString\": [\"-8\", \"-t\", \"-w\", \"256\", \"-l\", \"256\", \"-L\"]}, 48.821578388904626, 29.99629000860231], [\"5ee978f607c5a13130038555\", \"WD-76845-102.ome.tif\", 77763198424, 2325.1199984550476, 48963355754, null, \"lzw\", 62.964688626912846, null, [\"-8\", \"-t\", \"-w\", \"256\", \"-l\", \"256\", \"-L\"], \"/nvmen1Scratch/origData/htan-tnp-sardana-hms-prerelease-phase-1-data/recompressed/WD-76845-102.lzw.ome.tif\", {\"compressionMethod\": \"lzw\", \"filename\": \"WD-76845-102.ome.tif\", \"fullFilePath\": \"/s3FuseMounts/dgutman-htan-s3-synapse/htan-tnp-sardana-hms-prerelease-phase-1-data/WD-76845-102.ome.tif\", \"outputFile\": \"WD-76845-102.lzw.ome.tif\", \"tileString\": [\"-8\", \"-t\", \"-w\", \"256\", \"-l\", \"256\", \"-L\"]}, 62.964688626912846, 33.4448107950001], [\"5ee97a5e07c5a13130038556\", \"WD-76845-101.ome.tif\", 11221003432, 359.250296831131, 5348158264, null, \"lzw\", 47.66203215612741, null, [\"-8\", \"-t\", \"-w\", \"256\", \"-l\", \"256\", \"-L\"], \"/nvmen1Scratch/origData/htan-tnp-sardana-hms-prerelease-phase-1-data/recompressed/WD-76845-101.lzw.ome.tif\", {\"compressionMethod\": \"lzw\", \"filename\": \"WD-76845-101.ome.tif\", \"fullFilePath\": \"/s3FuseMounts/dgutman-htan-s3-synapse/htan-tnp-sardana-hms-prerelease-phase-1-data/WD-76845-101.ome.tif\", \"outputFile\": \"WD-76845-101.lzw.ome.tif\", \"tileString\": [\"-8\", \"-t\", \"-w\", \"256\", \"-l\", \"256\", \"-L\"]}, 47.66203215612741, 31.234500099173303], [\"5ee97bbe07c5a13130038557\", \"WD-76845-028.ome.tif\", 10812052531, 352.34321117401123, 5674659060, null, \"lzw\", 52.48456797384016, null, [\"-8\", \"-t\", \"-w\", \"256\", \"-l\", \"256\", \"-L\"], \"/nvmen1Scratch/origData/htan-tnp-sardana-hms-prerelease-phase-1-data/recompressed/WD-76845-028.lzw.ome.tif\", {\"compressionMethod\": \"lzw\", \"filename\": \"WD-76845-028.ome.tif\", \"fullFilePath\": \"/s3FuseMounts/dgutman-htan-s3-synapse/htan-tnp-sardana-hms-prerelease-phase-1-data/WD-76845-028.ome.tif\", \"outputFile\": \"WD-76845-028.lzw.ome.tif\", \"tileString\": [\"-8\", \"-t\", \"-w\", \"256\", \"-l\", \"256\", \"-L\"]}, 52.48456797384016, 30.686138367684535], [\"5ee97e7429adeff7e7038555\", \"WD-76845-025.ome.tif\", 89758999384, 2779.661639213562, 54184674784, null, \"lzw\", 60.36684360995528, null, [\"-8\", \"-t\", \"-w\", \"256\", \"-l\", \"256\", \"-L\"], \"/nvmen1Scratch/origData/htan-tnp-sardana-hms-prerelease-phase-1-data/recompressed/WD-76845-025.lzw.ome.tif\", {\"compressionMethod\": \"lzw\", \"filename\": \"WD-76845-025.ome.tif\", \"fullFilePath\": \"/s3FuseMounts/dgutman-htan-s3-synapse/htan-tnp-sardana-hms-prerelease-phase-1-data/WD-76845-025.ome.tif\", \"outputFile\": \"WD-76845-025.lzw.ome.tif\", \"tileString\": [\"-8\", \"-t\", \"-w\", \"256\", \"-l\", \"256\", \"-L\"]}, 60.36684360995528, 32.29134011051616], [\"5ee97f9b492ea78385038556\", \"WD-76845-054.ome.tif\", 80028139864, 2629.0380370616913, 49675822764, null, \"lzw\", 62.072944402330485, null, [\"-8\", \"-t\", \"-w\", \"256\", \"-l\", \"256\", \"-L\"], \"/nvmen1Scratch/origData/htan-tnp-sardana-hms-prerelease-phase-1-data/recompressed/WD-76845-054.lzw.ome.tif\", {\"compressionMethod\": \"lzw\", \"filename\": \"WD-76845-054.ome.tif\", \"fullFilePath\": \"/s3FuseMounts/dgutman-htan-s3-synapse/htan-tnp-sardana-hms-prerelease-phase-1-data/WD-76845-054.ome.tif\", \"outputFile\": \"WD-76845-054.lzw.ome.tif\", \"tileString\": [\"-8\", \"-t\", \"-w\", \"256\", \"-l\", \"256\", \"-L\"]}, 62.072944402330485, 30.440084447558], [\"5ee9815d29adeff7e7038557\", \"WD-76845-077.ome.tif\", 11221003411, 249.91202235221863, 5333104608, null, \"lzw\", 47.52787618593836, null, [\"-8\", \"-t\", \"-w\", \"256\", \"-l\", \"256\", \"-L\"], \"/nvmen1Scratch/origData/htan-tnp-sardana-hms-prerelease-phase-1-data/recompressed/WD-76845-077.lzw.ome.tif\", {\"compressionMethod\": \"lzw\", \"filename\": \"WD-76845-077.ome.tif\", \"fullFilePath\": \"/s3FuseMounts/dgutman-htan-s3-synapse/htan-tnp-sardana-hms-prerelease-phase-1-data/WD-76845-077.ome.tif\", \"outputFile\": \"WD-76845-077.lzw.ome.tif\", \"tileString\": [\"-8\", \"-t\", \"-w\", \"256\", \"-l\", \"256\", \"-L\"]}, 47.52787618593836, 44.899814364214336], [\"5ee982359d5df40196038557\", \"WD-76845-034.ome.tif\", 88249038424, 2549.7107393741608, 55935291888, null, \"lzw\", 63.38345764092538, null, [\"-8\", \"-t\", \"-w\", \"256\", \"-l\", \"256\", \"-L\"], \"/nvmen1Scratch/origData/htan-tnp-sardana-hms-prerelease-phase-1-data/recompressed/WD-76845-034.lzw.ome.tif\", {\"compressionMethod\": \"lzw\", \"filename\": \"WD-76845-034.ome.tif\", \"fullFilePath\": \"/s3FuseMounts/dgutman-htan-s3-synapse/htan-tnp-sardana-hms-prerelease-phase-1-data/WD-76845-034.ome.tif\", \"outputFile\": \"WD-76845-034.lzw.ome.tif\", \"tileString\": [\"-8\", \"-t\", \"-w\", \"256\", \"-l\", \"256\", \"-L\"]}, 63.38345764092538, 34.61139221057726], [\"5eea004a049ce574635fe9a3\", \"WD-76845-090.ome.tif\", 10657909507, 311.8254120349884, 5365610240, null, \"lzw\", 50.34392754485225, null, [\"-8\", \"-t\", \"-w\", \"256\", \"-l\", \"256\", \"-L\"], \"/nvmen1Scratch/origData/htan-tnp-sardana-hms-prerelease-phase-1-data/recompressed/WD-76845-090.lzw.ome.tif\", {\"compressionMethod\": \"lzw\", \"filename\": \"WD-76845-090.ome.tif\", \"fullFilePath\": \"/s3FuseMounts/dgutman-htan-s3-synapse/htan-tnp-sardana-hms-prerelease-phase-1-data/WD-76845-090.ome.tif\", \"outputFile\": \"WD-76845-090.lzw.ome.tif\", \"tileString\": [\"-8\", \"-t\", \"-w\", \"256\", \"-l\", \"256\", \"-L\"]}, 50.34392754485225, 34.17909219600143], [\"5eea0053bb2b0550615fe9a3\", \"WD-76845-096.ome.tif\", 11384583763, 320.74815368652344, 5571920518, null, \"lzw\", 48.94268103247474, null, [\"-8\", \"-t\", \"-w\", \"256\", \"-l\", \"256\", \"-L\"], \"/nvmen1Scratch/origData/htan-tnp-sardana-hms-prerelease-phase-1-data/recompressed/WD-76845-096.lzw.ome.tif\", {\"compressionMethod\": \"lzw\", \"filename\": \"WD-76845-096.ome.tif\", \"fullFilePath\": \"/s3FuseMounts/dgutman-htan-s3-synapse/htan-tnp-sardana-hms-prerelease-phase-1-data/WD-76845-096.ome.tif\", \"outputFile\": \"WD-76845-096.lzw.ome.tif\", \"tileString\": [\"-8\", \"-t\", \"-w\", \"256\", \"-l\", \"256\", \"-L\"]}, 48.94268103247474, 35.493840360891014], [\"5eea00abc617b77de35fe9a3\", \"WD-76845-019.ome.tif\", 13674708691, 408.48705291748047, 5832979060, null, \"lzw\", 42.65523450484156, null, [\"-8\", \"-t\", \"-w\", \"256\", \"-l\", \"256\", \"-L\"], \"/nvmen1Scratch/origData/htan-tnp-sardana-hms-prerelease-phase-1-data/recompressed/WD-76845-019.lzw.ome.tif\", {\"compressionMethod\": \"lzw\", \"filename\": \"WD-76845-019.ome.tif\", \"fullFilePath\": \"/s3FuseMounts/dgutman-htan-s3-synapse/htan-tnp-sardana-hms-prerelease-phase-1-data/WD-76845-019.ome.tif\", \"outputFile\": \"WD-76845-019.lzw.ome.tif\", \"tileString\": [\"-8\", \"-t\", \"-w\", \"256\", \"-l\", \"256\", \"-L\"]}, 42.65523450484156, 33.47648008261957], [\"5eea02cb692e2980bb5fe9a4\", \"WD-76845-033.ome.tif\", 12715247011, 464.2224962711334, 5812605246, null, \"lzw\", 45.71366361165848, null, [\"-8\", \"-t\", \"-w\", \"256\", \"-l\", \"256\", \"-L\"], \"/nvmen1Scratch/origData/htan-tnp-sardana-hms-prerelease-phase-1-data/recompressed/WD-76845-033.lzw.ome.tif\", {\"compressionMethod\": \"lzw\", \"filename\": \"WD-76845-033.ome.tif\", \"fullFilePath\": \"/s3FuseMounts/dgutman-htan-s3-synapse/htan-tnp-sardana-hms-prerelease-phase-1-data/WD-76845-033.ome.tif\", \"outputFile\": \"WD-76845-033.lzw.ome.tif\", \"tileString\": [\"-8\", \"-t\", \"-w\", \"256\", \"-l\", \"256\", \"-L\"]}, 45.71366361165848, 27.390415400234165], [\"5eea04cab5f447f61e5fe9a5\", \"WD-76845-105.ome.tif\", 10327603048, 423.34035325050354, 5311804302, null, \"lzw\", 51.433079653740776, null, [\"-8\", \"-t\", \"-w\", \"256\", \"-l\", \"256\", \"-L\"], \"/nvmen1Scratch/origData/htan-tnp-sardana-hms-prerelease-phase-1-data/recompressed/WD-76845-105.lzw.ome.tif\", {\"compressionMethod\": \"lzw\", \"filename\": \"WD-76845-105.ome.tif\", \"fullFilePath\": \"/s3FuseMounts/dgutman-htan-s3-synapse/htan-tnp-sardana-hms-prerelease-phase-1-data/WD-76845-105.ome.tif\", \"outputFile\": \"WD-76845-105.lzw.ome.tif\", \"tileString\": [\"-8\", \"-t\", \"-w\", \"256\", \"-l\", \"256\", \"-L\"]}, 51.433079653740776, 24.395508173747942], [\"5eea0dddbb2b0550615fe9a4\", \"WD-76845-106.ome.tif\", 74575503064, 3466.1396527290344, 46764250068, null, \"lzw\", 62.70725391938336, null, [\"-8\", \"-t\", \"-w\", \"256\", \"-l\", \"256\", \"-L\"], \"/nvmen1Scratch/origData/htan-tnp-sardana-hms-prerelease-phase-1-data/recompressed/WD-76845-106.lzw.ome.tif\", {\"compressionMethod\": \"lzw\", \"filename\": \"WD-76845-106.ome.tif\", \"fullFilePath\": \"/s3FuseMounts/dgutman-htan-s3-synapse/htan-tnp-sardana-hms-prerelease-phase-1-data/WD-76845-106.ome.tif\", \"outputFile\": \"WD-76845-106.lzw.ome.tif\", \"tileString\": [\"-8\", \"-t\", \"-w\", \"256\", \"-l\", \"256\", \"-L\"]}, 62.70725391938336, 21.515435191794317], [\"5eea0e497a359007b45fe9a3\", \"WD-76845-052.ome.tif\", 86067983704, 3894.479730606079, 53945618642, null, \"lzw\", 62.677916131423075, null, [\"-8\", \"-t\", \"-w\", \"256\", \"-l\", \"256\", \"-L\"], \"/nvmen1Scratch/origData/htan-tnp-sardana-hms-prerelease-phase-1-data/recompressed/WD-76845-052.lzw.ome.tif\", {\"compressionMethod\": \"lzw\", \"filename\": \"WD-76845-052.ome.tif\", \"fullFilePath\": \"/s3FuseMounts/dgutman-htan-s3-synapse/htan-tnp-sardana-hms-prerelease-phase-1-data/WD-76845-052.ome.tif\", \"outputFile\": \"WD-76845-052.lzw.ome.tif\", \"tileString\": [\"-8\", \"-t\", \"-w\", \"256\", \"-l\", \"256\", \"-L\"]}, 62.677916131423075, 22.099995290155395], [\"5eea0f2a5b022b5ffc5fe9a3\", \"WD-76845-020.ome.tif\", 89758999384, 4119.786567926407, 53491961522, null, \"lzw\", 59.59509563286778, null, [\"-8\", \"-t\", \"-w\", \"256\", \"-l\", \"256\", \"-L\"], \"/nvmen1Scratch/origData/htan-tnp-sardana-hms-prerelease-phase-1-data/recompressed/WD-76845-020.lzw.ome.tif\", {\"compressionMethod\": \"lzw\", \"filename\": \"WD-76845-020.ome.tif\", \"fullFilePath\": \"/s3FuseMounts/dgutman-htan-s3-synapse/htan-tnp-sardana-hms-prerelease-phase-1-data/WD-76845-020.ome.tif\", \"outputFile\": \"WD-76845-020.lzw.ome.tif\", \"tileString\": [\"-8\", \"-t\", \"-w\", \"256\", \"-l\", \"256\", \"-L\"]}, 59.59509563286778, 21.78729356583586], [\"5eea10257a359007b45fe9a4\", \"WD-76845-013.ome.tif\", 12727830115, 476.0803105831146, 5609578870, null, \"lzw\", 44.07333236942721, null, [\"-8\", \"-t\", \"-w\", \"256\", \"-l\", \"256\", \"-L\"], \"/nvmen1Scratch/origData/htan-tnp-sardana-hms-prerelease-phase-1-data/recompressed/WD-76845-013.lzw.ome.tif\", {\"compressionMethod\": \"lzw\", \"filename\": \"WD-76845-013.ome.tif\", \"fullFilePath\": \"/s3FuseMounts/dgutman-htan-s3-synapse/htan-tnp-sardana-hms-prerelease-phase-1-data/WD-76845-013.ome.tif\", \"outputFile\": \"WD-76845-013.lzw.ome.tif\", \"tileString\": [\"-8\", \"-t\", \"-w\", \"256\", \"-l\", \"256\", \"-L\"]}, 44.07333236942721, 26.734628238270655], [\"5eea110d692e2980bb5fe9a5\", \"WD-76845-097.ome.tif\", 80028139864, 3650.1974382400513, 50471785068, null, \"lzw\", 63.067547432405476, null, [\"-8\", \"-t\", \"-w\", \"256\", \"-l\", \"256\", \"-L\"], \"/nvmen1Scratch/origData/htan-tnp-sardana-hms-prerelease-phase-1-data/recompressed/WD-76845-097.lzw.ome.tif\", {\"compressionMethod\": \"lzw\", \"filename\": \"WD-76845-097.ome.tif\", \"fullFilePath\": \"/s3FuseMounts/dgutman-htan-s3-synapse/htan-tnp-sardana-hms-prerelease-phase-1-data/WD-76845-097.ome.tif\", \"outputFile\": \"WD-76845-097.lzw.ome.tif\", \"tileString\": [\"-8\", \"-t\", \"-w\", \"256\", \"-l\", \"256\", \"-L\"]}, 63.067547432405476, 21.924331825345234], [\"5eea12c4692e2980bb5fe9a6\", \"WD-76845-083.ome.tif\", 10270979059, 438.32432436943054, 5444116346, null, \"lzw\", 53.00484320654479, null, [\"-8\", \"-t\", \"-w\", \"256\", \"-l\", \"256\", \"-L\"], \"/nvmen1Scratch/origData/htan-tnp-sardana-hms-prerelease-phase-1-data/recompressed/WD-76845-083.lzw.ome.tif\", {\"compressionMethod\": \"lzw\", \"filename\": \"WD-76845-083.ome.tif\", \"fullFilePath\": \"/s3FuseMounts/dgutman-htan-s3-synapse/htan-tnp-sardana-hms-prerelease-phase-1-data/WD-76845-083.ome.tif\", \"outputFile\": \"WD-76845-083.lzw.ome.tif\", \"tileString\": [\"-8\", \"-t\", \"-w\", \"256\", \"-l\", \"256\", \"-L\"]}, 53.00484320654479, 23.432372989511222], [\"5eea1c04bb2b0550615fe9a5\", \"WD-76845-059.ome.tif\", 86067983704, 3622.485520839691, 52800859840, null, \"lzw\", 61.34785267142965, null, [\"-8\", \"-t\", \"-w\", \"256\", \"-l\", \"256\", \"-L\"], \"/nvmen1Scratch/origData/htan-tnp-sardana-hms-prerelease-phase-1-data/recompressed/WD-76845-059.lzw.ome.tif\", {\"compressionMethod\": \"lzw\", \"filename\": \"WD-76845-059.ome.tif\", \"fullFilePath\": \"/s3FuseMounts/dgutman-htan-s3-synapse/htan-tnp-sardana-hms-prerelease-phase-1-data/WD-76845-059.ome.tif\", \"outputFile\": \"WD-76845-059.lzw.ome.tif\", \"tileString\": [\"-8\", \"-t\", \"-w\", \"256\", \"-l\", \"256\", \"-L\"]}, 61.34785267142965, 23.759372731474567], [\"5eea1c2b7a359007b45fe9a5\", \"WD-76845-078.ome.tif\", 74575503064, 3078.496503829956, 47141997292, null, \"lzw\", 63.213783823279314, null, [\"-8\", \"-t\", \"-w\", \"256\", \"-l\", \"256\", \"-L\"], \"/nvmen1Scratch/origData/htan-tnp-sardana-hms-prerelease-phase-1-data/recompressed/WD-76845-078.lzw.ome.tif\", {\"compressionMethod\": \"lzw\", \"filename\": \"WD-76845-078.ome.tif\", \"fullFilePath\": \"/s3FuseMounts/dgutman-htan-s3-synapse/htan-tnp-sardana-hms-prerelease-phase-1-data/WD-76845-078.ome.tif\", \"outputFile\": \"WD-76845-078.lzw.ome.tif\", \"tileString\": [\"-8\", \"-t\", \"-w\", \"256\", \"-l\", \"256\", \"-L\"]}, 63.213783823279314, 24.224650887607197], [\"5eea1ee0692e2980bb5fe9a7\", \"WD-76845-091.ome.tif\", 77763198424, 3100.2453513145447, 46941291880, null, \"lzw\", 60.36440479731161, null, [\"-8\", \"-t\", \"-w\", \"256\", \"-l\", \"256\", \"-L\"], \"/nvmen1Scratch/origData/htan-tnp-sardana-hms-prerelease-phase-1-data/recompressed/WD-76845-091.lzw.ome.tif\", {\"compressionMethod\": \"lzw\", \"filename\": \"WD-76845-091.ome.tif\", \"fullFilePath\": \"/s3FuseMounts/dgutman-htan-s3-synapse/htan-tnp-sardana-hms-prerelease-phase-1-data/WD-76845-091.ome.tif\", \"outputFile\": \"WD-76845-091.lzw.ome.tif\", \"tileString\": [\"-8\", \"-t\", \"-w\", \"256\", \"-l\", \"256\", \"-L\"]}, 60.36440479731161, 25.08291751523065], [\"5eea2019692e2980bb5fe9a8\", \"WD-76845-058.ome.tif\", 11239878067, 313.41111516952515, 5589055960, null, \"lzw\", 49.72523657893877, null, [\"-8\", \"-t\", \"-w\", \"256\", \"-l\", \"256\", \"-L\"], \"/nvmen1Scratch/origData/htan-tnp-sardana-hms-prerelease-phase-1-data/recompressed/WD-76845-058.lzw.ome.tif\", {\"compressionMethod\": \"lzw\", \"filename\": \"WD-76845-058.ome.tif\", \"fullFilePath\": \"/s3FuseMounts/dgutman-htan-s3-synapse/htan-tnp-sardana-hms-prerelease-phase-1-data/WD-76845-058.ome.tif\", \"outputFile\": \"WD-76845-058.lzw.ome.tif\", \"tileString\": [\"-8\", \"-t\", \"-w\", \"256\", \"-l\", \"256\", \"-L\"]}, 49.72523657893877, 35.86304863795374], [\"5eea2ee9692e2980bb5fe9a9\", \"WD-76845-014.ome.tif\", 77763198424, 3791.312817811966, 47016796710, null, \"lzw\", 60.461500636384876, null, [\"-8\", \"-t\", \"-w\", \"256\", \"-l\", \"256\", \"-L\"], \"/nvmen1Scratch/origData/htan-tnp-sardana-hms-prerelease-phase-1-data/recompressed/WD-76845-014.lzw.ome.tif\", {\"compressionMethod\": \"lzw\", \"filename\": \"WD-76845-014.ome.tif\", \"fullFilePath\": \"/s3FuseMounts/dgutman-htan-s3-synapse/htan-tnp-sardana-hms-prerelease-phase-1-data/WD-76845-014.ome.tif\", \"outputFile\": \"WD-76845-014.lzw.ome.tif\", \"tileString\": [\"-8\", \"-t\", \"-w\", \"256\", \"-l\", \"256\", \"-L\"]}, 60.461500636384876, 20.51088954165447], [\"5eea3033049ce574635fe9a8\", \"WD-76845-039.ome.tif\", 86067983704, 4233.785066604614, 53440585756, null, \"lzw\", 62.09113244686869, null, [\"-8\", \"-t\", \"-w\", \"256\", \"-l\", \"256\", \"-L\"], \"/nvmen1Scratch/origData/htan-tnp-sardana-hms-prerelease-phase-1-data/recompressed/WD-76845-039.lzw.ome.tif\", {\"compressionMethod\": \"lzw\", \"filename\": \"WD-76845-039.ome.tif\", \"fullFilePath\": \"/s3FuseMounts/dgutman-htan-s3-synapse/htan-tnp-sardana-hms-prerelease-phase-1-data/WD-76845-039.ome.tif\", \"outputFile\": \"WD-76845-039.lzw.ome.tif\", \"tileString\": [\"-8\", \"-t\", \"-w\", \"256\", \"-l\", \"256\", \"-L\"]}, 62.09113244686869, 20.328850508470495], [\"5eea335b692e2980bb5fe9ab\", \"WD-76845-006.ome.tif\", 11834429731, 358.8374652862549, 5302035260, null, \"lzw\", 44.801780740743666, null, [\"-8\", \"-t\", \"-w\", \"256\", \"-l\", \"256\", \"-L\"], \"/nvmen1Scratch/origData/htan-tnp-sardana-hms-prerelease-phase-1-data/recompressed/WD-76845-006.lzw.ome.tif\", {\"compressionMethod\": \"lzw\", \"filename\": \"WD-76845-006.ome.tif\", \"fullFilePath\": \"/s3FuseMounts/dgutman-htan-s3-synapse/htan-tnp-sardana-hms-prerelease-phase-1-data/WD-76845-006.ome.tif\", \"outputFile\": \"WD-76845-006.lzw.ome.tif\", \"tileString\": [\"-8\", \"-t\", \"-w\", \"256\", \"-l\", \"256\", \"-L\"]}, 44.801780740743666, 32.979916747431425], [\"5eea3a55049ce574635fe9a9\", \"WD-76845-074.ome.tif\", 74575503064, 2593.189691066742, 47537861266, null, \"lzw\", 63.744606892163304, null, [\"-8\", \"-t\", \"-w\", \"256\", \"-l\", \"256\", \"-L\"], \"/nvmen1Scratch/origData/htan-tnp-sardana-hms-prerelease-phase-1-data/recompressed/WD-76845-074.lzw.ome.tif\", {\"compressionMethod\": \"lzw\", \"filename\": \"WD-76845-074.ome.tif\", \"fullFilePath\": \"/s3FuseMounts/dgutman-htan-s3-synapse/htan-tnp-sardana-hms-prerelease-phase-1-data/WD-76845-074.ome.tif\", \"outputFile\": \"WD-76845-074.lzw.ome.tif\", \"tileString\": [\"-8\", \"-t\", \"-w\", \"256\", \"-l\", \"256\", \"-L\"]}, 63.744606892163304, 28.758213608863457], [\"5eea3c11a6ab30e49fe00725\", \"WD-76845-063.ome.tif\", 11239878067, 295.3778717517853, 5677872514, null, \"lzw\", 50.515428015808205, null, [\"-8\", \"-t\", \"-w\", \"256\", \"-l\", \"256\", \"-L\"], \"/nvmen1Scratch/origData/htan-tnp-sardana-hms-prerelease-phase-1-data/recompressed/WD-76845-063.lzw.ome.tif\", {\"compressionMethod\": \"lzw\", \"filename\": \"WD-76845-063.ome.tif\", \"fullFilePath\": \"/s3FuseMounts/dgutman-htan-s3-synapse/htan-tnp-sardana-hms-prerelease-phase-1-data/WD-76845-063.ome.tif\", \"outputFile\": \"WD-76845-063.lzw.ome.tif\", \"tileString\": [\"-8\", \"-t\", \"-w\", \"256\", \"-l\", \"256\", \"-L\"]}, 50.515428015808205, 38.05253927906015], [\"5eea3e6928bc84a252e00726\", \"WD-76845-053.ome.tif\", 11239878067, 553.3601450920105, 5719560776, null, \"lzw\", 50.88632405001338, null, [\"-8\", \"-t\", \"-w\", \"256\", \"-l\", \"256\", \"-L\"], \"/nvmen1Scratch/origData/htan-tnp-sardana-hms-prerelease-phase-1-data/recompressed/WD-76845-053.lzw.ome.tif\", {\"compressionMethod\": \"lzw\", \"filename\": \"WD-76845-053.ome.tif\", \"fullFilePath\": \"/s3FuseMounts/dgutman-htan-s3-synapse/htan-tnp-sardana-hms-prerelease-phase-1-data/WD-76845-053.ome.tif\", \"outputFile\": \"WD-76845-053.lzw.ome.tif\", \"tileString\": [\"-8\", \"-t\", \"-w\", \"256\", \"-l\", \"256\", \"-L\"]}, 50.88632405001338, 20.31204843119137], [\"5eea4acd87f2d71db8e00725\", \"WD-76845-084.ome.tif\", 74575503064, 4067.20813536644, 47424991864, null, \"lzw\", 63.59325772606631, null, [\"-8\", \"-t\", \"-w\", \"256\", \"-l\", \"256\", \"-L\"], \"/nvmen1Scratch/origData/htan-tnp-sardana-hms-prerelease-phase-1-data/recompressed/WD-76845-084.lzw.ome.tif\", {\"compressionMethod\": \"lzw\", \"filename\": \"WD-76845-084.ome.tif\", \"fullFilePath\": \"/s3FuseMounts/dgutman-htan-s3-synapse/htan-tnp-sardana-hms-prerelease-phase-1-data/WD-76845-084.ome.tif\", \"outputFile\": \"WD-76845-084.lzw.ome.tif\", \"tileString\": [\"-8\", \"-t\", \"-w\", \"256\", \"-l\", \"256\", \"-L\"]}, 63.59325772606631, 18.335797082900218], [\"5eea4ba8f57863fbe4e00725\", \"WD-76845-064.ome.tif\", 79860366424, 4285.834104776382, 50454259642, null, \"lzw\", 63.17809684734586, null, [\"-8\", \"-t\", \"-w\", \"256\", \"-l\", \"256\", \"-L\"], \"/nvmen1Scratch/origData/htan-tnp-sardana-hms-prerelease-phase-1-data/recompressed/WD-76845-064.lzw.ome.tif\", {\"compressionMethod\": \"lzw\", \"filename\": \"WD-76845-064.ome.tif\", \"fullFilePath\": \"/s3FuseMounts/dgutman-htan-s3-synapse/htan-tnp-sardana-hms-prerelease-phase-1-data/WD-76845-064.ome.tif\", \"outputFile\": \"WD-76845-064.lzw.ome.tif\", \"tileString\": [\"-8\", \"-t\", \"-w\", \"256\", \"-l\", \"256\", \"-L\"]}, 63.17809684734586, 18.63356454581361], [\"5eea4d328d45a18a18e00725\", \"WD-76845-050.ome.tif\", 86067983704, 4680.37166929245, 53187594226, null, \"lzw\", 61.79718861420024, null, [\"-8\", \"-t\", \"-w\", \"256\", \"-l\", \"256\", \"-L\"], \"/nvmen1Scratch/origData/htan-tnp-sardana-hms-prerelease-phase-1-data/recompressed/WD-76845-050.lzw.ome.tif\", {\"compressionMethod\": \"lzw\", \"filename\": \"WD-76845-050.ome.tif\", \"fullFilePath\": \"/s3FuseMounts/dgutman-htan-s3-synapse/htan-tnp-sardana-hms-prerelease-phase-1-data/WD-76845-050.ome.tif\", \"outputFile\": \"WD-76845-050.lzw.ome.tif\", \"tileString\": [\"-8\", \"-t\", \"-w\", \"256\", \"-l\", \"256\", \"-L\"]}, 61.79718861420024, 18.38913440756965], [\"5eea4e3ca6ab30e49fe00726\", \"WD-76845-049.ome.tif\", 82209194584, 4650.57892537117, 51724195508, null, \"lzw\", 62.9177743070443, null, [\"-8\", \"-t\", \"-w\", \"256\", \"-l\", \"256\", \"-L\"], \"/nvmen1Scratch/origData/htan-tnp-sardana-hms-prerelease-phase-1-data/recompressed/WD-76845-049.lzw.ome.tif\", {\"compressionMethod\": \"lzw\", \"filename\": \"WD-76845-049.ome.tif\", \"fullFilePath\": \"/s3FuseMounts/dgutman-htan-s3-synapse/htan-tnp-sardana-hms-prerelease-phase-1-data/WD-76845-049.ome.tif\", \"outputFile\": \"WD-76845-049.lzw.ome.tif\", \"tileString\": [\"-8\", \"-t\", \"-w\", \"256\", \"-l\", \"256\", \"-L\"]}, 62.9177743070443, 17.67719587243404], [\"5eea4f8628bc84a252e00727\", \"WD-76845-086.ome.tif\", 77763198424, 4380.983438014984, 48874263426, null, \"lzw\", 62.8501198722762, null, [\"-8\", \"-t\", \"-w\", \"256\", \"-l\", \"256\", \"-L\"], \"/nvmen1Scratch/origData/htan-tnp-sardana-hms-prerelease-phase-1-data/recompressed/WD-76845-086.lzw.ome.tif\", {\"compressionMethod\": \"lzw\", \"filename\": \"WD-76845-086.ome.tif\", \"fullFilePath\": \"/s3FuseMounts/dgutman-htan-s3-synapse/htan-tnp-sardana-hms-prerelease-phase-1-data/WD-76845-086.ome.tif\", \"outputFile\": \"WD-76845-086.lzw.ome.tif\", \"tileString\": [\"-8\", \"-t\", \"-w\", \"256\", \"-l\", \"256\", \"-L\"]}, 62.8501198722762, 17.750169459493407], [\"5eea5a088d45a18a18e00726\", \"WD-76845-051.ome.tif\", 82209194584, 3284.824033021927, 54317245016, null, \"lzw\", 66.0719829343414, null, [\"-8\", \"-t\", \"-w\", \"256\", \"-l\", \"256\", \"-L\"], \"/nvmen1Scratch/origData/htan-tnp-sardana-hms-prerelease-phase-1-data/recompressed/WD-76845-051.lzw.ome.tif\", {\"compressionMethod\": \"lzw\", \"filename\": \"WD-76845-051.ome.tif\", \"fullFilePath\": \"/s3FuseMounts/dgutman-htan-s3-synapse/htan-tnp-sardana-hms-prerelease-phase-1-data/WD-76845-051.ome.tif\", \"outputFile\": \"WD-76845-051.lzw.ome.tif\", \"tileString\": [\"-8\", \"-t\", \"-w\", \"256\", \"-l\", \"256\", \"-L\"]}, 66.0719829343414, 25.02697062538547], [\"5eea5a4aa6ab30e49fe00727\", \"WD-76845-029.ome.tif\", 79860366424, 3085.615531682968, 48644979550, null, \"lzw\", 60.91254238896278, null, [\"-8\", \"-t\", \"-w\", \"256\", \"-l\", \"256\", \"-L\"], \"/nvmen1Scratch/origData/htan-tnp-sardana-hms-prerelease-phase-1-data/recompressed/WD-76845-029.lzw.ome.tif\", {\"compressionMethod\": \"lzw\", \"filename\": \"WD-76845-029.ome.tif\", \"fullFilePath\": \"/s3FuseMounts/dgutman-htan-s3-synapse/htan-tnp-sardana-hms-prerelease-phase-1-data/WD-76845-029.ome.tif\", \"outputFile\": \"WD-76845-029.lzw.ome.tif\", \"tileString\": [\"-8\", \"-t\", \"-w\", \"256\", \"-l\", \"256\", \"-L\"]}, 60.91254238896278, 25.88150260588112]], \"fillcolor\": \"rgba(255,255,255,0)\", \"hoveron\": \"points\", \"hovertemplate\": \"compressionMethod=%{customdata[6]}<br>mbytesPerSec=%{customdata[13]}<br>_id=%{customdata[0]}<br>origFileName=%{customdata[1]}<br>origFileSize=%{customdata[2]}<br>executionTime=%{customdata[3]}<br>compressedFileSize=%{customdata[4]}<br>compressionOptions=%{customdata[5]}<br>compressionRate=%{customdata[7]}<br>outputFileName=%{customdata[8]}<br>tileInfo=%{customdata[9]}<br>outputFileNamewPath=%{customdata[10]}<br>origCompressionDict=%{customdata[11]}<br>compressionRatio=%{customdata[12]}<extra></extra>\", \"jitter\": 0, \"legendgroup\": \"lzw\", \"line\": {\"color\": \"rgba(255,255,255,0)\"}, \"marker\": {\"color\": \"#636efa\", \"symbol\": \"line-ns-open\"}, \"name\": \"lzw\", \"offsetgroup\": \"lzw\", \"showlegend\": false, \"type\": \"box\", \"x\": [96.01757907249561, 112.26619991234321, 98.70715211807044, 67.94263714782879, 73.46766986938384, 95.80496273123536, 101.239249136447, 72.08812427757486, 73.32037926349727, 73.3804541598687, 66.58447119121719, 70.39477442762792, 49.43212403214383, 37.95592850891549, 23.289461404607245, 23.083540915857807, 21.127942564685927, 20.713223836730588, 29.99629000860231, 33.4448107950001, 31.234500099173303, 30.686138367684535, 32.29134011051616, 30.440084447558, 44.899814364214336, 34.61139221057726, 34.17909219600143, 35.493840360891014, 33.47648008261957, 27.390415400234165, 24.395508173747942, 21.515435191794317, 22.099995290155395, 21.78729356583586, 26.734628238270655, 21.924331825345234, 23.432372989511222, 23.759372731474567, 24.224650887607197, 25.08291751523065, 35.86304863795374, 20.51088954165447, 20.328850508470495, 32.979916747431425, 28.758213608863457, 38.05253927906015, 20.31204843119137, 18.335797082900218, 18.63356454581361, 18.38913440756965, 17.67719587243404, 17.750169459493407, 25.02697062538547, 25.88150260588112], \"xaxis\": \"x2\", \"yaxis\": \"y2\"}, {\"alignmentgroup\": \"True\", \"bingroup\": \"x\", \"hovertemplate\": \"compressionMethod=zip<br>mbytesPerSec=%{x}<br>count=%{y}<extra></extra>\", \"legendgroup\": \"zip\", \"marker\": {\"color\": \"#EF553B\", \"opacity\": 0.8}, \"name\": \"zip\", \"nbinsx\": 25, \"offsetgroup\": \"zip\", \"orientation\": \"v\", \"showlegend\": true, \"type\": \"histogram\", \"x\": [15.987362169035354, 31.643992969661763, 35.64230919660516, 13.828222167074484, 27.74826780846198, 16.457458527550024, 15.568144853960089, 10.168252148234217, 23.525540498586683, 25.643290558485937, 10.483680021549663, 10.545120612596028, 10.613388336162137, 14.819684756331494, 29.444782454768834, 22.95951682469373, 10.354852044593272, 16.770657388256556, 23.668537911253093, 32.933490147114824, 23.17412573777944, 15.243013988872242, 14.3206489399868, 9.75234023681209, 9.813289214401403, 19.38377071333008, 22.566965547027014, 25.87236613588999, 22.52544820356679], \"xaxis\": \"x\", \"yaxis\": \"y\"}, {\"alignmentgroup\": \"True\", \"boxpoints\": \"all\", \"customdata\": [[\"5ee8ffa2141a70165aed4920\", \"WD-76845-002.ome.tif\", 94540542424, 5913.4547290802, 46623413560, null, \"zip\", 49.315788088988384, null, [\"-8\", \"-t\", \"-w\", \"256\", \"-l\", \"256\", \"-L\"], \"/nvmen1Scratch/origData/htan-tnp-sardana-hms-prerelease-phase-1-data/recompressed/WD-76845-002.zip.ome.tif\", {\"compressionMethod\": \"zip\", \"filename\": \"WD-76845-002.ome.tif\", \"fullFilePath\": \"/nvmen1Scratch/origData/htan-tnp-sardana-hms-prerelease-phase-1-data/WD-76845-002.ome.tif\", \"outputFile\": \"WD-76845-002.zip.ome.tif\", \"tileString\": [\"-8\", \"-t\", \"-w\", \"256\", \"-l\", \"256\", \"-L\"]}, 49.315788088988384, 15.987362169035354], [\"5ee9159f472cad3ec2fd998e\", \"WD-76845-006.ome.tif\", 11834429731, 373.9866123199463, 4333709684, null, \"zip\", 36.61950581909286, null, [\"-8\", \"-t\", \"-w\", \"256\", \"-l\", \"256\", \"-L\"], \"/nvmen1Scratch/origData/htan-tnp-sardana-hms-prerelease-phase-1-data/recompressed/WD-76845-006.zip.ome.tif\", {\"compressionMethod\": \"zip\", \"filename\": \"WD-76845-006.ome.tif\", \"fullFilePath\": \"/nvmen1Scratch/origData/htan-tnp-sardana-hms-prerelease-phase-1-data/WD-76845-006.ome.tif\", \"outputFile\": \"WD-76845-006.zip.ome.tif\", \"tileString\": [\"-8\", \"-t\", \"-w\", \"256\", \"-l\", \"256\", \"-L\"]}, 36.61950581909286, 31.643992969661763], [\"5ee91890557b784b56fd9991\", \"WD-76845-001.ome.tif\", 13048699267, 366.1013991832733, 4383036850, null, \"zip\", 33.58983727278202, null, [\"-8\", \"-t\", \"-w\", \"256\", \"-l\", \"256\", \"-L\"], \"/nvmen1Scratch/origData/htan-tnp-sardana-hms-prerelease-phase-1-data/recompressed/WD-76845-001.zip.ome.tif\", {\"compressionMethod\": \"zip\", \"filename\": \"WD-76845-001.ome.tif\", \"fullFilePath\": \"/nvmen1Scratch/origData/htan-tnp-sardana-hms-prerelease-phase-1-data/WD-76845-001.ome.tif\", \"outputFile\": \"WD-76845-001.zip.ome.tif\", \"tileString\": [\"-8\", \"-t\", \"-w\", \"256\", \"-l\", \"256\", \"-L\"]}, 33.58983727278202, 35.64230919660516], [\"5ee92c7a31a89af274fd998e\", \"WD-76845-007.ome.tif\", 86067983704, 6224.081640005112, 43466954554, null, \"zip\", 50.503047339285914, null, [\"-8\", \"-t\", \"-w\", \"256\", \"-l\", \"256\", \"-L\"], \"/nvmen1Scratch/origData/htan-tnp-sardana-hms-prerelease-phase-1-data/recompressed/WD-76845-007.zip.ome.tif\", {\"compressionMethod\": \"zip\", \"filename\": \"WD-76845-007.ome.tif\", \"fullFilePath\": \"/nvmen1Scratch/origData/htan-tnp-sardana-hms-prerelease-phase-1-data/WD-76845-007.ome.tif\", \"outputFile\": \"WD-76845-007.zip.ome.tif\", \"tileString\": [\"-8\", \"-t\", \"-w\", \"256\", \"-l\", \"256\", \"-L\"]}, 50.503047339285914, 13.828222167074484], [\"5ee93f5727c36180e3eadeaa\", \"WD-76845-006.ome.tif\", 11834429731, 426.4925584793091, 4333709684, null, \"zip\", 36.61950581909286, null, [\"-8\", \"-t\", \"-w\", \"256\", \"-l\", \"256\", \"-L\"], \"/nvmen1Scratch/origData/htan-tnp-sardana-hms-prerelease-phase-1-data/recompressed/WD-76845-006.zip.ome.tif\", {\"compressionMethod\": \"zip\", \"filename\": \"WD-76845-006.ome.tif\", \"fullFilePath\": \"/s3FuseMounts/dgutman-htan-s3-synapse/htan-tnp-sardana-hms-prerelease-phase-1-data/WD-76845-006.ome.tif\", \"outputFile\": \"WD-76845-006.zip.ome.tif\", \"tileString\": [\"-8\", \"-t\", \"-w\", \"256\", \"-l\", \"256\", \"-L\"]}, 36.61950581909286, 27.74826780846198], [\"5ee955719d5df40196038554\", \"WD-76845-068.ome.tif\", 10812052531, 656.9697570800781, 4276409710, null, \"zip\", 39.55224688132807, null, [\"-8\", \"-t\", \"-w\", \"256\", \"-l\", \"256\", \"-L\"], \"/nvmen1Scratch/origData/htan-tnp-sardana-hms-prerelease-phase-1-data/recompressed/WD-76845-068.zip.ome.tif\", {\"compressionMethod\": \"zip\", \"filename\": \"WD-76845-068.ome.tif\", \"fullFilePath\": \"/s3FuseMounts/dgutman-htan-s3-synapse/htan-tnp-sardana-hms-prerelease-phase-1-data/WD-76845-068.ome.tif\", \"outputFile\": \"WD-76845-068.zip.ome.tif\", \"tileString\": [\"-8\", \"-t\", \"-w\", \"256\", \"-l\", \"256\", \"-L\"]}, 39.55224688132807, 16.457458527550024], [\"5ee95cc11a4aa37fe2038557\", \"WD-76845-090.ome.tif\", 10657909507, 684.5972726345062, 4424538424, null, \"zip\", 41.51413014995118, null, [\"-8\", \"-t\", \"-w\", \"256\", \"-l\", \"256\", \"-L\"], \"/nvmen1Scratch/origData/htan-tnp-sardana-hms-prerelease-phase-1-data/recompressed/WD-76845-090.zip.ome.tif\", {\"compressionMethod\": \"zip\", \"filename\": \"WD-76845-090.ome.tif\", \"fullFilePath\": \"/s3FuseMounts/dgutman-htan-s3-synapse/htan-tnp-sardana-hms-prerelease-phase-1-data/WD-76845-090.ome.tif\", \"outputFile\": \"WD-76845-090.zip.ome.tif\", \"tileString\": [\"-8\", \"-t\", \"-w\", \"256\", \"-l\", \"256\", \"-L\"]}, 41.51413014995118, 15.568144853960089], [\"5ee973eb07c5288327038555\", \"WD-76845-102.ome.tif\", 77763198424, 7647.646546363831, 39832202266, null, \"zip\", 51.222433070225435, null, [\"-8\", \"-t\", \"-w\", \"256\", \"-l\", \"256\", \"-L\"], \"/nvmen1Scratch/origData/htan-tnp-sardana-hms-prerelease-phase-1-data/recompressed/WD-76845-102.zip.ome.tif\", {\"compressionMethod\": \"zip\", \"filename\": \"WD-76845-102.ome.tif\", \"fullFilePath\": \"/s3FuseMounts/dgutman-htan-s3-synapse/htan-tnp-sardana-hms-prerelease-phase-1-data/WD-76845-102.ome.tif\", \"outputFile\": \"WD-76845-102.zip.ome.tif\", \"tileString\": [\"-8\", \"-t\", \"-w\", \"256\", \"-l\", \"256\", \"-L\"]}, 51.222433070225435, 10.168252148234217], [\"5ee975c907c5288327038556\", \"WD-76845-058.ome.tif\", 11239878067, 477.77342534065247, 4546828394, null, \"zip\", 40.45264874669214, null, [\"-8\", \"-t\", \"-w\", \"256\", \"-l\", \"256\", \"-L\"], \"/nvmen1Scratch/origData/htan-tnp-sardana-hms-prerelease-phase-1-data/recompressed/WD-76845-058.zip.ome.tif\", {\"compressionMethod\": \"zip\", \"filename\": \"WD-76845-058.ome.tif\", \"fullFilePath\": \"/s3FuseMounts/dgutman-htan-s3-synapse/htan-tnp-sardana-hms-prerelease-phase-1-data/WD-76845-058.ome.tif\", \"outputFile\": \"WD-76845-058.zip.ome.tif\", \"tileString\": [\"-8\", \"-t\", \"-w\", \"256\", \"-l\", \"256\", \"-L\"]}, 40.45264874669214, 23.525540498586683], [\"5ee9783f9d5df40196038556\", \"WD-76845-013.ome.tif\", 12727830115, 496.34153175354004, 4625260492, null, \"zip\", 36.33974094727301, null, [\"-8\", \"-t\", \"-w\", \"256\", \"-l\", \"256\", \"-L\"], \"/nvmen1Scratch/origData/htan-tnp-sardana-hms-prerelease-phase-1-data/recompressed/WD-76845-013.zip.ome.tif\", {\"compressionMethod\": \"zip\", \"filename\": \"WD-76845-013.ome.tif\", \"fullFilePath\": \"/s3FuseMounts/dgutman-htan-s3-synapse/htan-tnp-sardana-hms-prerelease-phase-1-data/WD-76845-013.ome.tif\", \"outputFile\": \"WD-76845-013.zip.ome.tif\", \"tileString\": [\"-8\", \"-t\", \"-w\", \"256\", \"-l\", \"256\", \"-L\"]}, 36.33974094727301, 25.643290558485937], [\"5ee97a8c1a4aa37fe2038559\", \"WD-76845-078.ome.tif\", 74575503064, 7113.485237121582, 38387183772, null, \"zip\", 51.4742538700094, null, [\"-8\", \"-t\", \"-w\", \"256\", \"-l\", \"256\", \"-L\"], \"/nvmen1Scratch/origData/htan-tnp-sardana-hms-prerelease-phase-1-data/recompressed/WD-76845-078.zip.ome.tif\", {\"compressionMethod\": \"zip\", \"filename\": \"WD-76845-078.ome.tif\", \"fullFilePath\": \"/s3FuseMounts/dgutman-htan-s3-synapse/htan-tnp-sardana-hms-prerelease-phase-1-data/WD-76845-078.ome.tif\", \"outputFile\": \"WD-76845-078.zip.ome.tif\", \"tileString\": [\"-8\", \"-t\", \"-w\", \"256\", \"-l\", \"256\", \"-L\"]}, 51.4742538700094, 10.483680021549663], [\"5ee980c01e0218235a038555\", \"WD-76845-054.ome.tif\", 80028139864, 7589.115649223328, 40815908114, null, \"zip\", 51.001945294945806, null, [\"-8\", \"-t\", \"-w\", \"256\", \"-l\", \"256\", \"-L\"], \"/nvmen1Scratch/origData/htan-tnp-sardana-hms-prerelease-phase-1-data/recompressed/WD-76845-054.zip.ome.tif\", {\"compressionMethod\": \"zip\", \"filename\": \"WD-76845-054.ome.tif\", \"fullFilePath\": \"/s3FuseMounts/dgutman-htan-s3-synapse/htan-tnp-sardana-hms-prerelease-phase-1-data/WD-76845-054.ome.tif\", \"outputFile\": \"WD-76845-054.zip.ome.tif\", \"tileString\": [\"-8\", \"-t\", \"-w\", \"256\", \"-l\", \"256\", \"-L\"]}, 51.001945294945806, 10.545120612596028], [\"5ee9834bc8c1e225d3038556\", \"WD-76845-050.ome.tif\", 86067983704, 8109.37854886055, 43781819440, null, \"zip\", 50.86888010595425, null, [\"-8\", \"-t\", \"-w\", \"256\", \"-l\", \"256\", \"-L\"], \"/nvmen1Scratch/origData/htan-tnp-sardana-hms-prerelease-phase-1-data/recompressed/WD-76845-050.zip.ome.tif\", {\"compressionMethod\": \"zip\", \"filename\": \"WD-76845-050.ome.tif\", \"fullFilePath\": \"/s3FuseMounts/dgutman-htan-s3-synapse/htan-tnp-sardana-hms-prerelease-phase-1-data/WD-76845-050.ome.tif\", \"outputFile\": \"WD-76845-050.zip.ome.tif\", \"tileString\": [\"-8\", \"-t\", \"-w\", \"256\", \"-l\", \"256\", \"-L\"]}, 50.86888010595425, 10.613388336162137], [\"5ee9a5cf1a4aa37fe203855b\", \"WD-76845-034.ome.tif\", 88249038424, 5954.852608203888, 45867260028, null, \"zip\", 51.97479864610746, null, [\"-8\", \"-t\", \"-w\", \"256\", \"-l\", \"256\", \"-L\"], \"/nvmen1Scratch/origData/htan-tnp-sardana-hms-prerelease-phase-1-data/recompressed/WD-76845-034.zip.ome.tif\", {\"compressionMethod\": \"zip\", \"filename\": \"WD-76845-034.ome.tif\", \"fullFilePath\": \"/s3FuseMounts/dgutman-htan-s3-synapse/htan-tnp-sardana-hms-prerelease-phase-1-data/WD-76845-034.ome.tif\", \"outputFile\": \"WD-76845-034.zip.ome.tif\", \"tileString\": [\"-8\", \"-t\", \"-w\", \"256\", \"-l\", \"256\", \"-L\"]}, 51.97479864610746, 14.819684756331494], [\"5eea00e3b5f447f61e5fe9a3\", \"WD-76845-019.ome.tif\", 13674708691, 464.418737411499, 4766458344, null, \"zip\", 34.8560137674965, null, [\"-8\", \"-t\", \"-w\", \"256\", \"-l\", \"256\", \"-L\"], \"/nvmen1Scratch/origData/htan-tnp-sardana-hms-prerelease-phase-1-data/recompressed/WD-76845-019.zip.ome.tif\", {\"compressionMethod\": \"zip\", \"filename\": \"WD-76845-019.ome.tif\", \"fullFilePath\": \"/s3FuseMounts/dgutman-htan-s3-synapse/htan-tnp-sardana-hms-prerelease-phase-1-data/WD-76845-019.ome.tif\", \"outputFile\": \"WD-76845-019.zip.ome.tif\", \"tileString\": [\"-8\", \"-t\", \"-w\", \"256\", \"-l\", \"256\", \"-L\"]}, 34.8560137674965, 29.444782454768834], [\"5eea00fb692e2980bb5fe9a3\", \"WD-76845-101.ome.tif\", 11221003432, 488.72994661331177, 4350179580, null, \"zip\", 38.76818687706823, null, [\"-8\", \"-t\", \"-w\", \"256\", \"-l\", \"256\", \"-L\"], \"/nvmen1Scratch/origData/htan-tnp-sardana-hms-prerelease-phase-1-data/recompressed/WD-76845-101.zip.ome.tif\", {\"compressionMethod\": \"zip\", \"filename\": \"WD-76845-101.ome.tif\", \"fullFilePath\": \"/s3FuseMounts/dgutman-htan-s3-synapse/htan-tnp-sardana-hms-prerelease-phase-1-data/WD-76845-101.ome.tif\", \"outputFile\": \"WD-76845-101.zip.ome.tif\", \"tileString\": [\"-8\", \"-t\", \"-w\", \"256\", \"-l\", \"256\", \"-L\"]}, 38.76818687706823, 22.95951682469373], [\"5eea22fbb5f447f61e5fe9a6\", \"WD-76845-097.ome.tif\", 80028139864, 7728.564301967621, 41384860222, null, \"zip\", 51.71288535798724, null, [\"-8\", \"-t\", \"-w\", \"256\", \"-l\", \"256\", \"-L\"], \"/nvmen1Scratch/origData/htan-tnp-sardana-hms-prerelease-phase-1-data/recompressed/WD-76845-097.zip.ome.tif\", {\"compressionMethod\": \"zip\", \"filename\": \"WD-76845-097.ome.tif\", \"fullFilePath\": \"/s3FuseMounts/dgutman-htan-s3-synapse/htan-tnp-sardana-hms-prerelease-phase-1-data/WD-76845-097.ome.tif\", \"outputFile\": \"WD-76845-097.zip.ome.tif\", \"tileString\": [\"-8\", \"-t\", \"-w\", \"256\", \"-l\", \"256\", \"-L\"]}, 51.71288535798724, 10.354852044593272], [\"5eea31f4692e2980bb5fe9aa\", \"WD-76845-001.ome.tif\", 13048699267, 778.0672495365143, 4383036850, null, \"zip\", 33.58983727278202, null, [\"-8\", \"-t\", \"-w\", \"256\", \"-l\", \"256\", \"-L\"], \"/nvmen1Scratch/origData/htan-tnp-sardana-hms-prerelease-phase-1-data/recompressed/WD-76845-001.zip.ome.tif\", {\"compressionMethod\": \"zip\", \"filename\": \"WD-76845-001.ome.tif\", \"fullFilePath\": \"/s3FuseMounts/dgutman-htan-s3-synapse/htan-tnp-sardana-hms-prerelease-phase-1-data/WD-76845-001.ome.tif\", \"outputFile\": \"WD-76845-001.zip.ome.tif\", \"tileString\": [\"-8\", \"-t\", \"-w\", \"256\", \"-l\", \"256\", \"-L\"]}, 33.58983727278202, 16.770657388256556], [\"5eea37fc7a359007b45fe9a7\", \"WD-76845-048.ome.tif\", 12067217155, 509.8421034812927, 4687758958, null, \"zip\", 38.847058918282976, null, [\"-8\", \"-t\", \"-w\", \"256\", \"-l\", \"256\", \"-L\"], \"/nvmen1Scratch/origData/htan-tnp-sardana-hms-prerelease-phase-1-data/recompressed/WD-76845-048.zip.ome.tif\", {\"compressionMethod\": \"zip\", \"filename\": \"WD-76845-048.ome.tif\", \"fullFilePath\": \"/s3FuseMounts/dgutman-htan-s3-synapse/htan-tnp-sardana-hms-prerelease-phase-1-data/WD-76845-048.ome.tif\", \"outputFile\": \"WD-76845-048.zip.ome.tif\", \"tileString\": [\"-8\", \"-t\", \"-w\", \"256\", \"-l\", \"256\", \"-L\"]}, 38.847058918282976, 23.668537911253093], [\"5eea3c3f28bc84a252e00725\", \"WD-76845-063.ome.tif\", 11239878067, 341.2902190685272, 4652573116, null, \"zip\", 41.39344829424652, null, [\"-8\", \"-t\", \"-w\", \"256\", \"-l\", \"256\", \"-L\"], \"/nvmen1Scratch/origData/htan-tnp-sardana-hms-prerelease-phase-1-data/recompressed/WD-76845-063.zip.ome.tif\", {\"compressionMethod\": \"zip\", \"filename\": \"WD-76845-063.ome.tif\", \"fullFilePath\": \"/s3FuseMounts/dgutman-htan-s3-synapse/htan-tnp-sardana-hms-prerelease-phase-1-data/WD-76845-063.ome.tif\", \"outputFile\": \"WD-76845-063.zip.ome.tif\", \"tileString\": [\"-8\", \"-t\", \"-w\", \"256\", \"-l\", \"256\", \"-L\"]}, 41.39344829424652, 32.933490147114824], [\"5eea3ce807b8d638b9e00725\", \"WD-76845-024.ome.tif\", 11834429731, 510.6742694377899, 4738029784, null, \"zip\", 40.03597884897526, null, [\"-8\", \"-t\", \"-w\", \"256\", \"-l\", \"256\", \"-L\"], \"/nvmen1Scratch/origData/htan-tnp-sardana-hms-prerelease-phase-1-data/recompressed/WD-76845-024.zip.ome.tif\", {\"compressionMethod\": \"zip\", \"filename\": \"WD-76845-024.ome.tif\", \"fullFilePath\": \"/s3FuseMounts/dgutman-htan-s3-synapse/htan-tnp-sardana-hms-prerelease-phase-1-data/WD-76845-024.ome.tif\", \"outputFile\": \"WD-76845-024.zip.ome.tif\", \"tileString\": [\"-8\", \"-t\", \"-w\", \"256\", \"-l\", \"256\", \"-L\"]}, 40.03597884897526, 23.17412573777944], [\"5eea3fc907b8d638b9e00726\", \"WD-76845-077.ome.tif\", 11221003411, 736.1407277584076, 4374319768, null, \"zip\", 38.983320900801395, null, [\"-8\", \"-t\", \"-w\", \"256\", \"-l\", \"256\", \"-L\"], \"/nvmen1Scratch/origData/htan-tnp-sardana-hms-prerelease-phase-1-data/recompressed/WD-76845-077.zip.ome.tif\", {\"compressionMethod\": \"zip\", \"filename\": \"WD-76845-077.ome.tif\", \"fullFilePath\": \"/s3FuseMounts/dgutman-htan-s3-synapse/htan-tnp-sardana-hms-prerelease-phase-1-data/WD-76845-077.ome.tif\", \"outputFile\": \"WD-76845-077.zip.ome.tif\", \"tileString\": [\"-8\", \"-t\", \"-w\", \"256\", \"-l\", \"256\", \"-L\"]}, 38.983320900801395, 15.243013988872242], [\"5eea4d9b87f2d71db8e00726\", \"WD-76845-083.ome.tif\", 10270979059, 717.2146389484406, 4449609478, null, \"zip\", 43.32215509777528, null, [\"-8\", \"-t\", \"-w\", \"256\", \"-l\", \"256\", \"-L\"], \"/nvmen1Scratch/origData/htan-tnp-sardana-hms-prerelease-phase-1-data/recompressed/WD-76845-083.zip.ome.tif\", {\"compressionMethod\": \"zip\", \"filename\": \"WD-76845-083.ome.tif\", \"fullFilePath\": \"/s3FuseMounts/dgutman-htan-s3-synapse/htan-tnp-sardana-hms-prerelease-phase-1-data/WD-76845-083.ome.tif\", \"outputFile\": \"WD-76845-083.zip.ome.tif\", \"tileString\": [\"-8\", \"-t\", \"-w\", \"256\", \"-l\", \"256\", \"-L\"]}, 43.32215509777528, 14.3206489399868], [\"5eea5a10c437a94ce9e00725\", \"WD-76845-014.ome.tif\", 77763198424, 7973.798753499985, 38777338962, null, \"zip\", 49.86592597512319, null, [\"-8\", \"-t\", \"-w\", \"256\", \"-l\", \"256\", \"-L\"], \"/nvmen1Scratch/origData/htan-tnp-sardana-hms-prerelease-phase-1-data/recompressed/WD-76845-014.zip.ome.tif\", {\"compressionMethod\": \"zip\", \"filename\": \"WD-76845-014.ome.tif\", \"fullFilePath\": \"/s3FuseMounts/dgutman-htan-s3-synapse/htan-tnp-sardana-hms-prerelease-phase-1-data/WD-76845-014.ome.tif\", \"outputFile\": \"WD-76845-014.zip.ome.tif\", \"tileString\": [\"-8\", \"-t\", \"-w\", \"256\", \"-l\", \"256\", \"-L\"]}, 49.86592597512319, 9.75234023681209], [\"5eea5ab4485aac8111e00725\", \"WD-76845-029.ome.tif\", 79860366424, 8137.981534957886, 40213599020, null, \"zip\", 50.354889190584565, null, [\"-8\", \"-t\", \"-w\", \"256\", \"-l\", \"256\", \"-L\"], \"/nvmen1Scratch/origData/htan-tnp-sardana-hms-prerelease-phase-1-data/recompressed/WD-76845-029.zip.ome.tif\", {\"compressionMethod\": \"zip\", \"filename\": \"WD-76845-029.ome.tif\", \"fullFilePath\": \"/s3FuseMounts/dgutman-htan-s3-synapse/htan-tnp-sardana-hms-prerelease-phase-1-data/WD-76845-029.ome.tif\", \"outputFile\": \"WD-76845-029.zip.ome.tif\", \"tileString\": [\"-8\", \"-t\", \"-w\", \"256\", \"-l\", \"256\", \"-L\"]}, 50.354889190584565, 9.813289214401403], [\"5eea5c90a6ab30e49fe00728\", \"WD-76845-053.ome.tif\", 11239878067, 579.8602466583252, 4662752796, null, \"zip\", 41.48401582477772, null, [\"-8\", \"-t\", \"-w\", \"256\", \"-l\", \"256\", \"-L\"], \"/nvmen1Scratch/origData/htan-tnp-sardana-hms-prerelease-phase-1-data/recompressed/WD-76845-053.zip.ome.tif\", {\"compressionMethod\": \"zip\", \"filename\": \"WD-76845-053.ome.tif\", \"fullFilePath\": \"/s3FuseMounts/dgutman-htan-s3-synapse/htan-tnp-sardana-hms-prerelease-phase-1-data/WD-76845-053.ome.tif\", \"outputFile\": \"WD-76845-053.zip.ome.tif\", \"tileString\": [\"-8\", \"-t\", \"-w\", \"256\", \"-l\", \"256\", \"-L\"]}, 41.48401582477772, 19.38377071333008], [\"5eea5cd507b8d638b9e00728\", \"WD-76845-033.ome.tif\", 12715247011, 563.4451377391815, 4779749076, null, \"zip\", 37.59068991632663, null, [\"-8\", \"-t\", \"-w\", \"256\", \"-l\", \"256\", \"-L\"], \"/nvmen1Scratch/origData/htan-tnp-sardana-hms-prerelease-phase-1-data/recompressed/WD-76845-033.zip.ome.tif\", {\"compressionMethod\": \"zip\", \"filename\": \"WD-76845-033.ome.tif\", \"fullFilePath\": \"/s3FuseMounts/dgutman-htan-s3-synapse/htan-tnp-sardana-hms-prerelease-phase-1-data/WD-76845-033.ome.tif\", \"outputFile\": \"WD-76845-033.zip.ome.tif\", \"tileString\": [\"-8\", \"-t\", \"-w\", \"256\", \"-l\", \"256\", \"-L\"]}, 37.59068991632663, 22.566965547027014], [\"5eea5e8e07b8d638b9e00729\", \"WD-76845-085.ome.tif\", 11384583763, 440.0287048816681, 4650921526, null, \"zip\", 40.85280255142517, null, [\"-8\", \"-t\", \"-w\", \"256\", \"-l\", \"256\", \"-L\"], \"/nvmen1Scratch/origData/htan-tnp-sardana-hms-prerelease-phase-1-data/recompressed/WD-76845-085.zip.ome.tif\", {\"compressionMethod\": \"zip\", \"filename\": \"WD-76845-085.ome.tif\", \"fullFilePath\": \"/s3FuseMounts/dgutman-htan-s3-synapse/htan-tnp-sardana-hms-prerelease-phase-1-data/WD-76845-085.ome.tif\", \"outputFile\": \"WD-76845-085.zip.ome.tif\", \"tileString\": [\"-8\", \"-t\", \"-w\", \"256\", \"-l\", \"256\", \"-L\"]}, 40.85280255142517, 25.87236613588999], [\"5eea6f7528bc84a252e0072a\", \"WD-76845-038.ome.tif\", 12079800259, 536.2734694480896, 4692569952, null, \"zip\", 38.846420068111826, null, [\"-8\", \"-t\", \"-w\", \"256\", \"-l\", \"256\", \"-L\"], \"/nvmen1Scratch/origData/htan-tnp-sardana-hms-prerelease-phase-1-data/recompressed/WD-76845-038.zip.ome.tif\", {\"compressionMethod\": \"zip\", \"filename\": \"WD-76845-038.ome.tif\", \"fullFilePath\": \"/s3FuseMounts/dgutman-htan-s3-synapse/htan-tnp-sardana-hms-prerelease-phase-1-data/WD-76845-038.ome.tif\", \"outputFile\": \"WD-76845-038.zip.ome.tif\", \"tileString\": [\"-8\", \"-t\", \"-w\", \"256\", \"-l\", \"256\", \"-L\"]}, 38.846420068111826, 22.52544820356679]], \"fillcolor\": \"rgba(255,255,255,0)\", \"hoveron\": \"points\", \"hovertemplate\": \"compressionMethod=%{customdata[6]}<br>mbytesPerSec=%{customdata[13]}<br>_id=%{customdata[0]}<br>origFileName=%{customdata[1]}<br>origFileSize=%{customdata[2]}<br>executionTime=%{customdata[3]}<br>compressedFileSize=%{customdata[4]}<br>compressionOptions=%{customdata[5]}<br>compressionRate=%{customdata[7]}<br>outputFileName=%{customdata[8]}<br>tileInfo=%{customdata[9]}<br>outputFileNamewPath=%{customdata[10]}<br>origCompressionDict=%{customdata[11]}<br>compressionRatio=%{customdata[12]}<extra></extra>\", \"jitter\": 0, \"legendgroup\": \"zip\", \"line\": {\"color\": \"rgba(255,255,255,0)\"}, \"marker\": {\"color\": \"#EF553B\", \"symbol\": \"line-ns-open\"}, \"name\": \"zip\", \"offsetgroup\": \"zip\", \"showlegend\": false, \"type\": \"box\", \"x\": [15.987362169035354, 31.643992969661763, 35.64230919660516, 13.828222167074484, 27.74826780846198, 16.457458527550024, 15.568144853960089, 10.168252148234217, 23.525540498586683, 25.643290558485937, 10.483680021549663, 10.545120612596028, 10.613388336162137, 14.819684756331494, 29.444782454768834, 22.95951682469373, 10.354852044593272, 16.770657388256556, 23.668537911253093, 32.933490147114824, 23.17412573777944, 15.243013988872242, 14.3206489399868, 9.75234023681209, 9.813289214401403, 19.38377071333008, 22.566965547027014, 25.87236613588999, 22.52544820356679], \"xaxis\": \"x2\", \"yaxis\": \"y2\"}, {\"alignmentgroup\": \"True\", \"bingroup\": \"x\", \"hovertemplate\": \"compressionMethod=zip:2<br>mbytesPerSec=%{x}<br>count=%{y}<extra></extra>\", \"legendgroup\": \"zip:2\", \"marker\": {\"color\": \"#00cc96\", \"opacity\": 0.8}, \"name\": \"zip:2\", \"nbinsx\": 25, \"offsetgroup\": \"zip:2\", \"orientation\": \"v\", \"showlegend\": true, \"type\": \"histogram\", \"x\": [29.75241318061371, 33.55760479048339, 15.395585741094076, 15.53546887908482, 16.83950377439059, 15.041447395992432, 13.529136095912605, 14.198593497997965, 14.870562064364384, 20.93539898435665, 10.473403939726337, 10.275602650111088, 10.680531181804964, 10.669195936240621, 22.94647761839301, 22.96716221419569, 16.280165117430254, 33.14621393188132, 15.59747533008898, 18.046956477919693, 19.758483343101396, 11.749519510272426, 11.471483967099775, 20.717114925480587, 17.747317726013506, 10.723531188270355, 20.940336131020427, 10.548104712684601, 19.715053103116944, 11.283593795735596, 11.083414368577957, 20.980644723580262, 10.851678473446762, 18.729042470818364, 18.823953763863596, 11.853974320896707, 11.372796991331015, 11.30948972924091, 11.209308971971575], \"xaxis\": \"x\", \"yaxis\": \"y\"}, {\"alignmentgroup\": \"True\", \"boxpoints\": \"all\", \"customdata\": [[\"5ee91669557b784b56fd998f\", \"WD-76845-006.ome.tif\", 11834429731, 397.7636926174164, 3728378900, null, \"zip:2\", 31.504508326527997, null, [\"-8\", \"-t\", \"-w\", \"256\", \"-l\", \"256\", \"-L\"], \"/nvmen1Scratch/origData/htan-tnp-sardana-hms-prerelease-phase-1-data/recompressed/WD-76845-006.zip:2.ome.tif\", {\"compressionMethod\": \"zip:2\", \"filename\": \"WD-76845-006.ome.tif\", \"fullFilePath\": \"/nvmen1Scratch/origData/htan-tnp-sardana-hms-prerelease-phase-1-data/WD-76845-006.ome.tif\", \"outputFile\": \"WD-76845-006.zip:2.ome.tif\", \"tileString\": [\"-8\", \"-t\", \"-w\", \"256\", \"-l\", \"256\", \"-L\"]}, 31.504508326527997, 29.75241318061371], [\"5ee91a15557b784b56fd9992\", \"WD-76845-001.ome.tif\", 13048699267, 388.8447744846344, 3777805572, null, \"zip:2\", 28.951587393496176, null, [\"-8\", \"-t\", \"-w\", \"256\", \"-l\", \"256\", \"-L\"], \"/nvmen1Scratch/origData/htan-tnp-sardana-hms-prerelease-phase-1-data/recompressed/WD-76845-001.zip:2.ome.tif\", {\"compressionMethod\": \"zip:2\", \"filename\": \"WD-76845-001.ome.tif\", \"fullFilePath\": \"/nvmen1Scratch/origData/htan-tnp-sardana-hms-prerelease-phase-1-data/WD-76845-001.ome.tif\", \"outputFile\": \"WD-76845-001.zip:2.ome.tif\", \"tileString\": [\"-8\", \"-t\", \"-w\", \"256\", \"-l\", \"256\", \"-L\"]}, 28.951587393496176, 33.55760479048339], [\"5ee92a003665612659fd998e\", \"WD-76845-007.ome.tif\", 86067983704, 5590.432553291321, 43006730018, null, \"zip:2\", 49.96832523218651, null, [\"-8\", \"-t\", \"-w\", \"256\", \"-l\", \"256\", \"-L\"], \"/nvmen1Scratch/origData/htan-tnp-sardana-hms-prerelease-phase-1-data/recompressed/WD-76845-007.zip:2.ome.tif\", {\"compressionMethod\": \"zip:2\", \"filename\": \"WD-76845-007.ome.tif\", \"fullFilePath\": \"/nvmen1Scratch/origData/htan-tnp-sardana-hms-prerelease-phase-1-data/WD-76845-007.ome.tif\", \"outputFile\": \"WD-76845-007.zip:2.ome.tif\", \"tileString\": [\"-8\", \"-t\", \"-w\", \"256\", \"-l\", \"256\", \"-L\"]}, 49.96832523218651, 15.395585741094076], [\"5ee92bef715184fcc2fd998e\", \"WD-76845-002.ome.tif\", 94540542424, 6085.464375734329, 46342524968, null, \"zip:2\", 49.01867894956727, null, [\"-8\", \"-t\", \"-w\", \"256\", \"-l\", \"256\", \"-L\"], \"/nvmen1Scratch/origData/htan-tnp-sardana-hms-prerelease-phase-1-data/recompressed/WD-76845-002.zip:2.ome.tif\", {\"compressionMethod\": \"zip:2\", \"filename\": \"WD-76845-002.ome.tif\", \"fullFilePath\": \"/nvmen1Scratch/origData/htan-tnp-sardana-hms-prerelease-phase-1-data/WD-76845-002.ome.tif\", \"outputFile\": \"WD-76845-002.zip:2.ome.tif\", \"tileString\": [\"-8\", \"-t\", \"-w\", \"256\", \"-l\", \"256\", \"-L\"]}, 49.01867894956727, 15.53546887908482], [\"5ee949e04e7ed2ebe2eadea9\", \"WD-76845-002.ome.tif\", 94540542424, 5614.211896657944, 46342524968, null, \"zip:2\", 49.01867894956727, null, [\"-8\", \"-t\", \"-w\", \"256\", \"-l\", \"256\", \"-L\"], \"/nvmen1Scratch/origData/htan-tnp-sardana-hms-prerelease-phase-1-data/recompressed/WD-76845-002.zip:2.ome.tif\", {\"compressionMethod\": \"zip:2\", \"filename\": \"WD-76845-002.ome.tif\", \"fullFilePath\": \"/s3FuseMounts/dgutman-htan-s3-synapse/htan-tnp-sardana-hms-prerelease-phase-1-data/WD-76845-002.ome.tif\", \"outputFile\": \"WD-76845-002.zip:2.ome.tif\", \"tileString\": [\"-8\", \"-t\", \"-w\", \"256\", \"-l\", \"256\", \"-L\"]}, 49.01867894956727, 16.83950377439059], [\"5ee94a4c84b2483271eadea9\", \"WD-76845-007.ome.tif\", 86067983704, 5722.054629325867, 43006730018, null, \"zip:2\", 49.96832523218651, null, [\"-8\", \"-t\", \"-w\", \"256\", \"-l\", \"256\", \"-L\"], \"/nvmen1Scratch/origData/htan-tnp-sardana-hms-prerelease-phase-1-data/recompressed/WD-76845-007.zip:2.ome.tif\", {\"compressionMethod\": \"zip:2\", \"filename\": \"WD-76845-007.ome.tif\", \"fullFilePath\": \"/s3FuseMounts/dgutman-htan-s3-synapse/htan-tnp-sardana-hms-prerelease-phase-1-data/WD-76845-007.ome.tif\", \"outputFile\": \"WD-76845-007.zip:2.ome.tif\", \"tileString\": [\"-8\", \"-t\", \"-w\", \"256\", \"-l\", \"256\", \"-L\"]}, 49.96832523218651, 15.041447395992432], [\"5ee955db492ea78385038554\", \"WD-76845-105.ome.tif\", 10327603048, 763.3601269721985, 3689431494, null, \"zip:2\", 35.72398626140535, null, [\"-8\", \"-t\", \"-w\", \"256\", \"-l\", \"256\", \"-L\"], \"/nvmen1Scratch/origData/htan-tnp-sardana-hms-prerelease-phase-1-data/recompressed/WD-76845-105.zip:2.ome.tif\", {\"compressionMethod\": \"zip:2\", \"filename\": \"WD-76845-105.ome.tif\", \"fullFilePath\": \"/s3FuseMounts/dgutman-htan-s3-synapse/htan-tnp-sardana-hms-prerelease-phase-1-data/WD-76845-105.ome.tif\", \"outputFile\": \"WD-76845-105.zip:2.ome.tif\", \"tileString\": [\"-8\", \"-t\", \"-w\", \"256\", \"-l\", \"256\", \"-L\"]}, 35.72398626140535, 13.529136095912605], [\"5ee955f61a4aa37fe2038554\", \"WD-76845-101.ome.tif\", 11221003432, 790.2897870540619, 3722555056, null, \"zip:2\", 33.17488563798168, null, [\"-8\", \"-t\", \"-w\", \"256\", \"-l\", \"256\", \"-L\"], \"/nvmen1Scratch/origData/htan-tnp-sardana-hms-prerelease-phase-1-data/recompressed/WD-76845-101.zip:2.ome.tif\", {\"compressionMethod\": \"zip:2\", \"filename\": \"WD-76845-101.ome.tif\", \"fullFilePath\": \"/s3FuseMounts/dgutman-htan-s3-synapse/htan-tnp-sardana-hms-prerelease-phase-1-data/WD-76845-101.ome.tif\", \"outputFile\": \"WD-76845-101.zip:2.ome.tif\", \"tileString\": [\"-8\", \"-t\", \"-w\", \"256\", \"-l\", \"256\", \"-L\"]}, 33.17488563798168, 14.198593497997965], [\"5ee9560c07c5288327038554\", \"WD-76845-048.ome.tif\", 12067217155, 811.483594417572, 3976615856, null, \"zip:2\", 32.95387664712992, null, [\"-8\", \"-t\", \"-w\", \"256\", \"-l\", \"256\", \"-L\"], \"/nvmen1Scratch/origData/htan-tnp-sardana-hms-prerelease-phase-1-data/recompressed/WD-76845-048.zip:2.ome.tif\", {\"compressionMethod\": \"zip:2\", \"filename\": \"WD-76845-048.ome.tif\", \"fullFilePath\": \"/s3FuseMounts/dgutman-htan-s3-synapse/htan-tnp-sardana-hms-prerelease-phase-1-data/WD-76845-048.ome.tif\", \"outputFile\": \"WD-76845-048.zip:2.ome.tif\", \"tileString\": [\"-8\", \"-t\", \"-w\", \"256\", \"-l\", \"256\", \"-L\"]}, 32.95387664712992, 14.870562064364384], [\"5ee95a141a4aa37fe2038556\", \"WD-76845-024.ome.tif\", 11834429731, 565.2832190990448, 3972159554, null, \"zip:2\", 33.56443567022943, null, [\"-8\", \"-t\", \"-w\", \"256\", \"-l\", \"256\", \"-L\"], \"/nvmen1Scratch/origData/htan-tnp-sardana-hms-prerelease-phase-1-data/recompressed/WD-76845-024.zip:2.ome.tif\", {\"compressionMethod\": \"zip:2\", \"filename\": \"WD-76845-024.ome.tif\", \"fullFilePath\": \"/s3FuseMounts/dgutman-htan-s3-synapse/htan-tnp-sardana-hms-prerelease-phase-1-data/WD-76845-024.ome.tif\", \"outputFile\": \"WD-76845-024.zip:2.ome.tif\", \"tileString\": [\"-8\", \"-t\", \"-w\", \"256\", \"-l\", \"256\", \"-L\"]}, 33.56443567022943, 20.93539898435665], [\"5ee96fe107c5a13130038554\", \"WD-76845-014.ome.tif\", 77763198424, 7424.825670003891, 38302814796, null, \"zip:2\", 49.255709091536836, null, [\"-8\", \"-t\", \"-w\", \"256\", \"-l\", \"256\", \"-L\"], \"/nvmen1Scratch/origData/htan-tnp-sardana-hms-prerelease-phase-1-data/recompressed/WD-76845-014.zip:2.ome.tif\", {\"compressionMethod\": \"zip:2\", \"filename\": \"WD-76845-014.ome.tif\", \"fullFilePath\": \"/s3FuseMounts/dgutman-htan-s3-synapse/htan-tnp-sardana-hms-prerelease-phase-1-data/WD-76845-014.ome.tif\", \"outputFile\": \"WD-76845-014.zip:2.ome.tif\", \"tileString\": [\"-8\", \"-t\", \"-w\", \"256\", \"-l\", \"256\", \"-L\"]}, 49.255709091536836, 10.473403939726337], [\"5ee9739829adeff7e7038554\", \"WD-76845-059.ome.tif\", 86067983704, 8375.954835414886, 43147894010, null, \"zip:2\", 50.13233975410848, null, [\"-8\", \"-t\", \"-w\", \"256\", \"-l\", \"256\", \"-L\"], \"/nvmen1Scratch/origData/htan-tnp-sardana-hms-prerelease-phase-1-data/recompressed/WD-76845-059.zip:2.ome.tif\", {\"compressionMethod\": \"zip:2\", \"filename\": \"WD-76845-059.ome.tif\", \"fullFilePath\": \"/s3FuseMounts/dgutman-htan-s3-synapse/htan-tnp-sardana-hms-prerelease-phase-1-data/WD-76845-059.ome.tif\", \"outputFile\": \"WD-76845-059.zip:2.ome.tif\", \"tileString\": [\"-8\", \"-t\", \"-w\", \"256\", \"-l\", \"256\", \"-L\"]}, 50.13233975410848, 10.275602650111088], [\"5ee97556492ea78385038555\", \"WD-76845-039.ome.tif\", 86067983704, 8058.399178743362, 43385281020, null, \"zip:2\", 50.40815312835506, null, [\"-8\", \"-t\", \"-w\", \"256\", \"-l\", \"256\", \"-L\"], \"/nvmen1Scratch/origData/htan-tnp-sardana-hms-prerelease-phase-1-data/recompressed/WD-76845-039.zip:2.ome.tif\", {\"compressionMethod\": \"zip:2\", \"filename\": \"WD-76845-039.ome.tif\", \"fullFilePath\": \"/s3FuseMounts/dgutman-htan-s3-synapse/htan-tnp-sardana-hms-prerelease-phase-1-data/WD-76845-039.ome.tif\", \"outputFile\": \"WD-76845-039.zip:2.ome.tif\", \"tileString\": [\"-8\", \"-t\", \"-w\", \"256\", \"-l\", \"256\", \"-L\"]}, 50.40815312835506, 10.680531181804964], [\"5ee9764f9d5df40196038555\", \"WD-76845-020.ome.tif\", 89758999384, 8412.91133093834, 44313474856, null, \"zip:2\", 49.36939489089169, null, [\"-8\", \"-t\", \"-w\", \"256\", \"-l\", \"256\", \"-L\"], \"/nvmen1Scratch/origData/htan-tnp-sardana-hms-prerelease-phase-1-data/recompressed/WD-76845-020.zip:2.ome.tif\", {\"compressionMethod\": \"zip:2\", \"filename\": \"WD-76845-020.ome.tif\", \"fullFilePath\": \"/s3FuseMounts/dgutman-htan-s3-synapse/htan-tnp-sardana-hms-prerelease-phase-1-data/WD-76845-020.ome.tif\", \"outputFile\": \"WD-76845-020.zip:2.ome.tif\", \"tileString\": [\"-8\", \"-t\", \"-w\", \"256\", \"-l\", \"256\", \"-L\"]}, 49.36939489089169, 10.669195936240621], [\"5ee97de807c5a13130038558\", \"WD-76845-033.ome.tif\", 12715247011, 554.1263117790222, 3999014232, null, \"zip:2\", 31.450543025553813, null, [\"-8\", \"-t\", \"-w\", \"256\", \"-l\", \"256\", \"-L\"], \"/nvmen1Scratch/origData/htan-tnp-sardana-hms-prerelease-phase-1-data/recompressed/WD-76845-033.zip:2.ome.tif\", {\"compressionMethod\": \"zip:2\", \"filename\": \"WD-76845-033.ome.tif\", \"fullFilePath\": \"/s3FuseMounts/dgutman-htan-s3-synapse/htan-tnp-sardana-hms-prerelease-phase-1-data/WD-76845-033.ome.tif\", \"outputFile\": \"WD-76845-033.zip:2.ome.tif\", \"tileString\": [\"-8\", \"-t\", \"-w\", \"256\", \"-l\", \"256\", \"-L\"]}, 31.450543025553813, 22.94647761839301], [\"5ee9806329adeff7e7038556\", \"WD-76845-096.ome.tif\", 11384583763, 495.68961358070374, 3851234692, null, \"zip:2\", 33.82850679632704, null, [\"-8\", \"-t\", \"-w\", \"256\", \"-l\", \"256\", \"-L\"], \"/nvmen1Scratch/origData/htan-tnp-sardana-hms-prerelease-phase-1-data/recompressed/WD-76845-096.zip:2.ome.tif\", {\"compressionMethod\": \"zip:2\", \"filename\": \"WD-76845-096.ome.tif\", \"fullFilePath\": \"/s3FuseMounts/dgutman-htan-s3-synapse/htan-tnp-sardana-hms-prerelease-phase-1-data/WD-76845-096.ome.tif\", \"outputFile\": \"WD-76845-096.zip:2.ome.tif\", \"tileString\": [\"-8\", \"-t\", \"-w\", \"256\", \"-l\", \"256\", \"-L\"]}, 33.82850679632704, 22.96716221419569], [\"5ee987ae07c5288327038557\", \"WD-76845-078.ome.tif\", 74575503064, 4580.758396863937, 37525384952, null, \"zip:2\", 50.318648095201, null, [\"-8\", \"-t\", \"-w\", \"256\", \"-l\", \"256\", \"-L\"], \"/nvmen1Scratch/origData/htan-tnp-sardana-hms-prerelease-phase-1-data/recompressed/WD-76845-078.zip:2.ome.tif\", {\"compressionMethod\": \"zip:2\", \"filename\": \"WD-76845-078.ome.tif\", \"fullFilePath\": \"/s3FuseMounts/dgutman-htan-s3-synapse/htan-tnp-sardana-hms-prerelease-phase-1-data/WD-76845-078.ome.tif\", \"outputFile\": \"WD-76845-078.zip:2.ome.tif\", \"tileString\": [\"-8\", \"-t\", \"-w\", \"256\", \"-l\", \"256\", \"-L\"]}, 50.318648095201, 16.280165117430254], [\"5ee9890107c5288327038558\", \"WD-76845-058.ome.tif\", 11239878067, 339.0999071598053, 3864155754, null, \"zip:2\", 34.37898285876485, null, [\"-8\", \"-t\", \"-w\", \"256\", \"-l\", \"256\", \"-L\"], \"/nvmen1Scratch/origData/htan-tnp-sardana-hms-prerelease-phase-1-data/recompressed/WD-76845-058.zip:2.ome.tif\", {\"compressionMethod\": \"zip:2\", \"filename\": \"WD-76845-058.ome.tif\", \"fullFilePath\": \"/s3FuseMounts/dgutman-htan-s3-synapse/htan-tnp-sardana-hms-prerelease-phase-1-data/WD-76845-058.ome.tif\", \"outputFile\": \"WD-76845-058.zip:2.ome.tif\", \"tileString\": [\"-8\", \"-t\", \"-w\", \"256\", \"-l\", \"256\", \"-L\"]}, 34.37898285876485, 33.14621393188132], [\"5ee98e8c1a4aa37fe203855a\", \"WD-76845-029.ome.tif\", 79860366424, 5120.082880973816, 39680533438, null, \"zip:2\", 49.68739215060128, null, [\"-8\", \"-t\", \"-w\", \"256\", \"-l\", \"256\", \"-L\"], \"/nvmen1Scratch/origData/htan-tnp-sardana-hms-prerelease-phase-1-data/recompressed/WD-76845-029.zip:2.ome.tif\", {\"compressionMethod\": \"zip:2\", \"filename\": \"WD-76845-029.ome.tif\", \"fullFilePath\": \"/s3FuseMounts/dgutman-htan-s3-synapse/htan-tnp-sardana-hms-prerelease-phase-1-data/WD-76845-029.ome.tif\", \"outputFile\": \"WD-76845-029.zip:2.ome.tif\", \"tileString\": [\"-8\", \"-t\", \"-w\", \"256\", \"-l\", \"256\", \"-L\"]}, 49.68739215060128, 15.59747533008898], [\"5ee99420c8c1e225d3038557\", \"WD-76845-086.ome.tif\", 77763198424, 4308.936995506287, 38849121782, null, \"zip:2\", 49.9582354755743, null, [\"-8\", \"-t\", \"-w\", \"256\", \"-l\", \"256\", \"-L\"], \"/nvmen1Scratch/origData/htan-tnp-sardana-hms-prerelease-phase-1-data/recompressed/WD-76845-086.zip:2.ome.tif\", {\"compressionMethod\": \"zip:2\", \"filename\": \"WD-76845-086.ome.tif\", \"fullFilePath\": \"/s3FuseMounts/dgutman-htan-s3-synapse/htan-tnp-sardana-hms-prerelease-phase-1-data/WD-76845-086.ome.tif\", \"outputFile\": \"WD-76845-086.zip:2.ome.tif\", \"tileString\": [\"-8\", \"-t\", \"-w\", \"256\", \"-l\", \"256\", \"-L\"]}, 49.9582354755743, 18.046956477919693], [\"5eea0323b5f447f61e5fe9a4\", \"WD-76845-085.ome.tif\", 11384583763, 576.1871275901794, 3915863502, null, \"zip:2\", 34.39619386636332, null, [\"-8\", \"-t\", \"-w\", \"256\", \"-l\", \"256\", \"-L\"], \"/nvmen1Scratch/origData/htan-tnp-sardana-hms-prerelease-phase-1-data/recompressed/WD-76845-085.zip:2.ome.tif\", {\"compressionMethod\": \"zip:2\", \"filename\": \"WD-76845-085.ome.tif\", \"fullFilePath\": \"/s3FuseMounts/dgutman-htan-s3-synapse/htan-tnp-sardana-hms-prerelease-phase-1-data/WD-76845-085.ome.tif\", \"outputFile\": \"WD-76845-085.zip:2.ome.tif\", \"tileString\": [\"-8\", \"-t\", \"-w\", \"256\", \"-l\", \"256\", \"-L\"]}, 34.39619386636332, 19.758483343101396], [\"5eea1915049ce574635fe9a4\", \"WD-76845-084.ome.tif\", 74575503064, 6347.110875368118, 37617116838, null, \"zip:2\", 50.44165348199843, null, [\"-8\", \"-t\", \"-w\", \"256\", \"-l\", \"256\", \"-L\"], \"/nvmen1Scratch/origData/htan-tnp-sardana-hms-prerelease-phase-1-data/recompressed/WD-76845-084.zip:2.ome.tif\", {\"compressionMethod\": \"zip:2\", \"filename\": \"WD-76845-084.ome.tif\", \"fullFilePath\": \"/s3FuseMounts/dgutman-htan-s3-synapse/htan-tnp-sardana-hms-prerelease-phase-1-data/WD-76845-084.ome.tif\", \"outputFile\": \"WD-76845-084.zip:2.ome.tif\", \"tileString\": [\"-8\", \"-t\", \"-w\", \"256\", \"-l\", \"256\", \"-L\"]}, 50.44165348199843, 11.749519510272426], [\"5eea1b26c617b77de35fe9a4\", \"WD-76845-091.ome.tif\", 77763198424, 6778.826405286789, 38243643084, null, \"zip:2\", 49.179616912718046, null, [\"-8\", \"-t\", \"-w\", \"256\", \"-l\", \"256\", \"-L\"], \"/nvmen1Scratch/origData/htan-tnp-sardana-hms-prerelease-phase-1-data/recompressed/WD-76845-091.zip:2.ome.tif\", {\"compressionMethod\": \"zip:2\", \"filename\": \"WD-76845-091.ome.tif\", \"fullFilePath\": \"/s3FuseMounts/dgutman-htan-s3-synapse/htan-tnp-sardana-hms-prerelease-phase-1-data/WD-76845-091.ome.tif\", \"outputFile\": \"WD-76845-091.zip:2.ome.tif\", \"tileString\": [\"-8\", \"-t\", \"-w\", \"256\", \"-l\", \"256\", \"-L\"]}, 49.179616912718046, 11.471483967099775], [\"5eea1b7c049ce574635fe9a5\", \"WD-76845-013.ome.tif\", 12727830115, 614.36305975914, 3884386058, null, \"zip:2\", 30.51883960504921, null, [\"-8\", \"-t\", \"-w\", \"256\", \"-l\", \"256\", \"-L\"], \"/nvmen1Scratch/origData/htan-tnp-sardana-hms-prerelease-phase-1-data/recompressed/WD-76845-013.zip:2.ome.tif\", {\"compressionMethod\": \"zip:2\", \"filename\": \"WD-76845-013.ome.tif\", \"fullFilePath\": \"/s3FuseMounts/dgutman-htan-s3-synapse/htan-tnp-sardana-hms-prerelease-phase-1-data/WD-76845-013.ome.tif\", \"outputFile\": \"WD-76845-013.zip:2.ome.tif\", \"tileString\": [\"-8\", \"-t\", \"-w\", \"256\", \"-l\", \"256\", \"-L\"]}, 30.51883960504921, 20.717114925480587], [\"5eea1dd5049ce574635fe9a6\", \"WD-76845-090.ome.tif\", 10657909507, 600.5363554954529, 3714891402, null, \"zip:2\", 34.85572287473542, null, [\"-8\", \"-t\", \"-w\", \"256\", \"-l\", \"256\", \"-L\"], \"/nvmen1Scratch/origData/htan-tnp-sardana-hms-prerelease-phase-1-data/recompressed/WD-76845-090.zip:2.ome.tif\", {\"compressionMethod\": \"zip:2\", \"filename\": \"WD-76845-090.ome.tif\", \"fullFilePath\": \"/s3FuseMounts/dgutman-htan-s3-synapse/htan-tnp-sardana-hms-prerelease-phase-1-data/WD-76845-090.ome.tif\", \"outputFile\": \"WD-76845-090.zip:2.ome.tif\", \"tileString\": [\"-8\", \"-t\", \"-w\", \"256\", \"-l\", \"256\", \"-L\"]}, 34.85572287473542, 17.747317726013506], [\"5eea1e6cc100c647d85fe9a3\", \"WD-76845-050.ome.tif\", 86067983704, 8026.086015224457, 43236588388, null, \"zip:2\", 50.235391288701216, null, [\"-8\", \"-t\", \"-w\", \"256\", \"-l\", \"256\", \"-L\"], \"/nvmen1Scratch/origData/htan-tnp-sardana-hms-prerelease-phase-1-data/recompressed/WD-76845-050.zip:2.ome.tif\", {\"compressionMethod\": \"zip:2\", \"filename\": \"WD-76845-050.ome.tif\", \"fullFilePath\": \"/s3FuseMounts/dgutman-htan-s3-synapse/htan-tnp-sardana-hms-prerelease-phase-1-data/WD-76845-050.ome.tif\", \"outputFile\": \"WD-76845-050.zip:2.ome.tif\", \"tileString\": [\"-8\", \"-t\", \"-w\", \"256\", \"-l\", \"256\", \"-L\"]}, 50.235391288701216, 10.723531188270355], [\"5eea1fa9049ce574635fe9a7\", \"WD-76845-073.ome.tif\", 9808549987, 468.4046103954315, 3420732888, null, \"zip:2\", 34.8750110111459, null, [\"-8\", \"-t\", \"-w\", \"256\", \"-l\", \"256\", \"-L\"], \"/nvmen1Scratch/origData/htan-tnp-sardana-hms-prerelease-phase-1-data/recompressed/WD-76845-073.zip:2.ome.tif\", {\"compressionMethod\": \"zip:2\", \"filename\": \"WD-76845-073.ome.tif\", \"fullFilePath\": \"/s3FuseMounts/dgutman-htan-s3-synapse/htan-tnp-sardana-hms-prerelease-phase-1-data/WD-76845-073.ome.tif\", \"outputFile\": \"WD-76845-073.zip:2.ome.tif\", \"tileString\": [\"-8\", \"-t\", \"-w\", \"256\", \"-l\", \"256\", \"-L\"]}, 34.8750110111459, 20.940336131020427], [\"5eea2d9c5b022b5ffc5fe9a4\", \"WD-76845-044.ome.tif\", 82209194584, 7793.740849494934, 41462741978, null, \"zip:2\", 50.435650401165354, null, [\"-8\", \"-t\", \"-w\", \"256\", \"-l\", \"256\", \"-L\"], \"/nvmen1Scratch/origData/htan-tnp-sardana-hms-prerelease-phase-1-data/recompressed/WD-76845-044.zip:2.ome.tif\", {\"compressionMethod\": \"zip:2\", \"filename\": \"WD-76845-044.ome.tif\", \"fullFilePath\": \"/s3FuseMounts/dgutman-htan-s3-synapse/htan-tnp-sardana-hms-prerelease-phase-1-data/WD-76845-044.ome.tif\", \"outputFile\": \"WD-76845-044.zip:2.ome.tif\", \"tileString\": [\"-8\", \"-t\", \"-w\", \"256\", \"-l\", \"256\", \"-L\"]}, 50.435650401165354, 10.548104712684601], [\"5eea3595692e2980bb5fe9ac\", \"WD-76845-053.ome.tif\", 11239878067, 570.1165504455566, 3942772688, null, \"zip:2\", 35.07842936104335, null, [\"-8\", \"-t\", \"-w\", \"256\", \"-l\", \"256\", \"-L\"], \"/nvmen1Scratch/origData/htan-tnp-sardana-hms-prerelease-phase-1-data/recompressed/WD-76845-053.zip:2.ome.tif\", {\"compressionMethod\": \"zip:2\", \"filename\": \"WD-76845-053.ome.tif\", \"fullFilePath\": \"/s3FuseMounts/dgutman-htan-s3-synapse/htan-tnp-sardana-hms-prerelease-phase-1-data/WD-76845-053.ome.tif\", \"outputFile\": \"WD-76845-053.zip:2.ome.tif\", \"tileString\": [\"-8\", \"-t\", \"-w\", \"256\", \"-l\", \"256\", \"-L\"]}, 35.07842936104335, 19.715053103116944], [\"5eea35fe7a359007b45fe9a6\", \"WD-76845-074.ome.tif\", 74575503064, 6609.197779893875, 37786805400, null, \"zip:2\", 50.66919276102196, null, [\"-8\", \"-t\", \"-w\", \"256\", \"-l\", \"256\", \"-L\"], \"/nvmen1Scratch/origData/htan-tnp-sardana-hms-prerelease-phase-1-data/recompressed/WD-76845-074.zip:2.ome.tif\", {\"compressionMethod\": \"zip:2\", \"filename\": \"WD-76845-074.ome.tif\", \"fullFilePath\": \"/s3FuseMounts/dgutman-htan-s3-synapse/htan-tnp-sardana-hms-prerelease-phase-1-data/WD-76845-074.ome.tif\", \"outputFile\": \"WD-76845-074.zip:2.ome.tif\", \"tileString\": [\"-8\", \"-t\", \"-w\", \"256\", \"-l\", \"256\", \"-L\"]}, 50.66919276102196, 11.283593795735596], [\"5eea38febb2b0550615fe9a6\", \"WD-76845-051.ome.tif\", 82209194584, 7417.316708564758, 42785432098, null, \"zip:2\", 52.04458250017587, null, [\"-8\", \"-t\", \"-w\", \"256\", \"-l\", \"256\", \"-L\"], \"/nvmen1Scratch/origData/htan-tnp-sardana-hms-prerelease-phase-1-data/recompressed/WD-76845-051.zip:2.ome.tif\", {\"compressionMethod\": \"zip:2\", \"filename\": \"WD-76845-051.ome.tif\", \"fullFilePath\": \"/s3FuseMounts/dgutman-htan-s3-synapse/htan-tnp-sardana-hms-prerelease-phase-1-data/WD-76845-051.ome.tif\", \"outputFile\": \"WD-76845-051.zip:2.ome.tif\", \"tileString\": [\"-8\", \"-t\", \"-w\", \"256\", \"-l\", \"256\", \"-L\"]}, 52.04458250017587, 11.083414368577957], [\"5eea51c728bc84a252e00728\", \"WD-76845-038.ome.tif\", 12079800259, 575.7592494487762, 3965062508, null, \"zip:2\", 32.823907870876, null, [\"-8\", \"-t\", \"-w\", \"256\", \"-l\", \"256\", \"-L\"], \"/nvmen1Scratch/origData/htan-tnp-sardana-hms-prerelease-phase-1-data/recompressed/WD-76845-038.zip:2.ome.tif\", {\"compressionMethod\": \"zip:2\", \"filename\": \"WD-76845-038.ome.tif\", \"fullFilePath\": \"/s3FuseMounts/dgutman-htan-s3-synapse/htan-tnp-sardana-hms-prerelease-phase-1-data/WD-76845-038.ome.tif\", \"outputFile\": \"WD-76845-038.zip:2.ome.tif\", \"tileString\": [\"-8\", \"-t\", \"-w\", \"256\", \"-l\", \"256\", \"-L\"]}, 32.823907870876, 20.980644723580262], [\"5eea5aa107b8d638b9e00727\", \"WD-76845-106.ome.tif\", 74575503064, 6872.255130529404, 37361993422, null, \"zip:2\", 50.09955265060202, null, [\"-8\", \"-t\", \"-w\", \"256\", \"-l\", \"256\", \"-L\"], \"/nvmen1Scratch/origData/htan-tnp-sardana-hms-prerelease-phase-1-data/recompressed/WD-76845-106.zip:2.ome.tif\", {\"compressionMethod\": \"zip:2\", \"filename\": \"WD-76845-106.ome.tif\", \"fullFilePath\": \"/s3FuseMounts/dgutman-htan-s3-synapse/htan-tnp-sardana-hms-prerelease-phase-1-data/WD-76845-106.ome.tif\", \"outputFile\": \"WD-76845-106.zip:2.ome.tif\", \"tileString\": [\"-8\", \"-t\", \"-w\", \"256\", \"-l\", \"256\", \"-L\"]}, 50.09955265060202, 10.851678473446762], [\"5eea5cc28d45a18a18e00727\", \"WD-76845-001.ome.tif\", 13048699267, 696.7093639373779, 3777805572, null, \"zip:2\", 28.951587393496176, null, [\"-8\", \"-t\", \"-w\", \"256\", \"-l\", \"256\", \"-L\"], \"/nvmen1Scratch/origData/htan-tnp-sardana-hms-prerelease-phase-1-data/recompressed/WD-76845-001.zip:2.ome.tif\", {\"compressionMethod\": \"zip:2\", \"filename\": \"WD-76845-001.ome.tif\", \"fullFilePath\": \"/s3FuseMounts/dgutman-htan-s3-synapse/htan-tnp-sardana-hms-prerelease-phase-1-data/WD-76845-001.ome.tif\", \"outputFile\": \"WD-76845-001.zip:2.ome.tif\", \"tileString\": [\"-8\", \"-t\", \"-w\", \"256\", \"-l\", \"256\", \"-L\"]}, 28.951587393496176, 18.729042470818364], [\"5eea5ce6c437a94ce9e00726\", \"WD-76845-019.ome.tif\", 13674708691, 726.452522277832, 4023233458, null, \"zip:2\", 29.420981089329445, null, [\"-8\", \"-t\", \"-w\", \"256\", \"-l\", \"256\", \"-L\"], \"/nvmen1Scratch/origData/htan-tnp-sardana-hms-prerelease-phase-1-data/recompressed/WD-76845-019.zip:2.ome.tif\", {\"compressionMethod\": \"zip:2\", \"filename\": \"WD-76845-019.ome.tif\", \"fullFilePath\": \"/s3FuseMounts/dgutman-htan-s3-synapse/htan-tnp-sardana-hms-prerelease-phase-1-data/WD-76845-019.ome.tif\", \"outputFile\": \"WD-76845-019.zip:2.ome.tif\", \"tileString\": [\"-8\", \"-t\", \"-w\", \"256\", \"-l\", \"256\", \"-L\"]}, 29.420981089329445, 18.823953763863596], [\"5eea643bf57863fbe4e00726\", \"WD-76845-069.ome.tif\", 74575503064, 6291.181425333023, 37000441922, null, \"zip:2\", 49.61473996393503, null, [\"-8\", \"-t\", \"-w\", \"256\", \"-l\", \"256\", \"-L\"], \"/nvmen1Scratch/origData/htan-tnp-sardana-hms-prerelease-phase-1-data/recompressed/WD-76845-069.zip:2.ome.tif\", {\"compressionMethod\": \"zip:2\", \"filename\": \"WD-76845-069.ome.tif\", \"fullFilePath\": \"/s3FuseMounts/dgutman-htan-s3-synapse/htan-tnp-sardana-hms-prerelease-phase-1-data/WD-76845-069.ome.tif\", \"outputFile\": \"WD-76845-069.zip:2.ome.tif\", \"tileString\": [\"-8\", \"-t\", \"-w\", \"256\", \"-l\", \"256\", \"-L\"]}, 49.61473996393503, 11.853974320896707], [\"5eea6b2b87f2d71db8e00727\", \"WD-76845-052.ome.tif\", 86067983704, 7567.881829738617, 43549084954, null, \"zip:2\", 50.598472370134154, null, [\"-8\", \"-t\", \"-w\", \"256\", \"-l\", \"256\", \"-L\"], \"/nvmen1Scratch/origData/htan-tnp-sardana-hms-prerelease-phase-1-data/recompressed/WD-76845-052.zip:2.ome.tif\", {\"compressionMethod\": \"zip:2\", \"filename\": \"WD-76845-052.ome.tif\", \"fullFilePath\": \"/s3FuseMounts/dgutman-htan-s3-synapse/htan-tnp-sardana-hms-prerelease-phase-1-data/WD-76845-052.ome.tif\", \"outputFile\": \"WD-76845-052.zip:2.ome.tif\", \"tileString\": [\"-8\", \"-t\", \"-w\", \"256\", \"-l\", \"256\", \"-L\"]}, 50.598472370134154, 11.372796991331015], [\"5eea6d5c28bc84a252e00729\", \"WD-76845-064.ome.tif\", 79860366424, 7061.358941555023, 40234489692, null, \"zip:2\", 50.38104818901575, null, [\"-8\", \"-t\", \"-w\", \"256\", \"-l\", \"256\", \"-L\"], \"/nvmen1Scratch/origData/htan-tnp-sardana-hms-prerelease-phase-1-data/recompressed/WD-76845-064.zip:2.ome.tif\", {\"compressionMethod\": \"zip:2\", \"filename\": \"WD-76845-064.ome.tif\", \"fullFilePath\": \"/s3FuseMounts/dgutman-htan-s3-synapse/htan-tnp-sardana-hms-prerelease-phase-1-data/WD-76845-064.ome.tif\", \"outputFile\": \"WD-76845-064.zip:2.ome.tif\", \"tileString\": [\"-8\", \"-t\", \"-w\", \"256\", \"-l\", \"256\", \"-L\"]}, 50.38104818901575, 11.30948972924091], [\"5eea7975485aac8111e00726\", \"WD-76845-034.ome.tif\", 88249038424, 7872.834859371185, 45162064692, null, \"zip:2\", 51.17570173967791, null, [\"-8\", \"-t\", \"-w\", \"256\", \"-l\", \"256\", \"-L\"], \"/nvmen1Scratch/origData/htan-tnp-sardana-hms-prerelease-phase-1-data/recompressed/WD-76845-034.zip:2.ome.tif\", {\"compressionMethod\": \"zip:2\", \"filename\": \"WD-76845-034.ome.tif\", \"fullFilePath\": \"/s3FuseMounts/dgutman-htan-s3-synapse/htan-tnp-sardana-hms-prerelease-phase-1-data/WD-76845-034.ome.tif\", \"outputFile\": \"WD-76845-034.zip:2.ome.tif\", \"tileString\": [\"-8\", \"-t\", \"-w\", \"256\", \"-l\", \"256\", \"-L\"]}, 51.17570173967791, 11.209308971971575]], \"fillcolor\": \"rgba(255,255,255,0)\", \"hoveron\": \"points\", \"hovertemplate\": \"compressionMethod=%{customdata[6]}<br>mbytesPerSec=%{customdata[13]}<br>_id=%{customdata[0]}<br>origFileName=%{customdata[1]}<br>origFileSize=%{customdata[2]}<br>executionTime=%{customdata[3]}<br>compressedFileSize=%{customdata[4]}<br>compressionOptions=%{customdata[5]}<br>compressionRate=%{customdata[7]}<br>outputFileName=%{customdata[8]}<br>tileInfo=%{customdata[9]}<br>outputFileNamewPath=%{customdata[10]}<br>origCompressionDict=%{customdata[11]}<br>compressionRatio=%{customdata[12]}<extra></extra>\", \"jitter\": 0, \"legendgroup\": \"zip:2\", \"line\": {\"color\": \"rgba(255,255,255,0)\"}, \"marker\": {\"color\": \"#00cc96\", \"symbol\": \"line-ns-open\"}, \"name\": \"zip:2\", \"offsetgroup\": \"zip:2\", \"showlegend\": false, \"type\": \"box\", \"x\": [29.75241318061371, 33.55760479048339, 15.395585741094076, 15.53546887908482, 16.83950377439059, 15.041447395992432, 13.529136095912605, 14.198593497997965, 14.870562064364384, 20.93539898435665, 10.473403939726337, 10.275602650111088, 10.680531181804964, 10.669195936240621, 22.94647761839301, 22.96716221419569, 16.280165117430254, 33.14621393188132, 15.59747533008898, 18.046956477919693, 19.758483343101396, 11.749519510272426, 11.471483967099775, 20.717114925480587, 17.747317726013506, 10.723531188270355, 20.940336131020427, 10.548104712684601, 19.715053103116944, 11.283593795735596, 11.083414368577957, 20.980644723580262, 10.851678473446762, 18.729042470818364, 18.823953763863596, 11.853974320896707, 11.372796991331015, 11.30948972924091, 11.209308971971575], \"xaxis\": \"x2\", \"yaxis\": \"y2\"}, {\"alignmentgroup\": \"True\", \"bingroup\": \"x\", \"hovertemplate\": \"compressionMethod=lzma<br>mbytesPerSec=%{x}<br>count=%{y}<extra></extra>\", \"legendgroup\": \"lzma\", \"marker\": {\"color\": \"#ab63fa\", \"opacity\": 0.8}, \"name\": \"lzma\", \"nbinsx\": 25, \"offsetgroup\": \"lzma\", \"orientation\": \"v\", \"showlegend\": true, \"type\": \"histogram\", \"x\": [4.3107973281418905, 5.127853708412345, 4.058308195200084, 4.026951852822308], \"xaxis\": \"x\", \"yaxis\": \"y\"}, {\"alignmentgroup\": \"True\", \"boxpoints\": \"all\", \"customdata\": [[\"5ee92059472cad3ec2fd998f\", \"WD-76845-006.ome.tif\", 11834429731, 2745.2994956970215, 3525198902, null, \"lzma\", 29.787653331244407, null, [\"-8\", \"-t\", \"-w\", \"256\", \"-l\", \"256\", \"-L\"], \"/nvmen1Scratch/origData/htan-tnp-sardana-hms-prerelease-phase-1-data/recompressed/WD-76845-006.lzma.ome.tif\", {\"compressionMethod\": \"lzma\", \"filename\": \"WD-76845-006.ome.tif\", \"fullFilePath\": \"/nvmen1Scratch/origData/htan-tnp-sardana-hms-prerelease-phase-1-data/WD-76845-006.ome.tif\", \"outputFile\": \"WD-76845-006.lzma.ome.tif\", \"tileString\": [\"-8\", \"-t\", \"-w\", \"256\", \"-l\", \"256\", \"-L\"]}, 29.787653331244407, 4.3107973281418905], [\"5ee92406557b784b56fd9993\", \"WD-76845-001.ome.tif\", 13048699267, 2544.670735359192, 3580721362, null, \"lzma\", 27.441213018492967, null, [\"-8\", \"-t\", \"-w\", \"256\", \"-l\", \"256\", \"-L\"], \"/nvmen1Scratch/origData/htan-tnp-sardana-hms-prerelease-phase-1-data/recompressed/WD-76845-001.lzma.ome.tif\", {\"compressionMethod\": \"lzma\", \"filename\": \"WD-76845-001.ome.tif\", \"fullFilePath\": \"/nvmen1Scratch/origData/htan-tnp-sardana-hms-prerelease-phase-1-data/WD-76845-001.ome.tif\", \"outputFile\": \"WD-76845-001.lzma.ome.tif\", \"tileString\": [\"-8\", \"-t\", \"-w\", \"256\", \"-l\", \"256\", \"-L\"]}, 27.441213018492967, 5.127853708412345], [\"5ee96701b4a211c4a5fd998e\", \"WD-76845-007.ome.tif\", 86067983704, 21207.84808945656, 37796236820, null, \"lzma\", 43.91439789037771, null, [\"-8\", \"-t\", \"-w\", \"256\", \"-l\", \"256\", \"-L\"], \"/nvmen1Scratch/origData/htan-tnp-sardana-hms-prerelease-phase-1-data/recompressed/WD-76845-007.lzma.ome.tif\", {\"compressionMethod\": \"lzma\", \"filename\": \"WD-76845-007.ome.tif\", \"fullFilePath\": \"/nvmen1Scratch/origData/htan-tnp-sardana-hms-prerelease-phase-1-data/WD-76845-007.ome.tif\", \"outputFile\": \"WD-76845-007.lzma.ome.tif\", \"tileString\": [\"-8\", \"-t\", \"-w\", \"256\", \"-l\", \"256\", \"-L\"]}, 43.91439789037771, 4.058308195200084], [\"5ee96fde9d5f656653fd998e\", \"WD-76845-002.ome.tif\", 94540542424, 23476.948788881302, 40679166408, null, \"lzma\", 43.028276932831744, null, [\"-8\", \"-t\", \"-w\", \"256\", \"-l\", \"256\", \"-L\"], \"/nvmen1Scratch/origData/htan-tnp-sardana-hms-prerelease-phase-1-data/recompressed/WD-76845-002.lzma.ome.tif\", {\"compressionMethod\": \"lzma\", \"filename\": \"WD-76845-002.ome.tif\", \"fullFilePath\": \"/nvmen1Scratch/origData/htan-tnp-sardana-hms-prerelease-phase-1-data/WD-76845-002.ome.tif\", \"outputFile\": \"WD-76845-002.lzma.ome.tif\", \"tileString\": [\"-8\", \"-t\", \"-w\", \"256\", \"-l\", \"256\", \"-L\"]}, 43.028276932831744, 4.026951852822308]], \"fillcolor\": \"rgba(255,255,255,0)\", \"hoveron\": \"points\", \"hovertemplate\": \"compressionMethod=%{customdata[6]}<br>mbytesPerSec=%{customdata[13]}<br>_id=%{customdata[0]}<br>origFileName=%{customdata[1]}<br>origFileSize=%{customdata[2]}<br>executionTime=%{customdata[3]}<br>compressedFileSize=%{customdata[4]}<br>compressionOptions=%{customdata[5]}<br>compressionRate=%{customdata[7]}<br>outputFileName=%{customdata[8]}<br>tileInfo=%{customdata[9]}<br>outputFileNamewPath=%{customdata[10]}<br>origCompressionDict=%{customdata[11]}<br>compressionRatio=%{customdata[12]}<extra></extra>\", \"jitter\": 0, \"legendgroup\": \"lzma\", \"line\": {\"color\": \"rgba(255,255,255,0)\"}, \"marker\": {\"color\": \"#ab63fa\", \"symbol\": \"line-ns-open\"}, \"name\": \"lzma\", \"offsetgroup\": \"lzma\", \"showlegend\": false, \"type\": \"box\", \"x\": [4.3107973281418905, 5.127853708412345, 4.058308195200084, 4.026951852822308], \"xaxis\": \"x2\", \"yaxis\": \"y2\"}],\n",
       "                        {\"barmode\": \"relative\", \"legend\": {\"title\": {\"text\": \"compressionMethod\"}, \"tracegroupgap\": 0}, \"margin\": {\"t\": 60}, \"template\": {\"data\": {\"bar\": [{\"error_x\": {\"color\": \"#2a3f5f\"}, \"error_y\": {\"color\": \"#2a3f5f\"}, \"marker\": {\"line\": {\"color\": \"#E5ECF6\", \"width\": 0.5}}, \"type\": \"bar\"}], \"barpolar\": [{\"marker\": {\"line\": {\"color\": \"#E5ECF6\", \"width\": 0.5}}, \"type\": \"barpolar\"}], \"carpet\": [{\"aaxis\": {\"endlinecolor\": \"#2a3f5f\", \"gridcolor\": \"white\", \"linecolor\": \"white\", \"minorgridcolor\": \"white\", \"startlinecolor\": \"#2a3f5f\"}, \"baxis\": {\"endlinecolor\": \"#2a3f5f\", \"gridcolor\": \"white\", \"linecolor\": \"white\", \"minorgridcolor\": \"white\", \"startlinecolor\": \"#2a3f5f\"}, \"type\": \"carpet\"}], \"choropleth\": [{\"colorbar\": {\"outlinewidth\": 0, \"ticks\": \"\"}, \"type\": \"choropleth\"}], \"contour\": [{\"colorbar\": {\"outlinewidth\": 0, \"ticks\": \"\"}, \"colorscale\": [[0.0, \"#0d0887\"], [0.1111111111111111, \"#46039f\"], [0.2222222222222222, \"#7201a8\"], [0.3333333333333333, \"#9c179e\"], [0.4444444444444444, \"#bd3786\"], [0.5555555555555556, \"#d8576b\"], [0.6666666666666666, \"#ed7953\"], [0.7777777777777778, \"#fb9f3a\"], [0.8888888888888888, \"#fdca26\"], [1.0, \"#f0f921\"]], \"type\": \"contour\"}], \"contourcarpet\": [{\"colorbar\": {\"outlinewidth\": 0, \"ticks\": \"\"}, \"type\": \"contourcarpet\"}], \"heatmap\": [{\"colorbar\": {\"outlinewidth\": 0, \"ticks\": \"\"}, \"colorscale\": [[0.0, \"#0d0887\"], [0.1111111111111111, \"#46039f\"], [0.2222222222222222, \"#7201a8\"], [0.3333333333333333, \"#9c179e\"], [0.4444444444444444, \"#bd3786\"], [0.5555555555555556, \"#d8576b\"], [0.6666666666666666, \"#ed7953\"], [0.7777777777777778, \"#fb9f3a\"], [0.8888888888888888, \"#fdca26\"], [1.0, \"#f0f921\"]], \"type\": \"heatmap\"}], \"heatmapgl\": [{\"colorbar\": {\"outlinewidth\": 0, \"ticks\": \"\"}, \"colorscale\": [[0.0, \"#0d0887\"], [0.1111111111111111, \"#46039f\"], [0.2222222222222222, \"#7201a8\"], [0.3333333333333333, \"#9c179e\"], [0.4444444444444444, \"#bd3786\"], [0.5555555555555556, \"#d8576b\"], [0.6666666666666666, \"#ed7953\"], [0.7777777777777778, \"#fb9f3a\"], [0.8888888888888888, \"#fdca26\"], [1.0, \"#f0f921\"]], \"type\": \"heatmapgl\"}], \"histogram\": [{\"marker\": {\"colorbar\": {\"outlinewidth\": 0, \"ticks\": \"\"}}, \"type\": \"histogram\"}], \"histogram2d\": [{\"colorbar\": {\"outlinewidth\": 0, \"ticks\": \"\"}, \"colorscale\": [[0.0, \"#0d0887\"], [0.1111111111111111, \"#46039f\"], [0.2222222222222222, \"#7201a8\"], [0.3333333333333333, \"#9c179e\"], [0.4444444444444444, \"#bd3786\"], [0.5555555555555556, \"#d8576b\"], [0.6666666666666666, \"#ed7953\"], [0.7777777777777778, \"#fb9f3a\"], [0.8888888888888888, \"#fdca26\"], [1.0, \"#f0f921\"]], \"type\": \"histogram2d\"}], \"histogram2dcontour\": [{\"colorbar\": {\"outlinewidth\": 0, \"ticks\": \"\"}, \"colorscale\": [[0.0, \"#0d0887\"], [0.1111111111111111, \"#46039f\"], [0.2222222222222222, \"#7201a8\"], [0.3333333333333333, \"#9c179e\"], [0.4444444444444444, \"#bd3786\"], [0.5555555555555556, \"#d8576b\"], [0.6666666666666666, \"#ed7953\"], [0.7777777777777778, \"#fb9f3a\"], [0.8888888888888888, \"#fdca26\"], [1.0, \"#f0f921\"]], \"type\": \"histogram2dcontour\"}], \"mesh3d\": [{\"colorbar\": {\"outlinewidth\": 0, \"ticks\": \"\"}, \"type\": \"mesh3d\"}], \"parcoords\": [{\"line\": {\"colorbar\": {\"outlinewidth\": 0, \"ticks\": \"\"}}, \"type\": \"parcoords\"}], \"pie\": [{\"automargin\": true, \"type\": \"pie\"}], \"scatter\": [{\"marker\": {\"colorbar\": {\"outlinewidth\": 0, \"ticks\": \"\"}}, \"type\": \"scatter\"}], \"scatter3d\": [{\"line\": {\"colorbar\": {\"outlinewidth\": 0, \"ticks\": \"\"}}, \"marker\": {\"colorbar\": {\"outlinewidth\": 0, \"ticks\": \"\"}}, \"type\": \"scatter3d\"}], \"scattercarpet\": [{\"marker\": {\"colorbar\": {\"outlinewidth\": 0, \"ticks\": \"\"}}, \"type\": \"scattercarpet\"}], \"scattergeo\": [{\"marker\": {\"colorbar\": {\"outlinewidth\": 0, \"ticks\": \"\"}}, \"type\": \"scattergeo\"}], \"scattergl\": [{\"marker\": {\"colorbar\": {\"outlinewidth\": 0, \"ticks\": \"\"}}, \"type\": \"scattergl\"}], \"scattermapbox\": [{\"marker\": {\"colorbar\": {\"outlinewidth\": 0, \"ticks\": \"\"}}, \"type\": \"scattermapbox\"}], \"scatterpolar\": [{\"marker\": {\"colorbar\": {\"outlinewidth\": 0, \"ticks\": \"\"}}, \"type\": \"scatterpolar\"}], \"scatterpolargl\": [{\"marker\": {\"colorbar\": {\"outlinewidth\": 0, \"ticks\": \"\"}}, \"type\": \"scatterpolargl\"}], \"scatterternary\": [{\"marker\": {\"colorbar\": {\"outlinewidth\": 0, \"ticks\": \"\"}}, \"type\": \"scatterternary\"}], \"surface\": [{\"colorbar\": {\"outlinewidth\": 0, \"ticks\": \"\"}, \"colorscale\": [[0.0, \"#0d0887\"], [0.1111111111111111, \"#46039f\"], [0.2222222222222222, \"#7201a8\"], [0.3333333333333333, \"#9c179e\"], [0.4444444444444444, \"#bd3786\"], [0.5555555555555556, \"#d8576b\"], [0.6666666666666666, \"#ed7953\"], [0.7777777777777778, \"#fb9f3a\"], [0.8888888888888888, \"#fdca26\"], [1.0, \"#f0f921\"]], \"type\": \"surface\"}], \"table\": [{\"cells\": {\"fill\": {\"color\": \"#EBF0F8\"}, \"line\": {\"color\": \"white\"}}, \"header\": {\"fill\": {\"color\": \"#C8D4E3\"}, \"line\": {\"color\": \"white\"}}, \"type\": \"table\"}]}, \"layout\": {\"annotationdefaults\": {\"arrowcolor\": \"#2a3f5f\", \"arrowhead\": 0, \"arrowwidth\": 1}, \"coloraxis\": {\"colorbar\": {\"outlinewidth\": 0, \"ticks\": \"\"}}, \"colorscale\": {\"diverging\": [[0, \"#8e0152\"], [0.1, \"#c51b7d\"], [0.2, \"#de77ae\"], [0.3, \"#f1b6da\"], [0.4, \"#fde0ef\"], [0.5, \"#f7f7f7\"], [0.6, \"#e6f5d0\"], [0.7, \"#b8e186\"], [0.8, \"#7fbc41\"], [0.9, \"#4d9221\"], [1, \"#276419\"]], \"sequential\": [[0.0, \"#0d0887\"], [0.1111111111111111, \"#46039f\"], [0.2222222222222222, \"#7201a8\"], [0.3333333333333333, \"#9c179e\"], [0.4444444444444444, \"#bd3786\"], [0.5555555555555556, \"#d8576b\"], [0.6666666666666666, \"#ed7953\"], [0.7777777777777778, \"#fb9f3a\"], [0.8888888888888888, \"#fdca26\"], [1.0, \"#f0f921\"]], \"sequentialminus\": [[0.0, \"#0d0887\"], [0.1111111111111111, \"#46039f\"], [0.2222222222222222, \"#7201a8\"], [0.3333333333333333, \"#9c179e\"], [0.4444444444444444, \"#bd3786\"], [0.5555555555555556, \"#d8576b\"], [0.6666666666666666, \"#ed7953\"], [0.7777777777777778, \"#fb9f3a\"], [0.8888888888888888, \"#fdca26\"], [1.0, \"#f0f921\"]]}, \"colorway\": [\"#636efa\", \"#EF553B\", \"#00cc96\", \"#ab63fa\", \"#FFA15A\", \"#19d3f3\", \"#FF6692\", \"#B6E880\", \"#FF97FF\", \"#FECB52\"], \"font\": {\"color\": \"#2a3f5f\"}, \"geo\": {\"bgcolor\": \"white\", \"lakecolor\": \"white\", \"landcolor\": \"#E5ECF6\", \"showlakes\": true, \"showland\": true, \"subunitcolor\": \"white\"}, \"hoverlabel\": {\"align\": \"left\"}, \"hovermode\": \"closest\", \"mapbox\": {\"style\": \"light\"}, \"paper_bgcolor\": \"white\", \"plot_bgcolor\": \"#E5ECF6\", \"polar\": {\"angularaxis\": {\"gridcolor\": \"white\", \"linecolor\": \"white\", \"ticks\": \"\"}, \"bgcolor\": \"#E5ECF6\", \"radialaxis\": {\"gridcolor\": \"white\", \"linecolor\": \"white\", \"ticks\": \"\"}}, \"scene\": {\"xaxis\": {\"backgroundcolor\": \"#E5ECF6\", \"gridcolor\": \"white\", \"gridwidth\": 2, \"linecolor\": \"white\", \"showbackground\": true, \"ticks\": \"\", \"zerolinecolor\": \"white\"}, \"yaxis\": {\"backgroundcolor\": \"#E5ECF6\", \"gridcolor\": \"white\", \"gridwidth\": 2, \"linecolor\": \"white\", \"showbackground\": true, \"ticks\": \"\", \"zerolinecolor\": \"white\"}, \"zaxis\": {\"backgroundcolor\": \"#E5ECF6\", \"gridcolor\": \"white\", \"gridwidth\": 2, \"linecolor\": \"white\", \"showbackground\": true, \"ticks\": \"\", \"zerolinecolor\": \"white\"}}, \"shapedefaults\": {\"line\": {\"color\": \"#2a3f5f\"}}, \"ternary\": {\"aaxis\": {\"gridcolor\": \"white\", \"linecolor\": \"white\", \"ticks\": \"\"}, \"baxis\": {\"gridcolor\": \"white\", \"linecolor\": \"white\", \"ticks\": \"\"}, \"bgcolor\": \"#E5ECF6\", \"caxis\": {\"gridcolor\": \"white\", \"linecolor\": \"white\", \"ticks\": \"\"}}, \"title\": {\"x\": 0.05}, \"xaxis\": {\"automargin\": true, \"gridcolor\": \"white\", \"linecolor\": \"white\", \"ticks\": \"\", \"title\": {\"standoff\": 15}, \"zerolinecolor\": \"white\", \"zerolinewidth\": 2}, \"yaxis\": {\"automargin\": true, \"gridcolor\": \"white\", \"linecolor\": \"white\", \"ticks\": \"\", \"title\": {\"standoff\": 15}, \"zerolinecolor\": \"white\", \"zerolinewidth\": 2}}}, \"xaxis\": {\"anchor\": \"y\", \"domain\": [0.0, 1.0], \"title\": {\"text\": \"mbytesPerSec\"}}, \"xaxis2\": {\"anchor\": \"y2\", \"domain\": [0.0, 1.0], \"matches\": \"x\", \"showgrid\": true, \"showticklabels\": false}, \"yaxis\": {\"anchor\": \"x\", \"domain\": [0.0, 0.7326], \"title\": {\"text\": \"count\"}}, \"yaxis2\": {\"anchor\": \"x2\", \"domain\": [0.7426, 1.0], \"matches\": \"y2\", \"showgrid\": false, \"showline\": false, \"showticklabels\": false, \"ticks\": \"\"}},\n",
       "                        {\"responsive\": true}\n",
       "                    ).then(function(){\n",
       "                            \n",
       "var gd = document.getElementById('829a0be0-cfe0-4e52-a89b-855cf5a3bef1');\n",
       "var x = new MutationObserver(function (mutations, observer) {{\n",
       "        var display = window.getComputedStyle(gd).display;\n",
       "        if (!display || display === 'none') {{\n",
       "            console.log([gd, 'removed!']);\n",
       "            Plotly.purge(gd);\n",
       "            observer.disconnect();\n",
       "        }}\n",
       "}});\n",
       "\n",
       "// Listen for the removal of the full notebook cells\n",
       "var notebookContainer = gd.closest('#notebook-container');\n",
       "if (notebookContainer) {{\n",
       "    x.observe(notebookContainer, {childList: true});\n",
       "}}\n",
       "\n",
       "// Listen for the clearing of the current output cell\n",
       "var outputEl = gd.closest('.output');\n",
       "if (outputEl) {{\n",
       "    x.observe(outputEl, {childList: true});\n",
       "}}\n",
       "\n",
       "                        })\n",
       "                };\n",
       "                });\n",
       "            </script>\n",
       "        </div>"
      ]
     },
     "metadata": {},
     "output_type": "display_data"
    }
   ],
   "source": [
    "fig = px.histogram(df, x=\"mbytesPerSec\",nbins=25,color='compressionMethod',opacity=0.8,marginal=\"rug\", # can be `box`, `violin`\n",
    "                         hover_data=df.columns)\n",
    "fig.show()"
   ]
  }
 ],
 "metadata": {
  "kernelspec": {
   "display_name": "Python 3",
   "language": "python",
   "name": "python3"
  },
  "language_info": {
   "codemirror_mode": {
    "name": "ipython",
    "version": 3
   },
   "file_extension": ".py",
   "mimetype": "text/x-python",
   "name": "python",
   "nbconvert_exporter": "python",
   "pygments_lexer": "ipython3",
   "version": "3.6.9"
  }
 },
 "nbformat": 4,
 "nbformat_minor": 4
}
