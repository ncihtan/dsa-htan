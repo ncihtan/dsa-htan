{
 "cells": [
  {
   "cell_type": "code",
   "execution_count": 3,
   "metadata": {},
   "outputs": [
    {
     "data": {
      "text/plain": [
       "{'_id': '5ebee66965f992910fa19570'}"
      ]
     },
     "execution_count": 3,
     "metadata": {},
     "output_type": "execute_result"
    }
   ],
   "source": [
    "## This script will demonstrate how to get imaging/item metadata from something that has been indexed on the DSA\n",
    "### Will also demonstrate how we can POST metadata to a specific image/item as well as how to pull internal imaging\n",
    "### details\n",
    "import girder_client\n",
    "import dsaSecrets as s  ## Put the API Key in here\n",
    "\n",
    "gc = girder_client.GirderClient(apiUrl=\"https://imaging.htan.dev/girder/api/v1\")\n",
    "gc.authenticate(apiKey=s.dsaApiKey)"
   ]
  },
  {
   "cell_type": "code",
   "execution_count": 4,
   "metadata": {},
   "outputs": [
    {
     "name": "stdout",
     "output_type": "stream",
     "text": [
      "htan-dcc-bu\n",
      "htan-dcc-center-a\n",
      "htan-dcc-chop\n",
      "htan-dcc-dfci\n",
      "htan-dcc-dsa-test\n",
      "htan-dcc-duke\n",
      "htan-dcc-hms\n",
      "htan-dcc-htapp\n",
      "htan-dcc-msk\n",
      "htan-dcc-ohsu\n",
      "htan-dcc-pcapp\n",
      "htan-dcc-sardana-dsaSync\n",
      "htan-dcc-stanford\n",
      "htan-dcc-tma-tnp\n",
      "htan-dcc-vanderbilt\n",
      "htan-dcc-washu\n"
     ]
    }
   ],
   "source": [
    "## The API is documented at https://imaging.htan.dev/girder/api/v1\n",
    "\n",
    "### Conventions for the S3/Google Bucket Sync for the DCC\n",
    "## All of the raw data is synchronized into a collection called DCC_BucketSync\n",
    "## Each bucket has been registered in this collection using the bucket name\n",
    "\n",
    "## Get the ID for the DCC_BucketSync collection\n",
    "\n",
    "#https://imaging.htan.dev/girder/api/v1/collection?text=DCC_Bucket_Sync&limit=50&sort=name&sortdir=1\n",
    "\n",
    "DCC_collection = gc.get(\"collection?text='DCC_Bucket_Sync'\")[0]\n",
    "## And now get a list of folders, each one representing a separate S3/GCS bucket\n",
    "\n",
    "## List folders in this collection; since this is the root of the collection, I also have to tell the system\n",
    "# the parentFolderType = 'collection'; this is a girderism \n",
    "\n",
    "##This yields a generator, for convenience I like making a dictionary\n",
    "\n",
    "bucketFolderdict = {}\n",
    "for f in gc.listFolder(DCC_collection['_id'],parentFolderType='collection'):\n",
    "    print(f['name'])\n",
    "    bucketFolderdict[f['name']] = f"
   ]
  },
  {
   "cell_type": "code",
   "execution_count": 5,
   "metadata": {},
   "outputs": [
    {
     "name": "stdout",
     "output_type": "stream",
     "text": [
      "3341471\n",
      "3413795\n",
      "biospecimen\n",
      "bulk_dnaseq_level_1\n",
      "bulk_rnaseq_level_1\n",
      "clinical_demographics\n",
      "clinical_diagnosis\n",
      "clinical_exposure\n",
      "clinical_family_history\n",
      "clinical_follow_up\n",
      "clinical_therapy\n",
      "em_level_1\n",
      "em_level_2\n",
      "em_level_3\n",
      "em_level_4\n",
      "imaging_level_1\n",
      "imaging_level_2\n",
      "nanostring_level_1\n",
      "nanostring_level_2\n",
      "nanostring_level_3\n",
      "rppa_level_2\n",
      "rppa_level_3\n",
      "rppa_level_4\n"
     ]
    }
   ],
   "source": [
    "## Now let's investigate the OHSU folder as it has an interpretable folder structure\n",
    "\n",
    "ohsuFolderDict = {}\n",
    "for of in gc.listFolder(bucketFolderdict['htan-dcc-ohsu']['_id']):\n",
    "    print(of['name'])\n",
    "    ohsuFolderDict[of['name']] = of"
   ]
  },
  {
   "cell_type": "code",
   "execution_count": 6,
   "metadata": {},
   "outputs": [
    {
     "name": "stdout",
     "output_type": "stream",
     "text": [
      "{'_id': '60403e803c5a0f47ead21e7f', '_modelType': 'item', 'baseParentId': '5fa99a0051de21dd08ca7dfa', 'baseParentType': 'collection', 'created': '2021-03-04T01:57:20.643000+00:00', 'creatorId': '5ebee66965f992910fa19570', 'description': '', 'folderId': '60403e803c5a0f47ead21e7e', 'largeImage': {'fileId': '60403e803c5a0f47ead21e80', 'sourceName': 'ometiff'}, 'meta': {'htanMeta': {'Acquisition_Method_Type': 'Biopsy', 'Age_at_Diagnosis': '63', 'Bucket_url': 's3://htan-dcc-ohsu/imaging_level_2/BEMS267865_Scene-001.ome.tif', 'Center': 'HTAN OHSU', 'DimensionOrder': 'XYZCT', 'Ethnicity': 'not hispanic or latino', 'File_Format': 'OME-TIFF', 'File_size': '7537466355', 'Fixative_Type': 'Formalin', 'GCS_timestamp': '', 'Gender': 'female', 'HTAN_Biospecimen_ID': 'HTA9_1_51', 'HTAN_Center': 'OHSU', 'HTAN_Data_File_ID': 'HTA9_1_19373', 'HTAN_Parent_ID': 'HTA9_1_34', 'HTAN_Participant_ID': 'HTA9_1', 'Histologic_Morphology_Code': 'Not Reported', 'Imaging_Assay_Type': 'CyCIF', 'Morphology': '8500/3', 'PhysicalSizeX': '0.325', 'PhysicalSizeXUnit': 'µm', 'PhysicalSizeY': '0.325', 'PhysicalSizeYUnit': 'µm', 'Preservation_Method': 'Formalin fixed paraffin embedded - FFPE', 'Primary_Diagnosis': 'Infiltrating duct carcinoma NOS', 'Race': 'white', 'S3_timestamp': '2021-02-13 23:02:15+00:00', 'Site_of_Resection_or_Biopsy': 'Liver', 'SizeC': '40', 'SizeT': '1', 'SizeX': '8001', 'SizeY': '20001', 'SizeZ': '12', 'Storage_Method': 'Cut slide', 'SynapseID': 'syn24829473', 'Synapse_file_path': 'imaging_level_2/BEMS267865_Scene-001.ome.tif', 'Tissue_or_Organ_of_Origin': 'Breast NOS', 'Tseries': 'No', 'Tumor_Grade': 'G3', 'Tumor_Tissue_Type': 'Metastatic', 'Vital_Status': 'Alive', 'Year_of_Diagnosis': '2010', 'Zstack': 'No'}}, 'name': 'BEMS267865_Scene-001.ome.tif', 'size': 7537466355, 'updated': '2021-03-25T20:56:21.577000+00:00'}\n"
     ]
    }
   ],
   "source": [
    "## Let's inspect the first item in the OHSU imaging_level_2 folder\n",
    "ohsu_image_level_2_items = list(gc.listItem(ohsuFolderDict['imaging_level_2']['_id']))\n",
    "print(ohsu_image_level_2_items[0])"
   ]
  },
  {
   "cell_type": "code",
   "execution_count": 7,
   "metadata": {},
   "outputs": [],
   "source": [
    "## This is the metadata for the first item I obtained from Synapse\n",
    "sampleMetaData = {\n",
    "    \"Acquisition_Method_Type\": \"Biopsy\",\n",
    "    \"Age_at_Diagnosis\": \"63\",\n",
    "    \"Bucket_url\": \"s3://htan-dcc-ohsu/imaging_level_2/BEMS267865_Scene-001.ome.tif\",\n",
    "    \"Center\": \"HTAN OHSU\",\n",
    "    \"DimensionOrder\": \"XYZCT\",\n",
    "    \"Ethnicity\": \"not hispanic or latino\",\n",
    "    \"File_Format\": \"OME-TIFF\",\n",
    "    \"File_size\": \"7537466355\",\n",
    "    \"Fixative_Type\": \"Formalin\",\n",
    "    \"GCS_timestamp\": \"\",\n",
    "    \"Gender\": \"female\",\n",
    "    \"HTAN_Biospecimen_ID\": \"HTA9_1_51\",\n",
    "    \"HTAN_Center\": \"OHSU\",\n",
    "    \"HTAN_Data_File_ID\": \"HTA9_1_19373\",\n",
    "    \"HTAN_Parent_ID\": \"HTA9_1_34\",\n",
    "    \"HTAN_Participant_ID\": \"HTA9_1\",\n",
    "    \"Histologic_Morphology_Code\": \"Not Reported\",\n",
    "    \"Imaging_Assay_Type\": \"CyCIF\",\n",
    "    \"Morphology\": \"8500/3\",\n",
    "    \"PhysicalSizeX\": \"0.325\",\n",
    "    \"PhysicalSizeXUnit\": \"µm\",\n",
    "    \"PhysicalSizeY\": \"0.325\",\n",
    "    \"PhysicalSizeYUnit\": \"µm\",\n",
    "    \"Preservation_Method\": \"Formalin fixed paraffin embedded - FFPE\",\n",
    "    \"Primary_Diagnosis\": \"Infiltrating duct carcinoma NOS\",\n",
    "    \"Race\": \"white\",\n",
    "    \"S3_timestamp\": \"2021-02-13 23:02:15+00:00\",\n",
    "    \"Site_of_Resection_or_Biopsy\": \"Liver\",\n",
    "    \"SizeC\": \"40\",\n",
    "    \"SizeT\": \"1\",\n",
    "    \"SizeX\": \"8001\",\n",
    "    \"SizeY\": \"20001\",\n",
    "    \"SizeZ\": \"12\",\n",
    "    \"Storage_Method\": \"Cut slide\",\n",
    "    \"SynapseID\": \"syn24829473\",\n",
    "    \"Synapse_file_path\": \"imaging_level_2/BEMS267865_Scene-001.ome.tif\",\n",
    "    \"Tissue_or_Organ_of_Origin\": \"Breast NOS\",\n",
    "    \"Tseries\": \"No\",\n",
    "    \"Tumor_Grade\": \"G3\",\n",
    "    \"Tumor_Tissue_Type\": \"Metastatic\",\n",
    "    \"Vital_Status\": \"Alive\",\n",
    "    \"Year_of_Diagnosis\": \"2010\",\n",
    "    \"Zstack\": \"No\"\n",
    "}"
   ]
  },
  {
   "cell_type": "code",
   "execution_count": 8,
   "metadata": {},
   "outputs": [
    {
     "data": {
      "text/plain": [
       "{'_id': '60403e803c5a0f47ead21e7f',\n",
       " '_modelType': 'item',\n",
       " 'baseParentId': '5fa99a0051de21dd08ca7dfa',\n",
       " 'baseParentType': 'collection',\n",
       " 'created': '2021-03-04T01:57:20.643000+00:00',\n",
       " 'creatorId': '5ebee66965f992910fa19570',\n",
       " 'description': '',\n",
       " 'folderId': '60403e803c5a0f47ead21e7e',\n",
       " 'largeImage': {'fileId': '60403e803c5a0f47ead21e80', 'sourceName': 'ometiff'},\n",
       " 'meta': {'htanMeta': {'Acquisition_Method_Type': 'Biopsy',\n",
       "   'Age_at_Diagnosis': '63',\n",
       "   'Bucket_url': 's3://htan-dcc-ohsu/imaging_level_2/BEMS267865_Scene-001.ome.tif',\n",
       "   'Center': 'HTAN OHSU',\n",
       "   'DimensionOrder': 'XYZCT',\n",
       "   'Ethnicity': 'not hispanic or latino',\n",
       "   'File_Format': 'OME-TIFF',\n",
       "   'File_size': '7537466355',\n",
       "   'Fixative_Type': 'Formalin',\n",
       "   'GCS_timestamp': '',\n",
       "   'Gender': 'female',\n",
       "   'HTAN_Biospecimen_ID': 'HTA9_1_51',\n",
       "   'HTAN_Center': 'OHSU',\n",
       "   'HTAN_Data_File_ID': 'HTA9_1_19373',\n",
       "   'HTAN_Parent_ID': 'HTA9_1_34',\n",
       "   'HTAN_Participant_ID': 'HTA9_1',\n",
       "   'Histologic_Morphology_Code': 'Not Reported',\n",
       "   'Imaging_Assay_Type': 'CyCIF',\n",
       "   'Morphology': '8500/3',\n",
       "   'PhysicalSizeX': '0.325',\n",
       "   'PhysicalSizeXUnit': 'µm',\n",
       "   'PhysicalSizeY': '0.325',\n",
       "   'PhysicalSizeYUnit': 'µm',\n",
       "   'Preservation_Method': 'Formalin fixed paraffin embedded - FFPE',\n",
       "   'Primary_Diagnosis': 'Infiltrating duct carcinoma NOS',\n",
       "   'Race': 'white',\n",
       "   'S3_timestamp': '2021-02-13 23:02:15+00:00',\n",
       "   'Site_of_Resection_or_Biopsy': 'Liver',\n",
       "   'SizeC': '40',\n",
       "   'SizeT': '1',\n",
       "   'SizeX': '8001',\n",
       "   'SizeY': '20001',\n",
       "   'SizeZ': '12',\n",
       "   'Storage_Method': 'Cut slide',\n",
       "   'SynapseID': 'syn24829473',\n",
       "   'Synapse_file_path': 'imaging_level_2/BEMS267865_Scene-001.ome.tif',\n",
       "   'Tissue_or_Organ_of_Origin': 'Breast NOS',\n",
       "   'Tseries': 'No',\n",
       "   'Tumor_Grade': 'G3',\n",
       "   'Tumor_Tissue_Type': 'Metastatic',\n",
       "   'Vital_Status': 'Alive',\n",
       "   'Year_of_Diagnosis': '2010',\n",
       "   'Zstack': 'No'}},\n",
       " 'name': 'BEMS267865_Scene-001.ome.tif',\n",
       " 'size': 7537466355,\n",
       " 'updated': '2021-03-29T18:11:19.182241+00:00'}"
      ]
     },
     "execution_count": 8,
     "metadata": {},
     "output_type": "execute_result"
    }
   ],
   "source": [
    "## By convention I am going to put this type of metadata in the htanMeta as the root key..\n",
    "gc.addMetadataToItem(ohsu_image_level_2_items[0]['_id'],{'htanMeta': sampleMetaData})\n",
    "\n",
    "# You can also browse the DSA link below and see the metadata we just added to the item\n",
    "# https://imaging.htan.dev/girder/#item/60403e803c5a0f47ead21e7f"
   ]
  },
  {
   "cell_type": "code",
   "execution_count": null,
   "metadata": {},
   "outputs": [],
   "source": [
    "htanMeta_imageMetaDataKeys = \n",
    "\n",
    "\n",
    "#    'Imaging_Assay_Type': 'CyCIF',\n",
    "#    'PhysicalSizeX': '0.325',\n",
    "#    'PhysicalSizeXUnit': 'µm',\n",
    "#    'PhysicalSizeY': '0.325',\n",
    "#    'PhysicalSizeYUnit': 'µm',\n",
    "#    'SizeC': '40',\n",
    "#    'SizeT': '1',\n",
    "#    'SizeX': '8001',\n",
    "#    'SizeY': '20001',\n",
    "#    'SizeZ': '12',\n",
    "#    'Zstack': 'No'}},\n",
    "#  'name': 'BEMS267865_Scene-001.ome.tif',\n",
    "\n",
    " \n"
   ]
  },
  {
   "cell_type": "code",
   "execution_count": 17,
   "metadata": {},
   "outputs": [
    {
     "ename": "HttpError",
     "evalue": "HTTP error 400: GET https://imaging.htan.dev/girder/api/v1/item/60403e803c5a0f47ead21e7f/tiles/internal_metadata\nResponse text: {\"message\": \"Not a recognized OME Tiff\", \"type\": \"rest\"}",
     "output_type": "error",
     "traceback": [
      "\u001b[0;31m---------------------------------------------------------------------------\u001b[0m",
      "\u001b[0;31mHttpError\u001b[0m                                 Traceback (most recent call last)",
      "\u001b[0;32m<ipython-input-17-aaaf4533cdd8>\u001b[0m in \u001b[0;36m<module>\u001b[0;34m\u001b[0m\n\u001b[1;32m      3\u001b[0m \u001b[0;34m\u001b[0m\u001b[0m\n\u001b[1;32m      4\u001b[0m \u001b[0;31m#itemInternalMetadata = gc.get(\"item/%s/tiles/internal_metadata\" % ohsu_image_level_2_items[2]['_id'])\u001b[0m\u001b[0;34m\u001b[0m\u001b[0;34m\u001b[0m\u001b[0;34m\u001b[0m\u001b[0m\n\u001b[0;32m----> 5\u001b[0;31m \u001b[0mgc\u001b[0m\u001b[0;34m.\u001b[0m\u001b[0mget\u001b[0m\u001b[0;34m(\u001b[0m\u001b[0;34m\"item/%s/tiles/internal_metadata\"\u001b[0m \u001b[0;34m%\u001b[0m \u001b[0;34m'60403e803c5a0f47ead21e7f'\u001b[0m\u001b[0;34m)\u001b[0m\u001b[0;34m\u001b[0m\u001b[0;34m\u001b[0m\u001b[0m\n\u001b[0m\u001b[1;32m      6\u001b[0m \u001b[0;31m#parseOmeTiffToHtanSpec(itemInternalMetadata)\u001b[0m\u001b[0;34m\u001b[0m\u001b[0;34m\u001b[0m\u001b[0;34m\u001b[0m\u001b[0m\n",
      "\u001b[0;32m~/.local/lib/python3.6/site-packages/girder_client/__init__.py\u001b[0m in \u001b[0;36mget\u001b[0;34m(self, path, parameters, jsonResp)\u001b[0m\n\u001b[1;32m    469\u001b[0m         \u001b[0mConvenience\u001b[0m \u001b[0mmethod\u001b[0m \u001b[0mto\u001b[0m \u001b[0mcall\u001b[0m \u001b[0;34m:\u001b[0m\u001b[0mpy\u001b[0m\u001b[0;34m:\u001b[0m\u001b[0mfunc\u001b[0m\u001b[0;34m:\u001b[0m\u001b[0;31m`\u001b[0m\u001b[0msendRestRequest\u001b[0m\u001b[0;31m`\u001b[0m \u001b[0;32mwith\u001b[0m \u001b[0mthe\u001b[0m \u001b[0;34m'GET'\u001b[0m \u001b[0mHTTP\u001b[0m \u001b[0mmethod\u001b[0m\u001b[0;34m.\u001b[0m\u001b[0;34m\u001b[0m\u001b[0;34m\u001b[0m\u001b[0m\n\u001b[1;32m    470\u001b[0m         \"\"\"\n\u001b[0;32m--> 471\u001b[0;31m         \u001b[0;32mreturn\u001b[0m \u001b[0mself\u001b[0m\u001b[0;34m.\u001b[0m\u001b[0msendRestRequest\u001b[0m\u001b[0;34m(\u001b[0m\u001b[0;34m'GET'\u001b[0m\u001b[0;34m,\u001b[0m \u001b[0mpath\u001b[0m\u001b[0;34m,\u001b[0m \u001b[0mparameters\u001b[0m\u001b[0;34m,\u001b[0m \u001b[0mjsonResp\u001b[0m\u001b[0;34m=\u001b[0m\u001b[0mjsonResp\u001b[0m\u001b[0;34m)\u001b[0m\u001b[0;34m\u001b[0m\u001b[0;34m\u001b[0m\u001b[0m\n\u001b[0m\u001b[1;32m    472\u001b[0m \u001b[0;34m\u001b[0m\u001b[0m\n\u001b[1;32m    473\u001b[0m     def post(self, path, parameters=None, files=None, data=None, json=None, headers=None,\n",
      "\u001b[0;32m~/.local/lib/python3.6/site-packages/girder_client/__init__.py\u001b[0m in \u001b[0;36msendRestRequest\u001b[0;34m(self, method, path, parameters, data, files, json, headers, jsonResp, **kwargs)\u001b[0m\n\u001b[1;32m    463\u001b[0m             raise HttpError(\n\u001b[1;32m    464\u001b[0m                 \u001b[0mstatus\u001b[0m\u001b[0;34m=\u001b[0m\u001b[0mresult\u001b[0m\u001b[0;34m.\u001b[0m\u001b[0mstatus_code\u001b[0m\u001b[0;34m,\u001b[0m \u001b[0murl\u001b[0m\u001b[0;34m=\u001b[0m\u001b[0mresult\u001b[0m\u001b[0;34m.\u001b[0m\u001b[0murl\u001b[0m\u001b[0;34m,\u001b[0m \u001b[0mmethod\u001b[0m\u001b[0;34m=\u001b[0m\u001b[0mmethod\u001b[0m\u001b[0;34m,\u001b[0m \u001b[0mtext\u001b[0m\u001b[0;34m=\u001b[0m\u001b[0mresult\u001b[0m\u001b[0;34m.\u001b[0m\u001b[0mtext\u001b[0m\u001b[0;34m,\u001b[0m\u001b[0;34m\u001b[0m\u001b[0;34m\u001b[0m\u001b[0m\n\u001b[0;32m--> 465\u001b[0;31m                 response=result)\n\u001b[0m\u001b[1;32m    466\u001b[0m \u001b[0;34m\u001b[0m\u001b[0m\n\u001b[1;32m    467\u001b[0m     \u001b[0;32mdef\u001b[0m \u001b[0mget\u001b[0m\u001b[0;34m(\u001b[0m\u001b[0mself\u001b[0m\u001b[0;34m,\u001b[0m \u001b[0mpath\u001b[0m\u001b[0;34m,\u001b[0m \u001b[0mparameters\u001b[0m\u001b[0;34m=\u001b[0m\u001b[0;32mNone\u001b[0m\u001b[0;34m,\u001b[0m \u001b[0mjsonResp\u001b[0m\u001b[0;34m=\u001b[0m\u001b[0;32mTrue\u001b[0m\u001b[0;34m)\u001b[0m\u001b[0;34m:\u001b[0m\u001b[0;34m\u001b[0m\u001b[0;34m\u001b[0m\u001b[0m\n",
      "\u001b[0;31mHttpError\u001b[0m: HTTP error 400: GET https://imaging.htan.dev/girder/api/v1/item/60403e803c5a0f47ead21e7f/tiles/internal_metadata\nResponse text: {\"message\": \"Not a recognized OME Tiff\", \"type\": \"rest\"}"
     ]
    }
   ],
   "source": [
    "## May also parse out the internal metadata here;  need to write a function to pull out specific internal metadata\n",
    "## We need to validate and/or extract to make sure the supplied metadata from Synapse is consistent\n",
    "\n",
    "#itemInternalMetadata = gc.get(\"item/%s/tiles/internal_metadata\" % ohsu_image_level_2_items[2]['_id'])\n",
    "gc.get(\"item/%s/tiles/internal_metadata\" % '60403e803c5a0f47ead21e7f')\n",
    "#parseOmeTiffToHtanSpec(itemInternalMetadata)"
   ]
  },
  {
   "cell_type": "code",
   "execution_count": 14,
   "metadata": {},
   "outputs": [
    {
     "data": {
      "text/plain": [
       "{'_id': '60403e803c5a0f47ead21e7f',\n",
       " '_modelType': 'item',\n",
       " 'baseParentId': '5fa99a0051de21dd08ca7dfa',\n",
       " 'baseParentType': 'collection',\n",
       " 'created': '2021-03-04T01:57:20.643000+00:00',\n",
       " 'creatorId': '5ebee66965f992910fa19570',\n",
       " 'description': '',\n",
       " 'folderId': '60403e803c5a0f47ead21e7e',\n",
       " 'largeImage': {'fileId': '60403e803c5a0f47ead21e80', 'sourceName': 'ometiff'},\n",
       " 'meta': {'htanMeta': {'Acquisition_Method_Type': 'Biopsy',\n",
       "   'Age_at_Diagnosis': '63',\n",
       "   'Bucket_url': 's3://htan-dcc-ohsu/imaging_level_2/BEMS267865_Scene-001.ome.tif',\n",
       "   'Center': 'HTAN OHSU',\n",
       "   'DimensionOrder': 'XYZCT',\n",
       "   'Ethnicity': 'not hispanic or latino',\n",
       "   'File_Format': 'OME-TIFF',\n",
       "   'File_size': '7537466355',\n",
       "   'Fixative_Type': 'Formalin',\n",
       "   'GCS_timestamp': '',\n",
       "   'Gender': 'female',\n",
       "   'HTAN_Biospecimen_ID': 'HTA9_1_51',\n",
       "   'HTAN_Center': 'OHSU',\n",
       "   'HTAN_Data_File_ID': 'HTA9_1_19373',\n",
       "   'HTAN_Parent_ID': 'HTA9_1_34',\n",
       "   'HTAN_Participant_ID': 'HTA9_1',\n",
       "   'Histologic_Morphology_Code': 'Not Reported',\n",
       "   'Imaging_Assay_Type': 'CyCIF',\n",
       "   'Morphology': '8500/3',\n",
       "   'PhysicalSizeX': '0.325',\n",
       "   'PhysicalSizeXUnit': 'µm',\n",
       "   'PhysicalSizeY': '0.325',\n",
       "   'PhysicalSizeYUnit': 'µm',\n",
       "   'Preservation_Method': 'Formalin fixed paraffin embedded - FFPE',\n",
       "   'Primary_Diagnosis': 'Infiltrating duct carcinoma NOS',\n",
       "   'Race': 'white',\n",
       "   'S3_timestamp': '2021-02-13 23:02:15+00:00',\n",
       "   'Site_of_Resection_or_Biopsy': 'Liver',\n",
       "   'SizeC': '40',\n",
       "   'SizeT': '1',\n",
       "   'SizeX': '8001',\n",
       "   'SizeY': '20001',\n",
       "   'SizeZ': '12',\n",
       "   'Storage_Method': 'Cut slide',\n",
       "   'SynapseID': 'syn24829473',\n",
       "   'Synapse_file_path': 'imaging_level_2/BEMS267865_Scene-001.ome.tif',\n",
       "   'Tissue_or_Organ_of_Origin': 'Breast NOS',\n",
       "   'Tseries': 'No',\n",
       "   'Tumor_Grade': 'G3',\n",
       "   'Tumor_Tissue_Type': 'Metastatic',\n",
       "   'Vital_Status': 'Alive',\n",
       "   'Year_of_Diagnosis': '2010',\n",
       "   'Zstack': 'No'}},\n",
       " 'name': 'BEMS267865_Scene-001.ome.tif',\n",
       " 'size': 7537466355,\n",
       " 'updated': '2021-03-25T20:56:21.577000+00:00'}"
      ]
     },
     "execution_count": 14,
     "metadata": {},
     "output_type": "execute_result"
    }
   ],
   "source": [
    "ohsu_image_level_2_items[0]"
   ]
  },
  {
   "cell_type": "code",
   "execution_count": 10,
   "metadata": {},
   "outputs": [],
   "source": [
    "def parseOmeTiffToHtanSpec(dsa_internal_metadata):\n",
    "    ### This expects the output from the DSA endpoint item/%s/tiles/internal_metadata\n",
    "    ### and parses out the fields needed to compare against the provided DCC metadata\n",
    "    if 'omeinfo' in dsa_internal_metadata:\n",
    "        print(\"Found OME Metadata\")\n",
    "        omeImageData = dsa_internal_metadata['omeinfo']['Image']\n",
    "        \n",
    "        if len(omeImageData) == 1:\n",
    "            omeImageData = omeImageData[0]\n",
    "        else:\n",
    "            ## Throw an exception and/or return None... not sure what to do if there is more than one image returned\n",
    "            print(\"More than one image detected; not sure what this means!\")\n",
    "            return None"
   ]
  },
  {
   "cell_type": "code",
   "execution_count": 12,
   "metadata": {},
   "outputs": [
    {
     "ename": "NameError",
     "evalue": "name 'itemInternalMetadata' is not defined",
     "output_type": "error",
     "traceback": [
      "\u001b[0;31m---------------------------------------------------------------------------\u001b[0m",
      "\u001b[0;31mNameError\u001b[0m                                 Traceback (most recent call last)",
      "\u001b[0;32m<ipython-input-12-03f5b9731298>\u001b[0m in \u001b[0;36m<module>\u001b[0;34m\u001b[0m\n\u001b[1;32m      3\u001b[0m \u001b[0mimageMetaDataKey\u001b[0m \u001b[0;34m=\u001b[0m \u001b[0;34m[\u001b[0m\u001b[0;34m'PhysicalSizeX'\u001b[0m\u001b[0;34m,\u001b[0m\u001b[0;34m'PhysicalSizeXUnit'\u001b[0m\u001b[0;34m,\u001b[0m\u001b[0;34m'PhysicalSizeY'\u001b[0m\u001b[0;34m,\u001b[0m\u001b[0;34m'PhysicalSizeYUnit'\u001b[0m\u001b[0;34m,\u001b[0m\u001b[0;34m'SignificantBits'\u001b[0m\u001b[0;34m,\u001b[0m\u001b[0;34m'SizeC'\u001b[0m\u001b[0;34m,\u001b[0m\u001b[0;34m'SizeT'\u001b[0m\u001b[0;34m,\u001b[0m\u001b[0;34m'SizeX'\u001b[0m\u001b[0;34m,\u001b[0m\u001b[0;34m'SizeY'\u001b[0m\u001b[0;34m,\u001b[0m\u001b[0;34m'SizeZ'\u001b[0m\u001b[0;34m]\u001b[0m\u001b[0;34m\u001b[0m\u001b[0;34m\u001b[0m\u001b[0m\n\u001b[1;32m      4\u001b[0m \u001b[0;34m\u001b[0m\u001b[0m\n\u001b[0;32m----> 5\u001b[0;31m \u001b[0mitemInternalMetadata\u001b[0m\u001b[0;34m[\u001b[0m\u001b[0;34m'omeinfo'\u001b[0m\u001b[0;34m]\u001b[0m\u001b[0;34m[\u001b[0m\u001b[0;34m'Image'\u001b[0m\u001b[0;34m]\u001b[0m\u001b[0;34m[\u001b[0m\u001b[0;36m0\u001b[0m\u001b[0;34m]\u001b[0m\u001b[0;34m\u001b[0m\u001b[0;34m\u001b[0m\u001b[0m\n\u001b[0m\u001b[1;32m      6\u001b[0m \u001b[0;34m\u001b[0m\u001b[0m\n\u001b[1;32m      7\u001b[0m \u001b[0;31m## The 'TiffData' is actually extractef by the DSA I believe... and not part of the OME XML file\u001b[0m\u001b[0;34m\u001b[0m\u001b[0;34m\u001b[0m\u001b[0;34m\u001b[0m\u001b[0m\n",
      "\u001b[0;31mNameError\u001b[0m: name 'itemInternalMetadata' is not defined"
     ]
    }
   ],
   "source": [
    "## This actually is an array.. for now I am assuming the array has a length of 1... will add a check\n",
    "\n",
    "imageMetaDataKey = ['PhysicalSizeX','PhysicalSizeXUnit','PhysicalSizeY','PhysicalSizeYUnit','SignificantBits','SizeC','SizeT','SizeX','SizeY','SizeZ']\n",
    "\n",
    "itemInternalMetadata['omeinfo']['Image'][0]\n",
    "\n",
    "## The 'TiffData' is actually extractef by the DSA I believe... and not part of the OME XML file "
   ]
  },
  {
   "cell_type": "code",
   "execution_count": null,
   "metadata": {},
   "outputs": [],
   "source": [
    "itemIn"
   ]
  }
 ],
 "metadata": {
  "kernelspec": {
   "display_name": "Python 3",
   "language": "python",
   "name": "python3"
  },
  "language_info": {
   "codemirror_mode": {
    "name": "ipython",
    "version": 3
   },
   "file_extension": ".py",
   "mimetype": "text/x-python",
   "name": "python",
   "nbconvert_exporter": "python",
   "pygments_lexer": "ipython3",
   "version": "3.6.9"
  }
 },
 "nbformat": 4,
 "nbformat_minor": 4
}
